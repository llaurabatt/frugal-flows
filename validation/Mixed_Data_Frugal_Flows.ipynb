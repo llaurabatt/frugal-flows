{
 "cells": [
  {
   "cell_type": "markdown",
   "id": "f05dc14a-b9f6-4de9-8a36-524db299b21d",
   "metadata": {},
   "source": [
    "# Mixed Data Frugal Flows\n",
    "\n",
    "In this notebook we demonstrate the ability for Frugal Flows to identify Marginal Causal Effects when dealing with a mix of discrete and continous variables."
   ]
  },
  {
   "cell_type": "code",
   "execution_count": 36,
   "id": "1628a626-5ea2-4cf5-b80c-2c8876f38ec3",
   "metadata": {},
   "outputs": [],
   "source": [
    "import sys\n",
    "import os\n",
    "sys.path.append(\"../\") # go to parent dir\n",
    "\n",
    "import jax\n",
    "import jax.random as jr\n",
    "import jax.numpy as jnp\n",
    "import matplotlib.pyplot as plt\n",
    "import numpy as np\n",
    "import pandas as pd\n",
    "import scipy\n",
    "import numpy as np\n",
    "from scipy.stats import rankdata\n",
    "import scipy.stats as ss\n",
    "import seaborn as sns\n",
    "from sklearn.model_selection import KFold\n",
    "\n",
    "# from data.create_sim_data import *\n",
    "import data.template_causl_simulations as causl_py\n",
    "from data.run_all_simulations import plot_simulation_results\n",
    "from frugal_flows.causal_flows import independent_continuous_marginal_flow, get_independent_quantiles, train_frugal_flow\n",
    "from frugal_flows.bijections import UnivariateNormalCDF\n",
    "\n",
    "import rpy2.robjects as ro\n",
    "from rpy2.robjects.packages import importr\n",
    "from rpy2.robjects import pandas2ri\n",
    "from rpy2.robjects.packages import SignatureTranslatedAnonymousPackage\n",
    "\n",
    "# Activate automatic conversion of rpy2 objects to pandas objects\n",
    "pandas2ri.activate()\n",
    "\n",
    "# Import the R library causl\n",
    "try:\n",
    "    causl = importr('causl')\n",
    "except Exception as e:\n",
    "    package_names = ('causl')\n",
    "    utils.install_packages(StrVector(package_names))\n",
    "\n",
    "jax.config.update(\"jax_enable_x64\", True)\n",
    "\n",
    "hyperparams_dict = {\n",
    "    'learning_rate': 3e-3,\n",
    "    'RQS_knots': 8,\n",
    "    'flow_layers': 5,\n",
    "    'nn_width': 50,\n",
    "    'nn_depth': 4,    \n",
    "    'max_patience': 50,\n",
    "    'max_epochs': 10000\n",
    "}\n",
    "\n",
    "SEED = 123\n",
    "NUM_ITER = 20\n",
    "NUM_SAMPLES = 20000\n",
    "TRUE_PARAMS = {'ate': 1, 'const': 1, 'scale': 1}\n",
    "CAUSAL_PARAMS = [1, 1]"
   ]
  },
  {
   "cell_type": "code",
   "execution_count": 37,
   "id": "7109a5dd-0d03-4e42-92a5-d0ea7cd7cacd",
   "metadata": {},
   "outputs": [
    {
     "name": "stderr",
     "output_type": "stream",
     "text": [
      "  1%|▊                                                                                             | 82/10000 [01:39<3:21:16,  1.22s/it, train=-0.41128846990938156, val=-0.3239833555386186 (Max patience reached)]\n",
      "  1%|▋                                                                                                | 73/10000 [01:25<3:13:26,  1.17s/it, train=1.3576480959655415, val=1.4213770076457195 (Max patience reached)]\n"
     ]
    },
    {
     "name": "stdout",
     "output_type": "stream",
     "text": [
      "{'ate': [Array(1.03476165, dtype=float64)], 'const': [Array(0.98425454, dtype=float64)]}\n",
      "{'ate': [Array(1.03967894, dtype=float64)], 'const': [Array(0.97304505, dtype=float64)]}\n"
     ]
    },
    {
     "name": "stderr",
     "output_type": "stream",
     "text": [
      "  1%|▊                                                                                            | 81/10000 [01:37<3:19:23,  1.21s/it, train=-0.43198191293233595, val=-0.37127043399561294 (Max patience reached)]\n",
      "  1%|▋                                                                                                | 77/10000 [01:31<3:15:49,  1.18s/it, train=1.3319012118971758, val=1.4075347249864625 (Max patience reached)]\n"
     ]
    },
    {
     "name": "stdout",
     "output_type": "stream",
     "text": [
      "{'ate': [Array(1.03476165, dtype=float64), Array(1.03289475, dtype=float64)], 'const': [Array(0.98425454, dtype=float64), Array(1.00024772, dtype=float64)]}\n",
      "{'ate': [Array(1.03967894, dtype=float64), Array(1.00896918, dtype=float64)], 'const': [Array(0.97304505, dtype=float64), Array(0.97387995, dtype=float64)]}\n"
     ]
    },
    {
     "name": "stderr",
     "output_type": "stream",
     "text": [
      "  1%|▊                                                                                              | 85/10000 [01:38<3:11:48,  1.16s/it, train=-0.448144863433613, val=-0.30107616924868064 (Max patience reached)]\n",
      "  1%|▋                                                                                                 | 70/10000 [01:22<3:14:59,  1.18s/it, train=1.327935106881753, val=1.4442452896004767 (Max patience reached)]\n"
     ]
    },
    {
     "name": "stdout",
     "output_type": "stream",
     "text": [
      "{'ate': [Array(1.03476165, dtype=float64), Array(1.03289475, dtype=float64), Array(1.02363634, dtype=float64)], 'const': [Array(0.98425454, dtype=float64), Array(1.00024772, dtype=float64), Array(0.97006195, dtype=float64)]}\n",
      "{'ate': [Array(1.03967894, dtype=float64), Array(1.00896918, dtype=float64), Array(1.07165726, dtype=float64)], 'const': [Array(0.97304505, dtype=float64), Array(0.97387995, dtype=float64), Array(0.97393777, dtype=float64)]}\n"
     ]
    },
    {
     "name": "stderr",
     "output_type": "stream",
     "text": [
      "  1%|▌                                                                                            | 67/10000 [01:17<3:12:10,  1.16s/it, train=-0.40931635079750145, val=-0.39728510125942956 (Max patience reached)]\n",
      "  1%|▋                                                                                                | 67/10000 [01:44<4:18:51,  1.56s/it, train=1.3606759368008245, val=1.4085474897134342 (Max patience reached)]\n"
     ]
    },
    {
     "name": "stdout",
     "output_type": "stream",
     "text": [
      "{'ate': [Array(1.03476165, dtype=float64), Array(1.03289475, dtype=float64), Array(1.02363634, dtype=float64), Array(1.11135723, dtype=float64)], 'const': [Array(0.98425454, dtype=float64), Array(1.00024772, dtype=float64), Array(0.97006195, dtype=float64), Array(0.92754435, dtype=float64)]}\n",
      "{'ate': [Array(1.03967894, dtype=float64), Array(1.00896918, dtype=float64), Array(1.07165726, dtype=float64), Array(1.13494542, dtype=float64)], 'const': [Array(0.97304505, dtype=float64), Array(0.97387995, dtype=float64), Array(0.97393777, dtype=float64), Array(0.91517848, dtype=float64)]}\n"
     ]
    },
    {
     "name": "stderr",
     "output_type": "stream",
     "text": [
      "  1%|▋                                                                                              | 69/10000 [01:23<3:20:35,  1.21s/it, train=-0.4213740631867528, val=-0.3353653037739957 (Max patience reached)]\n",
      "  1%|▊                                                                                                 | 77/10000 [01:29<3:11:40,  1.16s/it, train=1.344677016803782, val=1.4272019121431216 (Max patience reached)]"
     ]
    },
    {
     "name": "stdout",
     "output_type": "stream",
     "text": [
      "{'ate': [Array(1.03476165, dtype=float64), Array(1.03289475, dtype=float64), Array(1.02363634, dtype=float64), Array(1.11135723, dtype=float64), Array(1.06021987, dtype=float64)], 'const': [Array(0.98425454, dtype=float64), Array(1.00024772, dtype=float64), Array(0.97006195, dtype=float64), Array(0.92754435, dtype=float64), Array(0.96298439, dtype=float64)]}\n",
      "{'ate': [Array(1.03967894, dtype=float64), Array(1.00896918, dtype=float64), Array(1.07165726, dtype=float64), Array(1.13494542, dtype=float64), Array(1.01175074, dtype=float64)], 'const': [Array(0.97304505, dtype=float64), Array(0.97387995, dtype=float64), Array(0.97393777, dtype=float64), Array(0.91517848, dtype=float64), Array(0.98298227, dtype=float64)]}\n"
     ]
    },
    {
     "name": "stderr",
     "output_type": "stream",
     "text": [
      "\n"
     ]
    }
   ],
   "source": [
    "results = {'dequantised': {'ate': [], 'const': []}, 'copula': {'ate': [], 'const': []},}\n",
    "for i in range(5):\n",
    "    Z_disc, Z_cont, X, Y = causl_py.generate_discrete_samples(N=NUM_SAMPLES, causal_params=CAUSAL_PARAMS, seed=i).values()\n",
    "    ### QUANTISED\n",
    "    uz_samples = causl_py.generate_uz_samples(seed=i, Z_cont=jnp.hstack([Z_disc, Z_cont]))['uz_samples']\n",
    "    \n",
    "    for d in range(2):\n",
    "        uz_samples = uz_samples.at[:, d].set(uz_samples[:, d] + jr.normal(key=jr.PRNGKey(d*(i+1)), shape=(NUM_SAMPLES,))*0.05)\n",
    "    \n",
    "    ff, losses = train_frugal_flow(\n",
    "        key=jr.PRNGKey(i+1000),\n",
    "        y=Y,\n",
    "        u_z=uz_samples,\n",
    "        **hyperparams_dict,\n",
    "        condition=X\n",
    "    )\n",
    "    causal_margin = ff.bijection.bijections[-1].bijection.bijections[0]\n",
    "    results['dequantised']['ate'].append(causal_margin.ate)\n",
    "    results['dequantised']['const'].append(causal_margin.const)\n",
    "\n",
    "    #### ORIGINAL\n",
    "    uz_samples = causl_py.generate_uz_samples(seed=i, Z_cont=Z_cont, Z_disc=Z_disc)['uz_samples']\n",
    "        \n",
    "    ff, losses = train_frugal_flow(\n",
    "        key=jr.PRNGKey(i+1000),\n",
    "        y=Y,\n",
    "        u_z=uz_samples,\n",
    "        **hyperparams_dict,\n",
    "        condition=X\n",
    "    )\n",
    "    causal_margin = ff.bijection.bijections[-1].bijection.bijections[0]\n",
    "    results['copula']['ate'].append(causal_margin.ate)\n",
    "    results['copula']['const'].append(causal_margin.const)\n",
    "    print(results['dequantised'])\n",
    "    print(results['copula'])"
   ]
  },
  {
   "cell_type": "code",
   "execution_count": 38,
   "id": "0de48a1d-bd0d-4786-8c5f-9d7f788b93d0",
   "metadata": {},
   "outputs": [
    {
     "data": {
      "text/plain": [
       "{'dequantised': {'ate': [Array(1.03476165, dtype=float64),\n",
       "   Array(1.03289475, dtype=float64),\n",
       "   Array(1.02363634, dtype=float64),\n",
       "   Array(1.11135723, dtype=float64),\n",
       "   Array(1.06021987, dtype=float64)],\n",
       "  'const': [Array(0.98425454, dtype=float64),\n",
       "   Array(1.00024772, dtype=float64),\n",
       "   Array(0.97006195, dtype=float64),\n",
       "   Array(0.92754435, dtype=float64),\n",
       "   Array(0.96298439, dtype=float64)]},\n",
       " 'copula': {'ate': [Array(1.03967894, dtype=float64),\n",
       "   Array(1.00896918, dtype=float64),\n",
       "   Array(1.07165726, dtype=float64),\n",
       "   Array(1.13494542, dtype=float64),\n",
       "   Array(1.01175074, dtype=float64)],\n",
       "  'const': [Array(0.97304505, dtype=float64),\n",
       "   Array(0.97387995, dtype=float64),\n",
       "   Array(0.97393777, dtype=float64),\n",
       "   Array(0.91517848, dtype=float64),\n",
       "   Array(0.98298227, dtype=float64)]}}"
      ]
     },
     "execution_count": 38,
     "metadata": {},
     "output_type": "execute_result"
    }
   ],
   "source": [
    "results"
   ]
  },
  {
   "cell_type": "code",
   "execution_count": 28,
   "id": "3ad760d7-2c11-4fc7-96ab-c8e4de2ce71f",
   "metadata": {},
   "outputs": [],
   "source": [
    "causal_margin = ff.bijection.bijections[-1].bijection.bijections[0]"
   ]
  },
  {
   "cell_type": "code",
   "execution_count": 31,
   "id": "4eaa4da2-3af7-4724-a2bf-34a1f435d225",
   "metadata": {},
   "outputs": [
    {
     "data": {
      "text/plain": [
       "Array(1.15434103, dtype=float64)"
      ]
     },
     "execution_count": 31,
     "metadata": {},
     "output_type": "execute_result"
    }
   ],
   "source": [
    "causal_margin.ate"
   ]
  },
  {
   "cell_type": "code",
   "execution_count": null,
   "id": "bbc6334e-b0a5-4a67-b2db-2ffd84038f68",
   "metadata": {},
   "outputs": [],
   "source": []
  },
  {
   "cell_type": "code",
   "execution_count": null,
   "id": "09364194-91ea-4d45-9121-99f4cdeefc39",
   "metadata": {},
   "outputs": [],
   "source": []
  },
  {
   "cell_type": "code",
   "execution_count": null,
   "id": "04c01adc-9290-4459-8cac-ec41614641ff",
   "metadata": {},
   "outputs": [],
   "source": []
  },
  {
   "cell_type": "code",
   "execution_count": null,
   "id": "ba553fc7-67ae-4772-99e4-32b74825d9bc",
   "metadata": {},
   "outputs": [],
   "source": []
  },
  {
   "cell_type": "code",
   "execution_count": null,
   "id": "e54bf07c-1a77-41bd-9250-2da3d093fef0",
   "metadata": {},
   "outputs": [],
   "source": []
  },
  {
   "cell_type": "code",
   "execution_count": null,
   "id": "24cf33eb-b9ae-4e83-8d8f-b6e45362ce3c",
   "metadata": {},
   "outputs": [],
   "source": []
  },
  {
   "cell_type": "markdown",
   "id": "b6136417-f7d2-4a91-ab9f-4da293e82925",
   "metadata": {},
   "source": [
    "## For a single discrete parameter"
   ]
  },
  {
   "cell_type": "markdown",
   "id": "0f6c5e19-b1cb-4a4b-8a77-9b4bbc17afcb",
   "metadata": {},
   "source": [
    "Generating Normalised Data"
   ]
  },
  {
   "cell_type": "code",
   "execution_count": 7,
   "id": "623b16ce-e87f-4e2e-a7f6-a9fdfd980f39",
   "metadata": {},
   "outputs": [],
   "source": [
    "Z, X, Y = generate_gaussian_samples(2000, 1).values()"
   ]
  },
  {
   "cell_type": "code",
   "execution_count": null,
   "id": "7f2f7442-a2e4-4ea7-a466-d2d387710782",
   "metadata": {},
   "outputs": [],
   "source": [
    "def transform_var(Z, col_idx, inv_cdf):\n",
    "    return inv_cdf(\n",
    "            jax.scipy.special.ndtr(Z[:, col_idx])\n",
    "        )"
   ]
  },
  {
   "cell_type": "code",
   "execution_count": null,
   "id": "b7b69630-5b9c-4a01-ab98-1023839a70c5",
   "metadata": {},
   "outputs": [],
   "source": [
    "N = 20000\n",
    "\n",
    "keys = jr.split(jr.PRNGKey(0), 3)\n",
    "\n",
    "corr_matrix = jnp.array([\n",
    "    [1, 0.8, 0.6, 0.2, 0.1],\n",
    "    [0.8, 1, 0.4, 0.2, 0.1],\n",
    "    [0.6, 0.4, 1, 0.1, 0.1],\n",
    "    [0.2, 0.2, 0.1, 1, 0.1],\n",
    "    [0.1, 0.1, 0.1, 0.1, 1]\n",
    "])\n",
    "Z = jr.multivariate_normal(\n",
    "    keys[1], \n",
    "    jnp.array([0.,0.,0.,0.,0.]), \n",
    "    corr_matrix, \n",
    "    shape=(N,)\n",
    ")\n",
    "\n",
    "\n",
    "p = 1 / (\n",
    "    1 + jnp.exp(-jnp.sum((Z) * 0.5 + jnp.ones(shape=(Z.shape[0], Z.shape[1])), axis=1))\n",
    ")\n",
    "X = jr.bernoulli(key=jr.PRNGKey(1), p=p).astype(int)[:, None]\n",
    "Y = (jax.random.normal(keys[2], shape=(N,1)) + X + jnp.expand_dims(Z.sum(1), axis=1))\n",
    "\n",
    "poisson_icdf = lambda x: scipy.stats.poisson.ppf(x, mu=5)\n",
    "gamma_icdf = lambda x: scipy.stats.gamma.ppf(x, a=4)\n",
    "bernoulli_icdf = lambda x: scipy.stats.bernoulli.ppf(x, p=0.3)\n",
    "\n",
    "icdf_transforms = [poisson_icdf]#, bernoulli_icdf]#, gamma_icdf]\n",
    "for i, icdf in enumerate(icdf_transforms):\n",
    "    Z = Z.at[:, i].set(transform_var(Z, i, icdf))\n",
    "\n",
    "data_xdyc = pd.DataFrame(\n",
    "    jnp.concat([Y, X, Z], axis=1),\n",
    "    columns=['Y', 'X'] + [f\"Z{i+1}\" for i in range(Z.shape[1])]\n",
    ")\n",
    "\n",
    "res = get_independent_quantiles(\n",
    "    key = jr.PRNGKey(3),\n",
    "    z_discr=jnp.expand_dims(Z[:, 0],axis=1).astype(int), #impose discrete\n",
    "    # z_discr=Z[:, 0],\n",
    "    z_cont=Z[:, 1:],\n",
    "    RQS_knots=8,\n",
    "    flow_layers=8,\n",
    "    nn_width=20,\n",
    "    nn_depth=8,\n",
    "    max_epochs = 1000,\n",
    "    max_patience=100,\n",
    "    batch_size=200,\n",
    "    learning_rate=5e-3,\n",
    "    return_z_cont_flow = True,\n",
    " )\n",
    "# u_z = res['u_z_cont']\n"
   ]
  },
  {
   "cell_type": "code",
   "execution_count": null,
   "id": "6db63464-37c6-40e6-b40f-d6c8fabe5c28",
   "metadata": {},
   "outputs": [],
   "source": [
    "u_z = jnp.concat([res['u_z_discr'], res['u_z_cont']], axis=1)"
   ]
  },
  {
   "cell_type": "code",
   "execution_count": null,
   "id": "2e7d9b10-dfa1-41bc-bd59-57b96cd328dc",
   "metadata": {},
   "outputs": [],
   "source": [
    "col_names = [f\"U_Z{i}\" for i in range(Z.shape[1])]\n",
    "plot_data = pd.DataFrame(u_z, columns=col_names)\n",
    "plot_data.head()"
   ]
  },
  {
   "cell_type": "markdown",
   "id": "09ea10e5-051f-48ab-9e3c-aac049f00d61",
   "metadata": {},
   "source": [
    "The correlation matrices have very close to the same entries but the rows and columns are permuted."
   ]
  },
  {
   "cell_type": "code",
   "execution_count": null,
   "id": "c1dbec92-c144-434f-99b0-ac7cc7c56e31",
   "metadata": {},
   "outputs": [],
   "source": [
    "u_z[:,0].min()"
   ]
  },
  {
   "cell_type": "code",
   "execution_count": null,
   "id": "690bf3c1-0fd7-4e60-8bbf-24e4fbcb25ef",
   "metadata": {},
   "outputs": [],
   "source": [
    "u_z[:,0]==1"
   ]
  },
  {
   "cell_type": "code",
   "execution_count": null,
   "id": "82c06ef3-b8f3-4da1-a6cb-61cded7321be",
   "metadata": {},
   "outputs": [],
   "source": [
    "print(\"True Corr\")\n",
    "display(corr_matrix)\n",
    "print(\"Flow Corr\")\n",
    "display(jnp.corrcoef(jax.scipy.special.ndtri(u_z[u_z[:,0]!=1,]).T))\n",
    "sns.jointplot(x='U_Z1', y='U_Z2', data=plot_data, kind=\"scatter\");"
   ]
  },
  {
   "cell_type": "markdown",
   "id": "b7345eec-873b-4226-8410-48906f067c73",
   "metadata": {},
   "source": [
    "## Check conditional effect"
   ]
  },
  {
   "cell_type": "code",
   "execution_count": null,
   "id": "5f2c9678-9ee5-43da-aa30-45b30d7ceb5a",
   "metadata": {},
   "outputs": [],
   "source": [
    "data_xdyc.head()"
   ]
  },
  {
   "cell_type": "code",
   "execution_count": null,
   "id": "99e56d7a-803e-487d-b9c6-2e7ad72838af",
   "metadata": {},
   "outputs": [],
   "source": [
    "from sklearn.linear_model import LinearRegression\n",
    "from sklearn.preprocessing import OneHotEncoder\n",
    "\n",
    "df_reg = data_xdyc[['Y', 'X']]\n",
    "encoder = OneHotEncoder(drop='first')\n",
    "X_encoded = encoder.fit_transform(data_xdyc[['X']])\n",
    "model = LinearRegression()\n",
    "model.fit(X_encoded, df_reg['Y'])\n",
    "\n",
    "print(f\"Intercept: {model.intercept_}\")\n",
    "print(f\"Coefficients: {model.coef_}\")"
   ]
  },
  {
   "cell_type": "markdown",
   "id": "febfb413-f207-420b-8033-b599f642daa3",
   "metadata": {},
   "source": [
    "The data is **really** confounded!"
   ]
  },
  {
   "cell_type": "markdown",
   "id": "e2e8c7f6-a35f-435a-95fe-b077e9d39437",
   "metadata": {},
   "source": [
    "### Training the Frugal FLow"
   ]
  },
  {
   "cell_type": "code",
   "execution_count": null,
   "id": "a32cf366-47e3-4c53-a6cc-015b0c7dc793",
   "metadata": {},
   "outputs": [],
   "source": [
    "def return_fits(frugal_flow):\n",
    "    causal_margin = frugal_flow.bijection.bijections[-1].bijection.bijections[0]\n",
    "    return {\n",
    "        'ate': causal_margin.ate,\n",
    "        'const': causal_margin.const,\n",
    "        'scale': causal_margin.scale\n",
    "    }"
   ]
  },
  {
   "cell_type": "code",
   "execution_count": null,
   "id": "9ba11b9c-085c-46a4-a515-c5948be776a4",
   "metadata": {},
   "outputs": [],
   "source": [
    "frugal_flow, losses = train_frugal_flow(key=jr.PRNGKey(1),\n",
    "    y=Y,\n",
    "    u_z=u_z,\n",
    "    # u_z=res['u_z_cont'],\n",
    "    RQS_knots=10,\n",
    "    flow_layers=8,\n",
    "    nn_width=10,\n",
    "    nn_depth=8,\n",
    "    max_epochs = 1000,\n",
    "    max_patience=100,\n",
    "    batch_size=200,\n",
    "    learning_rate=5e-3,\n",
    "    condition=X\n",
    " )"
   ]
  },
  {
   "cell_type": "code",
   "execution_count": null,
   "id": "ae174bcb-7ff6-4833-aeda-962636d1aea6",
   "metadata": {},
   "outputs": [],
   "source": [
    "return_fits(frugal_flow)"
   ]
  },
  {
   "cell_type": "markdown",
   "id": "a8aa43e9-bd6a-4d88-9431-5ea60cae1b2c",
   "metadata": {},
   "source": [
    "Nice model fit!"
   ]
  },
  {
   "cell_type": "markdown",
   "id": "f5ad9369-a8a5-4eac-8d1f-5d682c66873b",
   "metadata": {},
   "source": [
    "## Diagnostics"
   ]
  },
  {
   "cell_type": "code",
   "execution_count": null,
   "id": "a2714bf1-68c9-463d-bc8c-c365ac202bef",
   "metadata": {},
   "outputs": [],
   "source": [
    "keys = jr.split(jr.PRNGKey(0), 3)\n",
    "frugal_flow_samples_0 = frugal_flow.sample(keys[0], condition=jnp.zeros((5000,1))) #\n",
    "frugal_flow_samples_1 = frugal_flow.sample(keys[1], condition=jnp.ones((5000,1))) #"
   ]
  },
  {
   "cell_type": "markdown",
   "id": "d9c04426-192e-4072-84b5-bd6daae2a512",
   "metadata": {},
   "source": [
    "### No correlation between $Y$ and $Z_1$ or $Z_2$"
   ]
  },
  {
   "cell_type": "code",
   "execution_count": null,
   "id": "da84712f-f9c0-4e08-84eb-43a8b54376a2",
   "metadata": {},
   "outputs": [],
   "source": [
    "frugal_flow_samples_0 = frugal_flow_samples_0.at[:, 1:].set(jax.scipy.special.ndtri(frugal_flow_samples_0[:, 1:]))\n",
    "frugal_flow_samples_1 = frugal_flow_samples_1.at[:, 1:].set(jax.scipy.special.ndtri(frugal_flow_samples_1[:, 1:]))"
   ]
  },
  {
   "cell_type": "markdown",
   "id": "d990409b-dfde-428e-8f9a-09f554746e97",
   "metadata": {},
   "source": [
    "True Correlation Matrix:"
   ]
  },
  {
   "cell_type": "markdown",
   "id": "fe2a7402-a630-4fd9-b990-52c2b163ab60",
   "metadata": {},
   "source": [
    "Flow outputs:"
   ]
  },
  {
   "cell_type": "code",
   "execution_count": null,
   "id": "be76e6a9-673a-4637-b9af-c006f13c322a",
   "metadata": {},
   "outputs": [],
   "source": [
    "jnp.corrcoef(frugal_flow_samples_0.T)"
   ]
  },
  {
   "cell_type": "code",
   "execution_count": null,
   "id": "e44a43c9-2f2c-4487-9745-68b6883f4411",
   "metadata": {},
   "outputs": [],
   "source": [
    "jnp.corrcoef(frugal_flow_samples_1.T)"
   ]
  },
  {
   "cell_type": "code",
   "execution_count": null,
   "id": "6375d888-f043-4042-9747-b64cd2f70136",
   "metadata": {},
   "outputs": [],
   "source": [
    "plt.scatter(*frugal_flow_samples_0[:,:2].T, label=\"Y-Z1\", s=3)\n",
    "plt.scatter(*frugal_flow_samples_0[:,[0,2]].T, label=\"Y-Z2\", s=3)\n",
    "\n",
    "# plt.scatter(*jax.scipy.special.ndtr(z).T, label=\"target\", s=2)\n",
    "plt.xlabel('u_y')\n",
    "plt.ylabel('u_z1')\n",
    "plt.legend()\n",
    "plt.show()"
   ]
  },
  {
   "cell_type": "markdown",
   "id": "306f4310-381d-4a45-aa16-75c92947c1ed",
   "metadata": {},
   "source": [
    "## For a multiple discrete parameter"
   ]
  },
  {
   "cell_type": "markdown",
   "id": "f1eae477-fc41-4a6e-b516-9895081d65e1",
   "metadata": {},
   "source": [
    "Generating Normalised Data"
   ]
  },
  {
   "cell_type": "code",
   "execution_count": null,
   "id": "3e7bae60-b356-4d75-9d16-568ea687d5b3",
   "metadata": {},
   "outputs": [],
   "source": [
    "def transform_var(Z, col_idx, inv_cdf):\n",
    "    return inv_cdf(\n",
    "            jax.scipy.special.ndtr(Z[:, col_idx])\n",
    "        )"
   ]
  },
  {
   "cell_type": "code",
   "execution_count": null,
   "id": "f534bee7-e492-45e4-9b37-b85289710b09",
   "metadata": {},
   "outputs": [],
   "source": [
    "N = 5000\n",
    "\n",
    "# marginal_Z = {\n",
    "#     'Z1': ss.norm(loc=0, scale=1),\n",
    "#     'Z2': ss.norm(loc=0, scale=1),\n",
    "#     'Z3': ss.norm(loc=3, scale=5),\n",
    "#     'Z4': ss.norm(loc=-1, scale=2),\n",
    "#     # 'Z5': ss.norm(loc=0, scale=1)\n",
    "# }\n",
    "# corr_matrix = np.array([\n",
    "#     [1, 0.8, 0.6, 0.2, 0.1],\n",
    "#     [0.8, 1, 0.4, 0.2, 0.1],\n",
    "#     [0.6, 0.4, 1, 0.1, 0.1],\n",
    "#     [0.2, 0.2, 0.1, 1, 0.1],\n",
    "#     [0.1, 0.1, 0.1, 0.1, 1]\n",
    "# ])\n",
    "# treatment_type = \"D\"\n",
    "# outcome_type = \"C\"\n",
    "# prop_score_weights = [1, 1, 1, 1]  # Check propscore weights are of same dim as Z\n",
    "# causal_params = [1, 1]\n",
    "# data_xdyc = simulate_data(N, corr_matrix, marginal_Z, prop_score_weights, \"D\", causal_params, \"C\")\n",
    "# df_Z = scipy.stats.zscore(data_xdyc[['Z1', 'Z2', 'Z3', 'Z4']].values)\n",
    "\n",
    "# Y = jnp.array(data_xdyc[['Y']].values)\n",
    "# X = jnp.array(data_xdyc[['X']].values)\n",
    "# Z = jnp.array(df_Z)\n",
    "\n",
    "keys = jr.split(jr.PRNGKey(0), 3)\n",
    "\n",
    "\n",
    "corr_matrix = jnp.array([\n",
    "    [1, 0.8, 0.6, 0.2, 0.1],\n",
    "    [0.8, 1, 0.4, 0.2, 0.1],\n",
    "    [0.6, 0.4, 1, 0.1, 0.1],\n",
    "    [0.2, 0.2, 0.1, 1, 0.1],\n",
    "    [0.1, 0.1, 0.1, 0.1, 1]\n",
    "])\n",
    "Z = jr.multivariate_normal(\n",
    "    keys[1], \n",
    "    jnp.array([0.,0.,0.,0.,0.]), \n",
    "    corr_matrix, \n",
    "    shape=(N,)\n",
    ")\n",
    "\n",
    "p = 1 / (\n",
    "    1 + jnp.exp(-jnp.sum((Z) * 0.5 * jnp.ones(shape=(Z.shape[0], Z.shape[1])), axis=1))\n",
    ")\n",
    "X = jr.bernoulli(key=jr.PRNGKey(1), p=p).astype(int)[:, None]\n",
    "Y = (jax.random.normal(keys[2], shape=(N,1)) + X + jnp.expand_dims(Z.sum(1), axis=1))\n",
    "\n",
    "poisson_icdf = lambda x: scipy.stats.poisson.ppf(x, mu=5)\n",
    "gamma_icdf = lambda x: scipy.stats.gamma.ppf(x, a=4)\n",
    "bernoulli_icdf = lambda x: scipy.stats.bernoulli.ppf(x, p=0.3)\n",
    "\n",
    "icdf_transforms = [poisson_icdf, bernoulli_icdf]#, gamma_icdf]\n",
    "for i, icdf in enumerate(icdf_transforms):\n",
    "    Z = Z.at[:, i].set(transform_var(Z, i, icdf))\n",
    "\n",
    "data_xdyc = pd.DataFrame(\n",
    "    jnp.concat([Y, X, Z], axis=1),\n",
    "    columns=['Y', 'X'] + [f\"Z{i+1}\" for i in range(Z.shape[1])]\n",
    ")\n",
    "\n",
    "res = get_independent_quantiles(\n",
    "    key = jr.PRNGKey(3),\n",
    "    z_discr=Z[:, [0, 1]].astype(int), #impose discrete\n",
    "    # z_discr=Z[:, 0],\n",
    "    z_cont=Z[:, 2:],\n",
    "    RQS_knots=10,\n",
    "    flow_layers=8,\n",
    "    nn_width=10,\n",
    "    nn_depth=8,\n",
    "    max_epochs = 1000,\n",
    "    max_patience=100,\n",
    "    batch_size=200,\n",
    "    learning_rate=5e-3,\n",
    "    return_z_cont_flow = True,\n",
    " )"
   ]
  },
  {
   "cell_type": "code",
   "execution_count": null,
   "id": "51c09890-3208-4126-9f07-8fd4d8ae2c22",
   "metadata": {},
   "outputs": [],
   "source": [
    "u_z = jnp.concat([res['u_z_discr'], res['u_z_cont']], axis=1)"
   ]
  },
  {
   "cell_type": "code",
   "execution_count": null,
   "id": "ca8f69c7-e698-4368-a65e-255a486386b1",
   "metadata": {},
   "outputs": [],
   "source": [
    "col_names = [f\"U_Z{i}\" for i in range(Z.shape[1])]\n",
    "plot_data = pd.DataFrame(u_z, columns=col_names)\n",
    "display(data_xdyc.head())\n",
    "display(plot_data.head())"
   ]
  },
  {
   "cell_type": "markdown",
   "id": "37f71ce9-9e3d-4659-a91b-993bd0d3a050",
   "metadata": {},
   "source": [
    "The correlation matrices have very close to the same entries but the rows and columns are permuted."
   ]
  },
  {
   "cell_type": "code",
   "execution_count": null,
   "id": "774bec57-1533-4c18-a4cb-09fee535f2fb",
   "metadata": {
    "scrolled": true
   },
   "outputs": [],
   "source": [
    "print(\"True Corr\")\n",
    "display(corr_matrix)\n",
    "print(\"Flow Corr\")\n",
    "display(jnp.corrcoef(jax.scipy.special.ndtri(u_z[u_z[:,0]!=1,]).T))\n",
    "sns.jointplot(x='U_Z1', y='U_Z2', data=plot_data, kind=\"scatter\");"
   ]
  },
  {
   "cell_type": "markdown",
   "id": "1126dc0a-dddf-4620-a6e4-7722575e1020",
   "metadata": {},
   "source": [
    "## Check conditional effect"
   ]
  },
  {
   "cell_type": "code",
   "execution_count": null,
   "id": "966441af-cb05-437e-bda9-e058f5f35630",
   "metadata": {},
   "outputs": [],
   "source": [
    "data_xdyc.head()"
   ]
  },
  {
   "cell_type": "code",
   "execution_count": null,
   "id": "2d204381-cb65-4a5a-9dc4-440cde19223a",
   "metadata": {},
   "outputs": [],
   "source": [
    "from sklearn.linear_model import LinearRegression\n",
    "from sklearn.preprocessing import OneHotEncoder\n",
    "\n",
    "df_reg = data_xdyc[['Y', 'X']]\n",
    "encoder = OneHotEncoder(drop='first')\n",
    "X_encoded = encoder.fit_transform(data_xdyc[['X']])\n",
    "model = LinearRegression()\n",
    "model.fit(X_encoded, df_reg['Y'])\n",
    "\n",
    "print(f\"Intercept: {model.intercept_}\")\n",
    "print(f\"Coefficients: {model.coef_}\")"
   ]
  },
  {
   "cell_type": "markdown",
   "id": "3f4364ef-25f5-4fb8-955b-98f872d2b333",
   "metadata": {},
   "source": [
    "The data is **really** confounded!"
   ]
  },
  {
   "cell_type": "markdown",
   "id": "bb850f02-49da-4a58-9b97-21703e37581a",
   "metadata": {},
   "source": [
    "### Training the Frugal FLow"
   ]
  },
  {
   "cell_type": "code",
   "execution_count": null,
   "id": "d2bb97d9-ba41-43ce-99c3-cf09608775ea",
   "metadata": {},
   "outputs": [],
   "source": [
    "def return_fits(frugal_flow):\n",
    "    causal_margin = frugal_flow.bijection.bijections[-1].bijection.bijections[0]\n",
    "    return {\n",
    "        'ate': causal_margin.ate,\n",
    "        'const': causal_margin.const,\n",
    "        'scale': causal_margin.scale\n",
    "    }"
   ]
  },
  {
   "cell_type": "code",
   "execution_count": null,
   "id": "ab836e37-9138-4e10-b1e3-6251a79562e1",
   "metadata": {},
   "outputs": [],
   "source": [
    "frugal_flow, losses = train_frugal_flow(key=jr.PRNGKey(1),\n",
    "    y=Y,\n",
    "    u_z=u_z,\n",
    "    # u_z=res['u_z_cont'],\n",
    "    learning_rate=5e-3,\n",
    "    RQS_knots=10,\n",
    "    flow_layers=8,\n",
    "    nn_width=10,\n",
    "    nn_depth=8,\n",
    "    batch_size=200,\n",
    "    max_patience=100,\n",
    "    max_epochs=10000,\n",
    "    condition=X\n",
    " )"
   ]
  },
  {
   "cell_type": "code",
   "execution_count": null,
   "id": "7aa46653-f2d3-4cd7-a8fc-d927065217c8",
   "metadata": {},
   "outputs": [],
   "source": [
    "return_fits(frugal_flow)"
   ]
  },
  {
   "cell_type": "markdown",
   "id": "fc668150-bf79-4fa2-ba88-aa22ede1be29",
   "metadata": {},
   "source": [
    "Nice model fit!"
   ]
  },
  {
   "cell_type": "markdown",
   "id": "658ce166-fa8e-48f9-a301-e4f79842277a",
   "metadata": {},
   "source": [
    "## Diagnostics"
   ]
  },
  {
   "cell_type": "code",
   "execution_count": null,
   "id": "5d5f2d3d-32fc-4b28-b32e-6523f108ef5f",
   "metadata": {},
   "outputs": [],
   "source": [
    "keys = jr.split(jr.PRNGKey(0), 3)\n",
    "frugal_flow_samples_0 = frugal_flow.sample(keys[0], condition=jnp.zeros((5000,1))) #\n",
    "frugal_flow_samples_1 = frugal_flow.sample(keys[1], condition=jnp.ones((5000,1))) #"
   ]
  },
  {
   "cell_type": "markdown",
   "id": "6671317b-ed84-4cc6-bf93-47d8771aeb3f",
   "metadata": {},
   "source": [
    "### No correlation between $Y$ and $Z_1$ or $Z_2$"
   ]
  },
  {
   "cell_type": "code",
   "execution_count": null,
   "id": "61befafd-bcfb-4a25-8e53-16fe51e96efa",
   "metadata": {},
   "outputs": [],
   "source": [
    "frugal_flow_samples_0 = frugal_flow_samples_0.at[:, 1:].set(jax.scipy.special.ndtri(frugal_flow_samples_0[:, 1:]))\n",
    "frugal_flow_samples_1 = frugal_flow_samples_1.at[:, 1:].set(jax.scipy.special.ndtri(frugal_flow_samples_1[:, 1:]))"
   ]
  },
  {
   "cell_type": "markdown",
   "id": "6ffea64e-4905-437c-8665-188764312e1a",
   "metadata": {},
   "source": [
    "True Correlation Matrix:"
   ]
  },
  {
   "cell_type": "markdown",
   "id": "7f90c369-6a4c-47b5-9a93-20e0735132ba",
   "metadata": {},
   "source": [
    "Flow outputs:"
   ]
  },
  {
   "cell_type": "code",
   "execution_count": null,
   "id": "8f2243eb-9ff9-4886-a233-b16f330d92f5",
   "metadata": {},
   "outputs": [],
   "source": [
    "jnp.corrcoef(frugal_flow_samples_0.T)"
   ]
  },
  {
   "cell_type": "code",
   "execution_count": null,
   "id": "0904e1a0-833a-49d4-ab02-640e27139827",
   "metadata": {},
   "outputs": [],
   "source": [
    "jnp.corrcoef(frugal_flow_samples_1.T)"
   ]
  },
  {
   "cell_type": "code",
   "execution_count": null,
   "id": "db7f75f6-310a-4085-b5ac-00201ad0c8ee",
   "metadata": {},
   "outputs": [],
   "source": [
    "plt.hist(frugal_flow_samples_0[:,0], alpha=0.3);\n",
    "plt.hist(frugal_flow_samples_0[:,1], alpha=0.3);\n",
    "plt.hist(frugal_flow_samples_0[:,2], alpha=0.3);"
   ]
  },
  {
   "cell_type": "code",
   "execution_count": null,
   "id": "36cb0349-452f-4358-baaf-f05292909beb",
   "metadata": {},
   "outputs": [],
   "source": [
    "plt.scatter(*frugal_flow_samples_0[:,:2].T, label=\"Y-Z1\", s=3)\n",
    "plt.scatter(*frugal_flow_samples_0[:,[0,2]].T, label=\"Y-Z2\", s=3)\n",
    "\n",
    "# plt.scatter(*jax.scipy.special.ndtr(z).T, label=\"target\", s=2)\n",
    "plt.xlabel('u_y')\n",
    "plt.ylabel('u_z1')\n",
    "plt.legend()\n",
    "plt.show()"
   ]
  },
  {
   "cell_type": "markdown",
   "id": "ffd4d67d-f391-42f5-ba58-693ecae0b57d",
   "metadata": {},
   "source": [
    "## For a multiple discrete parameter -- V2"
   ]
  },
  {
   "cell_type": "markdown",
   "id": "a99af4f4-9abb-4d71-8cc6-627668e70215",
   "metadata": {},
   "source": [
    "Generating Normalised Data"
   ]
  },
  {
   "cell_type": "code",
   "execution_count": null,
   "id": "b7b74862-ab24-41d1-8aa7-18421088c073",
   "metadata": {},
   "outputs": [],
   "source": [
    "def transform_var(Z, col_idx, inv_cdf):\n",
    "    return inv_cdf(\n",
    "            jax.scipy.special.ndtr(Z[:, col_idx])\n",
    "        )"
   ]
  },
  {
   "cell_type": "code",
   "execution_count": null,
   "id": "5c086dcd-3150-4811-8ed9-f12f8b54ec9f",
   "metadata": {},
   "outputs": [],
   "source": [
    "N = 10000\n",
    "\n",
    "# marginal_Z = {\n",
    "#     'Z1': ss.norm(loc=0, scale=1),\n",
    "#     'Z2': ss.norm(loc=0, scale=1),\n",
    "#     'Z3': ss.norm(loc=3, scale=5),\n",
    "#     'Z4': ss.norm(loc=-1, scale=2),\n",
    "#     # 'Z5': ss.norm(loc=0, scale=1)\n",
    "# }\n",
    "# corr_matrix = np.array([\n",
    "#     [1, 0.8, 0.6, 0.2, 0.1],\n",
    "#     [0.8, 1, 0.4, 0.2, 0.1],\n",
    "#     [0.6, 0.4, 1, 0.1, 0.1],\n",
    "#     [0.2, 0.2, 0.1, 1, 0.1],\n",
    "#     [0.1, 0.1, 0.1, 0.1, 1]\n",
    "# ])\n",
    "# treatment_type = \"D\"\n",
    "# outcome_type = \"C\"\n",
    "# prop_score_weights = [1, 1, 1, 1]  # Check propscore weights are of same dim as Z\n",
    "# causal_params = [1, 1]\n",
    "# data_xdyc = simulate_data(N, corr_matrix, marginal_Z, prop_score_weights, \"D\", causal_params, \"C\")\n",
    "# df_Z = scipy.stats.zscore(data_xdyc[['Z1', 'Z2', 'Z3', 'Z4']].values)\n",
    "\n",
    "# Y = jnp.array(data_xdyc[['Y']].values)\n",
    "# X = jnp.array(data_xdyc[['X']].values)\n",
    "# Z = jnp.array(df_Z)\n",
    "\n",
    "keys = jr.split(jr.PRNGKey(0), 3)\n",
    "\n",
    "\n",
    "corr_matrix = jnp.array([\n",
    "    [1, 0.8, 0.6, 0.2, 0.1],\n",
    "    [0.8, 1, 0.4, 0.2, 0.1],\n",
    "    [0.6, 0.4, 1, 0.1, 0.1],\n",
    "    [0.2, 0.2, 0.1, 1, 0.1],\n",
    "    [0.1, 0.1, 0.1, 0.1, 1]\n",
    "])\n",
    "Z = jr.multivariate_normal(\n",
    "    keys[1], \n",
    "    jnp.array([0.,0.,0.,0.,0.]), \n",
    "    corr_matrix, \n",
    "    shape=(N,)\n",
    ")\n",
    "Z = Z.at[:, 0].set(jr.bernoulli(key=jr.PRNGKey(9999), p=0.5, shape=(N,)))\n",
    "\n",
    "p = 1 / (\n",
    "    1 + jnp.exp(-jnp.sum((Z) * 0.5 * jnp.ones(shape=(Z.shape[0], Z.shape[1])), axis=1))\n",
    ")\n",
    "X = jr.bernoulli(key=jr.PRNGKey(1), p=p).astype(int)[:, None]\n",
    "Y = (jax.random.normal(keys[2], shape=(N,1)) + X + jnp.expand_dims(Z.sum(1), axis=1) - 0.5)\n",
    "\n",
    "# poisson_icdf = lambda x: scipy.stats.poisson.ppf(x, mu=5)\n",
    "# gamma_icdf = lambda x: scipy.stats.gamma.ppf(x, a=4)\n",
    "# bernoulli_icdf = lambda x: scipy.stats.bernoulli.ppf(x, p=0.3)\n",
    "\n",
    "# icdf_transforms = [poisson_icdf]#, bernoulli_icdf]#, gamma_icdf]\n",
    "# for i, icdf in enumerate(icdf_transforms):\n",
    "#     Z = Z.at[:, i].set(transform_var(Z, i, icdf))\n",
    "\n",
    "data_xdyc = pd.DataFrame(\n",
    "    jnp.concat([Y, X, Z], axis=1),\n",
    "    columns=['Y', 'X'] + [f\"Z{i+1}\" for i in range(Z.shape[1])]\n",
    ")\n",
    "\n",
    "res = get_independent_quantiles(\n",
    "    key = jr.PRNGKey(3),\n",
    "    z_discr=Z[:, 0].astype(int)[:, None], #impose discrete\n",
    "    # z_discr=Z[:, 0],\n",
    "    z_cont=Z[:, 1:],\n",
    "    RQS_knots=10,\n",
    "    flow_layers=8,\n",
    "    nn_width=10,\n",
    "    nn_depth=8,\n",
    "    max_epochs = 1000,\n",
    "    max_patience=100,\n",
    "    batch_size=200,\n",
    "    learning_rate=5e-3,\n",
    "    return_z_cont_flow = True,\n",
    " )"
   ]
  },
  {
   "cell_type": "code",
   "execution_count": null,
   "id": "834177ce-ed04-4217-9017-71b64d8161cd",
   "metadata": {},
   "outputs": [],
   "source": [
    "u_z = jnp.concat([res['u_z_discr'], res['u_z_cont']], axis=1)"
   ]
  },
  {
   "cell_type": "code",
   "execution_count": null,
   "id": "994fc911-0621-41c6-ace6-0c297e700182",
   "metadata": {},
   "outputs": [],
   "source": [
    "col_names = [f\"U_Z{i}\" for i in range(Z.shape[1])]\n",
    "plot_data = pd.DataFrame(u_z, columns=col_names)\n",
    "display(data_xdyc.head())\n",
    "display(plot_data.head())"
   ]
  },
  {
   "cell_type": "markdown",
   "id": "82444e0c-436c-4159-a134-f897e3575219",
   "metadata": {},
   "source": [
    "The correlation matrices have very close to the same entries but the rows and columns are permuted."
   ]
  },
  {
   "cell_type": "code",
   "execution_count": null,
   "id": "d7c9a454-2885-4eff-b1b7-d5715de757e4",
   "metadata": {
    "scrolled": true
   },
   "outputs": [],
   "source": [
    "print(\"True Corr\")\n",
    "display(corr_matrix)\n",
    "print(\"Flow Corr\")\n",
    "display(jnp.corrcoef(jax.scipy.special.ndtri(u_z[u_z[:,0]!=1,]).T))\n",
    "sns.jointplot(x='U_Z1', y='U_Z2', data=plot_data, kind=\"scatter\");"
   ]
  },
  {
   "cell_type": "markdown",
   "id": "d8965f78-dd54-4f03-944e-9fba77f1a4fd",
   "metadata": {},
   "source": [
    "## Check conditional effect"
   ]
  },
  {
   "cell_type": "code",
   "execution_count": null,
   "id": "27cc87c0-f928-4451-84d1-bbdb1273d454",
   "metadata": {},
   "outputs": [],
   "source": [
    "data_xdyc.head()"
   ]
  },
  {
   "cell_type": "code",
   "execution_count": null,
   "id": "7c15b5b1-c6ce-4fee-a3c7-00544adfc6f2",
   "metadata": {},
   "outputs": [],
   "source": [
    "from sklearn.linear_model import LinearRegression\n",
    "from sklearn.preprocessing import OneHotEncoder\n",
    "\n",
    "df_reg = data_xdyc[['Y', 'X']]\n",
    "encoder = OneHotEncoder(drop='first')\n",
    "X_encoded = encoder.fit_transform(data_xdyc[['X']])\n",
    "model = LinearRegression()\n",
    "model.fit(X_encoded, df_reg['Y'])\n",
    "\n",
    "print(f\"Intercept: {model.intercept_}\")\n",
    "print(f\"Coefficients: {model.coef_}\")"
   ]
  },
  {
   "cell_type": "markdown",
   "id": "801d9839-60de-42a1-82fb-cd26eb4d55f4",
   "metadata": {},
   "source": [
    "The data is **really** confounded!"
   ]
  },
  {
   "cell_type": "markdown",
   "id": "746d004f-994b-457a-9c22-bbbe1f7bf70c",
   "metadata": {},
   "source": [
    "### Training the Frugal FLow"
   ]
  },
  {
   "cell_type": "code",
   "execution_count": null,
   "id": "84728fc5-fdb4-4f56-b694-a8ad0f197143",
   "metadata": {},
   "outputs": [],
   "source": [
    "def return_fits(frugal_flow):\n",
    "    causal_margin = frugal_flow.bijection.bijections[-1].bijection.bijections[0]\n",
    "    return {\n",
    "        'ate': causal_margin.ate,\n",
    "        'const': causal_margin.const,\n",
    "        'scale': causal_margin.scale\n",
    "    }"
   ]
  },
  {
   "cell_type": "code",
   "execution_count": null,
   "id": "13aa440f-3caa-4960-9221-b5a53968236b",
   "metadata": {},
   "outputs": [],
   "source": [
    "frugal_flow, losses = train_frugal_flow(key=jr.PRNGKey(1),\n",
    "    y=Y,\n",
    "    u_z=u_z,\n",
    "    # u_z=res['u_z_cont'],\n",
    "    learning_rate=1e-3,\n",
    "    RQS_knots=10,\n",
    "    flow_layers=8,\n",
    "    nn_width=10,\n",
    "    nn_depth=8,\n",
    "    batch_size=200,\n",
    "    max_patience=50,\n",
    "    max_epochs=10000,\n",
    "    condition=X\n",
    " )"
   ]
  },
  {
   "cell_type": "code",
   "execution_count": null,
   "id": "48fe7606-7d96-47c0-8fc0-ef3911ea0b34",
   "metadata": {},
   "outputs": [],
   "source": [
    "return_fits(frugal_flow)"
   ]
  },
  {
   "cell_type": "markdown",
   "id": "9849ec1c-5ac2-4a63-8991-7ad98bf5af31",
   "metadata": {},
   "source": [
    "Now I get a good fit!"
   ]
  },
  {
   "cell_type": "markdown",
   "id": "199d473d-c758-43b6-9c78-27ecd1052d02",
   "metadata": {},
   "source": [
    "## Diagnostics"
   ]
  },
  {
   "cell_type": "code",
   "execution_count": null,
   "id": "443b364a-85dd-49e7-9b55-87d88aff5d38",
   "metadata": {},
   "outputs": [],
   "source": [
    "keys = jr.split(jr.PRNGKey(0), 3)\n",
    "frugal_flow_samples_0 = frugal_flow.sample(keys[0], condition=jnp.zeros((5000,1))) #\n",
    "frugal_flow_samples_1 = frugal_flow.sample(keys[1], condition=jnp.ones((5000,1))) #"
   ]
  },
  {
   "cell_type": "markdown",
   "id": "06c6bad9-cd38-49ad-b358-0f19920cd727",
   "metadata": {},
   "source": [
    "### No correlation between $Y$ and $Z_1$ or $Z_2$"
   ]
  },
  {
   "cell_type": "code",
   "execution_count": null,
   "id": "efce954c-6bd9-4c0c-872d-9b9307fa7832",
   "metadata": {},
   "outputs": [],
   "source": [
    "frugal_flow_samples_0 = frugal_flow_samples_0.at[:, 1:].set(jax.scipy.special.ndtri(frugal_flow_samples_0[:, 1:]))\n",
    "frugal_flow_samples_1 = frugal_flow_samples_1.at[:, 1:].set(jax.scipy.special.ndtri(frugal_flow_samples_1[:, 1:]))"
   ]
  },
  {
   "cell_type": "markdown",
   "id": "4645e88d-6117-44de-961c-1a7bd8223c85",
   "metadata": {},
   "source": [
    "True Correlation Matrix:"
   ]
  },
  {
   "cell_type": "markdown",
   "id": "0ddf641d-fd95-4eab-ad71-af2e5427b381",
   "metadata": {},
   "source": [
    "Flow outputs:"
   ]
  },
  {
   "cell_type": "code",
   "execution_count": null,
   "id": "c74f5517-fafa-483c-80a7-55cffd68967c",
   "metadata": {},
   "outputs": [],
   "source": [
    "jnp.corrcoef(frugal_flow_samples_0.T)"
   ]
  },
  {
   "cell_type": "code",
   "execution_count": null,
   "id": "74ca131e-bcff-433d-b036-cf64e1dfa7bd",
   "metadata": {},
   "outputs": [],
   "source": [
    "jnp.corrcoef(frugal_flow_samples_1.T)"
   ]
  },
  {
   "cell_type": "code",
   "execution_count": null,
   "id": "55111abd-18b8-46d8-a7cf-77180c8e398c",
   "metadata": {},
   "outputs": [],
   "source": [
    "plt.hist(frugal_flow_samples_0[:,0], alpha=0.3);\n",
    "plt.hist(frugal_flow_samples_0[:,1], alpha=0.3);\n",
    "plt.hist(frugal_flow_samples_0[:,2], alpha=0.3);"
   ]
  },
  {
   "cell_type": "code",
   "execution_count": null,
   "id": "60e3d883-d794-48f4-8c4c-f69772e8b6a3",
   "metadata": {},
   "outputs": [],
   "source": [
    "plt.scatter(*frugal_flow_samples_0[:,:2].T, label=\"Y-Z1\", s=3)\n",
    "plt.scatter(*frugal_flow_samples_0[:,[0,2]].T, label=\"Y-Z2\", s=3)\n",
    "\n",
    "# plt.scatter(*jax.scipy.special.ndtr(z).T, label=\"target\", s=2)\n",
    "plt.xlabel('u_y')\n",
    "plt.ylabel('u_z1')\n",
    "plt.legend()\n",
    "plt.show()"
   ]
  }
 ],
 "metadata": {
  "kernelspec": {
   "display_name": "Python 3 (ipykernel)",
   "language": "python",
   "name": "python3"
  },
  "language_info": {
   "codemirror_mode": {
    "name": "ipython",
    "version": 3
   },
   "file_extension": ".py",
   "mimetype": "text/x-python",
   "name": "python",
   "nbconvert_exporter": "python",
   "pygments_lexer": "ipython3",
   "version": "3.11.8"
  }
 },
 "nbformat": 4,
 "nbformat_minor": 5
}
