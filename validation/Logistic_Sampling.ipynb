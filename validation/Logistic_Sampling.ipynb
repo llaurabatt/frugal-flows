{
 "cells": [
  {
   "cell_type": "markdown",
   "id": "35588030-5964-46a4-8b32-9912bb8375f3",
   "metadata": {},
   "source": [
    "# Logistic Sampling"
   ]
  },
  {
   "cell_type": "markdown",
   "id": "545806b6-5c21-4e2d-9e86-741f560ecd21",
   "metadata": {},
   "source": [
    "We present an example showing how logistic outcomes can be sampled from exactly."
   ]
  },
  {
   "cell_type": "code",
   "execution_count": 1,
   "id": "ab2ef343-7884-44f8-b0f4-6410d716e7b1",
   "metadata": {},
   "outputs": [],
   "source": [
    "import itertools\n",
    "import random\n",
    "import sys\n",
    "import os\n",
    "sys.path.append(\"../\") # go to parent dir\n",
    "\n",
    "import jax\n",
    "import jax.random as jr\n",
    "import jax.numpy as jnp\n",
    "import matplotlib.pyplot as plt\n",
    "import numpy as np\n",
    "import pandas as pd\n",
    "import scipy\n",
    "import numpy as np\n",
    "from scipy.stats import rankdata\n",
    "from jax.scipy.special import expit\n",
    "import scipy.stats as ss\n",
    "import seaborn as sns\n",
    "from sklearn.model_selection import KFold\n",
    "\n",
    "jnp.set_printoptions(precision=2)\n",
    "\n",
    "# from data.create_sim_data import *\n",
    "import data.template_causl_simulations as causl_py\n",
    "from data.run_all_simulations import plot_simulation_results\n",
    "import data.hyperparam_and_bootstrapping as hb\n",
    "from frugal_flows.causal_flows import independent_continuous_marginal_flow, get_independent_quantiles, train_frugal_flow, train_copula_flow\n",
    "from frugal_flows.bijections import UnivariateNormalCDF\n",
    "from frugal_flows.benchmarking import FrugalFlowModel\n",
    "\n",
    "import rpy2.robjects as ro\n",
    "from rpy2.robjects.packages import importr\n",
    "from rpy2.robjects import pandas2ri\n",
    "from rpy2.robjects.packages import SignatureTranslatedAnonymousPackage\n",
    "import wandb\n",
    "\n",
    "# Activate automatic conversion of rpy2 objects to pandas objects\n",
    "pandas2ri.activate()\n",
    "\n",
    "# Import the R library causl\n",
    "try:\n",
    "    causl = importr('causl')\n",
    "except Exception as e:\n",
    "    package_names = ('causl')\n",
    "    utils.install_packages(StrVector(package_names))\n",
    "\n",
    "\n",
    "hyperparams_dict = {\n",
    "    'learning_rate': 5e-3,\n",
    "    'RQS_knots': 8,\n",
    "    'flow_layers': 5,\n",
    "    'nn_width': 30,\n",
    "    'nn_depth': 4,    \n",
    "    'max_patience': 100,\n",
    "    'max_epochs': 10000\n",
    "}\n",
    "\n",
    "jax.config.update(\"jax_enable_x64\", True)"
   ]
  },
  {
   "cell_type": "code",
   "execution_count": 2,
   "id": "06d04d48-ddd4-4632-9035-eef2294a0d9c",
   "metadata": {},
   "outputs": [
    {
     "name": "stderr",
     "output_type": "stream",
     "text": [
      "R[write to console]: Inversion method selected: using pair-copula parameterization\n",
      "\n"
     ]
    },
    {
     "name": "stdout",
     "output_type": "stream",
     "text": [
      "CPU times: user 9.05 ms, sys: 1.87 ms, total: 10.9 ms\n",
      "Wall time: 10.6 ms\n"
     ]
    }
   ],
   "source": [
    "%%time\n",
    "mixed_cont_rscript = f\"\"\"\n",
    "library(causl)\n",
    "forms <- list(list(Z1 ~ 1), X ~ Z1, Y ~ X, ~ 1)\n",
    "fams <- list(1, 5, 1, 1)\n",
    "pars <- list(Z1 = list(beta=0, phi=2),\n",
    "             X = list(beta=c(0,2)),\n",
    "             Y = list(beta=c(0,2), phi=1),\n",
    "             cop = list(beta=matrix(c(0.8), nrow=1)))\n",
    "\n",
    "\n",
    "\n",
    "set.seed(1234)\n",
    "n <- 1e3\n",
    "\n",
    "data_samples <- rfrugalParam(n, formulas = forms, family = fams, pars = pars)\n",
    "\"\"\"\n",
    "rcode_compiled = SignatureTranslatedAnonymousPackage(mixed_cont_rscript, \"powerpack\")\n",
    "df = rcode_compiled.data_samples"
   ]
  },
  {
   "cell_type": "code",
   "execution_count": null,
   "id": "2d15f6d3-612f-49b1-8b1a-45a78f61c2ea",
   "metadata": {},
   "outputs": [],
   "source": []
  },
  {
   "cell_type": "code",
   "execution_count": 3,
   "id": "111418a4-f5cd-42e6-b752-ac492d0609f0",
   "metadata": {},
   "outputs": [],
   "source": [
    "logistic_flow = FrugalFlowModel(\n",
    "    Y=jnp.array(df['Y'].values)[:, None], \n",
    "    X=jnp.array(df['X'].values)[:, None],\n",
    "    Z_cont=jnp.array(df['Z1'].values)[:, None],\n",
    ")"
   ]
  },
  {
   "cell_type": "code",
   "execution_count": 4,
   "id": "a8f597f4-bbef-4c00-887b-c1fa545216c6",
   "metadata": {},
   "outputs": [
    {
     "name": "stderr",
     "output_type": "stream",
     "text": [
      "  2%|█▎                                                      | 239/10000 [00:12<08:12, 19.81it/s, train=1.7414300345333242, val=1.8217514738657479 (Max patience reached)]\n"
     ]
    },
    {
     "ename": "AttributeError",
     "evalue": "'int' object has no attribute 'shape'",
     "output_type": "error",
     "traceback": [
      "\u001b[0;31m---------------------------------------------------------------------------\u001b[0m",
      "\u001b[0;31mAttributeError\u001b[0m                            Traceback (most recent call last)",
      "Cell \u001b[0;32mIn[4], line 1\u001b[0m\n\u001b[0;32m----> 1\u001b[0m \u001b[43mlogistic_flow\u001b[49m\u001b[38;5;241;43m.\u001b[39;49m\u001b[43mtrain_benchmark_model\u001b[49m\u001b[43m(\u001b[49m\n\u001b[1;32m      2\u001b[0m \u001b[43m    \u001b[49m\u001b[43mtraining_seed\u001b[49m\u001b[38;5;241;43m=\u001b[39;49m\u001b[43mjr\u001b[49m\u001b[38;5;241;43m.\u001b[39;49m\u001b[43mPRNGKey\u001b[49m\u001b[43m(\u001b[49m\u001b[38;5;241;43m0\u001b[39;49m\u001b[43m)\u001b[49m\u001b[43m,\u001b[49m\u001b[43m \u001b[49m\n\u001b[1;32m      3\u001b[0m \u001b[43m    \u001b[49m\u001b[43mmarginal_hyperparam_dict\u001b[49m\u001b[38;5;241;43m=\u001b[39;49m\u001b[43mhyperparams_dict\u001b[49m\u001b[43m,\u001b[49m\u001b[43m \u001b[49m\n\u001b[1;32m      4\u001b[0m \u001b[43m    \u001b[49m\u001b[43mfrugal_hyperparam_dict\u001b[49m\u001b[38;5;241;43m=\u001b[39;49m\u001b[43mhyperparams_dict\u001b[49m\u001b[43m,\u001b[49m\u001b[43m \u001b[49m\n\u001b[1;32m      5\u001b[0m \u001b[43m    \u001b[49m\u001b[43mprop_flow_hyperparam_dict\u001b[49m\u001b[38;5;241;43m=\u001b[39;49m\u001b[43mhyperparams_dict\u001b[49m\u001b[43m,\u001b[49m\n\u001b[1;32m      6\u001b[0m \u001b[43m    \u001b[49m\u001b[43mcausal_model\u001b[49m\u001b[38;5;241;43m=\u001b[39;49m\u001b[38;5;124;43m'\u001b[39;49m\u001b[38;5;124;43mgaussian\u001b[39;49m\u001b[38;5;124;43m'\u001b[39;49m\u001b[43m,\u001b[49m\u001b[43m \u001b[49m\n\u001b[1;32m      7\u001b[0m \u001b[43m    \u001b[49m\u001b[43mcausal_model_args\u001b[49m\u001b[38;5;241;43m=\u001b[39;49m\u001b[43m{\u001b[49m\u001b[38;5;124;43m'\u001b[39;49m\u001b[38;5;124;43mate\u001b[39;49m\u001b[38;5;124;43m'\u001b[39;49m\u001b[43m:\u001b[49m\u001b[43m \u001b[49m\u001b[38;5;241;43m0\u001b[39;49m\u001b[43m,\u001b[49m\u001b[43m \u001b[49m\u001b[38;5;124;43m'\u001b[39;49m\u001b[38;5;124;43mconst\u001b[39;49m\u001b[38;5;124;43m'\u001b[39;49m\u001b[43m:\u001b[49m\u001b[43m \u001b[49m\u001b[38;5;241;43m0\u001b[39;49m\u001b[43m,\u001b[49m\u001b[43m \u001b[49m\u001b[38;5;124;43m'\u001b[39;49m\u001b[38;5;124;43mscale\u001b[39;49m\u001b[38;5;124;43m'\u001b[39;49m\u001b[43m:\u001b[49m\u001b[43m \u001b[49m\u001b[38;5;241;43m1\u001b[39;49m\u001b[43m}\u001b[49m\n\u001b[1;32m      8\u001b[0m \u001b[43m)\u001b[49m\n",
      "File \u001b[0;32m~/Library/CloudStorage/GoogleDrive-danielmanela@gmail.com/My Drive/work/deep-copula-frugal/validation/../frugal_flows/benchmarking.py:71\u001b[0m, in \u001b[0;36mFrugalFlowModel.train_benchmark_model\u001b[0;34m(self, training_seed, marginal_hyperparam_dict, frugal_hyperparam_dict, causal_model, causal_model_args, prop_flow_hyperparam_dict)\u001b[0m\n\u001b[1;32m     69\u001b[0m training_seeds \u001b[38;5;241m=\u001b[39m jr\u001b[38;5;241m.\u001b[39msplit(training_seed, \u001b[38;5;241m20\u001b[39m)\n\u001b[1;32m     70\u001b[0m \u001b[38;5;28mself\u001b[39m\u001b[38;5;241m.\u001b[39mtrain_marginal_cdfs(training_seeds[\u001b[38;5;241m0\u001b[39m], marginal_hyperparam_dict)\n\u001b[0;32m---> 71\u001b[0m \u001b[38;5;28;43mself\u001b[39;49m\u001b[38;5;241;43m.\u001b[39;49m\u001b[43mtrain_frugal_flow\u001b[49m\u001b[43m(\u001b[49m\u001b[43mtraining_seeds\u001b[49m\u001b[43m[\u001b[49m\u001b[38;5;241;43m1\u001b[39;49m\u001b[43m]\u001b[49m\u001b[43m,\u001b[49m\u001b[43m \u001b[49m\u001b[43mfrugal_hyperparam_dict\u001b[49m\u001b[43m,\u001b[49m\u001b[43m \u001b[49m\u001b[43mcausal_model\u001b[49m\u001b[43m,\u001b[49m\u001b[43m \u001b[49m\u001b[43mcausal_model_args\u001b[49m\u001b[43m)\u001b[49m\n\u001b[1;32m     72\u001b[0m \u001b[38;5;28mself\u001b[39m\u001b[38;5;241m.\u001b[39mtrain_propensity_flow(training_seeds[\u001b[38;5;241m2\u001b[39m], prop_flow_hyperparam_dict)\n",
      "File \u001b[0;32m~/Library/CloudStorage/GoogleDrive-danielmanela@gmail.com/My Drive/work/deep-copula-frugal/validation/../frugal_flows/benchmarking.py:91\u001b[0m, in \u001b[0;36mFrugalFlowModel.train_frugal_flow\u001b[0;34m(self, key, hyperparam_dict, causal_model, causal_model_args)\u001b[0m\n\u001b[1;32m     89\u001b[0m \u001b[38;5;28;01melse\u001b[39;00m:\n\u001b[1;32m     90\u001b[0m     uz_full_samples \u001b[38;5;241m=\u001b[39m jnp\u001b[38;5;241m.\u001b[39mhstack([\u001b[38;5;28mself\u001b[39m\u001b[38;5;241m.\u001b[39mres[\u001b[38;5;124m'\u001b[39m\u001b[38;5;124mu_z_cont\u001b[39m\u001b[38;5;124m'\u001b[39m], \u001b[38;5;28mself\u001b[39m\u001b[38;5;241m.\u001b[39mres[\u001b[38;5;124m'\u001b[39m\u001b[38;5;124mu_z_discr\u001b[39m\u001b[38;5;124m'\u001b[39m]])\n\u001b[0;32m---> 91\u001b[0m \u001b[38;5;28mself\u001b[39m\u001b[38;5;241m.\u001b[39mfrugal_flow, losses \u001b[38;5;241m=\u001b[39m \u001b[43mtrain_frugal_flow\u001b[49m\u001b[43m(\u001b[49m\n\u001b[1;32m     92\u001b[0m \u001b[43m    \u001b[49m\u001b[43mkey\u001b[49m\u001b[38;5;241;43m=\u001b[39;49m\u001b[43mkey\u001b[49m\u001b[43m,\u001b[49m\n\u001b[1;32m     93\u001b[0m \u001b[43m    \u001b[49m\u001b[43my\u001b[49m\u001b[38;5;241;43m=\u001b[39;49m\u001b[38;5;28;43mself\u001b[39;49m\u001b[38;5;241;43m.\u001b[39;49m\u001b[43mY\u001b[49m\u001b[43m,\u001b[49m\n\u001b[1;32m     94\u001b[0m \u001b[43m    \u001b[49m\u001b[43mu_z\u001b[49m\u001b[38;5;241;43m=\u001b[39;49m\u001b[43muz_full_samples\u001b[49m\u001b[43m,\u001b[49m\n\u001b[1;32m     95\u001b[0m \u001b[43m    \u001b[49m\u001b[43mcondition\u001b[49m\u001b[38;5;241;43m=\u001b[39;49m\u001b[38;5;28;43mself\u001b[39;49m\u001b[38;5;241;43m.\u001b[39;49m\u001b[43mX\u001b[49m\u001b[43m,\u001b[49m\n\u001b[1;32m     96\u001b[0m \u001b[43m    \u001b[49m\u001b[43mcausal_model\u001b[49m\u001b[38;5;241;43m=\u001b[39;49m\u001b[43mcausal_model\u001b[49m\u001b[43m,\u001b[49m\n\u001b[1;32m     97\u001b[0m \u001b[43m    \u001b[49m\u001b[43mcausal_model_args\u001b[49m\u001b[38;5;241;43m=\u001b[39;49m\u001b[43mcausal_model_args\u001b[49m\u001b[43m,\u001b[49m\n\u001b[1;32m     98\u001b[0m \u001b[43m    \u001b[49m\u001b[38;5;241;43m*\u001b[39;49m\u001b[38;5;241;43m*\u001b[39;49m\u001b[43mhyperparam_dict\u001b[49m\n\u001b[1;32m     99\u001b[0m \u001b[43m\u001b[49m\u001b[43m)\u001b[49m\n\u001b[1;32m    100\u001b[0m \u001b[38;5;28mself\u001b[39m\u001b[38;5;241m.\u001b[39mmin_val_loss \u001b[38;5;241m=\u001b[39m jnp\u001b[38;5;241m.\u001b[39mmin(jnp\u001b[38;5;241m.\u001b[39marray(losses[\u001b[38;5;124m'\u001b[39m\u001b[38;5;124mval\u001b[39m\u001b[38;5;124m'\u001b[39m]))\n\u001b[1;32m    101\u001b[0m \u001b[38;5;28mself\u001b[39m\u001b[38;5;241m.\u001b[39mvmap_frugal_flow \u001b[38;5;241m=\u001b[39m jax\u001b[38;5;241m.\u001b[39mvmap(fun\u001b[38;5;241m=\u001b[39m\u001b[38;5;28mself\u001b[39m\u001b[38;5;241m.\u001b[39mfrugal_flow\u001b[38;5;241m.\u001b[39mbijection\u001b[38;5;241m.\u001b[39mtransform, in_axes\u001b[38;5;241m=\u001b[39m(\u001b[38;5;241m0\u001b[39m))\n",
      "File \u001b[0;32m~/Library/CloudStorage/GoogleDrive-danielmanela@gmail.com/My Drive/work/deep-copula-frugal/validation/../frugal_flows/causal_flows.py:534\u001b[0m, in \u001b[0;36mtrain_frugal_flow\u001b[0;34m(key, y, u_z, u_z_hetero, optimizer, RQS_knots, nn_depth, nn_width, flow_layers, show_progress, learning_rate, max_epochs, max_patience, batch_size, condition, mask_condition, stop_grad_until_active, causal_model, causal_model_args)\u001b[0m\n\u001b[1;32m    531\u001b[0m     causal_effect_idx \u001b[38;5;241m=\u001b[39m \u001b[38;5;241m0\u001b[39m\n\u001b[1;32m    533\u001b[0m \u001b[38;5;28;01mif\u001b[39;00m causal_model \u001b[38;5;241m==\u001b[39m \u001b[38;5;124m\"\u001b[39m\u001b[38;5;124mgaussian\u001b[39m\u001b[38;5;124m\"\u001b[39m:\n\u001b[0;32m--> 534\u001b[0m     frugal_flow, losses \u001b[38;5;241m=\u001b[39m \u001b[43mtrain_frugal_flow_gaussian\u001b[49m\u001b[43m(\u001b[49m\n\u001b[1;32m    535\u001b[0m \u001b[43m        \u001b[49m\u001b[43mkey\u001b[49m\u001b[38;5;241;43m=\u001b[39;49m\u001b[43mkey\u001b[49m\u001b[43m,\u001b[49m\n\u001b[1;32m    536\u001b[0m \u001b[43m        \u001b[49m\u001b[43my\u001b[49m\u001b[38;5;241;43m=\u001b[39;49m\u001b[43my\u001b[49m\u001b[43m,\u001b[49m\n\u001b[1;32m    537\u001b[0m \u001b[43m        \u001b[49m\u001b[43mu_z\u001b[49m\u001b[38;5;241;43m=\u001b[39;49m\u001b[43mu_z\u001b[49m\u001b[43m,\u001b[49m\u001b[43m  \u001b[49m\u001b[38;5;66;43;03m# impose discrete\u001b[39;49;00m\n\u001b[1;32m    538\u001b[0m \u001b[43m        \u001b[49m\u001b[43mu_z_hetero\u001b[49m\u001b[38;5;241;43m=\u001b[39;49m\u001b[43mu_z_hetero\u001b[49m\u001b[43m,\u001b[49m\n\u001b[1;32m    539\u001b[0m \u001b[43m        \u001b[49m\u001b[43moptimizer\u001b[49m\u001b[38;5;241;43m=\u001b[39;49m\u001b[43moptimizer\u001b[49m\u001b[43m,\u001b[49m\n\u001b[1;32m    540\u001b[0m \u001b[43m        \u001b[49m\u001b[43mRQS_knots\u001b[49m\u001b[38;5;241;43m=\u001b[39;49m\u001b[43mRQS_knots\u001b[49m\u001b[43m,\u001b[49m\n\u001b[1;32m    541\u001b[0m \u001b[43m        \u001b[49m\u001b[43mnn_depth\u001b[49m\u001b[38;5;241;43m=\u001b[39;49m\u001b[43mnn_depth\u001b[49m\u001b[43m,\u001b[49m\n\u001b[1;32m    542\u001b[0m \u001b[43m        \u001b[49m\u001b[43mnn_width\u001b[49m\u001b[38;5;241;43m=\u001b[39;49m\u001b[43mnn_width\u001b[49m\u001b[43m,\u001b[49m\n\u001b[1;32m    543\u001b[0m \u001b[43m        \u001b[49m\u001b[43mflow_layers\u001b[49m\u001b[38;5;241;43m=\u001b[39;49m\u001b[43mflow_layers\u001b[49m\u001b[43m,\u001b[49m\n\u001b[1;32m    544\u001b[0m \u001b[43m        \u001b[49m\u001b[43mshow_progress\u001b[49m\u001b[38;5;241;43m=\u001b[39;49m\u001b[43mshow_progress\u001b[49m\u001b[43m,\u001b[49m\n\u001b[1;32m    545\u001b[0m \u001b[43m        \u001b[49m\u001b[43mlearning_rate\u001b[49m\u001b[38;5;241;43m=\u001b[39;49m\u001b[43mlearning_rate\u001b[49m\u001b[43m,\u001b[49m\n\u001b[1;32m    546\u001b[0m \u001b[43m        \u001b[49m\u001b[43mmax_epochs\u001b[49m\u001b[38;5;241;43m=\u001b[39;49m\u001b[43mmax_epochs\u001b[49m\u001b[43m,\u001b[49m\n\u001b[1;32m    547\u001b[0m \u001b[43m        \u001b[49m\u001b[43mmax_patience\u001b[49m\u001b[38;5;241;43m=\u001b[39;49m\u001b[43mmax_patience\u001b[49m\u001b[43m,\u001b[49m\n\u001b[1;32m    548\u001b[0m \u001b[43m        \u001b[49m\u001b[43mbatch_size\u001b[49m\u001b[38;5;241;43m=\u001b[39;49m\u001b[43mbatch_size\u001b[49m\u001b[43m,\u001b[49m\n\u001b[1;32m    549\u001b[0m \u001b[43m        \u001b[49m\u001b[43mcondition\u001b[49m\u001b[38;5;241;43m=\u001b[39;49m\u001b[43mcondition\u001b[49m\u001b[43m,\u001b[49m\n\u001b[1;32m    550\u001b[0m \u001b[43m        \u001b[49m\u001b[43mmask_condition\u001b[49m\u001b[38;5;241;43m=\u001b[39;49m\u001b[43mmask_condition\u001b[49m\u001b[43m,\u001b[49m\n\u001b[1;32m    551\u001b[0m \u001b[43m        \u001b[49m\u001b[43mstop_grad_until_active\u001b[49m\u001b[38;5;241;43m=\u001b[39;49m\u001b[43mstop_grad_until_active\u001b[49m\u001b[43m,\u001b[49m\n\u001b[1;32m    552\u001b[0m \u001b[43m        \u001b[49m\u001b[43mcausal_model_args\u001b[49m\u001b[38;5;241;43m=\u001b[39;49m\u001b[43mcausal_model_args\u001b[49m\u001b[43m,\u001b[49m\n\u001b[1;32m    553\u001b[0m \u001b[43m        \u001b[49m\u001b[43mcausal_effect_idx\u001b[49m\u001b[38;5;241;43m=\u001b[39;49m\u001b[43mcausal_effect_idx\u001b[49m\u001b[43m,\u001b[49m\n\u001b[1;32m    554\u001b[0m \u001b[43m    \u001b[49m\u001b[43m)\u001b[49m\n\u001b[1;32m    556\u001b[0m \u001b[38;5;28;01melif\u001b[39;00m causal_model \u001b[38;5;241m==\u001b[39m \u001b[38;5;124m\"\u001b[39m\u001b[38;5;124mflexible_discrete_output\u001b[39m\u001b[38;5;124m\"\u001b[39m:\n\u001b[1;32m    557\u001b[0m     frugal_flow, losses \u001b[38;5;241m=\u001b[39m train_frugal_flow_flexible_discrete(\n\u001b[1;32m    558\u001b[0m         key\u001b[38;5;241m=\u001b[39mkey,\n\u001b[1;32m    559\u001b[0m         y\u001b[38;5;241m=\u001b[39my,\n\u001b[0;32m   (...)\u001b[0m\n\u001b[1;32m    574\u001b[0m         causal_model_args\u001b[38;5;241m=\u001b[39mcausal_model_args,\n\u001b[1;32m    575\u001b[0m     )\n",
      "File \u001b[0;32m~/Library/CloudStorage/GoogleDrive-danielmanela@gmail.com/My Drive/work/deep-copula-frugal/validation/../frugal_flows/causal_flows.py:423\u001b[0m, in \u001b[0;36mtrain_frugal_flow_gaussian\u001b[0;34m(key, y, u_z, u_z_hetero, optimizer, RQS_knots, nn_depth, nn_width, flow_layers, show_progress, learning_rate, max_epochs, max_patience, batch_size, condition, mask_condition, stop_grad_until_active, causal_model_args, causal_effect_idx)\u001b[0m\n\u001b[1;32m    413\u001b[0m \u001b[38;5;66;03m# list_bijections = [\u001b[39;00m\n\u001b[1;32m    414\u001b[0m \u001b[38;5;66;03m#     UnivariateNormalCDF(\u001b[39;00m\n\u001b[1;32m    415\u001b[0m \u001b[38;5;66;03m#         ate=causal_model_args[\"ate\"],\u001b[39;00m\n\u001b[0;32m   (...)\u001b[0m\n\u001b[1;32m    419\u001b[0m \u001b[38;5;66;03m#     )\u001b[39;00m\n\u001b[1;32m    420\u001b[0m \u001b[38;5;66;03m# ] + [Identity(())] * nvars\u001b[39;00m\n\u001b[1;32m    422\u001b[0m list_bijections \u001b[38;5;241m=\u001b[39m [Identity(())] \u001b[38;5;241m*\u001b[39m (nvars)\n\u001b[0;32m--> 423\u001b[0m list_bijections[causal_effect_idx] \u001b[38;5;241m=\u001b[39m \u001b[43mUnivariateNormalCDF\u001b[49m\u001b[43m(\u001b[49m\n\u001b[1;32m    424\u001b[0m \u001b[43m    \u001b[49m\u001b[43mate\u001b[49m\u001b[38;5;241;43m=\u001b[39;49m\u001b[43mcausal_model_args\u001b[49m\u001b[43m[\u001b[49m\u001b[38;5;124;43m\"\u001b[39;49m\u001b[38;5;124;43mate\u001b[39;49m\u001b[38;5;124;43m\"\u001b[39;49m\u001b[43m]\u001b[49m\u001b[43m,\u001b[49m\n\u001b[1;32m    425\u001b[0m \u001b[43m    \u001b[49m\u001b[43mscale\u001b[49m\u001b[38;5;241;43m=\u001b[39;49m\u001b[43mcausal_model_args\u001b[49m\u001b[43m[\u001b[49m\u001b[38;5;124;43m\"\u001b[39;49m\u001b[38;5;124;43mscale\u001b[39;49m\u001b[38;5;124;43m\"\u001b[39;49m\u001b[43m]\u001b[49m\u001b[43m,\u001b[49m\n\u001b[1;32m    426\u001b[0m \u001b[43m    \u001b[49m\u001b[43mconst\u001b[49m\u001b[38;5;241;43m=\u001b[39;49m\u001b[43mcausal_model_args\u001b[49m\u001b[43m[\u001b[49m\u001b[38;5;124;43m\"\u001b[39;49m\u001b[38;5;124;43mconst\u001b[39;49m\u001b[38;5;124;43m\"\u001b[39;49m\u001b[43m]\u001b[49m\u001b[43m,\u001b[49m\n\u001b[1;32m    427\u001b[0m \u001b[43m    \u001b[49m\u001b[43mcond_dim\u001b[49m\u001b[38;5;241;43m=\u001b[39;49m\u001b[43mcond_dim\u001b[49m\u001b[43m,\u001b[49m\n\u001b[1;32m    428\u001b[0m \u001b[43m\u001b[49m\u001b[43m)\u001b[49m\n\u001b[1;32m    430\u001b[0m marginal_transform \u001b[38;5;241m=\u001b[39m Stack(list_bijections)\n\u001b[1;32m    431\u001b[0m base_dist \u001b[38;5;241m=\u001b[39m Uniform(\u001b[38;5;241m-\u001b[39mjnp\u001b[38;5;241m.\u001b[39mones(nvars), jnp\u001b[38;5;241m.\u001b[39mones(nvars))\n",
      "File \u001b[0;32m~/micromamba/envs/deep-frugal/lib/python3.11/site-packages/equinox/_module.py:548\u001b[0m, in \u001b[0;36m_ModuleMeta.__call__\u001b[0;34m(cls, *args, **kwargs)\u001b[0m\n\u001b[1;32m    546\u001b[0m initable_cls \u001b[38;5;241m=\u001b[39m _make_initable(\u001b[38;5;28mcls\u001b[39m, \u001b[38;5;28mcls\u001b[39m\u001b[38;5;241m.\u001b[39m\u001b[38;5;21m__init__\u001b[39m, post_init, wraps\u001b[38;5;241m=\u001b[39m\u001b[38;5;28;01mFalse\u001b[39;00m)\n\u001b[1;32m    547\u001b[0m \u001b[38;5;66;03m# [Step 2] Instantiate the class as normal.\u001b[39;00m\n\u001b[0;32m--> 548\u001b[0m \u001b[38;5;28mself\u001b[39m \u001b[38;5;241m=\u001b[39m \u001b[38;5;28;43msuper\u001b[39;49m\u001b[43m(\u001b[49m\u001b[43m_ModuleMeta\u001b[49m\u001b[43m,\u001b[49m\u001b[43m \u001b[49m\u001b[43minitable_cls\u001b[49m\u001b[43m)\u001b[49m\u001b[38;5;241;43m.\u001b[39;49m\u001b[38;5;21;43m__call__\u001b[39;49m\u001b[43m(\u001b[49m\u001b[38;5;241;43m*\u001b[39;49m\u001b[43margs\u001b[49m\u001b[43m,\u001b[49m\u001b[43m \u001b[49m\u001b[38;5;241;43m*\u001b[39;49m\u001b[38;5;241;43m*\u001b[39;49m\u001b[43mkwargs\u001b[49m\u001b[43m)\u001b[49m\n\u001b[1;32m    549\u001b[0m \u001b[38;5;28;01massert\u001b[39;00m \u001b[38;5;129;01mnot\u001b[39;00m _is_abstract(\u001b[38;5;28mcls\u001b[39m)\n\u001b[1;32m    550\u001b[0m \u001b[38;5;66;03m# [Step 3] Check that all fields are occupied.\u001b[39;00m\n",
      "    \u001b[0;31m[... skipping hidden 2 frame]\u001b[0m\n",
      "File \u001b[0;32m~/Library/CloudStorage/GoogleDrive-danielmanela@gmail.com/My Drive/work/deep-copula-frugal/validation/../frugal_flows/bijections/univariate_normal_cdf.py:52\u001b[0m, in \u001b[0;36mUnivariateNormalCDF.__init__\u001b[0;34m(self, ate, scale, const, cond_dim)\u001b[0m\n\u001b[1;32m     49\u001b[0m \u001b[38;5;28;01melse\u001b[39;00m:\n\u001b[1;32m     50\u001b[0m     \u001b[38;5;28mself\u001b[39m\u001b[38;5;241m.\u001b[39mcond_shape \u001b[38;5;241m=\u001b[39m (cond_dim,)\n\u001b[1;32m     51\u001b[0m \u001b[38;5;28;01massert\u001b[39;00m (\n\u001b[0;32m---> 52\u001b[0m     \u001b[38;5;28mself\u001b[39m\u001b[38;5;241m.\u001b[39mcond_shape \u001b[38;5;241m==\u001b[39m \u001b[38;5;28;43mself\u001b[39;49m\u001b[38;5;241;43m.\u001b[39;49m\u001b[43mate\u001b[49m\u001b[38;5;241;43m.\u001b[39;49m\u001b[43mshape\u001b[49m\n\u001b[1;32m     53\u001b[0m ), \u001b[38;5;124m\"\u001b[39m\u001b[38;5;124mate and condition must have the same shape\u001b[39m\u001b[38;5;124m\"\u001b[39m\n",
      "\u001b[0;31mAttributeError\u001b[0m: 'int' object has no attribute 'shape'"
     ]
    }
   ],
   "source": [
    "logistic_flow.train_benchmark_model(\n",
    "    training_seed=jr.PRNGKey(0), \n",
    "    marginal_hyperparam_dict=hyperparams_dict, \n",
    "    frugal_hyperparam_dict=hyperparams_dict, \n",
    "    prop_flow_hyperparam_dict=hyperparams_dict,\n",
    "    causal_model='gaussian', \n",
    "    causal_model_args={'ate': 0, 'const': 0, 'scale': 1}\n",
    ")"
   ]
  },
  {
   "cell_type": "code",
   "execution_count": null,
   "id": "5cfa8339-54f9-44a2-a63e-4bb83043c05b",
   "metadata": {},
   "outputs": [],
   "source": [
    "synthetic_samples = logistic_flow.generate_samples(\n",
    "    key=jr.PRNGKey(1),\n",
    "    sampling_size=(1000),\n",
    "    copula_param=0,\n",
    "    outcome_causal_model='logistic_regression',\n",
    "    outcome_causal_args={'ate': 2., 'const': -1.},\n",
    "    with_confounding=True\n",
    ")"
   ]
  },
  {
   "cell_type": "code",
   "execution_count": null,
   "id": "2def3aa8-4034-4b2f-a736-6297a11e6e8d",
   "metadata": {},
   "outputs": [],
   "source": [
    "Y0, Y1 = synthetic_samples.groupby('X')['Y'].mean().values\n",
    "print(Y1/Y0)"
   ]
  },
  {
   "cell_type": "code",
   "execution_count": null,
   "id": "7126b4d6-5b9f-4a86-9f89-6d1083a03274",
   "metadata": {},
   "outputs": [],
   "source": [
    "expit(1)/expit(-1)"
   ]
  },
  {
   "cell_type": "code",
   "execution_count": null,
   "id": "ab573923-07fe-423f-9226-5117a54d3a7a",
   "metadata": {},
   "outputs": [],
   "source": [
    "synthetic_samples"
   ]
  },
  {
   "cell_type": "code",
   "execution_count": null,
   "id": "56938530-4d29-48e4-a010-164dd24b9308",
   "metadata": {},
   "outputs": [],
   "source": [
    "import pandas as pd\n",
    "import rpy2.robjects as ro\n",
    "from rpy2.robjects import pandas2ri\n",
    "from rpy2.robjects.packages import importr\n",
    "\n",
    "# Activate the pandas2ri conversion\n",
    "pandas2ri.activate()\n",
    "\n",
    "# Import necessary R libraries\n",
    "base = importr('base')\n",
    "stats = importr('stats')\n",
    "survey = importr('survey')\n",
    "\n",
    "r_df = pandas2ri.py2rpy(synthetic_samples)\n",
    "ro.globalenv['dat'] = r_df"
   ]
  },
  {
   "cell_type": "code",
   "execution_count": null,
   "id": "5bef3bb1-969d-48cb-9f37-7535ff9b945e",
   "metadata": {},
   "outputs": [],
   "source": [
    "# Define the R code as a string\n",
    "r_code = \"\"\"\n",
    "library(survey)\n",
    "\n",
    "glmX <- glm(X ~ Z_1, family=binomial, data=dat)\n",
    "glmX_coefficients <- summary(glmX)$coefficients\n",
    "\n",
    "ps <- predict(glmX, type=\"response\")\n",
    "wt <- dat$X/ps + (1-dat$X)/(1-ps)\n",
    "glmY <- svyglm(Y ~ X, family=quasibinomial(), design = svydesign(~1, weights=wt, data=dat))\n",
    "glmY_coefficients <- summary(glmY)$coefficients\n",
    "\n",
    "glmY_OR <- glm(Y ~ X, family=binomial, data=dat)\n",
    "glmY_OR_coefficients <- summary(glmY_OR)$coefficients\n",
    "\n",
    "list(glmX_coefficients = glmX_coefficients, glmY_coefficients = glmY_coefficients, glmY_OR_coefficients = glmY_OR_coefficients)\n",
    "\"\"\"\n",
    "\n",
    "# Execute the R code\n",
    "result = ro.r(r_code)"
   ]
  },
  {
   "cell_type": "code",
   "execution_count": null,
   "id": "6d7e7517-b629-4aa9-8a6b-ff27c36dd4a7",
   "metadata": {},
   "outputs": [],
   "source": [
    "result.rx2('glmY_OR_coefficients')"
   ]
  },
  {
   "cell_type": "markdown",
   "id": "4e819907-4a32-4e9d-888f-a2eb9a2888ee",
   "metadata": {},
   "source": [
    "First columns are the means, second columns are the std errors. True values are -1 and +2. Weighted GLM gets the right values!"
   ]
  },
  {
   "cell_type": "code",
   "execution_count": null,
   "id": "79db6fdd-2771-461d-bdaf-b509708e74f3",
   "metadata": {},
   "outputs": [],
   "source": [
    "result.rx2('glmY_coefficients')[:, :2]"
   ]
  },
  {
   "cell_type": "code",
   "execution_count": null,
   "id": "73adf0b2-f617-438d-96cd-510dd24b5bba",
   "metadata": {},
   "outputs": [],
   "source": [
    "result.rx2('glmY_OR_coefficients')[:, :2]"
   ]
  },
  {
   "cell_type": "code",
   "execution_count": null,
   "id": "29b49cda-40f4-4df5-a0b9-6bd40ecba2d6",
   "metadata": {},
   "outputs": [],
   "source": []
  }
 ],
 "metadata": {
  "kernelspec": {
   "display_name": "Python 3 (ipykernel)",
   "language": "python",
   "name": "python3"
  },
  "language_info": {
   "codemirror_mode": {
    "name": "ipython",
    "version": 3
   },
   "file_extension": ".py",
   "mimetype": "text/x-python",
   "name": "python",
   "nbconvert_exporter": "python",
   "pygments_lexer": "ipython3",
   "version": "3.11.8"
  }
 },
 "nbformat": 4,
 "nbformat_minor": 5
}
