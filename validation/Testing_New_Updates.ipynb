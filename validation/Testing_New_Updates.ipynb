{
 "cells": [
  {
   "cell_type": "markdown",
   "id": "671156ae-3e66-4997-85ba-b18bdfaec591",
   "metadata": {},
   "source": [
    "# Testing New Updates\n",
    "\n",
    "This notebook is a proof-of-concept for the following features:\n",
    "* Outcome Sampling for \n",
    "    * Location Conditioner\n",
    "    * Discrete\n",
    "* Testing the $X\\mid Z$ functionality on \n",
    "    * contrived simulations\n",
    "    * Realistic simulations with known ground truth"
   ]
  },
  {
   "cell_type": "code",
   "execution_count": 1,
   "id": "94fec690-e143-4b90-a218-f6652bdb2a19",
   "metadata": {},
   "outputs": [],
   "source": [
    "import sys\n",
    "sys.path.append(\"../\")  # go to parent dir\n",
    "import jax\n",
    "import jax.random as jr\n",
    "import jax.numpy as jnp\n",
    "jnp.set_printoptions(precision=2)\n",
    "jax.config.update(\"jax_enable_x64\", True)\n",
    "import matplotlib.pyplot as plt\n",
    "import numpy as np\n",
    "import pandas as pd\n",
    "from scipy.stats import rankdata\n",
    "\n",
    "import rpy2.robjects as ro\n",
    "from rpy2.robjects.packages import importr\n",
    "from rpy2.robjects import pandas2ri\n",
    "from rpy2.robjects.vectors import StrVector\n",
    "from rpy2.robjects.packages import SignatureTranslatedAnonymousPackage\n",
    "\n",
    "from frugal_flows.causal_flows import independent_continuous_marginal_flow, get_independent_quantiles, train_frugal_flow\n",
    "from frugal_flows.sample_outcome import sample_outcome\n",
    "from frugal_flows.train_quantile_propensity_score import train_quantile_propensity_score\n",
    "from frugal_flows.bijections import UnivariateNormalCDF\n",
    "\n",
    "from data.create_sim_data import generate_data_samples\n",
    "import data.template_causl_simulations as causl_py\n",
    "import wandb\n",
    "\n",
    "# Activate automatic conversion of rpy2 objects to pandas objects\n",
    "pandas2ri.activate()\n",
    "base = importr('base')\n",
    "utils = importr('utils')\n",
    "\n",
    "# Import the R library causl\n",
    "try:\n",
    "    causl = importr('causl')\n",
    "except Exception as e:\n",
    "    package_names = ('causl')\n",
    "    utils.install_packages(StrVector(package_names))\n",
    "\n",
    "seed = 0\n",
    "N = 1000\n",
    "causal_params = [0, 1]"
   ]
  },
  {
   "cell_type": "code",
   "execution_count": 2,
   "id": "10351518-d4f6-493b-922c-3790f52d6d31",
   "metadata": {},
   "outputs": [],
   "source": [
    "def generate_data_samples(rscript):\n",
    "    rcode_compiled = SignatureTranslatedAnonymousPackage(rscript, \"powerpack\")\n",
    "    data_xdyc = rcode_compiled.data_samples\n",
    "\n",
    "    # Extract JAX arrays from the dataframe\n",
    "    Z_disc = jnp.array(data_xdyc[[col for col in data_xdyc.columns if col.startswith('Zd')]].values).astype(int)\n",
    "    Z_cont = jnp.array(data_xdyc[[col for col in data_xdyc.columns if col.startswith('Zc')]].values)\n",
    "    if Z_cont.size == 0:\n",
    "        Z_cont = None\n",
    "    if Z_disc.size == 0:\n",
    "        Z_disc = None\n",
    "    X = jnp.array(data_xdyc['X'].values)[:, None]\n",
    "    Y = jnp.array(data_xdyc['Y'].values)[:, None]\n",
    "\n",
    "    return {'Z_disc': Z_disc, 'Z_cont': Z_cont, 'X': X, 'Y': Y}\n",
    "    \n",
    "disc_rscript = f\"\"\"\n",
    "library(causl)\n",
    "forms <- list(list(Zd1 ~ 1), X ~ Zd1, Y ~ X, ~ 1)\n",
    "fams <- list(c(5), 5, 1, 1)\n",
    "pars <- list(Zd1 = list(beta=0, phi=1),\n",
    "            X = list(beta=c(-1, 1)),\n",
    "            Y = list(beta=c({causal_params[0]}, {causal_params[1]}), phi=0.5),\n",
    "            cop = list(beta=matrix(c(0.8), nrow=1)))\n",
    "set.seed({seed})\n",
    "data_samples <- rfrugalParam({N}, formulas = forms, family = fams, pars = pars)\n",
    "\"\"\"\n",
    "\n",
    "hyperparam_dict = {\n",
    "    \"RQS_knots\": 8,\n",
    "    \"nn_depth\": 4,\n",
    "    \"nn_width\": 20,\n",
    "    \"flow_layers\": 4,\n",
    "    \"learning_rate\": 5e-3,\n",
    "    \"max_epochs\": 1000,\n",
    "    \"max_patience\": 100,\n",
    "}\n",
    "\n",
    "Z_disc, _, X, Y = generate_data_samples(disc_rscript).values()\n",
    "uz_samples = get_independent_quantiles(key=jr.PRNGKey(2), z_discr=Z_disc)['u_z_discr']"
   ]
  },
  {
   "cell_type": "code",
   "execution_count": 3,
   "id": "d82d98d7-4148-4384-8e19-f2a6e99e7b83",
   "metadata": {},
   "outputs": [
    {
     "data": {
      "text/plain": [
       "Array(1.12, dtype=float64)"
      ]
     },
     "execution_count": 3,
     "metadata": {},
     "output_type": "execute_result"
    }
   ],
   "source": [
    "Y[X == 1].mean() - Y[X == 0].mean()"
   ]
  },
  {
   "cell_type": "markdown",
   "id": "a886d553-8a5f-4a4b-b108-bab24c85204e",
   "metadata": {},
   "source": [
    "## Testing Gaussian Margins"
   ]
  },
  {
   "cell_type": "code",
   "execution_count": 4,
   "id": "d36dca53-ddcf-4e96-abf2-6afc3841c246",
   "metadata": {},
   "outputs": [
    {
     "name": "stderr",
     "output_type": "stream",
     "text": [
      " 14%|█████████████▉                                                                                     | 141/1000 [00:08<00:52, 16.46it/s, train=0.9851013263995301, val=1.0585603235000705 (Max patience reached)]\n"
     ]
    }
   ],
   "source": [
    "gaussian_fitted_flow, losses = train_frugal_flow(\n",
    "    key=jr.PRNGKey(2),\n",
    "    y=Y,\n",
    "    u_z=uz_samples,\n",
    "    condition=X,\n",
    "    causal_model=\"gaussian\",\n",
    "    causal_model_args={'ate': 0., 'const': 1., 'scale': 1.},\n",
    "    **hyperparam_dict\n",
    ")\n",
    "gaussian_causal_margin = gaussian_fitted_flow.bijection[-1].bijection.bijections[0]"
   ]
  },
  {
   "cell_type": "code",
   "execution_count": 5,
   "id": "69e06e8d-09a8-4953-8982-2cd9b79fbacb",
   "metadata": {},
   "outputs": [
    {
     "name": "stdout",
     "output_type": "stream",
     "text": [
      "0.97449280664859\n",
      "0.019694410968014095\n",
      "0.7382445226233505\n"
     ]
    }
   ],
   "source": [
    "print(gaussian_causal_margin.ate)\n",
    "print(gaussian_causal_margin.const)\n",
    "print(gaussian_causal_margin.scale)"
   ]
  },
  {
   "cell_type": "markdown",
   "id": "5b46fdfc-bff6-416f-b566-16025cd3e4f7",
   "metadata": {},
   "source": [
    "Good fit as expected."
   ]
  },
  {
   "cell_type": "markdown",
   "id": "f35b2bf7-a880-40be-ab9b-2f88933899ff",
   "metadata": {},
   "source": [
    "## For the flexible Flow Model"
   ]
  },
  {
   "cell_type": "code",
   "execution_count": 6,
   "id": "c058e73e-f548-4764-a895-dec784b3c3fe",
   "metadata": {},
   "outputs": [
    {
     "name": "stderr",
     "output_type": "stream",
     "text": [
      " 17%|████████████████▉                                                                                   | 169/1000 [00:19<01:33,  8.86it/s, train=0.929424235707875, val=1.3136031414905023 (Max patience reached)]\n"
     ]
    }
   ],
   "source": [
    "location_trans_fitted_flow, losses = train_frugal_flow(\n",
    "    key=jr.PRNGKey(2),\n",
    "    y=Y,\n",
    "    u_z=uz_samples,\n",
    "    condition=X,\n",
    "    causal_model=\"location_translation\",\n",
    "    causal_model_args={'ate': 0., **{k: v for k, v in hyperparam_dict.items()}},\n",
    "    **hyperparam_dict\n",
    ")"
   ]
  },
  {
   "cell_type": "code",
   "execution_count": 7,
   "id": "801db874-ea33-496a-b504-f80492a691e4",
   "metadata": {},
   "outputs": [
    {
     "data": {
      "text/plain": [
       "Array(0.89, dtype=float64)"
      ]
     },
     "execution_count": 7,
     "metadata": {},
     "output_type": "execute_result"
    }
   ],
   "source": [
    "location_trans_fitted_flow.bijection.bijections[-1].bijections[0].ate"
   ]
  },
  {
   "cell_type": "markdown",
   "id": "a7fb0818-69b1-426a-ac2a-7ac6b6263109",
   "metadata": {},
   "source": [
    "ATE Estimate checks out! Check distribution of control flow:"
   ]
  },
  {
   "cell_type": "code",
   "execution_count": 8,
   "id": "58d50de7-4c50-42f7-abba-23abe12565e6",
   "metadata": {},
   "outputs": [
    {
     "data": {
      "text/plain": [
       "<matplotlib.legend.Legend at 0x357072f50>"
      ]
     },
     "execution_count": 8,
     "metadata": {},
     "output_type": "execute_result"
    },
    {
     "data": {
      "image/png": "[encoded data removed]",
      "text/plain": [
       "<Figure size 640x480 with 1 Axes>"
      ]
     },
     "metadata": {},
     "output_type": "display_data"
    }
   ],
   "source": [
    "samples_control = location_trans_fitted_flow.sample(key=jr.PRNGKey(3), sample_shape=(1000,), condition=jnp.zeros((1)))\n",
    "plt.hist(samples_control[:, 0], bins=30, label=\"Control Flow\", alpha=0.2)\n",
    "plt.hist(Y[X == 0], bins=30, label=\"Control Flow\", alpha=0.2)\n",
    "plt.legend()"
   ]
  },
  {
   "cell_type": "code",
   "execution_count": 9,
   "id": "bf82576d-8cc8-489b-a78a-46470b3a19bc",
   "metadata": {},
   "outputs": [
    {
     "data": {
      "text/plain": [
       "<matplotlib.legend.Legend at 0x359556050>"
      ]
     },
     "execution_count": 9,
     "metadata": {},
     "output_type": "execute_result"
    },
    {
     "data": {
      "image/png": "[encoded data removed]",
      "text/plain": [
       "<Figure size 640x480 with 1 Axes>"
      ]
     },
     "metadata": {},
     "output_type": "display_data"
    }
   ],
   "source": [
    "samples_treatment = location_trans_fitted_flow.sample(key=jr.PRNGKey(3), sample_shape=(5000,), condition=jnp.ones((1)))\n",
    "plt.hist(samples_treatment[:, 0], bins=30, label=\"Treatment Flow\", alpha=0.2)\n",
    "plt.hist(Y[X == 1], bins=30, label=\"Treatment Vars\", alpha=0.2)\n",
    "plt.legend()"
   ]
  },
  {
   "cell_type": "markdown",
   "id": "7695e1f4-bf71-4b5d-a216-baaba971aa94",
   "metadata": {},
   "source": [
    "## Check how to simulate from the outcomes"
   ]
  },
  {
   "cell_type": "code",
   "execution_count": 10,
   "id": "ee1f385e-0ce3-4fe2-95a4-5cf14fb04f41",
   "metadata": {},
   "outputs": [
    {
     "data": {
      "image/png": "[encoded data removed]",
      "text/plain": [
       "<Figure size 640x480 with 1 Axes>"
      ]
     },
     "metadata": {},
     "output_type": "display_data"
    }
   ],
   "source": [
    "outcome_control_samples = sample_outcome(\n",
    "    frugal_flow=location_trans_fitted_flow,\n",
    "    affine_to_standard=False,\n",
    "    key=jr.PRNGKey(10),\n",
    "    n_samples=1000,\n",
    "    causal_model='location_translation',\n",
    "    causal_condition=jnp.zeros((1000,1)),\n",
    "    **{'ate': 5}\n",
    ")\n",
    "plt.hist(outcome_control_samples);"
   ]
  },
  {
   "cell_type": "code",
   "execution_count": 11,
   "id": "4df262b5-9aa2-4014-b9ba-ae821e9f9678",
   "metadata": {},
   "outputs": [
    {
     "data": {
      "image/png": "[encoded data removed]",
      "text/plain": [
       "<Figure size 640x480 with 1 Axes>"
      ]
     },
     "metadata": {},
     "output_type": "display_data"
    }
   ],
   "source": [
    "outcome_treatment_samples = sample_outcome(\n",
    "    frugal_flow=location_trans_fitted_flow,\n",
    "    affine_to_standard=False,\n",
    "    key=jr.PRNGKey(10),\n",
    "    n_samples=1000,\n",
    "    causal_model='location_translation',\n",
    "    causal_condition=jnp.ones((1000,1)),\n",
    "    **{'ate': 5}\n",
    ")\n",
    "plt.hist(outcome_treatment_samples);"
   ]
  },
  {
   "cell_type": "markdown",
   "id": "5b661892-b679-4521-85b8-6d48d9cc10ad",
   "metadata": {},
   "source": [
    "Very nice! What about if we wanted something discrete?"
   ]
  },
  {
   "cell_type": "markdown",
   "id": "8c12e38d-f80c-46a3-a217-3a59b3c07a65",
   "metadata": {},
   "source": [
    "#### Simulating discrete outcomes"
   ]
  },
  {
   "cell_type": "code",
   "execution_count": 12,
   "id": "179a4937-afe4-46db-a66d-153b148664a4",
   "metadata": {},
   "outputs": [
    {
     "data": {
      "image/png": "[encoded data removed]",
      "text/plain": [
       "<Figure size 640x480 with 1 Axes>"
      ]
     },
     "metadata": {},
     "output_type": "display_data"
    }
   ],
   "source": [
    "outcome_control_samples = sample_outcome(\n",
    "    frugal_flow=location_trans_fitted_flow,\n",
    "    affine_to_standard=False,\n",
    "    key=jr.PRNGKey(10),\n",
    "    n_samples=1000,\n",
    "    causal_model='logistic_regression',\n",
    "    causal_condition=jnp.zeros((1000,1)),\n",
    "    **{'ate': 2, 'const': -1}\n",
    ")\n",
    "plt.hist(outcome_control_samples.T);"
   ]
  },
  {
   "cell_type": "code",
   "execution_count": 13,
   "id": "30af71f8-4640-4aa7-8541-765d90d7b835",
   "metadata": {},
   "outputs": [
    {
     "data": {
      "image/png": "[encoded data removed]",
      "text/plain": [
       "<Figure size 640x480 with 1 Axes>"
      ]
     },
     "metadata": {},
     "output_type": "display_data"
    }
   ],
   "source": [
    "outcome_treatment_samples = sample_outcome(\n",
    "    frugal_flow=location_trans_fitted_flow,\n",
    "    affine_to_standard=False,\n",
    "    key=jr.PRNGKey(10),\n",
    "    n_samples=1000,\n",
    "    causal_model='logistic_regression',\n",
    "    causal_condition=jnp.ones((1000,1)),\n",
    "    **{'ate': 2, 'const': -1}\n",
    ")\n",
    "plt.hist(outcome_treatment_samples.T);"
   ]
  },
  {
   "cell_type": "markdown",
   "id": "c2cae0e5-8692-4073-bf67-89eaccb58608",
   "metadata": {},
   "source": [
    "# Testing the $X\\mid Z$"
   ]
  },
  {
   "cell_type": "markdown",
   "id": "3cdd0adb-81e0-4377-93b4-cbf5e48eea0d",
   "metadata": {},
   "source": [
    "### POC Demo"
   ]
  },
  {
   "cell_type": "markdown",
   "id": "732c0efc-427b-4bef-abf1-47f801d52427",
   "metadata": {},
   "source": [
    "Prop score demo seems to be working!"
   ]
  },
  {
   "cell_type": "code",
   "execution_count": 14,
   "id": "de30fccb-d753-443d-a622-487d9c9f2dd8",
   "metadata": {},
   "outputs": [
    {
     "name": "stderr",
     "output_type": "stream",
     "text": [
      " 55%|██████████████████████████████████████████████████████▍                                            | 55/100 [00:02<00:02, 18.36it/s, train=-0.6383376015856206, val=-0.5915235489829074 (Max patience reached)]\n"
     ]
    }
   ],
   "source": [
    "X_demo = jr.bernoulli(jr.PRNGKey(123), 0.5, (1000,))[:, None].astype(int)\n",
    "Z_demo = X_demo\n",
    "\n",
    "prop_flow, losses = train_quantile_propensity_score(\n",
    "    key=jr.PRNGKey(9),\n",
    "    x=X_demo,\n",
    "    condition=Z_demo\n",
    ")"
   ]
  },
  {
   "cell_type": "code",
   "execution_count": 15,
   "id": "8c74eaaa-e23c-4e20-b02c-e190f413016f",
   "metadata": {},
   "outputs": [
    {
     "data": {
      "image/png": "[encoded data removed]",
      "text/plain": [
       "<Figure size 640x480 with 1 Axes>"
      ]
     },
     "metadata": {},
     "output_type": "display_data"
    }
   ],
   "source": [
    "plt.hist(prop_flow.sample(jr.PRNGKey(987), sample_shape=(1000,), condition=jnp.ones((1))).T, label='Z=1', alpha=0.5);\n",
    "plt.hist(prop_flow.sample(jr.PRNGKey(987), sample_shape=(1000,), condition=jnp.zeros((1))).T, label='Z=0', alpha=0.5);\n",
    "plt.legend();"
   ]
  },
  {
   "cell_type": "markdown",
   "id": "c0be56bd-71dd-4c6f-85f1-759733f6e095",
   "metadata": {},
   "source": [
    "### On empirical Data"
   ]
  },
  {
   "cell_type": "code",
   "execution_count": null,
   "id": "8cbbdddd-6e76-4d03-9cb0-a726bc053e79",
   "metadata": {},
   "outputs": [],
   "source": [
    "prop_flow, losses = train_quantile_propensity_score(\n",
    "    key=jr.PRNGKey(9),\n",
    "    x=X.astype(int),\n",
    "    condition=Z_disc\n",
    ")"
   ]
  },
  {
   "cell_type": "code",
   "execution_count": null,
   "id": "81d8f7db-8f02-468e-bd96-96d12d854967",
   "metadata": {},
   "outputs": [],
   "source": [
    "plt.hist(prop_flow.sample(jr.PRNGKey(987), sample_shape=(5000,), condition=jnp.ones((1))).T, label='Z=1', alpha=0.3);\n",
    "plt.hist(prop_flow.sample(jr.PRNGKey(987), sample_shape=(5000,), condition=jnp.zeros((1))).T, label='Z=0', alpha=0.3);\n",
    "plt.legend();"
   ]
  },
  {
   "cell_type": "markdown",
   "id": "5484cea0-7b71-4fd7-8cf2-ba4c68fe32e5",
   "metadata": {},
   "source": [
    "Actual data split is $X\\mid Z \\sim \\text{Bernoulli}(p=\\text{Sigmoid}(Z - 1))$, therefore $p \\mid Z=1$ equals $0.5$ and $p \\mid Z=0$ equals $1/(1 + exp(-1)) = 0.268$."
   ]
  },
  {
   "cell_type": "markdown",
   "id": "2ec66266-5ddf-4853-98a5-bcc97b05bfd8",
   "metadata": {},
   "source": [
    "For the treatment arm:"
   ]
  },
  {
   "cell_type": "code",
   "execution_count": null,
   "id": "0c1efb7c-8453-4ba6-994c-71aaaaa826a0",
   "metadata": {},
   "outputs": [],
   "source": [
    "(prop_flow.sample(jr.PRNGKey(987), sample_shape=(5000,), condition=jnp.ones((1))) > 0.6).mean()"
   ]
  },
  {
   "cell_type": "markdown",
   "id": "bcaf9904-d2d1-4d04-a994-14081ca3cf67",
   "metadata": {},
   "source": [
    "Bang on! And now for the control:"
   ]
  },
  {
   "cell_type": "code",
   "execution_count": null,
   "id": "ff11e414-9ff6-4087-a686-95458b5e6a4f",
   "metadata": {},
   "outputs": [],
   "source": [
    "(prop_flow.sample(jr.PRNGKey(987), sample_shape=(5000,), condition=jnp.zeros((1))) > 0.6).mean()"
   ]
  },
  {
   "cell_type": "markdown",
   "id": "87586975-45b9-43eb-92c1-963986d2c909",
   "metadata": {},
   "source": [
    "Decent enough!"
   ]
  }
 ],
 "metadata": {
  "kernelspec": {
   "display_name": "Python 3 (ipykernel)",
   "language": "python",
   "name": "python3"
  },
  "language_info": {
   "codemirror_mode": {
    "name": "ipython",
    "version": 3
   },
   "file_extension": ".py",
   "mimetype": "text/x-python",
   "name": "python",
   "nbconvert_exporter": "python",
   "pygments_lexer": "ipython3",
   "version": "3.11.8"
  }
 },
 "nbformat": 4,
 "nbformat_minor": 5
}
