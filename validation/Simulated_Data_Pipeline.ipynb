{
 "cells": [
  {
   "cell_type": "markdown",
   "id": "671156ae-3e66-4997-85ba-b18bdfaec591",
   "metadata": {},
   "source": [
    "# Example Pipeline for Simulated Data\n",
    "\n",
    "This notebook is a proof-of-concept for generating causal samples from external samples"
   ]
  },
  {
   "cell_type": "code",
   "execution_count": 12,
   "id": "94fec690-e143-4b90-a218-f6652bdb2a19",
   "metadata": {},
   "outputs": [],
   "source": [
    "import sys\n",
    "sys.path.append(\"../\")  # go to parent dir\n",
    "import jax\n",
    "import jax.random as jr\n",
    "import jax.numpy as jnp\n",
    "# jnp.set_printoptions(precision=2)\n",
    "jax.config.update(\"jax_enable_x64\", True)\n",
    "import matplotlib.pyplot as plt\n",
    "import numpy as np\n",
    "import pandas as pd\n",
    "from scipy.stats import rankdata\n",
    "\n",
    "import rpy2.robjects as ro\n",
    "from rpy2.robjects.packages import importr\n",
    "from rpy2.robjects import pandas2ri\n",
    "from rpy2.robjects.vectors import StrVector\n",
    "from rpy2.robjects.packages import SignatureTranslatedAnonymousPackage\n",
    "\n",
    "from frugal_flows.causal_flows import independent_continuous_marginal_flow, get_independent_quantiles, train_frugal_flow\n",
    "from frugal_flows.sample_outcome import sample_outcome\n",
    "from frugal_flows.train_quantile_propensity_score import train_quantile_propensity_score\n",
    "from frugal_flows.bijections import UnivariateNormalCDF\n",
    "\n",
    "import data.template_causl_simulations as causl_py\n",
    "import wandb\n",
    "\n",
    "# Activate automatic conversion of rpy2 objects to pandas objects\n",
    "pandas2ri.activate()\n",
    "base = importr('base')\n",
    "utils = importr('utils')\n",
    "\n",
    "# Import the R library causl\n",
    "try:\n",
    "    causl = importr('causl')\n",
    "except Exception as e:\n",
    "    package_names = ('causl')\n",
    "    utils.install_packages(StrVector(package_names))\n",
    "\n",
    "hyperparam_dict = {\n",
    "    \"RQS_knots\": 8,\n",
    "    \"nn_depth\": 4,\n",
    "    \"nn_width\": 20,\n",
    "    \"flow_layers\": 4,\n",
    "    \"learning_rate\": 5e-3,\n",
    "    \"max_epochs\": 1000,\n",
    "    \"max_patience\": 100,\n",
    "}\n",
    "\n",
    "seed = 0\n",
    "N = 100\n",
    "sampling_size = 100\n",
    "causal_params = [0, 1]\n",
    "keys, *subkeys = jr.split(jr.PRNGKey(seed), 20)"
   ]
  },
  {
   "cell_type": "code",
   "execution_count": 13,
   "id": "518833f7-2e9f-4e0e-9a2d-f0ed10d3f3db",
   "metadata": {},
   "outputs": [],
   "source": [
    "Z_disc, Z_cont, X, Y = causl_py.generate_discrete_samples(N=N, seed=0, causal_params=causal_params).values()\n",
    "uz_disc_samples = get_independent_quantiles(key=jr.PRNGKey(2), z_discr=Z_disc)['u_z_discr']"
   ]
  },
  {
   "cell_type": "code",
   "execution_count": 14,
   "id": "6925b694-c235-4f87-b58a-1b9070cf163e",
   "metadata": {},
   "outputs": [
    {
     "name": "stderr",
     "output_type": "stream",
     "text": [
      " 10%|██████████▎                                                                                        | 104/1000 [00:03<00:28, 31.94it/s, train=1.1724403291476164, val=2.2802661442166907 (Max patience reached)]\n",
      " 11%|██████████▋                                                                                          | 106/1000 [00:03<00:28, 31.87it/s, train=1.6748982909464412, val=2.04905650706151 (Max patience reached)]\n"
     ]
    }
   ],
   "source": [
    "cont_flows = []\n",
    "uz_list = [uz_disc_samples]\n",
    "for d in range(Z_cont.shape[1]):\n",
    "    Z_d = jnp.array(Z_cont[:, d])[:, None]\n",
    "    res_d = get_independent_quantiles(key=subkeys[0], z_cont=Z_d, return_z_cont_flow=True, **hyperparam_dict)\n",
    "    uz_list.append(res_d['u_z_cont'])\n",
    "    cont_flows.append(res_d['z_cont_flow'])\n",
    "full_uz_samples = jnp.hstack(uz_list)"
   ]
  },
  {
   "cell_type": "code",
   "execution_count": 15,
   "id": "d36dca53-ddcf-4e96-abf2-6afc3841c246",
   "metadata": {},
   "outputs": [
    {
     "name": "stderr",
     "output_type": "stream",
     "text": [
      " 12%|████████████▎                                                                                      | 124/1000 [00:14<01:45,  8.32it/s, train=-1.0128617016829184, val=5.287712619583747 (Max patience reached)]\n"
     ]
    }
   ],
   "source": [
    "fitted_flow, losses = train_frugal_flow(\n",
    "    key=subkeys[1],\n",
    "    y=Y,\n",
    "    u_z=full_uz_samples,\n",
    "    condition=X,\n",
    "    causal_model=\"location_translation\",\n",
    "    causal_model_args={'ate': 0., **hyperparam_dict},\n",
    "    **hyperparam_dict\n",
    ")\n",
    "causal_margin = fitted_flow.bijection.bijections[-1].bijections[0]"
   ]
  },
  {
   "cell_type": "markdown",
   "id": "2e7cc111-7684-461f-a015-face9a95b155",
   "metadata": {},
   "source": [
    "## How we can find $U_z$ samples from a fitted copula whilst controlling the $U_{y\\mid x}$ samples"
   ]
  },
  {
   "cell_type": "code",
   "execution_count": 16,
   "id": "9174138b-5886-40b2-9ffe-b67161d21823",
   "metadata": {},
   "outputs": [],
   "source": [
    "u_yx = jr.uniform(key=subkeys[5], shape=(sampling_size, 1))\n",
    "baseline_uz = jr.uniform(key=subkeys[4], shape=(sampling_size, 4))\n",
    "frugal_baselines = jnp.hstack([u_yx, baseline_uz])\n",
    "vmap_frugal_flow = jax.vmap(fun=fitted_flow.bijection.transform, in_axes=(0))\n",
    "Y_samples = vmap_frugal_flow(x=frugal_baselines, condition=jnp.zeros(u_yx.shape))[:, 0]\n",
    "uz_samples = vmap_frugal_flow(x=frugal_baselines, condition=jnp.zeros(u_yx.shape))[:, 1:]"
   ]
  },
  {
   "cell_type": "code",
   "execution_count": 17,
   "id": "69e06e8d-09a8-4953-8982-2cd9b79fbacb",
   "metadata": {},
   "outputs": [
    {
     "name": "stdout",
     "output_type": "stream",
     "text": [
      "0.11560450141566463\n"
     ]
    }
   ],
   "source": [
    "print(causal_margin.ate)"
   ]
  },
  {
   "cell_type": "code",
   "execution_count": 18,
   "id": "85375849-e6bf-4ddf-b328-7b523ea765e2",
   "metadata": {},
   "outputs": [
    {
     "data": {
      "text/plain": [
       "(array([ 2.,  3.,  6., 14., 17., 24., 15., 10.,  8.,  1.]),\n",
       " array([-3.24467321, -2.61869757, -1.99272193, -1.36674629, -0.74077065,\n",
       "        -0.11479501,  0.51118063,  1.13715626,  1.7631319 ,  2.38910754,\n",
       "         3.01508318]),\n",
       " <BarContainer object of 10 artists>)"
      ]
     },
     "execution_count": 18,
     "metadata": {},
     "output_type": "execute_result"
    },
    {
     "data": {
      "image/png": "[encoded data removed]",
      "text/plain": [
       "<Figure size 640x480 with 1 Axes>"
      ]
     },
     "metadata": {},
     "output_type": "display_data"
    }
   ],
   "source": [
    "plt.hist(Y_samples)"
   ]
  },
  {
   "cell_type": "markdown",
   "id": "d2a2fc12-0809-449c-8fe6-b8af71468dec",
   "metadata": {},
   "source": [
    "## Training the propensity score"
   ]
  },
  {
   "cell_type": "code",
   "execution_count": 19,
   "id": "bf975acc-66dc-41f8-bcdc-069307ea8220",
   "metadata": {},
   "outputs": [
    {
     "name": "stderr",
     "output_type": "stream",
     "text": [
      " 32%|███████████████████████████████▎                                                                  | 32/100 [00:02<00:04, 13.68it/s, train=-0.37815551152988847, val=0.12617665458368937 (Max patience reached)]\n"
     ]
    },
    {
     "ename": "ValueError",
     "evalue": "vmap got inconsistent sizes for array axes to be mapped:\n  * one axis had size 1000: axis 0 of argument x of type float64[1000,1];\n  * one axis had size 100: axis 0 of argument condition of type float64[100,4]",
     "output_type": "error",
     "traceback": [
      "\u001b[0;31m---------------------------------------------------------------------------\u001b[0m",
      "\u001b[0;31mValueError\u001b[0m                                Traceback (most recent call last)",
      "Cell \u001b[0;32mIn[19], line 9\u001b[0m\n\u001b[1;32m      7\u001b[0m vmapped_prop_flow_cdf \u001b[38;5;241m=\u001b[39m jax\u001b[38;5;241m.\u001b[39mvmap(prop_flow_cdf, in_axes\u001b[38;5;241m=\u001b[39m(\u001b[38;5;241m0\u001b[39m,))\n\u001b[1;32m      8\u001b[0m u_xz \u001b[38;5;241m=\u001b[39m jr\u001b[38;5;241m.\u001b[39muniform(subkeys[\u001b[38;5;241m1\u001b[39m], (\u001b[38;5;241m1000\u001b[39m,))[:, \u001b[38;5;28;01mNone\u001b[39;00m]\n\u001b[0;32m----> 9\u001b[0m u_x \u001b[38;5;241m=\u001b[39m \u001b[43mvmapped_prop_flow_cdf\u001b[49m\u001b[43m(\u001b[49m\u001b[43mu_xz\u001b[49m\u001b[43m,\u001b[49m\u001b[43m \u001b[49m\u001b[43mcondition\u001b[49m\u001b[38;5;241;43m=\u001b[39;49m\u001b[43mjnp\u001b[49m\u001b[38;5;241;43m.\u001b[39;49m\u001b[43mhstack\u001b[49m\u001b[43m(\u001b[49m\u001b[43m[\u001b[49m\u001b[43mZ_disc\u001b[49m\u001b[43m,\u001b[49m\u001b[43m \u001b[49m\u001b[43mZ_cont\u001b[49m\u001b[43m]\u001b[49m\u001b[43m)\u001b[49m\u001b[43m[\u001b[49m\u001b[43m:\u001b[49m\u001b[38;5;241;43m1000\u001b[39;49m\u001b[43m]\u001b[49m\u001b[43m)\u001b[49m\n",
      "    \u001b[0;31m[... skipping hidden 2 frame]\u001b[0m\n",
      "File \u001b[0;32m~/micromamba/envs/deep-frugal/lib/python3.11/site-packages/jax/_src/api.py:1296\u001b[0m, in \u001b[0;36m_mapped_axis_size\u001b[0;34m(fn, tree, vals, dims, name)\u001b[0m\n\u001b[1;32m   1294\u001b[0m   \u001b[38;5;28;01melse\u001b[39;00m:\n\u001b[1;32m   1295\u001b[0m     msg\u001b[38;5;241m.\u001b[39mappend(\u001b[38;5;124mf\u001b[39m\u001b[38;5;124m\"\u001b[39m\u001b[38;5;124m  * some axes (\u001b[39m\u001b[38;5;132;01m{\u001b[39;00mct\u001b[38;5;132;01m}\u001b[39;00m\u001b[38;5;124m of them) had size \u001b[39m\u001b[38;5;132;01m{\u001b[39;00msz\u001b[38;5;132;01m}\u001b[39;00m\u001b[38;5;124m, e.g. axis \u001b[39m\u001b[38;5;132;01m{\u001b[39;00max\u001b[38;5;132;01m}\u001b[39;00m\u001b[38;5;124m of \u001b[39m\u001b[38;5;132;01m{\u001b[39;00mex\u001b[38;5;132;01m}\u001b[39;00m\u001b[38;5;124m;\u001b[39m\u001b[38;5;130;01m\\n\u001b[39;00m\u001b[38;5;124m\"\u001b[39m)\n\u001b[0;32m-> 1296\u001b[0m \u001b[38;5;28;01mraise\u001b[39;00m \u001b[38;5;167;01mValueError\u001b[39;00m(\u001b[38;5;124m'\u001b[39m\u001b[38;5;124m'\u001b[39m\u001b[38;5;241m.\u001b[39mjoin(msg)[:\u001b[38;5;241m-\u001b[39m\u001b[38;5;241m2\u001b[39m])\n",
      "\u001b[0;31mValueError\u001b[0m: vmap got inconsistent sizes for array axes to be mapped:\n  * one axis had size 1000: axis 0 of argument x of type float64[1000,1];\n  * one axis had size 100: axis 0 of argument condition of type float64[100,4]"
     ]
    }
   ],
   "source": [
    "prop_flow, losses = train_quantile_propensity_score(\n",
    "    key=subkeys[2],\n",
    "    x=X.astype(int),\n",
    "    condition=jnp.hstack([Z_disc, Z_cont])\n",
    ")\n",
    "prop_flow_cdf = prop_flow.bijection.transform\n",
    "vmapped_prop_flow_cdf = jax.vmap(prop_flow_cdf, in_axes=(0,))\n",
    "u_xz = jr.uniform(subkeys[1], (1000,))[:, None]\n",
    "u_x = vmapped_prop_flow_cdf(u_xz, condition=jnp.hstack([Z_disc, Z_cont])[:1000])"
   ]
  },
  {
   "cell_type": "markdown",
   "id": "f2d34d89-af4b-46e9-af9a-ef0686978b02",
   "metadata": {},
   "source": [
    "## Sampling from Outcome"
   ]
  },
  {
   "cell_type": "code",
   "execution_count": null,
   "id": "73fba3a2-310e-4abf-8c9e-27dc4da4f09c",
   "metadata": {},
   "outputs": [],
   "source": [
    "u_yx.shape"
   ]
  },
  {
   "cell_type": "code",
   "execution_count": null,
   "id": "8f46ae4a-90b4-4539-a904-aaa9e2efacdc",
   "metadata": {},
   "outputs": [],
   "source": []
  },
  {
   "cell_type": "code",
   "execution_count": 21,
   "id": "f7b62f4b-9893-46e8-8ba8-f480df8f29d7",
   "metadata": {},
   "outputs": [
    {
     "name": "stdout",
     "output_type": "stream",
     "text": [
      "True\n",
      "[[1.]\n",
      " [1.]\n",
      " [1.]\n",
      " [1.]\n",
      " [1.]\n",
      " [1.]\n",
      " [1.]\n",
      " [1.]\n",
      " [1.]\n",
      " [1.]\n",
      " [1.]\n",
      " [1.]\n",
      " [1.]\n",
      " [1.]\n",
      " [1.]\n",
      " [1.]\n",
      " [1.]\n",
      " [1.]\n",
      " [1.]\n",
      " [1.]\n",
      " [1.]\n",
      " [1.]\n",
      " [1.]\n",
      " [1.]\n",
      " [1.]\n",
      " [1.]\n",
      " [1.]\n",
      " [1.]\n",
      " [1.]\n",
      " [1.]\n",
      " [1.]\n",
      " [1.]\n",
      " [1.]\n",
      " [1.]\n",
      " [1.]\n",
      " [1.]\n",
      " [1.]\n",
      " [1.]\n",
      " [1.]\n",
      " [1.]\n",
      " [1.]\n",
      " [1.]\n",
      " [1.]\n",
      " [1.]\n",
      " [1.]\n",
      " [1.]\n",
      " [1.]\n",
      " [1.]\n",
      " [1.]\n",
      " [1.]\n",
      " [1.]\n",
      " [1.]\n",
      " [1.]\n",
      " [1.]\n",
      " [1.]\n",
      " [1.]\n",
      " [1.]\n",
      " [1.]\n",
      " [1.]\n",
      " [1.]\n",
      " [1.]\n",
      " [1.]\n",
      " [1.]\n",
      " [1.]\n",
      " [1.]\n",
      " [1.]\n",
      " [1.]\n",
      " [1.]\n",
      " [1.]\n",
      " [1.]\n",
      " [1.]\n",
      " [1.]\n",
      " [1.]\n",
      " [1.]\n",
      " [1.]\n",
      " [1.]\n",
      " [1.]\n",
      " [1.]\n",
      " [1.]\n",
      " [1.]\n",
      " [1.]\n",
      " [1.]\n",
      " [1.]\n",
      " [1.]\n",
      " [1.]\n",
      " [1.]\n",
      " [1.]\n",
      " [1.]\n",
      " [1.]\n",
      " [1.]\n",
      " [1.]\n",
      " [1.]\n",
      " [1.]\n",
      " [1.]\n",
      " [1.]\n",
      " [1.]\n",
      " [1.]\n",
      " [1.]\n",
      " [1.]\n",
      " [1.]]\n"
     ]
    },
    {
     "name": "stderr",
     "output_type": "stream",
     "text": [
      "/Users/danielmanela/Library/CloudStorage/GoogleDrive-danielmanela@gmail.com/My Drive/work/deep-copula-frugal/validation/../frugal_flows/sample_outcome.py:61: UserWarning: Since both frugal flow object and u_yx are provided to location_translation model, u_yx quantiles will be used to sample from the flow object. If you want to fully sample from the flow object, please provide only the frugal flow object.\n",
      "  warnings.warn(\n"
     ]
    },
    {
     "data": {
      "image/png": "[encoded data removed]",
      "text/plain": [
       "<Figure size 640x480 with 1 Axes>"
      ]
     },
     "metadata": {},
     "output_type": "display_data"
    }
   ],
   "source": [
    "outcome_control_samples = sample_outcome(\n",
    "    frugal_flow=fitted_flow,\n",
    "    # affine_to_standard=False,\n",
    "    key=jr.PRNGKey(10),\n",
    "    n_samples=sampling_size,\n",
    "    causal_model='location_translation',\n",
    "    causal_condition=jnp.ones((100,1)),\n",
    "    u_yx=u_yx.flatten(),\n",
    "    **{'ate': 5}\n",
    ")\n",
    "plt.hist(outcome_control_samples);"
   ]
  },
  {
   "cell_type": "code",
   "execution_count": null,
   "id": "89f34d57-8f19-437f-b437-4b85f2207aa0",
   "metadata": {},
   "outputs": [],
   "source": [
    "fitted_flow.cond_shape"
   ]
  },
  {
   "cell_type": "code",
   "execution_count": null,
   "id": "7e38757a-51c1-43ef-8fdc-18681194e963",
   "metadata": {},
   "outputs": [],
   "source": [
    "outcome_control_samples = sample_outcome(\n",
    "    frugal_flow=fitted_flow,\n",
    "    affine_to_standard=False,\n",
    "    key=jr.PRNGKey(10),\n",
    "    n_samples=1000,\n",
    "    causal_model='location_translation',\n",
    "    causal_condition=jnp.zeros((1000,1)),\n",
    "    u_yx=u_yx.flatten(),\n",
    "    **{'ate': 5}\n",
    ")\n",
    "plt.hist(outcome_control_samples);"
   ]
  },
  {
   "cell_type": "markdown",
   "id": "41757425-f20f-45a8-accf-248a90b7f8a0",
   "metadata": {},
   "source": [
    "Process for sampling from our flow:\n",
    "* Generate a vector of samples for `u_y`\n",
    "* Sample `u_xz` accordingly\n",
    "* Use `u_y` to sample from the frugal_copula\n",
    "* Use `u_xz` to sample `u_x` according to the propensity score.\n",
    "\n",
    "\n",
    "\n",
    "\n",
    "\n"
   ]
  },
  {
   "cell_type": "markdown",
   "id": "a0073f82-bcad-4ca7-aa17-b3c0c55dff95",
   "metadata": {},
   "source": [
    "Working nicely"
   ]
  },
  {
   "cell_type": "code",
   "execution_count": null,
   "id": "801db874-ea33-496a-b504-f80492a691e4",
   "metadata": {},
   "outputs": [],
   "source": [
    "fitted_flow.bijection.bijections[-1].bijections[0].ate"
   ]
  },
  {
   "cell_type": "markdown",
   "id": "a7fb0818-69b1-426a-ac2a-7ac6b6263109",
   "metadata": {},
   "source": [
    "ATE Estimate checks out!"
   ]
  }
 ],
 "metadata": {
  "kernelspec": {
   "display_name": "Python 3 (ipykernel)",
   "language": "python",
   "name": "python3"
  },
  "language_info": {
   "codemirror_mode": {
    "name": "ipython",
    "version": 3
   },
   "file_extension": ".py",
   "mimetype": "text/x-python",
   "name": "python",
   "nbconvert_exporter": "python",
   "pygments_lexer": "ipython3",
   "version": "3.11.8"
  }
 },
 "nbformat": 4,
 "nbformat_minor": 5
}
