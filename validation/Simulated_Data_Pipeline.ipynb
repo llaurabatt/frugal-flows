{
 "cells": [
  {
   "cell_type": "markdown",
   "id": "671156ae-3e66-4997-85ba-b18bdfaec591",
   "metadata": {},
   "source": [
    "# Example Pipeline for Simulated Data\n",
    "\n",
    "This notebook is a proof-of-concept for generating causal samples from external samples"
   ]
  },
  {
   "cell_type": "code",
   "execution_count": 1,
   "id": "94fec690-e143-4b90-a218-f6652bdb2a19",
   "metadata": {},
   "outputs": [],
   "source": [
    "import sys\n",
    "sys.path.append(\"../\")  # go to parent dir\n",
    "import jax\n",
    "import jax.random as jr\n",
    "import jax.numpy as jnp\n",
    "# jnp.set_printoptions(precision=2)\n",
    "jax.config.update(\"jax_enable_x64\", True)\n",
    "import matplotlib.pyplot as plt\n",
    "import numpy as np\n",
    "import pandas as pd\n",
    "from scipy.stats import rankdata\n",
    "\n",
    "import rpy2.robjects as ro\n",
    "from rpy2.robjects.packages import importr\n",
    "from rpy2.robjects import pandas2ri\n",
    "from rpy2.robjects.vectors import StrVector\n",
    "from rpy2.robjects.packages import SignatureTranslatedAnonymousPackage\n",
    "\n",
    "from frugal_flows.causal_flows import independent_continuous_marginal_flow, get_independent_quantiles, train_frugal_flow\n",
    "from frugal_flows.sample_outcome import sample_outcome\n",
    "from frugal_flows.train_quantile_propensity_score import train_quantile_propensity_score\n",
    "from frugal_flows.bijections import UnivariateNormalCDF\n",
    "\n",
    "import data.template_causl_simulations as causl_py\n",
    "import wandb\n",
    "\n",
    "# Activate automatic conversion of rpy2 objects to pandas objects\n",
    "pandas2ri.activate()\n",
    "base = importr('base')\n",
    "utils = importr('utils')\n",
    "\n",
    "# Import the R library causl\n",
    "try:\n",
    "    causl = importr('causl')\n",
    "except Exception as e:\n",
    "    package_names = ('causl')\n",
    "    utils.install_packages(StrVector(package_names))\n",
    "\n",
    "hyperparam_dict = {\n",
    "    \"RQS_knots\": 8,\n",
    "    \"nn_depth\": 4,\n",
    "    \"nn_width\": 20,\n",
    "    \"flow_layers\": 4,\n",
    "    \"learning_rate\": 5e-3,\n",
    "    \"max_epochs\": 1000,\n",
    "    \"max_patience\": 100,\n",
    "}\n",
    "\n",
    "seed = 0\n",
    "N = 100\n",
    "sampling_size = 100\n",
    "causal_params = [0, 1]\n",
    "keys, *subkeys = jr.split(jr.PRNGKey(seed), 20)"
   ]
  },
  {
   "cell_type": "code",
   "execution_count": 2,
   "id": "518833f7-2e9f-4e0e-9a2d-f0ed10d3f3db",
   "metadata": {},
   "outputs": [],
   "source": [
    "Z_disc, Z_cont, X, Y = causl_py.generate_discrete_samples(N=N, seed=0, causal_params=causal_params).values()\n",
    "uz_disc_samples = get_independent_quantiles(key=jr.PRNGKey(2), z_discr=Z_disc)['u_z_discr']"
   ]
  },
  {
   "cell_type": "code",
   "execution_count": 3,
   "id": "6925b694-c235-4f87-b58a-1b9070cf163e",
   "metadata": {},
   "outputs": [
    {
     "name": "stderr",
     "output_type": "stream",
     "text": [
      " 10%|██████████▎                                                                                        | 104/1000 [00:05<00:45, 19.84it/s, train=1.1724403291476164, val=2.2802661442166907 (Max patience reached)]\n",
      " 11%|██████████▋                                                                                          | 106/1000 [00:03<00:26, 33.45it/s, train=1.6748982909464412, val=2.04905650706151 (Max patience reached)]\n"
     ]
    }
   ],
   "source": [
    "cont_flows = []\n",
    "uz_list = [uz_disc_samples]\n",
    "for d in range(Z_cont.shape[1]):\n",
    "    Z_d = jnp.array(Z_cont[:, d])[:, None]\n",
    "    res_d = get_independent_quantiles(key=subkeys[0], z_cont=Z_d, return_z_cont_flow=True, **hyperparam_dict)\n",
    "    uz_list.append(res_d['u_z_cont'])\n",
    "    cont_flows.append(res_d['z_cont_flow'])\n",
    "full_uz_samples = jnp.hstack(uz_list)"
   ]
  },
  {
   "cell_type": "code",
   "execution_count": 4,
   "id": "d36dca53-ddcf-4e96-abf2-6afc3841c246",
   "metadata": {},
   "outputs": [
    {
     "name": "stderr",
     "output_type": "stream",
     "text": [
      " 12%|████████████▎                                                                                      | 124/1000 [00:15<01:48,  8.07it/s, train=-1.0128617016829184, val=5.287712619583747 (Max patience reached)]\n"
     ]
    }
   ],
   "source": [
    "fitted_flow, losses = train_frugal_flow(\n",
    "    key=subkeys[1],\n",
    "    y=Y,\n",
    "    u_z=full_uz_samples,\n",
    "    condition=X,\n",
    "    causal_model=\"location_translation\",\n",
    "    causal_model_args={'ate': 0., **hyperparam_dict},\n",
    "    **hyperparam_dict\n",
    ")\n",
    "causal_margin = fitted_flow.bijection.bijections[-1].bijections[0]"
   ]
  },
  {
   "cell_type": "markdown",
   "id": "2e7cc111-7684-461f-a015-face9a95b155",
   "metadata": {},
   "source": [
    "## How we can find $U_z$ samples from a fitted copula whilst controlling the $U_{y\\mid x}$ samples"
   ]
  },
  {
   "cell_type": "code",
   "execution_count": 5,
   "id": "9174138b-5886-40b2-9ffe-b67161d21823",
   "metadata": {},
   "outputs": [],
   "source": [
    "u_yx = jr.uniform(key=subkeys[5], shape=(sampling_size, 1))\n",
    "baseline_uz = jr.uniform(key=subkeys[4], shape=(sampling_size, 4))\n",
    "frugal_baselines = jnp.hstack([u_yx, baseline_uz])\n",
    "vmap_frugal_flow = jax.vmap(fun=fitted_flow.bijection.transform, in_axes=(0))\n",
    "Y_samples = vmap_frugal_flow(x=frugal_baselines, condition=jnp.zeros(u_yx.shape))[:, 0]\n",
    "uz_samples = vmap_frugal_flow(x=frugal_baselines, condition=jnp.zeros(u_yx.shape))[:, 1:]"
   ]
  },
  {
   "cell_type": "code",
   "execution_count": 6,
   "id": "69e06e8d-09a8-4953-8982-2cd9b79fbacb",
   "metadata": {},
   "outputs": [
    {
     "name": "stdout",
     "output_type": "stream",
     "text": [
      "0.11560450141566463\n"
     ]
    }
   ],
   "source": [
    "print(causal_margin.ate)"
   ]
  },
  {
   "cell_type": "code",
   "execution_count": 13,
   "id": "85375849-e6bf-4ddf-b328-7b523ea765e2",
   "metadata": {},
   "outputs": [
    {
     "data": {
      "image/png": "[encoded data removed]",
      "text/plain": [
       "<Figure size 640x480 with 1 Axes>"
      ]
     },
     "metadata": {},
     "output_type": "display_data"
    }
   ],
   "source": [
    "plt.hist(Y_samples);"
   ]
  },
  {
   "cell_type": "markdown",
   "id": "d2a2fc12-0809-449c-8fe6-b8af71468dec",
   "metadata": {},
   "source": [
    "## Training the propensity score"
   ]
  },
  {
   "cell_type": "code",
   "execution_count": 8,
   "id": "bf975acc-66dc-41f8-bcdc-069307ea8220",
   "metadata": {},
   "outputs": [
    {
     "name": "stderr",
     "output_type": "stream",
     "text": [
      " 32%|███████████████████████████████▎                                                                  | 32/100 [00:02<00:05, 12.83it/s, train=-0.37815551152988847, val=0.12617665458368937 (Max patience reached)]\n"
     ]
    }
   ],
   "source": [
    "prop_flow, losses = train_quantile_propensity_score(\n",
    "    key=subkeys[2],\n",
    "    x=X.astype(int),\n",
    "    condition=jnp.hstack([Z_disc, Z_cont])\n",
    ")\n",
    "prop_flow_cdf = prop_flow.bijection.transform\n",
    "vmapped_prop_flow_cdf = jax.vmap(prop_flow_cdf, in_axes=(0,))\n",
    "u_xz = jr.uniform(subkeys[1], (100,))[:, None]\n",
    "u_x = vmapped_prop_flow_cdf(u_xz, condition=jnp.hstack([Z_disc, Z_cont])[:100])"
   ]
  },
  {
   "cell_type": "markdown",
   "id": "f2d34d89-af4b-46e9-af9a-ef0686978b02",
   "metadata": {},
   "source": [
    "## Sampling from Outcome"
   ]
  },
  {
   "cell_type": "code",
   "execution_count": 9,
   "id": "f7b62f4b-9893-46e8-8ba8-f480df8f29d7",
   "metadata": {},
   "outputs": [
    {
     "name": "stderr",
     "output_type": "stream",
     "text": [
      "/Users/danielmanela/Library/CloudStorage/GoogleDrive-danielmanela@gmail.com/My Drive/work/deep-copula-frugal/validation/../frugal_flows/sample_outcome.py:60: UserWarning: Since both frugal flow object and u_yx are provided to location_translation model, u_yx quantiles will be used to sample from the flow object. If you want to fully sample from the flow object, please provide only the frugal flow object.\n",
      "  warnings.warn(\n"
     ]
    },
    {
     "data": {
      "image/png": "[encoded data removed]",
      "text/plain": [
       "<Figure size 640x480 with 1 Axes>"
      ]
     },
     "metadata": {},
     "output_type": "display_data"
    }
   ],
   "source": [
    "outcome_control_samples = sample_outcome(\n",
    "    frugal_flow=fitted_flow,\n",
    "    key=jr.PRNGKey(10),\n",
    "    n_samples=sampling_size,\n",
    "    causal_model='location_translation',\n",
    "    causal_condition=jnp.ones((sampling_size,1)),\n",
    "    u_yx=u_yx.flatten(),\n",
    "    **{'ate': 5}\n",
    ")\n",
    "plt.hist(outcome_control_samples);"
   ]
  },
  {
   "cell_type": "code",
   "execution_count": 11,
   "id": "7e38757a-51c1-43ef-8fdc-18681194e963",
   "metadata": {},
   "outputs": [
    {
     "name": "stderr",
     "output_type": "stream",
     "text": [
      "/Users/danielmanela/Library/CloudStorage/GoogleDrive-danielmanela@gmail.com/My Drive/work/deep-copula-frugal/validation/../frugal_flows/sample_outcome.py:60: UserWarning: Since both frugal flow object and u_yx are provided to location_translation model, u_yx quantiles will be used to sample from the flow object. If you want to fully sample from the flow object, please provide only the frugal flow object.\n",
      "  warnings.warn(\n"
     ]
    },
    {
     "data": {
      "image/png": "[encoded data removed]",
      "text/plain": [
       "<Figure size 640x480 with 1 Axes>"
      ]
     },
     "metadata": {},
     "output_type": "display_data"
    }
   ],
   "source": [
    "outcome_control_samples = sample_outcome(\n",
    "    frugal_flow=fitted_flow,\n",
    "    key=jr.PRNGKey(10),\n",
    "    n_samples=sampling_size,\n",
    "    causal_model='location_translation',\n",
    "    causal_condition=jnp.zeros((sampling_size,1)),\n",
    "    u_yx=u_yx.flatten(),\n",
    "    **{'ate': 5}\n",
    ")\n",
    "plt.hist(outcome_control_samples);"
   ]
  },
  {
   "cell_type": "markdown",
   "id": "41757425-f20f-45a8-accf-248a90b7f8a0",
   "metadata": {},
   "source": [
    "Process for sampling from our flow:\n",
    "* Generate a vector of samples for `u_y`\n",
    "* Sample `u_xz` accordingly\n",
    "* Use `u_y` to sample from the frugal_copula\n",
    "* Use `u_xz` to sample `u_x` according to the propensity score.\n",
    "\n",
    "\n",
    "\n",
    "\n",
    "\n"
   ]
  },
  {
   "cell_type": "markdown",
   "id": "a0073f82-bcad-4ca7-aa17-b3c0c55dff95",
   "metadata": {},
   "source": [
    "Working nicely"
   ]
  },
  {
   "cell_type": "code",
   "execution_count": 12,
   "id": "801db874-ea33-496a-b504-f80492a691e4",
   "metadata": {},
   "outputs": [
    {
     "data": {
      "text/plain": [
       "Array(0.1156045, dtype=float64)"
      ]
     },
     "execution_count": 12,
     "metadata": {},
     "output_type": "execute_result"
    }
   ],
   "source": [
    "fitted_flow.bijection.bijections[-1].bijections[0].ate"
   ]
  },
  {
   "cell_type": "markdown",
   "id": "a7fb0818-69b1-426a-ac2a-7ac6b6263109",
   "metadata": {},
   "source": [
    "ATE Estimate checks out!"
   ]
  }
 ],
 "metadata": {
  "kernelspec": {
   "display_name": "Python 3 (ipykernel)",
   "language": "python",
   "name": "python3"
  },
  "language_info": {
   "codemirror_mode": {
    "name": "ipython",
    "version": 3
   },
   "file_extension": ".py",
   "mimetype": "text/x-python",
   "name": "python",
   "nbconvert_exporter": "python",
   "pygments_lexer": "ipython3",
   "version": "3.11.8"
  }
 },
 "nbformat": 4,
 "nbformat_minor": 5
}
