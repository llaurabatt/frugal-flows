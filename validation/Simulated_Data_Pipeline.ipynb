{
 "cells": [
  {
   "cell_type": "markdown",
   "id": "671156ae-3e66-4997-85ba-b18bdfaec591",
   "metadata": {},
   "source": [
    "# Example Pipeline for Simulated Data\n",
    "\n",
    "This notebook is a proof-of-concept for generating causal samples from external samples"
   ]
  },
  {
   "cell_type": "code",
   "execution_count": 4,
   "id": "94e07091-0205-4149-bf97-5cfad9f80bca",
   "metadata": {},
   "outputs": [
    {
     "name": "stdout",
     "output_type": "stream",
     "text": [
      "\u001b[1m\u001b[36m__pycache__\u001b[m\u001b[m                   data.csv\n",
      "\u001b[1m\u001b[36mcredence-to-causal-estimation\u001b[m\u001b[m experimenting_with_R.R\n"
     ]
    }
   ],
   "source": [
    "!ls ../data/analysis"
   ]
  },
  {
   "cell_type": "code",
   "execution_count": 1,
   "id": "94fec690-e143-4b90-a218-f6652bdb2a19",
   "metadata": {},
   "outputs": [],
   "source": [
    "import sys\n",
    "sys.path.append(\"../\")  # go to parent dir\n",
    "sys.path.append(\"../data/analysis/\")  # go to parent dir\n",
    "\n",
    "import jax\n",
    "import jax.random as jr\n",
    "import jax.numpy as jnp\n",
    "# jnp.set_printoptions(precision=2)\n",
    "jax.config.update(\"jax_enable_x64\", True)\n",
    "import matplotlib.pyplot as plt\n",
    "import numpy as np\n",
    "import pandas as pd\n",
    "from scipy.stats import rankdata\n",
    "\n",
    "import rpy2.robjects as ro\n",
    "from rpy2.robjects.packages import importr\n",
    "from rpy2.robjects import pandas2ri\n",
    "from rpy2.robjects.vectors import StrVector\n",
    "from rpy2.robjects.packages import SignatureTranslatedAnonymousPackage\n",
    "\n",
    "from frugal_flows.causal_flows import independent_continuous_marginal_flow, get_independent_quantiles, train_frugal_flow\n",
    "from frugal_flows.sample_outcome import sample_outcome\n",
    "from frugal_flows.sample_marginals import from_quantiles_to_marginal_cont, from_quantiles_to_marginal_discr\n",
    "from frugal_flows.train_quantile_propensity_score import train_quantile_propensity_score\n",
    "from frugal_flows.bijections import UnivariateNormalCDF\n",
    "\n",
    "import data.template_causl_simulations as causl_py\n",
    "import wandb\n",
    "\n",
    "# Activate automatic conversion of rpy2 objects to pandas objects\n",
    "pandas2ri.activate()\n",
    "base = importr('base')\n",
    "utils = importr('utils')\n",
    "\n",
    "# Import the R library causl\n",
    "try:\n",
    "    causl = importr('causl')\n",
    "except Exception as e:\n",
    "    package_names = ('causl')\n",
    "    utils.install_packages(StrVector(package_names))\n",
    "\n",
    "hyperparam_dict = {\n",
    "    \"RQS_knots\": 8,\n",
    "    \"nn_depth\": 4,\n",
    "    \"nn_width\": 50,\n",
    "    \"flow_layers\": 4,\n",
    "    \"learning_rate\": 5e-3,\n",
    "    \"max_epochs\": 1000,\n",
    "    \"max_patience\": 100,\n",
    "}\n",
    "\n",
    "seed = 0\n",
    "N = 5000\n",
    "sampling_size = 1000\n",
    "causal_params = [0, 1]\n",
    "keys, *subkeys = jr.split(jr.PRNGKey(seed), 20)"
   ]
  },
  {
   "cell_type": "code",
   "execution_count": 2,
   "id": "93df3843-cba2-48d7-86d1-928acff11fb3",
   "metadata": {},
   "outputs": [
    {
     "ename": "ModuleNotFoundError",
     "evalue": "No module named 'validationMethods'",
     "output_type": "error",
     "traceback": [
      "\u001b[0;31m---------------------------------------------------------------------------\u001b[0m",
      "\u001b[0;31mModuleNotFoundError\u001b[0m                       Traceback (most recent call last)",
      "Cell \u001b[0;32mIn[2], line 1\u001b[0m\n\u001b[0;32m----> 1\u001b[0m \u001b[38;5;28;01mfrom\u001b[39;00m \u001b[38;5;21;01mvalidationMethods\u001b[39;00m \u001b[38;5;28;01mimport\u001b[39;00m \u001b[38;5;241m*\u001b[39m\n",
      "\u001b[0;31mModuleNotFoundError\u001b[0m: No module named 'validationMethods'"
     ]
    }
   ],
   "source": [
    "from validationMethods import *"
   ]
  },
  {
   "cell_type": "code",
   "execution_count": null,
   "id": "ef071943-4131-4052-932d-1578677a6833",
   "metadata": {},
   "outputs": [],
   "source": []
  },
  {
   "cell_type": "code",
   "execution_count": 2,
   "id": "063f9919-5236-42fb-8c13-b7048dbb933a",
   "metadata": {},
   "outputs": [],
   "source": [
    "def bivariate_gaussian_copula(key, N, rho):\n",
    "    corr_matrix = jnp.array([\n",
    "        [1., rho],\n",
    "        [rho, 1.]\n",
    "    ])\n",
    "    mean = jnp.array([0,0])\n",
    "    quantiles = jax.scipy.special.ndtr(\n",
    "        jr.multivariate_normal(key=key, mean=mean, cov=corr_matrix, shape=(N,))\n",
    "    )\n",
    "    return quantiles[:, 0], quantiles[:, 1]"
   ]
  },
  {
   "cell_type": "code",
   "execution_count": 3,
   "id": "518833f7-2e9f-4e0e-9a2d-f0ed10d3f3db",
   "metadata": {},
   "outputs": [],
   "source": [
    "Z_disc, Z_cont, X, Y = causl_py.generate_discrete_samples(N=N, seed=0, causal_params=causal_params).values()"
   ]
  },
  {
   "cell_type": "code",
   "execution_count": 4,
   "id": "f3dee250-b094-4fb1-b837-c6da886df48d",
   "metadata": {},
   "outputs": [
    {
     "name": "stderr",
     "output_type": "stream",
     "text": [
      " 16%|███████████████▉                                                                                     | 158/1000 [00:17<01:34,  8.91it/s, train=1.40953476214867, val=1.4305634806593555 (Max patience reached)]\n",
      " 30%|█████████████████████████████▉                                                                       | 297/1000 [00:30<01:11,  9.81it/s, train=1.75660020196647, val=1.7507433308944922 (Max patience reached)]\n"
     ]
    }
   ],
   "source": [
    "res = get_independent_quantiles(\n",
    "    key=subkeys[0],\n",
    "    z_cont=Z_cont,\n",
    "    z_discr=Z_disc,\n",
    "    max_epochs=1000,\n",
    "    max_patience=100,\n",
    "    return_z_cont_flow=True\n",
    ")\n",
    "uz_full_samples = jnp.hstack([res['u_z_cont'], res['u_z_discr']])"
   ]
  },
  {
   "cell_type": "code",
   "execution_count": 5,
   "id": "03988688-a7da-41f9-9aaa-d0de849c9bc3",
   "metadata": {},
   "outputs": [
    {
     "data": {
      "text/plain": [
       "Array([[0.97760908, 0.35886636],\n",
       "       [0.35886636, 1.00429202]], dtype=float64)"
      ]
     },
     "execution_count": 5,
     "metadata": {},
     "output_type": "execute_result"
    }
   ],
   "source": [
    "jnp.cov(jax.scipy.special.ndtri(res['u_z_cont']).T)"
   ]
  },
  {
   "cell_type": "code",
   "execution_count": 6,
   "id": "d36dca53-ddcf-4e96-abf2-6afc3841c246",
   "metadata": {},
   "outputs": [
    {
     "name": "stderr",
     "output_type": "stream",
     "text": [
      " 12%|███████████▌                                                                                       | 117/1000 [00:50<06:23,  2.30it/s, train=0.9929109406817149, val=1.4106291427939166 (Max patience reached)]\n"
     ]
    }
   ],
   "source": [
    "fitted_flow, losses = train_frugal_flow(\n",
    "    key=subkeys[1],\n",
    "    y=Y,\n",
    "    u_z=uz_full_samples,\n",
    "    condition=X,\n",
    "    causal_model=\"location_translation\",\n",
    "    causal_model_args={'ate': 0., **hyperparam_dict},\n",
    "    **hyperparam_dict\n",
    ")\n",
    "causal_margin = fitted_flow.bijection.bijections[-1].bijections[0]"
   ]
  },
  {
   "cell_type": "code",
   "execution_count": 7,
   "id": "058866a3-8f31-4c74-87e9-08f96c8b5c3c",
   "metadata": {},
   "outputs": [
    {
     "name": "stdout",
     "output_type": "stream",
     "text": [
      "0.9850151457041446\n"
     ]
    }
   ],
   "source": [
    "print(causal_margin.ate)"
   ]
  },
  {
   "cell_type": "markdown",
   "id": "2e7cc111-7684-461f-a015-face9a95b155",
   "metadata": {},
   "source": [
    "## How we can find $U_z$ samples from a fitted copula whilst controlling the $U_{y\\mid x}$ samples"
   ]
  },
  {
   "cell_type": "markdown",
   "id": "386c6361-aa1f-4e10-8771-a128cde28b2a",
   "metadata": {},
   "source": [
    "1. Sample $U^{*}_{Y\\mid X}$\n",
    "1. Sample $U_{Z}$ baselines\n",
    "1. Sample from frugal flow to get $U_{Z}$\n",
    "1. Get $Z$ samples\n",
    "1. Train Propensity Flow\n",
    "1. Get $X$ from $Z$ and $U_{X\\mid Z}$\n",
    "1. Sample $Y$ from $U^{*}_{Y\\mid X}$"
   ]
  },
  {
   "cell_type": "markdown",
   "id": "6042183e-06a6-4eca-a1bc-83feef769f34",
   "metadata": {},
   "source": [
    "1. Sample $U_{Y\\mid X}$ and $U_{X\\mid Z}$"
   ]
  },
  {
   "cell_type": "code",
   "execution_count": 13,
   "id": "6c42939c-0342-4747-8e5f-a2aeb7eba4bb",
   "metadata": {},
   "outputs": [],
   "source": [
    "rho = 0.5\n",
    "u_yx, u_xz = bivariate_gaussian_copula(jr.PRNGKey(123), sampling_size, rho)\n",
    "u_yx = u_yx[:, None]\n",
    "u_xz = u_xz[:, None]"
   ]
  },
  {
   "cell_type": "markdown",
   "id": "d435d230-4ed9-409f-a69e-6ec19c4f5225",
   "metadata": {},
   "source": [
    "2. Sample $U_{Z}$ baselines"
   ]
  },
  {
   "cell_type": "code",
   "execution_count": 14,
   "id": "87bc265b-9cc8-4b3b-80cf-03cb6df83bd8",
   "metadata": {},
   "outputs": [],
   "source": [
    "baseline_uz = jr.uniform(key=subkeys[4], shape=(sampling_size, 4))"
   ]
  },
  {
   "cell_type": "markdown",
   "id": "2a89d3a4-0c3a-4a5b-b434-d7e4a3b67b34",
   "metadata": {},
   "source": [
    "3. Sample from Frugal Flow to get $U_{Z}$"
   ]
  },
  {
   "cell_type": "code",
   "execution_count": 16,
   "id": "4f637f79-3498-40e4-9ed8-5cca39dc5c17",
   "metadata": {},
   "outputs": [],
   "source": [
    "frugal_baselines = jnp.hstack([u_yx, baseline_uz])\n",
    "vmap_frugal_flow = jax.vmap(fun=fitted_flow.bijection.transform, in_axes=(0))\n",
    "Y_samples = vmap_frugal_flow(x=frugal_baselines, condition=jnp.zeros(u_yx.shape))[:, 0]\n",
    "uz_samples = vmap_frugal_flow(x=frugal_baselines, condition=jnp.zeros(u_yx.shape))[:, 1:]"
   ]
  },
  {
   "cell_type": "markdown",
   "id": "1c737ec5-89c6-4f7b-b9f4-ac9e421ef830",
   "metadata": {},
   "source": [
    "4. Get $Z$ samples"
   ]
  },
  {
   "cell_type": "code",
   "execution_count": 17,
   "id": "d6217a8e-6c49-4c67-82d6-e22ea0fd9883",
   "metadata": {},
   "outputs": [],
   "source": [
    "Z_cont_samples = from_quantiles_to_marginal_cont(\n",
    "    key=subkeys[5],\n",
    "    flow=res['z_cont_flows'],\n",
    "    n_samples=sampling_size,\n",
    "    u_z=uz_samples[:, :2]\n",
    ")"
   ]
  },
  {
   "cell_type": "code",
   "execution_count": 18,
   "id": "cd61561f-c576-4d2c-965a-9e3c3f94e24c",
   "metadata": {},
   "outputs": [],
   "source": [
    "Z_disc_samples = from_quantiles_to_marginal_discr(\n",
    "    key=subkeys[6],\n",
    "    mappings=res['z_discr_rank_mapping'],\n",
    "    empirical_cdfs=res['z_discr_empirical_cdf_long'],\n",
    "    nvars=res['u_z_discr'].shape[1],\n",
    "    n_samples=sampling_size,\n",
    "    u_z=uz_samples[:, 2:]\n",
    ")"
   ]
  },
  {
   "cell_type": "code",
   "execution_count": 19,
   "id": "5be9ff9d-b4e8-4d91-8f40-e98ec029412c",
   "metadata": {},
   "outputs": [],
   "source": [
    "full_Z_samples = jnp.hstack([Z_cont_samples, Z_disc_samples])"
   ]
  },
  {
   "cell_type": "markdown",
   "id": "b51d5274-d3f5-438c-b303-e121426ef812",
   "metadata": {},
   "source": [
    "5. Train Propensity Flow"
   ]
  },
  {
   "cell_type": "code",
   "execution_count": 20,
   "id": "b983aed5-2fcf-45c3-8fa8-92e7ea323aff",
   "metadata": {},
   "outputs": [
    {
     "name": "stderr",
     "output_type": "stream",
     "text": [
      " 20%|███████████████████▌                                                                              | 20/100 [00:03<00:14,  5.46it/s, train=-0.37353490914253895, val=-0.3123344570022014 (Max patience reached)]\n"
     ]
    }
   ],
   "source": [
    "prop_flow, losses = train_quantile_propensity_score(\n",
    "    key=subkeys[2],\n",
    "    x=X.astype(int),\n",
    "    condition=jnp.hstack([Z_disc, Z_cont])\n",
    ")"
   ]
  },
  {
   "cell_type": "markdown",
   "id": "c8333094-7c57-4b1d-b073-e41129316dbb",
   "metadata": {},
   "source": [
    "6. Sample $X$ from $U_{X\\mid Z}$"
   ]
  },
  {
   "cell_type": "code",
   "execution_count": 21,
   "id": "e0cfd90d-a692-43dc-aeb6-34c0517c3945",
   "metadata": {},
   "outputs": [],
   "source": [
    "prop_flow_cdf = prop_flow.bijection.transform\n",
    "vmapped_prop_flow_cdf = jax.vmap(prop_flow_cdf, in_axes=(0,))\n",
    "u_x = vmapped_prop_flow_cdf(u_xz, condition=full_Z_samples)"
   ]
  },
  {
   "cell_type": "code",
   "execution_count": 22,
   "id": "7bee13dc-9e50-4b1d-a68a-1cd567ec54b0",
   "metadata": {},
   "outputs": [],
   "source": [
    "X_samples = (u_x > (1 - jnp.mean(X))).astype(int)"
   ]
  },
  {
   "cell_type": "markdown",
   "id": "45e1e802-66d7-49bb-822b-f4bf32dd3c20",
   "metadata": {},
   "source": [
    "7. Sample Y from $U^{*}_{Y\\mid X}"
   ]
  },
  {
   "cell_type": "code",
   "execution_count": 24,
   "id": "9175d150-9b12-4046-af01-6c3c27daf440",
   "metadata": {},
   "outputs": [
    {
     "name": "stderr",
     "output_type": "stream",
     "text": [
      "/Users/danielmanela/Library/CloudStorage/GoogleDrive-danielmanela@gmail.com/My Drive/work/deep-copula-frugal/validation/../frugal_flows/sample_outcome.py:60: UserWarning: Since both frugal flow object and u_yx are provided to location_translation model, u_yx quantiles will be used to sample from the flow object. If you want to fully sample from the flow object, please provide only the frugal flow object.\n",
      "  warnings.warn(\n"
     ]
    },
    {
     "data": {
      "image/png": "[encoded data removed]",
      "text/plain": [
       "<Figure size 640x480 with 1 Axes>"
      ]
     },
     "metadata": {},
     "output_type": "display_data"
    }
   ],
   "source": [
    "Y_samples = sample_outcome(\n",
    "    frugal_flow=fitted_flow,\n",
    "    key=jr.PRNGKey(10),\n",
    "    n_samples=sampling_size,\n",
    "    causal_model='location_translation',\n",
    "    causal_condition=X_samples[:, None],\n",
    "    u_yx=u_yx.flatten(),\n",
    "    **{'ate': 5}\n",
    ")\n",
    "plt.hist(Y_samples.T);"
   ]
  },
  {
   "cell_type": "markdown",
   "id": "e1beb3c9-bf5f-48bd-957c-f41c977b0618",
   "metadata": {},
   "source": [
    "## Concatenate full data together"
   ]
  },
  {
   "cell_type": "code",
   "execution_count": 25,
   "id": "86bea4f4-1393-4a13-a509-27c48a5a6341",
   "metadata": {},
   "outputs": [],
   "source": [
    "sim_data = jnp.hstack([Y_samples, X_samples, full_Z_samples])\n",
    "sim_data_df = pd.DataFrame(sim_data, columns=['Y', 'X', *[f\"Z_{i+1}\" for i in range(full_Z_samples.shape[1])]])"
   ]
  },
  {
   "cell_type": "code",
   "execution_count": 26,
   "id": "44da1148-8df8-4ba6-838b-4f56a96ccccb",
   "metadata": {},
   "outputs": [
    {
     "data": {
      "text/html": [
       "<div>\n",
       "<style scoped>\n",
       "    .dataframe tbody tr th:only-of-type {\n",
       "        vertical-align: middle;\n",
       "    }\n",
       "\n",
       "    .dataframe tbody tr th {\n",
       "        vertical-align: top;\n",
       "    }\n",
       "\n",
       "    .dataframe thead th {\n",
       "        text-align: right;\n",
       "    }\n",
       "</style>\n",
       "<table border=\"1\" class=\"dataframe\">\n",
       "  <thead>\n",
       "    <tr style=\"text-align: right;\">\n",
       "      <th></th>\n",
       "      <th>Y</th>\n",
       "      <th>X</th>\n",
       "      <th>Z_1</th>\n",
       "      <th>Z_2</th>\n",
       "      <th>Z_3</th>\n",
       "      <th>Z_4</th>\n",
       "    </tr>\n",
       "  </thead>\n",
       "  <tbody>\n",
       "    <tr>\n",
       "      <th>0</th>\n",
       "      <td>6.952709</td>\n",
       "      <td>1.0</td>\n",
       "      <td>2.084566</td>\n",
       "      <td>1.292546</td>\n",
       "      <td>1.0</td>\n",
       "      <td>1.0</td>\n",
       "    </tr>\n",
       "    <tr>\n",
       "      <th>1</th>\n",
       "      <td>4.293337</td>\n",
       "      <td>1.0</td>\n",
       "      <td>-1.117203</td>\n",
       "      <td>-0.881514</td>\n",
       "      <td>1.0</td>\n",
       "      <td>1.0</td>\n",
       "    </tr>\n",
       "    <tr>\n",
       "      <th>2</th>\n",
       "      <td>4.632083</td>\n",
       "      <td>1.0</td>\n",
       "      <td>0.917662</td>\n",
       "      <td>0.966352</td>\n",
       "      <td>0.0</td>\n",
       "      <td>1.0</td>\n",
       "    </tr>\n",
       "    <tr>\n",
       "      <th>3</th>\n",
       "      <td>-0.596116</td>\n",
       "      <td>0.0</td>\n",
       "      <td>0.009526</td>\n",
       "      <td>-0.694892</td>\n",
       "      <td>1.0</td>\n",
       "      <td>0.0</td>\n",
       "    </tr>\n",
       "    <tr>\n",
       "      <th>4</th>\n",
       "      <td>5.962860</td>\n",
       "      <td>1.0</td>\n",
       "      <td>1.007556</td>\n",
       "      <td>0.890902</td>\n",
       "      <td>1.0</td>\n",
       "      <td>1.0</td>\n",
       "    </tr>\n",
       "    <tr>\n",
       "      <th>...</th>\n",
       "      <td>...</td>\n",
       "      <td>...</td>\n",
       "      <td>...</td>\n",
       "      <td>...</td>\n",
       "      <td>...</td>\n",
       "      <td>...</td>\n",
       "    </tr>\n",
       "    <tr>\n",
       "      <th>995</th>\n",
       "      <td>6.458470</td>\n",
       "      <td>1.0</td>\n",
       "      <td>1.068450</td>\n",
       "      <td>-0.651313</td>\n",
       "      <td>0.0</td>\n",
       "      <td>1.0</td>\n",
       "    </tr>\n",
       "    <tr>\n",
       "      <th>996</th>\n",
       "      <td>5.284184</td>\n",
       "      <td>1.0</td>\n",
       "      <td>-0.166962</td>\n",
       "      <td>1.325831</td>\n",
       "      <td>1.0</td>\n",
       "      <td>1.0</td>\n",
       "    </tr>\n",
       "    <tr>\n",
       "      <th>997</th>\n",
       "      <td>0.596289</td>\n",
       "      <td>0.0</td>\n",
       "      <td>0.772433</td>\n",
       "      <td>-1.160791</td>\n",
       "      <td>1.0</td>\n",
       "      <td>1.0</td>\n",
       "    </tr>\n",
       "    <tr>\n",
       "      <th>998</th>\n",
       "      <td>4.343938</td>\n",
       "      <td>1.0</td>\n",
       "      <td>-0.014590</td>\n",
       "      <td>0.011042</td>\n",
       "      <td>1.0</td>\n",
       "      <td>1.0</td>\n",
       "    </tr>\n",
       "    <tr>\n",
       "      <th>999</th>\n",
       "      <td>4.715789</td>\n",
       "      <td>1.0</td>\n",
       "      <td>0.582721</td>\n",
       "      <td>3.196008</td>\n",
       "      <td>0.0</td>\n",
       "      <td>1.0</td>\n",
       "    </tr>\n",
       "  </tbody>\n",
       "</table>\n",
       "<p>1000 rows × 6 columns</p>\n",
       "</div>"
      ],
      "text/plain": [
       "            Y    X       Z_1       Z_2  Z_3  Z_4\n",
       "0    6.952709  1.0  2.084566  1.292546  1.0  1.0\n",
       "1    4.293337  1.0 -1.117203 -0.881514  1.0  1.0\n",
       "2    4.632083  1.0  0.917662  0.966352  0.0  1.0\n",
       "3   -0.596116  0.0  0.009526 -0.694892  1.0  0.0\n",
       "4    5.962860  1.0  1.007556  0.890902  1.0  1.0\n",
       "..        ...  ...       ...       ...  ...  ...\n",
       "995  6.458470  1.0  1.068450 -0.651313  0.0  1.0\n",
       "996  5.284184  1.0 -0.166962  1.325831  1.0  1.0\n",
       "997  0.596289  0.0  0.772433 -1.160791  1.0  1.0\n",
       "998  4.343938  1.0 -0.014590  0.011042  1.0  1.0\n",
       "999  4.715789  1.0  0.582721  3.196008  0.0  1.0\n",
       "\n",
       "[1000 rows x 6 columns]"
      ]
     },
     "execution_count": 26,
     "metadata": {},
     "output_type": "execute_result"
    }
   ],
   "source": [
    "sim_data_df"
   ]
  },
  {
   "cell_type": "code",
   "execution_count": null,
   "id": "19232377-3076-481a-9e79-df549587ae28",
   "metadata": {},
   "outputs": [],
   "source": []
  }
 ],
 "metadata": {
  "kernelspec": {
   "display_name": "Python 3 (ipykernel)",
   "language": "python",
   "name": "python3"
  },
  "language_info": {
   "codemirror_mode": {
    "name": "ipython",
    "version": 3
   },
   "file_extension": ".py",
   "mimetype": "text/x-python",
   "name": "python",
   "nbconvert_exporter": "python",
   "pygments_lexer": "ipython3",
   "version": "3.11.8"
  }
 },
 "nbformat": 4,
 "nbformat_minor": 5
}
