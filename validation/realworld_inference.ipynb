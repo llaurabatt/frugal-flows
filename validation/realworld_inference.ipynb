{
 "cells": [
  {
   "cell_type": "markdown",
   "id": "338d445e-e5ba-41d7-b3ca-21d5733c5318",
   "metadata": {},
   "source": [
    "# Real World Inference"
   ]
  },
  {
   "cell_type": "code",
   "execution_count": 11,
   "id": "ec19052a-6f39-4513-b5f6-69834a134a72",
   "metadata": {},
   "outputs": [],
   "source": [
    "import sys\n",
    "import os\n",
    "sys.path.append(\"../\") # go to parent dir\n",
    "\n",
    "import jax\n",
    "import jax.random as jr\n",
    "import jax.numpy as jnp\n",
    "import matplotlib.pyplot as plt\n",
    "import numpy as np\n",
    "import pandas as pd\n",
    "import scipy\n",
    "import numpy as np\n",
    "from scipy.stats import rankdata\n",
    "import scipy.stats as ss\n",
    "import statsmodels.api as sm\n",
    "import seaborn as sns\n",
    "from sklearn.model_selection import KFold\n",
    "from tqdm import tqdm\n",
    "\n",
    "# from data.create_sim_data import *\n",
    "import data.template_causl_simulations as causl_py\n",
    "from data.run_all_simulations import plot_simulation_results\n",
    "from data.analysis.validationMethods import matchit\n",
    "from frugal_flows.causal_flows import independent_continuous_marginal_flow, get_independent_quantiles, train_frugal_flow\n",
    "from frugal_flows.bijections import UnivariateNormalCDF\n",
    "\n",
    "import rpy2.robjects as ro\n",
    "from rpy2.robjects.packages import importr\n",
    "from rpy2.robjects import pandas2ri\n",
    "from rpy2.robjects.packages import SignatureTranslatedAnonymousPackage\n",
    "from rpy2.robjects.vectors import StrVector\n",
    "\n",
    "# Activate automatic conversion of rpy2 objects to pandas objects\n",
    "pandas2ri.activate()\n",
    "base = importr('base')\n",
    "utils = importr('utils')\n",
    "\n",
    "# Import the R library causl\n",
    "try:\n",
    "    causl = importr('causl')\n",
    "except Exception as e:\n",
    "    package_names = ('causl')\n",
    "    utils.install_packages(StrVector(package_names))\n",
    "\n",
    "jax.config.update(\"jax_enable_x64\", True)\n",
    "\n",
    "hyperparams_dict = {\n",
    "    'learning_rate': 5e-3,\n",
    "    'RQS_knots': 8,\n",
    "    'flow_layers': 5,\n",
    "    'nn_width': 50,\n",
    "    'nn_depth': 4,    \n",
    "    'max_patience': 100,\n",
    "    'max_epochs': 10000\n",
    "}\n",
    "causal_margin_hyperparams_dict = {\n",
    "    'RQS_knots': 4,\n",
    "    'flow_layers': 8,\n",
    "    'nn_depth': 10,    \n",
    "    'nn_width': 50,\n",
    "}\n",
    "\n",
    "SEED = 0\n",
    "NUM_ITER = 25\n",
    "NUM_SAMPLES = 25000\n",
    "TRUE_PARAMS = {'ate': 1, 'const': 0, 'scale': 1}\n",
    "CAUSAL_PARAMS = [5, 5]"
   ]
  },
  {
   "cell_type": "code",
   "execution_count": 2,
   "id": "252e1c55-5bb9-4a7e-8d56-21f1d6acfb74",
   "metadata": {},
   "outputs": [],
   "source": [
    "def run_outcome_regression(data):\n",
    "    Z_cont = data.get('Z_cont', None)\n",
    "    Z_disc = data.get('Z_disc', None)\n",
    "    if Z_cont == None:\n",
    "        Z_full = Z_disc\n",
    "    elif Z_disc == None:\n",
    "        Z_full = Z_cont\n",
    "    else:\n",
    "        Z_full = jnp.hstack([Z_cont, Z_disc])\n",
    "    Z_cols = [f\"Z{i+1}\" for i in range(Z_full.shape[1])]\n",
    "    df = pd.DataFrame(jnp.hstack([data['Y'], data['X'], Z_full]), columns=['Y', 'X', *Z_cols])\n",
    "    X_vars = df[['X', *Z_cols]]\n",
    "    X_vars = sm.add_constant(X_vars)\n",
    "    Y_var = df['Y']\n",
    "    model = sm.OLS(Y_var, X_vars).fit()\n",
    "    coefficient_X = model.params['X']\n",
    "    coefficient_const = model.params['const']\n",
    "    return coefficient_X, coefficient_const"
   ]
  },
  {
   "cell_type": "code",
   "execution_count": 3,
   "id": "0e8dfcff-f797-4176-baf8-3b04bcb1933f",
   "metadata": {},
   "outputs": [],
   "source": [
    "def dict_to_dataframe(data):\n",
    "    # Extract the data from the dictionary\n",
    "    X = np.array(data['X']).flatten()\n",
    "    Y = np.array(data['Y']).flatten()\n",
    "    \n",
    "    # Initialize a dictionary to construct the DataFrame\n",
    "    df_dict = {'X': X, 'Y': Y}\n",
    "    \n",
    "    # Initialize the Z column index\n",
    "    z_index = 1\n",
    "    \n",
    "    # Process Z_cont\n",
    "    if 'Z_cont' in data and data['Z_cont'] is not None:\n",
    "        Z_cont = np.array(data['Z_cont'])\n",
    "        for i in range(Z_cont.shape[1]):\n",
    "            df_dict[f'Z{z_index}'] = Z_cont[:, i]\n",
    "            z_index += 1\n",
    "    \n",
    "    # Process Z_disc (assuming similar structure if it were present)\n",
    "    if 'Z_disc' in data and data['Z_disc'] is not None:\n",
    "        Z_disc = np.array(data['Z_disc'])\n",
    "        for i in range(Z_disc.shape[1]):\n",
    "            df_dict[f'Z{z_index}'] = Z_disc[:, i]\n",
    "            z_index += 1\n",
    "    \n",
    "    # Create the DataFrame\n",
    "    df = pd.DataFrame(df_dict)\n",
    "    \n",
    "    return df"
   ]
  },
  {
   "cell_type": "markdown",
   "id": "afc8a3e2-c090-45ea-b40f-c1b4ddb64d25",
   "metadata": {},
   "source": [
    "## Testing Relationship between Inference and Datasize"
   ]
  },
  {
   "cell_type": "code",
   "execution_count": 20,
   "id": "bf8d5dfb-d6d6-4898-af89-80995b1f38f2",
   "metadata": {},
   "outputs": [
    {
     "name": "stderr",
     "output_type": "stream",
     "text": [
      "  3%|███▏                                                                                            | 337/10000 [03:47<1:48:49,  1.48it/s, train=1.0239194868408086, val=1.3292911565926084 (Max patience reached)]\n"
     ]
    }
   ],
   "source": [
    "Z_disc, Z_cont, X, Y = causl_py.generate_discrete_samples(5000, CAUSAL_PARAMS, N_test).values()\n",
    "uz_samples = causl_py.generate_uz_samples(Z_cont=Z_cont, Z_disc=Z_disc, use_marginal_flow=False, seed=0, frugal_flow_hyperparams=hyperparams_dict)\n",
    "\n",
    "frugal_flow, losses = causl_py.train_frugal_flow(\n",
    "    key=jr.PRNGKey(0),\n",
    "    y=Y,\n",
    "    u_z=uz_samples['uz_samples'],\n",
    "    # u_z = jr.uniform(jr.PRNGKey(1000), shape=(N_test, 4)),\n",
    "    condition=X,\n",
    "    **hyperparams_dict,\n",
    "    # causal_model='gaussian',\n",
    "    # causal_model_args={'ate': jnp.array([causal_model_args['ate']]), 'const': causal_model_args['const'], 'scale': causal_model_args['scale']}\n",
    "    causal_model='location_translation',\n",
    "    causal_model_args={'ate': 0., **causal_margin_hyperparams_dict},\n",
    "\n",
    ")"
   ]
  },
  {
   "cell_type": "code",
   "execution_count": 40,
   "id": "935032a6-4ac8-4a24-8503-eb774287b168",
   "metadata": {},
   "outputs": [
    {
     "name": "stderr",
     "output_type": "stream",
     "text": [
      "  6%|█████▌                                                                                             | 556/10000 [00:29<08:23, 18.76it/s, train=19.636009827228317, val=31.75171432721723 (Max patience reached)]\n",
      "  6%|█████▉                                                                                            | 611/10000 [01:13<18:54,  8.27it/s, train=-0.9310617989837492, val=3.871632945902979 (Max patience reached)]\n",
      "  4%|███▉                                                                                            | 414/10000 [01:21<31:35,  5.06it/s, train=0.006049013847312167, val=2.4809845062180087 (Max patience reached)]\n",
      "  4%|████                                                                                                | 410/10000 [01:51<43:32,  3.67it/s, train=0.6553843261011717, val=2.32040216153577 (Max patience reached)]\n",
      "  3%|███▎                                                                                             | 340/10000 [02:08<1:00:57,  2.64it/s, train=1.0467379856189905, val=1.562469163820297 (Max patience reached)]\n",
      "  2%|██▍                                                                                              | 250/10000 [01:50<1:12:02,  2.26it/s, train=0.9816811819190905, val=1.490432999175835 (Max patience reached)]\n",
      "  2%|██                                                                                                | 209/10000 [01:51<1:27:12,  1.87it/s, train=0.990013004461787, val=1.541008401788565 (Max patience reached)]\n",
      "  4%|████▏                                                                                            | 436/10000 [04:13<1:32:41,  1.72it/s, train=1.0958969005883343, val=1.281182774098575 (Max patience reached)]\n",
      "  2%|██                                                                                              | 219/10000 [02:28<1:50:16,  1.48it/s, train=1.1330105444740066, val=1.3456675854000724 (Max patience reached)]\n",
      "  3%|███                                                                                             | 322/10000 [03:55<1:57:47,  1.37it/s, train=1.1428878805874734, val=1.2443486400378803 (Max patience reached)]\n",
      "  2%|██▎                                                                                              | 244/10000 [03:16<2:10:57,  1.24it/s, train=1.104674136481917, val=1.2763701366301028 (Max patience reached)]\n",
      "  3%|███                                                                                             | 313/10000 [04:26<2:17:37,  1.17it/s, train=1.1656015649216984, val=1.2031100563911379 (Max patience reached)]\n",
      "  5%|████▌                                                                                            | 464/10000 [07:18<2:30:06,  1.06it/s, train=1.181779571623839, val=1.2967539761731202 (Max patience reached)]\n",
      "  6%|█████▍                                                                                          | 563/10000 [09:34<2:40:26,  1.02s/it, train=1.0875717630241892, val=1.1756445312470907 (Max patience reached)]\n",
      "  4%|████▎                                                                                            | 443/10000 [08:04<2:54:12,  1.09s/it, train=1.089800011493454, val=1.1843835774011842 (Max patience reached)]\n",
      "  4%|███▋                                                                                            | 389/10000 [07:31<3:05:45,  1.16s/it, train=1.1307935681166348, val=1.1721806299908037 (Max patience reached)]\n",
      "  4%|████▏                                                                                             | 424/10000 [08:52<3:20:37,  1.26s/it, train=1.0969357397851318, val=1.21583379450411 (Max patience reached)]\n",
      "  4%|████▎                                                                                           | 446/10000 [09:36<3:25:46,  1.29s/it, train=1.2986765972568728, val=1.3432850380966572 (Max patience reached)]\n",
      "  4%|███▋                                                                                             | 375/10000 [08:40<3:42:38,  1.39s/it, train=1.316893137954235, val=1.2830863738012175 (Max patience reached)]\n",
      "  4%|████▏                                                                                            | 438/10000 [10:37<3:51:50,  1.45s/it, train=1.1161956902658607, val=1.163219223855046 (Max patience reached)]\n",
      "  3%|███▏                                                                                            | 335/10000 [08:46<4:13:23,  1.57s/it, train=1.1390327473120379, val=1.1776501911903898 (Max patience reached)]\n",
      "  3%|███▏                                                                                           | 329/10000 [31:25<15:23:39,  5.73s/it, train=1.1386894141918757, val=1.1639312880776376 (Max patience reached)]\n",
      "  5%|████▊                                                                                           | 500/10000 [17:50<5:38:51,  2.14s/it, train=1.1217303773903124, val=1.1632894937450684 (Max patience reached)]\n",
      "  3%|███▏                                                                                             | 323/10000 [13:35<6:47:06,  2.52s/it, train=1.1455436677680295, val=1.116100885434729 (Max patience reached)]\n",
      "  3%|██▊                                                                                             | 290/10000 [09:06<5:05:03,  1.89s/it, train=1.1564635428034309, val=1.1616889441117948 (Max patience reached)]\n"
     ]
    }
   ],
   "source": [
    "causal_model_args = {'ate': -10.0, 'const': -10.0, 'scale': 10.0}\n",
    "Nrange_space = np.linspace(start=100, stop=20000, num=25).astype(int)\n",
    "results_list = {'ate': [], 'const': [], 'scale': []}\n",
    "\n",
    "for N_test in Nrange_space:\n",
    "    Z_disc, Z_cont, X, Y = causl_py.generate_discrete_samples(N_test, CAUSAL_PARAMS, N_test).values()\n",
    "    uz_samples = causl_py.generate_uz_samples(Z_cont=Z_cont, Z_disc=Z_disc, use_marginal_flow=False, seed=0, frugal_flow_hyperparams=hyperparams_dict)\n",
    "    frugal_flow, losses = causl_py.train_frugal_flow(\n",
    "        key=jr.PRNGKey(0),\n",
    "        y=Y,\n",
    "        u_z=uz_samples['uz_samples'],\n",
    "        # u_z = jr.uniform(jr.PRNGKey(1000), shape=(N_test, 4)),\n",
    "        condition=X,\n",
    "        **hyperparams_dict,\n",
    "        # causal_model='gaussian',\n",
    "        # causal_model_args={'ate': jnp.array([causal_model_args['ate']]), 'const': causal_model_args['const'], 'scale': causal_model_args['scale']}\n",
    "        causal_model='location_translation',\n",
    "        causal_model_args={'ate': causal_model_args['ate'], **causal_margin_hyperparams_dict},\n",
    "\n",
    "    )\n",
    "    # causal_margin = frugal_flow.bijection.bijections[-1].bijection.bijections[0]\n",
    "    # results_list['ate'].append(causal_margin.ate[0])\n",
    "    results_list['ate'].append(frugal_flow.bijection.bijections[-1].bijections[0].ate)    \n",
    "    # results_list['const'].append(causal_margin.const)\n",
    "    # results_list['scale'].append(causal_margin.scale)"
   ]
  },
  {
   "cell_type": "code",
   "execution_count": 63,
   "id": "12115b3e-581d-4db4-90a1-44fbe72fa9fc",
   "metadata": {},
   "outputs": [
    {
     "data": {
      "image/png": "[encoded data removed]",
      "text/plain": [
       "<Figure size 400x400 with 1 Axes>"
      ]
     },
     "metadata": {},
     "output_type": "display_data"
    }
   ],
   "source": [
    "# Create the plot\n",
    "fig, axs = plt.subplots(1, 1, figsize=(4, 4))\n",
    "\n",
    "# Plot ATE\n",
    "axs.plot(Nrange_space*3/2, results_list['ate'], marker='o', label='Final ATE Estimate', color='green')\n",
    "axs.axhline(y=causal_model_args['ate'], color='red', linestyle='--', label='Initialized Flow ATE')\n",
    "axs.axhline(y=5, color='blue', linestyle='--', label='True ATE')\n",
    "axs.set_xlabel('Dataset Size')\n",
    "axs.set_ylabel('ATE')\n",
    "# axs.set_title('ATE as a function of Nrange_space')\n",
    "axs.legend()\n",
    "\n",
    "# # Plot ATE\n",
    "# axs[0].plot(Nrange_space, results_list['ate'], marker='o', label='ATE')\n",
    "# axs[0].axhline(y=causal_model_args['ate'], color='red', linestyle='--', label='Causal Model ATE')\n",
    "# axs[0].axhline(y=5, color='blue', linestyle='--', label='Value 1')\n",
    "# axs[0].set_xlabel('Nrange_space')\n",
    "# axs[0].set_ylabel('ATE')\n",
    "# axs[0].set_title('ATE as a function of Nrange_space')\n",
    "# axs[0].legend()\n",
    "\n",
    "# # Plot Const\n",
    "# axs[1].plot(Nrange_space, results_list['const'], marker='o', label='Const')\n",
    "# axs[1].axhline(y=causal_model_args['const'], color='red', linestyle='--', label='Causal Model Const')\n",
    "# axs[1].axhline(y=5, color='blue', linestyle='--', label='Value 1')\n",
    "# axs[1].set_xlabel('Nrange_space')\n",
    "# axs[1].set_ylabel('Const')\n",
    "# axs[1].set_title('Const as a function of Nrange_space')\n",
    "# axs[1].legend()\n",
    "\n",
    "# # Plot Scale\n",
    "# axs[2].plot(Nrange_space, results_list['scale'], marker='o', label='Scale')\n",
    "# axs[2].axhline(y=causal_model_args['scale'], color='red', linestyle='--', label='Causal Model Scale')\n",
    "# axs[2].axhline(y=1, color='blue', linestyle='--', label='Value 1')\n",
    "# axs[2].set_xlabel('Nrange_space')\n",
    "# axs[2].set_ylabel('Scale')\n",
    "# axs[2].set_title('Scale as a function of Nrange_space')\n",
    "# axs[2].legend()\n",
    "\n",
    "plt.tight_layout()\n",
    "fig.savefig('dataset_sensitivity_plot.png')\n",
    "plt.show()"
   ]
  },
  {
   "cell_type": "markdown",
   "id": "3d8b7cf2-1362-4aaa-ae2e-475061cb27cd",
   "metadata": {},
   "source": [
    "## Testing with e401k Data"
   ]
  },
  {
   "cell_type": "code",
   "execution_count": null,
   "id": "ccd322c9-eb72-48d0-ba62-29f4d8240239",
   "metadata": {},
   "outputs": [],
   "source": []
  }
 ],
 "metadata": {
  "kernelspec": {
   "display_name": "Python 3 (ipykernel)",
   "language": "python",
   "name": "python3"
  },
  "language_info": {
   "codemirror_mode": {
    "name": "ipython",
    "version": 3
   },
   "file_extension": ".py",
   "mimetype": "text/x-python",
   "name": "python",
   "nbconvert_exporter": "python",
   "pygments_lexer": "ipython3",
   "version": "3.11.8"
  }
 },
 "nbformat": 4,
 "nbformat_minor": 5
}
