{
 "cells": [
  {
   "cell_type": "markdown",
   "id": "671156ae-3e66-4997-85ba-b18bdfaec591",
   "metadata": {},
   "source": [
    "# Example Pipeline for Lalonde\n",
    "\n",
    "This notebook is a proof-of-concept for generating causal samples from external samples"
   ]
  },
  {
   "cell_type": "code",
   "execution_count": 1,
   "id": "94fec690-e143-4b90-a218-f6652bdb2a19",
   "metadata": {},
   "outputs": [],
   "source": [
    "import contextlib\n",
    "import sys\n",
    "import os\n",
    "sys.path.append(\"../\")  # go to parent dir\n",
    "# sys.path.append(\"../data/analysis/\")  # go to parent dir\n",
    "\n",
    "import jax\n",
    "import jax.random as jr\n",
    "import jax.numpy as jnp\n",
    "# jnp.set_printoptions(precision=2)\n",
    "jax.config.update(\"jax_enable_x64\", True)\n",
    "import matplotlib.pyplot as plt\n",
    "import numpy as np\n",
    "import pandas as pd\n",
    "from scipy.stats import rankdata\n",
    "\n",
    "import rpy2.robjects as ro\n",
    "from rpy2.robjects.packages import importr\n",
    "from rpy2.robjects import pandas2ri\n",
    "from rpy2.robjects.vectors import StrVector\n",
    "from rpy2.robjects.packages import SignatureTranslatedAnonymousPackage\n",
    "\n",
    "from frugal_flows.causal_flows import independent_continuous_marginal_flow, get_independent_quantiles, train_frugal_flow\n",
    "from frugal_flows.sample_outcome import sample_outcome\n",
    "from frugal_flows.sample_marginals import from_quantiles_to_marginal_cont, from_quantiles_to_marginal_discr\n",
    "from frugal_flows.train_quantile_propensity_score import train_quantile_propensity_score\n",
    "from frugal_flows.bijections import UnivariateNormalCDF\n",
    "from frugal_flows.benchmarking import FrugalFlowModel\n",
    "from benchmarking import compare_datasets\n",
    "from frugal_flows.sample_outcome import sample_outcome\n",
    "from frugal_flows.sample_marginals import from_quantiles_to_marginal_cont, from_quantiles_to_marginal_discr\n",
    "from frugal_flows.train_quantile_propensity_score import train_quantile_propensity_score\n",
    "\n",
    "\n",
    "import data.template_causl_simulations as causl_py\n",
    "import data.analysis.validationMethods as valMethods\n",
    "import wandb\n",
    "\n",
    "# Activate automatic conversion of rpy2 objects to pandas objects\n",
    "pandas2ri.activate()\n",
    "base = importr('base')\n",
    "utils = importr('utils')\n",
    "\n",
    "# Import the R library causl\n",
    "try:\n",
    "    causl = importr('causl')\n",
    "except Exception as e:\n",
    "    package_names = ('causl')\n",
    "    utils.install_packages(StrVector(package_names))\n",
    "\n",
    "seed = 0\n",
    "N = 2000\n",
    "B = 50\n",
    "sampling_size = 1000\n",
    "keys, *subkeys = jr.split(jr.PRNGKey(seed), 20)\n",
    "\n",
    "def clean_ate(value):\n",
    "    if isinstance(value, (list, tuple, np.ndarray)):\n",
    "        return np.mean(value)\n",
    "    return value\n",
    "\n",
    "lalonde = pd.read_csv('../data/filtered_lalonde_dataset.csv')\n",
    "lalonde = lalonde\n",
    "\n",
    "outcome_col = 're78'\n",
    "treatment_col = 'treatment'\n",
    "standardised_outcome_col = f'{outcome_col}_standardised'\n",
    "Y_control = lalonde.loc[lalonde[treatment_col]==0, outcome_col]\n",
    "Y_control_mean = Y_control.mean()\n",
    "Y_control_std = Y_control.std()\n",
    "\n",
    "\n",
    "\n",
    "def rescale_outcome(x, mean, std):\n",
    "    return x * std + mean\n",
    "    \n",
    "cont_columns = ['age']\n",
    "disc_columns = ['education', 'black', 'hispanic', 'married', 'nodegree']\n",
    "\n",
    "lalonde[standardised_outcome_col] = (lalonde[outcome_col] - Y_control_mean) / Y_control_std\n",
    "for col in cont_columns:\n",
    "    mean = lalonde[col].mean()\n",
    "    std = lalonde[col].std()\n",
    "    lalonde[col] = (lalonde[col] - mean) / std\n",
    "\n",
    "X = jnp.array(lalonde[treatment_col].values)[:, None]\n",
    "Y = jnp.array(lalonde[standardised_outcome_col].values)[:, None]\n",
    "\n",
    "covariate_colnames = ['age', 'education', 'black', 'hispanic', 'married', 'nodegree']\n",
    "# Z_disc = jnp.array(lalonde[['black', 'hispanic', 'married', 'nodegree']].values)\n",
    "Z_disc = jnp.array(lalonde[disc_columns].values)\n",
    "Z_cont = jnp.array(lalonde[cont_columns].values)\n",
    "# Z_disc = jnp.array(lalonde[covariate_colnames].values)\n",
    "\n",
    "lalonde_rescaled = lalonde[\n",
    "    [standardised_outcome_col, treatment_col] + covariate_colnames\n",
    "]"
   ]
  },
  {
   "cell_type": "code",
   "execution_count": null,
   "id": "4ff6d192-72fc-4a52-a4d5-42a1c4599686",
   "metadata": {},
   "outputs": [
    {
     "name": "stderr",
     "output_type": "stream",
     "text": [
      "  4%|████▊                                                                                                                    | 797/20000 [00:36<28:16, 11.32it/s, train=0.8558722663016056, val=1.2966533465543875]"
     ]
    }
   ],
   "source": [
    "marginal_hyperparam_dict = {\n",
    "    'learning_rate': 5e-4,\n",
    "    # 'learning_rate': 0.2,\n",
    "    'RQS_knots': 8,\n",
    "    'flow_layers': 3,\n",
    "    'nn_depth': 5,    \n",
    "    'nn_width': 10,\n",
    "    'max_patience': 100,\n",
    "    'max_epochs': 20000\n",
    "}\n",
    "\n",
    "hyperparam_dict = {\n",
    "    'learning_rate': 0.006335,\n",
    "    # 'learning_rate': 0.2,\n",
    "    'RQS_knots': 4,\n",
    "    'flow_layers': 9,\n",
    "    'nn_depth': 10,    \n",
    "    'nn_width': 50,\n",
    "    'max_patience': 100,\n",
    "    'max_epochs': 20000\n",
    "}\n",
    "causal_margin_hyperparams_dict = {\n",
    "    'learning_rate': 0.005,\n",
    "    'RQS_knots': 8,\n",
    "    'flow_layers': 10,\n",
    "    'nn_depth': 20,    \n",
    "    'nn_width': 50,\n",
    "    'max_epochs': 20000,\n",
    "    'max_patience': 200,\n",
    "}\n",
    "seed=1\n",
    "\n",
    "true_ATE = 1000\n",
    "benchmark_flow = FrugalFlowModel(Y=Y, X=X, Z_disc=Z_disc, Z_cont=Z_cont, confounding_copula=None)\n",
    "benchmark_flow.train_benchmark_model(\n",
    "    training_seed=jr.PRNGKey(seed),\n",
    "    marginal_hyperparam_dict=marginal_hyperparam_dict,\n",
    "    frugal_hyperparam_dict=hyperparam_dict,\n",
    "    causal_model='location_translation',\n",
    "    causal_model_args={'ate': 0, **causal_margin_hyperparams_dict},\n",
    "    prop_flow_hyperparam_dict=hyperparam_dict\n",
    ")"
   ]
  },
  {
   "cell_type": "markdown",
   "id": "4c3fe7f3-e6b2-4942-8912-807a4ad07966",
   "metadata": {},
   "source": [
    "### Unconfounded Data"
   ]
  },
  {
   "cell_type": "code",
   "execution_count": null,
   "id": "6ad3c928-875c-466f-bc5b-f9f67bce4ece",
   "metadata": {},
   "outputs": [],
   "source": [
    "sim_data_df = benchmark_flow.generate_samples(\n",
    "    key=jr.PRNGKey(10*seed),\n",
    "    sampling_size=600,\n",
    "    copula_param=0.,\n",
    "    outcome_causal_model='location_translation',\n",
    "    outcome_causal_args={'ate': true_ATE / Y_control_std},\n",
    "    with_confounding=False\n",
    ")\n",
    "sim_data_df.columns = lalonde_rescaled.columns"
   ]
  },
  {
   "cell_type": "code",
   "execution_count": null,
   "id": "985317b4-b6ad-41eb-aabd-cb2358fab913",
   "metadata": {},
   "outputs": [],
   "source": [
    "sim_data_df['treatment'].value_counts()"
   ]
  },
  {
   "cell_type": "code",
   "execution_count": null,
   "id": "5f857f61-7f0e-4cdb-9923-300bc2501c7e",
   "metadata": {},
   "outputs": [],
   "source": [
    "lalonde_rescaled['treatment'].value_counts()"
   ]
  },
  {
   "cell_type": "code",
   "execution_count": null,
   "id": "cc7f66eb-9fbb-47b8-8304-a342ea4f474b",
   "metadata": {},
   "outputs": [],
   "source": [
    "plotted_col = standardised_outcome_col#'education'\n",
    "sim_data_df[plotted_col].hist(density=True, alpha=0.5, label='Y from sim_data_df', bins=20)\n",
    "lalonde_rescaled[plotted_col].hist(density=True, alpha=0.5, label='Standardized Outcome from lalonde_rescaled', bins=20)\n",
    "plt.legend()\n",
    "plt.xlabel('Value')\n",
    "plt.ylabel('Density')\n",
    "plt.show()"
   ]
  },
  {
   "cell_type": "code",
   "execution_count": null,
   "id": "2f348af3-4d91-4510-9fa8-71caf13292b6",
   "metadata": {},
   "outputs": [],
   "source": [
    "lalonde_rescaled.head()"
   ]
  },
  {
   "cell_type": "code",
   "execution_count": null,
   "id": "0b8235bf-087b-46f9-a2d0-fb527c3dd7fe",
   "metadata": {},
   "outputs": [],
   "source": [
    "alphas = [0.1]#, 0.25, 0.5, 0.75, 1.0, 1.5, 2.0]\n",
    "k = 3\n",
    "# cols = ['age', 'black', 'education']\n",
    "cols = [\"age\", \"education\", \"black\", \"hispanic\", \"married\", \"nodegree\"]\n",
    "# cols = [\"treatment\"]\n",
    "lalonde_control = lalonde_rescaled.loc[lalonde_rescaled['treatment']==0]\n",
    "sim_data_df_control = sim_data_df.loc[sim_data_df['treatment']==0]\n",
    "compare_datasets(lalonde_rescaled.loc[:, cols].sample(300).values, sim_data_df_control.loc[:, cols].sample(300).values, alphas=alphas, k=3, n_permutations=1000)"
   ]
  },
  {
   "cell_type": "code",
   "execution_count": null,
   "id": "99ab8ef6-712d-4b1e-a833-e796152ed1e7",
   "metadata": {},
   "outputs": [],
   "source": [
    "lalonde_control[cols + [standardised_outcome_col]].corr()"
   ]
  },
  {
   "cell_type": "code",
   "execution_count": null,
   "id": "f084b40c-9821-4d8f-b538-4dad06c3ec31",
   "metadata": {},
   "outputs": [],
   "source": [
    "sim_data_df[cols + [standardised_outcome_col]].corr()"
   ]
  },
  {
   "cell_type": "code",
   "execution_count": null,
   "id": "b861bfda-f90f-4b44-878d-8641ba19c2c9",
   "metadata": {},
   "outputs": [],
   "source": [
    "import seaborn as sns\n",
    "\n",
    "sns.set(font_scale=1.25)\n",
    "fig,ax = plt.subplots(ncols=2,figsize=(18,6))\n",
    "sns.heatmap(lalonde_control[cols + [standardised_outcome_col]].corr(),ax=ax[0],square=True)\n",
    "ax[0].set_title('Observed NSW Data')\n",
    "sns.heatmap(sim_data_df[cols + [standardised_outcome_col]].corr(),ax=ax[1],square=True)\n",
    "ax[1].set_title('Generated NSW Data')\n",
    "# fig.savefig('Lalonde_NSW_0_1000_0.png')"
   ]
  },
  {
   "cell_type": "code",
   "execution_count": null,
   "id": "34276b92-20bc-4f8e-bb23-af39666e9095",
   "metadata": {},
   "outputs": [],
   "source": []
  },
  {
   "cell_type": "markdown",
   "id": "515eaae9-ffa5-4a70-bf19-2934f08502d3",
   "metadata": {},
   "source": [
    "# With Credence"
   ]
  },
  {
   "cell_type": "code",
   "execution_count": null,
   "id": "951c93d2-ede3-48f1-bef1-0de5ffdfad95",
   "metadata": {},
   "outputs": [],
   "source": [
    "import numpy as np\n",
    "import pandas as pd\n",
    "import matplotlib.pyplot as plt\n",
    "import seaborn as sns\n",
    "import torch\n",
    "from torch import nn\n",
    "from torch.nn import functional as F\n",
    "from torch.utils.data import TensorDataset\n",
    "from torch.utils.data import DataLoader\n",
    "from torch.utils.data import random_split\n",
    "import pytorch_lightning as pl\n",
    "import tqdm\n",
    "sns.set()\n",
    "import os\n",
    "# os.chdir('/Users/harshparikh/Documents/GitHub/credence-to-causal-estimation/credence-v2/src/')\n",
    "os.chdir('./credence-to-causal-estimation/credence-v2/src/')\n",
    "import credence\n",
    "import autoencoder\n",
    "import importlib\n",
    "importlib.reload(autoencoder)\n",
    "importlib.reload(credence)\n",
    "# os.chdir('/Users/harshparikh/Documents/GitHub/credence-to-causal-estimation/notebooks/')\n",
    "os.chdir('../../../')"
   ]
  },
  {
   "cell_type": "code",
   "execution_count": null,
   "id": "fb1bcc60-c993-4733-8edf-2eb670d8d53e",
   "metadata": {},
   "outputs": [],
   "source": [
    "v5000 = credence.Credence(\n",
    "    data=lalonde_rescaled, # dataframe \n",
    "    post_treatment_var=['re78_standardised'], # list of post treatment variables\n",
    "    treatment_var=['treatment'], # list of treatment variable(s)\n",
    "    categorical_var=['treatment'] + disc_columns, # list of variables which are categorical\n",
    "    numerical_var= ['re78_standardised'] + cont_columns # list of variables which are numerical\n",
    ")"
   ]
  },
  {
   "cell_type": "code",
   "execution_count": null,
   "id": "865ad01d-2280-4576-b7f1-fd1bfcb3c075",
   "metadata": {},
   "outputs": [],
   "source": [
    "%%time\n",
    "gen = v5000.fit(effect_rigidity=0,bias_rigidity=5000,kld_rigidity=0.01,max_epochs=500)\n",
    "v5000.trainer_treat.save_checkpoint(\"nsw_treat_5000.ckpt\");\n",
    "v5000.trainer_pre.save_checkpoint(\"nsw_pre_5000.ckpt\");\n",
    "v5000.trainer_post.save_checkpoint(\"nsw_post_5000.ckpt\");"
   ]
  },
  {
   "cell_type": "code",
   "execution_count": null,
   "id": "8b9aacad-1da7-43c2-8b71-848f09824bf6",
   "metadata": {},
   "outputs": [],
   "source": [
    "sim_data_credence_bias5000, sim_data_credence_prime5000 = v5000.sample(data=lalonde_rescaled)\n",
    "sim_data_credence_bias5000.loc[0, 'education'] = 2\n",
    "sim_data_credence_bias5000.loc[0, 'hispanic'] = 1\n",
    "sim_data_credence_bias5000[standardised_outcome_col] = sim_data_credence_bias5000['Y0']"
   ]
  },
  {
   "cell_type": "code",
   "execution_count": null,
   "id": "06216158-620c-449e-a478-e7ee1320a5bb",
   "metadata": {},
   "outputs": [],
   "source": [
    "%%time\n",
    "v1000 = credence.Credence(\n",
    "    data=lalonde_rescaled, # dataframe \n",
    "    post_treatment_var=['re78_standardised'], # list of post treatment variables\n",
    "    treatment_var=['treatment'], # list of treatment variable(s)\n",
    "    categorical_var=['treatment'] + disc_columns, # list of variables which are categorical\n",
    "    numerical_var= ['re78_standardised'] + cont_columns # list of variables which are numerical\n",
    ")\n",
    "\n",
    "gen = v1000.fit(effect_rigidity=0,bias_rigidity=1000,kld_rigidity=0.01,max_epochs=500)\n",
    "v1000.trainer_treat.save_checkpoint(\"nsw_treat_1000.ckpt\");\n",
    "v1000.trainer_pre.save_checkpoint(\"nsw_pre_1000.ckpt\");\n",
    "v1000.trainer_post.save_checkpoint(\"nsw_post_1000.ckpt\");"
   ]
  },
  {
   "cell_type": "code",
   "execution_count": null,
   "id": "fb0f2433-027f-4818-87a8-e020f583aa8d",
   "metadata": {},
   "outputs": [],
   "source": [
    "sim_data_credence_bias1000, sim_data_credence_prime1000 = v1000.sample(data=lalonde_rescaled)\n",
    "sim_data_credence_bias1000.loc[0, 'hispanic'] = 1\n",
    "sim_data_credence_bias1000[standardised_outcome_col] = sim_data_credence_bias1000['Y0']"
   ]
  },
  {
   "cell_type": "code",
   "execution_count": null,
   "id": "fb5ac450-f888-4f1f-8094-da50a51b3da6",
   "metadata": {},
   "outputs": [],
   "source": [
    "import seaborn as sns\n",
    "import matplotlib.pyplot as plt\n",
    "\n",
    "sns.set(font_scale=1.25)\n",
    "\n",
    "# Create the subplots\n",
    "fig, ax = plt.subplots(ncols=4, figsize=(22, 6), gridspec_kw={'width_ratios': [1, 1, 1, 1]})\n",
    "\n",
    "# Define the data for each heatmap\n",
    "data_list = [\n",
    "    lalonde_rescaled[cols + [standardised_outcome_col]].corr(),\n",
    "    sim_data_df[cols + [standardised_outcome_col]].corr(),\n",
    "    sim_data_credence_bias5000[cols + [standardised_outcome_col]].corr(),\n",
    "    sim_data_credence_bias1000[cols + [standardised_outcome_col]].corr()\n",
    "]\n",
    "\n",
    "# Titles for each subplot\n",
    "titles = [\n",
    "    'Observed NSW Data',\n",
    "    'Frugal Flows',\n",
    "    'CREDENCE (bias = 5000) -- Original',\n",
    "    'CREDENCE (bias = 1000)'\n",
    "]\n",
    "\n",
    "# Find the common vmin and vmax for consistent color scaling\n",
    "vmin = min(d.min().min() for d in data_list)\n",
    "vmax = max(d.max().max() for d in data_list)\n",
    "\n",
    "# Create a colorbar axis\n",
    "cbar_ax = fig.add_axes([0.92, 0.3, 0.02, 0.4])\n",
    "\n",
    "# Plot each heatmap\n",
    "for i, data in enumerate(data_list):\n",
    "    sns.heatmap(data, ax=ax[i], square=True, vmin=vmin, vmax=vmax, cbar=(i == 3), cbar_ax=cbar_ax if i == 3 else None,\n",
    "                yticklabels=(i == 0))\n",
    "    ax[i].set_title(titles[i])\n",
    "    if i != 0:\n",
    "        ax[i].set_yticklabels([])\n",
    "\n",
    "# Adjust layout\n",
    "plt.subplots_adjust(wspace=0.1)\n",
    "# fig.tight_layout(rect=[0, 0, 0.9, 1])\n",
    "\n",
    "# Save the figure\n",
    "fig.savefig('Lalonde_NSW_0_1000_0.png')\n",
    "plt.show()\n"
   ]
  },
  {
   "cell_type": "code",
   "execution_count": null,
   "id": "0b355a3c-fbed-4c00-a081-3d6ecddbd76c",
   "metadata": {},
   "outputs": [],
   "source": [
    "alphas = [0.1]#, 0.25, 0.5, 0.75, 1.0, 1.5, 2.0]\n",
    "k = 3\n",
    "# cols = ['age', 'black', 'education']\n",
    "cols = [standardised_outcome_col] + [\"age\", \"education\", \"black\", \"hispanic\", \"married\", \"nodegree\"]\n",
    "n = 250\n",
    "metric_dict = {}\n",
    "metric_dict['Frugal Flows'] = compare_datasets(lalonde_rescaled.loc[:, cols].sample(n).values, sim_data_df.loc[:, cols].sample(n).values, alphas=alphas, k=3, n_permutations=1000)\n",
    "metric_dict['CREDENCE (Bias = 1000)'] = compare_datasets(lalonde_rescaled.loc[:, cols].sample(n).values, sim_data_credence_bias1000.loc[:, cols].sample(n).values, alphas=alphas, k=3, n_permutations=1000)\n",
    "metric_dict['CREDENCE (Bias = 5000)'] = compare_datasets(lalonde_rescaled.loc[:, cols].sample(n).values, sim_data_credence_bias5000.loc[:, cols].sample(n).values, alphas=alphas, k=3, n_permutations=1000)"
   ]
  },
  {
   "cell_type": "code",
   "execution_count": null,
   "id": "59f5f66d-8fbd-42a5-bca3-426224d9d949",
   "metadata": {},
   "outputs": [],
   "source": [
    "pd.DataFrame.from_dict(metric_dict, orient='columns')"
   ]
  },
  {
   "cell_type": "code",
   "execution_count": null,
   "id": "40b6987f-80f8-44c7-9d45-b2d06e23371d",
   "metadata": {},
   "outputs": [],
   "source": []
  }
 ],
 "metadata": {
  "kernelspec": {
   "display_name": "Python 3 (ipykernel)",
   "language": "python",
   "name": "python3"
  },
  "language_info": {
   "codemirror_mode": {
    "name": "ipython",
    "version": 3
   },
   "file_extension": ".py",
   "mimetype": "text/x-python",
   "name": "python",
   "nbconvert_exporter": "python",
   "pygments_lexer": "ipython3",
   "version": "3.11.8"
  }
 },
 "nbformat": 4,
 "nbformat_minor": 5
}
