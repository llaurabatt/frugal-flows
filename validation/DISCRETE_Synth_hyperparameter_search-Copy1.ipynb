{
 "cells": [
  {
   "cell_type": "code",
   "execution_count": 1,
   "id": "d5dceb2b-326e-4e06-bd3c-74492014752a",
   "metadata": {},
   "outputs": [
    {
     "name": "stdout",
     "output_type": "stream",
     "text": [
      "Create sweep with ID: sbl8uvfn\n",
      "Sweep URL: https://wandb.ai/dmman180/frugal-flows/sweeps/sbl8uvfn\n"
     ]
    }
   ],
   "source": [
    "import itertools\n",
    "import random\n",
    "import sys\n",
    "import os\n",
    "sys.path.append(\"../\") # go to parent dir\n",
    "\n",
    "import jax\n",
    "import jax.random as jr\n",
    "import jax.numpy as jnp\n",
    "import matplotlib.pyplot as plt\n",
    "import numpy as np\n",
    "import pandas as pd\n",
    "import scipy\n",
    "import numpy as np\n",
    "from scipy.stats import rankdata\n",
    "import scipy.stats as ss\n",
    "import seaborn as sns\n",
    "from sklearn.model_selection import KFold\n",
    "\n",
    "jnp.set_printoptions(precision=2)\n",
    "\n",
    "# from data.create_sim_data import *\n",
    "import data.template_causl_simulations as causl_py\n",
    "from data.run_all_simulations import plot_simulation_results\n",
    "import data.hyperparam_and_bootstrapping as hb\n",
    "from frugal_flows.causal_flows import independent_continuous_marginal_flow, get_independent_quantiles, train_frugal_flow, train_copula_flow\n",
    "from frugal_flows.bijections import UnivariateNormalCDF\n",
    "\n",
    "import rpy2.robjects as ro\n",
    "from rpy2.robjects.packages import importr\n",
    "from rpy2.robjects import pandas2ri\n",
    "from rpy2.robjects.packages import SignatureTranslatedAnonymousPackage\n",
    "import wandb\n",
    "\n",
    "# Activate automatic conversion of rpy2 objects to pandas objects\n",
    "pandas2ri.activate()\n",
    "\n",
    "# Import the R library causl\n",
    "try:\n",
    "    causl = importr('causl')\n",
    "except Exception as e:\n",
    "    package_names = ('causl')\n",
    "    utils.install_packages(StrVector(package_names))\n",
    "\n",
    "\n",
    "jax.config.update(\"jax_enable_x64\", True)\n",
    "\n",
    "sweep_configuration = {\n",
    "    \"name\": \"disc-synth-random\",\n",
    "    \"method\": \"random\",\n",
    "    \"metric\": {\"goal\": \"minimize\", \"name\": \"val_loss\"},\n",
    "    \"parameters\": {\n",
    "        \"learning_rate\": {\"min\": 1e-5, \"max\": 1e-2},\n",
    "        \"RQS_knots\": {\"min\": 1, \"max\": 10},\n",
    "        \"flow_layers\": {\"min\": 1, \"max\": 20},\n",
    "        \"nn_width\": {\"min\": 20, \"max\": 50},\n",
    "        \"nn_depth\": {\"min\": 1, \"max\": 10},\n",
    "        # \"max_patience\": {\"min\": 1, \"max\": 20},\n",
    "        # \"max_epochs\": {\"min\": 1, \"max\": 20},\n",
    "        \"seed\": {\"min\": 0, \"max\": 100},\n",
    "    },\n",
    "}\n",
    "sweep_id = wandb.sweep(sweep=sweep_configuration, project=\"frugal-flows\")"
   ]
  },
  {
   "cell_type": "code",
   "execution_count": 2,
   "id": "f8769836-77bf-42dd-8a73-688c88f2e298",
   "metadata": {},
   "outputs": [
    {
     "name": "stderr",
     "output_type": "stream",
     "text": [
      "R[write to console]: Inversion method selected: using pair-copula parameterization\n",
      "\n"
     ]
    }
   ],
   "source": [
    "def generate_discrete_samples(N, causal_params, seed=0):\n",
    "    disc_rscript = f\"\"\"\n",
    "    library(causl)\n",
    "    pars <- list(Zc1 = list(beta = c(1), phi=1),\n",
    "                 Zc2 = list(beta = c(1), phi=2),\n",
    "                 Zd3 = list(beta = c(0)),\n",
    "                 Zd4 = list(beta = c(0)),\n",
    "                 X = list(beta = c(-4,1,1,1,1)),\n",
    "                 Y = list(beta = c({causal_params[0]}, {causal_params[1]}), phi=1),\n",
    "                 cop = list(\n",
    "                   Y=list(\n",
    "                     Zc1=list(beta=1), Zc2=list(beta=2), Zd3=list(beta=4), Zd4=list(beta=4))\n",
    "                 )\n",
    "    )\n",
    "    forms <- list(list(Zc1~1, Zc2~1, Zd3~1, Zd4~1), X~Zc1+Zc2+Zd3+Zd4, Y~X, ~1)\n",
    "    \n",
    "    set.seed({seed})  # for consistency\n",
    "    fams <- list(c(3,3,5,5),5,1,4)\n",
    "    data_samples <- rfrugalParam({N}, formulas=forms, family=fams, pars=pars)\n",
    "    data_samples <- data_samples[!is.infinite(data_samples$Y),]\n",
    "    \"\"\"\n",
    "    data = causl_py.generate_data_samples(disc_rscript)\n",
    "    return data\n",
    "\n",
    "N_MAX = 40000\n",
    "CAUSAL_PARAMS = [0,2]\n",
    "Z_disc_full, Z_cont_full, X_full, Y_full = generate_discrete_samples(N_MAX, CAUSAL_PARAMS, 2).values()"
   ]
  },
  {
   "cell_type": "code",
   "execution_count": null,
   "id": "a1ac3a6e-c66e-429f-87e7-ba1a556a9c15",
   "metadata": {},
   "outputs": [
    {
     "name": "stderr",
     "output_type": "stream",
     "text": [
      "\u001b[34m\u001b[1mwandb\u001b[0m: Agent Starting Run: rfyibzyk with config:\n",
      "\u001b[34m\u001b[1mwandb\u001b[0m: \tRQS_knots: 6\n",
      "\u001b[34m\u001b[1mwandb\u001b[0m: \tflow_layers: 3\n",
      "\u001b[34m\u001b[1mwandb\u001b[0m: \tlearning_rate: 0.007170885209044532\n",
      "\u001b[34m\u001b[1mwandb\u001b[0m: \tnn_depth: 8\n",
      "\u001b[34m\u001b[1mwandb\u001b[0m: \tnn_width: 25\n",
      "\u001b[34m\u001b[1mwandb\u001b[0m: \tseed: 91\n",
      "\u001b[34m\u001b[1mwandb\u001b[0m: Currently logged in as: \u001b[33mman180\u001b[0m (\u001b[33mdmman180\u001b[0m). Use \u001b[1m`wandb login --relogin`\u001b[0m to force relogin\n"
     ]
    },
    {
     "data": {
      "text/html": [
       "Tracking run with wandb version 0.17.0"
      ],
      "text/plain": [
       "<IPython.core.display.HTML object>"
      ]
     },
     "metadata": {},
     "output_type": "display_data"
    },
    {
     "data": {
      "text/html": [
       "Run data is saved locally in <code>/Users/danielmanela/Library/CloudStorage/GoogleDrive-danielmanela@gmail.com/My Drive/work/deep-copula-frugal/validation/wandb/run-20240520_205821-rfyibzyk</code>"
      ],
      "text/plain": [
       "<IPython.core.display.HTML object>"
      ]
     },
     "metadata": {},
     "output_type": "display_data"
    },
    {
     "data": {
      "text/html": [
       "Syncing run <strong><a href='https://wandb.ai/dmman180/frugal-flows/runs/rfyibzyk' target=\"_blank\">sandy-sweep-1</a></strong> to <a href='https://wandb.ai/dmman180/frugal-flows' target=\"_blank\">Weights & Biases</a> (<a href='https://wandb.me/run' target=\"_blank\">docs</a>)<br/>Sweep page: <a href='https://wandb.ai/dmman180/frugal-flows/sweeps/jcags9s1' target=\"_blank\">https://wandb.ai/dmman180/frugal-flows/sweeps/jcags9s1</a>"
      ],
      "text/plain": [
       "<IPython.core.display.HTML object>"
      ]
     },
     "metadata": {},
     "output_type": "display_data"
    },
    {
     "data": {
      "text/html": [
       " View project at <a href='https://wandb.ai/dmman180/frugal-flows' target=\"_blank\">https://wandb.ai/dmman180/frugal-flows</a>"
      ],
      "text/plain": [
       "<IPython.core.display.HTML object>"
      ]
     },
     "metadata": {},
     "output_type": "display_data"
    },
    {
     "data": {
      "text/html": [
       " View sweep at <a href='https://wandb.ai/dmman180/frugal-flows/sweeps/jcags9s1' target=\"_blank\">https://wandb.ai/dmman180/frugal-flows/sweeps/jcags9s1</a>"
      ],
      "text/plain": [
       "<IPython.core.display.HTML object>"
      ]
     },
     "metadata": {},
     "output_type": "display_data"
    },
    {
     "data": {
      "text/html": [
       " View run at <a href='https://wandb.ai/dmman180/frugal-flows/runs/rfyibzyk' target=\"_blank\">https://wandb.ai/dmman180/frugal-flows/runs/rfyibzyk</a>"
      ],
      "text/plain": [
       "<IPython.core.display.HTML object>"
      ]
     },
     "metadata": {},
     "output_type": "display_data"
    },
    {
     "name": "stderr",
     "output_type": "stream",
     "text": [
      "  2%|█▌                                                                                               | 315/20000 [03:42<3:52:06,  1.41it/s, train=-3.9597336372489824, val=-4.178393593618069 (Max patience reached)]\n"
     ]
    },
    {
     "data": {
      "application/vnd.jupyter.widget-view+json": {
       "model_id": "",
       "version_major": 2,
       "version_minor": 0
      },
      "text/plain": [
       "VBox(children=(Label(value='0.001 MB of 0.001 MB uploaded\\r'), FloatProgress(value=1.0, max=1.0)))"
      ]
     },
     "metadata": {},
     "output_type": "display_data"
    },
    {
     "data": {
      "text/html": [
       "<style>\n",
       "    table.wandb td:nth-child(1) { padding: 0 10px; text-align: left ; width: auto;} td:nth-child(2) {text-align: left ; width: 100%}\n",
       "    .wandb-row { display: flex; flex-direction: row; flex-wrap: wrap; justify-content: flex-start; width: 100% }\n",
       "    .wandb-col { display: flex; flex-direction: column; flex-basis: 100%; flex: 1; padding: 10px; }\n",
       "    </style>\n",
       "<div class=\"wandb-row\"><div class=\"wandb-col\"><h3>Run history:</h3><br/><table class=\"wandb\"><tr><td>ate</td><td>▁</td></tr><tr><td>val_loss</td><td>▁</td></tr></table><br/></div><div class=\"wandb-col\"><h3>Run summary:</h3><br/><table class=\"wandb\"><tr><td>ate</td><td>0.99999</td></tr><tr><td>val_loss</td><td>-5.75394</td></tr></table><br/></div></div>"
      ],
      "text/plain": [
       "<IPython.core.display.HTML object>"
      ]
     },
     "metadata": {},
     "output_type": "display_data"
    },
    {
     "data": {
      "text/html": [
       " View run <strong style=\"color:#cdcd00\">sandy-sweep-1</strong> at: <a href='https://wandb.ai/dmman180/frugal-flows/runs/rfyibzyk' target=\"_blank\">https://wandb.ai/dmman180/frugal-flows/runs/rfyibzyk</a><br/> View project at: <a href='https://wandb.ai/dmman180/frugal-flows' target=\"_blank\">https://wandb.ai/dmman180/frugal-flows</a><br/>Synced 5 W&B file(s), 0 media file(s), 0 artifact file(s) and 0 other file(s)"
      ],
      "text/plain": [
       "<IPython.core.display.HTML object>"
      ]
     },
     "metadata": {},
     "output_type": "display_data"
    },
    {
     "data": {
      "text/html": [
       "Find logs at: <code>./wandb/run-20240520_205821-rfyibzyk/logs</code>"
      ],
      "text/plain": [
       "<IPython.core.display.HTML object>"
      ]
     },
     "metadata": {},
     "output_type": "display_data"
    },
    {
     "name": "stderr",
     "output_type": "stream",
     "text": [
      "\u001b[34m\u001b[1mwandb\u001b[0m: Agent Starting Run: 3vyb4mb7 with config:\n",
      "\u001b[34m\u001b[1mwandb\u001b[0m: \tRQS_knots: 2\n",
      "\u001b[34m\u001b[1mwandb\u001b[0m: \tflow_layers: 19\n",
      "\u001b[34m\u001b[1mwandb\u001b[0m: \tlearning_rate: 0.0022576659034605003\n",
      "\u001b[34m\u001b[1mwandb\u001b[0m: \tnn_depth: 8\n",
      "\u001b[34m\u001b[1mwandb\u001b[0m: \tnn_width: 24\n",
      "\u001b[34m\u001b[1mwandb\u001b[0m: \tseed: 5\n"
     ]
    },
    {
     "data": {
      "text/html": [
       "Tracking run with wandb version 0.17.0"
      ],
      "text/plain": [
       "<IPython.core.display.HTML object>"
      ]
     },
     "metadata": {},
     "output_type": "display_data"
    },
    {
     "data": {
      "text/html": [
       "Run data is saved locally in <code>/Users/danielmanela/Library/CloudStorage/GoogleDrive-danielmanela@gmail.com/My Drive/work/deep-copula-frugal/validation/wandb/run-20240520_210218-3vyb4mb7</code>"
      ],
      "text/plain": [
       "<IPython.core.display.HTML object>"
      ]
     },
     "metadata": {},
     "output_type": "display_data"
    },
    {
     "data": {
      "text/html": [
       "Syncing run <strong><a href='https://wandb.ai/dmman180/frugal-flows/runs/3vyb4mb7' target=\"_blank\">wild-sweep-2</a></strong> to <a href='https://wandb.ai/dmman180/frugal-flows' target=\"_blank\">Weights & Biases</a> (<a href='https://wandb.me/run' target=\"_blank\">docs</a>)<br/>Sweep page: <a href='https://wandb.ai/dmman180/frugal-flows/sweeps/jcags9s1' target=\"_blank\">https://wandb.ai/dmman180/frugal-flows/sweeps/jcags9s1</a>"
      ],
      "text/plain": [
       "<IPython.core.display.HTML object>"
      ]
     },
     "metadata": {},
     "output_type": "display_data"
    },
    {
     "data": {
      "text/html": [
       " View project at <a href='https://wandb.ai/dmman180/frugal-flows' target=\"_blank\">https://wandb.ai/dmman180/frugal-flows</a>"
      ],
      "text/plain": [
       "<IPython.core.display.HTML object>"
      ]
     },
     "metadata": {},
     "output_type": "display_data"
    },
    {
     "data": {
      "text/html": [
       " View sweep at <a href='https://wandb.ai/dmman180/frugal-flows/sweeps/jcags9s1' target=\"_blank\">https://wandb.ai/dmman180/frugal-flows/sweeps/jcags9s1</a>"
      ],
      "text/plain": [
       "<IPython.core.display.HTML object>"
      ]
     },
     "metadata": {},
     "output_type": "display_data"
    },
    {
     "data": {
      "text/html": [
       " View run at <a href='https://wandb.ai/dmman180/frugal-flows/runs/3vyb4mb7' target=\"_blank\">https://wandb.ai/dmman180/frugal-flows/runs/3vyb4mb7</a>"
      ],
      "text/plain": [
       "<IPython.core.display.HTML object>"
      ]
     },
     "metadata": {},
     "output_type": "display_data"
    },
    {
     "name": "stderr",
     "output_type": "stream",
     "text": [
      "  1%|▋                                                                                                 | 131/20000 [03:28<8:46:36,  1.59s/it, train=-2.699477245640459, val=-2.630207342413408 (Max patience reached)]\n"
     ]
    },
    {
     "data": {
      "application/vnd.jupyter.widget-view+json": {
       "model_id": "",
       "version_major": 2,
       "version_minor": 0
      },
      "text/plain": [
       "VBox(children=(Label(value='0.006 MB of 0.006 MB uploaded\\r'), FloatProgress(value=1.0, max=1.0)))"
      ]
     },
     "metadata": {},
     "output_type": "display_data"
    },
    {
     "data": {
      "text/html": [
       "<style>\n",
       "    table.wandb td:nth-child(1) { padding: 0 10px; text-align: left ; width: auto;} td:nth-child(2) {text-align: left ; width: 100%}\n",
       "    .wandb-row { display: flex; flex-direction: row; flex-wrap: wrap; justify-content: flex-start; width: 100% }\n",
       "    .wandb-col { display: flex; flex-direction: column; flex-basis: 100%; flex: 1; padding: 10px; }\n",
       "    </style>\n",
       "<div class=\"wandb-row\"><div class=\"wandb-col\"><h3>Run history:</h3><br/><table class=\"wandb\"><tr><td>ate</td><td>▁</td></tr><tr><td>val_loss</td><td>▁</td></tr></table><br/></div><div class=\"wandb-col\"><h3>Run summary:</h3><br/><table class=\"wandb\"><tr><td>ate</td><td>0.09486</td></tr><tr><td>val_loss</td><td>-3.69913</td></tr></table><br/></div></div>"
      ],
      "text/plain": [
       "<IPython.core.display.HTML object>"
      ]
     },
     "metadata": {},
     "output_type": "display_data"
    },
    {
     "data": {
      "text/html": [
       " View run <strong style=\"color:#cdcd00\">wild-sweep-2</strong> at: <a href='https://wandb.ai/dmman180/frugal-flows/runs/3vyb4mb7' target=\"_blank\">https://wandb.ai/dmman180/frugal-flows/runs/3vyb4mb7</a><br/> View project at: <a href='https://wandb.ai/dmman180/frugal-flows' target=\"_blank\">https://wandb.ai/dmman180/frugal-flows</a><br/>Synced 5 W&B file(s), 0 media file(s), 0 artifact file(s) and 0 other file(s)"
      ],
      "text/plain": [
       "<IPython.core.display.HTML object>"
      ]
     },
     "metadata": {},
     "output_type": "display_data"
    },
    {
     "data": {
      "text/html": [
       "Find logs at: <code>./wandb/run-20240520_210218-3vyb4mb7/logs</code>"
      ],
      "text/plain": [
       "<IPython.core.display.HTML object>"
      ]
     },
     "metadata": {},
     "output_type": "display_data"
    },
    {
     "name": "stderr",
     "output_type": "stream",
     "text": [
      "\u001b[34m\u001b[1mwandb\u001b[0m: Agent Starting Run: vbab79de with config:\n",
      "\u001b[34m\u001b[1mwandb\u001b[0m: \tRQS_knots: 8\n",
      "\u001b[34m\u001b[1mwandb\u001b[0m: \tflow_layers: 4\n",
      "\u001b[34m\u001b[1mwandb\u001b[0m: \tlearning_rate: 0.009711681378849653\n",
      "\u001b[34m\u001b[1mwandb\u001b[0m: \tnn_depth: 3\n",
      "\u001b[34m\u001b[1mwandb\u001b[0m: \tnn_width: 46\n",
      "\u001b[34m\u001b[1mwandb\u001b[0m: \tseed: 48\n"
     ]
    },
    {
     "data": {
      "text/html": [
       "Tracking run with wandb version 0.17.0"
      ],
      "text/plain": [
       "<IPython.core.display.HTML object>"
      ]
     },
     "metadata": {},
     "output_type": "display_data"
    },
    {
     "data": {
      "text/html": [
       "Run data is saved locally in <code>/Users/danielmanela/Library/CloudStorage/GoogleDrive-danielmanela@gmail.com/My Drive/work/deep-copula-frugal/validation/wandb/run-20240520_210559-vbab79de</code>"
      ],
      "text/plain": [
       "<IPython.core.display.HTML object>"
      ]
     },
     "metadata": {},
     "output_type": "display_data"
    },
    {
     "data": {
      "text/html": [
       "Syncing run <strong><a href='https://wandb.ai/dmman180/frugal-flows/runs/vbab79de' target=\"_blank\">light-sweep-3</a></strong> to <a href='https://wandb.ai/dmman180/frugal-flows' target=\"_blank\">Weights & Biases</a> (<a href='https://wandb.me/run' target=\"_blank\">docs</a>)<br/>Sweep page: <a href='https://wandb.ai/dmman180/frugal-flows/sweeps/jcags9s1' target=\"_blank\">https://wandb.ai/dmman180/frugal-flows/sweeps/jcags9s1</a>"
      ],
      "text/plain": [
       "<IPython.core.display.HTML object>"
      ]
     },
     "metadata": {},
     "output_type": "display_data"
    },
    {
     "data": {
      "text/html": [
       " View project at <a href='https://wandb.ai/dmman180/frugal-flows' target=\"_blank\">https://wandb.ai/dmman180/frugal-flows</a>"
      ],
      "text/plain": [
       "<IPython.core.display.HTML object>"
      ]
     },
     "metadata": {},
     "output_type": "display_data"
    },
    {
     "data": {
      "text/html": [
       " View sweep at <a href='https://wandb.ai/dmman180/frugal-flows/sweeps/jcags9s1' target=\"_blank\">https://wandb.ai/dmman180/frugal-flows/sweeps/jcags9s1</a>"
      ],
      "text/plain": [
       "<IPython.core.display.HTML object>"
      ]
     },
     "metadata": {},
     "output_type": "display_data"
    },
    {
     "data": {
      "text/html": [
       " View run at <a href='https://wandb.ai/dmman180/frugal-flows/runs/vbab79de' target=\"_blank\">https://wandb.ai/dmman180/frugal-flows/runs/vbab79de</a>"
      ],
      "text/plain": [
       "<IPython.core.display.HTML object>"
      ]
     },
     "metadata": {},
     "output_type": "display_data"
    },
    {
     "name": "stderr",
     "output_type": "stream",
     "text": [
      "  1%|▉                                                                                                  | 182/20000 [02:16<4:07:44,  1.33it/s, train=-2.01661482207084, val=-2.820362333324277 (Max patience reached)]\n"
     ]
    },
    {
     "data": {
      "application/vnd.jupyter.widget-view+json": {
       "model_id": "",
       "version_major": 2,
       "version_minor": 0
      },
      "text/plain": [
       "VBox(children=(Label(value='0.001 MB of 0.001 MB uploaded\\r'), FloatProgress(value=1.0, max=1.0)))"
      ]
     },
     "metadata": {},
     "output_type": "display_data"
    },
    {
     "data": {
      "text/html": [
       "<style>\n",
       "    table.wandb td:nth-child(1) { padding: 0 10px; text-align: left ; width: auto;} td:nth-child(2) {text-align: left ; width: 100%}\n",
       "    .wandb-row { display: flex; flex-direction: row; flex-wrap: wrap; justify-content: flex-start; width: 100% }\n",
       "    .wandb-col { display: flex; flex-direction: column; flex-basis: 100%; flex: 1; padding: 10px; }\n",
       "    </style>\n",
       "<div class=\"wandb-row\"><div class=\"wandb-col\"><h3>Run history:</h3><br/><table class=\"wandb\"><tr><td>ate</td><td>▁</td></tr><tr><td>val_loss</td><td>▁</td></tr></table><br/></div><div class=\"wandb-col\"><h3>Run summary:</h3><br/><table class=\"wandb\"><tr><td>ate</td><td>0.44145</td></tr><tr><td>val_loss</td><td>-4.36915</td></tr></table><br/></div></div>"
      ],
      "text/plain": [
       "<IPython.core.display.HTML object>"
      ]
     },
     "metadata": {},
     "output_type": "display_data"
    },
    {
     "data": {
      "text/html": [
       " View run <strong style=\"color:#cdcd00\">light-sweep-3</strong> at: <a href='https://wandb.ai/dmman180/frugal-flows/runs/vbab79de' target=\"_blank\">https://wandb.ai/dmman180/frugal-flows/runs/vbab79de</a><br/> View project at: <a href='https://wandb.ai/dmman180/frugal-flows' target=\"_blank\">https://wandb.ai/dmman180/frugal-flows</a><br/>Synced 5 W&B file(s), 0 media file(s), 0 artifact file(s) and 0 other file(s)"
      ],
      "text/plain": [
       "<IPython.core.display.HTML object>"
      ]
     },
     "metadata": {},
     "output_type": "display_data"
    },
    {
     "data": {
      "text/html": [
       "Find logs at: <code>./wandb/run-20240520_210559-vbab79de/logs</code>"
      ],
      "text/plain": [
       "<IPython.core.display.HTML object>"
      ]
     },
     "metadata": {},
     "output_type": "display_data"
    },
    {
     "name": "stderr",
     "output_type": "stream",
     "text": [
      "\u001b[34m\u001b[1mwandb\u001b[0m: Agent Starting Run: tygsq81f with config:\n",
      "\u001b[34m\u001b[1mwandb\u001b[0m: \tRQS_knots: 8\n",
      "\u001b[34m\u001b[1mwandb\u001b[0m: \tflow_layers: 18\n",
      "\u001b[34m\u001b[1mwandb\u001b[0m: \tlearning_rate: 0.004245620578084446\n",
      "\u001b[34m\u001b[1mwandb\u001b[0m: \tnn_depth: 2\n",
      "\u001b[34m\u001b[1mwandb\u001b[0m: \tnn_width: 22\n",
      "\u001b[34m\u001b[1mwandb\u001b[0m: \tseed: 16\n"
     ]
    },
    {
     "data": {
      "text/html": [
       "Tracking run with wandb version 0.17.0"
      ],
      "text/plain": [
       "<IPython.core.display.HTML object>"
      ]
     },
     "metadata": {},
     "output_type": "display_data"
    },
    {
     "data": {
      "text/html": [
       "Run data is saved locally in <code>/Users/danielmanela/Library/CloudStorage/GoogleDrive-danielmanela@gmail.com/My Drive/work/deep-copula-frugal/validation/wandb/run-20240520_210829-tygsq81f</code>"
      ],
      "text/plain": [
       "<IPython.core.display.HTML object>"
      ]
     },
     "metadata": {},
     "output_type": "display_data"
    },
    {
     "data": {
      "text/html": [
       "Syncing run <strong><a href='https://wandb.ai/dmman180/frugal-flows/runs/tygsq81f' target=\"_blank\">bright-sweep-4</a></strong> to <a href='https://wandb.ai/dmman180/frugal-flows' target=\"_blank\">Weights & Biases</a> (<a href='https://wandb.me/run' target=\"_blank\">docs</a>)<br/>Sweep page: <a href='https://wandb.ai/dmman180/frugal-flows/sweeps/jcags9s1' target=\"_blank\">https://wandb.ai/dmman180/frugal-flows/sweeps/jcags9s1</a>"
      ],
      "text/plain": [
       "<IPython.core.display.HTML object>"
      ]
     },
     "metadata": {},
     "output_type": "display_data"
    },
    {
     "data": {
      "text/html": [
       " View project at <a href='https://wandb.ai/dmman180/frugal-flows' target=\"_blank\">https://wandb.ai/dmman180/frugal-flows</a>"
      ],
      "text/plain": [
       "<IPython.core.display.HTML object>"
      ]
     },
     "metadata": {},
     "output_type": "display_data"
    },
    {
     "data": {
      "text/html": [
       " View sweep at <a href='https://wandb.ai/dmman180/frugal-flows/sweeps/jcags9s1' target=\"_blank\">https://wandb.ai/dmman180/frugal-flows/sweeps/jcags9s1</a>"
      ],
      "text/plain": [
       "<IPython.core.display.HTML object>"
      ]
     },
     "metadata": {},
     "output_type": "display_data"
    },
    {
     "data": {
      "text/html": [
       " View run at <a href='https://wandb.ai/dmman180/frugal-flows/runs/tygsq81f' target=\"_blank\">https://wandb.ai/dmman180/frugal-flows/runs/tygsq81f</a>"
      ],
      "text/plain": [
       "<IPython.core.display.HTML object>"
      ]
     },
     "metadata": {},
     "output_type": "display_data"
    },
    {
     "name": "stderr",
     "output_type": "stream",
     "text": [
      "  1%|█▏                                                                                                                     | 193/20000 [04:32<7:15:49,  1.32s/it, train=-1.7727525260606762, val=-2.1519201060883213]\u001b[34m\u001b[1mwandb\u001b[0m: \u001b[32m\u001b[41mERROR\u001b[0m Error while calling W&B API: could not find agent dp559zgr during agentHeartbeat (<Response [404]>)\n",
      "Exception in thread Thread-6 (_heartbeat):\n",
      "Traceback (most recent call last):\n",
      "  File \"/Users/danielmanela/micromamba/envs/deep-frugal/lib/python3.11/site-packages/wandb/sdk/lib/retry.py\", line 131, in __call__\n",
      "    result = self._call_fn(*args, **kwargs)\n",
      "             ^^^^^^^^^^^^^^^^^^^^^^^^^^^^^^\n",
      "  File \"/Users/danielmanela/micromamba/envs/deep-frugal/lib/python3.11/site-packages/wandb/sdk/internal/internal_api.py\", line 340, in execute\n",
      "    return self.client.execute(*args, **kwargs)  # type: ignore\n",
      "           ^^^^^^^^^^^^^^^^^^^^^^^^^^^^^^^^^^^^\n",
      "  File \"/Users/danielmanela/micromamba/envs/deep-frugal/lib/python3.11/site-packages/wandb/vendor/gql-0.2.0/wandb_gql/client.py\", line 52, in execute\n",
      "    result = self._get_result(document, *args, **kwargs)\n",
      "             ^^^^^^^^^^^^^^^^^^^^^^^^^^^^^^^^^^^^^^^^^^^\n",
      "  File \"/Users/danielmanela/micromamba/envs/deep-frugal/lib/python3.11/site-packages/wandb/vendor/gql-0.2.0/wandb_gql/client.py\", line 60, in _get_result\n",
      "    return self.transport.execute(document, *args, **kwargs)\n",
      "           ^^^^^^^^^^^^^^^^^^^^^^^^^^^^^^^^^^^^^^^^^^^^^^^^^\n",
      "  File \"/Users/danielmanela/micromamba/envs/deep-frugal/lib/python3.11/site-packages/wandb/sdk/lib/gql_request.py\", line 59, in execute\n",
      "    request.raise_for_status()\n",
      "  File \"/Users/danielmanela/micromamba/envs/deep-frugal/lib/python3.11/site-packages/requests/models.py\", line 1021, in raise_for_status\n",
      "    raise HTTPError(http_error_msg, response=self)\n",
      "requests.exceptions.HTTPError: 404 Client Error: Not Found for url: https://api.wandb.ai/graphql\n",
      "\n",
      "During handling of the above exception, another exception occurred:\n",
      "\n",
      "Traceback (most recent call last):\n",
      "  File \"/Users/danielmanela/micromamba/envs/deep-frugal/lib/python3.11/site-packages/wandb/sdk/internal/internal_api.py\", line 2860, in agent_heartbeat\n",
      "    response = self.gql(\n",
      "               ^^^^^^^^^\n",
      "  File \"/Users/danielmanela/micromamba/envs/deep-frugal/lib/python3.11/site-packages/wandb/sdk/internal/internal_api.py\", line 312, in gql\n",
      "    ret = self._retry_gql(\n",
      "          ^^^^^^^^^^^^^^^^\n",
      "  File \"/Users/danielmanela/micromamba/envs/deep-frugal/lib/python3.11/site-packages/wandb/sdk/lib/retry.py\", line 147, in __call__\n",
      "    retry_timedelta_triggered = check_retry_fn(e)\n",
      "                                ^^^^^^^^^^^^^^^^^\n",
      "  File \"/Users/danielmanela/micromamba/envs/deep-frugal/lib/python3.11/site-packages/wandb/util.py\", line 905, in no_retry_auth\n",
      "    raise CommError(f\"Permission denied to access {wandb.run.path}\")\n",
      "wandb.errors.CommError: Permission denied to access dmman180/frugal-flows/tygsq81f\n",
      "\n",
      "During handling of the above exception, another exception occurred:\n",
      "\n",
      "Traceback (most recent call last):\n",
      "  File \"/Users/danielmanela/micromamba/envs/deep-frugal/lib/python3.11/threading.py\", line 1045, in _bootstrap_inner\n",
      "    self.run()\n",
      "  File \"/Users/danielmanela/micromamba/envs/deep-frugal/lib/python3.11/site-packages/ipykernel/ipkernel.py\", line 761, in run_closure\n",
      "    _threading_Thread_run(self)\n",
      "  File \"/Users/danielmanela/micromamba/envs/deep-frugal/lib/python3.11/threading.py\", line 982, in run\n",
      "    self._target(*self._args, **self._kwargs)\n",
      "  File \"/Users/danielmanela/micromamba/envs/deep-frugal/lib/python3.11/site-packages/wandb/agents/pyagent.py\", line 166, in _heartbeat\n",
      "    commands = self._api.agent_heartbeat(self._agent_id, {}, run_status)\n",
      "               ^^^^^^^^^^^^^^^^^^^^^^^^^^^^^^^^^^^^^^^^^^^^^^^^^^^^^^^^^\n",
      "  File \"/Users/danielmanela/micromamba/envs/deep-frugal/lib/python3.11/site-packages/wandb/apis/internal.py\", line 153, in agent_heartbeat\n",
      "    return self.api.agent_heartbeat(*args, **kwargs)\n",
      "           ^^^^^^^^^^^^^^^^^^^^^^^^^^^^^^^^^^^^^^^^^\n",
      "  File \"/Users/danielmanela/micromamba/envs/deep-frugal/lib/python3.11/site-packages/wandb/sdk/internal/internal_api.py\", line 2871, in agent_heartbeat\n",
      "    message = ast.literal_eval(e.args[0])[\"message\"]\n",
      "              ^^^^^^^^^^^^^^^^^^^^^^^^^^^\n",
      "  File \"/Users/danielmanela/micromamba/envs/deep-frugal/lib/python3.11/ast.py\", line 64, in literal_eval\n",
      "    node_or_string = parse(node_or_string.lstrip(\" \\t\"), mode='eval')\n",
      "                     ^^^^^^^^^^^^^^^^^^^^^^^^^^^^^^^^^^^^^^^^^^^^^^^^\n",
      "  File \"/Users/danielmanela/micromamba/envs/deep-frugal/lib/python3.11/ast.py\", line 50, in parse\n",
      "    return compile(source, filename, mode, flags,\n",
      "           ^^^^^^^^^^^^^^^^^^^^^^^^^^^^^^^^^^^^^^\n",
      "  File \"<unknown>\", line 1\n",
      "    Permission denied to access dmman180/frugal-flows/tygsq81f\n",
      "               ^^^^^^\n",
      "SyntaxError: invalid syntax\n",
      "  1%|█▏                                                                                               | 237/20000 [05:32<7:42:18,  1.40s/it, train=-2.0036316371010066, val=-3.383373363614698 (Max patience reached)]\n"
     ]
    },
    {
     "data": {
      "application/vnd.jupyter.widget-view+json": {
       "model_id": "",
       "version_major": 2,
       "version_minor": 0
      },
      "text/plain": [
       "VBox(children=(Label(value='0.001 MB of 0.001 MB uploaded\\r'), FloatProgress(value=1.0, max=1.0)))"
      ]
     },
     "metadata": {},
     "output_type": "display_data"
    },
    {
     "data": {
      "text/html": [
       "<style>\n",
       "    table.wandb td:nth-child(1) { padding: 0 10px; text-align: left ; width: auto;} td:nth-child(2) {text-align: left ; width: 100%}\n",
       "    .wandb-row { display: flex; flex-direction: row; flex-wrap: wrap; justify-content: flex-start; width: 100% }\n",
       "    .wandb-col { display: flex; flex-direction: column; flex-basis: 100%; flex: 1; padding: 10px; }\n",
       "    </style>\n",
       "<div class=\"wandb-row\"><div class=\"wandb-col\"><h3>Run history:</h3><br/><table class=\"wandb\"><tr><td>ate</td><td>▁</td></tr><tr><td>val_loss</td><td>▁</td></tr></table><br/></div><div class=\"wandb-col\"><h3>Run summary:</h3><br/><table class=\"wandb\"><tr><td>ate</td><td>0.04268</td></tr><tr><td>val_loss</td><td>-4.93987</td></tr></table><br/></div></div>"
      ],
      "text/plain": [
       "<IPython.core.display.HTML object>"
      ]
     },
     "metadata": {},
     "output_type": "display_data"
    },
    {
     "data": {
      "text/html": [
       " View run <strong style=\"color:#cdcd00\">bright-sweep-4</strong> at: <a href='https://wandb.ai/dmman180/frugal-flows/runs/tygsq81f' target=\"_blank\">https://wandb.ai/dmman180/frugal-flows/runs/tygsq81f</a><br/> View project at: <a href='https://wandb.ai/dmman180/frugal-flows' target=\"_blank\">https://wandb.ai/dmman180/frugal-flows</a><br/>Synced 5 W&B file(s), 0 media file(s), 0 artifact file(s) and 0 other file(s)"
      ],
      "text/plain": [
       "<IPython.core.display.HTML object>"
      ]
     },
     "metadata": {},
     "output_type": "display_data"
    },
    {
     "data": {
      "text/html": [
       "Find logs at: <code>./wandb/run-20240520_210829-tygsq81f/logs</code>"
      ],
      "text/plain": [
       "<IPython.core.display.HTML object>"
      ]
     },
     "metadata": {},
     "output_type": "display_data"
    },
    {
     "name": "stderr",
     "output_type": "stream",
     "text": [
      "\u001b[34m\u001b[1mwandb\u001b[0m: Sweep Agent: Waiting for job.\n"
     ]
    }
   ],
   "source": [
    "NUM_SAMPLES = 10000\n",
    "def run_cmd():\n",
    "    run = wandb.init()\n",
    "    hyperparams_dict = {\n",
    "        \"learning_rate\": wandb.config.learning_rate,\n",
    "        \"RQS_knots\": wandb.config.RQS_knots,\n",
    "        \"flow_layers\": wandb.config.flow_layers,\n",
    "        \"nn_width\": wandb.config.nn_width,\n",
    "        \"nn_depth\": wandb.config.nn_depth,\n",
    "        \"max_patience\": 100,#wandb.config.max_patience,\n",
    "        \"max_epochs\": 20000#.config.max_epochs\n",
    "    }\n",
    "\n",
    "    np.random.seed(wandb.config.seed)\n",
    "    idx = random.sample(range(N_MAX), NUM_SAMPLES)\n",
    "    X_samp = X_full[idx,:]\n",
    "    Y_samp = X_full[idx,:]\n",
    "    Z_cont_samp = Z_cont_full[idx,:]\n",
    "    Z_disc_samp = Z_disc_full[idx,:]    \n",
    "    uz_samples = causl_py.generate_uz_samples(Z_disc=Z_disc_samp, Z_cont=Z_cont_samp, use_marginal_flow=False, seed=wandb.config.seed, frugal_flow_hyperparams=hyperparams_dict)\n",
    "    # uz_samples = causl_py.generate_uz_samples(Z_disc=None, Z_cont=Z_cont, use_marginal_flow=False, seed=i, frugal_flow_hyperparams=hyperparams_dict)\n",
    "    frugal_flow, losses = train_frugal_flow(\n",
    "        key=jr.PRNGKey(wandb.config.seed*1000),\n",
    "        y=Y_samp,\n",
    "        u_z=uz_samples['uz_samples'],\n",
    "        condition=X_samp,\n",
    "        **hyperparams_dict,\n",
    "        # causal_model='location_translation',\n",
    "        # causal_model_args={'ate': 0., **hyperparams_dict}\n",
    "        causal_model='gaussian',\n",
    "        causal_model_args={'ate': 0., 'const': 0., 'scale': 1}\n",
    "    )    \n",
    "    min_val_loss = min(np.array(losses['val']))\n",
    "    causal_margin = frugal_flow.bijection.bijections[-1].bijection.bijections[0]\n",
    "    # causal_margin = frugal_flow.bijection.bijections[-1].bijections[0]\n",
    "    wandb.log(data={'val_loss': min_val_loss, 'ate': causal_margin.ate, 'const': causal_margin.const, 'scale': causal_margin.scale})\n",
    "    \n",
    "    \n",
    "    # causl_py.frugal_fitting(X, Y, Z_disc=Z_disc, seed=wandb.config.seed, frugal_flow_hyperparams=hyperparams_dict)\n",
    "\n",
    "# Start sweep job.\n",
    "wandb.agent(sweep_id, function=run_cmd, count=300)\n",
    "    \n",
    "\n",
    "# hyperparams_dict = {\n",
    "#     'learning_rate': 1e-3,\n",
    "#     'RQS_knots': 8,\n",
    "#     'flow_layers': 10,\n",
    "#     'nn_width': 50,\n",
    "#     'nn_depth': 10,    \n",
    "#     'max_patience': 100,\n",
    "#     'max_epochs': 20000\n",
    "# }"
   ]
  },
  {
   "cell_type": "code",
   "execution_count": null,
   "id": "24e74c7d-a44e-47fa-bd36-edfbfff9e95d",
   "metadata": {},
   "outputs": [],
   "source": [
    "hyperparams_dict = {\n",
    "    'learning_rate': 0.006335,\n",
    "    'RQS_knots': 4,\n",
    "    'flow_layers': 9,\n",
    "    'nn_depth': 10,    \n",
    "    'nn_width': 50,\n",
    "    'max_patience': 200,\n",
    "    'max_epochs': 20000\n",
    "}\n",
    "SEED = 1"
   ]
  },
  {
   "attachments": {
    "c51103a7-a5ef-4686-9c1e-212df9389988.png": {
     "image/png": "[encoded data removed]"
    }
   },
   "cell_type": "markdown",
   "id": "f8a2bb09-83c5-4e17-8c59-ebc3bb1207cb",
   "metadata": {},
   "source": [
    "![image.png](attachment:c51103a7-a5ef-4686-9c1e-212df9389988.png)"
   ]
  },
  {
   "cell_type": "markdown",
   "id": "dda393d3-575b-4f8d-93cd-97ffeefe858b",
   "metadata": {},
   "source": [
    "## Load Data"
   ]
  },
  {
   "cell_type": "code",
   "execution_count": null,
   "id": "203ed232-2aab-49a1-87fb-6cc1edca644a",
   "metadata": {},
   "outputs": [],
   "source": [
    "lalonde = pd.read_csv('../data/filtered_lalonde_dataset.csv')\n",
    "lalonde.head()"
   ]
  },
  {
   "cell_type": "code",
   "execution_count": null,
   "id": "e81cc176-073a-473f-96a0-0694c76f9941",
   "metadata": {},
   "outputs": [],
   "source": [
    "lalonde = pd.read_csv('../data/filtered_lalonde_dataset.csv')\n",
    "\n",
    "outcome_col = 're78'\n",
    "treatment_col = 'treatment'\n",
    "standardised_outcome_col = f'{outcome_col}_standardised'\n",
    "Y_control = lalonde.loc[lalonde[treatment_col]==0, outcome_col]\n",
    "Y_control_mean = Y_control.mean()\n",
    "Y_control_std = Y_control.std()\n",
    "lalonde[standardised_outcome_col] = (lalonde[outcome_col] - Y_control_mean) / Y_control_std\n",
    "plt.hist(lalonde.loc[lalonde[treatment_col]==0, outcome_col], label='Control', bins=30, alpha=0.3);\n",
    "plt.hist(lalonde.loc[lalonde[treatment_col]==1, outcome_col], label='Treatment', bins=30, alpha=0.3);\n",
    "\n",
    "X = jnp.array(lalonde[treatment_col].values)[:, None]\n",
    "Y = jnp.array(lalonde[standardised_outcome_col].values)[:, None]\n",
    "\n",
    "Z_disc = jnp.array(lalonde[[\n",
    "    col for col in lalonde.columns if col not in [outcome_col,standardised_outcome_col, treatment_col]\n",
    "]].values)"
   ]
  },
  {
   "cell_type": "code",
   "execution_count": null,
   "id": "99c73edc-9ee2-4703-a906-956c714d0625",
   "metadata": {},
   "outputs": [],
   "source": [
    "wandb.init()\n",
    "flow_object, min_val_loss = causl_py.frugal_fitting(X, Y, Z_disc=Z_disc, seed=SEED+1, frugal_flow_hyperparams=hyperparams_dict)"
   ]
  },
  {
   "cell_type": "code",
   "execution_count": null,
   "id": "f483985a-0995-4b65-a16b-7f5a9fe49683",
   "metadata": {},
   "outputs": [],
   "source": [
    "min_val_loss"
   ]
  },
  {
   "cell_type": "code",
   "execution_count": null,
   "id": "72915c77-8914-435d-b21f-dbcb779be244",
   "metadata": {},
   "outputs": [],
   "source": [
    "training_losses = np.array(flow_object['losses']['train'])\n",
    "val_losses = np.array(flow_object['losses']['val'])\n",
    "it = list(range(len(flow_object['losses']['train'])))\n",
    "plt.plot(training_losses, label='Training')\n",
    "plt.plot(val_losses, label='Test')\n",
    "plt.legend()"
   ]
  },
  {
   "cell_type": "code",
   "execution_count": null,
   "id": "bd2ae433-a5f6-44d0-aa95-1398801cdd29",
   "metadata": {},
   "outputs": [],
   "source": []
  },
  {
   "cell_type": "code",
   "execution_count": null,
   "id": "f90c97cf-3d92-473c-957c-485814db07b0",
   "metadata": {},
   "outputs": [],
   "source": []
  },
  {
   "cell_type": "code",
   "execution_count": null,
   "id": "7e7bfa22-66a2-4b9c-8e99-e7e41a96008d",
   "metadata": {},
   "outputs": [],
   "source": [
    "lalonde = pd.read_csv('../data/filtered_lalonde_dataset.csv')\n",
    "\n",
    "outcome_col = 're78'\n",
    "treatment_col = 'treatment'\n",
    "standardised_outcome_col = f'{outcome_col}_standardised'\n",
    "Y_control = lalonde.loc[lalonde[treatment_col]==0, outcome_col]\n",
    "Y_control_mean = Y_control.mean()\n",
    "Y_control_std = Y_control.std()\n",
    "lalonde[standardised_outcome_col] = (lalonde[outcome_col] - Y_control_mean) / Y_control_std\n",
    "lalonde = lalonde.loc[lalonde[treatment_col]==0]\n",
    "lalonde = lalonde.loc[lalonde[outcome_col]>0]\n",
    "# plt.hist(lalonde.loc[lalonde[treatment_col]==0, standardised_outcome_col], label='Control', bins=30, alpha=0.3);\n",
    "# plt.hist(lalonde.loc[lalonde[treatment_col]==1, standardised_outcome_col], label='Treatment', bins=30, alpha=0.3);\n",
    "\n",
    "X = jnp.array(lalonde[treatment_col].values)[:, None]\n",
    "Y = jnp.array(lalonde[standardised_outcome_col].values)[:, None]\n",
    "\n",
    "Z_disc = jnp.array(lalonde[[\n",
    "    col for col in lalonde.columns if col not in [outcome_col,standardised_outcome_col, treatment_col]\n",
    "]].values)\n",
    "\n",
    "uz_samples = causl_py.generate_uz_samples(seed=0, Z_disc=Z_disc, Z_cont=jnp.array(Y))"
   ]
  },
  {
   "cell_type": "code",
   "execution_count": null,
   "id": "9ef47d80-a077-4056-a26d-91aaa952702b",
   "metadata": {},
   "outputs": [],
   "source": [
    "jnp.hstack([uz_samples['uz_cont'], uz_samples['uz_disc']]).shape"
   ]
  },
  {
   "cell_type": "code",
   "execution_count": null,
   "id": "69d27f6d-d619-44d7-8bf2-0417630dee18",
   "metadata": {},
   "outputs": [],
   "source": [
    "sns.pairplot(\n",
    "    pd.DataFrame(np.array(jnp.hstack([uz_samples['uz_cont'], uz_samples['uz_disc']]))), \n",
    "    diag_kind='kde', plot_kws={'alpha':0.2}, height=1\n",
    ")"
   ]
  },
  {
   "cell_type": "code",
   "execution_count": null,
   "id": "8bcdaf3e-8848-46ec-baac-1556777dd158",
   "metadata": {},
   "outputs": [],
   "source": [
    "flow_samples = flow_object['frugal_flow'].sample(\n",
    "    key=jr.PRNGKey(0), \n",
    "    sample_shape=(300,), \n",
    "    condition=jnp.zeros(shape=(1))\n",
    ")\n",
    "flow_samples = flow_samples.at[:, 0].set(jax.scipy.special.ndtr(flow_samples[:, 0]))\n",
    "sns.pairplot(pd.DataFrame(np.array(flow_samples[:, ])), diag_kind='kde', plot_kws={'alpha':0.2}, height=1)"
   ]
  },
  {
   "cell_type": "code",
   "execution_count": null,
   "id": "7ad1b460-16c9-43bd-b54e-6fb00b25be9f",
   "metadata": {},
   "outputs": [],
   "source": [
    "training_losses = np.array(fitted_flow['losses']['train'])\n",
    "val_losses = np.array(fitted_flow['losses']['val'])\n",
    "it = list(range(len(fitted_flow['losses']['train'])))\n",
    "plt.plot(training_losses, label='Training')\n",
    "plt.plot(val_losses, label='Test')\n",
    "plt.legend()"
   ]
  },
  {
   "cell_type": "code",
   "execution_count": null,
   "id": "80965144-744b-4255-b8d0-3ceecb17f00f",
   "metadata": {},
   "outputs": [],
   "source": [
    "fitted_flow['causal_margin'].ate"
   ]
  },
  {
   "cell_type": "code",
   "execution_count": null,
   "id": "3a950be5-c114-4b06-91c0-4bd47d1d2e72",
   "metadata": {},
   "outputs": [],
   "source": [
    "fitted_flow['causal_margin'].const"
   ]
  },
  {
   "cell_type": "code",
   "execution_count": null,
   "id": "3886e3e1-14e0-4d03-95b5-f093b8ed9e59",
   "metadata": {},
   "outputs": [],
   "source": [
    "fitted_flow['causal_margin'].scale"
   ]
  },
  {
   "cell_type": "code",
   "execution_count": null,
   "id": "cd914723-b3c5-4b82-b65c-36c3ed82223a",
   "metadata": {},
   "outputs": [],
   "source": [
    "flow_samples = fitted_flow['frugal_flow'].sample(\n",
    "    key=jr.PRNGKey(0), \n",
    "    sample_shape=(1000,), \n",
    "    condition=jnp.zeros(shape=(1))\n",
    ")\n",
    "sns.pairplot(pd.DataFrame(np.array(flow_samples[:, 1:])), diag_kind='kde', plot_kws={'alpha':0.6}, height=1)"
   ]
  },
  {
   "cell_type": "code",
   "execution_count": null,
   "id": "2c652e7c-0fe9-4120-8aab-910c4f87498e",
   "metadata": {},
   "outputs": [],
   "source": []
  },
  {
   "cell_type": "code",
   "execution_count": null,
   "id": "d5cc2d0e-a824-4520-a130-f5c1b6193669",
   "metadata": {},
   "outputs": [],
   "source": [
    "hyperparams_dict_v2 = {\n",
    "    'learning_rate': 1e-3,\n",
    "    'RQS_knots': 8,\n",
    "    'flow_layers': 4,\n",
    "    'nn_width': 50,\n",
    "    'nn_depth': 4,    \n",
    "    'max_patience': 50,\n",
    "    'max_epochs': 20000\n",
    "}\n",
    "\n",
    "fitted_flow_v2 = causl_py.frugal_fitting(\n",
    "    X=None, \n",
    "    Y=jr.normal(key=jr.PRNGKey(98), shape=(Y.shape[0], 1)), \n",
    "    Z_disc=Z_disc, \n",
    "    seed=0, \n",
    "    frugal_flow_hyperparams=hyperparams_dict_v2\n",
    ")\n",
    "flow_v2 = fitted_flow_v2['frugal_flow']"
   ]
  },
  {
   "cell_type": "code",
   "execution_count": null,
   "id": "00572689-2b0b-4a8b-ab86-aef4292cbe83",
   "metadata": {},
   "outputs": [],
   "source": [
    "flow_samples = flow_v2.sample(key=jr.PRNGKey(0), sample_shape=(1000,))#, condition=jnp.zeros(shape=(1,)))"
   ]
  },
  {
   "cell_type": "code",
   "execution_count": null,
   "id": "d5f9a209-9d11-46c1-bb8f-e2a73272bb2a",
   "metadata": {},
   "outputs": [],
   "source": [
    "jnp.corrcoef(jax.scipy.special.ndtri(res['u_z_discr']).T)"
   ]
  },
  {
   "cell_type": "code",
   "execution_count": null,
   "id": "48dc1c55-018a-44a0-99b0-8083f0de34de",
   "metadata": {},
   "outputs": [],
   "source": [
    "jnp.corrcoef(jax.scipy.special.ndtri(flow_samples[:, 1:]).T)"
   ]
  },
  {
   "cell_type": "code",
   "execution_count": null,
   "id": "288ac825-3f9c-40e9-b33f-21e6acc6fa5e",
   "metadata": {},
   "outputs": [],
   "source": [
    "sns.pairplot(pd.DataFrame(np.array(flow_samples[:, 1:])), diag_kind='kde', plot_kws={'alpha':0.6}, height=1)"
   ]
  },
  {
   "cell_type": "code",
   "execution_count": null,
   "id": "83f7cca4-4bfd-48d9-9889-23f4a51ce31f",
   "metadata": {},
   "outputs": [],
   "source": [
    "sns.pairplot(pd.DataFrame(np.array(res['u_z_discr'])), diag_kind='kde', plot_kws={'alpha':0.6}, height=1)"
   ]
  },
  {
   "cell_type": "code",
   "execution_count": null,
   "id": "99cffa56-12ef-4cb6-8012-844b9b0b2cff",
   "metadata": {},
   "outputs": [],
   "source": [
    "sns.pairplot(pd.DataFrame(np.array(res['u_z_discr'])), diag_kind='kde', plot_kws={'alpha':0.6}, height=1)"
   ]
  },
  {
   "cell_type": "code",
   "execution_count": null,
   "id": "4346028e-2353-4c43-8190-793950057097",
   "metadata": {},
   "outputs": [],
   "source": []
  },
  {
   "cell_type": "code",
   "execution_count": null,
   "id": "3a7c7f8d-7b35-4017-8bdd-e16465513ab3",
   "metadata": {},
   "outputs": [],
   "source": [
    "lalonde.value_counts(['black', 'hispanic'])"
   ]
  },
  {
   "cell_type": "code",
   "execution_count": null,
   "id": "45cb8457-bda4-409f-af42-a54fc4b16f4e",
   "metadata": {},
   "outputs": [],
   "source": [
    "sns.pairplot(pd.DataFrame(np.array(Z_disc)), diag_kind='kde', plot_kws={'alpha':0.6}, height=1)"
   ]
  },
  {
   "cell_type": "code",
   "execution_count": null,
   "id": "a1c9f57b-a76d-4542-b7b5-e316cb00e062",
   "metadata": {},
   "outputs": [],
   "source": [
    "sns.pairplot(pd.DataFrame(np.array(res['u_z_discr'])), diag_kind='kde', plot_kws={'alpha':0.6}, height=1)"
   ]
  },
  {
   "cell_type": "code",
   "execution_count": null,
   "id": "9d12ccb4-cb02-4aad-aa4f-a7e18a2a01a0",
   "metadata": {},
   "outputs": [],
   "source": [
    "def rankdata(z_disc):\n",
    "    z_disc_ordered = []\n",
    "    z_rank_mapping = {}\n",
    "    for d in range(z_disc.shape[1]):\n",
    "        z_disc_d = z_disc[:, d]\n",
    "        unique_z_disc_d = jnp.unique(z_disc_d)\n",
    "        rank_mapping = {k: v for k, v in zip(np.array(unique_z_disc_d), np.arange(len(unique_z_disc_d)))}\n",
    "        z_disc_new = jnp.array([rank_mapping[i] for i in np.array(z_disc_d)])\n",
    "        z_disc_ordered.append(z_disc_new)\n",
    "        z_rank_mapping[d] = rank_mapping\n",
    "    return jnp.vstack(z_disc_ordered), z_rank_mapping"
   ]
  },
  {
   "cell_type": "code",
   "execution_count": null,
   "id": "b2431da8-ade3-44de-9f15-206a3fadf582",
   "metadata": {},
   "outputs": [],
   "source": [
    "Z_disc.shape"
   ]
  },
  {
   "cell_type": "code",
   "execution_count": null,
   "id": "096f0451-76ab-4707-abc6-5686eb65bf38",
   "metadata": {},
   "outputs": [],
   "source": [
    "rankdata(Z_disc)[0].shape"
   ]
  },
  {
   "cell_type": "code",
   "execution_count": null,
   "id": "287e94ac-be38-46f0-a193-170582dc4272",
   "metadata": {},
   "outputs": [],
   "source": [
    "pmf_vals"
   ]
  },
  {
   "cell_type": "code",
   "execution_count": null,
   "id": "9708cd81-495d-4d2f-8339-c16d69008681",
   "metadata": {},
   "outputs": [],
   "source": [
    "pmf_keys"
   ]
  },
  {
   "cell_type": "code",
   "execution_count": null,
   "id": "3b08b040-c7ec-4477-b1d1-18fe24e533d2",
   "metadata": {},
   "outputs": [],
   "source": [
    "z_discr_empirical_pmf.cumsum()"
   ]
  },
  {
   "cell_type": "code",
   "execution_count": null,
   "id": "8f8d0e94-4c43-4fdc-9c7a-d1912a831495",
   "metadata": {},
   "outputs": [],
   "source": [
    "z_discr_empirical_pmf"
   ]
  },
  {
   "cell_type": "code",
   "execution_count": null,
   "id": "d1f1ef02-fb60-49bb-9145-8737790a881c",
   "metadata": {},
   "outputs": [],
   "source": [
    "def uniform_shift(standard_uniform, upper_index):\n",
    "    # Function to handle the case where upper_index != 0\n",
    "    def not_zero():\n",
    "        lower = z_discr_empirical_cdf_long[upper_index - 1]\n",
    "        upper = z_discr_empirical_cdf_long[upper_index]\n",
    "        return standard_uniform * (upper - lower) + lower\n",
    "\n",
    "    # Function to handle the case where upper_index == 0\n",
    "    def zero():\n",
    "        upper = z_discr_empirical_cdf_long[upper_index]\n",
    "        return standard_uniform * upper"
   ]
  },
  {
   "cell_type": "code",
   "execution_count": null,
   "id": "b7f6bd8a-3d82-4797-8c0b-c63372906a02",
   "metadata": {},
   "outputs": [],
   "source": [
    "uniform_shift(0.5, 3)"
   ]
  },
  {
   "cell_type": "code",
   "execution_count": null,
   "id": "3c687c00-170a-4ec3-8dca-7c18aac77c42",
   "metadata": {},
   "outputs": [],
   "source": []
  },
  {
   "cell_type": "code",
   "execution_count": null,
   "id": "8ea55e18-96b5-4ad8-ba80-25b3c7fceb45",
   "metadata": {},
   "outputs": [],
   "source": [
    "plt.hist(Z_disc[:,0])"
   ]
  },
  {
   "cell_type": "code",
   "execution_count": null,
   "id": "5af7f997-7f43-492a-be7d-7a0ca5076fb5",
   "metadata": {},
   "outputs": [],
   "source": [
    "plt.hist(causl_py.calculate_ecdf(Z_disc[:,0][:, None]).T)"
   ]
  },
  {
   "cell_type": "code",
   "execution_count": null,
   "id": "a05edaae-2ece-4a4b-bd97-2417d1d34d02",
   "metadata": {},
   "outputs": [],
   "source": [
    "temp = Z_disc[:,"
   ]
  },
  {
   "cell_type": "code",
   "execution_count": null,
   "id": "2eb438d7-5b0c-49cd-9407-d01195d71355",
   "metadata": {},
   "outputs": [],
   "source": []
  },
  {
   "cell_type": "code",
   "execution_count": null,
   "id": "4f1ca3cb-883b-415c-83b0-afe4d591a850",
   "metadata": {},
   "outputs": [],
   "source": []
  },
  {
   "cell_type": "code",
   "execution_count": null,
   "id": "8a7795b5-716e-421d-ad91-474e9d525b88",
   "metadata": {},
   "outputs": [],
   "source": [
    "z_disc_new"
   ]
  },
  {
   "cell_type": "code",
   "execution_count": null,
   "id": "947e18b0-91df-4dde-b4b2-e3420f8403c3",
   "metadata": {},
   "outputs": [],
   "source": [
    "sns.pairplot(pd.DataFrame(np.array(Z_disc)), diag_kind='kde', plot_kws={'alpha':0.6})"
   ]
  },
  {
   "cell_type": "code",
   "execution_count": null,
   "id": "911ad914-c394-4a8c-9819-d813baff6999",
   "metadata": {},
   "outputs": [],
   "source": [
    "quantiles['u_z_discr'][:,0]"
   ]
  },
  {
   "cell_type": "code",
   "execution_count": null,
   "id": "04431ec2-c523-486a-ae20-d19976ff52d1",
   "metadata": {},
   "outputs": [],
   "source": [
    "sns.pairplot(pd.DataFrame(np.array(quantiles['u_z_discr'])), diag_kind='kde', plot_kws={'alpha':0.6})"
   ]
  },
  {
   "cell_type": "code",
   "execution_count": null,
   "id": "e4884b56-ab85-4eb2-bc71-b864f24063bb",
   "metadata": {},
   "outputs": [],
   "source": [
    "Z_disc[:,0][:,None]"
   ]
  },
  {
   "cell_type": "code",
   "execution_count": null,
   "id": "1743f14d-ce53-4e13-93b1-9ba009e16b50",
   "metadata": {},
   "outputs": [],
   "source": [
    "actual_quantiles = get_independent_quantiles(\n",
    "    key=jr.PRNGKey(0), z_cont=Z_disc[:,0][:,None], z_discr=Z_disc[:,1:], **hyperparams_dict\n",
    ")"
   ]
  },
  {
   "cell_type": "code",
   "execution_count": null,
   "id": "19b90781-4291-4969-bc19-16305f8b52da",
   "metadata": {},
   "outputs": [],
   "source": [
    "actual_quantiles['u_z_cont']"
   ]
  },
  {
   "cell_type": "code",
   "execution_count": null,
   "id": "26ecb540-0362-4cfc-aa28-87c5fdfd6465",
   "metadata": {},
   "outputs": [],
   "source": [
    "sns.pairplot(pd.DataFrame(np.array(actual_quantiles)), diag_kind='kde', plot_kws={'alpha':0.6})"
   ]
  },
  {
   "cell_type": "code",
   "execution_count": null,
   "id": "5d78b13a-4a1e-43d2-b863-7a063dbeb24d",
   "metadata": {},
   "outputs": [],
   "source": []
  },
  {
   "cell_type": "code",
   "execution_count": null,
   "id": "91b26d4f-dc9c-4bb6-8f0f-daa527776dec",
   "metadata": {},
   "outputs": [],
   "source": []
  },
  {
   "cell_type": "code",
   "execution_count": null,
   "id": "5b5d15bb-9a89-40d5-8a10-786074d724d5",
   "metadata": {},
   "outputs": [],
   "source": [
    "import numpy as np\n",
    "import pandas as pd\n",
    "import seaborn as sns\n",
    "import matplotlib.pyplot as plt\n",
    "\n",
    "sns.pairplot(pd.DataFrame(np.array(fitted_flow['uz_disc']).T), diag_kind='kde', plot_kws={'alpha':0.6})\n",
    "plt.show()"
   ]
  },
  {
   "cell_type": "code",
   "execution_count": null,
   "id": "997c9403-0b33-4fac-a49f-ade847d5bceb",
   "metadata": {},
   "outputs": [],
   "source": [
    "data = causl_py.generate_gaussian_samples(N=1000, causal_params=[1,1], seed=0)\n",
    "Z_cont = data.get('Z_cont')\n",
    "X = data.get('X')\n",
    "Y = data.get('Y')"
   ]
  },
  {
   "cell_type": "code",
   "execution_count": null,
   "id": "308edee0-1dfc-4bc5-8b28-d81569f7c71e",
   "metadata": {},
   "outputs": [],
   "source": [
    "# Define the hyperparameter ranges\n",
    "param_grid = {\n",
    "    'RQS_knots': [4, 6, 8],\n",
    "    'flow_layers': [4, 6, 8],\n",
    "    'nn_width': [20, 40, 60],\n",
    "    'nn_depth': [4, 6, 8],\n",
    "    'learning_rate': [3e-3, 5e-3],\n",
    "    'batch_size': [1000],\n",
    "    'max_patience': [50],\n",
    "    'max_epochs': [10000]\n",
    "}\n",
    "\n",
    "param_combinations = hb.generate_param_combinations(param_grid)"
   ]
  },
  {
   "cell_type": "code",
   "execution_count": null,
   "id": "e2362512-5e81-4604-b232-3fe6a0d5c514",
   "metadata": {},
   "outputs": [],
   "source": [
    "hyperparam_fits = hb.gaussian_outcome_hyperparameter_search(\n",
    "    X, Y, Z_disc=None, Z_cont=Z_cont, param_combinations=param_combinations, seed=0\n",
    ")"
   ]
  },
  {
   "cell_type": "code",
   "execution_count": null,
   "id": "f7825caa-cdad-4f69-99aa-b41b0d784adb",
   "metadata": {},
   "outputs": [],
   "source": [
    "hyperparam_fits.sort_values('min_loss').head(20)"
   ]
  },
  {
   "cell_type": "code",
   "execution_count": null,
   "id": "2c3b579f-8acd-4a8d-93ac-6879b87bd2f4",
   "metadata": {},
   "outputs": [],
   "source": []
  }
 ],
 "metadata": {
  "kernelspec": {
   "display_name": "Python 3 (ipykernel)",
   "language": "python",
   "name": "python3"
  },
  "language_info": {
   "codemirror_mode": {
    "name": "ipython",
    "version": 3
   },
   "file_extension": ".py",
   "mimetype": "text/x-python",
   "name": "python",
   "nbconvert_exporter": "python",
   "pygments_lexer": "ipython3",
   "version": "3.11.8"
  }
 },
 "nbformat": 4,
 "nbformat_minor": 5
}
