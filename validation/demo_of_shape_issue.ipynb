{
 "cells": [
  {
   "cell_type": "code",
   "execution_count": 1,
   "id": "2ad858a3-39d3-4943-a9aa-a79d247b9785",
   "metadata": {},
   "outputs": [],
   "source": [
    "# Example of error"
   ]
  },
  {
   "cell_type": "code",
   "execution_count": 2,
   "id": "29ad2795-2fb2-41f3-992b-769ec3f81193",
   "metadata": {},
   "outputs": [
    {
     "name": "stderr",
     "output_type": "stream",
     "text": [
      "R[write to console]: Inversion method selected: using pair-copula parameterization\n",
      "\n"
     ]
    }
   ],
   "source": [
    "import itertools\n",
    "import random\n",
    "import sys\n",
    "import os\n",
    "sys.path.append(\"../\") # go to parent dir\n",
    "\n",
    "import jax\n",
    "import jax.random as jr\n",
    "import jax.numpy as jnp\n",
    "import matplotlib.pyplot as plt\n",
    "import numpy as np\n",
    "import pandas as pd\n",
    "import scipy\n",
    "import numpy as np\n",
    "from scipy.stats import rankdata\n",
    "from jax.scipy.special import expit\n",
    "import scipy.stats as ss\n",
    "import seaborn as sns\n",
    "from sklearn.model_selection import KFold\n",
    "\n",
    "jnp.set_printoptions(precision=2)\n",
    "\n",
    "# from data.create_sim_data import *\n",
    "import data_processing_and_simulations.causl_sim_data_generation as causl_py\n",
    "from data_processing_and_simulations.run_all_simulations import plot_simulation_results\n",
    "from frugal_flows.causal_flows import independent_continuous_marginal_flow, get_independent_quantiles, train_frugal_flow, train_copula_flow\n",
    "from frugal_flows.bijections import UnivariateNormalCDF\n",
    "from frugal_flows.benchmarking import FrugalFlowModel\n",
    "\n",
    "import rpy2.robjects as ro\n",
    "from rpy2.robjects.packages import importr\n",
    "from rpy2.robjects import pandas2ri\n",
    "from rpy2.robjects.packages import SignatureTranslatedAnonymousPackage\n",
    "import wandb\n",
    "\n",
    "# Activate automatic conversion of rpy2 objects to pandas objects\n",
    "pandas2ri.activate()\n",
    "\n",
    "# Import the R library causl\n",
    "try:\n",
    "    causl = importr('causl')\n",
    "except Exception as e:\n",
    "    package_names = ('causl')\n",
    "    utils.install_packages(StrVector(package_names))\n",
    "\n",
    "\n",
    "hyperparams_dict = {\n",
    "    'learning_rate': 5e-3,\n",
    "    'RQS_knots': 8,\n",
    "    'flow_layers': 5,\n",
    "    'nn_width': 30,\n",
    "    'nn_depth': 4,    \n",
    "    'max_patience': 100,\n",
    "    'max_epochs': 10000\n",
    "}\n",
    "\n",
    "jax.config.update(\"jax_enable_x64\", True)\n",
    "\n",
    "mixed_cont_rscript = \"\"\"\n",
    "library(causl)\n",
    "forms <- list(list(Z1 ~ 1), X ~ Z1, Y ~ X, ~ 1)\n",
    "fams <- list(1, 5, 1, 1)\n",
    "pars <- list(Z1 = list(beta=0, phi=2),\n",
    "             X = list(beta=c(0,2)),\n",
    "             Y = list(beta=c(0,2), phi=1),\n",
    "             cop = list(beta=matrix(c(0.8), nrow=1)))\n",
    "\n",
    "\n",
    "\n",
    "set.seed(1234)\n",
    "n <- 1e3\n",
    "\n",
    "data_samples <- rfrugalParam(n, formulas = forms, family = fams, pars = pars)\n",
    "# Convert multi-dimensional columns to separate one-dimensional columns\n",
    "data_samples <- as.data.frame(data_samples)\n",
    "if (any(sapply(data_samples, is.matrix))) {\n",
    "    for (col_name in names(data_samples)) {\n",
    "        if (is.matrix(data_samples[[col_name]])) {\n",
    "            mat <- data_samples[[col_name]]\n",
    "            for (i in seq_len(ncol(mat))) {\n",
    "                data_samples[[col_name]] <- mat[, i]\n",
    "            }\n",
    "        }\n",
    "    }\n",
    "}\n",
    "\"\"\"\n",
    "rcode_compiled = SignatureTranslatedAnonymousPackage(mixed_cont_rscript, \"powerpack\")\n",
    "df = rcode_compiled.data_samples\n",
    "\n",
    "Y = jnp.array(df['Y'].values)[:, None]\n",
    "X = jnp.array(df['X'].values)[:, None]\n",
    "Z_cont = jnp.array(df['Z1'].values)[:, None]"
   ]
  },
  {
   "cell_type": "markdown",
   "id": "812e2d8c-5b39-4949-9321-35ffc53f8eb4",
   "metadata": {},
   "source": [
    "## Gaussian Flow"
   ]
  },
  {
   "cell_type": "code",
   "execution_count": 3,
   "id": "a23ad98c-d222-44a7-9f4d-9aac2961d4ea",
   "metadata": {},
   "outputs": [],
   "source": [
    "gaussian_flow = FrugalFlowModel(Y=Y, X=X, Z_cont=Z_cont, Z_disc=None, confounding_copula=None)"
   ]
  },
  {
   "cell_type": "code",
   "execution_count": 4,
   "id": "8455b382-a045-4d7a-87bc-c7fba6addea1",
   "metadata": {},
   "outputs": [
    {
     "name": "stderr",
     "output_type": "stream",
     "text": [
      "  2%|█▎                                                       | 239/10000 [00:12<08:24, 19.34it/s, train=1.7414076769779299, val=1.8218569844313255 (Max patience reached)]\n",
      "  3%|█▉                                                       | 345/10000 [00:15<07:21, 21.87it/s, train=1.2258003139344593, val=1.4791259531597616 (Max patience reached)]\n",
      "  1%|▋                                                    | 121/10000 [00:05<07:24, 22.21it/s, train=-0.43901179122748935, val=-0.05080161866032616 (Max patience reached)]\n"
     ]
    }
   ],
   "source": [
    "gaussian_flow.train_benchmark_model(\n",
    "    training_seed=jr.PRNGKey(0),\n",
    "    marginal_hyperparam_dict=hyperparams_dict,\n",
    "    frugal_hyperparam_dict=hyperparams_dict,\n",
    "    causal_model='gaussian',\n",
    "    causal_model_args={'ate': jnp.array([-7.]), 'const': 3., 'scale': 5},\n",
    "    prop_flow_hyperparam_dict=hyperparams_dict\n",
    ")"
   ]
  },
  {
   "cell_type": "code",
   "execution_count": 5,
   "id": "3810687e-42f2-4a4d-8f09-b0921848e263",
   "metadata": {},
   "outputs": [
    {
     "name": "stdout",
     "output_type": "stream",
     "text": [
      "Y shape: (1000, 1)\n",
      "X shape: (1000, 1)\n",
      "Z shape: (1000, 1)\n"
     ]
    }
   ],
   "source": [
    "gaussian_samples = gaussian_flow.generate_samples(\n",
    "    key=jr.PRNGKey(1),\n",
    "    sampling_size=(1000),\n",
    "    copula_param=0,\n",
    "    outcome_causal_model='causal_cdf',\n",
    "    outcome_causal_args={'ate': jnp.array([2.]), 'const': -1., 'scale': 5.},\n",
    "    with_confounding=True\n",
    ")"
   ]
  },
  {
   "cell_type": "markdown",
   "id": "2b03a4e5-1416-4578-a9cd-e667c84841b7",
   "metadata": {},
   "source": [
    "## Location Translation"
   ]
  },
  {
   "cell_type": "code",
   "execution_count": 14,
   "id": "df354a00-7a90-4524-abce-34ac9ac40b2b",
   "metadata": {},
   "outputs": [
    {
     "data": {
      "text/plain": [
       "(2,)"
      ]
     },
     "execution_count": 14,
     "metadata": {},
     "output_type": "execute_result"
    }
   ],
   "source": [
    "loc_translation_flow.frugal_flow.shape"
   ]
  },
  {
   "cell_type": "code",
   "execution_count": 18,
   "id": "85eae528-e5dd-404a-bfaa-69dd3cdeae88",
   "metadata": {},
   "outputs": [
    {
     "ename": "AttributeError",
     "evalue": "'MaskedAutoregressiveFirstUniform' object has no attribute 'bijections'",
     "output_type": "error",
     "traceback": [
      "\u001b[0;31m---------------------------------------------------------------------------\u001b[0m",
      "\u001b[0;31mAttributeError\u001b[0m                            Traceback (most recent call last)",
      "Cell \u001b[0;32mIn[18], line 1\u001b[0m\n\u001b[0;32m----> 1\u001b[0m \u001b[43mloc_translation_flow\u001b[49m\u001b[38;5;241;43m.\u001b[39;49m\u001b[43mfrugal_flow\u001b[49m\u001b[38;5;241;43m.\u001b[39;49m\u001b[43mbijection\u001b[49m\u001b[38;5;241;43m.\u001b[39;49m\u001b[43mbijections\u001b[49m\u001b[43m[\u001b[49m\u001b[38;5;241;43m1\u001b[39;49m\u001b[43m]\u001b[49m\u001b[38;5;241;43m.\u001b[39;49m\u001b[43mbijection\u001b[49m\u001b[38;5;241;43m.\u001b[39;49m\u001b[43mbijection\u001b[49m\u001b[38;5;241;43m.\u001b[39;49m\u001b[43mbijections\u001b[49m[\u001b[38;5;241m0\u001b[39m]\n",
      "\u001b[0;31mAttributeError\u001b[0m: 'MaskedAutoregressiveFirstUniform' object has no attribute 'bijections'"
     ]
    }
   ],
   "source": [
    "loc_translation_flow.frugal_flow.bijection.bijections[1].bijection.bijection.bijections[0]"
   ]
  },
  {
   "cell_type": "code",
   "execution_count": 6,
   "id": "ff7395fd-0b9f-48bb-b32f-3e43a83236c8",
   "metadata": {},
   "outputs": [],
   "source": [
    "loc_translation_flow = FrugalFlowModel(Y=Y, X=X, Z_cont=Z_cont, Z_disc=None, confounding_copula=None)"
   ]
  },
  {
   "cell_type": "code",
   "execution_count": 7,
   "id": "7291528e-c665-4169-9947-24a02c32d599",
   "metadata": {},
   "outputs": [
    {
     "name": "stderr",
     "output_type": "stream",
     "text": [
      "  2%|█▎                                                       | 239/10000 [00:07<05:15, 30.99it/s, train=1.7414076769779299, val=1.8218569844313255 (Max patience reached)]\n",
      "  2%|▉                                                         | 155/10000 [00:19<20:47,  7.89it/s, train=1.267292955951178, val=1.7333332475228291 (Max patience reached)]\n",
      "  1%|▋                                                    | 121/10000 [00:05<07:00, 23.48it/s, train=-0.43901179122748935, val=-0.05080161866032616 (Max patience reached)]\n"
     ]
    }
   ],
   "source": [
    "loc_translation_flow.train_benchmark_model(\n",
    "    training_seed=jr.PRNGKey(0), \n",
    "    marginal_hyperparam_dict=hyperparams_dict, \n",
    "    frugal_hyperparam_dict=hyperparams_dict, \n",
    "    prop_flow_hyperparam_dict=hyperparams_dict,\n",
    "    causal_model='location_translation', \n",
    "    causal_model_args={'ate': 0., **hyperparams_dict}\n",
    ")"
   ]
  },
  {
   "cell_type": "code",
   "execution_count": 8,
   "id": "5b37acfe-92b0-49cf-b126-5959bb73456d",
   "metadata": {},
   "outputs": [
    {
     "name": "stderr",
     "output_type": "stream",
     "text": [
      "/Users/danielmanela/Library/CloudStorage/GoogleDrive-danielmanela@gmail.com/My Drive/work/frugal-flows/validation/../frugal_flows/sample_outcome.py:83: UserWarning: Since both frugal flow object and u_yx are provided to location_translation model, u_yx quantiles will be used to sample from the flow object. If you want to fully sample from the flow object, please provide only the frugal flow object.\n",
      "  warnings.warn(\n"
     ]
    },
    {
     "name": "stdout",
     "output_type": "stream",
     "text": [
      "Y shape: (1000, 1)\n",
      "X shape: (1000, 1)\n",
      "Z shape: (1000, 1)\n"
     ]
    }
   ],
   "source": [
    "synthetic_samples = loc_translation_flow.generate_samples(\n",
    "    key=jr.PRNGKey(1),\n",
    "    sampling_size=(1000),\n",
    "    copula_param=0,\n",
    "    outcome_causal_model='location_translation',\n",
    "    outcome_causal_args={'ate': 2.},\n",
    "    with_confounding=True\n",
    ")"
   ]
  },
  {
   "cell_type": "markdown",
   "id": "ea49042d-2447-4a80-b113-94153d97fb95",
   "metadata": {},
   "source": [
    "## Logistic Flow"
   ]
  },
  {
   "cell_type": "code",
   "execution_count": 9,
   "id": "b3887c5a-a5a7-4a8b-9c71-b5d7f819f20f",
   "metadata": {},
   "outputs": [],
   "source": [
    "logistic_flow = FrugalFlowModel(\n",
    "    Y=jnp.array(df['Y'].values)[:, None], \n",
    "    X=jnp.array(df['X'].values)[:, None],\n",
    "    Z_cont=jnp.array(df['Z1'].values)[:, None],\n",
    ")"
   ]
  },
  {
   "cell_type": "code",
   "execution_count": 10,
   "id": "0d010240-5f94-4af1-bcda-7e8866d27507",
   "metadata": {},
   "outputs": [
    {
     "name": "stderr",
     "output_type": "stream",
     "text": [
      "  2%|█▎                                                       | 239/10000 [00:07<05:17, 30.78it/s, train=1.7414076769779299, val=1.8218569844313255 (Max patience reached)]\n",
      "  2%|█▏                                                       | 211/10000 [00:08<06:31, 25.02it/s, train=1.2475766119435763, val=1.4532597539683303 (Max patience reached)]\n",
      "  1%|▋                                                    | 121/10000 [00:05<07:08, 23.08it/s, train=-0.43901179122748935, val=-0.05080161866032616 (Max patience reached)]\n"
     ]
    }
   ],
   "source": [
    "logistic_flow.train_benchmark_model(\n",
    "    training_seed=jr.PRNGKey(0), \n",
    "    marginal_hyperparam_dict=hyperparams_dict, \n",
    "    frugal_hyperparam_dict=hyperparams_dict, \n",
    "    prop_flow_hyperparam_dict=hyperparams_dict,\n",
    "    causal_model='gaussian', \n",
    "    causal_model_args={'ate': jnp.array([0.]), 'const': 0., 'scale': 1.}\n",
    ")"
   ]
  },
  {
   "cell_type": "code",
   "execution_count": 11,
   "id": "17d8ea99-d85e-4483-b20b-6749a3e4f6ab",
   "metadata": {},
   "outputs": [
    {
     "name": "stdout",
     "output_type": "stream",
     "text": [
      "Y shape: (1000, 1)\n",
      "X shape: (1000, 1)\n",
      "Z shape: (1000, 1)\n"
     ]
    }
   ],
   "source": [
    "synthetic_samples = logistic_flow.generate_samples(\n",
    "    key=jr.PRNGKey(1),\n",
    "    sampling_size=(1000),\n",
    "    copula_param=0,\n",
    "    outcome_causal_model='logistic_regression',\n",
    "    outcome_causal_args={'ate': jnp.array([2.]), 'const': -1.},\n",
    "    with_confounding=True\n",
    ")"
   ]
  }
 ],
 "metadata": {
  "kernelspec": {
   "display_name": "Python 3 (ipykernel)",
   "language": "python",
   "name": "python3"
  },
  "language_info": {
   "codemirror_mode": {
    "name": "ipython",
    "version": 3
   },
   "file_extension": ".py",
   "mimetype": "text/x-python",
   "name": "python",
   "nbconvert_exporter": "python",
   "pygments_lexer": "ipython3",
   "version": "3.12.8"
  }
 },
 "nbformat": 4,
 "nbformat_minor": 5
}
