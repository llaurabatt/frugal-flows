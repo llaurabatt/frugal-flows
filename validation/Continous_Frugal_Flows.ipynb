{
 "cells": [
  {
   "cell_type": "markdown",
   "id": "f05dc14a-b9f6-4de9-8a36-524db299b21d",
   "metadata": {},
   "source": [
    "# Continous Frugal Flows\n",
    "\n",
    "In this notebook we demonstrate the ability for Frugal Flows to identify Marginal Causal Effects"
   ]
  },
  {
   "cell_type": "code",
   "execution_count": 1,
   "id": "1628a626-5ea2-4cf5-b80c-2c8876f38ec3",
   "metadata": {},
   "outputs": [],
   "source": [
    "import sys\n",
    "import os\n",
    "sys.path.append(\"../\") # go to parent dir\n",
    "\n",
    "import jax\n",
    "import jax.random as jr\n",
    "import jax.numpy as jnp\n",
    "import matplotlib.pyplot as plt\n",
    "import numpy as np\n",
    "import pandas as pd\n",
    "import scipy\n",
    "import numpy as np\n",
    "from scipy.stats import rankdata\n",
    "import scipy.stats as ss\n",
    "import statsmodels.api as sm\n",
    "import seaborn as sns\n",
    "from sklearn.model_selection import KFold\n",
    "from tqdm import tqdm\n",
    "\n",
    "# from data.create_sim_data import *\n",
    "import data.template_causl_simulations as causl_py\n",
    "from data.run_all_simulations import plot_simulation_results\n",
    "from data.analysis.validationMethods import matchit\n",
    "from frugal_flows.causal_flows import independent_continuous_marginal_flow, get_independent_quantiles, train_frugal_flow\n",
    "from frugal_flows.bijections import UnivariateNormalCDF\n",
    "\n",
    "import rpy2.robjects as ro\n",
    "from rpy2.robjects.packages import importr\n",
    "from rpy2.robjects import pandas2ri\n",
    "from rpy2.robjects.packages import SignatureTranslatedAnonymousPackage\n",
    "from rpy2.robjects.vectors import StrVector\n",
    "\n",
    "# Activate automatic conversion of rpy2 objects to pandas objects\n",
    "pandas2ri.activate()\n",
    "base = importr('base')\n",
    "utils = importr('utils')\n",
    "\n",
    "# Import the R library causl\n",
    "try:\n",
    "    causl = importr('causl')\n",
    "except Exception as e:\n",
    "    package_names = ('causl')\n",
    "    utils.install_packages(StrVector(package_names))\n",
    "\n",
    "jax.config.update(\"jax_enable_x64\", True)\n",
    "\n",
    "hyperparams_dict = {\n",
    "    'learning_rate': 5e-3,\n",
    "    'RQS_knots': 8,\n",
    "    'flow_layers': 5,\n",
    "    'nn_width': 50,\n",
    "    'nn_depth': 4,    \n",
    "    'max_patience': 100,\n",
    "    'max_epochs': 10000\n",
    "}\n",
    "causal_hyperparams = {\n",
    "    'RQS_knots': 8,\n",
    "    'flow_layers': 5,\n",
    "    'nn_width': 50,\n",
    "    'nn_depth': 4,   \n",
    "}\n",
    "\n",
    "SEED = 0\n",
    "NUM_ITER = 25\n",
    "NUM_SAMPLES = 25000\n",
    "TRUE_PARAMS = {'ate': 1, 'const': 0, 'scale': 1}\n",
    "CAUSAL_PARAMS = [2, 5]"
   ]
  },
  {
   "cell_type": "code",
   "execution_count": 2,
   "id": "024836f0-db4c-43b1-9271-f95470484778",
   "metadata": {},
   "outputs": [],
   "source": [
    "def run_outcome_regression(data):\n",
    "    Z_cont = data.get('Z_cont', None)\n",
    "    Z_disc = data.get('Z_disc', None)\n",
    "    if Z_cont == None:\n",
    "        Z_full = Z_disc\n",
    "    elif Z_disc == None:\n",
    "        Z_full = Z_cont\n",
    "    else:\n",
    "        Z_full = jnp.hstack([Z_cont, Z_disc])\n",
    "    Z_cols = [f\"Z{i+1}\" for i in range(Z_full.shape[1])]\n",
    "    df = pd.DataFrame(jnp.hstack([data['Y'], data['X'], Z_full]), columns=['Y', 'X', *Z_cols])\n",
    "    X_vars = df[['X', *Z_cols]]\n",
    "    X_vars = sm.add_constant(X_vars)\n",
    "    Y_var = df['Y']\n",
    "    model = sm.OLS(Y_var, X_vars).fit()\n",
    "    coefficient_X = model.params['X']\n",
    "    coefficient_const = model.params['const']\n",
    "    return coefficient_X, coefficient_const"
   ]
  },
  {
   "cell_type": "code",
   "execution_count": 3,
   "id": "4f93385b-ced7-4c77-8977-f582c94e75eb",
   "metadata": {},
   "outputs": [],
   "source": [
    "def dict_to_dataframe(data):\n",
    "    # Extract the data from the dictionary\n",
    "    X = np.array(data['X']).flatten()\n",
    "    Y = np.array(data['Y']).flatten()\n",
    "    \n",
    "    # Initialize a dictionary to construct the DataFrame\n",
    "    df_dict = {'X': X, 'Y': Y}\n",
    "    \n",
    "    # Initialize the Z column index\n",
    "    z_index = 1\n",
    "    \n",
    "    # Process Z_cont\n",
    "    if 'Z_cont' in data and data['Z_cont'] is not None:\n",
    "        Z_cont = np.array(data['Z_cont'])\n",
    "        for i in range(Z_cont.shape[1]):\n",
    "            df_dict[f'Z{z_index}'] = Z_cont[:, i]\n",
    "            z_index += 1\n",
    "    \n",
    "    # Process Z_disc (assuming similar structure if it were present)\n",
    "    if 'Z_disc' in data and data['Z_disc'] is not None:\n",
    "        Z_disc = np.array(data['Z_disc'])\n",
    "        for i in range(Z_disc.shape[1]):\n",
    "            df_dict[f'Z{z_index}'] = Z_disc[:, i]\n",
    "            z_index += 1\n",
    "    \n",
    "    # Create the DataFrame\n",
    "    df = pd.DataFrame(df_dict)\n",
    "    \n",
    "    return df"
   ]
  },
  {
   "cell_type": "code",
   "execution_count": 4,
   "id": "9beb271a-c777-465a-bbf2-7a647e5fd3ca",
   "metadata": {},
   "outputs": [
    {
     "data": {
      "text/plain": [
       "(5.317079641118621, 1.010870687858447)"
      ]
     },
     "execution_count": 4,
     "metadata": {},
     "output_type": "execute_result"
    }
   ],
   "source": [
    "data = causl_py.generate_mixed_samples(10000, CAUSAL_PARAMS, 3)\n",
    "run_outcome_regression(data)"
   ]
  },
  {
   "cell_type": "markdown",
   "id": "b6136417-f7d2-4a91-ab9f-4da293e82925",
   "metadata": {},
   "source": [
    "## Checking for the Causal Effect"
   ]
  },
  {
   "cell_type": "markdown",
   "id": "d52f9ceb-2918-4e27-a9f7-8a1e90e30d41",
   "metadata": {},
   "source": [
    "### Gaussians"
   ]
  },
  {
   "cell_type": "markdown",
   "id": "cc58c1bf-6de1-47eb-b2b2-2b4afe6c373a",
   "metadata": {},
   "source": [
    "#### Frugal Flow"
   ]
  },
  {
   "cell_type": "code",
   "execution_count": 5,
   "id": "a136574c-cbba-4c24-91e1-eec5f584d48b",
   "metadata": {},
   "outputs": [],
   "source": [
    "# gaussian_covariates_results = causl_py.run_simulations(\n",
    "#     causl_py.generate_gaussian_samples, \n",
    "#     seed=SEED, \n",
    "#     num_samples=NUM_SAMPLES, \n",
    "#     num_iter=NUM_ITER, \n",
    "#     causal_params=CAUSAL_PARAMS,\n",
    "#     hyperparams_dict=hyperparams_dict,\n",
    "#     causal_model_args={'ate': 0., 'const': 1., 'scale': 1}\n",
    "# )\n",
    "# gaussian_covariates_results"
   ]
  },
  {
   "cell_type": "code",
   "execution_count": 6,
   "id": "c87ec959-d25b-4713-b24f-2a0bd860eaed",
   "metadata": {},
   "outputs": [],
   "source": [
    "# display(gaussian_covariates_results.mean())\n",
    "# display(gaussian_covariates_results.std())"
   ]
  },
  {
   "cell_type": "code",
   "execution_count": 7,
   "id": "0ad888c7-26e9-43e0-8942-2a8b2231f13c",
   "metadata": {},
   "outputs": [],
   "source": [
    "# plt.figure(figsize=(12, 6))\n",
    "\n",
    "# # Boxplot\n",
    "# box = gaussian_covariates_results.boxplot(column=[\"ate\", \"const\", \"scale\"], grid=False)\n",
    "\n",
    "# # Adding lines for the true parameters\n",
    "# plt.axhline(y=TRUE_PARAMS['ate'], color='r', linestyle='--', label='True ate')\n",
    "# plt.axhline(y=TRUE_PARAMS['const'], color='g', linestyle='--', label='True const')\n",
    "# plt.axhline(y=TRUE_PARAMS['scale'], color='b', linestyle='--', label='True scale')\n",
    "\n",
    "# # Adding title and labels\n",
    "# plt.title('Box and Whisker Plot for ATE, Const, and Scale')\n",
    "# plt.ylabel('Values')\n",
    "# plt.ylim([0.80, 1.20])\n",
    "# plt.legend()"
   ]
  },
  {
   "cell_type": "markdown",
   "id": "f1d441a3-1d98-4c9d-bd3c-ebc3f0b5c20f",
   "metadata": {},
   "source": [
    "#### Outcome Regression"
   ]
  },
  {
   "cell_type": "code",
   "execution_count": 8,
   "id": "9b28afaf-719e-4618-834a-eac0b85fbc87",
   "metadata": {},
   "outputs": [],
   "source": [
    "# gaussian_coeffs = {'ate': [], 'const': []}\n",
    "# for i in range(NUM_ITER):\n",
    "#     data = causl_py.generate_gaussian_samples(N=NUM_SAMPLES, causal_params=CAUSAL_PARAMS, seed=i)\n",
    "#     coeff_X, coeff_const = run_outcome_regression(data)\n",
    "#     gaussian_coeffs['ate'].append(coeff_X)\n",
    "#     gaussian_coeffs['const'].append(coeff_const)\n",
    "# gaussian_outcome_coeffs = pd.DataFrame.from_dict(gaussian_coeffs)\n",
    "# gaussian_outcome_coeffs"
   ]
  },
  {
   "cell_type": "code",
   "execution_count": 9,
   "id": "532559d4-63e2-45c1-8657-9326dc549354",
   "metadata": {},
   "outputs": [],
   "source": [
    "# print(gaussian_outcome_coeffs.mean())\n",
    "# print(gaussian_outcome_coeffs.std())"
   ]
  },
  {
   "cell_type": "markdown",
   "id": "ba9dcb71-a33c-4a2a-b6da-c418772a9dca",
   "metadata": {},
   "source": [
    "### Mixed Gaussian and Gamma Outcomes"
   ]
  },
  {
   "cell_type": "code",
   "execution_count": 10,
   "id": "7d95c6e9-0762-4084-8994-30d37803d0e3",
   "metadata": {},
   "outputs": [],
   "source": [
    "N_test = 20000\n",
    "Z_disc, Z_cont, X, Y = causl_py.generate_mixed_samples(N_test, CAUSAL_PARAMS, N_test).values()"
   ]
  },
  {
   "cell_type": "code",
   "execution_count": 11,
   "id": "1e1469be-3697-415b-a3e9-d04431559db8",
   "metadata": {},
   "outputs": [],
   "source": [
    "uz_samples = causl_py.generate_uz_samples(Z_cont=Z_cont, Z_disc=None, use_marginal_flow=False, seed=0, frugal_flow_hyperparams=hyperparams_dict)"
   ]
  },
  {
   "cell_type": "code",
   "execution_count": 12,
   "id": "377b7c9f-fdd8-4187-ba88-274cbf41b9c5",
   "metadata": {},
   "outputs": [
    {
     "name": "stderr",
     "output_type": "stream",
     "text": [
      "  1%|█▎                                                                                              | 141/10000 [02:23<2:46:44,  1.01s/it, train=1.0968159477352808, val=1.1846214418748051 (Max patience reached)]\n"
     ]
    }
   ],
   "source": [
    "frugal_flow, losses = causl_py.train_frugal_flow(\n",
    "    key=jr.PRNGKey(0),\n",
    "    y=Y,\n",
    "    u_z=uz_samples['uz_samples'],\n",
    "    # u_z = jr.uniform(jr.PRNGKey(1000), shape=(N_test, 4)),\n",
    "    condition=X,\n",
    "    **hyperparams_dict,\n",
    "    causal_model='gaussian',\n",
    "    causal_model_args={'ate': jnp.array([-7.]), 'const': 3., 'scale': 5}\n",
    ")"
   ]
  },
  {
   "cell_type": "code",
   "execution_count": 13,
   "id": "00392203-7f38-4409-a1a3-12fed649939d",
   "metadata": {},
   "outputs": [
    {
     "data": {
      "text/plain": [
       "(5.335628360813092, 0.9781561481863036)"
      ]
     },
     "execution_count": 13,
     "metadata": {},
     "output_type": "execute_result"
    }
   ],
   "source": [
    "run_outcome_regression({'X': X, 'Y': Y, 'Z_cont': Z_cont})"
   ]
  },
  {
   "cell_type": "code",
   "execution_count": 14,
   "id": "90427a47-41ef-410c-a961-5a30a7f738e2",
   "metadata": {},
   "outputs": [],
   "source": [
    "causal_margin = frugal_flow.bijection.bijections[-1].bijection.bijections[0]"
   ]
  },
  {
   "cell_type": "code",
   "execution_count": 15,
   "id": "c2647509-7b60-49ea-b7f6-71691bdfbbbd",
   "metadata": {},
   "outputs": [
    {
     "name": "stdout",
     "output_type": "stream",
     "text": [
      "4.925269243681322\n",
      "2.128963814412229\n",
      "0.9969615108043511\n"
     ]
    }
   ],
   "source": [
    "print(causal_margin.ate[0])\n",
    "print(causal_margin.const)\n",
    "print(causal_margin.scale)"
   ]
  },
  {
   "cell_type": "code",
   "execution_count": 16,
   "id": "712f31d7-0696-4788-bf99-51550da17bde",
   "metadata": {},
   "outputs": [
    {
     "name": "stderr",
     "output_type": "stream",
     "text": [
      "  2%|█▌                                                                                              | 166/10000 [03:32<3:30:07,  1.28s/it, train=1.0921668692433022, val=1.1456594916699145 (Max patience reached)]\n"
     ]
    },
    {
     "name": "stdout",
     "output_type": "stream",
     "text": [
      "[array([4.98728548, 1.9944611 , 0.97481533])]\n"
     ]
    },
    {
     "name": "stderr",
     "output_type": "stream",
     "text": [
      "  2%|█▉                                                                                               | 196/10000 [03:58<3:18:40,  1.22s/it, train=1.109576874338564, val=1.1250401084893857 (Max patience reached)]\n"
     ]
    },
    {
     "name": "stdout",
     "output_type": "stream",
     "text": [
      "[array([4.98728548, 1.9944611 , 0.97481533]), array([5.07405115, 1.96035884, 0.99112362])]\n"
     ]
    },
    {
     "name": "stderr",
     "output_type": "stream",
     "text": [
      "  2%|█▊                                                                                              | 186/10000 [04:42<4:08:14,  1.52s/it, train=1.0978622307346864, val=1.1226743478311152 (Max patience reached)]\n"
     ]
    },
    {
     "name": "stdout",
     "output_type": "stream",
     "text": [
      "[array([4.98728548, 1.9944611 , 0.97481533]), array([5.07405115, 1.96035884, 0.99112362]), array([5.01220846, 2.00065041, 1.00869795])]\n"
     ]
    },
    {
     "name": "stderr",
     "output_type": "stream",
     "text": [
      "  2%|█▉                                                                                              | 203/10000 [05:21<4:18:57,  1.59s/it, train=1.1000625233787247, val=1.1519495062335467 (Max patience reached)]\n"
     ]
    },
    {
     "name": "stdout",
     "output_type": "stream",
     "text": [
      "[array([4.98728548, 1.9944611 , 0.97481533]), array([5.07405115, 1.96035884, 0.99112362]), array([5.01220846, 2.00065041, 1.00869795]), array([4.99828329, 1.9918387 , 1.00329629])]\n"
     ]
    },
    {
     "name": "stderr",
     "output_type": "stream",
     "text": [
      "  1%|█▎                                                                                              | 133/10000 [03:18<4:05:03,  1.49s/it, train=1.1129295054778896, val=1.1315532330802218 (Max patience reached)]\n"
     ]
    },
    {
     "name": "stdout",
     "output_type": "stream",
     "text": [
      "[array([4.98728548, 1.9944611 , 0.97481533]), array([5.07405115, 1.96035884, 0.99112362]), array([5.01220846, 2.00065041, 1.00869795]), array([4.99828329, 1.9918387 , 1.00329629]), array([4.86189775, 2.1268459 , 1.00258776])]\n"
     ]
    },
    {
     "name": "stderr",
     "output_type": "stream",
     "text": [
      "  2%|█▊                                                                                              | 190/10000 [05:36<4:49:13,  1.77s/it, train=1.0922187547794373, val=1.1529824781819087 (Max patience reached)]\n"
     ]
    },
    {
     "name": "stdout",
     "output_type": "stream",
     "text": [
      "[array([4.98728548, 1.9944611 , 0.97481533]), array([5.07405115, 1.96035884, 0.99112362]), array([5.01220846, 2.00065041, 1.00869795]), array([4.99828329, 1.9918387 , 1.00329629]), array([4.86189775, 2.1268459 , 1.00258776]), array([5.06351153, 1.95819267, 1.01740096])]\n"
     ]
    },
    {
     "name": "stderr",
     "output_type": "stream",
     "text": [
      "  2%|█▌                                                                                              | 165/10000 [04:21<4:20:04,  1.59s/it, train=1.1013171427788495, val=1.1840653150001033 (Max patience reached)]\n"
     ]
    },
    {
     "name": "stdout",
     "output_type": "stream",
     "text": [
      "[array([4.98728548, 1.9944611 , 0.97481533]), array([5.07405115, 1.96035884, 0.99112362]), array([5.01220846, 2.00065041, 1.00869795]), array([4.99828329, 1.9918387 , 1.00329629]), array([4.86189775, 2.1268459 , 1.00258776]), array([5.06351153, 1.95819267, 1.01740096]), array([4.93784821, 2.07511204, 0.97805699])]\n"
     ]
    },
    {
     "name": "stderr",
     "output_type": "stream",
     "text": [
      "  1%|█▎                                                                                               | 137/10000 [03:24<4:04:53,  1.49s/it, train=1.105639563588559, val=1.1190025343343581 (Max patience reached)]\n"
     ]
    },
    {
     "name": "stdout",
     "output_type": "stream",
     "text": [
      "[array([4.98728548, 1.9944611 , 0.97481533]), array([5.07405115, 1.96035884, 0.99112362]), array([5.01220846, 2.00065041, 1.00869795]), array([4.99828329, 1.9918387 , 1.00329629]), array([4.86189775, 2.1268459 , 1.00258776]), array([5.06351153, 1.95819267, 1.01740096]), array([4.93784821, 2.07511204, 0.97805699]), array([4.96942418, 2.03732827, 1.00797539])]\n"
     ]
    },
    {
     "name": "stderr",
     "output_type": "stream",
     "text": [
      "  2%|█▌                                                                                              | 168/10000 [04:22<4:15:45,  1.56s/it, train=1.0917934962088216, val=1.1496913419706971 (Max patience reached)]\n"
     ]
    },
    {
     "name": "stdout",
     "output_type": "stream",
     "text": [
      "[array([4.98728548, 1.9944611 , 0.97481533]), array([5.07405115, 1.96035884, 0.99112362]), array([5.01220846, 2.00065041, 1.00869795]), array([4.99828329, 1.9918387 , 1.00329629]), array([4.86189775, 2.1268459 , 1.00258776]), array([5.06351153, 1.95819267, 1.01740096]), array([4.93784821, 2.07511204, 0.97805699]), array([4.96942418, 2.03732827, 1.00797539]), array([5.05672197, 1.94181214, 0.99080976])]\n"
     ]
    },
    {
     "name": "stderr",
     "output_type": "stream",
     "text": [
      "  2%|█▍                                                                                              | 152/10000 [03:47<4:05:25,  1.50s/it, train=1.1089807657912683, val=1.1697257790864761 (Max patience reached)]\n"
     ]
    },
    {
     "name": "stdout",
     "output_type": "stream",
     "text": [
      "[array([4.98728548, 1.9944611 , 0.97481533]), array([5.07405115, 1.96035884, 0.99112362]), array([5.01220846, 2.00065041, 1.00869795]), array([4.99828329, 1.9918387 , 1.00329629]), array([4.86189775, 2.1268459 , 1.00258776]), array([5.06351153, 1.95819267, 1.01740096]), array([4.93784821, 2.07511204, 0.97805699]), array([4.96942418, 2.03732827, 1.00797539]), array([5.05672197, 1.94181214, 0.99080976]), array([5.02657153, 1.98074843, 1.0164012 ])]\n"
     ]
    },
    {
     "name": "stderr",
     "output_type": "stream",
     "text": [
      "  2%|█▋                                                                                              | 171/10000 [04:18<4:07:57,  1.51s/it, train=1.1144428094955137, val=1.1603396898547005 (Max patience reached)]\n"
     ]
    },
    {
     "name": "stdout",
     "output_type": "stream",
     "text": [
      "[array([4.98728548, 1.9944611 , 0.97481533]), array([5.07405115, 1.96035884, 0.99112362]), array([5.01220846, 2.00065041, 1.00869795]), array([4.99828329, 1.9918387 , 1.00329629]), array([4.86189775, 2.1268459 , 1.00258776]), array([5.06351153, 1.95819267, 1.01740096]), array([4.93784821, 2.07511204, 0.97805699]), array([4.96942418, 2.03732827, 1.00797539]), array([5.05672197, 1.94181214, 0.99080976]), array([5.02657153, 1.98074843, 1.0164012 ]), array([4.99751496, 2.02216643, 1.0052117 ])]\n"
     ]
    },
    {
     "name": "stderr",
     "output_type": "stream",
     "text": [
      "  2%|█▉                                                                                               | 203/10000 [05:06<4:06:13,  1.51s/it, train=1.114862870449965, val=1.1185718119884607 (Max patience reached)]\n"
     ]
    },
    {
     "name": "stdout",
     "output_type": "stream",
     "text": [
      "[array([4.98728548, 1.9944611 , 0.97481533]), array([5.07405115, 1.96035884, 0.99112362]), array([5.01220846, 2.00065041, 1.00869795]), array([4.99828329, 1.9918387 , 1.00329629]), array([4.86189775, 2.1268459 , 1.00258776]), array([5.06351153, 1.95819267, 1.01740096]), array([4.93784821, 2.07511204, 0.97805699]), array([4.96942418, 2.03732827, 1.00797539]), array([5.05672197, 1.94181214, 0.99080976]), array([5.02657153, 1.98074843, 1.0164012 ]), array([4.99751496, 2.02216643, 1.0052117 ]), array([4.96669541, 2.02340077, 0.99965243])]\n"
     ]
    },
    {
     "name": "stderr",
     "output_type": "stream",
     "text": [
      "  2%|█▌                                                                                               | 157/10000 [03:58<4:09:15,  1.52s/it, train=1.103590096052073, val=1.1638914911865939 (Max patience reached)]\n"
     ]
    },
    {
     "name": "stdout",
     "output_type": "stream",
     "text": [
      "[array([4.98728548, 1.9944611 , 0.97481533]), array([5.07405115, 1.96035884, 0.99112362]), array([5.01220846, 2.00065041, 1.00869795]), array([4.99828329, 1.9918387 , 1.00329629]), array([4.86189775, 2.1268459 , 1.00258776]), array([5.06351153, 1.95819267, 1.01740096]), array([4.93784821, 2.07511204, 0.97805699]), array([4.96942418, 2.03732827, 1.00797539]), array([5.05672197, 1.94181214, 0.99080976]), array([5.02657153, 1.98074843, 1.0164012 ]), array([4.99751496, 2.02216643, 1.0052117 ]), array([4.96669541, 2.02340077, 0.99965243]), array([5.01128701, 1.99080635, 0.99201431])]\n"
     ]
    },
    {
     "name": "stderr",
     "output_type": "stream",
     "text": [
      "  2%|█▋                                                                                              | 179/10000 [04:15<3:53:20,  1.43s/it, train=1.1011828593468118, val=1.2010552329779136 (Max patience reached)]\n"
     ]
    },
    {
     "name": "stdout",
     "output_type": "stream",
     "text": [
      "[array([4.98728548, 1.9944611 , 0.97481533]), array([5.07405115, 1.96035884, 0.99112362]), array([5.01220846, 2.00065041, 1.00869795]), array([4.99828329, 1.9918387 , 1.00329629]), array([4.86189775, 2.1268459 , 1.00258776]), array([5.06351153, 1.95819267, 1.01740096]), array([4.93784821, 2.07511204, 0.97805699]), array([4.96942418, 2.03732827, 1.00797539]), array([5.05672197, 1.94181214, 0.99080976]), array([5.02657153, 1.98074843, 1.0164012 ]), array([4.99751496, 2.02216643, 1.0052117 ]), array([4.96669541, 2.02340077, 0.99965243]), array([5.01128701, 1.99080635, 0.99201431]), array([5.05007901, 1.92766443, 1.00460176])]\n"
     ]
    },
    {
     "name": "stderr",
     "output_type": "stream",
     "text": [
      "  2%|██▎                                                                                             | 247/10000 [06:20<4:10:36,  1.54s/it, train=1.1054194201555028, val=1.1365500978507197 (Max patience reached)]\n"
     ]
    },
    {
     "name": "stdout",
     "output_type": "stream",
     "text": [
      "[array([4.98728548, 1.9944611 , 0.97481533]), array([5.07405115, 1.96035884, 0.99112362]), array([5.01220846, 2.00065041, 1.00869795]), array([4.99828329, 1.9918387 , 1.00329629]), array([4.86189775, 2.1268459 , 1.00258776]), array([5.06351153, 1.95819267, 1.01740096]), array([4.93784821, 2.07511204, 0.97805699]), array([4.96942418, 2.03732827, 1.00797539]), array([5.05672197, 1.94181214, 0.99080976]), array([5.02657153, 1.98074843, 1.0164012 ]), array([4.99751496, 2.02216643, 1.0052117 ]), array([4.96669541, 2.02340077, 0.99965243]), array([5.01128701, 1.99080635, 0.99201431]), array([5.05007901, 1.92766443, 1.00460176]), array([5.04308064, 1.98691104, 0.99255269])]\n"
     ]
    },
    {
     "name": "stderr",
     "output_type": "stream",
     "text": [
      "  1%|█▎                                                                                               | 138/10000 [03:22<4:00:51,  1.47s/it, train=1.1056423909892863, val=1.159123124045874 (Max patience reached)]\n"
     ]
    },
    {
     "name": "stdout",
     "output_type": "stream",
     "text": [
      "[array([4.98728548, 1.9944611 , 0.97481533]), array([5.07405115, 1.96035884, 0.99112362]), array([5.01220846, 2.00065041, 1.00869795]), array([4.99828329, 1.9918387 , 1.00329629]), array([4.86189775, 2.1268459 , 1.00258776]), array([5.06351153, 1.95819267, 1.01740096]), array([4.93784821, 2.07511204, 0.97805699]), array([4.96942418, 2.03732827, 1.00797539]), array([5.05672197, 1.94181214, 0.99080976]), array([5.02657153, 1.98074843, 1.0164012 ]), array([4.99751496, 2.02216643, 1.0052117 ]), array([4.96669541, 2.02340077, 0.99965243]), array([5.01128701, 1.99080635, 0.99201431]), array([5.05007901, 1.92766443, 1.00460176]), array([5.04308064, 1.98691104, 0.99255269]), array([4.98283539, 2.02204803, 1.01372731])]\n"
     ]
    },
    {
     "name": "stderr",
     "output_type": "stream",
     "text": [
      "  1%|█▎                                                                                              | 139/10000 [03:37<4:16:43,  1.56s/it, train=1.1071317635880418, val=1.1437332670090028 (Max patience reached)]\n"
     ]
    },
    {
     "name": "stdout",
     "output_type": "stream",
     "text": [
      "[array([4.98728548, 1.9944611 , 0.97481533]), array([5.07405115, 1.96035884, 0.99112362]), array([5.01220846, 2.00065041, 1.00869795]), array([4.99828329, 1.9918387 , 1.00329629]), array([4.86189775, 2.1268459 , 1.00258776]), array([5.06351153, 1.95819267, 1.01740096]), array([4.93784821, 2.07511204, 0.97805699]), array([4.96942418, 2.03732827, 1.00797539]), array([5.05672197, 1.94181214, 0.99080976]), array([5.02657153, 1.98074843, 1.0164012 ]), array([4.99751496, 2.02216643, 1.0052117 ]), array([4.96669541, 2.02340077, 0.99965243]), array([5.01128701, 1.99080635, 0.99201431]), array([5.05007901, 1.92766443, 1.00460176]), array([5.04308064, 1.98691104, 0.99255269]), array([4.98283539, 2.02204803, 1.01372731]), array([4.92130801, 2.09764329, 1.01822801])]\n"
     ]
    },
    {
     "name": "stderr",
     "output_type": "stream",
     "text": [
      "  2%|█▍                                                                                              | 150/10000 [04:08<4:32:00,  1.66s/it, train=1.1127719877191544, val=1.1202583328346336 (Max patience reached)]\n"
     ]
    },
    {
     "name": "stdout",
     "output_type": "stream",
     "text": [
      "[array([4.98728548, 1.9944611 , 0.97481533]), array([5.07405115, 1.96035884, 0.99112362]), array([5.01220846, 2.00065041, 1.00869795]), array([4.99828329, 1.9918387 , 1.00329629]), array([4.86189775, 2.1268459 , 1.00258776]), array([5.06351153, 1.95819267, 1.01740096]), array([4.93784821, 2.07511204, 0.97805699]), array([4.96942418, 2.03732827, 1.00797539]), array([5.05672197, 1.94181214, 0.99080976]), array([5.02657153, 1.98074843, 1.0164012 ]), array([4.99751496, 2.02216643, 1.0052117 ]), array([4.96669541, 2.02340077, 0.99965243]), array([5.01128701, 1.99080635, 0.99201431]), array([5.05007901, 1.92766443, 1.00460176]), array([5.04308064, 1.98691104, 0.99255269]), array([4.98283539, 2.02204803, 1.01372731]), array([4.92130801, 2.09764329, 1.01822801]), array([5.03775774, 1.95696666, 1.01592807])]\n"
     ]
    },
    {
     "name": "stderr",
     "output_type": "stream",
     "text": [
      "  2%|█▋                                                                                              | 172/10000 [03:57<3:46:30,  1.38s/it, train=1.1728465202711829, val=1.2264511795443236 (Max patience reached)]\n"
     ]
    },
    {
     "name": "stdout",
     "output_type": "stream",
     "text": [
      "[array([4.98728548, 1.9944611 , 0.97481533]), array([5.07405115, 1.96035884, 0.99112362]), array([5.01220846, 2.00065041, 1.00869795]), array([4.99828329, 1.9918387 , 1.00329629]), array([4.86189775, 2.1268459 , 1.00258776]), array([5.06351153, 1.95819267, 1.01740096]), array([4.93784821, 2.07511204, 0.97805699]), array([4.96942418, 2.03732827, 1.00797539]), array([5.05672197, 1.94181214, 0.99080976]), array([5.02657153, 1.98074843, 1.0164012 ]), array([4.99751496, 2.02216643, 1.0052117 ]), array([4.96669541, 2.02340077, 0.99965243]), array([5.01128701, 1.99080635, 0.99201431]), array([5.05007901, 1.92766443, 1.00460176]), array([5.04308064, 1.98691104, 0.99255269]), array([4.98283539, 2.02204803, 1.01372731]), array([4.92130801, 2.09764329, 1.01822801]), array([5.03775774, 1.95696666, 1.01592807]), array([5.44866267, 1.59823576, 1.01250167])]\n"
     ]
    },
    {
     "name": "stderr",
     "output_type": "stream",
     "text": [
      "  2%|█▋                                                                                              | 176/10000 [04:28<4:09:52,  1.53s/it, train=1.1041860296503185, val=1.1717507492523391 (Max patience reached)]\n"
     ]
    },
    {
     "name": "stdout",
     "output_type": "stream",
     "text": [
      "[array([4.98728548, 1.9944611 , 0.97481533]), array([5.07405115, 1.96035884, 0.99112362]), array([5.01220846, 2.00065041, 1.00869795]), array([4.99828329, 1.9918387 , 1.00329629]), array([4.86189775, 2.1268459 , 1.00258776]), array([5.06351153, 1.95819267, 1.01740096]), array([4.93784821, 2.07511204, 0.97805699]), array([4.96942418, 2.03732827, 1.00797539]), array([5.05672197, 1.94181214, 0.99080976]), array([5.02657153, 1.98074843, 1.0164012 ]), array([4.99751496, 2.02216643, 1.0052117 ]), array([4.96669541, 2.02340077, 0.99965243]), array([5.01128701, 1.99080635, 0.99201431]), array([5.05007901, 1.92766443, 1.00460176]), array([5.04308064, 1.98691104, 0.99255269]), array([4.98283539, 2.02204803, 1.01372731]), array([4.92130801, 2.09764329, 1.01822801]), array([5.03775774, 1.95696666, 1.01592807]), array([5.44866267, 1.59823576, 1.01250167]), array([5.02889377, 1.97506004, 1.00843964])]\n"
     ]
    },
    {
     "name": "stderr",
     "output_type": "stream",
     "text": [
      "  2%|██                                                                                              | 220/10000 [05:37<4:09:49,  1.53s/it, train=1.1111581432694368, val=1.1595073246257823 (Max patience reached)]\n"
     ]
    },
    {
     "name": "stdout",
     "output_type": "stream",
     "text": [
      "[array([4.98728548, 1.9944611 , 0.97481533]), array([5.07405115, 1.96035884, 0.99112362]), array([5.01220846, 2.00065041, 1.00869795]), array([4.99828329, 1.9918387 , 1.00329629]), array([4.86189775, 2.1268459 , 1.00258776]), array([5.06351153, 1.95819267, 1.01740096]), array([4.93784821, 2.07511204, 0.97805699]), array([4.96942418, 2.03732827, 1.00797539]), array([5.05672197, 1.94181214, 0.99080976]), array([5.02657153, 1.98074843, 1.0164012 ]), array([4.99751496, 2.02216643, 1.0052117 ]), array([4.96669541, 2.02340077, 0.99965243]), array([5.01128701, 1.99080635, 0.99201431]), array([5.05007901, 1.92766443, 1.00460176]), array([5.04308064, 1.98691104, 0.99255269]), array([4.98283539, 2.02204803, 1.01372731]), array([4.92130801, 2.09764329, 1.01822801]), array([5.03775774, 1.95696666, 1.01592807]), array([5.44866267, 1.59823576, 1.01250167]), array([5.02889377, 1.97506004, 1.00843964]), array([5.0251026 , 1.96328776, 1.02638699])]\n"
     ]
    },
    {
     "name": "stderr",
     "output_type": "stream",
     "text": [
      "  1%|█▏                                                                                              | 129/10000 [03:12<4:05:10,  1.49s/it, train=1.1109306768133094, val=1.1746077768811194 (Max patience reached)]\n"
     ]
    },
    {
     "name": "stdout",
     "output_type": "stream",
     "text": [
      "[array([4.98728548, 1.9944611 , 0.97481533]), array([5.07405115, 1.96035884, 0.99112362]), array([5.01220846, 2.00065041, 1.00869795]), array([4.99828329, 1.9918387 , 1.00329629]), array([4.86189775, 2.1268459 , 1.00258776]), array([5.06351153, 1.95819267, 1.01740096]), array([4.93784821, 2.07511204, 0.97805699]), array([4.96942418, 2.03732827, 1.00797539]), array([5.05672197, 1.94181214, 0.99080976]), array([5.02657153, 1.98074843, 1.0164012 ]), array([4.99751496, 2.02216643, 1.0052117 ]), array([4.96669541, 2.02340077, 0.99965243]), array([5.01128701, 1.99080635, 0.99201431]), array([5.05007901, 1.92766443, 1.00460176]), array([5.04308064, 1.98691104, 0.99255269]), array([4.98283539, 2.02204803, 1.01372731]), array([4.92130801, 2.09764329, 1.01822801]), array([5.03775774, 1.95696666, 1.01592807]), array([5.44866267, 1.59823576, 1.01250167]), array([5.02889377, 1.97506004, 1.00843964]), array([5.0251026 , 1.96328776, 1.02638699]), array([4.7281814 , 2.24963927, 1.0086924 ])]\n"
     ]
    },
    {
     "name": "stderr",
     "output_type": "stream",
     "text": [
      "  2%|██                                                                                              | 211/10000 [05:14<4:02:49,  1.49s/it, train=1.0933196286432525, val=1.1314556200670303 (Max patience reached)]\n"
     ]
    },
    {
     "name": "stdout",
     "output_type": "stream",
     "text": [
      "[array([4.98728548, 1.9944611 , 0.97481533]), array([5.07405115, 1.96035884, 0.99112362]), array([5.01220846, 2.00065041, 1.00869795]), array([4.99828329, 1.9918387 , 1.00329629]), array([4.86189775, 2.1268459 , 1.00258776]), array([5.06351153, 1.95819267, 1.01740096]), array([4.93784821, 2.07511204, 0.97805699]), array([4.96942418, 2.03732827, 1.00797539]), array([5.05672197, 1.94181214, 0.99080976]), array([5.02657153, 1.98074843, 1.0164012 ]), array([4.99751496, 2.02216643, 1.0052117 ]), array([4.96669541, 2.02340077, 0.99965243]), array([5.01128701, 1.99080635, 0.99201431]), array([5.05007901, 1.92766443, 1.00460176]), array([5.04308064, 1.98691104, 0.99255269]), array([4.98283539, 2.02204803, 1.01372731]), array([4.92130801, 2.09764329, 1.01822801]), array([5.03775774, 1.95696666, 1.01592807]), array([5.44866267, 1.59823576, 1.01250167]), array([5.02889377, 1.97506004, 1.00843964]), array([5.0251026 , 1.96328776, 1.02638699]), array([4.7281814 , 2.24963927, 1.0086924 ]), array([5.02119017, 1.98103184, 1.00238205])]\n"
     ]
    },
    {
     "name": "stderr",
     "output_type": "stream",
     "text": [
      "  1%|█▎                                                                                              | 131/10000 [03:26<4:19:24,  1.58s/it, train=1.0985319837332683, val=1.1442629046265131 (Max patience reached)]\n"
     ]
    },
    {
     "name": "stdout",
     "output_type": "stream",
     "text": [
      "[array([4.98728548, 1.9944611 , 0.97481533]), array([5.07405115, 1.96035884, 0.99112362]), array([5.01220846, 2.00065041, 1.00869795]), array([4.99828329, 1.9918387 , 1.00329629]), array([4.86189775, 2.1268459 , 1.00258776]), array([5.06351153, 1.95819267, 1.01740096]), array([4.93784821, 2.07511204, 0.97805699]), array([4.96942418, 2.03732827, 1.00797539]), array([5.05672197, 1.94181214, 0.99080976]), array([5.02657153, 1.98074843, 1.0164012 ]), array([4.99751496, 2.02216643, 1.0052117 ]), array([4.96669541, 2.02340077, 0.99965243]), array([5.01128701, 1.99080635, 0.99201431]), array([5.05007901, 1.92766443, 1.00460176]), array([5.04308064, 1.98691104, 0.99255269]), array([4.98283539, 2.02204803, 1.01372731]), array([4.92130801, 2.09764329, 1.01822801]), array([5.03775774, 1.95696666, 1.01592807]), array([5.44866267, 1.59823576, 1.01250167]), array([5.02889377, 1.97506004, 1.00843964]), array([5.0251026 , 1.96328776, 1.02638699]), array([4.7281814 , 2.24963927, 1.0086924 ]), array([5.02119017, 1.98103184, 1.00238205]), array([4.83820726, 2.13179901, 1.00533067])]\n"
     ]
    },
    {
     "name": "stderr",
     "output_type": "stream",
     "text": [
      "  2%|█▋                                                                                               | 169/10000 [04:12<4:04:37,  1.49s/it, train=1.111168350376031, val=1.1258316311184267 (Max patience reached)]"
     ]
    },
    {
     "name": "stdout",
     "output_type": "stream",
     "text": [
      "[array([4.98728548, 1.9944611 , 0.97481533]), array([5.07405115, 1.96035884, 0.99112362]), array([5.01220846, 2.00065041, 1.00869795]), array([4.99828329, 1.9918387 , 1.00329629]), array([4.86189775, 2.1268459 , 1.00258776]), array([5.06351153, 1.95819267, 1.01740096]), array([4.93784821, 2.07511204, 0.97805699]), array([4.96942418, 2.03732827, 1.00797539]), array([5.05672197, 1.94181214, 0.99080976]), array([5.02657153, 1.98074843, 1.0164012 ]), array([4.99751496, 2.02216643, 1.0052117 ]), array([4.96669541, 2.02340077, 0.99965243]), array([5.01128701, 1.99080635, 0.99201431]), array([5.05007901, 1.92766443, 1.00460176]), array([5.04308064, 1.98691104, 0.99255269]), array([4.98283539, 2.02204803, 1.01372731]), array([4.92130801, 2.09764329, 1.01822801]), array([5.03775774, 1.95696666, 1.01592807]), array([5.44866267, 1.59823576, 1.01250167]), array([5.02889377, 1.97506004, 1.00843964]), array([5.0251026 , 1.96328776, 1.02638699]), array([4.7281814 , 2.24963927, 1.0086924 ]), array([5.02119017, 1.98103184, 1.00238205]), array([4.83820726, 2.13179901, 1.00533067]), array([5.01055404, 1.98335091, 1.00406087])]\n"
     ]
    },
    {
     "name": "stderr",
     "output_type": "stream",
     "text": [
      "\n"
     ]
    }
   ],
   "source": [
    "continous_covariates_results = causl_py.run_simulations(\n",
    "    causl_py.generate_mixed_samples, \n",
    "    seed=SEED, \n",
    "    num_samples=NUM_SAMPLES, \n",
    "    num_iter=NUM_ITER, \n",
    "    causal_params=CAUSAL_PARAMS,\n",
    "    hyperparams_dict=hyperparams_dict,\n",
    "    causal_model_args={'ate': jnp.array([0.]), 'const': 0., 'scale': 1}\n",
    ")"
   ]
  },
  {
   "cell_type": "code",
   "execution_count": 17,
   "id": "afa55852-a214-41b0-a37f-8892cba889de",
   "metadata": {},
   "outputs": [
    {
     "name": "stdout",
     "output_type": "stream",
     "text": [
      "ate      5.003966\n",
      "const    1.999094\n",
      "scale    1.004035\n",
      "dtype: float64\n",
      "ate      0.121473\n",
      "const    0.110376\n",
      "scale    0.012235\n",
      "dtype: float64\n"
     ]
    }
   ],
   "source": [
    "print(continous_covariates_results.mean())\n",
    "print(continous_covariates_results.std())"
   ]
  },
  {
   "cell_type": "code",
   "execution_count": 18,
   "id": "f4929ebb-6373-4236-ad4f-e291f3af562d",
   "metadata": {},
   "outputs": [
    {
     "name": "stderr",
     "output_type": "stream",
     "text": [
      "100%|███████████████████████████████████████████████████████████████████████████████████████████████████████████████████████████████████████████████████████████████████████████████| 25/25 [35:37<00:00, 85.49s/it]"
     ]
    },
    {
     "name": "stdout",
     "output_type": "stream",
     "text": [
      "4.679878065794852\n",
      "0.5839430759273976\n"
     ]
    },
    {
     "name": "stderr",
     "output_type": "stream",
     "text": [
      "\n"
     ]
    }
   ],
   "source": [
    "matchit_ate_list = []\n",
    "for i in tqdm(range(NUM_ITER)):\n",
    "    data = causl_py.generate_mixed_samples(20000, CAUSAL_PARAMS, i)\n",
    "    matching_results = matchit(outcome='Y', treatment='X', data=dict_to_dataframe(data))\n",
    "    matchit_ate_list.append(matching_results[0][0])\n",
    "print(np.mean(matchit_ate_list))\n",
    "print(np.std(matchit_ate_list))"
   ]
  },
  {
   "cell_type": "code",
   "execution_count": 19,
   "id": "99b07a0a-a5ec-4205-af48-86cada72a236",
   "metadata": {},
   "outputs": [
    {
     "name": "stdout",
     "output_type": "stream",
     "text": [
      "4.679878065794852\n",
      "0.5839430759273976\n"
     ]
    }
   ],
   "source": [
    "print(np.mean(matchit_ate_list))\n",
    "print(np.std(matchit_ate_list))"
   ]
  },
  {
   "cell_type": "markdown",
   "id": "b7a1c159-5441-4ed7-8890-be515f80fde7",
   "metadata": {},
   "source": [
    "#### Outcome Regression"
   ]
  },
  {
   "cell_type": "code",
   "execution_count": 20,
   "id": "fb4daed3-c646-4d59-a219-e8131ff04332",
   "metadata": {},
   "outputs": [
    {
     "data": {
      "text/html": [
       "<div>\n",
       "<style scoped>\n",
       "    .dataframe tbody tr th:only-of-type {\n",
       "        vertical-align: middle;\n",
       "    }\n",
       "\n",
       "    .dataframe tbody tr th {\n",
       "        vertical-align: top;\n",
       "    }\n",
       "\n",
       "    .dataframe thead th {\n",
       "        text-align: right;\n",
       "    }\n",
       "</style>\n",
       "<table border=\"1\" class=\"dataframe\">\n",
       "  <thead>\n",
       "    <tr style=\"text-align: right;\">\n",
       "      <th></th>\n",
       "      <th>ate</th>\n",
       "      <th>const</th>\n",
       "    </tr>\n",
       "  </thead>\n",
       "  <tbody>\n",
       "    <tr>\n",
       "      <th>0</th>\n",
       "      <td>5.299270</td>\n",
       "      <td>1.002483</td>\n",
       "    </tr>\n",
       "    <tr>\n",
       "      <th>1</th>\n",
       "      <td>5.293492</td>\n",
       "      <td>0.997527</td>\n",
       "    </tr>\n",
       "    <tr>\n",
       "      <th>2</th>\n",
       "      <td>5.283894</td>\n",
       "      <td>1.003643</td>\n",
       "    </tr>\n",
       "    <tr>\n",
       "      <th>3</th>\n",
       "      <td>5.277860</td>\n",
       "      <td>1.019234</td>\n",
       "    </tr>\n",
       "    <tr>\n",
       "      <th>4</th>\n",
       "      <td>5.290454</td>\n",
       "      <td>0.980813</td>\n",
       "    </tr>\n",
       "    <tr>\n",
       "      <th>5</th>\n",
       "      <td>5.349729</td>\n",
       "      <td>0.958014</td>\n",
       "    </tr>\n",
       "    <tr>\n",
       "      <th>6</th>\n",
       "      <td>5.221412</td>\n",
       "      <td>1.071590</td>\n",
       "    </tr>\n",
       "    <tr>\n",
       "      <th>7</th>\n",
       "      <td>5.326167</td>\n",
       "      <td>0.992009</td>\n",
       "    </tr>\n",
       "    <tr>\n",
       "      <th>8</th>\n",
       "      <td>5.313750</td>\n",
       "      <td>1.001159</td>\n",
       "    </tr>\n",
       "    <tr>\n",
       "      <th>9</th>\n",
       "      <td>5.272994</td>\n",
       "      <td>1.008471</td>\n",
       "    </tr>\n",
       "    <tr>\n",
       "      <th>10</th>\n",
       "      <td>5.266591</td>\n",
       "      <td>1.044267</td>\n",
       "    </tr>\n",
       "    <tr>\n",
       "      <th>11</th>\n",
       "      <td>5.271436</td>\n",
       "      <td>1.018786</td>\n",
       "    </tr>\n",
       "    <tr>\n",
       "      <th>12</th>\n",
       "      <td>5.296966</td>\n",
       "      <td>1.016666</td>\n",
       "    </tr>\n",
       "    <tr>\n",
       "      <th>13</th>\n",
       "      <td>5.323774</td>\n",
       "      <td>0.989026</td>\n",
       "    </tr>\n",
       "    <tr>\n",
       "      <th>14</th>\n",
       "      <td>5.294095</td>\n",
       "      <td>1.005076</td>\n",
       "    </tr>\n",
       "    <tr>\n",
       "      <th>15</th>\n",
       "      <td>5.313939</td>\n",
       "      <td>0.992543</td>\n",
       "    </tr>\n",
       "    <tr>\n",
       "      <th>16</th>\n",
       "      <td>5.263706</td>\n",
       "      <td>1.046868</td>\n",
       "    </tr>\n",
       "    <tr>\n",
       "      <th>17</th>\n",
       "      <td>5.284960</td>\n",
       "      <td>1.006469</td>\n",
       "    </tr>\n",
       "    <tr>\n",
       "      <th>18</th>\n",
       "      <td>5.287113</td>\n",
       "      <td>1.020160</td>\n",
       "    </tr>\n",
       "    <tr>\n",
       "      <th>19</th>\n",
       "      <td>5.300103</td>\n",
       "      <td>1.001119</td>\n",
       "    </tr>\n",
       "    <tr>\n",
       "      <th>20</th>\n",
       "      <td>5.312225</td>\n",
       "      <td>0.989280</td>\n",
       "    </tr>\n",
       "    <tr>\n",
       "      <th>21</th>\n",
       "      <td>5.293782</td>\n",
       "      <td>1.020706</td>\n",
       "    </tr>\n",
       "    <tr>\n",
       "      <th>22</th>\n",
       "      <td>5.303387</td>\n",
       "      <td>0.985876</td>\n",
       "    </tr>\n",
       "    <tr>\n",
       "      <th>23</th>\n",
       "      <td>5.281958</td>\n",
       "      <td>1.016008</td>\n",
       "    </tr>\n",
       "    <tr>\n",
       "      <th>24</th>\n",
       "      <td>5.284097</td>\n",
       "      <td>1.033357</td>\n",
       "    </tr>\n",
       "  </tbody>\n",
       "</table>\n",
       "</div>"
      ],
      "text/plain": [
       "         ate     const\n",
       "0   5.299270  1.002483\n",
       "1   5.293492  0.997527\n",
       "2   5.283894  1.003643\n",
       "3   5.277860  1.019234\n",
       "4   5.290454  0.980813\n",
       "5   5.349729  0.958014\n",
       "6   5.221412  1.071590\n",
       "7   5.326167  0.992009\n",
       "8   5.313750  1.001159\n",
       "9   5.272994  1.008471\n",
       "10  5.266591  1.044267\n",
       "11  5.271436  1.018786\n",
       "12  5.296966  1.016666\n",
       "13  5.323774  0.989026\n",
       "14  5.294095  1.005076\n",
       "15  5.313939  0.992543\n",
       "16  5.263706  1.046868\n",
       "17  5.284960  1.006469\n",
       "18  5.287113  1.020160\n",
       "19  5.300103  1.001119\n",
       "20  5.312225  0.989280\n",
       "21  5.293782  1.020706\n",
       "22  5.303387  0.985876\n",
       "23  5.281958  1.016008\n",
       "24  5.284097  1.033357"
      ]
     },
     "execution_count": 20,
     "metadata": {},
     "output_type": "execute_result"
    }
   ],
   "source": [
    "outcome_coeffs = {'ate': [], 'const': []}\n",
    "for i in range(NUM_ITER):\n",
    "    data = causl_py.generate_mixed_samples(N=NUM_SAMPLES, causal_params=CAUSAL_PARAMS, seed=i)\n",
    "    coeff_X, coeff_const = run_outcome_regression(data)\n",
    "    outcome_coeffs['ate'].append(coeff_X)\n",
    "    outcome_coeffs['const'].append(coeff_const)\n",
    "outcome_coeffs = pd.DataFrame.from_dict(outcome_coeffs)\n",
    "outcome_coeffs"
   ]
  },
  {
   "cell_type": "code",
   "execution_count": 21,
   "id": "1f98eee7-e37c-49dd-b671-7f467f246822",
   "metadata": {},
   "outputs": [
    {
     "name": "stdout",
     "output_type": "stream",
     "text": [
      "ate      5.292286\n",
      "const    1.008846\n",
      "dtype: float64\n",
      "ate      0.024892\n",
      "const    0.023614\n",
      "dtype: float64\n"
     ]
    }
   ],
   "source": [
    "print(outcome_coeffs.mean())\n",
    "print(outcome_coeffs.std())"
   ]
  },
  {
   "cell_type": "code",
   "execution_count": 22,
   "id": "2ce3d31b-b7ba-4efd-b736-7d48eeaf4ce8",
   "metadata": {},
   "outputs": [
    {
     "data": {
      "text/plain": [
       "<matplotlib.legend.Legend at 0x3d55c60d0>"
      ]
     },
     "execution_count": 22,
     "metadata": {},
     "output_type": "execute_result"
    },
    {
     "data": {
      "image/png": "[encoded data removed]",
      "text/plain": [
       "<Figure size 1200x600 with 1 Axes>"
      ]
     },
     "metadata": {},
     "output_type": "display_data"
    }
   ],
   "source": [
    "plt.figure(figsize=(12, 6))\n",
    "\n",
    "# Boxplot\n",
    "box = continous_covariates_results.boxplot(column=[\"ate\", \"const\", \"scale\"], grid=False)\n",
    "\n",
    "# Adding lines for the true parameters\n",
    "plt.axhline(y=TRUE_PARAMS['ate'], color='r', linestyle='--', label='True ate')\n",
    "plt.axhline(y=TRUE_PARAMS['const'], color='g', linestyle='--', label='True const')\n",
    "plt.axhline(y=TRUE_PARAMS['scale'], color='b', linestyle='--', label='True scale')\n",
    "\n",
    "# Adding title and labels\n",
    "plt.title('Box and Whisker Plot for ATE, Const, and Scale')\n",
    "plt.ylabel('Values')\n",
    "plt.ylim([0.80, 1.20])\n",
    "plt.legend()"
   ]
  },
  {
   "cell_type": "markdown",
   "id": "9e92ce2d-e11d-4d53-96df-6481da5b2401",
   "metadata": {},
   "source": [
    "### Mixed Continuous and Discrete (Small)"
   ]
  },
  {
   "cell_type": "code",
   "execution_count": 23,
   "id": "29615df2-8aaa-441d-9e7e-1f2f0c5dacdf",
   "metadata": {},
   "outputs": [
    {
     "name": "stderr",
     "output_type": "stream",
     "text": [
      "  3%|██▋                                                                                               | 269/10000 [06:22<3:50:47,  1.42s/it, train=1.1173492277071226, val=1.1338175542128297 (Max patience reached)]\n"
     ]
    },
    {
     "name": "stdout",
     "output_type": "stream",
     "text": [
      "[array([5.02781703, 1.98270589, 0.91683435])]\n"
     ]
    },
    {
     "name": "stderr",
     "output_type": "stream",
     "text": [
      "  2%|██▎                                                                                               | 241/10000 [06:46<4:34:34,  1.69s/it, train=1.1172337419768428, val=1.1510210889965693 (Max patience reached)]\n"
     ]
    },
    {
     "name": "stdout",
     "output_type": "stream",
     "text": [
      "[array([5.02781703, 1.98270589, 0.91683435]), array([5.02004725, 1.96263199, 0.88661278])]\n"
     ]
    },
    {
     "name": "stderr",
     "output_type": "stream",
     "text": [
      "  2%|██▎                                                                                                 | 225/10000 [05:49<4:13:10,  1.55s/it, train=1.127173779736355, val=1.150252366943146 (Max patience reached)]\n"
     ]
    },
    {
     "name": "stdout",
     "output_type": "stream",
     "text": [
      "[array([5.02781703, 1.98270589, 0.91683435]), array([5.02004725, 1.96263199, 0.88661278]), array([5.00259683, 2.01461911, 0.90119824])]\n"
     ]
    },
    {
     "name": "stderr",
     "output_type": "stream",
     "text": [
      "  2%|██▏                                                                                               | 217/10000 [04:44<3:33:30,  1.31s/it, train=1.1427709494604483, val=1.1631986247370412 (Max patience reached)]\n"
     ]
    },
    {
     "name": "stdout",
     "output_type": "stream",
     "text": [
      "[array([5.02781703, 1.98270589, 0.91683435]), array([5.02004725, 1.96263199, 0.88661278]), array([5.00259683, 2.01461911, 0.90119824]), array([5.18989756, 1.8290325 , 0.91027906])]\n"
     ]
    },
    {
     "name": "stderr",
     "output_type": "stream",
     "text": [
      "  3%|██▊                                                                                                | 282/10000 [07:42<4:25:40,  1.64s/it, train=1.122600841842617, val=1.1694049995301012 (Max patience reached)]\n"
     ]
    },
    {
     "name": "stdout",
     "output_type": "stream",
     "text": [
      "[array([5.02781703, 1.98270589, 0.91683435]), array([5.02004725, 1.96263199, 0.88661278]), array([5.00259683, 2.01461911, 0.90119824]), array([5.18989756, 1.8290325 , 0.91027906]), array([5.07463534, 1.9194478 , 0.90019123])]\n"
     ]
    },
    {
     "name": "stderr",
     "output_type": "stream",
     "text": [
      "  2%|█▊                                                                                                 | 179/10000 [04:47<4:22:40,  1.60s/it, train=1.1211476825237099, val=1.140278044253776 (Max patience reached)]\n"
     ]
    },
    {
     "name": "stdout",
     "output_type": "stream",
     "text": [
      "[array([5.02781703, 1.98270589, 0.91683435]), array([5.02004725, 1.96263199, 0.88661278]), array([5.00259683, 2.01461911, 0.90119824]), array([5.18989756, 1.8290325 , 0.91027906]), array([5.07463534, 1.9194478 , 0.90019123]), array([5.00495506, 1.97940062, 0.88960849])]\n"
     ]
    },
    {
     "name": "stderr",
     "output_type": "stream",
     "text": [
      "  2%|█▋                                                                                                | 177/10000 [04:19<3:59:41,  1.46s/it, train=1.1188936327631533, val=1.1691804101502246 (Max patience reached)]\n"
     ]
    },
    {
     "name": "stdout",
     "output_type": "stream",
     "text": [
      "[array([5.02781703, 1.98270589, 0.91683435]), array([5.02004725, 1.96263199, 0.88661278]), array([5.00259683, 2.01461911, 0.90119824]), array([5.18989756, 1.8290325 , 0.91027906]), array([5.07463534, 1.9194478 , 0.90019123]), array([5.00495506, 1.97940062, 0.88960849]), array([4.99094294, 2.02884691, 0.91058707])]\n"
     ]
    },
    {
     "name": "stderr",
     "output_type": "stream",
     "text": [
      "  2%|█▌                                                                                                | 157/10000 [04:15<4:27:28,  1.63s/it, train=1.1203257639205275, val=1.1634415816006223 (Max patience reached)]\n"
     ]
    },
    {
     "name": "stdout",
     "output_type": "stream",
     "text": [
      "[array([5.02781703, 1.98270589, 0.91683435]), array([5.02004725, 1.96263199, 0.88661278]), array([5.00259683, 2.01461911, 0.90119824]), array([5.18989756, 1.8290325 , 0.91027906]), array([5.07463534, 1.9194478 , 0.90019123]), array([5.00495506, 1.97940062, 0.88960849]), array([4.99094294, 2.02884691, 0.91058707]), array([4.99190506, 2.01987111, 0.89205248])]\n"
     ]
    },
    {
     "name": "stderr",
     "output_type": "stream",
     "text": [
      "  2%|█▌                                                                                                | 164/10000 [03:57<3:57:47,  1.45s/it, train=1.1209123733876862, val=1.1182989939625236 (Max patience reached)]\n"
     ]
    },
    {
     "name": "stdout",
     "output_type": "stream",
     "text": [
      "[array([5.02781703, 1.98270589, 0.91683435]), array([5.02004725, 1.96263199, 0.88661278]), array([5.00259683, 2.01461911, 0.90119824]), array([5.18989756, 1.8290325 , 0.91027906]), array([5.07463534, 1.9194478 , 0.90019123]), array([5.00495506, 1.97940062, 0.88960849]), array([4.99094294, 2.02884691, 0.91058707]), array([4.99190506, 2.01987111, 0.89205248]), array([5.04951274, 1.9542658 , 0.889241  ])]\n"
     ]
    },
    {
     "name": "stderr",
     "output_type": "stream",
     "text": [
      "  2%|██▏                                                                                                | 218/10000 [06:14<4:40:01,  1.72s/it, train=1.129415114163073, val=1.1422729679257466 (Max patience reached)]\n"
     ]
    },
    {
     "name": "stdout",
     "output_type": "stream",
     "text": [
      "[array([5.02781703, 1.98270589, 0.91683435]), array([5.02004725, 1.96263199, 0.88661278]), array([5.00259683, 2.01461911, 0.90119824]), array([5.18989756, 1.8290325 , 0.91027906]), array([5.07463534, 1.9194478 , 0.90019123]), array([5.00495506, 1.97940062, 0.88960849]), array([4.99094294, 2.02884691, 0.91058707]), array([4.99190506, 2.01987111, 0.89205248]), array([5.04951274, 1.9542658 , 0.889241  ]), array([4.9817213 , 2.01689509, 0.92666422])]\n"
     ]
    },
    {
     "name": "stderr",
     "output_type": "stream",
     "text": [
      "  2%|█▊                                                                                                | 190/10000 [05:05<4:22:34,  1.61s/it, train=1.1255574070268313, val=1.1443685823886411 (Max patience reached)]\n"
     ]
    },
    {
     "name": "stdout",
     "output_type": "stream",
     "text": [
      "[array([5.02781703, 1.98270589, 0.91683435]), array([5.02004725, 1.96263199, 0.88661278]), array([5.00259683, 2.01461911, 0.90119824]), array([5.18989756, 1.8290325 , 0.91027906]), array([5.07463534, 1.9194478 , 0.90019123]), array([5.00495506, 1.97940062, 0.88960849]), array([4.99094294, 2.02884691, 0.91058707]), array([4.99190506, 2.01987111, 0.89205248]), array([5.04951274, 1.9542658 , 0.889241  ]), array([4.9817213 , 2.01689509, 0.92666422]), array([5.04753932, 1.94784968, 0.9029425 ])]\n"
     ]
    },
    {
     "name": "stderr",
     "output_type": "stream",
     "text": [
      "  1%|█▎                                                                                                | 136/10000 [03:28<4:11:52,  1.53s/it, train=1.1151966612799131, val=1.1319956260492976 (Max patience reached)]\n"
     ]
    },
    {
     "name": "stdout",
     "output_type": "stream",
     "text": [
      "[array([5.02781703, 1.98270589, 0.91683435]), array([5.02004725, 1.96263199, 0.88661278]), array([5.00259683, 2.01461911, 0.90119824]), array([5.18989756, 1.8290325 , 0.91027906]), array([5.07463534, 1.9194478 , 0.90019123]), array([5.00495506, 1.97940062, 0.88960849]), array([4.99094294, 2.02884691, 0.91058707]), array([4.99190506, 2.01987111, 0.89205248]), array([5.04951274, 1.9542658 , 0.889241  ]), array([4.9817213 , 2.01689509, 0.92666422]), array([5.04753932, 1.94784968, 0.9029425 ]), array([4.92899695, 2.10133325, 0.8909806 ])]\n"
     ]
    },
    {
     "name": "stderr",
     "output_type": "stream",
     "text": [
      "  2%|██                                                                                                | 208/10000 [04:19<3:23:53,  1.25s/it, train=1.1211805822895993, val=1.1723634348421539 (Max patience reached)]\n"
     ]
    },
    {
     "name": "stdout",
     "output_type": "stream",
     "text": [
      "[array([5.02781703, 1.98270589, 0.91683435]), array([5.02004725, 1.96263199, 0.88661278]), array([5.00259683, 2.01461911, 0.90119824]), array([5.18989756, 1.8290325 , 0.91027906]), array([5.07463534, 1.9194478 , 0.90019123]), array([5.00495506, 1.97940062, 0.88960849]), array([4.99094294, 2.02884691, 0.91058707]), array([4.99190506, 2.01987111, 0.89205248]), array([5.04951274, 1.9542658 , 0.889241  ]), array([4.9817213 , 2.01689509, 0.92666422]), array([5.04753932, 1.94784968, 0.9029425 ]), array([4.92899695, 2.10133325, 0.8909806 ]), array([5.0505322 , 1.95311328, 0.89654072])]\n"
     ]
    },
    {
     "name": "stderr",
     "output_type": "stream",
     "text": [
      "  1%|█▍                                                                                                | 143/10000 [03:25<3:56:37,  1.44s/it, train=1.1224374455909518, val=1.1080682503116537 (Max patience reached)]\n"
     ]
    },
    {
     "name": "stdout",
     "output_type": "stream",
     "text": [
      "[array([5.02781703, 1.98270589, 0.91683435]), array([5.02004725, 1.96263199, 0.88661278]), array([5.00259683, 2.01461911, 0.90119824]), array([5.18989756, 1.8290325 , 0.91027906]), array([5.07463534, 1.9194478 , 0.90019123]), array([5.00495506, 1.97940062, 0.88960849]), array([4.99094294, 2.02884691, 0.91058707]), array([4.99190506, 2.01987111, 0.89205248]), array([5.04951274, 1.9542658 , 0.889241  ]), array([4.9817213 , 2.01689509, 0.92666422]), array([5.04753932, 1.94784968, 0.9029425 ]), array([4.92899695, 2.10133325, 0.8909806 ]), array([5.0505322 , 1.95311328, 0.89654072]), array([4.96401131, 2.05784143, 0.87522485])]\n"
     ]
    },
    {
     "name": "stderr",
     "output_type": "stream",
     "text": [
      "  2%|██▎                                                                                               | 231/10000 [06:28<4:33:43,  1.68s/it, train=1.1311656990534362, val=1.1595743365301536 (Max patience reached)]\n"
     ]
    },
    {
     "name": "stdout",
     "output_type": "stream",
     "text": [
      "[array([5.02781703, 1.98270589, 0.91683435]), array([5.02004725, 1.96263199, 0.88661278]), array([5.00259683, 2.01461911, 0.90119824]), array([5.18989756, 1.8290325 , 0.91027906]), array([5.07463534, 1.9194478 , 0.90019123]), array([5.00495506, 1.97940062, 0.88960849]), array([4.99094294, 2.02884691, 0.91058707]), array([4.99190506, 2.01987111, 0.89205248]), array([5.04951274, 1.9542658 , 0.889241  ]), array([4.9817213 , 2.01689509, 0.92666422]), array([5.04753932, 1.94784968, 0.9029425 ]), array([4.92899695, 2.10133325, 0.8909806 ]), array([5.0505322 , 1.95311328, 0.89654072]), array([4.96401131, 2.05784143, 0.87522485]), array([5.02590987, 2.00332349, 0.90609959])]\n"
     ]
    },
    {
     "name": "stderr",
     "output_type": "stream",
     "text": [
      "  2%|██                                                                                                | 209/10000 [04:52<3:48:02,  1.40s/it, train=1.1137696964427333, val=1.1397750998936664 (Max patience reached)]\n"
     ]
    },
    {
     "name": "stdout",
     "output_type": "stream",
     "text": [
      "[array([5.02781703, 1.98270589, 0.91683435]), array([5.02004725, 1.96263199, 0.88661278]), array([5.00259683, 2.01461911, 0.90119824]), array([5.18989756, 1.8290325 , 0.91027906]), array([5.07463534, 1.9194478 , 0.90019123]), array([5.00495506, 1.97940062, 0.88960849]), array([4.99094294, 2.02884691, 0.91058707]), array([4.99190506, 2.01987111, 0.89205248]), array([5.04951274, 1.9542658 , 0.889241  ]), array([4.9817213 , 2.01689509, 0.92666422]), array([5.04753932, 1.94784968, 0.9029425 ]), array([4.92899695, 2.10133325, 0.8909806 ]), array([5.0505322 , 1.95311328, 0.89654072]), array([4.96401131, 2.05784143, 0.87522485]), array([5.02590987, 2.00332349, 0.90609959]), array([5.06614762, 1.94456051, 0.89594441])]\n"
     ]
    },
    {
     "name": "stderr",
     "output_type": "stream",
     "text": [
      "  2%|█▋                                                                                                 | 165/10000 [03:53<3:52:23,  1.42s/it, train=1.105876825369105, val=1.1573023063433419 (Max patience reached)]\n"
     ]
    },
    {
     "name": "stdout",
     "output_type": "stream",
     "text": [
      "[array([5.02781703, 1.98270589, 0.91683435]), array([5.02004725, 1.96263199, 0.88661278]), array([5.00259683, 2.01461911, 0.90119824]), array([5.18989756, 1.8290325 , 0.91027906]), array([5.07463534, 1.9194478 , 0.90019123]), array([5.00495506, 1.97940062, 0.88960849]), array([4.99094294, 2.02884691, 0.91058707]), array([4.99190506, 2.01987111, 0.89205248]), array([5.04951274, 1.9542658 , 0.889241  ]), array([4.9817213 , 2.01689509, 0.92666422]), array([5.04753932, 1.94784968, 0.9029425 ]), array([4.92899695, 2.10133325, 0.8909806 ]), array([5.0505322 , 1.95311328, 0.89654072]), array([4.96401131, 2.05784143, 0.87522485]), array([5.02590987, 2.00332349, 0.90609959]), array([5.06614762, 1.94456051, 0.89594441]), array([5.02300892, 1.97021304, 0.89461032])]\n"
     ]
    },
    {
     "name": "stderr",
     "output_type": "stream",
     "text": [
      "  2%|██▍                                                                                               | 250/10000 [06:49<4:26:29,  1.64s/it, train=1.1239709130950748, val=1.1274504956464562 (Max patience reached)]\n"
     ]
    },
    {
     "name": "stdout",
     "output_type": "stream",
     "text": [
      "[array([5.02781703, 1.98270589, 0.91683435]), array([5.02004725, 1.96263199, 0.88661278]), array([5.00259683, 2.01461911, 0.90119824]), array([5.18989756, 1.8290325 , 0.91027906]), array([5.07463534, 1.9194478 , 0.90019123]), array([5.00495506, 1.97940062, 0.88960849]), array([4.99094294, 2.02884691, 0.91058707]), array([4.99190506, 2.01987111, 0.89205248]), array([5.04951274, 1.9542658 , 0.889241  ]), array([4.9817213 , 2.01689509, 0.92666422]), array([5.04753932, 1.94784968, 0.9029425 ]), array([4.92899695, 2.10133325, 0.8909806 ]), array([5.0505322 , 1.95311328, 0.89654072]), array([4.96401131, 2.05784143, 0.87522485]), array([5.02590987, 2.00332349, 0.90609959]), array([5.06614762, 1.94456051, 0.89594441]), array([5.02300892, 1.97021304, 0.89461032]), array([5.04542937, 1.95295033, 0.8847066 ])]\n"
     ]
    },
    {
     "name": "stderr",
     "output_type": "stream",
     "text": [
      "  3%|██▋                                                                                               | 279/10000 [06:51<3:59:13,  1.48s/it, train=1.1460097319425477, val=1.1547696723454415 (Max patience reached)]\n"
     ]
    },
    {
     "name": "stdout",
     "output_type": "stream",
     "text": [
      "[array([5.02781703, 1.98270589, 0.91683435]), array([5.02004725, 1.96263199, 0.88661278]), array([5.00259683, 2.01461911, 0.90119824]), array([5.18989756, 1.8290325 , 0.91027906]), array([5.07463534, 1.9194478 , 0.90019123]), array([5.00495506, 1.97940062, 0.88960849]), array([4.99094294, 2.02884691, 0.91058707]), array([4.99190506, 2.01987111, 0.89205248]), array([5.04951274, 1.9542658 , 0.889241  ]), array([4.9817213 , 2.01689509, 0.92666422]), array([5.04753932, 1.94784968, 0.9029425 ]), array([4.92899695, 2.10133325, 0.8909806 ]), array([5.0505322 , 1.95311328, 0.89654072]), array([4.96401131, 2.05784143, 0.87522485]), array([5.02590987, 2.00332349, 0.90609959]), array([5.06614762, 1.94456051, 0.89594441]), array([5.02300892, 1.97021304, 0.89461032]), array([5.04542937, 1.95295033, 0.8847066 ]), array([5.18059332, 1.82238582, 0.90447937])]\n"
     ]
    },
    {
     "name": "stderr",
     "output_type": "stream",
     "text": [
      "  3%|██▋                                                                                               | 277/10000 [07:23<4:19:25,  1.60s/it, train=1.1190431567964183, val=1.1687434843428648 (Max patience reached)]\n"
     ]
    },
    {
     "name": "stdout",
     "output_type": "stream",
     "text": [
      "[array([5.02781703, 1.98270589, 0.91683435]), array([5.02004725, 1.96263199, 0.88661278]), array([5.00259683, 2.01461911, 0.90119824]), array([5.18989756, 1.8290325 , 0.91027906]), array([5.07463534, 1.9194478 , 0.90019123]), array([5.00495506, 1.97940062, 0.88960849]), array([4.99094294, 2.02884691, 0.91058707]), array([4.99190506, 2.01987111, 0.89205248]), array([5.04951274, 1.9542658 , 0.889241  ]), array([4.9817213 , 2.01689509, 0.92666422]), array([5.04753932, 1.94784968, 0.9029425 ]), array([4.92899695, 2.10133325, 0.8909806 ]), array([5.0505322 , 1.95311328, 0.89654072]), array([4.96401131, 2.05784143, 0.87522485]), array([5.02590987, 2.00332349, 0.90609959]), array([5.06614762, 1.94456051, 0.89594441]), array([5.02300892, 1.97021304, 0.89461032]), array([5.04542937, 1.95295033, 0.8847066 ]), array([5.18059332, 1.82238582, 0.90447937]), array([5.01542776, 1.99522127, 0.91984684])]\n"
     ]
    },
    {
     "name": "stderr",
     "output_type": "stream",
     "text": [
      "  2%|██▎                                                                                               | 230/10000 [05:02<3:34:18,  1.32s/it, train=1.1117015455772536, val=1.1332520774897221 (Max patience reached)]\n"
     ]
    },
    {
     "name": "stdout",
     "output_type": "stream",
     "text": [
      "[array([5.02781703, 1.98270589, 0.91683435]), array([5.02004725, 1.96263199, 0.88661278]), array([5.00259683, 2.01461911, 0.90119824]), array([5.18989756, 1.8290325 , 0.91027906]), array([5.07463534, 1.9194478 , 0.90019123]), array([5.00495506, 1.97940062, 0.88960849]), array([4.99094294, 2.02884691, 0.91058707]), array([4.99190506, 2.01987111, 0.89205248]), array([5.04951274, 1.9542658 , 0.889241  ]), array([4.9817213 , 2.01689509, 0.92666422]), array([5.04753932, 1.94784968, 0.9029425 ]), array([4.92899695, 2.10133325, 0.8909806 ]), array([5.0505322 , 1.95311328, 0.89654072]), array([4.96401131, 2.05784143, 0.87522485]), array([5.02590987, 2.00332349, 0.90609959]), array([5.06614762, 1.94456051, 0.89594441]), array([5.02300892, 1.97021304, 0.89461032]), array([5.04542937, 1.95295033, 0.8847066 ]), array([5.18059332, 1.82238582, 0.90447937]), array([5.01542776, 1.99522127, 0.91984684]), array([4.98501612, 2.02273628, 0.8907904 ])]\n"
     ]
    },
    {
     "name": "stderr",
     "output_type": "stream",
     "text": [
      "  1%|█▏                                                                                                | 127/10000 [02:43<3:31:40,  1.29s/it, train=1.1320701561929007, val=1.1423387740938438 (Max patience reached)]\n"
     ]
    },
    {
     "name": "stdout",
     "output_type": "stream",
     "text": [
      "[array([5.02781703, 1.98270589, 0.91683435]), array([5.02004725, 1.96263199, 0.88661278]), array([5.00259683, 2.01461911, 0.90119824]), array([5.18989756, 1.8290325 , 0.91027906]), array([5.07463534, 1.9194478 , 0.90019123]), array([5.00495506, 1.97940062, 0.88960849]), array([4.99094294, 2.02884691, 0.91058707]), array([4.99190506, 2.01987111, 0.89205248]), array([5.04951274, 1.9542658 , 0.889241  ]), array([4.9817213 , 2.01689509, 0.92666422]), array([5.04753932, 1.94784968, 0.9029425 ]), array([4.92899695, 2.10133325, 0.8909806 ]), array([5.0505322 , 1.95311328, 0.89654072]), array([4.96401131, 2.05784143, 0.87522485]), array([5.02590987, 2.00332349, 0.90609959]), array([5.06614762, 1.94456051, 0.89594441]), array([5.02300892, 1.97021304, 0.89461032]), array([5.04542937, 1.95295033, 0.8847066 ]), array([5.18059332, 1.82238582, 0.90447937]), array([5.01542776, 1.99522127, 0.91984684]), array([4.98501612, 2.02273628, 0.8907904 ]), array([4.68685212, 2.32392547, 0.92281043])]\n"
     ]
    },
    {
     "name": "stderr",
     "output_type": "stream",
     "text": [
      "  3%|███                                                                                               | 313/10000 [07:29<3:51:58,  1.44s/it, train=1.1223499422428604, val=1.1272441773768507 (Max patience reached)]\n"
     ]
    },
    {
     "name": "stdout",
     "output_type": "stream",
     "text": [
      "[array([5.02781703, 1.98270589, 0.91683435]), array([5.02004725, 1.96263199, 0.88661278]), array([5.00259683, 2.01461911, 0.90119824]), array([5.18989756, 1.8290325 , 0.91027906]), array([5.07463534, 1.9194478 , 0.90019123]), array([5.00495506, 1.97940062, 0.88960849]), array([4.99094294, 2.02884691, 0.91058707]), array([4.99190506, 2.01987111, 0.89205248]), array([5.04951274, 1.9542658 , 0.889241  ]), array([4.9817213 , 2.01689509, 0.92666422]), array([5.04753932, 1.94784968, 0.9029425 ]), array([4.92899695, 2.10133325, 0.8909806 ]), array([5.0505322 , 1.95311328, 0.89654072]), array([4.96401131, 2.05784143, 0.87522485]), array([5.02590987, 2.00332349, 0.90609959]), array([5.06614762, 1.94456051, 0.89594441]), array([5.02300892, 1.97021304, 0.89461032]), array([5.04542937, 1.95295033, 0.8847066 ]), array([5.18059332, 1.82238582, 0.90447937]), array([5.01542776, 1.99522127, 0.91984684]), array([4.98501612, 2.02273628, 0.8907904 ]), array([4.68685212, 2.32392547, 0.92281043]), array([5.02035354, 1.95828096, 0.89492787])]\n"
     ]
    },
    {
     "name": "stderr",
     "output_type": "stream",
     "text": [
      "  2%|█▉                                                                                                 | 194/10000 [03:58<3:21:04,  1.23s/it, train=1.122364891275984, val=1.1324314755937968 (Max patience reached)]\n"
     ]
    },
    {
     "name": "stdout",
     "output_type": "stream",
     "text": [
      "[array([5.02781703, 1.98270589, 0.91683435]), array([5.02004725, 1.96263199, 0.88661278]), array([5.00259683, 2.01461911, 0.90119824]), array([5.18989756, 1.8290325 , 0.91027906]), array([5.07463534, 1.9194478 , 0.90019123]), array([5.00495506, 1.97940062, 0.88960849]), array([4.99094294, 2.02884691, 0.91058707]), array([4.99190506, 2.01987111, 0.89205248]), array([5.04951274, 1.9542658 , 0.889241  ]), array([4.9817213 , 2.01689509, 0.92666422]), array([5.04753932, 1.94784968, 0.9029425 ]), array([4.92899695, 2.10133325, 0.8909806 ]), array([5.0505322 , 1.95311328, 0.89654072]), array([4.96401131, 2.05784143, 0.87522485]), array([5.02590987, 2.00332349, 0.90609959]), array([5.06614762, 1.94456051, 0.89594441]), array([5.02300892, 1.97021304, 0.89461032]), array([5.04542937, 1.95295033, 0.8847066 ]), array([5.18059332, 1.82238582, 0.90447937]), array([5.01542776, 1.99522127, 0.91984684]), array([4.98501612, 2.02273628, 0.8907904 ]), array([4.68685212, 2.32392547, 0.92281043]), array([5.02035354, 1.95828096, 0.89492787]), array([5.03628756, 1.95083173, 0.90494836])]\n"
     ]
    },
    {
     "name": "stderr",
     "output_type": "stream",
     "text": [
      "  1%|█▎                                                                                                | 135/10000 [03:03<3:44:04,  1.36s/it, train=1.1267194740244806, val=1.1438399301809667 (Max patience reached)]"
     ]
    },
    {
     "name": "stdout",
     "output_type": "stream",
     "text": [
      "[array([5.02781703, 1.98270589, 0.91683435]), array([5.02004725, 1.96263199, 0.88661278]), array([5.00259683, 2.01461911, 0.90119824]), array([5.18989756, 1.8290325 , 0.91027906]), array([5.07463534, 1.9194478 , 0.90019123]), array([5.00495506, 1.97940062, 0.88960849]), array([4.99094294, 2.02884691, 0.91058707]), array([4.99190506, 2.01987111, 0.89205248]), array([5.04951274, 1.9542658 , 0.889241  ]), array([4.9817213 , 2.01689509, 0.92666422]), array([5.04753932, 1.94784968, 0.9029425 ]), array([4.92899695, 2.10133325, 0.8909806 ]), array([5.0505322 , 1.95311328, 0.89654072]), array([4.96401131, 2.05784143, 0.87522485]), array([5.02590987, 2.00332349, 0.90609959]), array([5.06614762, 1.94456051, 0.89594441]), array([5.02300892, 1.97021304, 0.89461032]), array([5.04542937, 1.95295033, 0.8847066 ]), array([5.18059332, 1.82238582, 0.90447937]), array([5.01542776, 1.99522127, 0.91984684]), array([4.98501612, 2.02273628, 0.8907904 ]), array([4.68685212, 2.32392547, 0.92281043]), array([5.02035354, 1.95828096, 0.89492787]), array([5.03628756, 1.95083173, 0.90494836]), array([4.93872846, 2.06219406, 0.90508112])]\n"
     ]
    },
    {
     "name": "stderr",
     "output_type": "stream",
     "text": [
      "\n"
     ]
    }
   ],
   "source": [
    "discrete_small_covariates_results = causl_py.run_simulations(\n",
    "    causl_py.generate_discrete_samples, \n",
    "    seed=SEED, \n",
    "    num_samples=NUM_SAMPLES, \n",
    "    num_iter=NUM_ITER, \n",
    "    causal_params=CAUSAL_PARAMS,\n",
    "    hyperparams_dict=hyperparams_dict,\n",
    "    causal_model_args={'ate': jnp.array([0.]), 'const': 0., 'scale': 1}\n",
    ")"
   ]
  },
  {
   "cell_type": "code",
   "execution_count": 24,
   "id": "ba2d08c5-9ebd-40ec-844a-219c5eb5a079",
   "metadata": {},
   "outputs": [
    {
     "data": {
      "text/html": [
       "<div>\n",
       "<style scoped>\n",
       "    .dataframe tbody tr th:only-of-type {\n",
       "        vertical-align: middle;\n",
       "    }\n",
       "\n",
       "    .dataframe tbody tr th {\n",
       "        vertical-align: top;\n",
       "    }\n",
       "\n",
       "    .dataframe thead th {\n",
       "        text-align: right;\n",
       "    }\n",
       "</style>\n",
       "<table border=\"1\" class=\"dataframe\">\n",
       "  <thead>\n",
       "    <tr style=\"text-align: right;\">\n",
       "      <th></th>\n",
       "      <th>ate</th>\n",
       "      <th>const</th>\n",
       "      <th>scale</th>\n",
       "    </tr>\n",
       "  </thead>\n",
       "  <tbody>\n",
       "    <tr>\n",
       "      <th>0</th>\n",
       "      <td>5.027817</td>\n",
       "      <td>1.982706</td>\n",
       "      <td>0.916834</td>\n",
       "    </tr>\n",
       "    <tr>\n",
       "      <th>1</th>\n",
       "      <td>5.020047</td>\n",
       "      <td>1.962632</td>\n",
       "      <td>0.886613</td>\n",
       "    </tr>\n",
       "    <tr>\n",
       "      <th>2</th>\n",
       "      <td>5.002597</td>\n",
       "      <td>2.014619</td>\n",
       "      <td>0.901198</td>\n",
       "    </tr>\n",
       "    <tr>\n",
       "      <th>3</th>\n",
       "      <td>5.189898</td>\n",
       "      <td>1.829032</td>\n",
       "      <td>0.910279</td>\n",
       "    </tr>\n",
       "    <tr>\n",
       "      <th>4</th>\n",
       "      <td>5.074635</td>\n",
       "      <td>1.919448</td>\n",
       "      <td>0.900191</td>\n",
       "    </tr>\n",
       "    <tr>\n",
       "      <th>5</th>\n",
       "      <td>5.004955</td>\n",
       "      <td>1.979401</td>\n",
       "      <td>0.889608</td>\n",
       "    </tr>\n",
       "    <tr>\n",
       "      <th>6</th>\n",
       "      <td>4.990943</td>\n",
       "      <td>2.028847</td>\n",
       "      <td>0.910587</td>\n",
       "    </tr>\n",
       "    <tr>\n",
       "      <th>7</th>\n",
       "      <td>4.991905</td>\n",
       "      <td>2.019871</td>\n",
       "      <td>0.892052</td>\n",
       "    </tr>\n",
       "    <tr>\n",
       "      <th>8</th>\n",
       "      <td>5.049513</td>\n",
       "      <td>1.954266</td>\n",
       "      <td>0.889241</td>\n",
       "    </tr>\n",
       "    <tr>\n",
       "      <th>9</th>\n",
       "      <td>4.981721</td>\n",
       "      <td>2.016895</td>\n",
       "      <td>0.926664</td>\n",
       "    </tr>\n",
       "    <tr>\n",
       "      <th>10</th>\n",
       "      <td>5.047539</td>\n",
       "      <td>1.947850</td>\n",
       "      <td>0.902943</td>\n",
       "    </tr>\n",
       "    <tr>\n",
       "      <th>11</th>\n",
       "      <td>4.928997</td>\n",
       "      <td>2.101333</td>\n",
       "      <td>0.890981</td>\n",
       "    </tr>\n",
       "    <tr>\n",
       "      <th>12</th>\n",
       "      <td>5.050532</td>\n",
       "      <td>1.953113</td>\n",
       "      <td>0.896541</td>\n",
       "    </tr>\n",
       "    <tr>\n",
       "      <th>13</th>\n",
       "      <td>4.964011</td>\n",
       "      <td>2.057841</td>\n",
       "      <td>0.875225</td>\n",
       "    </tr>\n",
       "    <tr>\n",
       "      <th>14</th>\n",
       "      <td>5.025910</td>\n",
       "      <td>2.003323</td>\n",
       "      <td>0.906100</td>\n",
       "    </tr>\n",
       "    <tr>\n",
       "      <th>15</th>\n",
       "      <td>5.066148</td>\n",
       "      <td>1.944561</td>\n",
       "      <td>0.895944</td>\n",
       "    </tr>\n",
       "    <tr>\n",
       "      <th>16</th>\n",
       "      <td>5.023009</td>\n",
       "      <td>1.970213</td>\n",
       "      <td>0.894610</td>\n",
       "    </tr>\n",
       "    <tr>\n",
       "      <th>17</th>\n",
       "      <td>5.045429</td>\n",
       "      <td>1.952950</td>\n",
       "      <td>0.884707</td>\n",
       "    </tr>\n",
       "    <tr>\n",
       "      <th>18</th>\n",
       "      <td>5.180593</td>\n",
       "      <td>1.822386</td>\n",
       "      <td>0.904479</td>\n",
       "    </tr>\n",
       "    <tr>\n",
       "      <th>19</th>\n",
       "      <td>5.015428</td>\n",
       "      <td>1.995221</td>\n",
       "      <td>0.919847</td>\n",
       "    </tr>\n",
       "    <tr>\n",
       "      <th>20</th>\n",
       "      <td>4.985016</td>\n",
       "      <td>2.022736</td>\n",
       "      <td>0.890790</td>\n",
       "    </tr>\n",
       "    <tr>\n",
       "      <th>21</th>\n",
       "      <td>4.686852</td>\n",
       "      <td>2.323925</td>\n",
       "      <td>0.922810</td>\n",
       "    </tr>\n",
       "    <tr>\n",
       "      <th>22</th>\n",
       "      <td>5.020354</td>\n",
       "      <td>1.958281</td>\n",
       "      <td>0.894928</td>\n",
       "    </tr>\n",
       "    <tr>\n",
       "      <th>23</th>\n",
       "      <td>5.036288</td>\n",
       "      <td>1.950832</td>\n",
       "      <td>0.904948</td>\n",
       "    </tr>\n",
       "    <tr>\n",
       "      <th>24</th>\n",
       "      <td>4.938728</td>\n",
       "      <td>2.062194</td>\n",
       "      <td>0.905081</td>\n",
       "    </tr>\n",
       "  </tbody>\n",
       "</table>\n",
       "</div>"
      ],
      "text/plain": [
       "         ate     const     scale\n",
       "0   5.027817  1.982706  0.916834\n",
       "1   5.020047  1.962632  0.886613\n",
       "2   5.002597  2.014619  0.901198\n",
       "3   5.189898  1.829032  0.910279\n",
       "4   5.074635  1.919448  0.900191\n",
       "5   5.004955  1.979401  0.889608\n",
       "6   4.990943  2.028847  0.910587\n",
       "7   4.991905  2.019871  0.892052\n",
       "8   5.049513  1.954266  0.889241\n",
       "9   4.981721  2.016895  0.926664\n",
       "10  5.047539  1.947850  0.902943\n",
       "11  4.928997  2.101333  0.890981\n",
       "12  5.050532  1.953113  0.896541\n",
       "13  4.964011  2.057841  0.875225\n",
       "14  5.025910  2.003323  0.906100\n",
       "15  5.066148  1.944561  0.895944\n",
       "16  5.023009  1.970213  0.894610\n",
       "17  5.045429  1.952950  0.884707\n",
       "18  5.180593  1.822386  0.904479\n",
       "19  5.015428  1.995221  0.919847\n",
       "20  4.985016  2.022736  0.890790\n",
       "21  4.686852  2.323925  0.922810\n",
       "22  5.020354  1.958281  0.894928\n",
       "23  5.036288  1.950832  0.904948\n",
       "24  4.938728  2.062194  0.905081"
      ]
     },
     "execution_count": 24,
     "metadata": {},
     "output_type": "execute_result"
    }
   ],
   "source": [
    "discrete_small_covariates_results"
   ]
  },
  {
   "cell_type": "code",
   "execution_count": 25,
   "id": "5e25a9b3-1a2e-4acf-af87-3757337a5877",
   "metadata": {},
   "outputs": [
    {
     "name": "stdout",
     "output_type": "stream",
     "text": [
      "ate      5.013955\n",
      "const    1.990979\n",
      "scale    0.900528\n",
      "dtype: float64\n",
      "ate      0.090443\n",
      "const    0.093403\n",
      "scale    0.012583\n",
      "dtype: float64\n"
     ]
    }
   ],
   "source": [
    "print(discrete_small_covariates_results.mean())\n",
    "print(discrete_small_covariates_results.std())"
   ]
  },
  {
   "cell_type": "code",
   "execution_count": 26,
   "id": "9d9c1384-e087-4c32-a075-ec7f66db8c65",
   "metadata": {},
   "outputs": [
    {
     "name": "stderr",
     "output_type": "stream",
     "text": [
      "100%|█████████████████████████████████████████████████████████████████████████████████████████████████████████████████████████████████████████████████████████████████████████████████| 25/25 [34:01<00:00, 81.65s/it]"
     ]
    },
    {
     "name": "stdout",
     "output_type": "stream",
     "text": [
      "5.551075741285571\n",
      "0.441494569513271\n"
     ]
    },
    {
     "name": "stderr",
     "output_type": "stream",
     "text": [
      "\n"
     ]
    }
   ],
   "source": [
    "matchit_ate_list_small_discrete = []\n",
    "for i in tqdm(range(NUM_ITER)):\n",
    "    data = causl_py.generate_discrete_samples(NUM_SAMPLES, CAUSAL_PARAMS, i)\n",
    "    matching_results = matchit(outcome='Y', treatment='X', data=dict_to_dataframe(data))\n",
    "    matchit_ate_list_small_discrete.append(matching_results[0][0])\n",
    "print(np.mean(matchit_ate_list_small_discrete))\n",
    "print(np.std(matchit_ate_list_small_discrete))"
   ]
  },
  {
   "cell_type": "markdown",
   "id": "e666a6e5-a855-487f-b55a-55610648f9ae",
   "metadata": {},
   "source": [
    "#### Outcome Regression"
   ]
  },
  {
   "cell_type": "code",
   "execution_count": 27,
   "id": "3f9a4475-43bf-4bf4-8dde-3e552eb16ca2",
   "metadata": {},
   "outputs": [
    {
     "data": {
      "text/html": [
       "<div>\n",
       "<style scoped>\n",
       "    .dataframe tbody tr th:only-of-type {\n",
       "        vertical-align: middle;\n",
       "    }\n",
       "\n",
       "    .dataframe tbody tr th {\n",
       "        vertical-align: top;\n",
       "    }\n",
       "\n",
       "    .dataframe thead th {\n",
       "        text-align: right;\n",
       "    }\n",
       "</style>\n",
       "<table border=\"1\" class=\"dataframe\">\n",
       "  <thead>\n",
       "    <tr style=\"text-align: right;\">\n",
       "      <th></th>\n",
       "      <th>ate</th>\n",
       "      <th>const</th>\n",
       "    </tr>\n",
       "  </thead>\n",
       "  <tbody>\n",
       "    <tr>\n",
       "      <th>0</th>\n",
       "      <td>5.399200</td>\n",
       "      <td>0.962902</td>\n",
       "    </tr>\n",
       "    <tr>\n",
       "      <th>1</th>\n",
       "      <td>5.422402</td>\n",
       "      <td>0.955786</td>\n",
       "    </tr>\n",
       "    <tr>\n",
       "      <th>2</th>\n",
       "      <td>5.453248</td>\n",
       "      <td>0.926767</td>\n",
       "    </tr>\n",
       "    <tr>\n",
       "      <th>3</th>\n",
       "      <td>5.450133</td>\n",
       "      <td>0.936159</td>\n",
       "    </tr>\n",
       "    <tr>\n",
       "      <th>4</th>\n",
       "      <td>5.431033</td>\n",
       "      <td>0.944478</td>\n",
       "    </tr>\n",
       "    <tr>\n",
       "      <th>5</th>\n",
       "      <td>5.408030</td>\n",
       "      <td>0.969340</td>\n",
       "    </tr>\n",
       "    <tr>\n",
       "      <th>6</th>\n",
       "      <td>5.414103</td>\n",
       "      <td>0.962040</td>\n",
       "    </tr>\n",
       "    <tr>\n",
       "      <th>7</th>\n",
       "      <td>5.385137</td>\n",
       "      <td>1.005677</td>\n",
       "    </tr>\n",
       "    <tr>\n",
       "      <th>8</th>\n",
       "      <td>5.469458</td>\n",
       "      <td>0.916307</td>\n",
       "    </tr>\n",
       "    <tr>\n",
       "      <th>9</th>\n",
       "      <td>5.431259</td>\n",
       "      <td>0.929893</td>\n",
       "    </tr>\n",
       "    <tr>\n",
       "      <th>10</th>\n",
       "      <td>5.452295</td>\n",
       "      <td>0.925652</td>\n",
       "    </tr>\n",
       "    <tr>\n",
       "      <th>11</th>\n",
       "      <td>5.425107</td>\n",
       "      <td>0.933021</td>\n",
       "    </tr>\n",
       "    <tr>\n",
       "      <th>12</th>\n",
       "      <td>5.440807</td>\n",
       "      <td>0.950063</td>\n",
       "    </tr>\n",
       "    <tr>\n",
       "      <th>13</th>\n",
       "      <td>5.415709</td>\n",
       "      <td>0.957029</td>\n",
       "    </tr>\n",
       "    <tr>\n",
       "      <th>14</th>\n",
       "      <td>5.431692</td>\n",
       "      <td>0.959027</td>\n",
       "    </tr>\n",
       "    <tr>\n",
       "      <th>15</th>\n",
       "      <td>5.455423</td>\n",
       "      <td>0.916131</td>\n",
       "    </tr>\n",
       "    <tr>\n",
       "      <th>16</th>\n",
       "      <td>5.443477</td>\n",
       "      <td>0.959993</td>\n",
       "    </tr>\n",
       "    <tr>\n",
       "      <th>17</th>\n",
       "      <td>5.446395</td>\n",
       "      <td>0.927222</td>\n",
       "    </tr>\n",
       "    <tr>\n",
       "      <th>18</th>\n",
       "      <td>5.468064</td>\n",
       "      <td>0.900561</td>\n",
       "    </tr>\n",
       "    <tr>\n",
       "      <th>19</th>\n",
       "      <td>5.475334</td>\n",
       "      <td>0.912674</td>\n",
       "    </tr>\n",
       "    <tr>\n",
       "      <th>20</th>\n",
       "      <td>5.383495</td>\n",
       "      <td>0.981814</td>\n",
       "    </tr>\n",
       "    <tr>\n",
       "      <th>21</th>\n",
       "      <td>5.471066</td>\n",
       "      <td>0.904810</td>\n",
       "    </tr>\n",
       "    <tr>\n",
       "      <th>22</th>\n",
       "      <td>5.448373</td>\n",
       "      <td>0.937038</td>\n",
       "    </tr>\n",
       "    <tr>\n",
       "      <th>23</th>\n",
       "      <td>5.431256</td>\n",
       "      <td>0.949503</td>\n",
       "    </tr>\n",
       "    <tr>\n",
       "      <th>24</th>\n",
       "      <td>5.465879</td>\n",
       "      <td>0.926595</td>\n",
       "    </tr>\n",
       "  </tbody>\n",
       "</table>\n",
       "</div>"
      ],
      "text/plain": [
       "         ate     const\n",
       "0   5.399200  0.962902\n",
       "1   5.422402  0.955786\n",
       "2   5.453248  0.926767\n",
       "3   5.450133  0.936159\n",
       "4   5.431033  0.944478\n",
       "5   5.408030  0.969340\n",
       "6   5.414103  0.962040\n",
       "7   5.385137  1.005677\n",
       "8   5.469458  0.916307\n",
       "9   5.431259  0.929893\n",
       "10  5.452295  0.925652\n",
       "11  5.425107  0.933021\n",
       "12  5.440807  0.950063\n",
       "13  5.415709  0.957029\n",
       "14  5.431692  0.959027\n",
       "15  5.455423  0.916131\n",
       "16  5.443477  0.959993\n",
       "17  5.446395  0.927222\n",
       "18  5.468064  0.900561\n",
       "19  5.475334  0.912674\n",
       "20  5.383495  0.981814\n",
       "21  5.471066  0.904810\n",
       "22  5.448373  0.937038\n",
       "23  5.431256  0.949503\n",
       "24  5.465879  0.926595"
      ]
     },
     "execution_count": 27,
     "metadata": {},
     "output_type": "execute_result"
    }
   ],
   "source": [
    "outcome_coeffs = {'ate': [], 'const': []}\n",
    "for i in range(NUM_ITER):\n",
    "    data = causl_py.generate_discrete_samples(N=NUM_SAMPLES, causal_params=CAUSAL_PARAMS, seed=i)\n",
    "    coeff_X, coeff_const = run_outcome_regression(data)\n",
    "    outcome_coeffs['ate'].append(coeff_X)\n",
    "    outcome_coeffs['const'].append(coeff_const)\n",
    "outcome_coeffs = pd.DataFrame.from_dict(outcome_coeffs)\n",
    "outcome_coeffs"
   ]
  },
  {
   "cell_type": "code",
   "execution_count": 28,
   "id": "d7e55609-8f09-44d1-b3af-fd21d48b7eae",
   "metadata": {},
   "outputs": [
    {
     "name": "stdout",
     "output_type": "stream",
     "text": [
      "ate      5.436735\n",
      "const    0.942019\n",
      "dtype: float64\n",
      "ate      0.025858\n",
      "const    0.024928\n",
      "dtype: float64\n"
     ]
    }
   ],
   "source": [
    "print(outcome_coeffs.mean())\n",
    "print(outcome_coeffs.std())"
   ]
  },
  {
   "cell_type": "code",
   "execution_count": 29,
   "id": "f0e08851-605f-4083-862c-9ba29dfc8e9d",
   "metadata": {},
   "outputs": [
    {
     "data": {
      "text/plain": [
       "<matplotlib.legend.Legend at 0x3f9a58fd0>"
      ]
     },
     "execution_count": 29,
     "metadata": {},
     "output_type": "execute_result"
    },
    {
     "data": {
      "image/png": "[encoded data removed]",
      "text/plain": [
       "<Figure size 1200x600 with 1 Axes>"
      ]
     },
     "metadata": {},
     "output_type": "display_data"
    }
   ],
   "source": [
    "plt.figure(figsize=(12, 6))\n",
    "\n",
    "# Boxplot\n",
    "box = discrete_small_covariates_results.boxplot(column=[\"ate\", \"const\", \"scale\"], grid=False)\n",
    "\n",
    "# Adding lines for the true parameters\n",
    "plt.axhline(y=TRUE_PARAMS['ate'], color='r', linestyle='--', label='True ate')\n",
    "plt.axhline(y=TRUE_PARAMS['const'], color='g', linestyle='--', label='True const')\n",
    "plt.axhline(y=TRUE_PARAMS['scale'], color='b', linestyle='--', label='True scale')\n",
    "\n",
    "# Adding title and labels\n",
    "plt.title('Box and Whisker Plot for ATE, Const, and Scale')\n",
    "plt.ylabel('Values')\n",
    "plt.ylim([0.80, 1.20])\n",
    "plt.legend()"
   ]
  },
  {
   "cell_type": "markdown",
   "id": "253dfdcb-2777-43c2-a323-93fa3a7a4315",
   "metadata": {},
   "source": [
    "### Mixed Continuous and Discrete (Large)"
   ]
  },
  {
   "cell_type": "code",
   "execution_count": 30,
   "id": "36562e65-1a00-46c0-a9af-dc25f38573bc",
   "metadata": {},
   "outputs": [
    {
     "name": "stderr",
     "output_type": "stream",
     "text": [
      "  2%|█▊                                                                                                 | 184/10000 [07:00<6:14:06,  2.29s/it, train=1.312978869510747, val=1.3914663885711838 (Max patience reached)]\n"
     ]
    },
    {
     "name": "stdout",
     "output_type": "stream",
     "text": [
      "[array([5.08720706, 1.91180953, 0.9131049 ])]\n"
     ]
    },
    {
     "name": "stderr",
     "output_type": "stream",
     "text": [
      "  2%|█▉                                                                                                   | 197/10000 [09:11<7:37:02,  2.80s/it, train=1.3285427475081, val=1.3764110687889417 (Max patience reached)]\n"
     ]
    },
    {
     "name": "stdout",
     "output_type": "stream",
     "text": [
      "[array([5.08720706, 1.91180953, 0.9131049 ]), array([5.2483436 , 1.76493762, 0.89583748])]\n"
     ]
    },
    {
     "name": "stderr",
     "output_type": "stream",
     "text": [
      "  2%|██▎                                                                                               | 239/10000 [10:11<6:56:21,  2.56s/it, train=1.2554148198650485, val=1.2849531043259057 (Max patience reached)]\n"
     ]
    },
    {
     "name": "stdout",
     "output_type": "stream",
     "text": [
      "[array([5.08720706, 1.91180953, 0.9131049 ]), array([5.2483436 , 1.76493762, 0.89583748]), array([5.07972732, 1.89393982, 0.91718351])]\n"
     ]
    },
    {
     "name": "stderr",
     "output_type": "stream",
     "text": [
      "  2%|██▎                                                                                               | 230/10000 [08:30<6:01:43,  2.22s/it, train=1.3860604967263213, val=1.4151586963744935 (Max patience reached)]\n"
     ]
    },
    {
     "name": "stdout",
     "output_type": "stream",
     "text": [
      "[array([5.08720706, 1.91180953, 0.9131049 ]), array([5.2483436 , 1.76493762, 0.89583748]), array([5.07972732, 1.89393982, 0.91718351]), array([5.31477986, 1.70398745, 0.91425155])]\n"
     ]
    },
    {
     "name": "stderr",
     "output_type": "stream",
     "text": [
      "  1%|█▍                                                                                                | 146/10000 [05:19<5:59:40,  2.19s/it, train=1.2544625411416013, val=1.3178514769282543 (Max patience reached)]\n"
     ]
    },
    {
     "name": "stdout",
     "output_type": "stream",
     "text": [
      "[array([5.08720706, 1.91180953, 0.9131049 ]), array([5.2483436 , 1.76493762, 0.89583748]), array([5.07972732, 1.89393982, 0.91718351]), array([5.31477986, 1.70398745, 0.91425155]), array([4.9836888 , 2.02091286, 0.9344229 ])]\n"
     ]
    },
    {
     "name": "stderr",
     "output_type": "stream",
     "text": [
      "  2%|█▊                                                                                                  | 185/10000 [07:30<6:38:13,  2.43s/it, train=1.26975726729156, val=1.3336486093887912 (Max patience reached)]\n"
     ]
    },
    {
     "name": "stdout",
     "output_type": "stream",
     "text": [
      "[array([5.08720706, 1.91180953, 0.9131049 ]), array([5.2483436 , 1.76493762, 0.89583748]), array([5.07972732, 1.89393982, 0.91718351]), array([5.31477986, 1.70398745, 0.91425155]), array([4.9836888 , 2.02091286, 0.9344229 ]), array([5.02873035, 1.96887537, 0.93614554])]\n"
     ]
    },
    {
     "name": "stderr",
     "output_type": "stream",
     "text": [
      "  1%|█▎                                                                                                 | 131/10000 [05:35<7:00:46,  2.56s/it, train=1.3470443411757518, val=1.390253032384598 (Max patience reached)]\n"
     ]
    },
    {
     "name": "stdout",
     "output_type": "stream",
     "text": [
      "[array([5.08720706, 1.91180953, 0.9131049 ]), array([5.2483436 , 1.76493762, 0.89583748]), array([5.07972732, 1.89393982, 0.91718351]), array([5.31477986, 1.70398745, 0.91425155]), array([4.9836888 , 2.02091286, 0.9344229 ]), array([5.02873035, 1.96887537, 0.93614554]), array([5.10711127, 1.87433458, 0.94116093])]\n"
     ]
    },
    {
     "name": "stderr",
     "output_type": "stream",
     "text": [
      "  2%|█▌                                                                                                | 161/10000 [06:30<6:37:41,  2.43s/it, train=1.3810991581963257, val=1.3803121720078662 (Max patience reached)]\n"
     ]
    },
    {
     "name": "stdout",
     "output_type": "stream",
     "text": [
      "[array([5.08720706, 1.91180953, 0.9131049 ]), array([5.2483436 , 1.76493762, 0.89583748]), array([5.07972732, 1.89393982, 0.91718351]), array([5.31477986, 1.70398745, 0.91425155]), array([4.9836888 , 2.02091286, 0.9344229 ]), array([5.02873035, 1.96887537, 0.93614554]), array([5.10711127, 1.87433458, 0.94116093]), array([5.3354858 , 1.63756214, 0.90472735])]\n"
     ]
    },
    {
     "name": "stderr",
     "output_type": "stream",
     "text": [
      "  1%|█▍                                                                                                 | 146/10000 [06:13<7:00:24,  2.56s/it, train=1.3748262898962806, val=1.391210806455206 (Max patience reached)]\n"
     ]
    },
    {
     "name": "stdout",
     "output_type": "stream",
     "text": [
      "[array([5.08720706, 1.91180953, 0.9131049 ]), array([5.2483436 , 1.76493762, 0.89583748]), array([5.07972732, 1.89393982, 0.91718351]), array([5.31477986, 1.70398745, 0.91425155]), array([4.9836888 , 2.02091286, 0.9344229 ]), array([5.02873035, 1.96887537, 0.93614554]), array([5.10711127, 1.87433458, 0.94116093]), array([5.3354858 , 1.63756214, 0.90472735]), array([5.29507711, 1.68549925, 0.92489106])]\n"
     ]
    },
    {
     "name": "stderr",
     "output_type": "stream",
     "text": [
      "  2%|██▏                                                                                                | 225/10000 [09:09<6:37:39,  2.44s/it, train=1.278410440330134, val=1.3173192073554008 (Max patience reached)]\n"
     ]
    },
    {
     "name": "stdout",
     "output_type": "stream",
     "text": [
      "[array([5.08720706, 1.91180953, 0.9131049 ]), array([5.2483436 , 1.76493762, 0.89583748]), array([5.07972732, 1.89393982, 0.91718351]), array([5.31477986, 1.70398745, 0.91425155]), array([4.9836888 , 2.02091286, 0.9344229 ]), array([5.02873035, 1.96887537, 0.93614554]), array([5.10711127, 1.87433458, 0.94116093]), array([5.3354858 , 1.63756214, 0.90472735]), array([5.29507711, 1.68549925, 0.92489106]), array([5.11146265, 1.89852758, 0.92898547])]\n"
     ]
    },
    {
     "name": "stderr",
     "output_type": "stream",
     "text": [
      "  2%|█▉                                                                                                | 197/10000 [08:26<7:00:23,  2.57s/it, train=1.3387612132422155, val=1.3350911174813322 (Max patience reached)]\n"
     ]
    },
    {
     "name": "stdout",
     "output_type": "stream",
     "text": [
      "[array([5.08720706, 1.91180953, 0.9131049 ]), array([5.2483436 , 1.76493762, 0.89583748]), array([5.07972732, 1.89393982, 0.91718351]), array([5.31477986, 1.70398745, 0.91425155]), array([4.9836888 , 2.02091286, 0.9344229 ]), array([5.02873035, 1.96887537, 0.93614554]), array([5.10711127, 1.87433458, 0.94116093]), array([5.3354858 , 1.63756214, 0.90472735]), array([5.29507711, 1.68549925, 0.92489106]), array([5.11146265, 1.89852758, 0.92898547]), array([5.03872044, 1.96652139, 0.92643332])]\n"
     ]
    },
    {
     "name": "stderr",
     "output_type": "stream",
     "text": [
      "  2%|█▋                                                                                                | 169/10000 [07:24<7:11:20,  2.63s/it, train=1.2433929469579073, val=1.3160669719737443 (Max patience reached)]\n"
     ]
    },
    {
     "name": "stdout",
     "output_type": "stream",
     "text": [
      "[array([5.08720706, 1.91180953, 0.9131049 ]), array([5.2483436 , 1.76493762, 0.89583748]), array([5.07972732, 1.89393982, 0.91718351]), array([5.31477986, 1.70398745, 0.91425155]), array([4.9836888 , 2.02091286, 0.9344229 ]), array([5.02873035, 1.96887537, 0.93614554]), array([5.10711127, 1.87433458, 0.94116093]), array([5.3354858 , 1.63756214, 0.90472735]), array([5.29507711, 1.68549925, 0.92489106]), array([5.11146265, 1.89852758, 0.92898547]), array([5.03872044, 1.96652139, 0.92643332]), array([4.97160913, 2.02909952, 0.9341197 ])]\n"
     ]
    },
    {
     "name": "stderr",
     "output_type": "stream",
     "text": [
      "  2%|██▏                                                                                                 | 218/10000 [08:36<6:25:56,  2.37s/it, train=1.376005934279066, val=1.402980123732216 (Max patience reached)]\n"
     ]
    },
    {
     "name": "stdout",
     "output_type": "stream",
     "text": [
      "[array([5.08720706, 1.91180953, 0.9131049 ]), array([5.2483436 , 1.76493762, 0.89583748]), array([5.07972732, 1.89393982, 0.91718351]), array([5.31477986, 1.70398745, 0.91425155]), array([4.9836888 , 2.02091286, 0.9344229 ]), array([5.02873035, 1.96887537, 0.93614554]), array([5.10711127, 1.87433458, 0.94116093]), array([5.3354858 , 1.63756214, 0.90472735]), array([5.29507711, 1.68549925, 0.92489106]), array([5.11146265, 1.89852758, 0.92898547]), array([5.03872044, 1.96652139, 0.92643332]), array([4.97160913, 2.02909952, 0.9341197 ]), array([5.34018313, 1.65760283, 0.90864644])]\n"
     ]
    },
    {
     "name": "stderr",
     "output_type": "stream",
     "text": [
      "  2%|█▉                                                                                                | 196/10000 [08:01<6:41:27,  2.46s/it, train=1.3700241391059855, val=1.3607058515368937 (Max patience reached)]\n"
     ]
    },
    {
     "name": "stdout",
     "output_type": "stream",
     "text": [
      "[array([5.08720706, 1.91180953, 0.9131049 ]), array([5.2483436 , 1.76493762, 0.89583748]), array([5.07972732, 1.89393982, 0.91718351]), array([5.31477986, 1.70398745, 0.91425155]), array([4.9836888 , 2.02091286, 0.9344229 ]), array([5.02873035, 1.96887537, 0.93614554]), array([5.10711127, 1.87433458, 0.94116093]), array([5.3354858 , 1.63756214, 0.90472735]), array([5.29507711, 1.68549925, 0.92489106]), array([5.11146265, 1.89852758, 0.92898547]), array([5.03872044, 1.96652139, 0.92643332]), array([4.97160913, 2.02909952, 0.9341197 ]), array([5.34018313, 1.65760283, 0.90864644]), array([5.28177692, 1.71371249, 0.91180197])]\n"
     ]
    },
    {
     "name": "stderr",
     "output_type": "stream",
     "text": [
      "  1%|█▍                                                                                                  | 141/10000 [05:55<6:54:10,  2.52s/it, train=1.370422382714804, val=1.390729545716693 (Max patience reached)]\n"
     ]
    },
    {
     "name": "stdout",
     "output_type": "stream",
     "text": [
      "[array([5.08720706, 1.91180953, 0.9131049 ]), array([5.2483436 , 1.76493762, 0.89583748]), array([5.07972732, 1.89393982, 0.91718351]), array([5.31477986, 1.70398745, 0.91425155]), array([4.9836888 , 2.02091286, 0.9344229 ]), array([5.02873035, 1.96887537, 0.93614554]), array([5.10711127, 1.87433458, 0.94116093]), array([5.3354858 , 1.63756214, 0.90472735]), array([5.29507711, 1.68549925, 0.92489106]), array([5.11146265, 1.89852758, 0.92898547]), array([5.03872044, 1.96652139, 0.92643332]), array([4.97160913, 2.02909952, 0.9341197 ]), array([5.34018313, 1.65760283, 0.90864644]), array([5.28177692, 1.71371249, 0.91180197]), array([5.32738193, 1.65868883, 0.9061159 ])]\n"
     ]
    },
    {
     "name": "stderr",
     "output_type": "stream",
     "text": [
      "  1%|█▏                                                                                                | 127/10000 [05:28<7:05:32,  2.59s/it, train=1.3739149425318191, val=1.3826171635800302 (Max patience reached)]\n"
     ]
    },
    {
     "name": "stdout",
     "output_type": "stream",
     "text": [
      "[array([5.08720706, 1.91180953, 0.9131049 ]), array([5.2483436 , 1.76493762, 0.89583748]), array([5.07972732, 1.89393982, 0.91718351]), array([5.31477986, 1.70398745, 0.91425155]), array([4.9836888 , 2.02091286, 0.9344229 ]), array([5.02873035, 1.96887537, 0.93614554]), array([5.10711127, 1.87433458, 0.94116093]), array([5.3354858 , 1.63756214, 0.90472735]), array([5.29507711, 1.68549925, 0.92489106]), array([5.11146265, 1.89852758, 0.92898547]), array([5.03872044, 1.96652139, 0.92643332]), array([4.97160913, 2.02909952, 0.9341197 ]), array([5.34018313, 1.65760283, 0.90864644]), array([5.28177692, 1.71371249, 0.91180197]), array([5.32738193, 1.65868883, 0.9061159 ]), array([4.99221149, 2.00680725, 0.91488727])]\n"
     ]
    },
    {
     "name": "stderr",
     "output_type": "stream",
     "text": [
      "  2%|█▊                                                                                                | 182/10000 [08:12<7:22:42,  2.71s/it, train=1.3805506958897273, val=1.3774734955926469 (Max patience reached)]\n"
     ]
    },
    {
     "name": "stdout",
     "output_type": "stream",
     "text": [
      "[array([5.08720706, 1.91180953, 0.9131049 ]), array([5.2483436 , 1.76493762, 0.89583748]), array([5.07972732, 1.89393982, 0.91718351]), array([5.31477986, 1.70398745, 0.91425155]), array([4.9836888 , 2.02091286, 0.9344229 ]), array([5.02873035, 1.96887537, 0.93614554]), array([5.10711127, 1.87433458, 0.94116093]), array([5.3354858 , 1.63756214, 0.90472735]), array([5.29507711, 1.68549925, 0.92489106]), array([5.11146265, 1.89852758, 0.92898547]), array([5.03872044, 1.96652139, 0.92643332]), array([4.97160913, 2.02909952, 0.9341197 ]), array([5.34018313, 1.65760283, 0.90864644]), array([5.28177692, 1.71371249, 0.91180197]), array([5.32738193, 1.65868883, 0.9061159 ]), array([4.99221149, 2.00680725, 0.91488727]), array([5.33738087, 1.65946826, 0.92250136])]\n"
     ]
    },
    {
     "name": "stderr",
     "output_type": "stream",
     "text": [
      "  2%|██▏                                                                                               | 222/10000 [08:32<6:16:33,  2.31s/it, train=1.3761495382031368, val=1.3820630160519654 (Max patience reached)]\n"
     ]
    },
    {
     "name": "stdout",
     "output_type": "stream",
     "text": [
      "[array([5.08720706, 1.91180953, 0.9131049 ]), array([5.2483436 , 1.76493762, 0.89583748]), array([5.07972732, 1.89393982, 0.91718351]), array([5.31477986, 1.70398745, 0.91425155]), array([4.9836888 , 2.02091286, 0.9344229 ]), array([5.02873035, 1.96887537, 0.93614554]), array([5.10711127, 1.87433458, 0.94116093]), array([5.3354858 , 1.63756214, 0.90472735]), array([5.29507711, 1.68549925, 0.92489106]), array([5.11146265, 1.89852758, 0.92898547]), array([5.03872044, 1.96652139, 0.92643332]), array([4.97160913, 2.02909952, 0.9341197 ]), array([5.34018313, 1.65760283, 0.90864644]), array([5.28177692, 1.71371249, 0.91180197]), array([5.32738193, 1.65868883, 0.9061159 ]), array([4.99221149, 2.00680725, 0.91488727]), array([5.33738087, 1.65946826, 0.92250136]), array([5.32556841, 1.70253849, 0.92930589])]\n"
     ]
    },
    {
     "name": "stderr",
     "output_type": "stream",
     "text": [
      "  2%|█▍                                                                                                | 152/10000 [06:33<7:04:59,  2.59s/it, train=1.2890882906180166, val=1.3358182561894825 (Max patience reached)]\n"
     ]
    },
    {
     "name": "stdout",
     "output_type": "stream",
     "text": [
      "[array([5.08720706, 1.91180953, 0.9131049 ]), array([5.2483436 , 1.76493762, 0.89583748]), array([5.07972732, 1.89393982, 0.91718351]), array([5.31477986, 1.70398745, 0.91425155]), array([4.9836888 , 2.02091286, 0.9344229 ]), array([5.02873035, 1.96887537, 0.93614554]), array([5.10711127, 1.87433458, 0.94116093]), array([5.3354858 , 1.63756214, 0.90472735]), array([5.29507711, 1.68549925, 0.92489106]), array([5.11146265, 1.89852758, 0.92898547]), array([5.03872044, 1.96652139, 0.92643332]), array([4.97160913, 2.02909952, 0.9341197 ]), array([5.34018313, 1.65760283, 0.90864644]), array([5.28177692, 1.71371249, 0.91180197]), array([5.32738193, 1.65868883, 0.9061159 ]), array([4.99221149, 2.00680725, 0.91488727]), array([5.33738087, 1.65946826, 0.92250136]), array([5.32556841, 1.70253849, 0.92930589]), array([5.22167226, 1.80249212, 0.92880021])]\n"
     ]
    },
    {
     "name": "stderr",
     "output_type": "stream",
     "text": [
      "  2%|█▊                                                                                                | 179/10000 [06:52<6:16:49,  2.30s/it, train=1.2696258822934037, val=1.3531603067007725 (Max patience reached)]\n"
     ]
    },
    {
     "name": "stdout",
     "output_type": "stream",
     "text": [
      "[array([5.08720706, 1.91180953, 0.9131049 ]), array([5.2483436 , 1.76493762, 0.89583748]), array([5.07972732, 1.89393982, 0.91718351]), array([5.31477986, 1.70398745, 0.91425155]), array([4.9836888 , 2.02091286, 0.9344229 ]), array([5.02873035, 1.96887537, 0.93614554]), array([5.10711127, 1.87433458, 0.94116093]), array([5.3354858 , 1.63756214, 0.90472735]), array([5.29507711, 1.68549925, 0.92489106]), array([5.11146265, 1.89852758, 0.92898547]), array([5.03872044, 1.96652139, 0.92643332]), array([4.97160913, 2.02909952, 0.9341197 ]), array([5.34018313, 1.65760283, 0.90864644]), array([5.28177692, 1.71371249, 0.91180197]), array([5.32738193, 1.65868883, 0.9061159 ]), array([4.99221149, 2.00680725, 0.91488727]), array([5.33738087, 1.65946826, 0.92250136]), array([5.32556841, 1.70253849, 0.92930589]), array([5.22167226, 1.80249212, 0.92880021]), array([4.93335814, 2.10827934, 0.92039002])]\n"
     ]
    },
    {
     "name": "stderr",
     "output_type": "stream",
     "text": [
      "  2%|██▎                                                                                                | 239/10000 [09:07<6:12:31,  2.29s/it, train=1.3726681023315297, val=1.378369372132135 (Max patience reached)]\n"
     ]
    },
    {
     "name": "stdout",
     "output_type": "stream",
     "text": [
      "[array([5.08720706, 1.91180953, 0.9131049 ]), array([5.2483436 , 1.76493762, 0.89583748]), array([5.07972732, 1.89393982, 0.91718351]), array([5.31477986, 1.70398745, 0.91425155]), array([4.9836888 , 2.02091286, 0.9344229 ]), array([5.02873035, 1.96887537, 0.93614554]), array([5.10711127, 1.87433458, 0.94116093]), array([5.3354858 , 1.63756214, 0.90472735]), array([5.29507711, 1.68549925, 0.92489106]), array([5.11146265, 1.89852758, 0.92898547]), array([5.03872044, 1.96652139, 0.92643332]), array([4.97160913, 2.02909952, 0.9341197 ]), array([5.34018313, 1.65760283, 0.90864644]), array([5.28177692, 1.71371249, 0.91180197]), array([5.32738193, 1.65868883, 0.9061159 ]), array([4.99221149, 2.00680725, 0.91488727]), array([5.33738087, 1.65946826, 0.92250136]), array([5.32556841, 1.70253849, 0.92930589]), array([5.22167226, 1.80249212, 0.92880021]), array([4.93335814, 2.10827934, 0.92039002]), array([5.28843472, 1.71716675, 0.93533623])]\n"
     ]
    },
    {
     "name": "stderr",
     "output_type": "stream",
     "text": [
      "  2%|██                                                                                                 | 211/10000 [08:18<6:25:16,  2.36s/it, train=1.374782861600442, val=1.3575339441598941 (Max patience reached)]\n"
     ]
    },
    {
     "name": "stdout",
     "output_type": "stream",
     "text": [
      "[array([5.08720706, 1.91180953, 0.9131049 ]), array([5.2483436 , 1.76493762, 0.89583748]), array([5.07972732, 1.89393982, 0.91718351]), array([5.31477986, 1.70398745, 0.91425155]), array([4.9836888 , 2.02091286, 0.9344229 ]), array([5.02873035, 1.96887537, 0.93614554]), array([5.10711127, 1.87433458, 0.94116093]), array([5.3354858 , 1.63756214, 0.90472735]), array([5.29507711, 1.68549925, 0.92489106]), array([5.11146265, 1.89852758, 0.92898547]), array([5.03872044, 1.96652139, 0.92643332]), array([4.97160913, 2.02909952, 0.9341197 ]), array([5.34018313, 1.65760283, 0.90864644]), array([5.28177692, 1.71371249, 0.91180197]), array([5.32738193, 1.65868883, 0.9061159 ]), array([4.99221149, 2.00680725, 0.91488727]), array([5.33738087, 1.65946826, 0.92250136]), array([5.32556841, 1.70253849, 0.92930589]), array([5.22167226, 1.80249212, 0.92880021]), array([4.93335814, 2.10827934, 0.92039002]), array([5.28843472, 1.71716675, 0.93533623]), array([5.33511497, 1.67407115, 0.92438558])]\n"
     ]
    },
    {
     "name": "stderr",
     "output_type": "stream",
     "text": [
      "  4%|███▌                                                                                              | 364/10000 [13:42<6:02:54,  2.26s/it, train=1.3739132867330661, val=1.3712388013646828 (Max patience reached)]\n"
     ]
    },
    {
     "name": "stdout",
     "output_type": "stream",
     "text": [
      "[array([5.08720706, 1.91180953, 0.9131049 ]), array([5.2483436 , 1.76493762, 0.89583748]), array([5.07972732, 1.89393982, 0.91718351]), array([5.31477986, 1.70398745, 0.91425155]), array([4.9836888 , 2.02091286, 0.9344229 ]), array([5.02873035, 1.96887537, 0.93614554]), array([5.10711127, 1.87433458, 0.94116093]), array([5.3354858 , 1.63756214, 0.90472735]), array([5.29507711, 1.68549925, 0.92489106]), array([5.11146265, 1.89852758, 0.92898547]), array([5.03872044, 1.96652139, 0.92643332]), array([4.97160913, 2.02909952, 0.9341197 ]), array([5.34018313, 1.65760283, 0.90864644]), array([5.28177692, 1.71371249, 0.91180197]), array([5.32738193, 1.65868883, 0.9061159 ]), array([4.99221149, 2.00680725, 0.91488727]), array([5.33738087, 1.65946826, 0.92250136]), array([5.32556841, 1.70253849, 0.92930589]), array([5.22167226, 1.80249212, 0.92880021]), array([4.93335814, 2.10827934, 0.92039002]), array([5.28843472, 1.71716675, 0.93533623]), array([5.33511497, 1.67407115, 0.92438558]), array([5.32838181, 1.69328663, 0.92885254])]\n"
     ]
    },
    {
     "name": "stderr",
     "output_type": "stream",
     "text": [
      "  4%|███▌                                                                                            | 369/10000 [12:52<5:35:50,  2.09s/it, train=1.2813187499486451, val=1.3002641044456582 (Max patience reached)]\n"
     ]
    },
    {
     "name": "stdout",
     "output_type": "stream",
     "text": [
      "[array([5.08720706, 1.91180953, 0.9131049 ]), array([5.2483436 , 1.76493762, 0.89583748]), array([5.07972732, 1.89393982, 0.91718351]), array([5.31477986, 1.70398745, 0.91425155]), array([4.9836888 , 2.02091286, 0.9344229 ]), array([5.02873035, 1.96887537, 0.93614554]), array([5.10711127, 1.87433458, 0.94116093]), array([5.3354858 , 1.63756214, 0.90472735]), array([5.29507711, 1.68549925, 0.92489106]), array([5.11146265, 1.89852758, 0.92898547]), array([5.03872044, 1.96652139, 0.92643332]), array([4.97160913, 2.02909952, 0.9341197 ]), array([5.34018313, 1.65760283, 0.90864644]), array([5.28177692, 1.71371249, 0.91180197]), array([5.32738193, 1.65868883, 0.9061159 ]), array([4.99221149, 2.00680725, 0.91488727]), array([5.33738087, 1.65946826, 0.92250136]), array([5.32556841, 1.70253849, 0.92930589]), array([5.22167226, 1.80249212, 0.92880021]), array([4.93335814, 2.10827934, 0.92039002]), array([5.28843472, 1.71716675, 0.93533623]), array([5.33511497, 1.67407115, 0.92438558]), array([5.32838181, 1.69328663, 0.92885254]), array([4.94333123, 2.08531896, 0.93660128])]\n"
     ]
    },
    {
     "name": "stderr",
     "output_type": "stream",
     "text": [
      "  2%|██                                                                                              | 220/10000 [07:47<5:46:17,  2.12s/it, train=1.3713513375328565, val=1.3833029549101648 (Max patience reached)]"
     ]
    },
    {
     "name": "stdout",
     "output_type": "stream",
     "text": [
      "[array([5.08720706, 1.91180953, 0.9131049 ]), array([5.2483436 , 1.76493762, 0.89583748]), array([5.07972732, 1.89393982, 0.91718351]), array([5.31477986, 1.70398745, 0.91425155]), array([4.9836888 , 2.02091286, 0.9344229 ]), array([5.02873035, 1.96887537, 0.93614554]), array([5.10711127, 1.87433458, 0.94116093]), array([5.3354858 , 1.63756214, 0.90472735]), array([5.29507711, 1.68549925, 0.92489106]), array([5.11146265, 1.89852758, 0.92898547]), array([5.03872044, 1.96652139, 0.92643332]), array([4.97160913, 2.02909952, 0.9341197 ]), array([5.34018313, 1.65760283, 0.90864644]), array([5.28177692, 1.71371249, 0.91180197]), array([5.32738193, 1.65868883, 0.9061159 ]), array([4.99221149, 2.00680725, 0.91488727]), array([5.33738087, 1.65946826, 0.92250136]), array([5.32556841, 1.70253849, 0.92930589]), array([5.22167226, 1.80249212, 0.92880021]), array([4.93335814, 2.10827934, 0.92039002]), array([5.28843472, 1.71716675, 0.93533623]), array([5.33511497, 1.67407115, 0.92438558]), array([5.32838181, 1.69328663, 0.92885254]), array([4.94333123, 2.08531896, 0.93660128]), array([5.2993091 , 1.69051667, 0.92275377])]\n"
     ]
    },
    {
     "name": "stderr",
     "output_type": "stream",
     "text": [
      "\n"
     ]
    }
   ],
   "source": [
    "hyperparams_dict_large = hyperparams_dict.copy()\n",
    "# hyperparams_dict_large['learning_rate'] = 1e-3\n",
    "discrete_big_covariates_results = causl_py.run_simulations(\n",
    "    causl_py.generate_many_discrete_samples, \n",
    "    seed=SEED, \n",
    "    num_samples=NUM_SAMPLES, \n",
    "    num_iter=NUM_ITER, \n",
    "    causal_params=CAUSAL_PARAMS,\n",
    "    hyperparams_dict=hyperparams_dict_large,\n",
    "    causal_model_args={'ate': jnp.array([0.]), 'const': 0., 'scale': 1}\n",
    ")"
   ]
  },
  {
   "cell_type": "code",
   "execution_count": 31,
   "id": "c3ae6fe1-cd77-46fe-84b5-68d8bfbbea89",
   "metadata": {},
   "outputs": [
    {
     "data": {
      "text/html": [
       "<div>\n",
       "<style scoped>\n",
       "    .dataframe tbody tr th:only-of-type {\n",
       "        vertical-align: middle;\n",
       "    }\n",
       "\n",
       "    .dataframe tbody tr th {\n",
       "        vertical-align: top;\n",
       "    }\n",
       "\n",
       "    .dataframe thead th {\n",
       "        text-align: right;\n",
       "    }\n",
       "</style>\n",
       "<table border=\"1\" class=\"dataframe\">\n",
       "  <thead>\n",
       "    <tr style=\"text-align: right;\">\n",
       "      <th></th>\n",
       "      <th>ate</th>\n",
       "      <th>const</th>\n",
       "      <th>scale</th>\n",
       "    </tr>\n",
       "  </thead>\n",
       "  <tbody>\n",
       "    <tr>\n",
       "      <th>0</th>\n",
       "      <td>5.087207</td>\n",
       "      <td>1.911810</td>\n",
       "      <td>0.913105</td>\n",
       "    </tr>\n",
       "    <tr>\n",
       "      <th>1</th>\n",
       "      <td>5.248344</td>\n",
       "      <td>1.764938</td>\n",
       "      <td>0.895837</td>\n",
       "    </tr>\n",
       "    <tr>\n",
       "      <th>2</th>\n",
       "      <td>5.079727</td>\n",
       "      <td>1.893940</td>\n",
       "      <td>0.917184</td>\n",
       "    </tr>\n",
       "    <tr>\n",
       "      <th>3</th>\n",
       "      <td>5.314780</td>\n",
       "      <td>1.703987</td>\n",
       "      <td>0.914252</td>\n",
       "    </tr>\n",
       "    <tr>\n",
       "      <th>4</th>\n",
       "      <td>4.983689</td>\n",
       "      <td>2.020913</td>\n",
       "      <td>0.934423</td>\n",
       "    </tr>\n",
       "    <tr>\n",
       "      <th>5</th>\n",
       "      <td>5.028730</td>\n",
       "      <td>1.968875</td>\n",
       "      <td>0.936146</td>\n",
       "    </tr>\n",
       "    <tr>\n",
       "      <th>6</th>\n",
       "      <td>5.107111</td>\n",
       "      <td>1.874335</td>\n",
       "      <td>0.941161</td>\n",
       "    </tr>\n",
       "    <tr>\n",
       "      <th>7</th>\n",
       "      <td>5.335486</td>\n",
       "      <td>1.637562</td>\n",
       "      <td>0.904727</td>\n",
       "    </tr>\n",
       "    <tr>\n",
       "      <th>8</th>\n",
       "      <td>5.295077</td>\n",
       "      <td>1.685499</td>\n",
       "      <td>0.924891</td>\n",
       "    </tr>\n",
       "    <tr>\n",
       "      <th>9</th>\n",
       "      <td>5.111463</td>\n",
       "      <td>1.898528</td>\n",
       "      <td>0.928985</td>\n",
       "    </tr>\n",
       "    <tr>\n",
       "      <th>10</th>\n",
       "      <td>5.038720</td>\n",
       "      <td>1.966521</td>\n",
       "      <td>0.926433</td>\n",
       "    </tr>\n",
       "    <tr>\n",
       "      <th>11</th>\n",
       "      <td>4.971609</td>\n",
       "      <td>2.029100</td>\n",
       "      <td>0.934120</td>\n",
       "    </tr>\n",
       "    <tr>\n",
       "      <th>12</th>\n",
       "      <td>5.340183</td>\n",
       "      <td>1.657603</td>\n",
       "      <td>0.908646</td>\n",
       "    </tr>\n",
       "    <tr>\n",
       "      <th>13</th>\n",
       "      <td>5.281777</td>\n",
       "      <td>1.713712</td>\n",
       "      <td>0.911802</td>\n",
       "    </tr>\n",
       "    <tr>\n",
       "      <th>14</th>\n",
       "      <td>5.327382</td>\n",
       "      <td>1.658689</td>\n",
       "      <td>0.906116</td>\n",
       "    </tr>\n",
       "    <tr>\n",
       "      <th>15</th>\n",
       "      <td>4.992211</td>\n",
       "      <td>2.006807</td>\n",
       "      <td>0.914887</td>\n",
       "    </tr>\n",
       "    <tr>\n",
       "      <th>16</th>\n",
       "      <td>5.337381</td>\n",
       "      <td>1.659468</td>\n",
       "      <td>0.922501</td>\n",
       "    </tr>\n",
       "    <tr>\n",
       "      <th>17</th>\n",
       "      <td>5.325568</td>\n",
       "      <td>1.702538</td>\n",
       "      <td>0.929306</td>\n",
       "    </tr>\n",
       "    <tr>\n",
       "      <th>18</th>\n",
       "      <td>5.221672</td>\n",
       "      <td>1.802492</td>\n",
       "      <td>0.928800</td>\n",
       "    </tr>\n",
       "    <tr>\n",
       "      <th>19</th>\n",
       "      <td>4.933358</td>\n",
       "      <td>2.108279</td>\n",
       "      <td>0.920390</td>\n",
       "    </tr>\n",
       "    <tr>\n",
       "      <th>20</th>\n",
       "      <td>5.288435</td>\n",
       "      <td>1.717167</td>\n",
       "      <td>0.935336</td>\n",
       "    </tr>\n",
       "    <tr>\n",
       "      <th>21</th>\n",
       "      <td>5.335115</td>\n",
       "      <td>1.674071</td>\n",
       "      <td>0.924386</td>\n",
       "    </tr>\n",
       "    <tr>\n",
       "      <th>22</th>\n",
       "      <td>5.328382</td>\n",
       "      <td>1.693287</td>\n",
       "      <td>0.928853</td>\n",
       "    </tr>\n",
       "    <tr>\n",
       "      <th>23</th>\n",
       "      <td>4.943331</td>\n",
       "      <td>2.085319</td>\n",
       "      <td>0.936601</td>\n",
       "    </tr>\n",
       "    <tr>\n",
       "      <th>24</th>\n",
       "      <td>5.299309</td>\n",
       "      <td>1.690517</td>\n",
       "      <td>0.922754</td>\n",
       "    </tr>\n",
       "  </tbody>\n",
       "</table>\n",
       "</div>"
      ],
      "text/plain": [
       "         ate     const     scale\n",
       "0   5.087207  1.911810  0.913105\n",
       "1   5.248344  1.764938  0.895837\n",
       "2   5.079727  1.893940  0.917184\n",
       "3   5.314780  1.703987  0.914252\n",
       "4   4.983689  2.020913  0.934423\n",
       "5   5.028730  1.968875  0.936146\n",
       "6   5.107111  1.874335  0.941161\n",
       "7   5.335486  1.637562  0.904727\n",
       "8   5.295077  1.685499  0.924891\n",
       "9   5.111463  1.898528  0.928985\n",
       "10  5.038720  1.966521  0.926433\n",
       "11  4.971609  2.029100  0.934120\n",
       "12  5.340183  1.657603  0.908646\n",
       "13  5.281777  1.713712  0.911802\n",
       "14  5.327382  1.658689  0.906116\n",
       "15  4.992211  2.006807  0.914887\n",
       "16  5.337381  1.659468  0.922501\n",
       "17  5.325568  1.702538  0.929306\n",
       "18  5.221672  1.802492  0.928800\n",
       "19  4.933358  2.108279  0.920390\n",
       "20  5.288435  1.717167  0.935336\n",
       "21  5.335115  1.674071  0.924386\n",
       "22  5.328382  1.693287  0.928853\n",
       "23  4.943331  2.085319  0.936601\n",
       "24  5.299309  1.690517  0.922754"
      ]
     },
     "execution_count": 31,
     "metadata": {},
     "output_type": "execute_result"
    }
   ],
   "source": [
    "discrete_big_covariates_results"
   ]
  },
  {
   "cell_type": "code",
   "execution_count": 32,
   "id": "68ec886c-429a-4159-a96a-411e9e7128c6",
   "metadata": {},
   "outputs": [
    {
     "name": "stdout",
     "output_type": "stream",
     "text": [
      "ate      5.182242\n",
      "const    1.821038\n",
      "scale    0.922466\n",
      "dtype: float64\n",
      "ate      0.150447\n",
      "const    0.154815\n",
      "scale    0.011578\n",
      "dtype: float64\n"
     ]
    }
   ],
   "source": [
    "print(discrete_big_covariates_results.mean())\n",
    "print(discrete_big_covariates_results.std())"
   ]
  },
  {
   "cell_type": "markdown",
   "id": "02c48dc5-a72f-41ea-b6c5-0832b83e1302",
   "metadata": {},
   "source": [
    "#### Outcome Regression"
   ]
  },
  {
   "cell_type": "code",
   "execution_count": 33,
   "id": "27779e38-02f2-4b8a-8508-ba5aba1794fc",
   "metadata": {},
   "outputs": [
    {
     "data": {
      "text/html": [
       "<div>\n",
       "<style scoped>\n",
       "    .dataframe tbody tr th:only-of-type {\n",
       "        vertical-align: middle;\n",
       "    }\n",
       "\n",
       "    .dataframe tbody tr th {\n",
       "        vertical-align: top;\n",
       "    }\n",
       "\n",
       "    .dataframe thead th {\n",
       "        text-align: right;\n",
       "    }\n",
       "</style>\n",
       "<table border=\"1\" class=\"dataframe\">\n",
       "  <thead>\n",
       "    <tr style=\"text-align: right;\">\n",
       "      <th></th>\n",
       "      <th>ate</th>\n",
       "      <th>const</th>\n",
       "    </tr>\n",
       "  </thead>\n",
       "  <tbody>\n",
       "    <tr>\n",
       "      <th>0</th>\n",
       "      <td>5.153209</td>\n",
       "      <td>1.003310</td>\n",
       "    </tr>\n",
       "    <tr>\n",
       "      <th>1</th>\n",
       "      <td>5.160226</td>\n",
       "      <td>0.983476</td>\n",
       "    </tr>\n",
       "    <tr>\n",
       "      <th>2</th>\n",
       "      <td>5.184430</td>\n",
       "      <td>1.002689</td>\n",
       "    </tr>\n",
       "    <tr>\n",
       "      <th>3</th>\n",
       "      <td>5.116931</td>\n",
       "      <td>1.041252</td>\n",
       "    </tr>\n",
       "    <tr>\n",
       "      <th>4</th>\n",
       "      <td>5.119048</td>\n",
       "      <td>1.016261</td>\n",
       "    </tr>\n",
       "    <tr>\n",
       "      <th>5</th>\n",
       "      <td>5.151797</td>\n",
       "      <td>0.984587</td>\n",
       "    </tr>\n",
       "    <tr>\n",
       "      <th>6</th>\n",
       "      <td>5.158239</td>\n",
       "      <td>0.950351</td>\n",
       "    </tr>\n",
       "    <tr>\n",
       "      <th>7</th>\n",
       "      <td>5.182327</td>\n",
       "      <td>0.982193</td>\n",
       "    </tr>\n",
       "    <tr>\n",
       "      <th>8</th>\n",
       "      <td>5.123116</td>\n",
       "      <td>1.020756</td>\n",
       "    </tr>\n",
       "    <tr>\n",
       "      <th>9</th>\n",
       "      <td>5.132334</td>\n",
       "      <td>0.981362</td>\n",
       "    </tr>\n",
       "    <tr>\n",
       "      <th>10</th>\n",
       "      <td>5.113997</td>\n",
       "      <td>1.002919</td>\n",
       "    </tr>\n",
       "    <tr>\n",
       "      <th>11</th>\n",
       "      <td>5.085774</td>\n",
       "      <td>1.070325</td>\n",
       "    </tr>\n",
       "    <tr>\n",
       "      <th>12</th>\n",
       "      <td>5.148707</td>\n",
       "      <td>1.022687</td>\n",
       "    </tr>\n",
       "    <tr>\n",
       "      <th>13</th>\n",
       "      <td>5.126443</td>\n",
       "      <td>1.027115</td>\n",
       "    </tr>\n",
       "    <tr>\n",
       "      <th>14</th>\n",
       "      <td>5.140281</td>\n",
       "      <td>0.997438</td>\n",
       "    </tr>\n",
       "    <tr>\n",
       "      <th>15</th>\n",
       "      <td>5.110497</td>\n",
       "      <td>1.054965</td>\n",
       "    </tr>\n",
       "    <tr>\n",
       "      <th>16</th>\n",
       "      <td>5.159956</td>\n",
       "      <td>0.991951</td>\n",
       "    </tr>\n",
       "    <tr>\n",
       "      <th>17</th>\n",
       "      <td>5.129393</td>\n",
       "      <td>0.985059</td>\n",
       "    </tr>\n",
       "    <tr>\n",
       "      <th>18</th>\n",
       "      <td>5.138743</td>\n",
       "      <td>1.030656</td>\n",
       "    </tr>\n",
       "    <tr>\n",
       "      <th>19</th>\n",
       "      <td>5.128932</td>\n",
       "      <td>1.022328</td>\n",
       "    </tr>\n",
       "    <tr>\n",
       "      <th>20</th>\n",
       "      <td>5.101114</td>\n",
       "      <td>1.068000</td>\n",
       "    </tr>\n",
       "    <tr>\n",
       "      <th>21</th>\n",
       "      <td>5.145714</td>\n",
       "      <td>1.022302</td>\n",
       "    </tr>\n",
       "    <tr>\n",
       "      <th>22</th>\n",
       "      <td>5.129560</td>\n",
       "      <td>1.025094</td>\n",
       "    </tr>\n",
       "    <tr>\n",
       "      <th>23</th>\n",
       "      <td>5.140301</td>\n",
       "      <td>1.030845</td>\n",
       "    </tr>\n",
       "    <tr>\n",
       "      <th>24</th>\n",
       "      <td>5.113681</td>\n",
       "      <td>1.015282</td>\n",
       "    </tr>\n",
       "  </tbody>\n",
       "</table>\n",
       "</div>"
      ],
      "text/plain": [
       "         ate     const\n",
       "0   5.153209  1.003310\n",
       "1   5.160226  0.983476\n",
       "2   5.184430  1.002689\n",
       "3   5.116931  1.041252\n",
       "4   5.119048  1.016261\n",
       "5   5.151797  0.984587\n",
       "6   5.158239  0.950351\n",
       "7   5.182327  0.982193\n",
       "8   5.123116  1.020756\n",
       "9   5.132334  0.981362\n",
       "10  5.113997  1.002919\n",
       "11  5.085774  1.070325\n",
       "12  5.148707  1.022687\n",
       "13  5.126443  1.027115\n",
       "14  5.140281  0.997438\n",
       "15  5.110497  1.054965\n",
       "16  5.159956  0.991951\n",
       "17  5.129393  0.985059\n",
       "18  5.138743  1.030656\n",
       "19  5.128932  1.022328\n",
       "20  5.101114  1.068000\n",
       "21  5.145714  1.022302\n",
       "22  5.129560  1.025094\n",
       "23  5.140301  1.030845\n",
       "24  5.113681  1.015282"
      ]
     },
     "execution_count": 33,
     "metadata": {},
     "output_type": "execute_result"
    }
   ],
   "source": [
    "outcome_coeffs = {'ate': [], 'const': []}\n",
    "for i in range(NUM_ITER):\n",
    "    data = causl_py.generate_many_discrete_samples(N=NUM_SAMPLES, causal_params=CAUSAL_PARAMS, seed=i)\n",
    "    coeff_X, coeff_const = run_outcome_regression(data)\n",
    "    outcome_coeffs['ate'].append(coeff_X)\n",
    "    outcome_coeffs['const'].append(coeff_const)\n",
    "outcome_coeffs = pd.DataFrame.from_dict(outcome_coeffs)\n",
    "outcome_coeffs"
   ]
  },
  {
   "cell_type": "code",
   "execution_count": 34,
   "id": "767d19d9-6213-4bb5-9c18-e2ecac4e041a",
   "metadata": {},
   "outputs": [
    {
     "name": "stdout",
     "output_type": "stream",
     "text": [
      "ate      5.135790\n",
      "const    1.013328\n",
      "dtype: float64\n",
      "ate      0.023648\n",
      "const    0.028511\n",
      "dtype: float64\n"
     ]
    }
   ],
   "source": [
    "print(outcome_coeffs.mean())\n",
    "print(outcome_coeffs.std())"
   ]
  },
  {
   "cell_type": "code",
   "execution_count": 35,
   "id": "c47dae7e-8039-4563-9692-b76280d41d19",
   "metadata": {},
   "outputs": [
    {
     "data": {
      "text/plain": [
       "<matplotlib.legend.Legend at 0x386d89210>"
      ]
     },
     "execution_count": 35,
     "metadata": {},
     "output_type": "execute_result"
    },
    {
     "data": {
      "image/png": "[encoded data removed]",
      "text/plain": [
       "<Figure size 1200x600 with 1 Axes>"
      ]
     },
     "metadata": {},
     "output_type": "display_data"
    }
   ],
   "source": [
    "plt.figure(figsize=(12, 6))\n",
    "\n",
    "# Boxplot\n",
    "box = discrete_big_covariates_results.boxplot(column=[\"ate\", \"const\", \"scale\"], grid=False)\n",
    "\n",
    "# Adding lines for the true parameters\n",
    "plt.axhline(y=TRUE_PARAMS['ate'], color='r', linestyle='--', label='True ate')\n",
    "plt.axhline(y=TRUE_PARAMS['const'], color='g', linestyle='--', label='True const')\n",
    "plt.axhline(y=TRUE_PARAMS['scale'], color='b', linestyle='--', label='True scale')\n",
    "\n",
    "# Adding title and labels\n",
    "plt.title('Box and Whisker Plot for ATE, Const, and Scale')\n",
    "plt.ylabel('Values')\n",
    "plt.ylim([0.80, 1.20])\n",
    "plt.legend()"
   ]
  },
  {
   "cell_type": "code",
   "execution_count": null,
   "id": "636658fa-a649-47ab-9c29-54004c6275fb",
   "metadata": {},
   "outputs": [
    {
     "name": "stderr",
     "output_type": "stream",
     "text": [
      " 64%|███████████████████████████████████████████████████████████████████████████████████████████████████████████████▎                                                              | 16/25 [28:03<15:27, 103.07s/it]"
     ]
    }
   ],
   "source": [
    "matchit_ate_list_many_discrete = []\n",
    "for i in tqdm(range(NUM_ITER)):\n",
    "    data = causl_py.generate_many_discrete_samples(NUM_SAMPLES, CAUSAL_PARAMS, i)\n",
    "    matching_results = matchit(outcome='Y', treatment='X', data=dict_to_dataframe(data))\n",
    "    matchit_ate_list_many_discrete.append(matching_results[0][0])\n",
    "print(np.mean(matchit_ate_list_many_discrete))\n",
    "print(np.std(matchit_ate_list_many_discrete))"
   ]
  },
  {
   "cell_type": "markdown",
   "id": "0df62c19-ca34-4ec2-8bd3-6ab2e8415bad",
   "metadata": {},
   "source": [
    "### Mixed Continuous and Discrete (Large and Sparse)"
   ]
  },
  {
   "cell_type": "code",
   "execution_count": null,
   "id": "1a031e67-e801-4b0e-b6af-55f109930780",
   "metadata": {},
   "outputs": [],
   "source": [
    "# discrete_sparse_covariates_results = causl_py.run_simulations(\n",
    "#     causl_py.generate_many_discrete_samples_sparse, \n",
    "#     seed=SEED, \n",
    "#     num_samples=NUM_SAMPLES, \n",
    "#     num_iter=NUM_ITER, \n",
    "#     causal_params=CAUSAL_PARAMS,\n",
    "#     hyperparams_dict=hyperparams_dict,\n",
    "#     causal_model_args={'ate': 0., 'const': 0., 'scale': 1}\n",
    "# )\n",
    "# discrete_sparse_covariates_results"
   ]
  },
  {
   "cell_type": "code",
   "execution_count": null,
   "id": "04cc7229-2d61-4ef6-a8b7-e645985c403e",
   "metadata": {},
   "outputs": [],
   "source": [
    "# print(discrete_sparse_covariates_results.mean())\n",
    "# print(discrete_sparse_covariates_results.std())"
   ]
  },
  {
   "cell_type": "markdown",
   "id": "54dd564b-29ee-4620-85d8-71423b86f833",
   "metadata": {},
   "source": [
    "#### Outcome Regression"
   ]
  },
  {
   "cell_type": "code",
   "execution_count": null,
   "id": "4dc3caa6-75a6-4194-a734-1dcbfefee4c2",
   "metadata": {},
   "outputs": [],
   "source": [
    "outcome_coeffs = {'ate': [], 'const': []}\n",
    "for i in range(NUM_ITER):\n",
    "    data = causl_py.generate_many_discrete_samples(N=NUM_SAMPLES, causal_params=CAUSAL_PARAMS, seed=i)\n",
    "    coeff_X, coeff_const = run_outcome_regression(data)\n",
    "    outcome_coeffs['ate'].append(coeff_X)\n",
    "    outcome_coeffs['const'].append(coeff_const)\n",
    "outcome_coeffs = pd.DataFrame.from_dict(outcome_coeffs)\n",
    "outcome_coeffs"
   ]
  },
  {
   "cell_type": "code",
   "execution_count": null,
   "id": "bc54d989-8629-4457-bc5e-3652a53514ff",
   "metadata": {},
   "outputs": [],
   "source": [
    "# plt.figure(figsize=(12, 6))\n",
    "\n",
    "# # Boxplot\n",
    "# box = discrete_sparse_covariates_results.boxplot(column=[\"ate\", \"const\", \"scale\"], grid=False)\n",
    "\n",
    "# # Adding lines for the true parameters\n",
    "# plt.axhline(y=TRUE_PARAMS['ate'], color='r', linestyle='--', label='True ate')\n",
    "# plt.axhline(y=TRUE_PARAMS['const'], color='g', linestyle='--', label='True const')\n",
    "# plt.axhline(y=TRUE_PARAMS['scale'], color='b', linestyle='--', label='True scale')\n",
    "\n",
    "# # Adding title and labels\n",
    "# plt.title('Box and Whisker Plot for ATE, Const, and Scale')\n",
    "# plt.ylabel('Values')\n",
    "# plt.ylim([0.80, 1.20])\n",
    "# plt.legend()"
   ]
  },
  {
   "cell_type": "code",
   "execution_count": null,
   "id": "71166d22-a9ca-45ec-89ad-0f67d16f1c85",
   "metadata": {},
   "outputs": [],
   "source": []
  }
 ],
 "metadata": {
  "kernelspec": {
   "display_name": "Python 3 (ipykernel)",
   "language": "python",
   "name": "python3"
  },
  "language_info": {
   "codemirror_mode": {
    "name": "ipython",
    "version": 3
   },
   "file_extension": ".py",
   "mimetype": "text/x-python",
   "name": "python",
   "nbconvert_exporter": "python",
   "pygments_lexer": "ipython3",
   "version": "3.11.8"
  }
 },
 "nbformat": 4,
 "nbformat_minor": 5
}
