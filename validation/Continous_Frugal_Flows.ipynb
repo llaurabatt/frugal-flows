{
 "cells": [
  {
   "cell_type": "markdown",
   "id": "f05dc14a-b9f6-4de9-8a36-524db299b21d",
   "metadata": {},
   "source": [
    "# Continous Frugal Flows\n",
    "\n",
    "In this notebook we demonstrate the ability for Frugal Flows to identify Marginal Causal Effects"
   ]
  },
  {
   "cell_type": "code",
   "execution_count": 1,
   "id": "1628a626-5ea2-4cf5-b80c-2c8876f38ec3",
   "metadata": {},
   "outputs": [],
   "source": [
    "import sys\n",
    "import os\n",
    "sys.path.append(\"../\") # go to parent dir\n",
    "\n",
    "import jax\n",
    "import jax.random as jr\n",
    "import jax.numpy as jnp\n",
    "import matplotlib.pyplot as plt\n",
    "import numpy as np\n",
    "import pandas as pd\n",
    "import scipy\n",
    "import numpy as np\n",
    "from scipy.stats import rankdata\n",
    "import scipy.stats as ss\n",
    "import statsmodels.api as sm\n",
    "import seaborn as sns\n",
    "from sklearn.model_selection import KFold\n",
    "\n",
    "# from data.create_sim_data import *\n",
    "import data.template_causl_simulations as causl_py\n",
    "from data.run_all_simulations import plot_simulation_results\n",
    "from frugal_flows.causal_flows import independent_continuous_marginal_flow, get_independent_quantiles, train_frugal_flow\n",
    "from frugal_flows.bijections import UnivariateNormalCDF\n",
    "\n",
    "import rpy2.robjects as ro\n",
    "from rpy2.robjects.packages import importr\n",
    "from rpy2.robjects import pandas2ri\n",
    "from rpy2.robjects.packages import SignatureTranslatedAnonymousPackage\n",
    "\n",
    "# Activate automatic conversion of rpy2 objects to pandas objects\n",
    "pandas2ri.activate()\n",
    "\n",
    "# Import the R library causl\n",
    "try:\n",
    "    causl = importr('causl')\n",
    "except Exception as e:\n",
    "    package_names = ('causl')\n",
    "    utils.install_packages(StrVector(package_names))\n",
    "\n",
    "jax.config.update(\"jax_enable_x64\", True)\n",
    "\n",
    "hyperparams_dict = {\n",
    "    'learning_rate': 5e-3,\n",
    "    'RQS_knots': 8,\n",
    "    'flow_layers': 5,\n",
    "    'nn_width': 30,\n",
    "    'nn_depth': 4,    \n",
    "    'max_patience': 50,\n",
    "    'max_epochs': 10000\n",
    "}\n",
    "causal_hyperparams = {\n",
    "    'RQS_knots': 8,\n",
    "    'flow_layers': 5,\n",
    "    'nn_width': 50,\n",
    "    'nn_depth': 4,   \n",
    "}\n",
    "\n",
    "SEED = 1\n",
    "NUM_ITER = 20\n",
    "NUM_SAMPLES = 5000\n",
    "TRUE_PARAMS = {'ate': 1, 'const': 0, 'scale': 1}\n",
    "CAUSAL_PARAMS = [0, 1]"
   ]
  },
  {
   "cell_type": "code",
   "execution_count": 2,
   "id": "024836f0-db4c-43b1-9271-f95470484778",
   "metadata": {},
   "outputs": [],
   "source": [
    "def run_outcome_regression(data):\n",
    "    df = pd.DataFrame(jnp.hstack([data['Y'], data['X']]), columns=['X', 'Y'])\n",
    "    df['X'] = data['X']\n",
    "    df['Y'] = data['Y']\n",
    "    X_vars = df['X']\n",
    "    X_vars = sm.add_constant(X_vars)\n",
    "    Y_var = df['Y']\n",
    "    model = sm.OLS(Y_var, X_vars).fit()\n",
    "    coefficient_X = model.params['X']\n",
    "    coefficient_const = model.params['const']\n",
    "    return coefficient_X, coefficient_const"
   ]
  },
  {
   "cell_type": "markdown",
   "id": "b6136417-f7d2-4a91-ab9f-4da293e82925",
   "metadata": {},
   "source": [
    "## Checking for the Causal Effect"
   ]
  },
  {
   "cell_type": "markdown",
   "id": "d52f9ceb-2918-4e27-a9f7-8a1e90e30d41",
   "metadata": {},
   "source": [
    "### Gaussians"
   ]
  },
  {
   "cell_type": "markdown",
   "id": "cc58c1bf-6de1-47eb-b2b2-2b4afe6c373a",
   "metadata": {},
   "source": [
    "#### Frugal Flow"
   ]
  },
  {
   "cell_type": "code",
   "execution_count": 3,
   "id": "a136574c-cbba-4c24-91e1-eec5f584d48b",
   "metadata": {},
   "outputs": [
    {
     "name": "stderr",
     "output_type": "stream",
     "text": [
      "  1%|▉                                                                                              | 99/10000 [00:43<1:13:20,  2.25it/s, train=-1.6437909712995513, val=-1.4884293797477324 (Max patience reached)]\n"
     ]
    }
   ],
   "source": [
    "gaussian_covariates_results = causl_py.run_simulations(\n",
    "    causl_py.generate_gaussian_samples, \n",
    "    seed=SEED, \n",
    "    num_samples=NUM_SAMPLES, \n",
    "    num_iter=NUM_ITER, \n",
    "    causal_params=CAUSAL_PARAMS,\n",
    "    hyperparams_dict=hyperparams_dict,\n",
    "    causal_model_args={'ate': 0., 'const': 1., 'scale': 1}\n",
    ")"
   ]
  },
  {
   "cell_type": "code",
   "execution_count": 4,
   "id": "ae40f9cd-e3ac-4430-ba25-18f14805c040",
   "metadata": {},
   "outputs": [
    {
     "data": {
      "text/html": [
       "<div>\n",
       "<style scoped>\n",
       "    .dataframe tbody tr th:only-of-type {\n",
       "        vertical-align: middle;\n",
       "    }\n",
       "\n",
       "    .dataframe tbody tr th {\n",
       "        vertical-align: top;\n",
       "    }\n",
       "\n",
       "    .dataframe thead th {\n",
       "        text-align: right;\n",
       "    }\n",
       "</style>\n",
       "<table border=\"1\" class=\"dataframe\">\n",
       "  <thead>\n",
       "    <tr style=\"text-align: right;\">\n",
       "      <th></th>\n",
       "      <th>ate</th>\n",
       "      <th>const</th>\n",
       "      <th>scale</th>\n",
       "    </tr>\n",
       "  </thead>\n",
       "  <tbody>\n",
       "    <tr>\n",
       "      <th>0</th>\n",
       "      <td>1.050382</td>\n",
       "      <td>-0.064905</td>\n",
       "      <td>1.003842</td>\n",
       "    </tr>\n",
       "  </tbody>\n",
       "</table>\n",
       "</div>"
      ],
      "text/plain": [
       "        ate     const     scale\n",
       "0  1.050382 -0.064905  1.003842"
      ]
     },
     "execution_count": 4,
     "metadata": {},
     "output_type": "execute_result"
    }
   ],
   "source": [
    "gaussian_covariates_results"
   ]
  },
  {
   "cell_type": "code",
   "execution_count": 5,
   "id": "c87ec959-d25b-4713-b24f-2a0bd860eaed",
   "metadata": {},
   "outputs": [
    {
     "data": {
      "text/plain": [
       "ate      1.050382\n",
       "const   -0.064905\n",
       "scale    1.003842\n",
       "dtype: float64"
      ]
     },
     "metadata": {},
     "output_type": "display_data"
    },
    {
     "data": {
      "text/plain": [
       "ate     NaN\n",
       "const   NaN\n",
       "scale   NaN\n",
       "dtype: float64"
      ]
     },
     "metadata": {},
     "output_type": "display_data"
    }
   ],
   "source": [
    "display(gaussian_covariates_results.mean())\n",
    "display(gaussian_covariates_results.std())"
   ]
  },
  {
   "cell_type": "code",
   "execution_count": 6,
   "id": "0ad888c7-26e9-43e0-8942-2a8b2231f13c",
   "metadata": {},
   "outputs": [
    {
     "data": {
      "text/plain": [
       "<matplotlib.legend.Legend at 0x332271d10>"
      ]
     },
     "execution_count": 6,
     "metadata": {},
     "output_type": "execute_result"
    },
    {
     "data": {
      "image/png": "[encoded data removed]",
      "text/plain": [
       "<Figure size 1200x600 with 1 Axes>"
      ]
     },
     "metadata": {},
     "output_type": "display_data"
    }
   ],
   "source": [
    "plt.figure(figsize=(12, 6))\n",
    "\n",
    "# Boxplot\n",
    "box = gaussian_covariates_results.boxplot(column=[\"ate\", \"const\", \"scale\"], grid=False)\n",
    "\n",
    "# Adding lines for the true parameters\n",
    "plt.axhline(y=TRUE_PARAMS['ate'], color='r', linestyle='--', label='True ate')\n",
    "plt.axhline(y=TRUE_PARAMS['const'], color='g', linestyle='--', label='True const')\n",
    "plt.axhline(y=TRUE_PARAMS['scale'], color='b', linestyle='--', label='True scale')\n",
    "\n",
    "# Adding title and labels\n",
    "plt.title('Box and Whisker Plot for ATE, Const, and Scale')\n",
    "plt.ylabel('Values')\n",
    "plt.ylim([0.80, 1.20])\n",
    "plt.legend()"
   ]
  },
  {
   "cell_type": "markdown",
   "id": "f1d441a3-1d98-4c9d-bd3c-ebc3f0b5c20f",
   "metadata": {},
   "source": [
    "#### Outcome Regression"
   ]
  },
  {
   "cell_type": "code",
   "execution_count": 7,
   "id": "9b28afaf-719e-4618-834a-eac0b85fbc87",
   "metadata": {},
   "outputs": [
    {
     "data": {
      "text/html": [
       "<div>\n",
       "<style scoped>\n",
       "    .dataframe tbody tr th:only-of-type {\n",
       "        vertical-align: middle;\n",
       "    }\n",
       "\n",
       "    .dataframe tbody tr th {\n",
       "        vertical-align: top;\n",
       "    }\n",
       "\n",
       "    .dataframe thead th {\n",
       "        text-align: right;\n",
       "    }\n",
       "</style>\n",
       "<table border=\"1\" class=\"dataframe\">\n",
       "  <thead>\n",
       "    <tr style=\"text-align: right;\">\n",
       "      <th></th>\n",
       "      <th>ate</th>\n",
       "      <th>const</th>\n",
       "    </tr>\n",
       "  </thead>\n",
       "  <tbody>\n",
       "    <tr>\n",
       "      <th>0</th>\n",
       "      <td>2.031925</td>\n",
       "      <td>-0.725165</td>\n",
       "    </tr>\n",
       "  </tbody>\n",
       "</table>\n",
       "</div>"
      ],
      "text/plain": [
       "        ate     const\n",
       "0  2.031925 -0.725165"
      ]
     },
     "execution_count": 7,
     "metadata": {},
     "output_type": "execute_result"
    }
   ],
   "source": [
    "gaussian_coeffs = {'ate': [], 'const': []}\n",
    "for i in range(NUM_ITER):\n",
    "    data = causl_py.generate_gaussian_samples(N=NUM_SAMPLES, causal_params=CAUSAL_PARAMS, seed=i)\n",
    "    coeff_X, coeff_const = run_outcome_regression(data)\n",
    "    gaussian_coeffs['ate'].append(coeff_X)\n",
    "    gaussian_coeffs['const'].append(coeff_const)\n",
    "gaussian_outcome_coeffs = pd.DataFrame.from_dict(gaussian_coeffs)\n",
    "gaussian_outcome_coeffs"
   ]
  },
  {
   "cell_type": "code",
   "execution_count": 8,
   "id": "532559d4-63e2-45c1-8657-9326dc549354",
   "metadata": {},
   "outputs": [
    {
     "name": "stdout",
     "output_type": "stream",
     "text": [
      "ate      2.031925\n",
      "const   -0.725165\n",
      "dtype: float64\n",
      "ate     NaN\n",
      "const   NaN\n",
      "dtype: float64\n"
     ]
    }
   ],
   "source": [
    "print(gaussian_outcome_coeffs.mean())\n",
    "print(gaussian_outcome_coeffs.std())"
   ]
  },
  {
   "cell_type": "markdown",
   "id": "ba9dcb71-a33c-4a2a-b6da-c418772a9dca",
   "metadata": {},
   "source": [
    "### Mixed Gaussian and Gamma Outcomes"
   ]
  },
  {
   "cell_type": "code",
   "execution_count": 9,
   "id": "7d95c6e9-0762-4084-8994-30d37803d0e3",
   "metadata": {},
   "outputs": [],
   "source": [
    "Z_disc, Z_cont, X, Y = causl_py.generate_mixed_samples(10000, CAUSAL_PARAMS, 0).values()"
   ]
  },
  {
   "cell_type": "code",
   "execution_count": 10,
   "id": "1e1469be-3697-415b-a3e9-d04431559db8",
   "metadata": {},
   "outputs": [],
   "source": [
    "uz_samples = causl_py.generate_uz_samples(Z_cont=Z_cont, use_marginal_flow=False, seed=0, frugal_flow_hyperparams=hyperparams_dict)"
   ]
  },
  {
   "cell_type": "code",
   "execution_count": 11,
   "id": "61a772b4-dbf9-48b6-b6df-6dd64b820fe4",
   "metadata": {},
   "outputs": [],
   "source": [
    "uz_disc_samples = uz_samples['uz_disc']\n",
    "uz_cont_samples = uz_samples['uz_cont']"
   ]
  },
  {
   "cell_type": "code",
   "execution_count": 12,
   "id": "377b7c9f-fdd8-4187-ba88-274cbf41b9c5",
   "metadata": {},
   "outputs": [
    {
     "name": "stderr",
     "output_type": "stream",
     "text": [
      "  1%|▋                                                                                                 | 72/10000 [00:32<1:13:53,  2.24it/s, train=1.3118372802965774, val=1.394872411050176 (Max patience reached)]\n"
     ]
    }
   ],
   "source": [
    "frugal_flow, losses = causl_py.train_frugal_flow(\n",
    "    key=jr.PRNGKey(0),\n",
    "    y=Y,\n",
    "    u_z=uz_cont_samples,\n",
    "    condition=X,\n",
    "    **hyperparams_dict,\n",
    "    causal_model='gaussian',\n",
    "    causal_model_args={'ate': 0., 'const': 0., 'scale': 1}\n",
    ")"
   ]
  },
  {
   "cell_type": "code",
   "execution_count": 13,
   "id": "90427a47-41ef-410c-a961-5a30a7f738e2",
   "metadata": {},
   "outputs": [],
   "source": [
    "causal_margin = frugal_flow.bijection.bijections[-1].bijection.bijections[0]"
   ]
  },
  {
   "cell_type": "code",
   "execution_count": 14,
   "id": "4b5d8bb9-c36d-4e38-ad7b-98df62db68cc",
   "metadata": {},
   "outputs": [
    {
     "data": {
      "text/plain": [
       "Array(0.9003078, dtype=float64)"
      ]
     },
     "execution_count": 14,
     "metadata": {},
     "output_type": "execute_result"
    }
   ],
   "source": [
    "causal_margin.ate"
   ]
  },
  {
   "cell_type": "code",
   "execution_count": 15,
   "id": "8034bb27-6674-4f8f-b022-f727c894a954",
   "metadata": {},
   "outputs": [
    {
     "data": {
      "text/plain": [
       "Array(0.12778634, dtype=float64)"
      ]
     },
     "execution_count": 15,
     "metadata": {},
     "output_type": "execute_result"
    }
   ],
   "source": [
    "causal_margin.const"
   ]
  },
  {
   "cell_type": "code",
   "execution_count": 16,
   "id": "a92adc2c-236e-4f3a-b575-5491fc244bc9",
   "metadata": {},
   "outputs": [
    {
     "name": "stderr",
     "output_type": "stream",
     "text": [
      "  1%|▉                                                                                               | 101/10000 [00:45<1:14:44,  2.21it/s, train=1.3471179034003202, val=1.3776216603601268 (Max patience reached)]\n"
     ]
    }
   ],
   "source": [
    "continous_covariates_results = causl_py.run_simulations(\n",
    "    causl_py.generate_mixed_samples, \n",
    "    seed=SEED, \n",
    "    num_samples=NUM_SAMPLES, \n",
    "    num_iter=NUM_ITER, \n",
    "    causal_params=CAUSAL_PARAMS,\n",
    "    hyperparams_dict=hyperparams_dict,\n",
    "    causal_model_args={'ate': 1., 'const': 1., 'scale': 1}\n",
    ")"
   ]
  },
  {
   "cell_type": "code",
   "execution_count": 17,
   "id": "1e29818a-ddb4-4f56-9d11-1fb4bd752d35",
   "metadata": {},
   "outputs": [
    {
     "data": {
      "text/html": [
       "<div>\n",
       "<style scoped>\n",
       "    .dataframe tbody tr th:only-of-type {\n",
       "        vertical-align: middle;\n",
       "    }\n",
       "\n",
       "    .dataframe tbody tr th {\n",
       "        vertical-align: top;\n",
       "    }\n",
       "\n",
       "    .dataframe thead th {\n",
       "        text-align: right;\n",
       "    }\n",
       "</style>\n",
       "<table border=\"1\" class=\"dataframe\">\n",
       "  <thead>\n",
       "    <tr style=\"text-align: right;\">\n",
       "      <th></th>\n",
       "      <th>ate</th>\n",
       "      <th>const</th>\n",
       "      <th>scale</th>\n",
       "    </tr>\n",
       "  </thead>\n",
       "  <tbody>\n",
       "    <tr>\n",
       "      <th>0</th>\n",
       "      <td>0.952246</td>\n",
       "      <td>0.014496</td>\n",
       "      <td>0.99972</td>\n",
       "    </tr>\n",
       "  </tbody>\n",
       "</table>\n",
       "</div>"
      ],
      "text/plain": [
       "        ate     const    scale\n",
       "0  0.952246  0.014496  0.99972"
      ]
     },
     "execution_count": 17,
     "metadata": {},
     "output_type": "execute_result"
    }
   ],
   "source": [
    "continous_covariates_results"
   ]
  },
  {
   "cell_type": "code",
   "execution_count": 18,
   "id": "afe5e95e-facb-4f70-9504-b3563aff44d4",
   "metadata": {},
   "outputs": [
    {
     "name": "stdout",
     "output_type": "stream",
     "text": [
      "ate      0.952246\n",
      "const    0.014496\n",
      "scale    0.999720\n",
      "dtype: float64\n",
      "ate     NaN\n",
      "const   NaN\n",
      "scale   NaN\n",
      "dtype: float64\n"
     ]
    }
   ],
   "source": [
    "print(continous_covariates_results.mean())\n",
    "print(continous_covariates_results.std())"
   ]
  },
  {
   "cell_type": "markdown",
   "id": "b7a1c159-5441-4ed7-8890-be515f80fde7",
   "metadata": {},
   "source": [
    "#### Outcome Regression"
   ]
  },
  {
   "cell_type": "code",
   "execution_count": 19,
   "id": "fb4daed3-c646-4d59-a219-e8131ff04332",
   "metadata": {},
   "outputs": [
    {
     "data": {
      "text/html": [
       "<div>\n",
       "<style scoped>\n",
       "    .dataframe tbody tr th:only-of-type {\n",
       "        vertical-align: middle;\n",
       "    }\n",
       "\n",
       "    .dataframe tbody tr th {\n",
       "        vertical-align: top;\n",
       "    }\n",
       "\n",
       "    .dataframe thead th {\n",
       "        text-align: right;\n",
       "    }\n",
       "</style>\n",
       "<table border=\"1\" class=\"dataframe\">\n",
       "  <thead>\n",
       "    <tr style=\"text-align: right;\">\n",
       "      <th></th>\n",
       "      <th>ate</th>\n",
       "      <th>const</th>\n",
       "    </tr>\n",
       "  </thead>\n",
       "  <tbody>\n",
       "    <tr>\n",
       "      <th>0</th>\n",
       "      <td>1.27695</td>\n",
       "      <td>-0.261755</td>\n",
       "    </tr>\n",
       "  </tbody>\n",
       "</table>\n",
       "</div>"
      ],
      "text/plain": [
       "       ate     const\n",
       "0  1.27695 -0.261755"
      ]
     },
     "execution_count": 19,
     "metadata": {},
     "output_type": "execute_result"
    }
   ],
   "source": [
    "outcome_coeffs = {'ate': [], 'const': []}\n",
    "for i in range(NUM_ITER):\n",
    "    data = causl_py.generate_mixed_samples(N=NUM_SAMPLES, causal_params=CAUSAL_PARAMS, seed=i)\n",
    "    coeff_X, coeff_const = run_outcome_regression(data)\n",
    "    outcome_coeffs['ate'].append(coeff_X)\n",
    "    outcome_coeffs['const'].append(coeff_const)\n",
    "outcome_coeffs = pd.DataFrame.from_dict(outcome_coeffs)\n",
    "outcome_coeffs"
   ]
  },
  {
   "cell_type": "code",
   "execution_count": 20,
   "id": "1f98eee7-e37c-49dd-b671-7f467f246822",
   "metadata": {},
   "outputs": [
    {
     "name": "stdout",
     "output_type": "stream",
     "text": [
      "ate      1.276950\n",
      "const   -0.261755\n",
      "dtype: float64\n",
      "ate     NaN\n",
      "const   NaN\n",
      "dtype: float64\n"
     ]
    }
   ],
   "source": [
    "print(outcome_coeffs.mean())\n",
    "print(outcome_coeffs.std())"
   ]
  },
  {
   "cell_type": "code",
   "execution_count": 21,
   "id": "2ce3d31b-b7ba-4efd-b736-7d48eeaf4ce8",
   "metadata": {},
   "outputs": [
    {
     "data": {
      "text/plain": [
       "<matplotlib.legend.Legend at 0x353ef15d0>"
      ]
     },
     "execution_count": 21,
     "metadata": {},
     "output_type": "execute_result"
    },
    {
     "data": {
      "image/png": "[encoded data removed]",
      "text/plain": [
       "<Figure size 1200x600 with 1 Axes>"
      ]
     },
     "metadata": {},
     "output_type": "display_data"
    }
   ],
   "source": [
    "plt.figure(figsize=(12, 6))\n",
    "\n",
    "# Boxplot\n",
    "box = continous_covariates_results.boxplot(column=[\"ate\", \"const\", \"scale\"], grid=False)\n",
    "\n",
    "# Adding lines for the true parameters\n",
    "plt.axhline(y=TRUE_PARAMS['ate'], color='r', linestyle='--', label='True ate')\n",
    "plt.axhline(y=TRUE_PARAMS['const'], color='g', linestyle='--', label='True const')\n",
    "plt.axhline(y=TRUE_PARAMS['scale'], color='b', linestyle='--', label='True scale')\n",
    "\n",
    "# Adding title and labels\n",
    "plt.title('Box and Whisker Plot for ATE, Const, and Scale')\n",
    "plt.ylabel('Values')\n",
    "plt.ylim([0.80, 1.20])\n",
    "plt.legend()"
   ]
  },
  {
   "cell_type": "markdown",
   "id": "9e92ce2d-e11d-4d53-96df-6481da5b2401",
   "metadata": {},
   "source": [
    "### Mixed Continuous and Discrete (Small)"
   ]
  },
  {
   "cell_type": "code",
   "execution_count": 22,
   "id": "29615df2-8aaa-441d-9e7e-1f2f0c5dacdf",
   "metadata": {},
   "outputs": [
    {
     "name": "stderr",
     "output_type": "stream",
     "text": [
      "  1%|▋                                                                                                | 68/10000 [00:31<1:16:32,  2.16it/s, train=1.3634169511079635, val=1.4078287064378716 (Max patience reached)]\n"
     ]
    }
   ],
   "source": [
    "discrete_small_covariates_results = causl_py.run_simulations(\n",
    "    causl_py.generate_discrete_samples, \n",
    "    seed=SEED, \n",
    "    num_samples=NUM_SAMPLES, \n",
    "    num_iter=NUM_ITER, \n",
    "    causal_params=CAUSAL_PARAMS,\n",
    "    hyperparams_dict=hyperparams_dict,\n",
    "    causal_model_args={'ate': 0., 'const': 1., 'scale': 1}\n",
    ")"
   ]
  },
  {
   "cell_type": "code",
   "execution_count": 23,
   "id": "ba2d08c5-9ebd-40ec-844a-219c5eb5a079",
   "metadata": {},
   "outputs": [
    {
     "data": {
      "text/html": [
       "<div>\n",
       "<style scoped>\n",
       "    .dataframe tbody tr th:only-of-type {\n",
       "        vertical-align: middle;\n",
       "    }\n",
       "\n",
       "    .dataframe tbody tr th {\n",
       "        vertical-align: top;\n",
       "    }\n",
       "\n",
       "    .dataframe thead th {\n",
       "        text-align: right;\n",
       "    }\n",
       "</style>\n",
       "<table border=\"1\" class=\"dataframe\">\n",
       "  <thead>\n",
       "    <tr style=\"text-align: right;\">\n",
       "      <th></th>\n",
       "      <th>ate</th>\n",
       "      <th>const</th>\n",
       "      <th>scale</th>\n",
       "    </tr>\n",
       "  </thead>\n",
       "  <tbody>\n",
       "    <tr>\n",
       "      <th>0</th>\n",
       "      <td>0.987726</td>\n",
       "      <td>-0.003969</td>\n",
       "      <td>0.987821</td>\n",
       "    </tr>\n",
       "  </tbody>\n",
       "</table>\n",
       "</div>"
      ],
      "text/plain": [
       "        ate     const     scale\n",
       "0  0.987726 -0.003969  0.987821"
      ]
     },
     "execution_count": 23,
     "metadata": {},
     "output_type": "execute_result"
    }
   ],
   "source": [
    "discrete_small_covariates_results"
   ]
  },
  {
   "cell_type": "code",
   "execution_count": 24,
   "id": "5e25a9b3-1a2e-4acf-af87-3757337a5877",
   "metadata": {},
   "outputs": [
    {
     "name": "stdout",
     "output_type": "stream",
     "text": [
      "ate      0.987726\n",
      "const   -0.003969\n",
      "scale    0.987821\n",
      "dtype: float64\n",
      "ate     NaN\n",
      "const   NaN\n",
      "scale   NaN\n",
      "dtype: float64\n"
     ]
    }
   ],
   "source": [
    "print(discrete_small_covariates_results.mean())\n",
    "print(discrete_small_covariates_results.std())"
   ]
  },
  {
   "cell_type": "markdown",
   "id": "e666a6e5-a855-487f-b55a-55610648f9ae",
   "metadata": {},
   "source": [
    "#### Outcome Regression"
   ]
  },
  {
   "cell_type": "code",
   "execution_count": 25,
   "id": "3f9a4475-43bf-4bf4-8dde-3e552eb16ca2",
   "metadata": {},
   "outputs": [
    {
     "data": {
      "text/html": [
       "<div>\n",
       "<style scoped>\n",
       "    .dataframe tbody tr th:only-of-type {\n",
       "        vertical-align: middle;\n",
       "    }\n",
       "\n",
       "    .dataframe tbody tr th {\n",
       "        vertical-align: top;\n",
       "    }\n",
       "\n",
       "    .dataframe thead th {\n",
       "        text-align: right;\n",
       "    }\n",
       "</style>\n",
       "<table border=\"1\" class=\"dataframe\">\n",
       "  <thead>\n",
       "    <tr style=\"text-align: right;\">\n",
       "      <th></th>\n",
       "      <th>ate</th>\n",
       "      <th>const</th>\n",
       "    </tr>\n",
       "  </thead>\n",
       "  <tbody>\n",
       "    <tr>\n",
       "      <th>0</th>\n",
       "      <td>1.030409</td>\n",
       "      <td>-0.010012</td>\n",
       "    </tr>\n",
       "  </tbody>\n",
       "</table>\n",
       "</div>"
      ],
      "text/plain": [
       "        ate     const\n",
       "0  1.030409 -0.010012"
      ]
     },
     "execution_count": 25,
     "metadata": {},
     "output_type": "execute_result"
    }
   ],
   "source": [
    "outcome_coeffs = {'ate': [], 'const': []}\n",
    "for i in range(NUM_ITER):\n",
    "    data = causl_py.generate_discrete_samples(N=NUM_SAMPLES, causal_params=CAUSAL_PARAMS, seed=i)\n",
    "    coeff_X, coeff_const = run_outcome_regression(data)\n",
    "    outcome_coeffs['ate'].append(coeff_X)\n",
    "    outcome_coeffs['const'].append(coeff_const)\n",
    "outcome_coeffs = pd.DataFrame.from_dict(outcome_coeffs)\n",
    "outcome_coeffs"
   ]
  },
  {
   "cell_type": "code",
   "execution_count": 26,
   "id": "d7e55609-8f09-44d1-b3af-fd21d48b7eae",
   "metadata": {},
   "outputs": [
    {
     "name": "stdout",
     "output_type": "stream",
     "text": [
      "ate      1.030409\n",
      "const   -0.010012\n",
      "dtype: float64\n",
      "ate     NaN\n",
      "const   NaN\n",
      "dtype: float64\n"
     ]
    }
   ],
   "source": [
    "print(outcome_coeffs.mean())\n",
    "print(outcome_coeffs.std())"
   ]
  },
  {
   "cell_type": "code",
   "execution_count": 27,
   "id": "f0e08851-605f-4083-862c-9ba29dfc8e9d",
   "metadata": {},
   "outputs": [
    {
     "data": {
      "text/plain": [
       "<matplotlib.legend.Legend at 0x35f771410>"
      ]
     },
     "execution_count": 27,
     "metadata": {},
     "output_type": "execute_result"
    },
    {
     "data": {
      "image/png": "[encoded data removed]",
      "text/plain": [
       "<Figure size 1200x600 with 1 Axes>"
      ]
     },
     "metadata": {},
     "output_type": "display_data"
    }
   ],
   "source": [
    "plt.figure(figsize=(12, 6))\n",
    "\n",
    "# Boxplot\n",
    "box = discrete_small_covariates_results.boxplot(column=[\"ate\", \"const\", \"scale\"], grid=False)\n",
    "\n",
    "# Adding lines for the true parameters\n",
    "plt.axhline(y=TRUE_PARAMS['ate'], color='r', linestyle='--', label='True ate')\n",
    "plt.axhline(y=TRUE_PARAMS['const'], color='g', linestyle='--', label='True const')\n",
    "plt.axhline(y=TRUE_PARAMS['scale'], color='b', linestyle='--', label='True scale')\n",
    "\n",
    "# Adding title and labels\n",
    "plt.title('Box and Whisker Plot for ATE, Const, and Scale')\n",
    "plt.ylabel('Values')\n",
    "plt.ylim([0.80, 1.20])\n",
    "plt.legend()"
   ]
  },
  {
   "cell_type": "markdown",
   "id": "253dfdcb-2777-43c2-a323-93fa3a7a4315",
   "metadata": {},
   "source": [
    "### Mixed Continuous and Discrete (Large)"
   ]
  },
  {
   "cell_type": "code",
   "execution_count": 28,
   "id": "36562e65-1a00-46c0-a9af-dc25f38573bc",
   "metadata": {},
   "outputs": [
    {
     "name": "stderr",
     "output_type": "stream",
     "text": [
      "  1%|▉                                                                                                | 93/10000 [01:17<2:17:00,  1.21it/s, train=0.5156906100639252, val=0.9044394889512237 (Max patience reached)]\n"
     ]
    }
   ],
   "source": [
    "discrete_big_covariates_results = causl_py.run_simulations(\n",
    "    causl_py.generate_many_discrete_samples, \n",
    "    seed=SEED, \n",
    "    num_samples=NUM_SAMPLES, \n",
    "    num_iter=NUM_ITER, \n",
    "    causal_params=CAUSAL_PARAMS,\n",
    "    hyperparams_dict=hyperparams_dict,\n",
    "    causal_model_args={'ate': 0., 'const': 1., 'scale': 1}\n",
    ")"
   ]
  },
  {
   "cell_type": "code",
   "execution_count": 29,
   "id": "c3ae6fe1-cd77-46fe-84b5-68d8bfbbea89",
   "metadata": {},
   "outputs": [
    {
     "data": {
      "text/html": [
       "<div>\n",
       "<style scoped>\n",
       "    .dataframe tbody tr th:only-of-type {\n",
       "        vertical-align: middle;\n",
       "    }\n",
       "\n",
       "    .dataframe tbody tr th {\n",
       "        vertical-align: top;\n",
       "    }\n",
       "\n",
       "    .dataframe thead th {\n",
       "        text-align: right;\n",
       "    }\n",
       "</style>\n",
       "<table border=\"1\" class=\"dataframe\">\n",
       "  <thead>\n",
       "    <tr style=\"text-align: right;\">\n",
       "      <th></th>\n",
       "      <th>ate</th>\n",
       "      <th>const</th>\n",
       "      <th>scale</th>\n",
       "    </tr>\n",
       "  </thead>\n",
       "  <tbody>\n",
       "    <tr>\n",
       "      <th>0</th>\n",
       "      <td>0.951187</td>\n",
       "      <td>0.04</td>\n",
       "      <td>1.015223</td>\n",
       "    </tr>\n",
       "  </tbody>\n",
       "</table>\n",
       "</div>"
      ],
      "text/plain": [
       "        ate  const     scale\n",
       "0  0.951187   0.04  1.015223"
      ]
     },
     "execution_count": 29,
     "metadata": {},
     "output_type": "execute_result"
    }
   ],
   "source": [
    "discrete_big_covariates_results"
   ]
  },
  {
   "cell_type": "code",
   "execution_count": 30,
   "id": "68ec886c-429a-4159-a96a-411e9e7128c6",
   "metadata": {},
   "outputs": [
    {
     "name": "stdout",
     "output_type": "stream",
     "text": [
      "ate      0.951187\n",
      "const    0.040000\n",
      "scale    1.015223\n",
      "dtype: float64\n",
      "ate     NaN\n",
      "const   NaN\n",
      "scale   NaN\n",
      "dtype: float64\n"
     ]
    }
   ],
   "source": [
    "print(discrete_big_covariates_results.mean())\n",
    "print(discrete_big_covariates_results.std())"
   ]
  },
  {
   "cell_type": "markdown",
   "id": "02c48dc5-a72f-41ea-b6c5-0832b83e1302",
   "metadata": {},
   "source": [
    "#### Outcome Regression"
   ]
  },
  {
   "cell_type": "code",
   "execution_count": 31,
   "id": "27779e38-02f2-4b8a-8508-ba5aba1794fc",
   "metadata": {},
   "outputs": [
    {
     "data": {
      "text/html": [
       "<div>\n",
       "<style scoped>\n",
       "    .dataframe tbody tr th:only-of-type {\n",
       "        vertical-align: middle;\n",
       "    }\n",
       "\n",
       "    .dataframe tbody tr th {\n",
       "        vertical-align: top;\n",
       "    }\n",
       "\n",
       "    .dataframe thead th {\n",
       "        text-align: right;\n",
       "    }\n",
       "</style>\n",
       "<table border=\"1\" class=\"dataframe\">\n",
       "  <thead>\n",
       "    <tr style=\"text-align: right;\">\n",
       "      <th></th>\n",
       "      <th>ate</th>\n",
       "      <th>const</th>\n",
       "    </tr>\n",
       "  </thead>\n",
       "  <tbody>\n",
       "    <tr>\n",
       "      <th>0</th>\n",
       "      <td>0.927802</td>\n",
       "      <td>0.031063</td>\n",
       "    </tr>\n",
       "  </tbody>\n",
       "</table>\n",
       "</div>"
      ],
      "text/plain": [
       "        ate     const\n",
       "0  0.927802  0.031063"
      ]
     },
     "execution_count": 31,
     "metadata": {},
     "output_type": "execute_result"
    }
   ],
   "source": [
    "outcome_coeffs = {'ate': [], 'const': []}\n",
    "for i in range(NUM_ITER):\n",
    "    data = causl_py.generate_many_discrete_samples(N=NUM_SAMPLES, causal_params=CAUSAL_PARAMS, seed=i)\n",
    "    coeff_X, coeff_const = run_outcome_regression(data)\n",
    "    outcome_coeffs['ate'].append(coeff_X)\n",
    "    outcome_coeffs['const'].append(coeff_const)\n",
    "outcome_coeffs = pd.DataFrame.from_dict(outcome_coeffs)\n",
    "outcome_coeffs"
   ]
  },
  {
   "cell_type": "code",
   "execution_count": 32,
   "id": "767d19d9-6213-4bb5-9c18-e2ecac4e041a",
   "metadata": {},
   "outputs": [
    {
     "name": "stdout",
     "output_type": "stream",
     "text": [
      "ate      0.927802\n",
      "const    0.031063\n",
      "dtype: float64\n",
      "ate     NaN\n",
      "const   NaN\n",
      "dtype: float64\n"
     ]
    }
   ],
   "source": [
    "print(outcome_coeffs.mean())\n",
    "print(outcome_coeffs.std())"
   ]
  },
  {
   "cell_type": "code",
   "execution_count": 33,
   "id": "c47dae7e-8039-4563-9692-b76280d41d19",
   "metadata": {},
   "outputs": [
    {
     "data": {
      "text/plain": [
       "<matplotlib.legend.Legend at 0x364e59d10>"
      ]
     },
     "execution_count": 33,
     "metadata": {},
     "output_type": "execute_result"
    },
    {
     "data": {
      "image/png": "[encoded data removed]",
      "text/plain": [
       "<Figure size 1200x600 with 1 Axes>"
      ]
     },
     "metadata": {},
     "output_type": "display_data"
    }
   ],
   "source": [
    "plt.figure(figsize=(12, 6))\n",
    "\n",
    "# Boxplot\n",
    "box = discrete_big_covariates_results.boxplot(column=[\"ate\", \"const\", \"scale\"], grid=False)\n",
    "\n",
    "# Adding lines for the true parameters\n",
    "plt.axhline(y=TRUE_PARAMS['ate'], color='r', linestyle='--', label='True ate')\n",
    "plt.axhline(y=TRUE_PARAMS['const'], color='g', linestyle='--', label='True const')\n",
    "plt.axhline(y=TRUE_PARAMS['scale'], color='b', linestyle='--', label='True scale')\n",
    "\n",
    "# Adding title and labels\n",
    "plt.title('Box and Whisker Plot for ATE, Const, and Scale')\n",
    "plt.ylabel('Values')\n",
    "plt.ylim([0.80, 1.20])\n",
    "plt.legend()"
   ]
  },
  {
   "cell_type": "markdown",
   "id": "0df62c19-ca34-4ec2-8bd3-6ab2e8415bad",
   "metadata": {},
   "source": [
    "### Mixed Continuous and Discrete (Large and Sparse)"
   ]
  },
  {
   "cell_type": "code",
   "execution_count": null,
   "id": "1a031e67-e801-4b0e-b6af-55f109930780",
   "metadata": {},
   "outputs": [
    {
     "name": "stderr",
     "output_type": "stream",
     "text": [
      "  1%|▊                                                                                                                        | 68/10000 [00:55<2:07:57,  1.29it/s, train=1.367921815013926, val=1.4896835104058426]"
     ]
    }
   ],
   "source": [
    "discrete_sparse_covariates_results = causl_py.run_simulations(\n",
    "    causl_py.generate_many_discrete_samples_sparse, \n",
    "    seed=SEED, \n",
    "    num_samples=NUM_SAMPLES, \n",
    "    num_iter=NUM_ITER, \n",
    "    causal_params=CAUSAL_PARAMS,\n",
    "    hyperparams_dict=hyperparams_dict,\n",
    "    causal_model_args={'ate': 0., 'const': 1., 'scale': 1}\n",
    ")"
   ]
  },
  {
   "cell_type": "code",
   "execution_count": null,
   "id": "bc93da71-288a-4d15-98c8-10daafa5737a",
   "metadata": {},
   "outputs": [],
   "source": [
    "discrete_sparse_covariates_results"
   ]
  },
  {
   "cell_type": "code",
   "execution_count": null,
   "id": "04cc7229-2d61-4ef6-a8b7-e645985c403e",
   "metadata": {},
   "outputs": [],
   "source": [
    "print(discrete_sparse_covariates_results.mean())\n",
    "print(discrete_sparse_covariates_results.std())"
   ]
  },
  {
   "cell_type": "markdown",
   "id": "54dd564b-29ee-4620-85d8-71423b86f833",
   "metadata": {},
   "source": [
    "#### Outcome Regression"
   ]
  },
  {
   "cell_type": "code",
   "execution_count": null,
   "id": "4dc3caa6-75a6-4194-a734-1dcbfefee4c2",
   "metadata": {},
   "outputs": [],
   "source": [
    "outcome_coeffs = {'ate': [], 'const': []}\n",
    "for i in range(NUM_ITER):\n",
    "    data = causl_py.generate_many_discrete_samples(N=NUM_SAMPLES, causal_params=CAUSAL_PARAMS, seed=i)\n",
    "    coeff_X, coeff_const = run_outcome_regression(data)\n",
    "    outcome_coeffs['ate'].append(coeff_X)\n",
    "    outcome_coeffs['const'].append(coeff_const)\n",
    "outcome_coeffs = pd.DataFrame.from_dict(outcome_coeffs)\n",
    "outcome_coeffs"
   ]
  },
  {
   "cell_type": "code",
   "execution_count": null,
   "id": "bc54d989-8629-4457-bc5e-3652a53514ff",
   "metadata": {},
   "outputs": [],
   "source": [
    "plt.figure(figsize=(12, 6))\n",
    "\n",
    "# Boxplot\n",
    "box = discrete_sparse_covariates_results.boxplot(column=[\"ate\", \"const\", \"scale\"], grid=False)\n",
    "\n",
    "# Adding lines for the true parameters\n",
    "plt.axhline(y=TRUE_PARAMS['ate'], color='r', linestyle='--', label='True ate')\n",
    "plt.axhline(y=TRUE_PARAMS['const'], color='g', linestyle='--', label='True const')\n",
    "plt.axhline(y=TRUE_PARAMS['scale'], color='b', linestyle='--', label='True scale')\n",
    "\n",
    "# Adding title and labels\n",
    "plt.title('Box and Whisker Plot for ATE, Const, and Scale')\n",
    "plt.ylabel('Values')\n",
    "plt.ylim([0.80, 1.20])\n",
    "plt.legend()"
   ]
  },
  {
   "cell_type": "code",
   "execution_count": null,
   "id": "43514040-3f1c-401b-9d97-0ec2be24999a",
   "metadata": {},
   "outputs": [],
   "source": []
  }
 ],
 "metadata": {
  "kernelspec": {
   "display_name": "Python 3 (ipykernel)",
   "language": "python",
   "name": "python3"
  },
  "language_info": {
   "codemirror_mode": {
    "name": "ipython",
    "version": 3
   },
   "file_extension": ".py",
   "mimetype": "text/x-python",
   "name": "python",
   "nbconvert_exporter": "python",
   "pygments_lexer": "ipython3",
   "version": "3.11.8"
  }
 },
 "nbformat": 4,
 "nbformat_minor": 5
}
