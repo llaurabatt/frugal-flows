{
 "cells": [
  {
   "cell_type": "markdown",
   "id": "f05dc14a-b9f6-4de9-8a36-524db299b21d",
   "metadata": {},
   "source": [
    "# Continous Frugal Flows\n",
    "\n",
    "In this notebook we demonstrate the ability for Frugal Flows to identify Marginal Causal Effects"
   ]
  },
  {
   "cell_type": "code",
   "execution_count": 42,
   "id": "1628a626-5ea2-4cf5-b80c-2c8876f38ec3",
   "metadata": {},
   "outputs": [],
   "source": [
    "import sys\n",
    "import os\n",
    "sys.path.append(\"../\") # go to parent dir\n",
    "\n",
    "import jax\n",
    "import jax.random as jr\n",
    "import jax.numpy as jnp\n",
    "import matplotlib.pyplot as plt\n",
    "import numpy as np\n",
    "import pandas as pd\n",
    "import scipy\n",
    "import numpy as np\n",
    "from scipy.stats import rankdata\n",
    "import scipy.stats as ss\n",
    "import statsmodels.api as sm\n",
    "import seaborn as sns\n",
    "from sklearn.model_selection import KFold\n",
    "\n",
    "# from data.create_sim_data import *\n",
    "import data.template_causl_simulations as causl_py\n",
    "from data.run_all_simulations import plot_simulation_results\n",
    "from frugal_flows.causal_flows import independent_continuous_marginal_flow, get_independent_quantiles, train_frugal_flow\n",
    "from frugal_flows.bijections import UnivariateNormalCDF\n",
    "\n",
    "import rpy2.robjects as ro\n",
    "from rpy2.robjects.packages import importr\n",
    "from rpy2.robjects import pandas2ri\n",
    "from rpy2.robjects.packages import SignatureTranslatedAnonymousPackage\n",
    "\n",
    "# Activate automatic conversion of rpy2 objects to pandas objects\n",
    "pandas2ri.activate()\n",
    "\n",
    "# Import the R library causl\n",
    "try:\n",
    "    causl = importr('causl')\n",
    "except Exception as e:\n",
    "    package_names = ('causl')\n",
    "    utils.install_packages(StrVector(package_names))\n",
    "\n",
    "jax.config.update(\"jax_enable_x64\", True)\n",
    "\n",
    "hyperparams_dict = {\n",
    "    'learning_rate': 1e-4,\n",
    "    'RQS_knots': 8,\n",
    "    'flow_layers': 5,\n",
    "    'nn_width': 30,\n",
    "    'nn_depth': 4,    \n",
    "    'max_patience': 50,\n",
    "    'max_epochs': 10000\n",
    "}\n",
    "causal_hyperparams = {\n",
    "    'RQS_knots': 8,\n",
    "    'flow_layers': 5,\n",
    "    'nn_width': 50,\n",
    "    'nn_depth': 4,   \n",
    "}\n",
    "\n",
    "SEED = 1\n",
    "NUM_ITER = 1\n",
    "NUM_SAMPLES = 5000\n",
    "TRUE_PARAMS = {'ate': 1, 'const': 0, 'scale': 1}\n",
    "CAUSAL_PARAMS = [0, 1]"
   ]
  },
  {
   "cell_type": "code",
   "execution_count": 2,
   "id": "024836f0-db4c-43b1-9271-f95470484778",
   "metadata": {},
   "outputs": [],
   "source": [
    "def run_outcome_regression(data):\n",
    "    df = pd.DataFrame(jnp.hstack([data['Y'], data['X']]), columns=['X', 'Y'])\n",
    "    df['X'] = data['X']\n",
    "    df['Y'] = data['Y']\n",
    "    X_vars = df['X']\n",
    "    X_vars = sm.add_constant(X_vars)\n",
    "    Y_var = df['Y']\n",
    "    model = sm.OLS(Y_var, X_vars).fit()\n",
    "    coefficient_X = model.params['X']\n",
    "    coefficient_const = model.params['const']\n",
    "    return coefficient_X, coefficient_const"
   ]
  },
  {
   "cell_type": "markdown",
   "id": "b6136417-f7d2-4a91-ab9f-4da293e82925",
   "metadata": {},
   "source": [
    "## Checking for the Causal Effect"
   ]
  },
  {
   "cell_type": "markdown",
   "id": "d52f9ceb-2918-4e27-a9f7-8a1e90e30d41",
   "metadata": {},
   "source": [
    "### Gaussians"
   ]
  },
  {
   "cell_type": "markdown",
   "id": "cc58c1bf-6de1-47eb-b2b2-2b4afe6c373a",
   "metadata": {},
   "source": [
    "#### Frugal Flow"
   ]
  },
  {
   "cell_type": "code",
   "execution_count": 3,
   "id": "a136574c-cbba-4c24-91e1-eec5f584d48b",
   "metadata": {},
   "outputs": [
    {
     "name": "stderr",
     "output_type": "stream",
     "text": [
      "  1%|█                                                                                              | 117/10000 [00:59<1:23:57,  1.96it/s, train=-1.687577003070351, val=-1.6510666123803666 (Max patience reached)]\n",
      "  1%|█                                                                                               | 110/10000 [00:52<1:19:12,  2.08it/s, train=-1.69156717131794, val=-1.5567285413991765 (Max patience reached)]\n",
      "  1%|█▎                                                                                            | 143/10000 [01:10<1:20:50,  2.03it/s, train=-1.7504870388151028, val=-1.5671068323732231 (Max patience reached)]\n",
      "  1%|█                                                                                             | 110/10000 [00:52<1:18:11,  2.11it/s, train=-1.6880699336867613, val=-1.5905025246768993 (Max patience reached)]\n",
      "  1%|█▎                                                                                            | 139/10000 [01:06<1:18:41,  2.09it/s, train=-1.7215079579936157, val=-1.5749206772323743 (Max patience reached)]\n",
      "  1%|▉                                                                                             | 105/10000 [00:51<1:20:48,  2.04it/s, train=-1.6844233758207805, val=-1.6147686984947245 (Max patience reached)]\n",
      "  2%|█▍                                                                                            | 159/10000 [01:17<1:19:41,  2.06it/s, train=-1.7311847990610238, val=-1.4773380637092983 (Max patience reached)]\n",
      "  1%|▉                                                                                             | 104/10000 [00:51<1:21:32,  2.02it/s, train=-1.6784456117720974, val=-1.4087031837201167 (Max patience reached)]\n",
      "  1%|█▏                                                                                            | 122/10000 [01:03<1:26:15,  1.91it/s, train=-1.6816945345201013, val=-1.5793953915742986 (Max patience reached)]\n",
      "  1%|█▏                                                                                            | 132/10000 [01:08<1:24:44,  1.94it/s, train=-1.6883057150339513, val=-1.5791804973147907 (Max patience reached)]\n"
     ]
    }
   ],
   "source": [
    "gaussian_covariates_results = causl_py.run_simulations(\n",
    "    causl_py.generate_gaussian_samples, \n",
    "    seed=SEED, \n",
    "    num_samples=NUM_SAMPLES, \n",
    "    num_iter=NUM_ITER, \n",
    "    causal_params=CAUSAL_PARAMS,\n",
    "    hyperparams_dict=hyperparams_dict,\n",
    "    causal_model_args={'ate': 0., 'const': 1., 'scale': 1}\n",
    ")"
   ]
  },
  {
   "cell_type": "code",
   "execution_count": 4,
   "id": "ae40f9cd-e3ac-4430-ba25-18f14805c040",
   "metadata": {},
   "outputs": [
    {
     "data": {
      "text/html": [
       "<div>\n",
       "<style scoped>\n",
       "    .dataframe tbody tr th:only-of-type {\n",
       "        vertical-align: middle;\n",
       "    }\n",
       "\n",
       "    .dataframe tbody tr th {\n",
       "        vertical-align: top;\n",
       "    }\n",
       "\n",
       "    .dataframe thead th {\n",
       "        text-align: right;\n",
       "    }\n",
       "</style>\n",
       "<table border=\"1\" class=\"dataframe\">\n",
       "  <thead>\n",
       "    <tr style=\"text-align: right;\">\n",
       "      <th></th>\n",
       "      <th>ate</th>\n",
       "      <th>const</th>\n",
       "      <th>scale</th>\n",
       "    </tr>\n",
       "  </thead>\n",
       "  <tbody>\n",
       "    <tr>\n",
       "      <th>0</th>\n",
       "      <td>0.952395</td>\n",
       "      <td>0.031008</td>\n",
       "      <td>1.019578</td>\n",
       "    </tr>\n",
       "    <tr>\n",
       "      <th>1</th>\n",
       "      <td>0.941517</td>\n",
       "      <td>0.059257</td>\n",
       "      <td>1.018826</td>\n",
       "    </tr>\n",
       "    <tr>\n",
       "      <th>2</th>\n",
       "      <td>1.004927</td>\n",
       "      <td>-0.003865</td>\n",
       "      <td>1.018104</td>\n",
       "    </tr>\n",
       "    <tr>\n",
       "      <th>3</th>\n",
       "      <td>0.947553</td>\n",
       "      <td>0.054648</td>\n",
       "      <td>1.025606</td>\n",
       "    </tr>\n",
       "    <tr>\n",
       "      <th>4</th>\n",
       "      <td>1.005962</td>\n",
       "      <td>0.014697</td>\n",
       "      <td>0.994957</td>\n",
       "    </tr>\n",
       "    <tr>\n",
       "      <th>5</th>\n",
       "      <td>0.929507</td>\n",
       "      <td>0.046192</td>\n",
       "      <td>1.037305</td>\n",
       "    </tr>\n",
       "    <tr>\n",
       "      <th>6</th>\n",
       "      <td>0.984675</td>\n",
       "      <td>0.019498</td>\n",
       "      <td>1.015737</td>\n",
       "    </tr>\n",
       "    <tr>\n",
       "      <th>7</th>\n",
       "      <td>0.949269</td>\n",
       "      <td>0.058575</td>\n",
       "      <td>1.023221</td>\n",
       "    </tr>\n",
       "    <tr>\n",
       "      <th>8</th>\n",
       "      <td>0.991620</td>\n",
       "      <td>-0.017333</td>\n",
       "      <td>1.007205</td>\n",
       "    </tr>\n",
       "    <tr>\n",
       "      <th>9</th>\n",
       "      <td>1.025170</td>\n",
       "      <td>-0.007617</td>\n",
       "      <td>1.006499</td>\n",
       "    </tr>\n",
       "  </tbody>\n",
       "</table>\n",
       "</div>"
      ],
      "text/plain": [
       "        ate     const     scale\n",
       "0  0.952395  0.031008  1.019578\n",
       "1  0.941517  0.059257  1.018826\n",
       "2  1.004927 -0.003865  1.018104\n",
       "3  0.947553  0.054648  1.025606\n",
       "4  1.005962  0.014697  0.994957\n",
       "5  0.929507  0.046192  1.037305\n",
       "6  0.984675  0.019498  1.015737\n",
       "7  0.949269  0.058575  1.023221\n",
       "8  0.991620 -0.017333  1.007205\n",
       "9  1.025170 -0.007617  1.006499"
      ]
     },
     "execution_count": 4,
     "metadata": {},
     "output_type": "execute_result"
    }
   ],
   "source": [
    "gaussian_covariates_results"
   ]
  },
  {
   "cell_type": "code",
   "execution_count": 5,
   "id": "c87ec959-d25b-4713-b24f-2a0bd860eaed",
   "metadata": {},
   "outputs": [
    {
     "data": {
      "text/plain": [
       "ate      0.973260\n",
       "const    0.025506\n",
       "scale    1.016704\n",
       "dtype: float64"
      ]
     },
     "metadata": {},
     "output_type": "display_data"
    },
    {
     "data": {
      "text/plain": [
       "ate      0.033045\n",
       "const    0.028845\n",
       "scale    0.011686\n",
       "dtype: float64"
      ]
     },
     "metadata": {},
     "output_type": "display_data"
    }
   ],
   "source": [
    "display(gaussian_covariates_results.mean())\n",
    "display(gaussian_covariates_results.std())"
   ]
  },
  {
   "cell_type": "code",
   "execution_count": 6,
   "id": "0ad888c7-26e9-43e0-8942-2a8b2231f13c",
   "metadata": {},
   "outputs": [
    {
     "data": {
      "text/plain": [
       "<matplotlib.legend.Legend at 0x36e4a2410>"
      ]
     },
     "execution_count": 6,
     "metadata": {},
     "output_type": "execute_result"
    },
    {
     "data": {
      "image/png": "[encoded data removed]",
      "text/plain": [
       "<Figure size 1200x600 with 1 Axes>"
      ]
     },
     "metadata": {},
     "output_type": "display_data"
    }
   ],
   "source": [
    "plt.figure(figsize=(12, 6))\n",
    "\n",
    "# Boxplot\n",
    "box = gaussian_covariates_results.boxplot(column=[\"ate\", \"const\", \"scale\"], grid=False)\n",
    "\n",
    "# Adding lines for the true parameters\n",
    "plt.axhline(y=TRUE_PARAMS['ate'], color='r', linestyle='--', label='True ate')\n",
    "plt.axhline(y=TRUE_PARAMS['const'], color='g', linestyle='--', label='True const')\n",
    "plt.axhline(y=TRUE_PARAMS['scale'], color='b', linestyle='--', label='True scale')\n",
    "\n",
    "# Adding title and labels\n",
    "plt.title('Box and Whisker Plot for ATE, Const, and Scale')\n",
    "plt.ylabel('Values')\n",
    "plt.ylim([0.80, 1.20])\n",
    "plt.legend()"
   ]
  },
  {
   "cell_type": "markdown",
   "id": "f1d441a3-1d98-4c9d-bd3c-ebc3f0b5c20f",
   "metadata": {},
   "source": [
    "#### Outcome Regression"
   ]
  },
  {
   "cell_type": "code",
   "execution_count": 7,
   "id": "9b28afaf-719e-4618-834a-eac0b85fbc87",
   "metadata": {},
   "outputs": [
    {
     "data": {
      "text/html": [
       "<div>\n",
       "<style scoped>\n",
       "    .dataframe tbody tr th:only-of-type {\n",
       "        vertical-align: middle;\n",
       "    }\n",
       "\n",
       "    .dataframe tbody tr th {\n",
       "        vertical-align: top;\n",
       "    }\n",
       "\n",
       "    .dataframe thead th {\n",
       "        text-align: right;\n",
       "    }\n",
       "</style>\n",
       "<table border=\"1\" class=\"dataframe\">\n",
       "  <thead>\n",
       "    <tr style=\"text-align: right;\">\n",
       "      <th></th>\n",
       "      <th>ate</th>\n",
       "      <th>const</th>\n",
       "    </tr>\n",
       "  </thead>\n",
       "  <tbody>\n",
       "    <tr>\n",
       "      <th>0</th>\n",
       "      <td>2.031925</td>\n",
       "      <td>-0.725165</td>\n",
       "    </tr>\n",
       "    <tr>\n",
       "      <th>1</th>\n",
       "      <td>2.020742</td>\n",
       "      <td>-0.721228</td>\n",
       "    </tr>\n",
       "    <tr>\n",
       "      <th>2</th>\n",
       "      <td>2.041646</td>\n",
       "      <td>-0.727061</td>\n",
       "    </tr>\n",
       "    <tr>\n",
       "      <th>3</th>\n",
       "      <td>2.018806</td>\n",
       "      <td>-0.706405</td>\n",
       "    </tr>\n",
       "    <tr>\n",
       "      <th>4</th>\n",
       "      <td>1.989711</td>\n",
       "      <td>-0.705807</td>\n",
       "    </tr>\n",
       "    <tr>\n",
       "      <th>5</th>\n",
       "      <td>2.051059</td>\n",
       "      <td>-0.733319</td>\n",
       "    </tr>\n",
       "    <tr>\n",
       "      <th>6</th>\n",
       "      <td>1.990568</td>\n",
       "      <td>-0.711508</td>\n",
       "    </tr>\n",
       "    <tr>\n",
       "      <th>7</th>\n",
       "      <td>2.007042</td>\n",
       "      <td>-0.702561</td>\n",
       "    </tr>\n",
       "    <tr>\n",
       "      <th>8</th>\n",
       "      <td>2.023868</td>\n",
       "      <td>-0.734764</td>\n",
       "    </tr>\n",
       "    <tr>\n",
       "      <th>9</th>\n",
       "      <td>2.069247</td>\n",
       "      <td>-0.750604</td>\n",
       "    </tr>\n",
       "  </tbody>\n",
       "</table>\n",
       "</div>"
      ],
      "text/plain": [
       "        ate     const\n",
       "0  2.031925 -0.725165\n",
       "1  2.020742 -0.721228\n",
       "2  2.041646 -0.727061\n",
       "3  2.018806 -0.706405\n",
       "4  1.989711 -0.705807\n",
       "5  2.051059 -0.733319\n",
       "6  1.990568 -0.711508\n",
       "7  2.007042 -0.702561\n",
       "8  2.023868 -0.734764\n",
       "9  2.069247 -0.750604"
      ]
     },
     "execution_count": 7,
     "metadata": {},
     "output_type": "execute_result"
    }
   ],
   "source": [
    "gaussian_coeffs = {'ate': [], 'const': []}\n",
    "for i in range(NUM_ITER):\n",
    "    data = causl_py.generate_gaussian_samples(N=NUM_SAMPLES, causal_params=CAUSAL_PARAMS, seed=i)\n",
    "    coeff_X, coeff_const = run_outcome_regression(data)\n",
    "    gaussian_coeffs['ate'].append(coeff_X)\n",
    "    gaussian_coeffs['const'].append(coeff_const)\n",
    "gaussian_outcome_coeffs = pd.DataFrame.from_dict(gaussian_coeffs)\n",
    "gaussian_outcome_coeffs"
   ]
  },
  {
   "cell_type": "code",
   "execution_count": 8,
   "id": "532559d4-63e2-45c1-8657-9326dc549354",
   "metadata": {},
   "outputs": [
    {
     "name": "stdout",
     "output_type": "stream",
     "text": [
      "ate      2.024461\n",
      "const   -0.721842\n",
      "dtype: float64\n",
      "ate      0.025320\n",
      "const    0.015415\n",
      "dtype: float64\n"
     ]
    }
   ],
   "source": [
    "print(gaussian_outcome_coeffs.mean())\n",
    "print(gaussian_outcome_coeffs.std())"
   ]
  },
  {
   "cell_type": "markdown",
   "id": "ba9dcb71-a33c-4a2a-b6da-c418772a9dca",
   "metadata": {},
   "source": [
    "### Mixed Gaussian and Gamma Outcomes"
   ]
  },
  {
   "cell_type": "code",
   "execution_count": 29,
   "id": "7d95c6e9-0762-4084-8994-30d37803d0e3",
   "metadata": {},
   "outputs": [],
   "source": [
    "Z_disc, Z_cont, X, Y = causl_py.generate_mixed_samples(10000, CAUSAL_PARAMS, 0).values()"
   ]
  },
  {
   "cell_type": "code",
   "execution_count": 30,
   "id": "1e1469be-3697-415b-a3e9-d04431559db8",
   "metadata": {},
   "outputs": [],
   "source": [
    "uz_samples = causl_py.generate_uz_samples(Z_cont=Z_cont, use_marginal_flow=False, seed=0, frugal_flow_hyperparams=hyperparams_dict)"
   ]
  },
  {
   "cell_type": "code",
   "execution_count": 31,
   "id": "61a772b4-dbf9-48b6-b6df-6dd64b820fe4",
   "metadata": {},
   "outputs": [],
   "source": [
    "uz_disc_samples = uz_samples['uz_disc']\n",
    "uz_cont_samples = uz_samples['uz_cont']"
   ]
  },
  {
   "cell_type": "code",
   "execution_count": 43,
   "id": "377b7c9f-fdd8-4187-ba88-274cbf41b9c5",
   "metadata": {},
   "outputs": [
    {
     "name": "stderr",
     "output_type": "stream",
     "text": [
      "  3%|███▎                                                                                             | 346/10000 [02:20<1:05:08,  2.47it/s, train=1.337391570761044, val=1.3766697983619065 (Max patience reached)]\n"
     ]
    }
   ],
   "source": [
    "frugal_flow, losses = causl_py.train_frugal_flow(\n",
    "    key=jr.PRNGKey(0),\n",
    "    y=Y,\n",
    "    u_z=uz_cont_samples,\n",
    "    condition=X,\n",
    "    **hyperparams_dict,\n",
    "    causal_model='gaussian',\n",
    "    causal_model_args={'ate': 0., 'const': 0., 'scale': 1}\n",
    ")"
   ]
  },
  {
   "cell_type": "code",
   "execution_count": 44,
   "id": "90427a47-41ef-410c-a961-5a30a7f738e2",
   "metadata": {},
   "outputs": [],
   "source": [
    "causal_margin = frugal_flow.bijection.bijections[-1].bijection.bijections[0]"
   ]
  },
  {
   "cell_type": "code",
   "execution_count": 46,
   "id": "4b5d8bb9-c36d-4e38-ad7b-98df62db68cc",
   "metadata": {},
   "outputs": [
    {
     "data": {
      "text/plain": [
       "Array(0.68690468, dtype=float64)"
      ]
     },
     "execution_count": 46,
     "metadata": {},
     "output_type": "execute_result"
    }
   ],
   "source": [
    "causal_margin.ate"
   ]
  },
  {
   "cell_type": "code",
   "execution_count": 47,
   "id": "8034bb27-6674-4f8f-b022-f727c894a954",
   "metadata": {},
   "outputs": [
    {
     "data": {
      "text/plain": [
       "Array(0.31462514, dtype=float64)"
      ]
     },
     "execution_count": 47,
     "metadata": {},
     "output_type": "execute_result"
    }
   ],
   "source": [
    "causal_margin.const"
   ]
  },
  {
   "cell_type": "code",
   "execution_count": 5,
   "id": "a92adc2c-236e-4f3a-b575-5491fc244bc9",
   "metadata": {},
   "outputs": [
    {
     "name": "stderr",
     "output_type": "stream",
     "text": [
      "  1%|▋                                                                                                | 70/10000 [01:10<2:47:41,  1.01s/it, train=1.3112803863048401, val=1.4430655319829626 (Max patience reached)]"
     ]
    },
    {
     "name": "stdout",
     "output_type": "stream",
     "text": [
      "[array([0.61877404, 0.35233238, 1.00316714])]\n"
     ]
    },
    {
     "name": "stderr",
     "output_type": "stream",
     "text": [
      "\n"
     ]
    }
   ],
   "source": [
    "continous_covariates_results = causl_py.run_simulations(\n",
    "    causl_py.generate_mixed_samples, \n",
    "    seed=SEED, \n",
    "    num_samples=NUM_SAMPLES, \n",
    "    num_iter=NUM_ITER, \n",
    "    causal_params=CAUSAL_PARAMS,\n",
    "    hyperparams_dict=hyperparams_dict,\n",
    "    causal_model_args={'ate': 1., 'const': 1., 'scale': 1}\n",
    ")"
   ]
  },
  {
   "cell_type": "code",
   "execution_count": 6,
   "id": "1e29818a-ddb4-4f56-9d11-1fb4bd752d35",
   "metadata": {},
   "outputs": [
    {
     "data": {
      "text/html": [
       "<div>\n",
       "<style scoped>\n",
       "    .dataframe tbody tr th:only-of-type {\n",
       "        vertical-align: middle;\n",
       "    }\n",
       "\n",
       "    .dataframe tbody tr th {\n",
       "        vertical-align: top;\n",
       "    }\n",
       "\n",
       "    .dataframe thead th {\n",
       "        text-align: right;\n",
       "    }\n",
       "</style>\n",
       "<table border=\"1\" class=\"dataframe\">\n",
       "  <thead>\n",
       "    <tr style=\"text-align: right;\">\n",
       "      <th></th>\n",
       "      <th>ate</th>\n",
       "      <th>const</th>\n",
       "      <th>scale</th>\n",
       "    </tr>\n",
       "  </thead>\n",
       "  <tbody>\n",
       "    <tr>\n",
       "      <th>0</th>\n",
       "      <td>0.618774</td>\n",
       "      <td>0.352332</td>\n",
       "      <td>1.003167</td>\n",
       "    </tr>\n",
       "  </tbody>\n",
       "</table>\n",
       "</div>"
      ],
      "text/plain": [
       "        ate     const     scale\n",
       "0  0.618774  0.352332  1.003167"
      ]
     },
     "execution_count": 6,
     "metadata": {},
     "output_type": "execute_result"
    }
   ],
   "source": [
    "continous_covariates_results"
   ]
  },
  {
   "cell_type": "code",
   "execution_count": 11,
   "id": "afe5e95e-facb-4f70-9504-b3563aff44d4",
   "metadata": {},
   "outputs": [
    {
     "name": "stdout",
     "output_type": "stream",
     "text": [
      "ate      0.647032\n",
      "const    0.352714\n",
      "scale    1.027375\n",
      "dtype: float64\n",
      "ate      0.099384\n",
      "const    0.105362\n",
      "scale    0.008016\n",
      "dtype: float64\n"
     ]
    }
   ],
   "source": [
    "print(continous_covariates_results.mean())\n",
    "print(continous_covariates_results.std())"
   ]
  },
  {
   "cell_type": "markdown",
   "id": "b7a1c159-5441-4ed7-8890-be515f80fde7",
   "metadata": {},
   "source": [
    "#### Outcome Regression"
   ]
  },
  {
   "cell_type": "code",
   "execution_count": 12,
   "id": "fb4daed3-c646-4d59-a219-e8131ff04332",
   "metadata": {},
   "outputs": [
    {
     "data": {
      "text/html": [
       "<div>\n",
       "<style scoped>\n",
       "    .dataframe tbody tr th:only-of-type {\n",
       "        vertical-align: middle;\n",
       "    }\n",
       "\n",
       "    .dataframe tbody tr th {\n",
       "        vertical-align: top;\n",
       "    }\n",
       "\n",
       "    .dataframe thead th {\n",
       "        text-align: right;\n",
       "    }\n",
       "</style>\n",
       "<table border=\"1\" class=\"dataframe\">\n",
       "  <thead>\n",
       "    <tr style=\"text-align: right;\">\n",
       "      <th></th>\n",
       "      <th>ate</th>\n",
       "      <th>const</th>\n",
       "    </tr>\n",
       "  </thead>\n",
       "  <tbody>\n",
       "    <tr>\n",
       "      <th>0</th>\n",
       "      <td>2.453920</td>\n",
       "      <td>-1.426143</td>\n",
       "    </tr>\n",
       "    <tr>\n",
       "      <th>1</th>\n",
       "      <td>2.492001</td>\n",
       "      <td>-1.473425</td>\n",
       "    </tr>\n",
       "    <tr>\n",
       "      <th>2</th>\n",
       "      <td>2.530464</td>\n",
       "      <td>-1.493039</td>\n",
       "    </tr>\n",
       "    <tr>\n",
       "      <th>3</th>\n",
       "      <td>2.453804</td>\n",
       "      <td>-1.421090</td>\n",
       "    </tr>\n",
       "    <tr>\n",
       "      <th>4</th>\n",
       "      <td>2.410332</td>\n",
       "      <td>-1.403766</td>\n",
       "    </tr>\n",
       "    <tr>\n",
       "      <th>5</th>\n",
       "      <td>2.475346</td>\n",
       "      <td>-1.442975</td>\n",
       "    </tr>\n",
       "    <tr>\n",
       "      <th>6</th>\n",
       "      <td>2.272801</td>\n",
       "      <td>-1.267771</td>\n",
       "    </tr>\n",
       "    <tr>\n",
       "      <th>7</th>\n",
       "      <td>2.463572</td>\n",
       "      <td>-1.435156</td>\n",
       "    </tr>\n",
       "    <tr>\n",
       "      <th>8</th>\n",
       "      <td>2.511591</td>\n",
       "      <td>-1.491610</td>\n",
       "    </tr>\n",
       "    <tr>\n",
       "      <th>9</th>\n",
       "      <td>2.373293</td>\n",
       "      <td>-1.339113</td>\n",
       "    </tr>\n",
       "  </tbody>\n",
       "</table>\n",
       "</div>"
      ],
      "text/plain": [
       "        ate     const\n",
       "0  2.453920 -1.426143\n",
       "1  2.492001 -1.473425\n",
       "2  2.530464 -1.493039\n",
       "3  2.453804 -1.421090\n",
       "4  2.410332 -1.403766\n",
       "5  2.475346 -1.442975\n",
       "6  2.272801 -1.267771\n",
       "7  2.463572 -1.435156\n",
       "8  2.511591 -1.491610\n",
       "9  2.373293 -1.339113"
      ]
     },
     "execution_count": 12,
     "metadata": {},
     "output_type": "execute_result"
    }
   ],
   "source": [
    "outcome_coeffs = {'ate': [], 'const': []}\n",
    "for i in range(NUM_ITER):\n",
    "    data = causl_py.generate_mixed_samples(N=NUM_SAMPLES, causal_params=CAUSAL_PARAMS, seed=i)\n",
    "    coeff_X, coeff_const = run_outcome_regression(data)\n",
    "    outcome_coeffs['ate'].append(coeff_X)\n",
    "    outcome_coeffs['const'].append(coeff_const)\n",
    "outcome_coeffs = pd.DataFrame.from_dict(outcome_coeffs)\n",
    "outcome_coeffs"
   ]
  },
  {
   "cell_type": "code",
   "execution_count": 13,
   "id": "1f98eee7-e37c-49dd-b671-7f467f246822",
   "metadata": {},
   "outputs": [
    {
     "name": "stdout",
     "output_type": "stream",
     "text": [
      "ate      2.443712\n",
      "const   -1.419409\n",
      "dtype: float64\n",
      "ate      0.075535\n",
      "const    0.069992\n",
      "dtype: float64\n"
     ]
    }
   ],
   "source": [
    "print(outcome_coeffs.mean())\n",
    "print(outcome_coeffs.std())"
   ]
  },
  {
   "cell_type": "code",
   "execution_count": 14,
   "id": "2ce3d31b-b7ba-4efd-b736-7d48eeaf4ce8",
   "metadata": {},
   "outputs": [
    {
     "data": {
      "text/plain": [
       "<matplotlib.legend.Legend at 0x37b895d10>"
      ]
     },
     "execution_count": 14,
     "metadata": {},
     "output_type": "execute_result"
    },
    {
     "data": {
      "image/png": "[encoded data removed]",
      "text/plain": [
       "<Figure size 1200x600 with 1 Axes>"
      ]
     },
     "metadata": {},
     "output_type": "display_data"
    }
   ],
   "source": [
    "plt.figure(figsize=(12, 6))\n",
    "\n",
    "# Boxplot\n",
    "box = continous_covariates_results.boxplot(column=[\"ate\", \"const\", \"scale\"], grid=False)\n",
    "\n",
    "# Adding lines for the true parameters\n",
    "plt.axhline(y=TRUE_PARAMS['ate'], color='r', linestyle='--', label='True ate')\n",
    "plt.axhline(y=TRUE_PARAMS['const'], color='g', linestyle='--', label='True const')\n",
    "plt.axhline(y=TRUE_PARAMS['scale'], color='b', linestyle='--', label='True scale')\n",
    "\n",
    "# Adding title and labels\n",
    "plt.title('Box and Whisker Plot for ATE, Const, and Scale')\n",
    "plt.ylabel('Values')\n",
    "plt.ylim([0.80, 1.20])\n",
    "plt.legend()"
   ]
  },
  {
   "cell_type": "markdown",
   "id": "9e92ce2d-e11d-4d53-96df-6481da5b2401",
   "metadata": {},
   "source": [
    "### Mixed Continuous and Discrete (Small)"
   ]
  },
  {
   "cell_type": "code",
   "execution_count": 15,
   "id": "29615df2-8aaa-441d-9e7e-1f2f0c5dacdf",
   "metadata": {},
   "outputs": [
    {
     "name": "stderr",
     "output_type": "stream",
     "text": [
      "  1%|▋                                                                                                | 75/10000 [00:38<1:24:05,  1.97it/s, train=1.2715281714764601, val=1.5177269089004537 (Max patience reached)]\n",
      "  1%|▋                                                                                                 | 67/10000 [00:34<1:25:07,  1.94it/s, train=1.298795155484638, val=1.4455330596821783 (Max patience reached)]\n",
      "  1%|▋                                                                                                | 76/10000 [00:38<1:23:37,  1.98it/s, train=1.2552777028585378, val=1.4459759847166547 (Max patience reached)]\n",
      "  1%|▊                                                                                                  | 78/10000 [00:40<1:26:02,  1.92it/s, train=1.26980686643121, val=1.4818702116135147 (Max patience reached)]\n",
      "  1%|▋                                                                                                | 75/10000 [00:40<1:28:24,  1.87it/s, train=1.2649906090846632, val=1.4726436573128376 (Max patience reached)]\n",
      "  1%|▋                                                                                                 | 71/10000 [00:37<1:26:19,  1.92it/s, train=1.267111436842436, val=1.4550823484396125 (Max patience reached)]\n",
      "  1%|▋                                                                                                 | 73/10000 [00:36<1:23:23,  1.98it/s, train=1.281961924007065, val=1.4642001139845255 (Max patience reached)]\n",
      "  1%|▋                                                                                                  | 71/10000 [00:36<1:25:41,  1.93it/s, train=1.277623042215078, val=1.480369470269482 (Max patience reached)]\n",
      "  1%|▋                                                                                                 | 69/10000 [00:36<1:28:28,  1.87it/s, train=1.2852798818708457, val=1.471644640042884 (Max patience reached)]\n",
      "  1%|▊                                                                                                | 86/10000 [00:45<1:26:48,  1.90it/s, train=1.2712199351031772, val=1.4764220801014698 (Max patience reached)]\n"
     ]
    }
   ],
   "source": [
    "discrete_small_covariates_results = causl_py.run_simulations(\n",
    "    causl_py.generate_discrete_samples, \n",
    "    seed=SEED, \n",
    "    num_samples=NUM_SAMPLES, \n",
    "    num_iter=NUM_ITER, \n",
    "    causal_params=CAUSAL_PARAMS,\n",
    "    hyperparams_dict=hyperparams_dict,\n",
    "    causal_model_args={'ate': 0., 'const': 1., 'scale': 1}\n",
    ")"
   ]
  },
  {
   "cell_type": "code",
   "execution_count": 16,
   "id": "ba2d08c5-9ebd-40ec-844a-219c5eb5a079",
   "metadata": {},
   "outputs": [
    {
     "data": {
      "text/html": [
       "<div>\n",
       "<style scoped>\n",
       "    .dataframe tbody tr th:only-of-type {\n",
       "        vertical-align: middle;\n",
       "    }\n",
       "\n",
       "    .dataframe tbody tr th {\n",
       "        vertical-align: top;\n",
       "    }\n",
       "\n",
       "    .dataframe thead th {\n",
       "        text-align: right;\n",
       "    }\n",
       "</style>\n",
       "<table border=\"1\" class=\"dataframe\">\n",
       "  <thead>\n",
       "    <tr style=\"text-align: right;\">\n",
       "      <th></th>\n",
       "      <th>ate</th>\n",
       "      <th>const</th>\n",
       "      <th>scale</th>\n",
       "    </tr>\n",
       "  </thead>\n",
       "  <tbody>\n",
       "    <tr>\n",
       "      <th>0</th>\n",
       "      <td>0.902173</td>\n",
       "      <td>0.060606</td>\n",
       "      <td>0.997796</td>\n",
       "    </tr>\n",
       "    <tr>\n",
       "      <th>1</th>\n",
       "      <td>0.749413</td>\n",
       "      <td>0.161561</td>\n",
       "      <td>1.018782</td>\n",
       "    </tr>\n",
       "    <tr>\n",
       "      <th>2</th>\n",
       "      <td>0.874724</td>\n",
       "      <td>0.056250</td>\n",
       "      <td>0.988797</td>\n",
       "    </tr>\n",
       "    <tr>\n",
       "      <th>3</th>\n",
       "      <td>0.895951</td>\n",
       "      <td>0.053902</td>\n",
       "      <td>1.008424</td>\n",
       "    </tr>\n",
       "    <tr>\n",
       "      <th>4</th>\n",
       "      <td>0.898563</td>\n",
       "      <td>0.067606</td>\n",
       "      <td>1.007185</td>\n",
       "    </tr>\n",
       "    <tr>\n",
       "      <th>5</th>\n",
       "      <td>0.811648</td>\n",
       "      <td>0.104103</td>\n",
       "      <td>1.003270</td>\n",
       "    </tr>\n",
       "    <tr>\n",
       "      <th>6</th>\n",
       "      <td>0.886772</td>\n",
       "      <td>0.074704</td>\n",
       "      <td>1.006635</td>\n",
       "    </tr>\n",
       "    <tr>\n",
       "      <th>7</th>\n",
       "      <td>0.802862</td>\n",
       "      <td>0.117333</td>\n",
       "      <td>1.016233</td>\n",
       "    </tr>\n",
       "    <tr>\n",
       "      <th>8</th>\n",
       "      <td>0.794933</td>\n",
       "      <td>0.135381</td>\n",
       "      <td>1.007172</td>\n",
       "    </tr>\n",
       "    <tr>\n",
       "      <th>9</th>\n",
       "      <td>0.963911</td>\n",
       "      <td>0.021744</td>\n",
       "      <td>1.013845</td>\n",
       "    </tr>\n",
       "  </tbody>\n",
       "</table>\n",
       "</div>"
      ],
      "text/plain": [
       "        ate     const     scale\n",
       "0  0.902173  0.060606  0.997796\n",
       "1  0.749413  0.161561  1.018782\n",
       "2  0.874724  0.056250  0.988797\n",
       "3  0.895951  0.053902  1.008424\n",
       "4  0.898563  0.067606  1.007185\n",
       "5  0.811648  0.104103  1.003270\n",
       "6  0.886772  0.074704  1.006635\n",
       "7  0.802862  0.117333  1.016233\n",
       "8  0.794933  0.135381  1.007172\n",
       "9  0.963911  0.021744  1.013845"
      ]
     },
     "execution_count": 16,
     "metadata": {},
     "output_type": "execute_result"
    }
   ],
   "source": [
    "discrete_small_covariates_results"
   ]
  },
  {
   "cell_type": "code",
   "execution_count": 17,
   "id": "5e25a9b3-1a2e-4acf-af87-3757337a5877",
   "metadata": {},
   "outputs": [
    {
     "name": "stdout",
     "output_type": "stream",
     "text": [
      "ate      0.858095\n",
      "const    0.085319\n",
      "scale    1.006814\n",
      "dtype: float64\n",
      "ate      0.065251\n",
      "const    0.042957\n",
      "scale    0.008837\n",
      "dtype: float64\n"
     ]
    }
   ],
   "source": [
    "print(discrete_small_covariates_results.mean())\n",
    "print(discrete_small_covariates_results.std())"
   ]
  },
  {
   "cell_type": "markdown",
   "id": "e666a6e5-a855-487f-b55a-55610648f9ae",
   "metadata": {},
   "source": [
    "#### Outcome Regression"
   ]
  },
  {
   "cell_type": "code",
   "execution_count": 18,
   "id": "3f9a4475-43bf-4bf4-8dde-3e552eb16ca2",
   "metadata": {},
   "outputs": [
    {
     "data": {
      "text/html": [
       "<div>\n",
       "<style scoped>\n",
       "    .dataframe tbody tr th:only-of-type {\n",
       "        vertical-align: middle;\n",
       "    }\n",
       "\n",
       "    .dataframe tbody tr th {\n",
       "        vertical-align: top;\n",
       "    }\n",
       "\n",
       "    .dataframe thead th {\n",
       "        text-align: right;\n",
       "    }\n",
       "</style>\n",
       "<table border=\"1\" class=\"dataframe\">\n",
       "  <thead>\n",
       "    <tr style=\"text-align: right;\">\n",
       "      <th></th>\n",
       "      <th>ate</th>\n",
       "      <th>const</th>\n",
       "    </tr>\n",
       "  </thead>\n",
       "  <tbody>\n",
       "    <tr>\n",
       "      <th>0</th>\n",
       "      <td>1.030409</td>\n",
       "      <td>-0.010012</td>\n",
       "    </tr>\n",
       "    <tr>\n",
       "      <th>1</th>\n",
       "      <td>1.009222</td>\n",
       "      <td>-0.006195</td>\n",
       "    </tr>\n",
       "    <tr>\n",
       "      <th>2</th>\n",
       "      <td>0.966494</td>\n",
       "      <td>0.005907</td>\n",
       "    </tr>\n",
       "    <tr>\n",
       "      <th>3</th>\n",
       "      <td>1.014426</td>\n",
       "      <td>-0.005735</td>\n",
       "    </tr>\n",
       "    <tr>\n",
       "      <th>4</th>\n",
       "      <td>1.017109</td>\n",
       "      <td>-0.009507</td>\n",
       "    </tr>\n",
       "    <tr>\n",
       "      <th>5</th>\n",
       "      <td>1.023951</td>\n",
       "      <td>-0.020754</td>\n",
       "    </tr>\n",
       "    <tr>\n",
       "      <th>6</th>\n",
       "      <td>1.029366</td>\n",
       "      <td>-0.019614</td>\n",
       "    </tr>\n",
       "    <tr>\n",
       "      <th>7</th>\n",
       "      <td>1.024277</td>\n",
       "      <td>-0.024517</td>\n",
       "    </tr>\n",
       "    <tr>\n",
       "      <th>8</th>\n",
       "      <td>1.029593</td>\n",
       "      <td>-0.016401</td>\n",
       "    </tr>\n",
       "    <tr>\n",
       "      <th>9</th>\n",
       "      <td>1.027913</td>\n",
       "      <td>-0.016856</td>\n",
       "    </tr>\n",
       "  </tbody>\n",
       "</table>\n",
       "</div>"
      ],
      "text/plain": [
       "        ate     const\n",
       "0  1.030409 -0.010012\n",
       "1  1.009222 -0.006195\n",
       "2  0.966494  0.005907\n",
       "3  1.014426 -0.005735\n",
       "4  1.017109 -0.009507\n",
       "5  1.023951 -0.020754\n",
       "6  1.029366 -0.019614\n",
       "7  1.024277 -0.024517\n",
       "8  1.029593 -0.016401\n",
       "9  1.027913 -0.016856"
      ]
     },
     "execution_count": 18,
     "metadata": {},
     "output_type": "execute_result"
    }
   ],
   "source": [
    "outcome_coeffs = {'ate': [], 'const': []}\n",
    "for i in range(NUM_ITER):\n",
    "    data = causl_py.generate_discrete_samples(N=NUM_SAMPLES, causal_params=CAUSAL_PARAMS, seed=i)\n",
    "    coeff_X, coeff_const = run_outcome_regression(data)\n",
    "    outcome_coeffs['ate'].append(coeff_X)\n",
    "    outcome_coeffs['const'].append(coeff_const)\n",
    "outcome_coeffs = pd.DataFrame.from_dict(outcome_coeffs)\n",
    "outcome_coeffs"
   ]
  },
  {
   "cell_type": "code",
   "execution_count": 19,
   "id": "d7e55609-8f09-44d1-b3af-fd21d48b7eae",
   "metadata": {},
   "outputs": [
    {
     "name": "stdout",
     "output_type": "stream",
     "text": [
      "ate      1.017276\n",
      "const   -0.012368\n",
      "dtype: float64\n",
      "ate      0.019232\n",
      "const    0.009047\n",
      "dtype: float64\n"
     ]
    }
   ],
   "source": [
    "print(outcome_coeffs.mean())\n",
    "print(outcome_coeffs.std())"
   ]
  },
  {
   "cell_type": "code",
   "execution_count": 20,
   "id": "f0e08851-605f-4083-862c-9ba29dfc8e9d",
   "metadata": {},
   "outputs": [
    {
     "ename": "NameError",
     "evalue": "name 'discrete_covariates_results' is not defined",
     "output_type": "error",
     "traceback": [
      "\u001b[0;31m---------------------------------------------------------------------------\u001b[0m",
      "\u001b[0;31mNameError\u001b[0m                                 Traceback (most recent call last)",
      "Cell \u001b[0;32mIn[20], line 4\u001b[0m\n\u001b[1;32m      1\u001b[0m plt\u001b[38;5;241m.\u001b[39mfigure(figsize\u001b[38;5;241m=\u001b[39m(\u001b[38;5;241m12\u001b[39m, \u001b[38;5;241m6\u001b[39m))\n\u001b[1;32m      3\u001b[0m \u001b[38;5;66;03m# Boxplot\u001b[39;00m\n\u001b[0;32m----> 4\u001b[0m box \u001b[38;5;241m=\u001b[39m \u001b[43mdiscrete_covariates_results\u001b[49m\u001b[38;5;241m.\u001b[39mboxplot(column\u001b[38;5;241m=\u001b[39m[\u001b[38;5;124m\"\u001b[39m\u001b[38;5;124mate\u001b[39m\u001b[38;5;124m\"\u001b[39m, \u001b[38;5;124m\"\u001b[39m\u001b[38;5;124mconst\u001b[39m\u001b[38;5;124m\"\u001b[39m, \u001b[38;5;124m\"\u001b[39m\u001b[38;5;124mscale\u001b[39m\u001b[38;5;124m\"\u001b[39m], grid\u001b[38;5;241m=\u001b[39m\u001b[38;5;28;01mFalse\u001b[39;00m)\n\u001b[1;32m      6\u001b[0m \u001b[38;5;66;03m# Adding lines for the true parameters\u001b[39;00m\n\u001b[1;32m      7\u001b[0m plt\u001b[38;5;241m.\u001b[39maxhline(y\u001b[38;5;241m=\u001b[39mTRUE_PARAMS[\u001b[38;5;124m'\u001b[39m\u001b[38;5;124mate\u001b[39m\u001b[38;5;124m'\u001b[39m], color\u001b[38;5;241m=\u001b[39m\u001b[38;5;124m'\u001b[39m\u001b[38;5;124mr\u001b[39m\u001b[38;5;124m'\u001b[39m, linestyle\u001b[38;5;241m=\u001b[39m\u001b[38;5;124m'\u001b[39m\u001b[38;5;124m--\u001b[39m\u001b[38;5;124m'\u001b[39m, label\u001b[38;5;241m=\u001b[39m\u001b[38;5;124m'\u001b[39m\u001b[38;5;124mTrue ate\u001b[39m\u001b[38;5;124m'\u001b[39m)\n",
      "\u001b[0;31mNameError\u001b[0m: name 'discrete_covariates_results' is not defined"
     ]
    },
    {
     "data": {
      "text/plain": [
       "<Figure size 1200x600 with 0 Axes>"
      ]
     },
     "metadata": {},
     "output_type": "display_data"
    }
   ],
   "source": [
    "plt.figure(figsize=(12, 6))\n",
    "\n",
    "# Boxplot\n",
    "box = discrete_covariates_results.boxplot(column=[\"ate\", \"const\", \"scale\"], grid=False)\n",
    "\n",
    "# Adding lines for the true parameters\n",
    "plt.axhline(y=TRUE_PARAMS['ate'], color='r', linestyle='--', label='True ate')\n",
    "plt.axhline(y=TRUE_PARAMS['const'], color='g', linestyle='--', label='True const')\n",
    "plt.axhline(y=TRUE_PARAMS['scale'], color='b', linestyle='--', label='True scale')\n",
    "\n",
    "# Adding title and labels\n",
    "plt.title('Box and Whisker Plot for ATE, Const, and Scale')\n",
    "plt.ylabel('Values')\n",
    "plt.ylim([0.80, 1.20])\n",
    "plt.legend()"
   ]
  },
  {
   "cell_type": "markdown",
   "id": "253dfdcb-2777-43c2-a323-93fa3a7a4315",
   "metadata": {},
   "source": [
    "### Mixed Continuous and Discrete (Large)"
   ]
  },
  {
   "cell_type": "code",
   "execution_count": null,
   "id": "36562e65-1a00-46c0-a9af-dc25f38573bc",
   "metadata": {},
   "outputs": [],
   "source": [
    "discrete_big_covariates_results = causl_py.run_simulations(\n",
    "    causl_py.generate_many_discrete_samples, \n",
    "    seed=SEED, \n",
    "    num_samples=NUM_SAMPLES, \n",
    "    num_iter=NUM_ITER, \n",
    "    causal_params=CAUSAL_PARAMS,\n",
    "    hyperparams_dict=hyperparams_dict,\n",
    "    causal_model_args={'ate': 0., 'const': 1., 'scale': 1}\n",
    ")"
   ]
  },
  {
   "cell_type": "code",
   "execution_count": null,
   "id": "c3ae6fe1-cd77-46fe-84b5-68d8bfbbea89",
   "metadata": {},
   "outputs": [],
   "source": [
    "discrete_big_covariates_results"
   ]
  },
  {
   "cell_type": "code",
   "execution_count": null,
   "id": "68ec886c-429a-4159-a96a-411e9e7128c6",
   "metadata": {},
   "outputs": [],
   "source": [
    "print(discrete_big_covariates_results.mean())\n",
    "print(discrete_big_covariates_results.std())"
   ]
  },
  {
   "cell_type": "markdown",
   "id": "02c48dc5-a72f-41ea-b6c5-0832b83e1302",
   "metadata": {},
   "source": [
    "#### Outcome Regression"
   ]
  },
  {
   "cell_type": "code",
   "execution_count": 26,
   "id": "27779e38-02f2-4b8a-8508-ba5aba1794fc",
   "metadata": {},
   "outputs": [
    {
     "data": {
      "text/html": [
       "<div>\n",
       "<style scoped>\n",
       "    .dataframe tbody tr th:only-of-type {\n",
       "        vertical-align: middle;\n",
       "    }\n",
       "\n",
       "    .dataframe tbody tr th {\n",
       "        vertical-align: top;\n",
       "    }\n",
       "\n",
       "    .dataframe thead th {\n",
       "        text-align: right;\n",
       "    }\n",
       "</style>\n",
       "<table border=\"1\" class=\"dataframe\">\n",
       "  <thead>\n",
       "    <tr style=\"text-align: right;\">\n",
       "      <th></th>\n",
       "      <th>ate</th>\n",
       "      <th>const</th>\n",
       "    </tr>\n",
       "  </thead>\n",
       "  <tbody>\n",
       "    <tr>\n",
       "      <th>0</th>\n",
       "      <td>0.927802</td>\n",
       "      <td>0.031063</td>\n",
       "    </tr>\n",
       "    <tr>\n",
       "      <th>1</th>\n",
       "      <td>0.890988</td>\n",
       "      <td>0.063884</td>\n",
       "    </tr>\n",
       "    <tr>\n",
       "      <th>2</th>\n",
       "      <td>0.915400</td>\n",
       "      <td>0.044578</td>\n",
       "    </tr>\n",
       "  </tbody>\n",
       "</table>\n",
       "</div>"
      ],
      "text/plain": [
       "        ate     const\n",
       "0  0.927802  0.031063\n",
       "1  0.890988  0.063884\n",
       "2  0.915400  0.044578"
      ]
     },
     "execution_count": 26,
     "metadata": {},
     "output_type": "execute_result"
    }
   ],
   "source": [
    "outcome_coeffs = {'ate': [], 'const': []}\n",
    "for i in range(NUM_ITER):\n",
    "    data = causl_py.generate_many_discrete_samples(N=NUM_SAMPLES, causal_params=CAUSAL_PARAMS, seed=i)\n",
    "    coeff_X, coeff_const = run_outcome_regression(data)\n",
    "    outcome_coeffs['ate'].append(coeff_X)\n",
    "    outcome_coeffs['const'].append(coeff_const)\n",
    "outcome_coeffs = pd.DataFrame.from_dict(outcome_coeffs)\n",
    "outcome_coeffs"
   ]
  },
  {
   "cell_type": "code",
   "execution_count": 27,
   "id": "767d19d9-6213-4bb5-9c18-e2ecac4e041a",
   "metadata": {},
   "outputs": [
    {
     "name": "stdout",
     "output_type": "stream",
     "text": [
      "ate      0.911397\n",
      "const    0.046508\n",
      "dtype: float64\n",
      "ate      0.018730\n",
      "const    0.016495\n",
      "dtype: float64\n"
     ]
    }
   ],
   "source": [
    "print(outcome_coeffs.mean())\n",
    "print(outcome_coeffs.std())"
   ]
  },
  {
   "cell_type": "code",
   "execution_count": null,
   "id": "c47dae7e-8039-4563-9692-b76280d41d19",
   "metadata": {},
   "outputs": [],
   "source": [
    "plt.figure(figsize=(12, 6))\n",
    "\n",
    "# Boxplot\n",
    "box = discrete_big_covariates_results.boxplot(column=[\"ate\", \"const\", \"scale\"], grid=False)\n",
    "\n",
    "# Adding lines for the true parameters\n",
    "plt.axhline(y=TRUE_PARAMS['ate'], color='r', linestyle='--', label='True ate')\n",
    "plt.axhline(y=TRUE_PARAMS['const'], color='g', linestyle='--', label='True const')\n",
    "plt.axhline(y=TRUE_PARAMS['scale'], color='b', linestyle='--', label='True scale')\n",
    "\n",
    "# Adding title and labels\n",
    "plt.title('Box and Whisker Plot for ATE, Const, and Scale')\n",
    "plt.ylabel('Values')\n",
    "plt.ylim([0.80, 1.20])\n",
    "plt.legend()"
   ]
  },
  {
   "cell_type": "markdown",
   "id": "0df62c19-ca34-4ec2-8bd3-6ab2e8415bad",
   "metadata": {},
   "source": [
    "### Mixed Continuous and Discrete (Large and Sparse)"
   ]
  },
  {
   "cell_type": "code",
   "execution_count": null,
   "id": "1a031e67-e801-4b0e-b6af-55f109930780",
   "metadata": {},
   "outputs": [],
   "source": [
    "discrete_sparse_covariates_results = causl_py.run_simulations(\n",
    "    causl_py.generate_many_discrete_samples_sparse, \n",
    "    seed=SEED, \n",
    "    num_samples=NUM_SAMPLES, \n",
    "    num_iter=NUM_ITER, \n",
    "    causal_params=CAUSAL_PARAMS,\n",
    "    hyperparams_dict=hyperparams_dict,\n",
    "    causal_model_args={'ate': 0., 'const': 1., 'scale': 1}\n",
    ")"
   ]
  },
  {
   "cell_type": "code",
   "execution_count": null,
   "id": "bc93da71-288a-4d15-98c8-10daafa5737a",
   "metadata": {},
   "outputs": [],
   "source": [
    "discrete_sparse_covariates_results"
   ]
  },
  {
   "cell_type": "code",
   "execution_count": null,
   "id": "04cc7229-2d61-4ef6-a8b7-e645985c403e",
   "metadata": {},
   "outputs": [],
   "source": [
    "print(discrete_sparse_covariates_results.mean())\n",
    "print(discrete_sparse_covariates_results.std())"
   ]
  },
  {
   "cell_type": "markdown",
   "id": "54dd564b-29ee-4620-85d8-71423b86f833",
   "metadata": {},
   "source": [
    "#### Outcome Regression"
   ]
  },
  {
   "cell_type": "code",
   "execution_count": null,
   "id": "4dc3caa6-75a6-4194-a734-1dcbfefee4c2",
   "metadata": {},
   "outputs": [],
   "source": [
    "outcome_coeffs = {'ate': [], 'const': []}\n",
    "for i in range(NUM_ITER):\n",
    "    data = causl_py.generate_many_discrete_samples(N=NUM_SAMPLES, causal_params=CAUSAL_PARAMS, seed=i)\n",
    "    coeff_X, coeff_const = run_outcome_regression(data)\n",
    "    outcome_coeffs['ate'].append(coeff_X)\n",
    "    outcome_coeffs['const'].append(coeff_const)\n",
    "outcome_coeffs = pd.DataFrame.from_dict(outcome_coeffs)\n",
    "outcome_coeffs"
   ]
  },
  {
   "cell_type": "code",
   "execution_count": null,
   "id": "bc54d989-8629-4457-bc5e-3652a53514ff",
   "metadata": {},
   "outputs": [],
   "source": [
    "plt.figure(figsize=(12, 6))\n",
    "\n",
    "# Boxplot\n",
    "box = discrete_sparse_covariates_results.boxplot(column=[\"ate\", \"const\", \"scale\"], grid=False)\n",
    "\n",
    "# Adding lines for the true parameters\n",
    "plt.axhline(y=TRUE_PARAMS['ate'], color='r', linestyle='--', label='True ate')\n",
    "plt.axhline(y=TRUE_PARAMS['const'], color='g', linestyle='--', label='True const')\n",
    "plt.axhline(y=TRUE_PARAMS['scale'], color='b', linestyle='--', label='True scale')\n",
    "\n",
    "# Adding title and labels\n",
    "plt.title('Box and Whisker Plot for ATE, Const, and Scale')\n",
    "plt.ylabel('Values')\n",
    "plt.ylim([0.80, 1.20])\n",
    "plt.legend()"
   ]
  }
 ],
 "metadata": {
  "kernelspec": {
   "display_name": "Python 3 (ipykernel)",
   "language": "python",
   "name": "python3"
  },
  "language_info": {
   "codemirror_mode": {
    "name": "ipython",
    "version": 3
   },
   "file_extension": ".py",
   "mimetype": "text/x-python",
   "name": "python",
   "nbconvert_exporter": "python",
   "pygments_lexer": "ipython3",
   "version": "3.11.8"
  }
 },
 "nbformat": 4,
 "nbformat_minor": 5
}
