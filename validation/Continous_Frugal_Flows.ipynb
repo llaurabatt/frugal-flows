{
 "cells": [
  {
   "cell_type": "markdown",
   "id": "f05dc14a-b9f6-4de9-8a36-524db299b21d",
   "metadata": {},
   "source": [
    "# Continous Frugal Flows\n",
    "\n",
    "In this notebook we demonstrate the ability for Frugal Flows to identify Marginal Causal Effects"
   ]
  },
  {
   "cell_type": "code",
   "execution_count": 1,
   "id": "1628a626-5ea2-4cf5-b80c-2c8876f38ec3",
   "metadata": {},
   "outputs": [],
   "source": [
    "import sys\n",
    "import os\n",
    "sys.path.append(\"../\") # go to parent dir\n",
    "\n",
    "import jax\n",
    "import jax.random as jr\n",
    "import jax.numpy as jnp\n",
    "import matplotlib.pyplot as plt\n",
    "import numpy as np\n",
    "import pandas as pd\n",
    "import scipy\n",
    "import numpy as np\n",
    "from scipy.stats import rankdata\n",
    "import scipy.stats as ss\n",
    "import seaborn as sns\n",
    "from sklearn.model_selection import KFold\n",
    "\n",
    "# from data.create_sim_data import *\n",
    "import data.template_causl_simulations as causl_py\n",
    "from data.run_all_simulations import plot_simulation_results\n",
    "from frugal_flows.causal_flows import independent_continuous_marginal_flow, get_independent_quantiles, train_frugal_flow\n",
    "from frugal_flows.bijections import UnivariateNormalCDF\n",
    "\n",
    "import rpy2.robjects as ro\n",
    "from rpy2.robjects.packages import importr\n",
    "from rpy2.robjects import pandas2ri\n",
    "from rpy2.robjects.packages import SignatureTranslatedAnonymousPackage\n",
    "\n",
    "# Activate automatic conversion of rpy2 objects to pandas objects\n",
    "pandas2ri.activate()\n",
    "\n",
    "# Import the R library causl\n",
    "try:\n",
    "    causl = importr('causl')\n",
    "except Exception as e:\n",
    "    package_names = ('causl')\n",
    "    utils.install_packages(StrVector(package_names))\n",
    "\n",
    "jax.config.update(\"jax_enable_x64\", True)\n",
    "\n",
    "hyperparams_dict = {\n",
    "    'learning_rate': 5e-3,\n",
    "    'RQS_knots': 8,\n",
    "    'flow_layers': 5,\n",
    "    'nn_width': 50,\n",
    "    'nn_depth': 4,    \n",
    "    'max_patience': 50,\n",
    "    'max_epochs': 10000\n",
    "}\n",
    "\n",
    "NUM_ITER = 20\n",
    "TRUE_PARAMS = {'ate': 1, 'const': 1, 'scale': 1}\n",
    "CAUSAL_PARAMS = [1, 1]"
   ]
  },
  {
   "cell_type": "markdown",
   "id": "b6136417-f7d2-4a91-ab9f-4da293e82925",
   "metadata": {},
   "source": [
    "## Checking for the Causal Effect"
   ]
  },
  {
   "cell_type": "markdown",
   "id": "0f6c5e19-b1cb-4a4b-8a77-9b4bbc17afcb",
   "metadata": {},
   "source": [
    "Generating Normalised Data"
   ]
  },
  {
   "cell_type": "code",
   "execution_count": 2,
   "id": "0cd10996-2e22-4bf1-b7d1-2b5b4f99b693",
   "metadata": {},
   "outputs": [
    {
     "name": "stderr",
     "output_type": "stream",
     "text": [
      "  1%|▊                                                                                                | 87/10000 [00:50<1:36:06,  1.72it/s, train=-1.648390210081031, val=-1.561023180832006 (Max patience reached)]\n",
      "  1%|▉                                                                                              | 105/10000 [01:00<1:34:50,  1.74it/s, train=-1.6361527348629719, val=-1.421974618542693 (Max patience reached)]\n",
      "  1%|█                                                                                             | 110/10000 [01:05<1:37:49,  1.68it/s, train=-1.7259005660240199, val=-1.4802235703433135 (Max patience reached)]\n",
      "  1%|▊                                                                                              | 84/10000 [00:49<1:37:04,  1.70it/s, train=-1.6498688666690122, val=-1.4589485828543767 (Max patience reached)]\n",
      "  1%|█▎                                                                                            | 136/10000 [01:19<1:36:06,  1.71it/s, train=-1.6586274111901316, val=-1.5168428116077814 (Max patience reached)]\n",
      "  1%|█                                                                                             | 113/10000 [01:04<1:34:37,  1.74it/s, train=-1.6573715294897367, val=-1.5644042820453143 (Max patience reached)]\n",
      "  1%|█                                                                                             | 114/10000 [01:05<1:34:32,  1.74it/s, train=-1.6437163707749811, val=-1.5134223529353692 (Max patience reached)]\n",
      "  1%|█                                                                                             | 118/10000 [01:08<1:35:12,  1.73it/s, train=-1.6700380343810264, val=-1.5237192389857024 (Max patience reached)]\n",
      "  1%|█▎                                                                                            | 134/10000 [01:17<1:34:33,  1.74it/s, train=-1.6669961229603527, val=-1.4651808397941906 (Max patience reached)]\n",
      "  1%|▉                                                                                              | 95/10000 [00:54<1:35:10,  1.73it/s, train=-1.6500845654898297, val=-1.4896251553306454 (Max patience reached)]\n"
     ]
    }
   ],
   "source": [
    "gaussian_covariates_results = causl_py.run_simulations(\n",
    "    causl_py.generate_gaussian_samples, \n",
    "    seed=0, \n",
    "    num_samples=10000, \n",
    "    num_iter=NUM_ITER, \n",
    "    causal_params=CAUSAL_PARAMS,\n",
    "    hyperparams_dict=hyperparams_dict\n",
    ")"
   ]
  },
  {
   "cell_type": "code",
   "execution_count": 3,
   "id": "ae40f9cd-e3ac-4430-ba25-18f14805c040",
   "metadata": {},
   "outputs": [
    {
     "data": {
      "text/html": [
       "<div>\n",
       "<style scoped>\n",
       "    .dataframe tbody tr th:only-of-type {\n",
       "        vertical-align: middle;\n",
       "    }\n",
       "\n",
       "    .dataframe tbody tr th {\n",
       "        vertical-align: top;\n",
       "    }\n",
       "\n",
       "    .dataframe thead th {\n",
       "        text-align: right;\n",
       "    }\n",
       "</style>\n",
       "<table border=\"1\" class=\"dataframe\">\n",
       "  <thead>\n",
       "    <tr style=\"text-align: right;\">\n",
       "      <th></th>\n",
       "      <th>ate</th>\n",
       "      <th>const</th>\n",
       "      <th>scale</th>\n",
       "    </tr>\n",
       "  </thead>\n",
       "  <tbody>\n",
       "    <tr>\n",
       "      <th>0</th>\n",
       "      <td>0.986442</td>\n",
       "      <td>1.020041</td>\n",
       "      <td>1.015496</td>\n",
       "    </tr>\n",
       "    <tr>\n",
       "      <th>1</th>\n",
       "      <td>1.036288</td>\n",
       "      <td>0.974955</td>\n",
       "      <td>1.014106</td>\n",
       "    </tr>\n",
       "    <tr>\n",
       "      <th>2</th>\n",
       "      <td>1.024154</td>\n",
       "      <td>1.017124</td>\n",
       "      <td>1.031419</td>\n",
       "    </tr>\n",
       "    <tr>\n",
       "      <th>3</th>\n",
       "      <td>1.009497</td>\n",
       "      <td>1.013365</td>\n",
       "      <td>1.021085</td>\n",
       "    </tr>\n",
       "    <tr>\n",
       "      <th>4</th>\n",
       "      <td>1.021925</td>\n",
       "      <td>0.972991</td>\n",
       "      <td>1.010329</td>\n",
       "    </tr>\n",
       "    <tr>\n",
       "      <th>5</th>\n",
       "      <td>1.003519</td>\n",
       "      <td>1.016209</td>\n",
       "      <td>1.038350</td>\n",
       "    </tr>\n",
       "    <tr>\n",
       "      <th>6</th>\n",
       "      <td>0.973150</td>\n",
       "      <td>0.999528</td>\n",
       "      <td>1.010718</td>\n",
       "    </tr>\n",
       "    <tr>\n",
       "      <th>7</th>\n",
       "      <td>1.027044</td>\n",
       "      <td>1.000156</td>\n",
       "      <td>1.007800</td>\n",
       "    </tr>\n",
       "    <tr>\n",
       "      <th>8</th>\n",
       "      <td>1.045976</td>\n",
       "      <td>0.957409</td>\n",
       "      <td>1.017546</td>\n",
       "    </tr>\n",
       "    <tr>\n",
       "      <th>9</th>\n",
       "      <td>1.013497</td>\n",
       "      <td>1.003449</td>\n",
       "      <td>1.040063</td>\n",
       "    </tr>\n",
       "  </tbody>\n",
       "</table>\n",
       "</div>"
      ],
      "text/plain": [
       "        ate     const     scale\n",
       "0  0.986442  1.020041  1.015496\n",
       "1  1.036288  0.974955  1.014106\n",
       "2  1.024154  1.017124  1.031419\n",
       "3  1.009497  1.013365  1.021085\n",
       "4  1.021925  0.972991  1.010329\n",
       "5  1.003519  1.016209  1.038350\n",
       "6  0.973150  0.999528  1.010718\n",
       "7  1.027044  1.000156  1.007800\n",
       "8  1.045976  0.957409  1.017546\n",
       "9  1.013497  1.003449  1.040063"
      ]
     },
     "execution_count": 3,
     "metadata": {},
     "output_type": "execute_result"
    }
   ],
   "source": [
    "gaussian_covariates_results"
   ]
  },
  {
   "cell_type": "code",
   "execution_count": 4,
   "id": "0ad888c7-26e9-43e0-8942-2a8b2231f13c",
   "metadata": {},
   "outputs": [
    {
     "data": {
      "text/plain": [
       "<matplotlib.legend.Legend at 0x346076d50>"
      ]
     },
     "execution_count": 4,
     "metadata": {},
     "output_type": "execute_result"
    },
    {
     "data": {
      "image/png": "[encoded data removed]",
      "text/plain": [
       "<Figure size 1200x600 with 1 Axes>"
      ]
     },
     "metadata": {},
     "output_type": "display_data"
    }
   ],
   "source": [
    "plt.figure(figsize=(12, 6))\n",
    "\n",
    "# Boxplot\n",
    "box = gaussian_covariates_results.boxplot(column=[\"ate\", \"const\", \"scale\"], grid=False)\n",
    "\n",
    "# Adding lines for the true parameters\n",
    "plt.axhline(y=TRUE_PARAMS['ate'], color='r', linestyle='--', label='True ate')\n",
    "plt.axhline(y=TRUE_PARAMS['const'], color='g', linestyle='--', label='True const')\n",
    "plt.axhline(y=TRUE_PARAMS['scale'], color='b', linestyle='--', label='True scale')\n",
    "\n",
    "# Adding title and labels\n",
    "plt.title('Box and Whisker Plot for ATE, Const, and Scale')\n",
    "plt.ylabel('Values')\n",
    "plt.ylim([0.80, 1.20])\n",
    "plt.legend()"
   ]
  },
  {
   "cell_type": "code",
   "execution_count": 5,
   "id": "a92adc2c-236e-4f3a-b575-5491fc244bc9",
   "metadata": {},
   "outputs": [
    {
     "name": "stderr",
     "output_type": "stream",
     "text": [
      "  2%|█▌                                                                                            | 171/10000 [01:38<1:33:57,  1.74it/s, train=-2.5992027833091838, val=-2.4673251194972905 (Max patience reached)]\n",
      "  2%|█▌                                                                                             | 159/10000 [01:34<1:36:59,  1.69it/s, train=-2.534066309225444, val=-2.5132384870019715 (Max patience reached)]\n",
      "  2%|█▋                                                                                            | 174/10000 [01:37<1:31:49,  1.78it/s, train=-2.6060712313243033, val=-2.3264992171616075 (Max patience reached)]\n",
      "  1%|█▎                                                                                             | 144/10000 [01:24<1:36:49,  1.70it/s, train=-2.5371667523536376, val=-2.437844392295357 (Max patience reached)]\n",
      "  3%|██▋                                                                                           | 290/10000 [02:54<1:37:17,  1.66it/s, train=-2.5270086896693185, val=-2.4786800819443675 (Max patience reached)]\n",
      "  2%|█▋                                                                                            | 184/10000 [01:45<1:34:11,  1.74it/s, train=-2.5791443164699444, val=-2.2754862628157158 (Max patience reached)]\n",
      "  2%|█▊                                                                                             | 185/10000 [01:45<1:32:55,  1.76it/s, train=-2.572113671878676, val=-2.4051660016385132 (Max patience reached)]\n",
      "  1%|█▎                                                                                             | 135/10000 [01:18<1:35:41,  1.72it/s, train=-2.5592949273028545, val=-2.441951983478895 (Max patience reached)]\n",
      "  2%|█▋                                                                                            | 179/10000 [01:41<1:32:26,  1.77it/s, train=-2.5332036782052088, val=-2.4310562420850674 (Max patience reached)]\n",
      "  1%|█                                                                                             | 108/10000 [01:02<1:35:37,  1.72it/s, train=-2.4905255704619202, val=-2.2935906974772973 (Max patience reached)]\n"
     ]
    }
   ],
   "source": [
    "continous_covariates_results = causl_py.run_simulations(\n",
    "    causl_py.generate_mixed_samples, \n",
    "    seed=0, \n",
    "    num_samples=10000, \n",
    "    num_iter=NUM_ITER, \n",
    "    causal_params=CAUSAL_PARAMS,\n",
    "    hyperparams_dict=hyperparams_dict\n",
    ")"
   ]
  },
  {
   "cell_type": "code",
   "execution_count": 6,
   "id": "1e29818a-ddb4-4f56-9d11-1fb4bd752d35",
   "metadata": {},
   "outputs": [
    {
     "data": {
      "text/html": [
       "<div>\n",
       "<style scoped>\n",
       "    .dataframe tbody tr th:only-of-type {\n",
       "        vertical-align: middle;\n",
       "    }\n",
       "\n",
       "    .dataframe tbody tr th {\n",
       "        vertical-align: top;\n",
       "    }\n",
       "\n",
       "    .dataframe thead th {\n",
       "        text-align: right;\n",
       "    }\n",
       "</style>\n",
       "<table border=\"1\" class=\"dataframe\">\n",
       "  <thead>\n",
       "    <tr style=\"text-align: right;\">\n",
       "      <th></th>\n",
       "      <th>ate</th>\n",
       "      <th>const</th>\n",
       "      <th>scale</th>\n",
       "    </tr>\n",
       "  </thead>\n",
       "  <tbody>\n",
       "    <tr>\n",
       "      <th>0</th>\n",
       "      <td>1.003588</td>\n",
       "      <td>1.007017</td>\n",
       "      <td>1.020714</td>\n",
       "    </tr>\n",
       "    <tr>\n",
       "      <th>1</th>\n",
       "      <td>1.061927</td>\n",
       "      <td>0.921875</td>\n",
       "      <td>1.024379</td>\n",
       "    </tr>\n",
       "    <tr>\n",
       "      <th>2</th>\n",
       "      <td>1.020702</td>\n",
       "      <td>0.997040</td>\n",
       "      <td>1.014766</td>\n",
       "    </tr>\n",
       "    <tr>\n",
       "      <th>3</th>\n",
       "      <td>1.153352</td>\n",
       "      <td>0.860062</td>\n",
       "      <td>1.008496</td>\n",
       "    </tr>\n",
       "    <tr>\n",
       "      <th>4</th>\n",
       "      <td>0.979357</td>\n",
       "      <td>1.001085</td>\n",
       "      <td>1.003549</td>\n",
       "    </tr>\n",
       "    <tr>\n",
       "      <th>5</th>\n",
       "      <td>1.034015</td>\n",
       "      <td>0.974869</td>\n",
       "      <td>1.014124</td>\n",
       "    </tr>\n",
       "    <tr>\n",
       "      <th>6</th>\n",
       "      <td>0.982890</td>\n",
       "      <td>1.009140</td>\n",
       "      <td>1.005883</td>\n",
       "    </tr>\n",
       "    <tr>\n",
       "      <th>7</th>\n",
       "      <td>1.007599</td>\n",
       "      <td>0.994963</td>\n",
       "      <td>1.025509</td>\n",
       "    </tr>\n",
       "    <tr>\n",
       "      <th>8</th>\n",
       "      <td>1.070033</td>\n",
       "      <td>0.918974</td>\n",
       "      <td>1.011064</td>\n",
       "    </tr>\n",
       "    <tr>\n",
       "      <th>9</th>\n",
       "      <td>0.921900</td>\n",
       "      <td>1.086606</td>\n",
       "      <td>1.037235</td>\n",
       "    </tr>\n",
       "  </tbody>\n",
       "</table>\n",
       "</div>"
      ],
      "text/plain": [
       "        ate     const     scale\n",
       "0  1.003588  1.007017  1.020714\n",
       "1  1.061927  0.921875  1.024379\n",
       "2  1.020702  0.997040  1.014766\n",
       "3  1.153352  0.860062  1.008496\n",
       "4  0.979357  1.001085  1.003549\n",
       "5  1.034015  0.974869  1.014124\n",
       "6  0.982890  1.009140  1.005883\n",
       "7  1.007599  0.994963  1.025509\n",
       "8  1.070033  0.918974  1.011064\n",
       "9  0.921900  1.086606  1.037235"
      ]
     },
     "execution_count": 6,
     "metadata": {},
     "output_type": "execute_result"
    }
   ],
   "source": [
    "continous_covariates_results"
   ]
  },
  {
   "cell_type": "code",
   "execution_count": 7,
   "id": "2ce3d31b-b7ba-4efd-b736-7d48eeaf4ce8",
   "metadata": {},
   "outputs": [
    {
     "data": {
      "text/plain": [
       "<matplotlib.legend.Legend at 0x3759b6d50>"
      ]
     },
     "execution_count": 7,
     "metadata": {},
     "output_type": "execute_result"
    },
    {
     "data": {
      "image/png": "[encoded data removed]",
      "text/plain": [
       "<Figure size 1200x600 with 1 Axes>"
      ]
     },
     "metadata": {},
     "output_type": "display_data"
    }
   ],
   "source": [
    "plt.figure(figsize=(12, 6))\n",
    "\n",
    "# Boxplot\n",
    "box = continous_covariates_results.boxplot(column=[\"ate\", \"const\", \"scale\"], grid=False)\n",
    "\n",
    "# Adding lines for the true parameters\n",
    "plt.axhline(y=TRUE_PARAMS['ate'], color='r', linestyle='--', label='True ate')\n",
    "plt.axhline(y=TRUE_PARAMS['const'], color='g', linestyle='--', label='True const')\n",
    "plt.axhline(y=TRUE_PARAMS['scale'], color='b', linestyle='--', label='True scale')\n",
    "\n",
    "# Adding title and labels\n",
    "plt.title('Box and Whisker Plot for ATE, Const, and Scale')\n",
    "plt.ylabel('Values')\n",
    "plt.ylim([0.80, 1.20])\n",
    "plt.legend()"
   ]
  },
  {
   "cell_type": "code",
   "execution_count": 8,
   "id": "dbcd8871-6c44-49d7-93e2-1611ce42586f",
   "metadata": {},
   "outputs": [],
   "source": [
    "Z_disc, Z_cont, X, Y = causl_py.generate_discrete_samples(1000, causal_params=[1,1], seed=0).values()"
   ]
  },
  {
   "cell_type": "code",
   "execution_count": 9,
   "id": "29615df2-8aaa-441d-9e7e-1f2f0c5dacdf",
   "metadata": {},
   "outputs": [
    {
     "name": "stderr",
     "output_type": "stream",
     "text": [
      "  1%|▋                                                                                                   | 72/10000 [00:42<1:38:19,  1.68it/s, train=1.36253195479852, val=1.418978754331993 (Max patience reached)]\n",
      "  1%|▋                                                                                                | 72/10000 [00:42<1:38:32,  1.68it/s, train=1.3581609646990342, val=1.3780676075092664 (Max patience reached)]\n",
      "  1%|▊                                                                                                | 85/10000 [00:49<1:35:21,  1.73it/s, train=1.3608800748473384, val=1.4647817808335457 (Max patience reached)]\n",
      "  1%|█                                                                                                | 115/10000 [01:07<1:36:22,  1.71it/s, train=1.3347751236347618, val=1.422683035079951 (Max patience reached)]\n",
      "  1%|▋                                                                                                | 76/10000 [00:44<1:37:14,  1.70it/s, train=1.3298654624003068, val=1.4554261702473135 (Max patience reached)]\n",
      "  1%|▊                                                                                                | 78/10000 [00:44<1:34:40,  1.75it/s, train=1.3600562081992362, val=1.4398954843763665 (Max patience reached)]\n",
      "  1%|█                                                                                                | 110/10000 [01:01<1:32:42,  1.78it/s, train=1.337267759516205, val=1.4263156002603954 (Max patience reached)]\n",
      "  1%|▉                                                                                                | 99/10000 [00:55<1:32:41,  1.78it/s, train=1.3512064342222172, val=1.4358878058412574 (Max patience reached)]\n",
      "  1%|▋                                                                                                | 77/10000 [00:45<1:37:54,  1.69it/s, train=1.3321246228001957, val=1.4095993355257972 (Max patience reached)]\n",
      "  1%|▉                                                                                                 | 98/10000 [00:57<1:36:59,  1.70it/s, train=1.3529021996677744, val=1.431265440882933 (Max patience reached)]\n"
     ]
    }
   ],
   "source": [
    "discrete_covariates_results = causl_py.run_simulations(\n",
    "    causl_py.generate_discrete_samples, \n",
    "    seed=0, \n",
    "    num_samples=10000, \n",
    "    num_iter=NUM_ITER, \n",
    "    causal_params=CAUSAL_PARAMS,\n",
    "    hyperparams_dict=hyperparams_dict\n",
    ")"
   ]
  },
  {
   "cell_type": "code",
   "execution_count": 10,
   "id": "ba2d08c5-9ebd-40ec-844a-219c5eb5a079",
   "metadata": {},
   "outputs": [
    {
     "data": {
      "text/html": [
       "<div>\n",
       "<style scoped>\n",
       "    .dataframe tbody tr th:only-of-type {\n",
       "        vertical-align: middle;\n",
       "    }\n",
       "\n",
       "    .dataframe tbody tr th {\n",
       "        vertical-align: top;\n",
       "    }\n",
       "\n",
       "    .dataframe thead th {\n",
       "        text-align: right;\n",
       "    }\n",
       "</style>\n",
       "<table border=\"1\" class=\"dataframe\">\n",
       "  <thead>\n",
       "    <tr style=\"text-align: right;\">\n",
       "      <th></th>\n",
       "      <th>ate</th>\n",
       "      <th>const</th>\n",
       "      <th>scale</th>\n",
       "    </tr>\n",
       "  </thead>\n",
       "  <tbody>\n",
       "    <tr>\n",
       "      <th>0</th>\n",
       "      <td>1.192450</td>\n",
       "      <td>0.886225</td>\n",
       "      <td>1.032135</td>\n",
       "    </tr>\n",
       "    <tr>\n",
       "      <th>1</th>\n",
       "      <td>1.181547</td>\n",
       "      <td>0.882532</td>\n",
       "      <td>1.036283</td>\n",
       "    </tr>\n",
       "    <tr>\n",
       "      <th>2</th>\n",
       "      <td>0.997193</td>\n",
       "      <td>0.991552</td>\n",
       "      <td>0.999879</td>\n",
       "    </tr>\n",
       "    <tr>\n",
       "      <th>3</th>\n",
       "      <td>1.021336</td>\n",
       "      <td>0.979925</td>\n",
       "      <td>1.002124</td>\n",
       "    </tr>\n",
       "    <tr>\n",
       "      <th>4</th>\n",
       "      <td>1.068912</td>\n",
       "      <td>0.946124</td>\n",
       "      <td>0.997944</td>\n",
       "    </tr>\n",
       "    <tr>\n",
       "      <th>5</th>\n",
       "      <td>1.077249</td>\n",
       "      <td>0.951135</td>\n",
       "      <td>1.001607</td>\n",
       "    </tr>\n",
       "    <tr>\n",
       "      <th>6</th>\n",
       "      <td>1.069951</td>\n",
       "      <td>0.976829</td>\n",
       "      <td>0.999743</td>\n",
       "    </tr>\n",
       "    <tr>\n",
       "      <th>7</th>\n",
       "      <td>1.031641</td>\n",
       "      <td>0.974178</td>\n",
       "      <td>1.008009</td>\n",
       "    </tr>\n",
       "    <tr>\n",
       "      <th>8</th>\n",
       "      <td>1.086408</td>\n",
       "      <td>0.937092</td>\n",
       "      <td>1.003431</td>\n",
       "    </tr>\n",
       "    <tr>\n",
       "      <th>9</th>\n",
       "      <td>1.036179</td>\n",
       "      <td>0.957465</td>\n",
       "      <td>1.010687</td>\n",
       "    </tr>\n",
       "  </tbody>\n",
       "</table>\n",
       "</div>"
      ],
      "text/plain": [
       "        ate     const     scale\n",
       "0  1.192450  0.886225  1.032135\n",
       "1  1.181547  0.882532  1.036283\n",
       "2  0.997193  0.991552  0.999879\n",
       "3  1.021336  0.979925  1.002124\n",
       "4  1.068912  0.946124  0.997944\n",
       "5  1.077249  0.951135  1.001607\n",
       "6  1.069951  0.976829  0.999743\n",
       "7  1.031641  0.974178  1.008009\n",
       "8  1.086408  0.937092  1.003431\n",
       "9  1.036179  0.957465  1.010687"
      ]
     },
     "execution_count": 10,
     "metadata": {},
     "output_type": "execute_result"
    }
   ],
   "source": [
    "discrete_covariates_results"
   ]
  },
  {
   "cell_type": "code",
   "execution_count": 11,
   "id": "f0e08851-605f-4083-862c-9ba29dfc8e9d",
   "metadata": {},
   "outputs": [
    {
     "data": {
      "text/plain": [
       "<matplotlib.legend.Legend at 0x3904ded50>"
      ]
     },
     "execution_count": 11,
     "metadata": {},
     "output_type": "execute_result"
    },
    {
     "data": {
      "image/png": "[encoded data removed]",
      "text/plain": [
       "<Figure size 1200x600 with 1 Axes>"
      ]
     },
     "metadata": {},
     "output_type": "display_data"
    }
   ],
   "source": [
    "plt.figure(figsize=(12, 6))\n",
    "\n",
    "# Boxplot\n",
    "box = discrete_covariates_results.boxplot(column=[\"ate\", \"const\", \"scale\"], grid=False)\n",
    "\n",
    "# Adding lines for the true parameters\n",
    "plt.axhline(y=TRUE_PARAMS['ate'], color='r', linestyle='--', label='True ate')\n",
    "plt.axhline(y=TRUE_PARAMS['const'], color='g', linestyle='--', label='True const')\n",
    "plt.axhline(y=TRUE_PARAMS['scale'], color='b', linestyle='--', label='True scale')\n",
    "\n",
    "# Adding title and labels\n",
    "plt.title('Box and Whisker Plot for ATE, Const, and Scale')\n",
    "plt.ylabel('Values')\n",
    "plt.ylim([0.80, 1.20])\n",
    "plt.legend()"
   ]
  },
  {
   "cell_type": "code",
   "execution_count": null,
   "id": "d0123e02-dae7-47e5-950b-4ee512360d85",
   "metadata": {},
   "outputs": [],
   "source": []
  }
 ],
 "metadata": {
  "kernelspec": {
   "display_name": "Python 3 (ipykernel)",
   "language": "python",
   "name": "python3"
  },
  "language_info": {
   "codemirror_mode": {
    "name": "ipython",
    "version": 3
   },
   "file_extension": ".py",
   "mimetype": "text/x-python",
   "name": "python",
   "nbconvert_exporter": "python",
   "pygments_lexer": "ipython3",
   "version": "3.11.8"
  }
 },
 "nbformat": 4,
 "nbformat_minor": 5
}
