{
 "cells": [
  {
   "cell_type": "markdown",
   "id": "f05dc14a-b9f6-4de9-8a36-524db299b21d",
   "metadata": {},
   "source": [
    "# Continous Frugal Flows\n",
    "\n",
    "In this notebook we demonstrate the ability for Frugal Flows to identify Marginal Causal Effects"
   ]
  },
  {
   "cell_type": "code",
   "execution_count": 1,
   "id": "1628a626-5ea2-4cf5-b80c-2c8876f38ec3",
   "metadata": {},
   "outputs": [],
   "source": [
    "import sys\n",
    "import os\n",
    "sys.path.append(\"../\") # go to parent dir\n",
    "\n",
    "import jax\n",
    "import jax.random as jr\n",
    "import jax.numpy as jnp\n",
    "import matplotlib.pyplot as plt\n",
    "import numpy as np\n",
    "import pandas as pd\n",
    "import scipy\n",
    "import numpy as np\n",
    "from scipy.stats import rankdata\n",
    "import scipy.stats as ss\n",
    "import statsmodels.api as sm\n",
    "import seaborn as sns\n",
    "from sklearn.model_selection import KFold\n",
    "\n",
    "# from data.create_sim_data import *\n",
    "import data.template_causl_simulations as causl_py\n",
    "from data.run_all_simulations import plot_simulation_results\n",
    "from frugal_flows.causal_flows import independent_continuous_marginal_flow, get_independent_quantiles, train_frugal_flow\n",
    "from frugal_flows.bijections import UnivariateNormalCDF\n",
    "\n",
    "import rpy2.robjects as ro\n",
    "from rpy2.robjects.packages import importr\n",
    "from rpy2.robjects import pandas2ri\n",
    "from rpy2.robjects.packages import SignatureTranslatedAnonymousPackage\n",
    "\n",
    "# Activate automatic conversion of rpy2 objects to pandas objects\n",
    "pandas2ri.activate()\n",
    "\n",
    "# Import the R library causl\n",
    "try:\n",
    "    causl = importr('causl')\n",
    "except Exception as e:\n",
    "    package_names = ('causl')\n",
    "    utils.install_packages(StrVector(package_names))\n",
    "\n",
    "jax.config.update(\"jax_enable_x64\", True)\n",
    "\n",
    "hyperparams_dict = {\n",
    "    'learning_rate': 5e-3,\n",
    "    'RQS_knots': 8,\n",
    "    'flow_layers': 5,\n",
    "    'nn_width': 30,\n",
    "    'nn_depth': 4,    \n",
    "    'max_patience': 100,\n",
    "    'max_epochs': 10000\n",
    "}\n",
    "causal_hyperparams = {\n",
    "    'RQS_knots': 8,\n",
    "    'flow_layers': 5,\n",
    "    'nn_width': 50,\n",
    "    'nn_depth': 4,   \n",
    "}\n",
    "\n",
    "SEED = 0\n",
    "NUM_ITER = 5\n",
    "NUM_SAMPLES = 10000\n",
    "TRUE_PARAMS = {'ate': 1, 'const': 1, 'scale': 1}\n",
    "CAUSAL_PARAMS = [0, 2]"
   ]
  },
  {
   "cell_type": "code",
   "execution_count": 34,
   "id": "024836f0-db4c-43b1-9271-f95470484778",
   "metadata": {},
   "outputs": [],
   "source": [
    "def run_outcome_regression(data):\n",
    "    covariate_names = [col for col in data.columns if col.startswith('Z')]\n",
    "    covariate_names.append('X')\n",
    "    data['Y'] = data['Y']\n",
    "    X_vars = data[covariate_names]\n",
    "    X_vars = sm.add_constant(X_vars)\n",
    "    Y_var = data['Y']\n",
    "    model = sm.OLS(Y_var, X_vars).fit()\n",
    "    coefficient_X = model.params['X']\n",
    "    coefficient_const = model.params['const']\n",
    "    return coefficient_X, coefficient_const"
   ]
  },
  {
   "cell_type": "markdown",
   "id": "b6136417-f7d2-4a91-ab9f-4da293e82925",
   "metadata": {},
   "source": [
    "## Checking for the Causal Effect"
   ]
  },
  {
   "cell_type": "markdown",
   "id": "d52f9ceb-2918-4e27-a9f7-8a1e90e30d41",
   "metadata": {},
   "source": [
    "### Gaussians"
   ]
  },
  {
   "cell_type": "markdown",
   "id": "cc58c1bf-6de1-47eb-b2b2-2b4afe6c373a",
   "metadata": {},
   "source": [
    "#### Frugal Flow"
   ]
  },
  {
   "cell_type": "code",
   "execution_count": 18,
   "id": "a446fc8e-67b2-408d-9f81-470a6150a206",
   "metadata": {},
   "outputs": [],
   "source": [
    "# Z_disc, Z_cont, X, Y = causl_py.generate_gaussian_samples(N=10000, causal_params=CAUSAL_PARAMS, seed=0).values()"
   ]
  },
  {
   "cell_type": "code",
   "execution_count": 19,
   "id": "6825fb73-af43-442c-856f-57a1890fb92c",
   "metadata": {},
   "outputs": [],
   "source": [
    "# inf_idx = ((Y > -1000) & (Y < 1000)).flatten()\n",
    "# # Z_disc = Z_disc[inf_idx]\n",
    "# Z_cont = Z_cont[inf_idx]\n",
    "# X = X[inf_idx]\n",
    "# Y  = Y[inf_idx]"
   ]
  },
  {
   "cell_type": "code",
   "execution_count": null,
   "id": "9353adef-1b7d-4cce-bf3e-f3a2489a7fe2",
   "metadata": {},
   "outputs": [],
   "source": []
  },
  {
   "cell_type": "code",
   "execution_count": 20,
   "id": "ffb0d6fc-c0ee-4e6e-b012-8ef75b62fc4e",
   "metadata": {},
   "outputs": [],
   "source": [
    "def generate_mixed_samples(N, causal_params, seed=0):\n",
    "    mixed_cont_rscript = f\"\"\"\n",
    "    library(causl)\n",
    "    pars <- list(Zc1 = list(beta = c(1), phi=1),\n",
    "                 Zc2 = list(beta = c(1), phi=1),\n",
    "                 Zc3 = list(beta = c(1), phi=1),\n",
    "                 Zc4 = list(beta = c(1), phi=1),\n",
    "                 X = list(beta = c(-4,1,1,1,1)),\n",
    "                 Y = list(beta = c({causal_params[0]}, {causal_params[1]}), phi=1),\n",
    "                 cop = list(\n",
    "                   Y=list(\n",
    "                     Zc1=list(beta=1), Zc2=list(beta=2), Zc3=list(beta=4), Zc4=list(beta=3))\n",
    "                 )\n",
    "    )\n",
    "    forms <- list(list(Zc1~1, Zc2~1, Zc3~1, Zc4~1), X~Zc1+Zc2+Zc3+Zc4, Y~X, ~1)\n",
    "    \n",
    "    set.seed({seed})  # for consistency\n",
    "    fams <- list(c(3,3,3,3),5,1,4)\n",
    "    data_samples <- rfrugalParam({N}, formulas=forms, family=fams, pars=pars)\n",
    "    data_samples <- data_samples[!is.infinite(data_samples$Y),]    \n",
    "    \"\"\"\n",
    "    data = causl_py.generate_data_samples(mixed_cont_rscript)\n",
    "    return data"
   ]
  },
  {
   "cell_type": "code",
   "execution_count": 21,
   "id": "75a8e683-af1c-4d51-9479-3f182ef37acd",
   "metadata": {},
   "outputs": [],
   "source": [
    "def generate_discrete_samples(N, causal_params, seed=0):\n",
    "    disc_rscript = f\"\"\"\n",
    "    library(causl)\n",
    "    pars <- list(Zc1 = list(beta = c(1), phi=1),\n",
    "                 Zc2 = list(beta = c(1), phi=2),\n",
    "                 Zd3 = list(beta = c(0)),\n",
    "                 Zd4 = list(beta = c(0)),\n",
    "                 X = list(beta = c(-4,1,1,1,1)),\n",
    "                 Y = list(beta = c({causal_params[0]}, {causal_params[1]}), phi=1),\n",
    "                 cop = list(\n",
    "                   Y=list(\n",
    "                     Zc1=list(beta=1), Zc2=list(beta=2), Zd3=list(beta=4), Zd4=list(beta=4))\n",
    "                 )\n",
    "    )\n",
    "    forms <- list(list(Zc1~1, Zc2~1, Zd3~1, Zd4~1), X~Zc1+Zc2+Zd3+Zd4, Y~X, ~1)\n",
    "    \n",
    "    set.seed({seed})  # for consistency\n",
    "    fams <- list(c(3,3,5,5),5,1,4)\n",
    "    data_samples <- rfrugalParam({N}, formulas=forms, family=fams, pars=pars)\n",
    "    data_samples <- data_samples[!is.infinite(data_samples$Y),]\n",
    "    \"\"\"\n",
    "    data = causl_py.generate_data_samples(disc_rscript)\n",
    "    return data"
   ]
  },
  {
   "cell_type": "markdown",
   "id": "883f9552-10ad-4275-80a4-2bf505c4a020",
   "metadata": {},
   "source": [
    "### FOR CTS GAMMA"
   ]
  },
  {
   "cell_type": "code",
   "execution_count": 28,
   "id": "0b91a98e-8da7-49bf-b6d4-972db64e9ad0",
   "metadata": {},
   "outputs": [
    {
     "name": "stderr",
     "output_type": "stream",
     "text": [
      "R[write to console]: Inversion method selected: using pair-copula parameterization\n",
      "\n",
      "  3%|██▉                                                                                                | 302/10000 [00:26<14:12, 11.37it/s, train=-2.788165530327164, val=-1.8470813899914593 (Max patience reached)]\n"
     ]
    }
   ],
   "source": [
    "or_coeffs = {'ate': []}\n",
    "ff_coeffs = {'ate': [], 'const': [], 'scale': []}\n",
    "# CAUSAL_PARAMS = [1, 2]\n",
    "for i in range(1):\n",
    "    _, Z_cont, X, Y = generate_mixed_samples(N=NUM_SAMPLES*2, causal_params=CAUSAL_PARAMS, seed=i).values()\n",
    "    data = pd.DataFrame(np.hstack([Y, X, Z_cont]), columns=['Y', 'X', 'Z1', 'Z2', 'Z3', 'Z4'])\n",
    "    coeff_X, coeff_const = run_outcome_regression(data)\n",
    "    or_coeffs['ate'].append(coeff_X)\n",
    "    # or_coeffs['const'].append(coeff_const)\n",
    "    uz_samples = causl_py.generate_uz_samples(Z_disc=None, Z_cont=Z_cont, use_marginal_flow=False, seed=i, frugal_flow_hyperparams=hyperparams_dict)\n",
    "    frugal_flow, losses = train_frugal_flow(\n",
    "        key=jr.PRNGKey(i*NUM_ITER),\n",
    "        y=Y,\n",
    "        u_z=uz_samples['uz_samples'],\n",
    "        condition=X,\n",
    "        **hyperparams_dict,\n",
    "        # causal_model='location_translation',\n",
    "        # causal_model_args={'ate': 0., **hyperparams_dict}\n",
    "        causal_model='gaussian',\n",
    "        causal_model_args={'ate': 0., 'const': 0., 'scale': 1}\n",
    "    )\n",
    "    causal_margin = frugal_flow.bijection.bijections[-1].bijection.bijections[0]\n",
    "    # causal_margin = frugal_flow.bijection.bijections[-1].bijections[0]\n",
    "    ff_coeffs['ate'].append(causal_margin.ate)\n",
    "    ff_coeffs['const'].append(causal_margin.const)\n",
    "    ff_coeffs['scale'].append(causal_margin.scale)"
   ]
  },
  {
   "cell_type": "code",
   "execution_count": 29,
   "id": "a440a359-1055-41ac-8286-c4b48c7f8f54",
   "metadata": {},
   "outputs": [
    {
     "data": {
      "text/html": [
       "<div>\n",
       "<style scoped>\n",
       "    .dataframe tbody tr th:only-of-type {\n",
       "        vertical-align: middle;\n",
       "    }\n",
       "\n",
       "    .dataframe tbody tr th {\n",
       "        vertical-align: top;\n",
       "    }\n",
       "\n",
       "    .dataframe thead th {\n",
       "        text-align: right;\n",
       "    }\n",
       "</style>\n",
       "<table border=\"1\" class=\"dataframe\">\n",
       "  <thead>\n",
       "    <tr style=\"text-align: right;\">\n",
       "      <th></th>\n",
       "      <th>ate</th>\n",
       "    </tr>\n",
       "  </thead>\n",
       "  <tbody>\n",
       "    <tr>\n",
       "      <th>0</th>\n",
       "      <td>2.403304</td>\n",
       "    </tr>\n",
       "  </tbody>\n",
       "</table>\n",
       "</div>"
      ],
      "text/plain": [
       "        ate\n",
       "0  2.403304"
      ]
     },
     "execution_count": 29,
     "metadata": {},
     "output_type": "execute_result"
    }
   ],
   "source": [
    "gaussian_or_coeffs = pd.DataFrame.from_dict(or_coeffs)\n",
    "gaussian_or_coeffs"
   ]
  },
  {
   "cell_type": "code",
   "execution_count": 30,
   "id": "e4b357cb-5aaa-469a-95f3-ce1617b89e03",
   "metadata": {},
   "outputs": [
    {
     "data": {
      "text/html": [
       "<div>\n",
       "<style scoped>\n",
       "    .dataframe tbody tr th:only-of-type {\n",
       "        vertical-align: middle;\n",
       "    }\n",
       "\n",
       "    .dataframe tbody tr th {\n",
       "        vertical-align: top;\n",
       "    }\n",
       "\n",
       "    .dataframe thead th {\n",
       "        text-align: right;\n",
       "    }\n",
       "</style>\n",
       "<table border=\"1\" class=\"dataframe\">\n",
       "  <thead>\n",
       "    <tr style=\"text-align: right;\">\n",
       "      <th></th>\n",
       "      <th>ate</th>\n",
       "      <th>const</th>\n",
       "      <th>scale</th>\n",
       "    </tr>\n",
       "  </thead>\n",
       "  <tbody>\n",
       "    <tr>\n",
       "      <th>0</th>\n",
       "      <td>1.6819749014623628</td>\n",
       "      <td>1.5450730414527538</td>\n",
       "      <td>1.671827009084335</td>\n",
       "    </tr>\n",
       "  </tbody>\n",
       "</table>\n",
       "</div>"
      ],
      "text/plain": [
       "                  ate               const              scale\n",
       "0  1.6819749014623628  1.5450730414527538  1.671827009084335"
      ]
     },
     "execution_count": 30,
     "metadata": {},
     "output_type": "execute_result"
    }
   ],
   "source": [
    "ff_outcome_coeffs = pd.DataFrame.from_dict(ff_coeffs)\n",
    "ff_outcome_coeffs"
   ]
  },
  {
   "cell_type": "markdown",
   "id": "15350ef9-f4eb-42b9-9fc2-3847b56cc3a1",
   "metadata": {},
   "source": [
    "### FOR Discrete GAMMA"
   ]
  },
  {
   "cell_type": "code",
   "execution_count": 57,
   "id": "b2b52f8c-f18c-489b-bcf0-279623d3d84b",
   "metadata": {},
   "outputs": [
    {
     "name": "stderr",
     "output_type": "stream",
     "text": [
      "R[write to console]: Inversion method selected: using pair-copula parameterization\n",
      "\n",
      "  3%|██▊                                                                                               | 286/10000 [00:15<09:00, 17.98it/s, train=-3.2810347279518535, val=-0.8940649144342446 (Max patience reached)]\n"
     ]
    }
   ],
   "source": [
    "or_coeffs = {'ate': [], 'const': []}\n",
    "ff_coeffs = {'ate': []}\n",
    "CAUSAL_PARAMS = [1,1]\n",
    "NUM_SAMPLES_DISC = 1000\n",
    "for i in range(1):\n",
    "    Z_disc, Z_cont, X, Y = generate_discrete_samples(N=NUM_SAMPLES_DISC, causal_params=CAUSAL_PARAMS, seed=i).values()\n",
    "    data = pd.DataFrame(np.hstack([Y, X, Z_cont, Z_disc]), columns=['Y', 'X', 'Z1', 'Z2', 'Z3', 'Z4'])\n",
    "    coeff_X, coeff_const = run_outcome_regression(data)\n",
    "    or_coeffs['ate'].append(coeff_X)\n",
    "    or_coeffs['const'].append(coeff_const)\n",
    "    uz_samples = causl_py.generate_uz_samples(Z_disc, Z_cont, use_marginal_flow=False, seed=i, frugal_flow_hyperparams=hyperparams_dict)\n",
    "    frugal_flow, losses = train_frugal_flow(\n",
    "        key=jr.PRNGKey(i*NUM_ITER),\n",
    "        y=Y,\n",
    "        u_z=uz_samples['uz_samples'],\n",
    "        condition=X,\n",
    "        **hyperparams_dict,\n",
    "        # causal_model='location_translation',\n",
    "        # causal_model_args={'ate': 0., **hyperparams_dict}\n",
    "        causal_model='gaussian',\n",
    "        causal_model_args={'ate': 0., 'const': 0., 'scale': 1}\n",
    "    )\n",
    "    causal_margin = frugal_flow.bijection.bijections[-1].bijection.bijections[0]\n",
    "    # causal_margin = frugal_flow.bijection.bijections[-1].bijections[0].LocCond\n",
    "\n",
    "    ff_coeffs['ate'].append(causal_margin.ate)\n",
    "    \n",
    "    # ff_coeffs['const'].append(causal_margin.const)\n",
    "    # ff_coeffs['scale'].append(causal_margin.scale)\n",
    "gaussian_or_coeffs = pd.DataFrame.from_dict(or_coeffs)\n",
    "ff_outcome_coeffs = pd.DataFrame.from_dict(ff_coeffs)"
   ]
  },
  {
   "cell_type": "code",
   "execution_count": 58,
   "id": "58a126d1-b5fd-43fd-8412-5b7ed257b2c2",
   "metadata": {},
   "outputs": [
    {
     "data": {
      "text/html": [
       "<div>\n",
       "<style scoped>\n",
       "    .dataframe tbody tr th:only-of-type {\n",
       "        vertical-align: middle;\n",
       "    }\n",
       "\n",
       "    .dataframe tbody tr th {\n",
       "        vertical-align: top;\n",
       "    }\n",
       "\n",
       "    .dataframe thead th {\n",
       "        text-align: right;\n",
       "    }\n",
       "</style>\n",
       "<table border=\"1\" class=\"dataframe\">\n",
       "  <thead>\n",
       "    <tr style=\"text-align: right;\">\n",
       "      <th></th>\n",
       "      <th>ate</th>\n",
       "      <th>const</th>\n",
       "    </tr>\n",
       "  </thead>\n",
       "  <tbody>\n",
       "    <tr>\n",
       "      <th>0</th>\n",
       "      <td>1.339854</td>\n",
       "      <td>-0.184597</td>\n",
       "    </tr>\n",
       "  </tbody>\n",
       "</table>\n",
       "</div>"
      ],
      "text/plain": [
       "        ate     const\n",
       "0  1.339854 -0.184597"
      ]
     },
     "execution_count": 58,
     "metadata": {},
     "output_type": "execute_result"
    }
   ],
   "source": [
    "gaussian_or_coeffs"
   ]
  },
  {
   "cell_type": "code",
   "execution_count": 59,
   "id": "55892ed8-2f31-4d25-8364-707fca30d92b",
   "metadata": {},
   "outputs": [
    {
     "data": {
      "text/html": [
       "<div>\n",
       "<style scoped>\n",
       "    .dataframe tbody tr th:only-of-type {\n",
       "        vertical-align: middle;\n",
       "    }\n",
       "\n",
       "    .dataframe tbody tr th {\n",
       "        vertical-align: top;\n",
       "    }\n",
       "\n",
       "    .dataframe thead th {\n",
       "        text-align: right;\n",
       "    }\n",
       "</style>\n",
       "<table border=\"1\" class=\"dataframe\">\n",
       "  <thead>\n",
       "    <tr style=\"text-align: right;\">\n",
       "      <th></th>\n",
       "      <th>ate</th>\n",
       "    </tr>\n",
       "  </thead>\n",
       "  <tbody>\n",
       "    <tr>\n",
       "      <th>0</th>\n",
       "      <td>1.001072882918673</td>\n",
       "    </tr>\n",
       "  </tbody>\n",
       "</table>\n",
       "</div>"
      ],
      "text/plain": [
       "                 ate\n",
       "0  1.001072882918673"
      ]
     },
     "execution_count": 59,
     "metadata": {},
     "output_type": "execute_result"
    }
   ],
   "source": [
    "ff_outcome_coeffs"
   ]
  },
  {
   "cell_type": "code",
   "execution_count": null,
   "id": "43e8816f-ffad-4f70-a045-d6740a83682e",
   "metadata": {},
   "outputs": [],
   "source": []
  },
  {
   "cell_type": "code",
   "execution_count": null,
   "id": "f927fa22-f7f0-4f22-a76e-6afc6f8c4a25",
   "metadata": {},
   "outputs": [],
   "source": []
  },
  {
   "cell_type": "code",
   "execution_count": null,
   "id": "bd0bdbe4-bbd7-4856-a0bc-9e5c438e7b84",
   "metadata": {},
   "outputs": [],
   "source": []
  },
  {
   "cell_type": "code",
   "execution_count": null,
   "id": "9ff835b1-0555-4c72-ac5c-2633a4b7b575",
   "metadata": {},
   "outputs": [],
   "source": []
  },
  {
   "cell_type": "code",
   "execution_count": 93,
   "id": "f327f224-33d6-4c1d-b628-9af13ab84413",
   "metadata": {},
   "outputs": [],
   "source": [
    "uz_samples = causl_py.generate_uz_samples(Z_disc, Z_cont, use_marginal_flow=False, seed=0, frugal_flow_hyperparams=hyperparams_dict)\n",
    "\n",
    "uz_disc_samples = uz_samples['uz_disc']\n",
    "uz_cont_samples = uz_samples['uz_cont']"
   ]
  },
  {
   "cell_type": "code",
   "execution_count": 94,
   "id": "0df6e6bf-a7cf-44ab-9e47-a6709939e714",
   "metadata": {},
   "outputs": [
    {
     "name": "stderr",
     "output_type": "stream",
     "text": [
      "  3%|██▉                                                                                              | 298/10000 [01:59<1:04:37,  2.50it/s, train=-3.3287395091331566, val=-3.551915735317446 (Max patience reached)]\n"
     ]
    }
   ],
   "source": [
    "frugal_flow, losses = train_frugal_flow(\n",
    "    key=jr.PRNGKey(123),\n",
    "    y=Y,\n",
    "    u_z=uz_samples['uz_samples'],\n",
    "    condition=X,\n",
    "    **hyperparams_dict,\n",
    "    causal_model='gaussian',\n",
    "    causal_model_args={'ate': 0., 'const': 0., 'scale': 1}\n",
    ")\n",
    "causal_margin = frugal_flow.bijection.bijections[-1].bijection.bijections[0]"
   ]
  },
  {
   "cell_type": "code",
   "execution_count": 95,
   "id": "389c1e85-2fd5-4748-a167-e6f311b68a17",
   "metadata": {},
   "outputs": [
    {
     "name": "stdout",
     "output_type": "stream",
     "text": [
      "1.0001123091823287\n",
      "0.9050138311085674\n",
      "1.1729012845123044\n"
     ]
    }
   ],
   "source": [
    "print(causal_margin.ate)\n",
    "print(causal_margin.const)\n",
    "print(causal_margin.scale)"
   ]
  },
  {
   "cell_type": "code",
   "execution_count": null,
   "id": "c8031dfe-2306-41ff-bb26-88b6d712b189",
   "metadata": {},
   "outputs": [],
   "source": []
  },
  {
   "cell_type": "code",
   "execution_count": null,
   "id": "7ea306e8-2089-411f-9a50-b87660adad8f",
   "metadata": {},
   "outputs": [],
   "source": []
  },
  {
   "cell_type": "code",
   "execution_count": 4,
   "id": "a136574c-cbba-4c24-91e1-eec5f584d48b",
   "metadata": {},
   "outputs": [
    {
     "name": "stderr",
     "output_type": "stream",
     "text": [
      "  1%|█▎                                                                                            | 146/10000 [00:59<1:06:36,  2.47it/s, train=-1.6662744359198165, val=-1.5945379135067363 (Max patience reached)]\n",
      "  1%|█▎                                                                                             | 135/10000 [00:54<1:06:20,  2.48it/s, train=-1.7115097075720913, val=-1.511784562699623 (Max patience reached)]\n",
      "  1%|▋                                                                                               | 75/10000 [00:31<1:08:57,  2.40it/s, train=-1.6545035327901079, val=-1.539106264358892 (Max patience reached)]\n",
      "  1%|█                                                                                              | 108/10000 [00:43<1:07:01,  2.46it/s, train=-1.651638086130916, val=-1.5828145637944164 (Max patience reached)]\n",
      "  1%|▋                                                                                              | 72/10000 [00:29<1:07:02,  2.47it/s, train=-1.6444898363414033, val=-1.5607267374252083 (Max patience reached)]\n",
      "  1%|▊                                                                                              | 82/10000 [00:32<1:05:58,  2.51it/s, train=-1.6325873537273894, val=-1.5979763107970615 (Max patience reached)]\n",
      "  1%|▉                                                                                             | 106/10000 [00:41<1:04:33,  2.55it/s, train=-1.6550666389540718, val=-1.4753496567636912 (Max patience reached)]\n",
      "  1%|█▏                                                                                            | 122/10000 [00:50<1:07:52,  2.43it/s, train=-1.6273104987786629, val=-1.3093723573239895 (Max patience reached)]\n",
      "  1%|█                                                                                             | 112/10000 [00:45<1:06:56,  2.46it/s, train=-1.6553558543485851, val=-1.5862363817177827 (Max patience reached)]\n",
      "  1%|▋                                                                                               | 76/10000 [00:32<1:11:26,  2.32it/s, train=-1.631032074728313, val=-1.5481476763473099 (Max patience reached)]\n"
     ]
    }
   ],
   "source": [
    "gaussian_covariates_results = causl_py.run_simulations(\n",
    "    causl_py.generate_gaussian_samples, \n",
    "    seed=SEED, \n",
    "    num_samples=NUM_SAMPLES, \n",
    "    num_iter=NUM_ITER, \n",
    "    causal_params=CAUSAL_PARAMS,\n",
    "    hyperparams_dict=hyperparams_dict,\n",
    "    causal_model_args={'ate': 0., 'const': 0., 'scale': 1}\n",
    ")"
   ]
  },
  {
   "cell_type": "code",
   "execution_count": 5,
   "id": "ae40f9cd-e3ac-4430-ba25-18f14805c040",
   "metadata": {},
   "outputs": [
    {
     "data": {
      "text/html": [
       "<div>\n",
       "<style scoped>\n",
       "    .dataframe tbody tr th:only-of-type {\n",
       "        vertical-align: middle;\n",
       "    }\n",
       "\n",
       "    .dataframe tbody tr th {\n",
       "        vertical-align: top;\n",
       "    }\n",
       "\n",
       "    .dataframe thead th {\n",
       "        text-align: right;\n",
       "    }\n",
       "</style>\n",
       "<table border=\"1\" class=\"dataframe\">\n",
       "  <thead>\n",
       "    <tr style=\"text-align: right;\">\n",
       "      <th></th>\n",
       "      <th>ate</th>\n",
       "      <th>const</th>\n",
       "      <th>scale</th>\n",
       "    </tr>\n",
       "  </thead>\n",
       "  <tbody>\n",
       "    <tr>\n",
       "      <th>0</th>\n",
       "      <td>1.001427</td>\n",
       "      <td>0.992398</td>\n",
       "      <td>1.010613</td>\n",
       "    </tr>\n",
       "    <tr>\n",
       "      <th>1</th>\n",
       "      <td>0.969419</td>\n",
       "      <td>1.026160</td>\n",
       "      <td>1.014438</td>\n",
       "    </tr>\n",
       "    <tr>\n",
       "      <th>2</th>\n",
       "      <td>1.002122</td>\n",
       "      <td>0.992484</td>\n",
       "      <td>1.026100</td>\n",
       "    </tr>\n",
       "    <tr>\n",
       "      <th>3</th>\n",
       "      <td>1.011173</td>\n",
       "      <td>1.009542</td>\n",
       "      <td>1.015836</td>\n",
       "    </tr>\n",
       "    <tr>\n",
       "      <th>4</th>\n",
       "      <td>1.017371</td>\n",
       "      <td>0.996287</td>\n",
       "      <td>0.996285</td>\n",
       "    </tr>\n",
       "    <tr>\n",
       "      <th>5</th>\n",
       "      <td>0.989980</td>\n",
       "      <td>0.993496</td>\n",
       "      <td>1.017365</td>\n",
       "    </tr>\n",
       "    <tr>\n",
       "      <th>6</th>\n",
       "      <td>1.026942</td>\n",
       "      <td>0.982632</td>\n",
       "      <td>1.004274</td>\n",
       "    </tr>\n",
       "    <tr>\n",
       "      <th>7</th>\n",
       "      <td>1.013507</td>\n",
       "      <td>0.995911</td>\n",
       "      <td>1.009985</td>\n",
       "    </tr>\n",
       "    <tr>\n",
       "      <th>8</th>\n",
       "      <td>1.025514</td>\n",
       "      <td>0.970202</td>\n",
       "      <td>1.006064</td>\n",
       "    </tr>\n",
       "    <tr>\n",
       "      <th>9</th>\n",
       "      <td>1.064848</td>\n",
       "      <td>0.958831</td>\n",
       "      <td>0.999090</td>\n",
       "    </tr>\n",
       "  </tbody>\n",
       "</table>\n",
       "</div>"
      ],
      "text/plain": [
       "        ate     const     scale\n",
       "0  1.001427  0.992398  1.010613\n",
       "1  0.969419  1.026160  1.014438\n",
       "2  1.002122  0.992484  1.026100\n",
       "3  1.011173  1.009542  1.015836\n",
       "4  1.017371  0.996287  0.996285\n",
       "5  0.989980  0.993496  1.017365\n",
       "6  1.026942  0.982632  1.004274\n",
       "7  1.013507  0.995911  1.009985\n",
       "8  1.025514  0.970202  1.006064\n",
       "9  1.064848  0.958831  0.999090"
      ]
     },
     "execution_count": 5,
     "metadata": {},
     "output_type": "execute_result"
    }
   ],
   "source": [
    "gaussian_covariates_results"
   ]
  },
  {
   "cell_type": "code",
   "execution_count": 6,
   "id": "c87ec959-d25b-4713-b24f-2a0bd860eaed",
   "metadata": {},
   "outputs": [
    {
     "data": {
      "text/plain": [
       "ate      1.012230\n",
       "const    0.991794\n",
       "scale    1.010005\n",
       "dtype: float64"
      ]
     },
     "metadata": {},
     "output_type": "display_data"
    },
    {
     "data": {
      "text/plain": [
       "ate      0.025249\n",
       "const    0.018778\n",
       "scale    0.008963\n",
       "dtype: float64"
      ]
     },
     "metadata": {},
     "output_type": "display_data"
    }
   ],
   "source": [
    "display(gaussian_covariates_results.mean())\n",
    "display(gaussian_covariates_results.std())"
   ]
  },
  {
   "cell_type": "code",
   "execution_count": 7,
   "id": "0ad888c7-26e9-43e0-8942-2a8b2231f13c",
   "metadata": {},
   "outputs": [
    {
     "data": {
      "text/plain": [
       "<matplotlib.legend.Legend at 0x36882a750>"
      ]
     },
     "execution_count": 7,
     "metadata": {},
     "output_type": "execute_result"
    },
    {
     "data": {
      "image/png": "[encoded data removed]",
      "text/plain": [
       "<Figure size 1200x600 with 1 Axes>"
      ]
     },
     "metadata": {},
     "output_type": "display_data"
    }
   ],
   "source": [
    "plt.figure(figsize=(12, 6))\n",
    "\n",
    "# Boxplot\n",
    "box = gaussian_covariates_results.boxplot(column=[\"ate\", \"const\", \"scale\"], grid=False)\n",
    "\n",
    "# Adding lines for the true parameters\n",
    "plt.axhline(y=TRUE_PARAMS['ate'], color='r', linestyle='--', label='True ate')\n",
    "plt.axhline(y=TRUE_PARAMS['const'], color='g', linestyle='--', label='True const')\n",
    "plt.axhline(y=TRUE_PARAMS['scale'], color='b', linestyle='--', label='True scale')\n",
    "\n",
    "# Adding title and labels\n",
    "plt.title('Box and Whisker Plot for ATE, Const, and Scale')\n",
    "plt.ylabel('Values')\n",
    "plt.ylim([0.80, 1.20])\n",
    "plt.legend()"
   ]
  },
  {
   "cell_type": "markdown",
   "id": "f1d441a3-1d98-4c9d-bd3c-ebc3f0b5c20f",
   "metadata": {},
   "source": [
    "#### Outcome Regression"
   ]
  },
  {
   "cell_type": "code",
   "execution_count": 8,
   "id": "9b28afaf-719e-4618-834a-eac0b85fbc87",
   "metadata": {},
   "outputs": [
    {
     "data": {
      "text/html": [
       "<div>\n",
       "<style scoped>\n",
       "    .dataframe tbody tr th:only-of-type {\n",
       "        vertical-align: middle;\n",
       "    }\n",
       "\n",
       "    .dataframe tbody tr th {\n",
       "        vertical-align: top;\n",
       "    }\n",
       "\n",
       "    .dataframe thead th {\n",
       "        text-align: right;\n",
       "    }\n",
       "</style>\n",
       "<table border=\"1\" class=\"dataframe\">\n",
       "  <thead>\n",
       "    <tr style=\"text-align: right;\">\n",
       "      <th></th>\n",
       "      <th>ate</th>\n",
       "      <th>const</th>\n",
       "    </tr>\n",
       "  </thead>\n",
       "  <tbody>\n",
       "    <tr>\n",
       "      <th>0</th>\n",
       "      <td>2.031925</td>\n",
       "      <td>0.274835</td>\n",
       "    </tr>\n",
       "    <tr>\n",
       "      <th>1</th>\n",
       "      <td>2.020742</td>\n",
       "      <td>0.278772</td>\n",
       "    </tr>\n",
       "    <tr>\n",
       "      <th>2</th>\n",
       "      <td>2.041646</td>\n",
       "      <td>0.272939</td>\n",
       "    </tr>\n",
       "    <tr>\n",
       "      <th>3</th>\n",
       "      <td>2.018806</td>\n",
       "      <td>0.293595</td>\n",
       "    </tr>\n",
       "    <tr>\n",
       "      <th>4</th>\n",
       "      <td>1.989711</td>\n",
       "      <td>0.294193</td>\n",
       "    </tr>\n",
       "    <tr>\n",
       "      <th>5</th>\n",
       "      <td>2.051059</td>\n",
       "      <td>0.266681</td>\n",
       "    </tr>\n",
       "    <tr>\n",
       "      <th>6</th>\n",
       "      <td>1.990568</td>\n",
       "      <td>0.288492</td>\n",
       "    </tr>\n",
       "    <tr>\n",
       "      <th>7</th>\n",
       "      <td>2.007042</td>\n",
       "      <td>0.297439</td>\n",
       "    </tr>\n",
       "    <tr>\n",
       "      <th>8</th>\n",
       "      <td>2.023868</td>\n",
       "      <td>0.265236</td>\n",
       "    </tr>\n",
       "    <tr>\n",
       "      <th>9</th>\n",
       "      <td>2.069247</td>\n",
       "      <td>0.249396</td>\n",
       "    </tr>\n",
       "  </tbody>\n",
       "</table>\n",
       "</div>"
      ],
      "text/plain": [
       "        ate     const\n",
       "0  2.031925  0.274835\n",
       "1  2.020742  0.278772\n",
       "2  2.041646  0.272939\n",
       "3  2.018806  0.293595\n",
       "4  1.989711  0.294193\n",
       "5  2.051059  0.266681\n",
       "6  1.990568  0.288492\n",
       "7  2.007042  0.297439\n",
       "8  2.023868  0.265236\n",
       "9  2.069247  0.249396"
      ]
     },
     "execution_count": 8,
     "metadata": {},
     "output_type": "execute_result"
    }
   ],
   "source": [
    "gaussian_coeffs = {'ate': [], 'const': []}\n",
    "for i in range(NUM_ITER):\n",
    "    data = causl_py.generate_gaussian_samples(N=NUM_SAMPLES, causal_params=CAUSAL_PARAMS, seed=i)\n",
    "    coeff_X, coeff_const = run_outcome_regression(data)\n",
    "    gaussian_coeffs['ate'].append(coeff_X)\n",
    "    gaussian_coeffs['const'].append(coeff_const)\n",
    "gaussian_outcome_coeffs = pd.DataFrame.from_dict(gaussian_coeffs)\n",
    "gaussian_outcome_coeffs"
   ]
  },
  {
   "cell_type": "code",
   "execution_count": 9,
   "id": "532559d4-63e2-45c1-8657-9326dc549354",
   "metadata": {},
   "outputs": [
    {
     "name": "stdout",
     "output_type": "stream",
     "text": [
      "ate      2.024461\n",
      "const    0.278158\n",
      "dtype: float64\n",
      "ate      0.025320\n",
      "const    0.015415\n",
      "dtype: float64\n"
     ]
    }
   ],
   "source": [
    "print(gaussian_outcome_coeffs.mean())\n",
    "print(gaussian_outcome_coeffs.std())"
   ]
  },
  {
   "cell_type": "markdown",
   "id": "ba9dcb71-a33c-4a2a-b6da-c418772a9dca",
   "metadata": {},
   "source": [
    "### Mixed Gaussian and Gamma Outcomes"
   ]
  },
  {
   "cell_type": "code",
   "execution_count": 3,
   "id": "a92adc2c-236e-4f3a-b575-5491fc244bc9",
   "metadata": {},
   "outputs": [
    {
     "name": "stderr",
     "output_type": "stream",
     "text": [
      "  1%|▉                                                                                                 | 93/10000 [00:41<1:12:56,  2.26it/s, train=1.273858722049313, val=1.4435381443026079 (Max patience reached)]\n",
      "  1%|▋                                                                                                 | 71/10000 [00:31<1:14:22,  2.22it/s, train=1.314600737619243, val=1.4398861664784135 (Max patience reached)]\n",
      "  1%|▋                                                                                                  | 69/10000 [00:31<1:14:52,  2.21it/s, train=1.316045913447802, val=1.412741927922887 (Max patience reached)]\n",
      "  1%|▊                                                                                                | 83/10000 [00:37<1:14:44,  2.21it/s, train=1.3271690225850794, val=1.3935106611418466 (Max patience reached)]\n",
      "  1%|▋                                                                                                 | 76/10000 [00:34<1:15:58,  2.18it/s, train=1.312538490507847, val=1.4361382612391098 (Max patience reached)]\n",
      "  1%|▌                                                                                                  | 63/10000 [00:29<1:17:43,  2.13it/s, train=1.3335114664802916, val=1.42046552793644 (Max patience reached)]\n",
      "  1%|▊                                                                                                | 85/10000 [00:37<1:12:33,  2.28it/s, train=1.3077290193649338, val=1.4092798193274436 (Max patience reached)]\n",
      "  1%|▉                                                                                               | 104/10000 [00:46<1:14:16,  2.22it/s, train=1.3273551953479912, val=1.3959799304154972 (Max patience reached)]\n",
      "  1%|▋                                                                                                | 76/10000 [00:34<1:14:34,  2.22it/s, train=1.3327892284303882, val=1.4073745717836177 (Max patience reached)]\n",
      "  1%|▌                                                                                                  | 62/10000 [00:29<1:17:42,  2.13it/s, train=1.3220629156470953, val=1.41631875570546 (Max patience reached)]\n"
     ]
    }
   ],
   "source": [
    "continous_covariates_results = causl_py.run_simulations(\n",
    "    causl_py.generate_mixed_samples, \n",
    "    seed=SEED, \n",
    "    num_samples=NUM_SAMPLES, \n",
    "    num_iter=NUM_ITER, \n",
    "    causal_params=CAUSAL_PARAMS,\n",
    "    hyperparams_dict=hyperparams_dict,\n",
    "    causal_model_args={'ate': 0., 'const': 0., 'scale': 1}\n",
    ")"
   ]
  },
  {
   "cell_type": "code",
   "execution_count": 4,
   "id": "1e29818a-ddb4-4f56-9d11-1fb4bd752d35",
   "metadata": {},
   "outputs": [
    {
     "data": {
      "text/html": [
       "<div>\n",
       "<style scoped>\n",
       "    .dataframe tbody tr th:only-of-type {\n",
       "        vertical-align: middle;\n",
       "    }\n",
       "\n",
       "    .dataframe tbody tr th {\n",
       "        vertical-align: top;\n",
       "    }\n",
       "\n",
       "    .dataframe thead th {\n",
       "        text-align: right;\n",
       "    }\n",
       "</style>\n",
       "<table border=\"1\" class=\"dataframe\">\n",
       "  <thead>\n",
       "    <tr style=\"text-align: right;\">\n",
       "      <th></th>\n",
       "      <th>ate</th>\n",
       "      <th>const</th>\n",
       "      <th>scale</th>\n",
       "    </tr>\n",
       "  </thead>\n",
       "  <tbody>\n",
       "    <tr>\n",
       "      <th>0</th>\n",
       "      <td>1.080885</td>\n",
       "      <td>0.933839</td>\n",
       "      <td>0.984083</td>\n",
       "    </tr>\n",
       "    <tr>\n",
       "      <th>1</th>\n",
       "      <td>1.027618</td>\n",
       "      <td>0.960013</td>\n",
       "      <td>0.991454</td>\n",
       "    </tr>\n",
       "    <tr>\n",
       "      <th>2</th>\n",
       "      <td>1.021782</td>\n",
       "      <td>0.969646</td>\n",
       "      <td>0.985138</td>\n",
       "    </tr>\n",
       "    <tr>\n",
       "      <th>3</th>\n",
       "      <td>1.119999</td>\n",
       "      <td>0.921237</td>\n",
       "      <td>1.006077</td>\n",
       "    </tr>\n",
       "    <tr>\n",
       "      <th>4</th>\n",
       "      <td>1.009336</td>\n",
       "      <td>0.981173</td>\n",
       "      <td>1.009921</td>\n",
       "    </tr>\n",
       "    <tr>\n",
       "      <th>5</th>\n",
       "      <td>1.020890</td>\n",
       "      <td>0.985022</td>\n",
       "      <td>1.010467</td>\n",
       "    </tr>\n",
       "    <tr>\n",
       "      <th>6</th>\n",
       "      <td>1.047110</td>\n",
       "      <td>0.937715</td>\n",
       "      <td>0.993842</td>\n",
       "    </tr>\n",
       "    <tr>\n",
       "      <th>7</th>\n",
       "      <td>1.031473</td>\n",
       "      <td>0.960616</td>\n",
       "      <td>1.001002</td>\n",
       "    </tr>\n",
       "    <tr>\n",
       "      <th>8</th>\n",
       "      <td>1.035723</td>\n",
       "      <td>0.956020</td>\n",
       "      <td>1.019988</td>\n",
       "    </tr>\n",
       "    <tr>\n",
       "      <th>9</th>\n",
       "      <td>1.002650</td>\n",
       "      <td>0.992750</td>\n",
       "      <td>1.004075</td>\n",
       "    </tr>\n",
       "  </tbody>\n",
       "</table>\n",
       "</div>"
      ],
      "text/plain": [
       "        ate     const     scale\n",
       "0  1.080885  0.933839  0.984083\n",
       "1  1.027618  0.960013  0.991454\n",
       "2  1.021782  0.969646  0.985138\n",
       "3  1.119999  0.921237  1.006077\n",
       "4  1.009336  0.981173  1.009921\n",
       "5  1.020890  0.985022  1.010467\n",
       "6  1.047110  0.937715  0.993842\n",
       "7  1.031473  0.960616  1.001002\n",
       "8  1.035723  0.956020  1.019988\n",
       "9  1.002650  0.992750  1.004075"
      ]
     },
     "execution_count": 4,
     "metadata": {},
     "output_type": "execute_result"
    }
   ],
   "source": [
    "continous_covariates_results"
   ]
  },
  {
   "cell_type": "code",
   "execution_count": 13,
   "id": "afe5e95e-facb-4f70-9504-b3563aff44d4",
   "metadata": {},
   "outputs": [
    {
     "name": "stdout",
     "output_type": "stream",
     "text": [
      "ate      1.028866\n",
      "const    0.979781\n",
      "scale    1.006884\n",
      "dtype: float64\n",
      "ate      0.052284\n",
      "const    0.035738\n",
      "scale    0.010582\n",
      "dtype: float64\n"
     ]
    }
   ],
   "source": [
    "print(continous_covariates_results.mean())\n",
    "print(continous_covariates_results.std())"
   ]
  },
  {
   "cell_type": "markdown",
   "id": "b7a1c159-5441-4ed7-8890-be515f80fde7",
   "metadata": {},
   "source": [
    "#### Outcome Regression"
   ]
  },
  {
   "cell_type": "code",
   "execution_count": 14,
   "id": "fb4daed3-c646-4d59-a219-e8131ff04332",
   "metadata": {},
   "outputs": [
    {
     "data": {
      "text/html": [
       "<div>\n",
       "<style scoped>\n",
       "    .dataframe tbody tr th:only-of-type {\n",
       "        vertical-align: middle;\n",
       "    }\n",
       "\n",
       "    .dataframe tbody tr th {\n",
       "        vertical-align: top;\n",
       "    }\n",
       "\n",
       "    .dataframe thead th {\n",
       "        text-align: right;\n",
       "    }\n",
       "</style>\n",
       "<table border=\"1\" class=\"dataframe\">\n",
       "  <thead>\n",
       "    <tr style=\"text-align: right;\">\n",
       "      <th></th>\n",
       "      <th>ate</th>\n",
       "      <th>const</th>\n",
       "    </tr>\n",
       "  </thead>\n",
       "  <tbody>\n",
       "    <tr>\n",
       "      <th>0</th>\n",
       "      <td>1.188531</td>\n",
       "      <td>0.835094</td>\n",
       "    </tr>\n",
       "    <tr>\n",
       "      <th>1</th>\n",
       "      <td>1.182430</td>\n",
       "      <td>0.835907</td>\n",
       "    </tr>\n",
       "    <tr>\n",
       "      <th>2</th>\n",
       "      <td>1.147205</td>\n",
       "      <td>0.889543</td>\n",
       "    </tr>\n",
       "    <tr>\n",
       "      <th>3</th>\n",
       "      <td>1.210747</td>\n",
       "      <td>0.824072</td>\n",
       "    </tr>\n",
       "    <tr>\n",
       "      <th>4</th>\n",
       "      <td>1.109217</td>\n",
       "      <td>0.910386</td>\n",
       "    </tr>\n",
       "    <tr>\n",
       "      <th>5</th>\n",
       "      <td>1.190407</td>\n",
       "      <td>0.833550</td>\n",
       "    </tr>\n",
       "    <tr>\n",
       "      <th>6</th>\n",
       "      <td>1.139697</td>\n",
       "      <td>0.876266</td>\n",
       "    </tr>\n",
       "    <tr>\n",
       "      <th>7</th>\n",
       "      <td>1.144484</td>\n",
       "      <td>0.872048</td>\n",
       "    </tr>\n",
       "    <tr>\n",
       "      <th>8</th>\n",
       "      <td>1.129973</td>\n",
       "      <td>0.879474</td>\n",
       "    </tr>\n",
       "    <tr>\n",
       "      <th>9</th>\n",
       "      <td>1.166694</td>\n",
       "      <td>0.851736</td>\n",
       "    </tr>\n",
       "  </tbody>\n",
       "</table>\n",
       "</div>"
      ],
      "text/plain": [
       "        ate     const\n",
       "0  1.188531  0.835094\n",
       "1  1.182430  0.835907\n",
       "2  1.147205  0.889543\n",
       "3  1.210747  0.824072\n",
       "4  1.109217  0.910386\n",
       "5  1.190407  0.833550\n",
       "6  1.139697  0.876266\n",
       "7  1.144484  0.872048\n",
       "8  1.129973  0.879474\n",
       "9  1.166694  0.851736"
      ]
     },
     "execution_count": 14,
     "metadata": {},
     "output_type": "execute_result"
    }
   ],
   "source": [
    "outcome_coeffs = {'ate': [], 'const': []}\n",
    "for i in range(NUM_ITER):\n",
    "    data = causl_py.generate_mixed_samples(N=NUM_SAMPLES, causal_params=CAUSAL_PARAMS, seed=i)\n",
    "    coeff_X, coeff_const = run_outcome_regression(data)\n",
    "    outcome_coeffs['ate'].append(coeff_X)\n",
    "    outcome_coeffs['const'].append(coeff_const)\n",
    "outcome_coeffs = pd.DataFrame.from_dict(outcome_coeffs)\n",
    "outcome_coeffs"
   ]
  },
  {
   "cell_type": "code",
   "execution_count": 15,
   "id": "1f98eee7-e37c-49dd-b671-7f467f246822",
   "metadata": {},
   "outputs": [
    {
     "name": "stdout",
     "output_type": "stream",
     "text": [
      "ate      1.160938\n",
      "const    0.860807\n",
      "dtype: float64\n",
      "ate      0.031885\n",
      "const    0.028778\n",
      "dtype: float64\n"
     ]
    }
   ],
   "source": [
    "print(outcome_coeffs.mean())\n",
    "print(outcome_coeffs.std())"
   ]
  },
  {
   "cell_type": "code",
   "execution_count": 16,
   "id": "2ce3d31b-b7ba-4efd-b736-7d48eeaf4ce8",
   "metadata": {},
   "outputs": [
    {
     "data": {
      "text/plain": [
       "<matplotlib.legend.Legend at 0x39414d910>"
      ]
     },
     "execution_count": 16,
     "metadata": {},
     "output_type": "execute_result"
    },
    {
     "data": {
      "image/png": "[encoded data removed]",
      "text/plain": [
       "<Figure size 1200x600 with 1 Axes>"
      ]
     },
     "metadata": {},
     "output_type": "display_data"
    }
   ],
   "source": [
    "plt.figure(figsize=(12, 6))\n",
    "\n",
    "# Boxplot\n",
    "box = continous_covariates_results.boxplot(column=[\"ate\", \"const\", \"scale\"], grid=False)\n",
    "\n",
    "# Adding lines for the true parameters\n",
    "plt.axhline(y=TRUE_PARAMS['ate'], color='r', linestyle='--', label='True ate')\n",
    "plt.axhline(y=TRUE_PARAMS['const'], color='g', linestyle='--', label='True const')\n",
    "plt.axhline(y=TRUE_PARAMS['scale'], color='b', linestyle='--', label='True scale')\n",
    "\n",
    "# Adding title and labels\n",
    "plt.title('Box and Whisker Plot for ATE, Const, and Scale')\n",
    "plt.ylabel('Values')\n",
    "plt.ylim([0.80, 1.20])\n",
    "plt.legend()"
   ]
  },
  {
   "cell_type": "markdown",
   "id": "9e92ce2d-e11d-4d53-96df-6481da5b2401",
   "metadata": {},
   "source": [
    "### Mixed Continuous and Discrete (Small)"
   ]
  },
  {
   "cell_type": "code",
   "execution_count": 17,
   "id": "29615df2-8aaa-441d-9e7e-1f2f0c5dacdf",
   "metadata": {},
   "outputs": [
    {
     "name": "stderr",
     "output_type": "stream",
     "text": [
      "  1%|█                                                                                               | 115/10000 [00:46<1:06:37,  2.47it/s, train=1.1967150571938827, val=1.3814002143851083 (Max patience reached)]\n",
      "  1%|▌                                                                                                 | 62/10000 [00:25<1:09:21,  2.39it/s, train=1.233278846343141, val=1.3178482986487683 (Max patience reached)]\n",
      "  1%|▋                                                                                                | 65/10000 [00:26<1:08:33,  2.42it/s, train=1.2211797548341665, val=1.3513109202320785 (Max patience reached)]\n",
      "  1%|▊                                                                                                  | 76/10000 [00:30<1:07:06,  2.46it/s, train=1.234788407648158, val=1.416794241742044 (Max patience reached)]\n",
      "  1%|▌                                                                                                | 56/10000 [00:23<1:09:33,  2.38it/s, train=1.2361856648015093, val=1.3086078917527408 (Max patience reached)]\n",
      "  1%|▊                                                                                                 | 81/10000 [00:32<1:06:56,  2.47it/s, train=1.235748209332504, val=1.3183950228697907 (Max patience reached)]\n",
      "  1%|▊                                                                                                 | 77/10000 [00:30<1:05:52,  2.51it/s, train=1.245615955195015, val=1.3158598632491105 (Max patience reached)]\n",
      "  1%|▌                                                                                                | 59/10000 [00:24<1:07:52,  2.44it/s, train=1.2428089083758955, val=1.3823281003334624 (Max patience reached)]\n",
      "  1%|▋                                                                                                | 77/10000 [00:31<1:06:38,  2.48it/s, train=1.2449871035863995, val=1.3410159345134678 (Max patience reached)]\n",
      "  1%|▋                                                                                                | 66/10000 [00:27<1:07:51,  2.44it/s, train=1.2553570804918066, val=1.3747757565146697 (Max patience reached)]\n"
     ]
    }
   ],
   "source": [
    "discrete_small_covariates_results = causl_py.run_simulations(\n",
    "    causl_py.generate_discrete_samples, \n",
    "    seed=SEED, \n",
    "    num_samples=NUM_SAMPLES, \n",
    "    num_iter=NUM_ITER, \n",
    "    causal_params=CAUSAL_PARAMS,\n",
    "    hyperparams_dict=hyperparams_dict,\n",
    "    causal_model_args={'ate': 0., 'const': 0., 'scale': 1}\n",
    ")"
   ]
  },
  {
   "cell_type": "code",
   "execution_count": 18,
   "id": "ba2d08c5-9ebd-40ec-844a-219c5eb5a079",
   "metadata": {},
   "outputs": [
    {
     "data": {
      "text/html": [
       "<div>\n",
       "<style scoped>\n",
       "    .dataframe tbody tr th:only-of-type {\n",
       "        vertical-align: middle;\n",
       "    }\n",
       "\n",
       "    .dataframe tbody tr th {\n",
       "        vertical-align: top;\n",
       "    }\n",
       "\n",
       "    .dataframe thead th {\n",
       "        text-align: right;\n",
       "    }\n",
       "</style>\n",
       "<table border=\"1\" class=\"dataframe\">\n",
       "  <thead>\n",
       "    <tr style=\"text-align: right;\">\n",
       "      <th></th>\n",
       "      <th>ate</th>\n",
       "      <th>const</th>\n",
       "      <th>scale</th>\n",
       "    </tr>\n",
       "  </thead>\n",
       "  <tbody>\n",
       "    <tr>\n",
       "      <th>0</th>\n",
       "      <td>1.027807</td>\n",
       "      <td>0.983176</td>\n",
       "      <td>0.990265</td>\n",
       "    </tr>\n",
       "    <tr>\n",
       "      <th>1</th>\n",
       "      <td>1.023115</td>\n",
       "      <td>0.986688</td>\n",
       "      <td>1.014533</td>\n",
       "    </tr>\n",
       "    <tr>\n",
       "      <th>2</th>\n",
       "      <td>1.103407</td>\n",
       "      <td>0.960552</td>\n",
       "      <td>0.987070</td>\n",
       "    </tr>\n",
       "    <tr>\n",
       "      <th>3</th>\n",
       "      <td>1.103977</td>\n",
       "      <td>0.931310</td>\n",
       "      <td>0.987112</td>\n",
       "    </tr>\n",
       "    <tr>\n",
       "      <th>4</th>\n",
       "      <td>0.953385</td>\n",
       "      <td>1.014354</td>\n",
       "      <td>1.016591</td>\n",
       "    </tr>\n",
       "    <tr>\n",
       "      <th>5</th>\n",
       "      <td>1.025464</td>\n",
       "      <td>0.984109</td>\n",
       "      <td>0.996519</td>\n",
       "    </tr>\n",
       "    <tr>\n",
       "      <th>6</th>\n",
       "      <td>1.102886</td>\n",
       "      <td>0.937177</td>\n",
       "      <td>0.989728</td>\n",
       "    </tr>\n",
       "    <tr>\n",
       "      <th>7</th>\n",
       "      <td>1.019518</td>\n",
       "      <td>0.980063</td>\n",
       "      <td>1.001642</td>\n",
       "    </tr>\n",
       "    <tr>\n",
       "      <th>8</th>\n",
       "      <td>1.084024</td>\n",
       "      <td>0.933062</td>\n",
       "      <td>1.001574</td>\n",
       "    </tr>\n",
       "    <tr>\n",
       "      <th>9</th>\n",
       "      <td>1.048093</td>\n",
       "      <td>0.968138</td>\n",
       "      <td>1.006830</td>\n",
       "    </tr>\n",
       "  </tbody>\n",
       "</table>\n",
       "</div>"
      ],
      "text/plain": [
       "        ate     const     scale\n",
       "0  1.027807  0.983176  0.990265\n",
       "1  1.023115  0.986688  1.014533\n",
       "2  1.103407  0.960552  0.987070\n",
       "3  1.103977  0.931310  0.987112\n",
       "4  0.953385  1.014354  1.016591\n",
       "5  1.025464  0.984109  0.996519\n",
       "6  1.102886  0.937177  0.989728\n",
       "7  1.019518  0.980063  1.001642\n",
       "8  1.084024  0.933062  1.001574\n",
       "9  1.048093  0.968138  1.006830"
      ]
     },
     "execution_count": 18,
     "metadata": {},
     "output_type": "execute_result"
    }
   ],
   "source": [
    "discrete_small_covariates_results"
   ]
  },
  {
   "cell_type": "code",
   "execution_count": 19,
   "id": "5e25a9b3-1a2e-4acf-af87-3757337a5877",
   "metadata": {},
   "outputs": [
    {
     "name": "stdout",
     "output_type": "stream",
     "text": [
      "ate      1.049168\n",
      "const    0.967863\n",
      "scale    0.999186\n",
      "dtype: float64\n",
      "ate      0.049214\n",
      "const    0.027296\n",
      "scale    0.010941\n",
      "dtype: float64\n"
     ]
    }
   ],
   "source": [
    "print(discrete_small_covariates_results.mean())\n",
    "print(discrete_small_covariates_results.std())"
   ]
  },
  {
   "cell_type": "markdown",
   "id": "e666a6e5-a855-487f-b55a-55610648f9ae",
   "metadata": {},
   "source": [
    "#### Outcome Regression"
   ]
  },
  {
   "cell_type": "code",
   "execution_count": 20,
   "id": "3f9a4475-43bf-4bf4-8dde-3e552eb16ca2",
   "metadata": {},
   "outputs": [
    {
     "data": {
      "text/html": [
       "<div>\n",
       "<style scoped>\n",
       "    .dataframe tbody tr th:only-of-type {\n",
       "        vertical-align: middle;\n",
       "    }\n",
       "\n",
       "    .dataframe tbody tr th {\n",
       "        vertical-align: top;\n",
       "    }\n",
       "\n",
       "    .dataframe thead th {\n",
       "        text-align: right;\n",
       "    }\n",
       "</style>\n",
       "<table border=\"1\" class=\"dataframe\">\n",
       "  <thead>\n",
       "    <tr style=\"text-align: right;\">\n",
       "      <th></th>\n",
       "      <th>ate</th>\n",
       "      <th>const</th>\n",
       "    </tr>\n",
       "  </thead>\n",
       "  <tbody>\n",
       "    <tr>\n",
       "      <th>0</th>\n",
       "      <td>1.389744</td>\n",
       "      <td>0.782017</td>\n",
       "    </tr>\n",
       "    <tr>\n",
       "      <th>1</th>\n",
       "      <td>1.400769</td>\n",
       "      <td>0.789635</td>\n",
       "    </tr>\n",
       "    <tr>\n",
       "      <th>2</th>\n",
       "      <td>1.399225</td>\n",
       "      <td>0.774797</td>\n",
       "    </tr>\n",
       "    <tr>\n",
       "      <th>3</th>\n",
       "      <td>1.422198</td>\n",
       "      <td>0.772907</td>\n",
       "    </tr>\n",
       "    <tr>\n",
       "      <th>4</th>\n",
       "      <td>1.411212</td>\n",
       "      <td>0.785229</td>\n",
       "    </tr>\n",
       "    <tr>\n",
       "      <th>5</th>\n",
       "      <td>1.418195</td>\n",
       "      <td>0.766160</td>\n",
       "    </tr>\n",
       "    <tr>\n",
       "      <th>6</th>\n",
       "      <td>1.428012</td>\n",
       "      <td>0.765259</td>\n",
       "    </tr>\n",
       "    <tr>\n",
       "      <th>7</th>\n",
       "      <td>1.404410</td>\n",
       "      <td>0.776078</td>\n",
       "    </tr>\n",
       "    <tr>\n",
       "      <th>8</th>\n",
       "      <td>1.417364</td>\n",
       "      <td>0.770296</td>\n",
       "    </tr>\n",
       "    <tr>\n",
       "      <th>9</th>\n",
       "      <td>1.435551</td>\n",
       "      <td>0.757261</td>\n",
       "    </tr>\n",
       "  </tbody>\n",
       "</table>\n",
       "</div>"
      ],
      "text/plain": [
       "        ate     const\n",
       "0  1.389744  0.782017\n",
       "1  1.400769  0.789635\n",
       "2  1.399225  0.774797\n",
       "3  1.422198  0.772907\n",
       "4  1.411212  0.785229\n",
       "5  1.418195  0.766160\n",
       "6  1.428012  0.765259\n",
       "7  1.404410  0.776078\n",
       "8  1.417364  0.770296\n",
       "9  1.435551  0.757261"
      ]
     },
     "execution_count": 20,
     "metadata": {},
     "output_type": "execute_result"
    }
   ],
   "source": [
    "outcome_coeffs = {'ate': [], 'const': []}\n",
    "for i in range(NUM_ITER):\n",
    "    data = causl_py.generate_discrete_samples(N=NUM_SAMPLES, causal_params=CAUSAL_PARAMS, seed=i)\n",
    "    coeff_X, coeff_const = run_outcome_regression(data)\n",
    "    outcome_coeffs['ate'].append(coeff_X)\n",
    "    outcome_coeffs['const'].append(coeff_const)\n",
    "outcome_coeffs = pd.DataFrame.from_dict(outcome_coeffs)\n",
    "outcome_coeffs"
   ]
  },
  {
   "cell_type": "code",
   "execution_count": 21,
   "id": "d7e55609-8f09-44d1-b3af-fd21d48b7eae",
   "metadata": {},
   "outputs": [
    {
     "name": "stdout",
     "output_type": "stream",
     "text": [
      "ate      1.412668\n",
      "const    0.773964\n",
      "dtype: float64\n",
      "ate      0.014223\n",
      "const    0.009847\n",
      "dtype: float64\n"
     ]
    }
   ],
   "source": [
    "print(outcome_coeffs.mean())\n",
    "print(outcome_coeffs.std())"
   ]
  },
  {
   "cell_type": "code",
   "execution_count": 22,
   "id": "f0e08851-605f-4083-862c-9ba29dfc8e9d",
   "metadata": {},
   "outputs": [
    {
     "data": {
      "text/plain": [
       "<matplotlib.legend.Legend at 0x3a0b61bd0>"
      ]
     },
     "execution_count": 22,
     "metadata": {},
     "output_type": "execute_result"
    },
    {
     "data": {
      "image/png": "[encoded data removed]",
      "text/plain": [
       "<Figure size 1200x600 with 1 Axes>"
      ]
     },
     "metadata": {},
     "output_type": "display_data"
    }
   ],
   "source": [
    "plt.figure(figsize=(12, 6))\n",
    "\n",
    "# Boxplot\n",
    "box = discrete_small_covariates_results.boxplot(column=[\"ate\", \"const\", \"scale\"], grid=False)\n",
    "\n",
    "# Adding lines for the true parameters\n",
    "plt.axhline(y=TRUE_PARAMS['ate'], color='r', linestyle='--', label='True ate')\n",
    "plt.axhline(y=TRUE_PARAMS['const'], color='g', linestyle='--', label='True const')\n",
    "plt.axhline(y=TRUE_PARAMS['scale'], color='b', linestyle='--', label='True scale')\n",
    "\n",
    "# Adding title and labels\n",
    "plt.title('Box and Whisker Plot for ATE, Const, and Scale')\n",
    "plt.ylabel('Values')\n",
    "plt.ylim([0.80, 1.20])\n",
    "plt.legend()"
   ]
  },
  {
   "cell_type": "markdown",
   "id": "253dfdcb-2777-43c2-a323-93fa3a7a4315",
   "metadata": {},
   "source": [
    "### Mixed Continuous and Discrete (Large)"
   ]
  },
  {
   "cell_type": "code",
   "execution_count": 23,
   "id": "36562e65-1a00-46c0-a9af-dc25f38573bc",
   "metadata": {},
   "outputs": [
    {
     "name": "stderr",
     "output_type": "stream",
     "text": [
      "  1%|▋                                                                                                | 67/10000 [00:53<2:11:31,  1.26it/s, train=0.4917580198670893, val=1.0574124589546585 (Max patience reached)]\n",
      "  1%|▊                                                                                                 | 88/10000 [01:11<2:14:24,  1.23it/s, train=0.5852740464907404, val=1.055674942898827 (Max patience reached)]\n",
      "  1%|▊                                                                                                | 82/10000 [01:04<2:09:07,  1.28it/s, train=0.6311613668194923, val=0.9931229098766121 (Max patience reached)]\n",
      "  1%|▋                                                                                                  | 66/10000 [00:51<2:09:39,  1.28it/s, train=0.566019234814827, val=1.047610183172027 (Max patience reached)]\n",
      "  1%|▉                                                                                                | 91/10000 [01:12<2:10:49,  1.26it/s, train=0.5209169837253151, val=1.0021594821357227 (Max patience reached)]\n",
      "  1%|▉                                                                                                | 96/10000 [01:13<2:05:48,  1.31it/s, train=0.5146809724702862, val=0.8734951688602722 (Max patience reached)]\n",
      "  1%|▊                                                                                                | 81/10000 [01:02<2:07:45,  1.29it/s, train=0.5488794808872522, val=0.9513131964710265 (Max patience reached)]\n",
      "  1%|▋                                                                                                | 71/10000 [00:54<2:06:49,  1.30it/s, train=0.6307077173055594, val=0.9109062220731635 (Max patience reached)]\n",
      "  1%|▊                                                                                                 | 83/10000 [01:04<2:08:58,  1.28it/s, train=0.531528315055545, val=1.0150204047320295 (Max patience reached)]\n",
      "  1%|▊                                                                                                | 79/10000 [01:02<2:10:13,  1.27it/s, train=0.5964644376588287, val=1.0171863417236127 (Max patience reached)]\n"
     ]
    }
   ],
   "source": [
    "discrete_big_covariates_results = causl_py.run_simulations(\n",
    "    causl_py.generate_many_discrete_samples, \n",
    "    seed=SEED, \n",
    "    num_samples=NUM_SAMPLES, \n",
    "    num_iter=NUM_ITER, \n",
    "    causal_params=CAUSAL_PARAMS,\n",
    "    hyperparams_dict=hyperparams_dict,\n",
    "    causal_model_args={'ate': 0., 'const': 0., 'scale': 1}\n",
    ")"
   ]
  },
  {
   "cell_type": "code",
   "execution_count": 24,
   "id": "c3ae6fe1-cd77-46fe-84b5-68d8bfbbea89",
   "metadata": {},
   "outputs": [
    {
     "data": {
      "text/html": [
       "<div>\n",
       "<style scoped>\n",
       "    .dataframe tbody tr th:only-of-type {\n",
       "        vertical-align: middle;\n",
       "    }\n",
       "\n",
       "    .dataframe tbody tr th {\n",
       "        vertical-align: top;\n",
       "    }\n",
       "\n",
       "    .dataframe thead th {\n",
       "        text-align: right;\n",
       "    }\n",
       "</style>\n",
       "<table border=\"1\" class=\"dataframe\">\n",
       "  <thead>\n",
       "    <tr style=\"text-align: right;\">\n",
       "      <th></th>\n",
       "      <th>ate</th>\n",
       "      <th>const</th>\n",
       "      <th>scale</th>\n",
       "    </tr>\n",
       "  </thead>\n",
       "  <tbody>\n",
       "    <tr>\n",
       "      <th>0</th>\n",
       "      <td>0.911359</td>\n",
       "      <td>1.043137</td>\n",
       "      <td>1.032551</td>\n",
       "    </tr>\n",
       "    <tr>\n",
       "      <th>1</th>\n",
       "      <td>0.810126</td>\n",
       "      <td>1.107732</td>\n",
       "      <td>1.013168</td>\n",
       "    </tr>\n",
       "    <tr>\n",
       "      <th>2</th>\n",
       "      <td>0.914691</td>\n",
       "      <td>1.049289</td>\n",
       "      <td>0.992719</td>\n",
       "    </tr>\n",
       "    <tr>\n",
       "      <th>3</th>\n",
       "      <td>0.777075</td>\n",
       "      <td>1.104504</td>\n",
       "      <td>0.999209</td>\n",
       "    </tr>\n",
       "    <tr>\n",
       "      <th>4</th>\n",
       "      <td>0.853040</td>\n",
       "      <td>1.063945</td>\n",
       "      <td>1.013808</td>\n",
       "    </tr>\n",
       "    <tr>\n",
       "      <th>5</th>\n",
       "      <td>0.859363</td>\n",
       "      <td>1.071850</td>\n",
       "      <td>0.998971</td>\n",
       "    </tr>\n",
       "    <tr>\n",
       "      <th>6</th>\n",
       "      <td>0.830863</td>\n",
       "      <td>1.077629</td>\n",
       "      <td>0.999217</td>\n",
       "    </tr>\n",
       "    <tr>\n",
       "      <th>7</th>\n",
       "      <td>0.866042</td>\n",
       "      <td>1.090234</td>\n",
       "      <td>1.000995</td>\n",
       "    </tr>\n",
       "    <tr>\n",
       "      <th>8</th>\n",
       "      <td>0.826000</td>\n",
       "      <td>1.102998</td>\n",
       "      <td>0.990832</td>\n",
       "    </tr>\n",
       "    <tr>\n",
       "      <th>9</th>\n",
       "      <td>0.892128</td>\n",
       "      <td>1.054113</td>\n",
       "      <td>0.998538</td>\n",
       "    </tr>\n",
       "  </tbody>\n",
       "</table>\n",
       "</div>"
      ],
      "text/plain": [
       "        ate     const     scale\n",
       "0  0.911359  1.043137  1.032551\n",
       "1  0.810126  1.107732  1.013168\n",
       "2  0.914691  1.049289  0.992719\n",
       "3  0.777075  1.104504  0.999209\n",
       "4  0.853040  1.063945  1.013808\n",
       "5  0.859363  1.071850  0.998971\n",
       "6  0.830863  1.077629  0.999217\n",
       "7  0.866042  1.090234  1.000995\n",
       "8  0.826000  1.102998  0.990832\n",
       "9  0.892128  1.054113  0.998538"
      ]
     },
     "execution_count": 24,
     "metadata": {},
     "output_type": "execute_result"
    }
   ],
   "source": [
    "discrete_big_covariates_results"
   ]
  },
  {
   "cell_type": "code",
   "execution_count": 25,
   "id": "68ec886c-429a-4159-a96a-411e9e7128c6",
   "metadata": {},
   "outputs": [
    {
     "name": "stdout",
     "output_type": "stream",
     "text": [
      "ate      0.854069\n",
      "const    1.076543\n",
      "scale    1.004001\n",
      "dtype: float64\n",
      "ate      0.044427\n",
      "const    0.024004\n",
      "scale    0.012499\n",
      "dtype: float64\n"
     ]
    }
   ],
   "source": [
    "print(discrete_big_covariates_results.mean())\n",
    "print(discrete_big_covariates_results.std())"
   ]
  },
  {
   "cell_type": "markdown",
   "id": "02c48dc5-a72f-41ea-b6c5-0832b83e1302",
   "metadata": {},
   "source": [
    "#### Outcome Regression"
   ]
  },
  {
   "cell_type": "code",
   "execution_count": 26,
   "id": "27779e38-02f2-4b8a-8508-ba5aba1794fc",
   "metadata": {},
   "outputs": [
    {
     "data": {
      "text/html": [
       "<div>\n",
       "<style scoped>\n",
       "    .dataframe tbody tr th:only-of-type {\n",
       "        vertical-align: middle;\n",
       "    }\n",
       "\n",
       "    .dataframe tbody tr th {\n",
       "        vertical-align: top;\n",
       "    }\n",
       "\n",
       "    .dataframe thead th {\n",
       "        text-align: right;\n",
       "    }\n",
       "</style>\n",
       "<table border=\"1\" class=\"dataframe\">\n",
       "  <thead>\n",
       "    <tr style=\"text-align: right;\">\n",
       "      <th></th>\n",
       "      <th>ate</th>\n",
       "      <th>const</th>\n",
       "    </tr>\n",
       "  </thead>\n",
       "  <tbody>\n",
       "    <tr>\n",
       "      <th>0</th>\n",
       "      <td>0.854763</td>\n",
       "      <td>1.078006</td>\n",
       "    </tr>\n",
       "    <tr>\n",
       "      <th>1</th>\n",
       "      <td>0.833223</td>\n",
       "      <td>1.099024</td>\n",
       "    </tr>\n",
       "    <tr>\n",
       "      <th>2</th>\n",
       "      <td>0.852771</td>\n",
       "      <td>1.087698</td>\n",
       "    </tr>\n",
       "    <tr>\n",
       "      <th>3</th>\n",
       "      <td>0.870499</td>\n",
       "      <td>1.067973</td>\n",
       "    </tr>\n",
       "    <tr>\n",
       "      <th>4</th>\n",
       "      <td>0.865285</td>\n",
       "      <td>1.085945</td>\n",
       "    </tr>\n",
       "    <tr>\n",
       "      <th>5</th>\n",
       "      <td>0.856006</td>\n",
       "      <td>1.079646</td>\n",
       "    </tr>\n",
       "    <tr>\n",
       "      <th>6</th>\n",
       "      <td>0.869331</td>\n",
       "      <td>1.070634</td>\n",
       "    </tr>\n",
       "    <tr>\n",
       "      <th>7</th>\n",
       "      <td>0.865319</td>\n",
       "      <td>1.081841</td>\n",
       "    </tr>\n",
       "    <tr>\n",
       "      <th>8</th>\n",
       "      <td>0.839153</td>\n",
       "      <td>1.091747</td>\n",
       "    </tr>\n",
       "    <tr>\n",
       "      <th>9</th>\n",
       "      <td>0.849826</td>\n",
       "      <td>1.098364</td>\n",
       "    </tr>\n",
       "  </tbody>\n",
       "</table>\n",
       "</div>"
      ],
      "text/plain": [
       "        ate     const\n",
       "0  0.854763  1.078006\n",
       "1  0.833223  1.099024\n",
       "2  0.852771  1.087698\n",
       "3  0.870499  1.067973\n",
       "4  0.865285  1.085945\n",
       "5  0.856006  1.079646\n",
       "6  0.869331  1.070634\n",
       "7  0.865319  1.081841\n",
       "8  0.839153  1.091747\n",
       "9  0.849826  1.098364"
      ]
     },
     "execution_count": 26,
     "metadata": {},
     "output_type": "execute_result"
    }
   ],
   "source": [
    "outcome_coeffs = {'ate': [], 'const': []}\n",
    "for i in range(NUM_ITER):\n",
    "    data = causl_py.generate_many_discrete_samples(N=NUM_SAMPLES, causal_params=CAUSAL_PARAMS, seed=i)\n",
    "    coeff_X, coeff_const = run_outcome_regression(data)\n",
    "    outcome_coeffs['ate'].append(coeff_X)\n",
    "    outcome_coeffs['const'].append(coeff_const)\n",
    "outcome_coeffs = pd.DataFrame.from_dict(outcome_coeffs)\n",
    "outcome_coeffs"
   ]
  },
  {
   "cell_type": "code",
   "execution_count": 27,
   "id": "767d19d9-6213-4bb5-9c18-e2ecac4e041a",
   "metadata": {},
   "outputs": [
    {
     "name": "stdout",
     "output_type": "stream",
     "text": [
      "ate      0.855617\n",
      "const    1.084088\n",
      "dtype: float64\n",
      "ate      0.012526\n",
      "const    0.010564\n",
      "dtype: float64\n"
     ]
    }
   ],
   "source": [
    "print(outcome_coeffs.mean())\n",
    "print(outcome_coeffs.std())"
   ]
  },
  {
   "cell_type": "code",
   "execution_count": 28,
   "id": "c47dae7e-8039-4563-9692-b76280d41d19",
   "metadata": {},
   "outputs": [
    {
     "data": {
      "text/plain": [
       "<matplotlib.legend.Legend at 0x3ce6fae90>"
      ]
     },
     "execution_count": 28,
     "metadata": {},
     "output_type": "execute_result"
    },
    {
     "data": {
      "image/png": "[encoded data removed]",
      "text/plain": [
       "<Figure size 1200x600 with 1 Axes>"
      ]
     },
     "metadata": {},
     "output_type": "display_data"
    }
   ],
   "source": [
    "plt.figure(figsize=(12, 6))\n",
    "\n",
    "# Boxplot\n",
    "box = discrete_big_covariates_results.boxplot(column=[\"ate\", \"const\", \"scale\"], grid=False)\n",
    "\n",
    "# Adding lines for the true parameters\n",
    "plt.axhline(y=TRUE_PARAMS['ate'], color='r', linestyle='--', label='True ate')\n",
    "plt.axhline(y=TRUE_PARAMS['const'], color='g', linestyle='--', label='True const')\n",
    "plt.axhline(y=TRUE_PARAMS['scale'], color='b', linestyle='--', label='True scale')\n",
    "\n",
    "# Adding title and labels\n",
    "plt.title('Box and Whisker Plot for ATE, Const, and Scale')\n",
    "plt.ylabel('Values')\n",
    "plt.ylim([0.80, 1.20])\n",
    "plt.legend()"
   ]
  },
  {
   "cell_type": "markdown",
   "id": "0df62c19-ca34-4ec2-8bd3-6ab2e8415bad",
   "metadata": {},
   "source": [
    "### Mixed Continuous and Discrete (Large and Sparse)"
   ]
  },
  {
   "cell_type": "code",
   "execution_count": 2,
   "id": "1a031e67-e801-4b0e-b6af-55f109930780",
   "metadata": {},
   "outputs": [
    {
     "name": "stderr",
     "output_type": "stream",
     "text": [
      "R[write to console]: Inversion method selected: using pair-copula parameterization\n",
      "\n",
      "  1%|█▏                                                                                                | 126/10000 [01:53<2:28:01,  1.11it/s, train=0.7708514816245161, val=1.0193222666601613 (Max patience reached)]\n",
      "R[write to console]: Inversion method selected: using pair-copula parameterization\n",
      "\n",
      "  1%|█▎                                                                                                | 140/10000 [02:02<2:23:59,  1.14it/s, train=0.7101206600664803, val=1.0367280979759723 (Max patience reached)]\n",
      "R[write to console]: Inversion method selected: using pair-copula parameterization\n",
      "\n",
      "  1%|█▎                                                                                                | 140/10000 [02:04<2:26:34,  1.12it/s, train=0.7698415195638442, val=1.0451308575626275 (Max patience reached)]\n",
      "R[write to console]: Inversion method selected: using pair-copula parameterization\n",
      "\n",
      "  1%|█▏                                                                                                 | 121/10000 [01:49<2:28:23,  1.11it/s, train=0.7125939608562091, val=1.133400392921836 (Max patience reached)]\n",
      "R[write to console]: Inversion method selected: using pair-copula parameterization\n",
      "\n",
      "  1%|█▏                                                                                                | 127/10000 [01:56<2:30:44,  1.09it/s, train=0.7298723818394384, val=1.1000758370517936 (Max patience reached)]\n"
     ]
    }
   ],
   "source": [
    "discrete_sparse_covariates_results = causl_py.run_simulations(\n",
    "    causl_py.generate_many_discrete_samples_sparse, \n",
    "    seed=SEED, \n",
    "    num_samples=NUM_SAMPLES, \n",
    "    num_iter=NUM_ITER, \n",
    "    causal_params=CAUSAL_PARAMS,\n",
    "    hyperparams_dict=hyperparams_dict,\n",
    "    causal_model_args={'ate': 0., 'const': 0., 'scale': 1}\n",
    ")"
   ]
  },
  {
   "cell_type": "code",
   "execution_count": 3,
   "id": "bc93da71-288a-4d15-98c8-10daafa5737a",
   "metadata": {},
   "outputs": [
    {
     "data": {
      "text/html": [
       "<div>\n",
       "<style scoped>\n",
       "    .dataframe tbody tr th:only-of-type {\n",
       "        vertical-align: middle;\n",
       "    }\n",
       "\n",
       "    .dataframe tbody tr th {\n",
       "        vertical-align: top;\n",
       "    }\n",
       "\n",
       "    .dataframe thead th {\n",
       "        text-align: right;\n",
       "    }\n",
       "</style>\n",
       "<table border=\"1\" class=\"dataframe\">\n",
       "  <thead>\n",
       "    <tr style=\"text-align: right;\">\n",
       "      <th></th>\n",
       "      <th>ate</th>\n",
       "      <th>const</th>\n",
       "      <th>scale</th>\n",
       "    </tr>\n",
       "  </thead>\n",
       "  <tbody>\n",
       "    <tr>\n",
       "      <th>0</th>\n",
       "      <td>1.495601</td>\n",
       "      <td>0.519129</td>\n",
       "      <td>0.888391</td>\n",
       "    </tr>\n",
       "    <tr>\n",
       "      <th>1</th>\n",
       "      <td>1.723804</td>\n",
       "      <td>0.270816</td>\n",
       "      <td>0.877934</td>\n",
       "    </tr>\n",
       "    <tr>\n",
       "      <th>2</th>\n",
       "      <td>1.772385</td>\n",
       "      <td>0.215335</td>\n",
       "      <td>0.875386</td>\n",
       "    </tr>\n",
       "    <tr>\n",
       "      <th>3</th>\n",
       "      <td>1.406360</td>\n",
       "      <td>0.585918</td>\n",
       "      <td>0.883957</td>\n",
       "    </tr>\n",
       "    <tr>\n",
       "      <th>4</th>\n",
       "      <td>1.520123</td>\n",
       "      <td>0.457495</td>\n",
       "      <td>0.876467</td>\n",
       "    </tr>\n",
       "  </tbody>\n",
       "</table>\n",
       "</div>"
      ],
      "text/plain": [
       "        ate     const     scale\n",
       "0  1.495601  0.519129  0.888391\n",
       "1  1.723804  0.270816  0.877934\n",
       "2  1.772385  0.215335  0.875386\n",
       "3  1.406360  0.585918  0.883957\n",
       "4  1.520123  0.457495  0.876467"
      ]
     },
     "execution_count": 3,
     "metadata": {},
     "output_type": "execute_result"
    }
   ],
   "source": [
    "discrete_sparse_covariates_results"
   ]
  },
  {
   "cell_type": "code",
   "execution_count": 4,
   "id": "04cc7229-2d61-4ef6-a8b7-e645985c403e",
   "metadata": {},
   "outputs": [
    {
     "name": "stdout",
     "output_type": "stream",
     "text": [
      "ate      1.583655\n",
      "const    0.409738\n",
      "scale    0.880427\n",
      "dtype: float64\n",
      "ate      0.156911\n",
      "const    0.159983\n",
      "scale    0.005550\n",
      "dtype: float64\n"
     ]
    }
   ],
   "source": [
    "print(discrete_sparse_covariates_results.mean())\n",
    "print(discrete_sparse_covariates_results.std())"
   ]
  },
  {
   "cell_type": "markdown",
   "id": "54dd564b-29ee-4620-85d8-71423b86f833",
   "metadata": {},
   "source": [
    "#### Outcome Regression"
   ]
  },
  {
   "cell_type": "code",
   "execution_count": 5,
   "id": "4dc3caa6-75a6-4194-a734-1dcbfefee4c2",
   "metadata": {},
   "outputs": [
    {
     "name": "stderr",
     "output_type": "stream",
     "text": [
      "R[write to console]: Inversion method selected: using pair-copula parameterization\n",
      "\n"
     ]
    },
    {
     "ename": "NameError",
     "evalue": "name 'run_outcome_regression' is not defined",
     "output_type": "error",
     "traceback": [
      "\u001b[0;31m---------------------------------------------------------------------------\u001b[0m",
      "\u001b[0;31mNameError\u001b[0m                                 Traceback (most recent call last)",
      "Cell \u001b[0;32mIn[5], line 4\u001b[0m\n\u001b[1;32m      2\u001b[0m \u001b[38;5;28;01mfor\u001b[39;00m i \u001b[38;5;129;01min\u001b[39;00m \u001b[38;5;28mrange\u001b[39m(NUM_ITER):\n\u001b[1;32m      3\u001b[0m     data \u001b[38;5;241m=\u001b[39m causl_py\u001b[38;5;241m.\u001b[39mgenerate_many_discrete_samples(N\u001b[38;5;241m=\u001b[39mNUM_SAMPLES, causal_params\u001b[38;5;241m=\u001b[39mCAUSAL_PARAMS, seed\u001b[38;5;241m=\u001b[39mi)\n\u001b[0;32m----> 4\u001b[0m     coeff_X, coeff_const \u001b[38;5;241m=\u001b[39m \u001b[43mrun_outcome_regression\u001b[49m(data)\n\u001b[1;32m      5\u001b[0m     outcome_coeffs[\u001b[38;5;124m'\u001b[39m\u001b[38;5;124mate\u001b[39m\u001b[38;5;124m'\u001b[39m]\u001b[38;5;241m.\u001b[39mappend(coeff_X)\n\u001b[1;32m      6\u001b[0m     outcome_coeffs[\u001b[38;5;124m'\u001b[39m\u001b[38;5;124mconst\u001b[39m\u001b[38;5;124m'\u001b[39m]\u001b[38;5;241m.\u001b[39mappend(coeff_const)\n",
      "\u001b[0;31mNameError\u001b[0m: name 'run_outcome_regression' is not defined"
     ]
    }
   ],
   "source": [
    "outcome_coeffs = {'ate': [], 'const': []}\n",
    "for i in range(NUM_ITER):\n",
    "    data = causl_py.generate_many_discrete_samples(N=NUM_SAMPLES, causal_params=CAUSAL_PARAMS, seed=i)\n",
    "    coeff_X, coeff_const = run_outcome_regression(data)\n",
    "    outcome_coeffs['ate'].append(coeff_X)\n",
    "    outcome_coeffs['const'].append(coeff_const)\n",
    "outcome_coeffs = pd.DataFrame.from_dict(outcome_coeffs)\n",
    "outcome_coeffs"
   ]
  },
  {
   "cell_type": "code",
   "execution_count": 5,
   "id": "fe803bc9-5326-4871-8237-bdf9bd4fc19d",
   "metadata": {},
   "outputs": [
    {
     "ename": "NameError",
     "evalue": "name 'discrete_sparse_covariates_results' is not defined",
     "output_type": "error",
     "traceback": [
      "\u001b[0;31m---------------------------------------------------------------------------\u001b[0m",
      "\u001b[0;31mNameError\u001b[0m                                 Traceback (most recent call last)",
      "Cell \u001b[0;32mIn[5], line 1\u001b[0m\n\u001b[0;32m----> 1\u001b[0m \u001b[38;5;28mprint\u001b[39m(\u001b[43mdiscrete_sparse_covariates_results\u001b[49m\u001b[38;5;241m.\u001b[39mmean())\n\u001b[1;32m      2\u001b[0m \u001b[38;5;28mprint\u001b[39m(discrete_sparse_covariates_results\u001b[38;5;241m.\u001b[39mstd())\n",
      "\u001b[0;31mNameError\u001b[0m: name 'discrete_sparse_covariates_results' is not defined"
     ]
    }
   ],
   "source": [
    "print(discrete_sparse_covariates_results.mean())\n",
    "print(discrete_sparse_covariates_results.std())"
   ]
  },
  {
   "cell_type": "code",
   "execution_count": 33,
   "id": "bc54d989-8629-4457-bc5e-3652a53514ff",
   "metadata": {},
   "outputs": [
    {
     "data": {
      "text/plain": [
       "<matplotlib.legend.Legend at 0x3d6fca750>"
      ]
     },
     "execution_count": 33,
     "metadata": {},
     "output_type": "execute_result"
    },
    {
     "data": {
      "image/png": "[encoded data removed]",
      "text/plain": [
       "<Figure size 1200x600 with 1 Axes>"
      ]
     },
     "metadata": {},
     "output_type": "display_data"
    }
   ],
   "source": [
    "plt.figure(figsize=(12, 6))\n",
    "\n",
    "# Boxplot\n",
    "box = discrete_sparse_covariates_results.boxplot(column=[\"ate\", \"const\", \"scale\"], grid=False)\n",
    "\n",
    "# Adding lines for the true parameters\n",
    "plt.axhline(y=TRUE_PARAMS['ate'], color='r', linestyle='--', label='True ate')\n",
    "plt.axhline(y=TRUE_PARAMS['const'], color='g', linestyle='--', label='True const')\n",
    "plt.axhline(y=TRUE_PARAMS['scale'], color='b', linestyle='--', label='True scale')\n",
    "\n",
    "# Adding title and labels\n",
    "plt.title('Box and Whisker Plot for ATE, Const, and Scale')\n",
    "plt.ylabel('Values')\n",
    "plt.ylim([0.80, 1.20])\n",
    "plt.legend()"
   ]
  },
  {
   "cell_type": "code",
   "execution_count": null,
   "id": "43514040-3f1c-401b-9d97-0ec2be24999a",
   "metadata": {},
   "outputs": [],
   "source": []
  }
 ],
 "metadata": {
  "kernelspec": {
   "display_name": "Python 3 (ipykernel)",
   "language": "python",
   "name": "python3"
  },
  "language_info": {
   "codemirror_mode": {
    "name": "ipython",
    "version": 3
   },
   "file_extension": ".py",
   "mimetype": "text/x-python",
   "name": "python",
   "nbconvert_exporter": "python",
   "pygments_lexer": "ipython3",
   "version": "3.11.8"
  }
 },
 "nbformat": 4,
 "nbformat_minor": 5
}
