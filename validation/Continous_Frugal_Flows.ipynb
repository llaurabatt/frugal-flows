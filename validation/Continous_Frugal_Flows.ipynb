{
 "cells": [
  {
   "cell_type": "markdown",
   "id": "f05dc14a-b9f6-4de9-8a36-524db299b21d",
   "metadata": {},
   "source": [
    "# Continous Frugal Flows\n",
    "\n",
    "In this notebook we demonstrate the ability for Frugal Flows to identify Marginal Causal Effects"
   ]
  },
  {
   "cell_type": "code",
   "execution_count": 1,
   "id": "1628a626-5ea2-4cf5-b80c-2c8876f38ec3",
   "metadata": {},
   "outputs": [],
   "source": [
    "import sys\n",
    "import os\n",
    "sys.path.append(\"../\") # go to parent dir\n",
    "\n",
    "import jax\n",
    "import jax.random as jr\n",
    "import jax.numpy as jnp\n",
    "import matplotlib.pyplot as plt\n",
    "import numpy as np\n",
    "import pandas as pd\n",
    "import scipy\n",
    "import numpy as np\n",
    "from scipy.stats import rankdata\n",
    "import scipy.stats as ss\n",
    "import statsmodels.api as sm\n",
    "import seaborn as sns\n",
    "from sklearn.model_selection import KFold\n",
    "\n",
    "# from data.create_sim_data import *\n",
    "import data.template_causl_simulations as causl_py\n",
    "from data.run_all_simulations import plot_simulation_results\n",
    "from frugal_flows.causal_flows import independent_continuous_marginal_flow, get_independent_quantiles, train_frugal_flow\n",
    "from frugal_flows.bijections import UnivariateNormalCDF\n",
    "\n",
    "import rpy2.robjects as ro\n",
    "from rpy2.robjects.packages import importr\n",
    "from rpy2.robjects import pandas2ri\n",
    "from rpy2.robjects.packages import SignatureTranslatedAnonymousPackage\n",
    "from rpy2.robjects.vectors import StrVector\n",
    "\n",
    "# Activate automatic conversion of rpy2 objects to pandas objects\n",
    "pandas2ri.activate()\n",
    "base = importr('base')\n",
    "utils = importr('utils')\n",
    "\n",
    "# Import the R library causl\n",
    "try:\n",
    "    causl = importr('causl')\n",
    "except Exception as e:\n",
    "    package_names = ('causl')\n",
    "    utils.install_packages(StrVector(package_names))\n",
    "\n",
    "jax.config.update(\"jax_enable_x64\", True)\n",
    "\n",
    "hyperparams_dict = {\n",
    "    'learning_rate': 5e-3,\n",
    "    'RQS_knots': 8,\n",
    "    'flow_layers': 5,\n",
    "    'nn_width': 50,\n",
    "    'nn_depth': 4,    \n",
    "    'max_patience': 100,\n",
    "    'max_epochs': 10000\n",
    "}\n",
    "causal_hyperparams = {\n",
    "    'RQS_knots': 8,\n",
    "    'flow_layers': 5,\n",
    "    'nn_width': 50,\n",
    "    'nn_depth': 4,   \n",
    "}\n",
    "\n",
    "SEED = 0\n",
    "NUM_ITER = 25\n",
    "NUM_SAMPLES = 15000\n",
    "TRUE_PARAMS = {'ate': 1, 'const': 0, 'scale': 1}\n",
    "CAUSAL_PARAMS = [1, 1]"
   ]
  },
  {
   "cell_type": "code",
   "execution_count": 2,
   "id": "024836f0-db4c-43b1-9271-f95470484778",
   "metadata": {},
   "outputs": [],
   "source": [
    "def run_outcome_regression(data):\n",
    "    Z_cont = data.get('Z_cont', None)\n",
    "    Z_disc = data.get('Z_disc', None)\n",
    "    if Z_cont == None:\n",
    "        Z_full = Z_disc\n",
    "    elif Z_disc == None:\n",
    "        Z_full = Z_cont\n",
    "    else:\n",
    "        Z_full = jnp.hstack([Z_cont, Z_disc])\n",
    "    Z_cols = [f\"Z{i+1}\" for i in range(Z_full.shape[1])]\n",
    "    df = pd.DataFrame(jnp.hstack([data['Y'], data['X'], Z_full]), columns=['Y', 'X', *Z_cols])\n",
    "    X_vars = df[['X', *Z_cols]]\n",
    "    X_vars = sm.add_constant(X_vars)\n",
    "    Y_var = df['Y']\n",
    "    model = sm.OLS(Y_var, X_vars).fit()\n",
    "    coefficient_X = model.params['X']\n",
    "    coefficient_const = model.params['const']\n",
    "    return coefficient_X, coefficient_const"
   ]
  },
  {
   "cell_type": "code",
   "execution_count": 3,
   "id": "9beb271a-c777-465a-bbf2-7a647e5fd3ca",
   "metadata": {},
   "outputs": [
    {
     "data": {
      "text/plain": [
<<<<<<< HEAD
       "(1.3170796411179775, -0.9891293121410473)"
=======
       "(1.3170796411179748, 0.0108706878589511)"
>>>>>>> Remove gaussian expts
      ]
     },
     "execution_count": 3,
     "metadata": {},
     "output_type": "execute_result"
    }
   ],
   "source": [
    "data = causl_py.generate_mixed_samples(10000, CAUSAL_PARAMS, 3)\n",
    "run_outcome_regression(data)"
   ]
  },
  {
   "cell_type": "markdown",
   "id": "b6136417-f7d2-4a91-ab9f-4da293e82925",
   "metadata": {},
   "source": [
    "## Checking for the Causal Effect"
   ]
  },
  {
   "cell_type": "markdown",
   "id": "d52f9ceb-2918-4e27-a9f7-8a1e90e30d41",
   "metadata": {},
   "source": [
    "### Gaussians"
   ]
  },
  {
   "cell_type": "markdown",
   "id": "cc58c1bf-6de1-47eb-b2b2-2b4afe6c373a",
   "metadata": {},
   "source": [
    "#### Frugal Flow"
   ]
  },
  {
   "cell_type": "code",
<<<<<<< HEAD
   "execution_count": 4,
   "id": "a136574c-cbba-4c24-91e1-eec5f584d48b",
   "metadata": {},
   "outputs": [],
=======
   "execution_count": 3,
   "id": "a136574c-cbba-4c24-91e1-eec5f584d48b",
   "metadata": {},
   "outputs": [
    {
     "name": "stderr",
     "output_type": "stream",
     "text": [
      "  1%|█                                                                                              | 117/10000 [00:59<1:23:57,  1.96it/s, train=-1.687577003070351, val=-1.6510666123803666 (Max patience reached)]\n",
      "  1%|█                                                                                               | 110/10000 [00:52<1:19:12,  2.08it/s, train=-1.69156717131794, val=-1.5567285413991765 (Max patience reached)]\n",
      "  1%|█▎                                                                                            | 143/10000 [01:10<1:20:50,  2.03it/s, train=-1.7504870388151028, val=-1.5671068323732231 (Max patience reached)]\n",
      "  1%|█                                                                                             | 110/10000 [00:52<1:18:11,  2.11it/s, train=-1.6880699336867613, val=-1.5905025246768993 (Max patience reached)]\n",
      "  1%|█▎                                                                                            | 139/10000 [01:06<1:18:41,  2.09it/s, train=-1.7215079579936157, val=-1.5749206772323743 (Max patience reached)]\n",
      "  1%|▉                                                                                             | 105/10000 [00:51<1:20:48,  2.04it/s, train=-1.6844233758207805, val=-1.6147686984947245 (Max patience reached)]\n",
      "  2%|█▍                                                                                            | 159/10000 [01:17<1:19:41,  2.06it/s, train=-1.7311847990610238, val=-1.4773380637092983 (Max patience reached)]\n",
      "  1%|▉                                                                                             | 104/10000 [00:51<1:21:32,  2.02it/s, train=-1.6784456117720974, val=-1.4087031837201167 (Max patience reached)]\n",
      "  1%|█▏                                                                                            | 122/10000 [01:03<1:26:15,  1.91it/s, train=-1.6816945345201013, val=-1.5793953915742986 (Max patience reached)]\n",
      "  1%|█▏                                                                                            | 132/10000 [01:08<1:24:44,  1.94it/s, train=-1.6883057150339513, val=-1.5791804973147907 (Max patience reached)]\n"
     ]
    }
   ],
>>>>>>> Remove gaussian expts
   "source": [
    "# gaussian_covariates_results = causl_py.run_simulations(\n",
    "#     causl_py.generate_gaussian_samples, \n",
    "#     seed=SEED, \n",
    "#     num_samples=NUM_SAMPLES, \n",
    "#     num_iter=NUM_ITER, \n",
    "#     causal_params=CAUSAL_PARAMS,\n",
    "#     hyperparams_dict=hyperparams_dict,\n",
    "#     causal_model_args={'ate': 0., 'const': 1., 'scale': 1}\n",
    "# )\n",
    "# gaussian_covariates_results"
   ]
  },
  {
   "cell_type": "code",
   "execution_count": 5,
   "id": "c87ec959-d25b-4713-b24f-2a0bd860eaed",
   "metadata": {},
   "outputs": [],
   "source": [
    "# display(gaussian_covariates_results.mean())\n",
    "# display(gaussian_covariates_results.std())"
   ]
  },
  {
   "cell_type": "code",
   "execution_count": 6,
   "id": "0ad888c7-26e9-43e0-8942-2a8b2231f13c",
   "metadata": {},
   "outputs": [],
   "source": [
    "# plt.figure(figsize=(12, 6))\n",
    "\n",
    "# # Boxplot\n",
    "# box = gaussian_covariates_results.boxplot(column=[\"ate\", \"const\", \"scale\"], grid=False)\n",
    "\n",
    "# # Adding lines for the true parameters\n",
    "# plt.axhline(y=TRUE_PARAMS['ate'], color='r', linestyle='--', label='True ate')\n",
    "# plt.axhline(y=TRUE_PARAMS['const'], color='g', linestyle='--', label='True const')\n",
    "# plt.axhline(y=TRUE_PARAMS['scale'], color='b', linestyle='--', label='True scale')\n",
    "\n",
    "# # Adding title and labels\n",
    "# plt.title('Box and Whisker Plot for ATE, Const, and Scale')\n",
    "# plt.ylabel('Values')\n",
    "# plt.ylim([0.80, 1.20])\n",
    "# plt.legend()"
   ]
  },
  {
   "cell_type": "markdown",
   "id": "f1d441a3-1d98-4c9d-bd3c-ebc3f0b5c20f",
   "metadata": {},
   "source": [
    "#### Outcome Regression"
   ]
  },
  {
   "cell_type": "code",
   "execution_count": 7,
   "id": "9b28afaf-719e-4618-834a-eac0b85fbc87",
   "metadata": {},
   "outputs": [],
   "source": [
    "# gaussian_coeffs = {'ate': [], 'const': []}\n",
    "# for i in range(NUM_ITER):\n",
    "#     data = causl_py.generate_gaussian_samples(N=NUM_SAMPLES, causal_params=CAUSAL_PARAMS, seed=i)\n",
    "#     coeff_X, coeff_const = run_outcome_regression(data)\n",
    "#     gaussian_coeffs['ate'].append(coeff_X)\n",
    "#     gaussian_coeffs['const'].append(coeff_const)\n",
    "# gaussian_outcome_coeffs = pd.DataFrame.from_dict(gaussian_coeffs)\n",
    "# gaussian_outcome_coeffs"
   ]
  },
  {
   "cell_type": "code",
   "execution_count": 8,
   "id": "532559d4-63e2-45c1-8657-9326dc549354",
   "metadata": {},
   "outputs": [],
   "source": [
    "# print(gaussian_outcome_coeffs.mean())\n",
    "# print(gaussian_outcome_coeffs.std())"
   ]
  },
  {
   "cell_type": "markdown",
   "id": "ba9dcb71-a33c-4a2a-b6da-c418772a9dca",
   "metadata": {},
   "source": [
    "### Mixed Gaussian and Gamma Outcomes"
   ]
  },
  {
   "cell_type": "code",
   "execution_count": 9,
   "id": "7d95c6e9-0762-4084-8994-30d37803d0e3",
   "metadata": {},
   "outputs": [],
   "source": [
    "Z_disc, Z_cont, X, Y = causl_py.generate_mixed_samples(20000, CAUSAL_PARAMS, 0).values()"
   ]
  },
  {
   "cell_type": "code",
   "execution_count": 10,
   "id": "1e1469be-3697-415b-a3e9-d04431559db8",
   "metadata": {},
   "outputs": [],
   "source": [
    "uz_samples = causl_py.generate_uz_samples(Z_cont=Z_cont, use_marginal_flow=False, seed=0, frugal_flow_hyperparams=hyperparams_dict)"
   ]
  },
  {
   "cell_type": "code",
   "execution_count": 11,
   "id": "61a772b4-dbf9-48b6-b6df-6dd64b820fe4",
   "metadata": {},
   "outputs": [],
   "source": [
    "uz_disc_samples = uz_samples['uz_disc']\n",
    "uz_cont_samples = uz_samples['uz_cont']"
   ]
  },
  {
   "cell_type": "code",
   "execution_count": 12,
   "id": "377b7c9f-fdd8-4187-ba88-274cbf41b9c5",
   "metadata": {},
   "outputs": [
    {
     "name": "stderr",
     "output_type": "stream",
     "text": [
      "  1%|  | 129/10000 [02:03<2:37:11,  1.05it/s, train=1.0809987542795436, val=1.1798122748326225 (Max patience reached)]\n"
     ]
    }
   ],
   "source": [
    "frugal_flow, losses = causl_py.train_frugal_flow(\n",
    "    key=jr.PRNGKey(0),\n",
    "    y=Y,\n",
    "    u_z=uz_cont_samples,\n",
    "    condition=X,\n",
    "    **hyperparams_dict,\n",
    "    causal_model='gaussian',\n",
    "    causal_model_args={'ate': 0., 'const': 0., 'scale': 2}\n",
    ")"
   ]
  },
  {
   "cell_type": "code",
   "execution_count": 13,
   "id": "90427a47-41ef-410c-a961-5a30a7f738e2",
   "metadata": {},
   "outputs": [],
   "source": [
    "causal_margin = frugal_flow.bijection.bijections[-1].bijection.bijections[0]"
   ]
  },
  {
   "cell_type": "code",
   "execution_count": 14,
   "id": "4b5d8bb9-c36d-4e38-ad7b-98df62db68cc",
   "metadata": {},
   "outputs": [
    {
     "data": {
      "text/plain": [
       "Array(1.04378718, dtype=float64)"
      ]
     },
     "execution_count": 14,
     "metadata": {},
     "output_type": "execute_result"
    }
   ],
   "source": [
    "causal_margin.ate"
   ]
  },
  {
   "cell_type": "code",
   "execution_count": 15,
   "id": "8034bb27-6674-4f8f-b022-f727c894a954",
   "metadata": {},
   "outputs": [
    {
     "data": {
      "text/plain": [
       "Array(-0.03097257, dtype=float64)"
      ]
     },
     "execution_count": 15,
     "metadata": {},
     "output_type": "execute_result"
    }
   ],
   "source": [
    "causal_margin.const"
   ]
  },
  {
   "cell_type": "code",
   "execution_count": 16,
   "id": "7e1f6bc9-d2b0-4bf3-9751-863d6d22df85",
   "metadata": {},
   "outputs": [
    {
     "data": {
      "text/plain": [
       "Array(1.01806904, dtype=float64)"
      ]
     },
     "execution_count": 16,
     "metadata": {},
     "output_type": "execute_result"
    }
   ],
   "source": [
    "causal_margin.scale"
   ]
  },
  {
   "cell_type": "code",
   "execution_count": 17,
   "id": "a92adc2c-236e-4f3a-b575-5491fc244bc9",
   "metadata": {},
   "outputs": [
    {
     "name": "stderr",
     "output_type": "stream",
     "text": [
      "  2%|      | 150/10000 [01:48<1:59:14,  1.38it/s, train=1.05112121189622, val=1.15301417816927 (Max patience reached)]\n"
     ]
    },
    {
     "name": "stdout",
     "output_type": "stream",
     "text": [
      "[array([ 1.01791027, -0.02278374,  0.994451  ])]\n"
     ]
    },
    {
     "name": "stderr",
     "output_type": "stream",
     "text": [
      "  1%|  | 112/10000 [01:21<1:59:50,  1.38it/s, train=1.0826510365345432, val=1.2000873992855456 (Max patience reached)]\n"
     ]
    },
    {
     "name": "stdout",
     "output_type": "stream",
     "text": [
      "[array([ 1.01791027, -0.02278374,  0.994451  ]), array([0.80960894, 0.18441759, 1.00937517])]\n"
     ]
    },
    {
     "name": "stderr",
     "output_type": "stream",
     "text": [
      "  2%|  | 162/10000 [01:58<1:59:59,  1.37it/s, train=1.0690471063860754, val=1.1365748258641148 (Max patience reached)]\n"
     ]
    },
    {
     "name": "stdout",
     "output_type": "stream",
     "text": [
      "[array([ 1.01791027, -0.02278374,  0.994451  ]), array([0.80960894, 0.18441759, 1.00937517]), array([0.98429806, 0.01029708, 1.00369361])]\n"
     ]
    },
    {
     "name": "stderr",
     "output_type": "stream",
     "text": [
      "  1%|   | 124/10000 [01:31<2:01:46,  1.35it/s, train=1.0823054707143551, val=1.213086540228452 (Max patience reached)]\n"
     ]
    },
    {
     "name": "stdout",
     "output_type": "stream",
     "text": [
      "[array([ 1.01791027, -0.02278374,  0.994451  ]), array([0.80960894, 0.18441759, 1.00937517]), array([0.98429806, 0.01029708, 1.00369361]), array([0.97390742, 0.06051167, 1.02442851])]\n"
     ]
    },
    {
     "name": "stderr",
     "output_type": "stream",
     "text": [
      "  1%|   | 124/10000 [01:28<1:57:16,  1.40it/s, train=1.0509349683480673, val=1.187932380958358 (Max patience reached)]\n"
     ]
    },
    {
     "name": "stdout",
     "output_type": "stream",
     "text": [
      "[array([ 1.01791027, -0.02278374,  0.994451  ]), array([0.80960894, 0.18441759, 1.00937517]), array([0.98429806, 0.01029708, 1.00369361]), array([0.97390742, 0.06051167, 1.02442851]), array([ 0.98578132, -0.01232371,  0.99503485])]\n"
     ]
    },
    {
     "name": "stderr",
     "output_type": "stream",
     "text": [
      "  1%|   | 126/10000 [01:29<1:56:49,  1.41it/s, train=1.0502305427489145, val=1.150028696669733 (Max patience reached)]\n"
     ]
    },
    {
     "name": "stdout",
     "output_type": "stream",
     "text": [
      "[array([ 1.01791027, -0.02278374,  0.994451  ]), array([0.80960894, 0.18441759, 1.00937517]), array([0.98429806, 0.01029708, 1.00369361]), array([0.97390742, 0.06051167, 1.02442851]), array([ 0.98578132, -0.01232371,  0.99503485]), array([ 1.05975363, -0.05494995,  1.00364063])]\n"
     ]
    },
    {
     "name": "stderr",
     "output_type": "stream",
     "text": [
      "  1%|  | 117/10000 [01:27<2:03:46,  1.33it/s, train=1.0848485429176489, val=1.2102979800397402 (Max patience reached)]\n"
     ]
    },
    {
     "name": "stdout",
     "output_type": "stream",
     "text": [
      "[array([ 1.01791027, -0.02278374,  0.994451  ]), array([0.80960894, 0.18441759, 1.00937517]), array([0.98429806, 0.01029708, 1.00369361]), array([0.97390742, 0.06051167, 1.02442851]), array([ 0.98578132, -0.01232371,  0.99503485]), array([ 1.05975363, -0.05494995,  1.00364063]), array([ 0.96180013, -0.00737875,  1.01602629])]\n"
     ]
    },
    {
     "name": "stderr",
     "output_type": "stream",
     "text": [
      "  1%|  | 134/10000 [01:37<1:59:09,  1.38it/s, train=1.0594841709392075, val=1.1918041629852143 (Max patience reached)]\n"
     ]
    },
    {
     "name": "stdout",
     "output_type": "stream",
     "text": [
      "[array([ 1.01791027, -0.02278374,  0.994451  ]), array([0.80960894, 0.18441759, 1.00937517]), array([0.98429806, 0.01029708, 1.00369361]), array([0.97390742, 0.06051167, 1.02442851]), array([ 0.98578132, -0.01232371,  0.99503485]), array([ 1.05975363, -0.05494995,  1.00364063]), array([ 0.96180013, -0.00737875,  1.01602629]), array([1.02084583, 0.00522025, 0.99534691])]\n"
     ]
    },
    {
     "name": "stderr",
     "output_type": "stream",
     "text": [
      "  1%|  | 131/10000 [01:36<2:01:08,  1.36it/s, train=1.0712649169026005, val=1.1869308554946758 (Max patience reached)]\n"
     ]
    },
    {
     "name": "stdout",
     "output_type": "stream",
     "text": [
      "[array([ 1.01791027, -0.02278374,  0.994451  ]), array([0.80960894, 0.18441759, 1.00937517]), array([0.98429806, 0.01029708, 1.00369361]), array([0.97390742, 0.06051167, 1.02442851]), array([ 0.98578132, -0.01232371,  0.99503485]), array([ 1.05975363, -0.05494995,  1.00364063]), array([ 0.96180013, -0.00737875,  1.01602629]), array([1.02084583, 0.00522025, 0.99534691]), array([ 1.03194596, -0.00761317,  1.0058129 ])]\n"
     ]
    },
    {
     "name": "stderr",
     "output_type": "stream",
     "text": [
      "  1%|  | 126/10000 [01:29<1:57:00,  1.41it/s, train=1.0713394144147848, val=1.1990864032342332 (Max patience reached)]\n"
     ]
    },
    {
     "name": "stdout",
     "output_type": "stream",
     "text": [
      "[array([ 1.01791027, -0.02278374,  0.994451  ]), array([0.80960894, 0.18441759, 1.00937517]), array([0.98429806, 0.01029708, 1.00369361]), array([0.97390742, 0.06051167, 1.02442851]), array([ 0.98578132, -0.01232371,  0.99503485]), array([ 1.05975363, -0.05494995,  1.00364063]), array([ 0.96180013, -0.00737875,  1.01602629]), array([1.02084583, 0.00522025, 0.99534691]), array([ 1.03194596, -0.00761317,  1.0058129 ]), array([0.96641375, 0.03423398, 1.02223922])]\n"
     ]
    },
    {
     "name": "stderr",
     "output_type": "stream",
     "text": [
      "  1%|  | 119/10000 [01:24<1:56:56,  1.41it/s, train=1.0551174376990935, val=1.1843763630774622 (Max patience reached)]\n"
     ]
    },
    {
     "name": "stdout",
     "output_type": "stream",
     "text": [
      "[array([ 1.01791027, -0.02278374,  0.994451  ]), array([0.80960894, 0.18441759, 1.00937517]), array([0.98429806, 0.01029708, 1.00369361]), array([0.97390742, 0.06051167, 1.02442851]), array([ 0.98578132, -0.01232371,  0.99503485]), array([ 1.05975363, -0.05494995,  1.00364063]), array([ 0.96180013, -0.00737875,  1.01602629]), array([1.02084583, 0.00522025, 0.99534691]), array([ 1.03194596, -0.00761317,  1.0058129 ]), array([0.96641375, 0.03423398, 1.02223922]), array([0.9961344 , 0.04007114, 0.9958282 ])]\n"
     ]
    },
    {
     "name": "stderr",
     "output_type": "stream",
     "text": [
      "  1%|   | 136/10000 [01:35<1:55:20,  1.43it/s, train=1.068742989580955, val=1.2016857576885436 (Max patience reached)]\n"
     ]
    },
    {
     "name": "stdout",
     "output_type": "stream",
     "text": [
      "[array([ 1.01791027, -0.02278374,  0.994451  ]), array([0.80960894, 0.18441759, 1.00937517]), array([0.98429806, 0.01029708, 1.00369361]), array([0.97390742, 0.06051167, 1.02442851]), array([ 0.98578132, -0.01232371,  0.99503485]), array([ 1.05975363, -0.05494995,  1.00364063]), array([ 0.96180013, -0.00737875,  1.01602629]), array([1.02084583, 0.00522025, 0.99534691]), array([ 1.03194596, -0.00761317,  1.0058129 ]), array([0.96641375, 0.03423398, 1.02223922]), array([0.9961344 , 0.04007114, 0.9958282 ]), array([ 1.0568797 , -0.06495301,  1.03485568])]\n"
     ]
    },
    {
     "name": "stderr",
     "output_type": "stream",
     "text": [
      "  1%|    | 134/10000 [01:35<1:57:41,  1.40it/s, train=1.0708302201194828, val=1.21129773173863 (Max patience reached)]\n"
     ]
    },
    {
     "name": "stdout",
     "output_type": "stream",
     "text": [
      "[array([ 1.01791027, -0.02278374,  0.994451  ]), array([0.80960894, 0.18441759, 1.00937517]), array([0.98429806, 0.01029708, 1.00369361]), array([0.97390742, 0.06051167, 1.02442851]), array([ 0.98578132, -0.01232371,  0.99503485]), array([ 1.05975363, -0.05494995,  1.00364063]), array([ 0.96180013, -0.00737875,  1.01602629]), array([1.02084583, 0.00522025, 0.99534691]), array([ 1.03194596, -0.00761317,  1.0058129 ]), array([0.96641375, 0.03423398, 1.02223922]), array([0.9961344 , 0.04007114, 0.9958282 ]), array([ 1.0568797 , -0.06495301,  1.03485568]), array([ 1.05254276, -0.04725855,  1.01230437])]\n"
     ]
    },
    {
     "name": "stderr",
     "output_type": "stream",
     "text": [
      "  1%|  | 124/10000 [01:30<1:59:34,  1.38it/s, train=1.0695755395531077, val=1.2286555442141724 (Max patience reached)]\n"
     ]
    },
    {
     "name": "stdout",
     "output_type": "stream",
     "text": [
      "[array([ 1.01791027, -0.02278374,  0.994451  ]), array([0.80960894, 0.18441759, 1.00937517]), array([0.98429806, 0.01029708, 1.00369361]), array([0.97390742, 0.06051167, 1.02442851]), array([ 0.98578132, -0.01232371,  0.99503485]), array([ 1.05975363, -0.05494995,  1.00364063]), array([ 0.96180013, -0.00737875,  1.01602629]), array([1.02084583, 0.00522025, 0.99534691]), array([ 1.03194596, -0.00761317,  1.0058129 ]), array([0.96641375, 0.03423398, 1.02223922]), array([0.9961344 , 0.04007114, 0.9958282 ]), array([ 1.0568797 , -0.06495301,  1.03485568]), array([ 1.05254276, -0.04725855,  1.01230437]), array([0.99792004, 0.00226864, 1.0113125 ])]\n"
     ]
    },
    {
     "name": "stderr",
     "output_type": "stream",
     "text": [
      "  1%|  | 137/10000 [01:37<1:57:03,  1.40it/s, train=1.0619221932729441, val=1.2191730907463658 (Max patience reached)]\n"
     ]
    },
    {
     "name": "stdout",
     "output_type": "stream",
     "text": [
      "[array([ 1.01791027, -0.02278374,  0.994451  ]), array([0.80960894, 0.18441759, 1.00937517]), array([0.98429806, 0.01029708, 1.00369361]), array([0.97390742, 0.06051167, 1.02442851]), array([ 0.98578132, -0.01232371,  0.99503485]), array([ 1.05975363, -0.05494995,  1.00364063]), array([ 0.96180013, -0.00737875,  1.01602629]), array([1.02084583, 0.00522025, 0.99534691]), array([ 1.03194596, -0.00761317,  1.0058129 ]), array([0.96641375, 0.03423398, 1.02223922]), array([0.9961344 , 0.04007114, 0.9958282 ]), array([ 1.0568797 , -0.06495301,  1.03485568]), array([ 1.05254276, -0.04725855,  1.01230437]), array([0.99792004, 0.00226864, 1.0113125 ]), array([ 0.98954275, -0.02594918,  1.01225022])]\n"
     ]
    },
    {
     "name": "stderr",
     "output_type": "stream",
     "text": [
      "  1%|   | 119/10000 [01:22<1:54:44,  1.44it/s, train=1.066061973959229, val=1.2213282755699588 (Max patience reached)]\n"
     ]
    },
    {
     "name": "stdout",
     "output_type": "stream",
     "text": [
      "[array([ 1.01791027, -0.02278374,  0.994451  ]), array([0.80960894, 0.18441759, 1.00937517]), array([0.98429806, 0.01029708, 1.00369361]), array([0.97390742, 0.06051167, 1.02442851]), array([ 0.98578132, -0.01232371,  0.99503485]), array([ 1.05975363, -0.05494995,  1.00364063]), array([ 0.96180013, -0.00737875,  1.01602629]), array([1.02084583, 0.00522025, 0.99534691]), array([ 1.03194596, -0.00761317,  1.0058129 ]), array([0.96641375, 0.03423398, 1.02223922]), array([0.9961344 , 0.04007114, 0.9958282 ]), array([ 1.0568797 , -0.06495301,  1.03485568]), array([ 1.05254276, -0.04725855,  1.01230437]), array([0.99792004, 0.00226864, 1.0113125 ]), array([ 0.98954275, -0.02594918,  1.01225022]), array([0.92794233, 0.10285133, 1.01042853])]\n"
     ]
    },
    {
     "name": "stderr",
     "output_type": "stream",
     "text": [
      "  1%|  | 144/10000 [01:40<1:54:17,  1.44it/s, train=1.0886882133169442, val=1.1727731419049756 (Max patience reached)]\n"
     ]
    },
    {
     "name": "stdout",
     "output_type": "stream",
     "text": [
      "[array([ 1.01791027, -0.02278374,  0.994451  ]), array([0.80960894, 0.18441759, 1.00937517]), array([0.98429806, 0.01029708, 1.00369361]), array([0.97390742, 0.06051167, 1.02442851]), array([ 0.98578132, -0.01232371,  0.99503485]), array([ 1.05975363, -0.05494995,  1.00364063]), array([ 0.96180013, -0.00737875,  1.01602629]), array([1.02084583, 0.00522025, 0.99534691]), array([ 1.03194596, -0.00761317,  1.0058129 ]), array([0.96641375, 0.03423398, 1.02223922]), array([0.9961344 , 0.04007114, 0.9958282 ]), array([ 1.0568797 , -0.06495301,  1.03485568]), array([ 1.05254276, -0.04725855,  1.01230437]), array([0.99792004, 0.00226864, 1.0113125 ]), array([ 0.98954275, -0.02594918,  1.01225022]), array([0.92794233, 0.10285133, 1.01042853]), array([ 1.06899906, -0.07692377,  1.02587628])]\n"
     ]
    },
    {
     "name": "stderr",
     "output_type": "stream",
     "text": [
      "  1%|   | 118/10000 [01:21<1:53:59,  1.44it/s, train=1.071608193794714, val=1.1930071178280925 (Max patience reached)]\n"
     ]
    },
    {
     "name": "stdout",
     "output_type": "stream",
     "text": [
      "[array([ 1.01791027, -0.02278374,  0.994451  ]), array([0.80960894, 0.18441759, 1.00937517]), array([0.98429806, 0.01029708, 1.00369361]), array([0.97390742, 0.06051167, 1.02442851]), array([ 0.98578132, -0.01232371,  0.99503485]), array([ 1.05975363, -0.05494995,  1.00364063]), array([ 0.96180013, -0.00737875,  1.01602629]), array([1.02084583, 0.00522025, 0.99534691]), array([ 1.03194596, -0.00761317,  1.0058129 ]), array([0.96641375, 0.03423398, 1.02223922]), array([0.9961344 , 0.04007114, 0.9958282 ]), array([ 1.0568797 , -0.06495301,  1.03485568]), array([ 1.05254276, -0.04725855,  1.01230437]), array([0.99792004, 0.00226864, 1.0113125 ]), array([ 0.98954275, -0.02594918,  1.01225022]), array([0.92794233, 0.10285133, 1.01042853]), array([ 1.06899906, -0.07692377,  1.02587628]), array([0.90940013, 0.07333481, 0.96947618])]\n"
     ]
    },
    {
     "name": "stderr",
     "output_type": "stream",
     "text": [
      "  2%|  | 180/10000 [02:04<1:53:02,  1.45it/s, train=1.0674933260458253, val=1.2030065487875936 (Max patience reached)]\n"
     ]
    },
    {
     "name": "stdout",
     "output_type": "stream",
     "text": [
      "[array([ 1.01791027, -0.02278374,  0.994451  ]), array([0.80960894, 0.18441759, 1.00937517]), array([0.98429806, 0.01029708, 1.00369361]), array([0.97390742, 0.06051167, 1.02442851]), array([ 0.98578132, -0.01232371,  0.99503485]), array([ 1.05975363, -0.05494995,  1.00364063]), array([ 0.96180013, -0.00737875,  1.01602629]), array([1.02084583, 0.00522025, 0.99534691]), array([ 1.03194596, -0.00761317,  1.0058129 ]), array([0.96641375, 0.03423398, 1.02223922]), array([0.9961344 , 0.04007114, 0.9958282 ]), array([ 1.0568797 , -0.06495301,  1.03485568]), array([ 1.05254276, -0.04725855,  1.01230437]), array([0.99792004, 0.00226864, 1.0113125 ]), array([ 0.98954275, -0.02594918,  1.01225022]), array([0.92794233, 0.10285133, 1.01042853]), array([ 1.06899906, -0.07692377,  1.02587628]), array([0.90940013, 0.07333481, 0.96947618]), array([ 0.99439998, -0.017112  ,  1.01838181])]\n"
     ]
    },
    {
     "name": "stderr",
     "output_type": "stream",
     "text": [
      "  1%|  | 123/10000 [01:22<1:50:36,  1.49it/s, train=1.0813567641183937, val=1.1621143217131145 (Max patience reached)]\n"
     ]
    },
    {
     "name": "stdout",
     "output_type": "stream",
     "text": [
      "[array([ 1.01791027, -0.02278374,  0.994451  ]), array([0.80960894, 0.18441759, 1.00937517]), array([0.98429806, 0.01029708, 1.00369361]), array([0.97390742, 0.06051167, 1.02442851]), array([ 0.98578132, -0.01232371,  0.99503485]), array([ 1.05975363, -0.05494995,  1.00364063]), array([ 0.96180013, -0.00737875,  1.01602629]), array([1.02084583, 0.00522025, 0.99534691]), array([ 1.03194596, -0.00761317,  1.0058129 ]), array([0.96641375, 0.03423398, 1.02223922]), array([0.9961344 , 0.04007114, 0.9958282 ]), array([ 1.0568797 , -0.06495301,  1.03485568]), array([ 1.05254276, -0.04725855,  1.01230437]), array([0.99792004, 0.00226864, 1.0113125 ]), array([ 0.98954275, -0.02594918,  1.01225022]), array([0.92794233, 0.10285133, 1.01042853]), array([ 1.06899906, -0.07692377,  1.02587628]), array([0.90940013, 0.07333481, 0.96947618]), array([ 0.99439998, -0.017112  ,  1.01838181]), array([1.03056097e+00, 6.22109138e-04, 1.01024321e+00])]\n"
     ]
    },
    {
     "name": "stderr",
     "output_type": "stream",
     "text": [
      "  1%|   | 118/10000 [01:21<1:53:31,  1.45it/s, train=1.062169391937426, val=1.2291818254142262 (Max patience reached)]\n"
     ]
    },
    {
     "name": "stdout",
     "output_type": "stream",
     "text": [
      "[array([ 1.01791027, -0.02278374,  0.994451  ]), array([0.80960894, 0.18441759, 1.00937517]), array([0.98429806, 0.01029708, 1.00369361]), array([0.97390742, 0.06051167, 1.02442851]), array([ 0.98578132, -0.01232371,  0.99503485]), array([ 1.05975363, -0.05494995,  1.00364063]), array([ 0.96180013, -0.00737875,  1.01602629]), array([1.02084583, 0.00522025, 0.99534691]), array([ 1.03194596, -0.00761317,  1.0058129 ]), array([0.96641375, 0.03423398, 1.02223922]), array([0.9961344 , 0.04007114, 0.9958282 ]), array([ 1.0568797 , -0.06495301,  1.03485568]), array([ 1.05254276, -0.04725855,  1.01230437]), array([0.99792004, 0.00226864, 1.0113125 ]), array([ 0.98954275, -0.02594918,  1.01225022]), array([0.92794233, 0.10285133, 1.01042853]), array([ 1.06899906, -0.07692377,  1.02587628]), array([0.90940013, 0.07333481, 0.96947618]), array([ 0.99439998, -0.017112  ,  1.01838181]), array([1.03056097e+00, 6.22109138e-04, 1.01024321e+00]), array([0.95156871, 0.0299475 , 1.01898753])]\n"
     ]
    },
    {
     "name": "stderr",
     "output_type": "stream",
     "text": [
      "  2%|  | 151/10000 [01:41<1:50:48,  1.48it/s, train=1.0787534626032391, val=1.1289448850534538 (Max patience reached)]\n"
     ]
    },
    {
     "name": "stdout",
     "output_type": "stream",
     "text": [
      "[array([ 1.01791027, -0.02278374,  0.994451  ]), array([0.80960894, 0.18441759, 1.00937517]), array([0.98429806, 0.01029708, 1.00369361]), array([0.97390742, 0.06051167, 1.02442851]), array([ 0.98578132, -0.01232371,  0.99503485]), array([ 1.05975363, -0.05494995,  1.00364063]), array([ 0.96180013, -0.00737875,  1.01602629]), array([1.02084583, 0.00522025, 0.99534691]), array([ 1.03194596, -0.00761317,  1.0058129 ]), array([0.96641375, 0.03423398, 1.02223922]), array([0.9961344 , 0.04007114, 0.9958282 ]), array([ 1.0568797 , -0.06495301,  1.03485568]), array([ 1.05254276, -0.04725855,  1.01230437]), array([0.99792004, 0.00226864, 1.0113125 ]), array([ 0.98954275, -0.02594918,  1.01225022]), array([0.92794233, 0.10285133, 1.01042853]), array([ 1.06899906, -0.07692377,  1.02587628]), array([0.90940013, 0.07333481, 0.96947618]), array([ 0.99439998, -0.017112  ,  1.01838181]), array([1.03056097e+00, 6.22109138e-04, 1.01024321e+00]), array([0.95156871, 0.0299475 , 1.01898753]), array([ 1.0324114 , -0.04137562,  1.0213128 ])]\n"
     ]
    },
    {
     "name": "stderr",
     "output_type": "stream",
     "text": [
      "  1%|  | 127/10000 [01:26<1:51:33,  1.48it/s, train=1.0778932572712339, val=1.1636357017236874 (Max patience reached)]\n"
     ]
    },
    {
     "name": "stdout",
     "output_type": "stream",
     "text": [
      "[array([ 1.01791027, -0.02278374,  0.994451  ]), array([0.80960894, 0.18441759, 1.00937517]), array([0.98429806, 0.01029708, 1.00369361]), array([0.97390742, 0.06051167, 1.02442851]), array([ 0.98578132, -0.01232371,  0.99503485]), array([ 1.05975363, -0.05494995,  1.00364063]), array([ 0.96180013, -0.00737875,  1.01602629]), array([1.02084583, 0.00522025, 0.99534691]), array([ 1.03194596, -0.00761317,  1.0058129 ]), array([0.96641375, 0.03423398, 1.02223922]), array([0.9961344 , 0.04007114, 0.9958282 ]), array([ 1.0568797 , -0.06495301,  1.03485568]), array([ 1.05254276, -0.04725855,  1.01230437]), array([0.99792004, 0.00226864, 1.0113125 ]), array([ 0.98954275, -0.02594918,  1.01225022]), array([0.92794233, 0.10285133, 1.01042853]), array([ 1.06899906, -0.07692377,  1.02587628]), array([0.90940013, 0.07333481, 0.96947618]), array([ 0.99439998, -0.017112  ,  1.01838181]), array([1.03056097e+00, 6.22109138e-04, 1.01024321e+00]), array([0.95156871, 0.0299475 , 1.01898753]), array([ 1.0324114 , -0.04137562,  1.0213128 ]), array([ 1.01959583, -0.02756578,  0.99937964])]\n"
     ]
    },
    {
     "name": "stderr",
     "output_type": "stream",
     "text": [
      "  1%|  | 145/10000 [01:37<1:50:21,  1.49it/s, train=1.0576269707680814, val=1.1981087514389726 (Max patience reached)]\n"
     ]
    },
    {
     "name": "stdout",
     "output_type": "stream",
     "text": [
      "[array([ 1.01791027, -0.02278374,  0.994451  ]), array([0.80960894, 0.18441759, 1.00937517]), array([0.98429806, 0.01029708, 1.00369361]), array([0.97390742, 0.06051167, 1.02442851]), array([ 0.98578132, -0.01232371,  0.99503485]), array([ 1.05975363, -0.05494995,  1.00364063]), array([ 0.96180013, -0.00737875,  1.01602629]), array([1.02084583, 0.00522025, 0.99534691]), array([ 1.03194596, -0.00761317,  1.0058129 ]), array([0.96641375, 0.03423398, 1.02223922]), array([0.9961344 , 0.04007114, 0.9958282 ]), array([ 1.0568797 , -0.06495301,  1.03485568]), array([ 1.05254276, -0.04725855,  1.01230437]), array([0.99792004, 0.00226864, 1.0113125 ]), array([ 0.98954275, -0.02594918,  1.01225022]), array([0.92794233, 0.10285133, 1.01042853]), array([ 1.06899906, -0.07692377,  1.02587628]), array([0.90940013, 0.07333481, 0.96947618]), array([ 0.99439998, -0.017112  ,  1.01838181]), array([1.03056097e+00, 6.22109138e-04, 1.01024321e+00]), array([0.95156871, 0.0299475 , 1.01898753]), array([ 1.0324114 , -0.04137562,  1.0213128 ]), array([ 1.01959583, -0.02756578,  0.99937964]), array([ 1.02157384, -0.02667153,  1.01260008])]\n"
     ]
    },
    {
     "name": "stderr",
     "output_type": "stream",
     "text": [
      "  1%|   | 126/10000 [01:27<1:54:23,  1.44it/s, train=1.0812348118059707, val=1.191944812479825 (Max patience reached)]"
     ]
    },
    {
     "name": "stdout",
     "output_type": "stream",
     "text": [
      "[array([ 1.01791027, -0.02278374,  0.994451  ]), array([0.80960894, 0.18441759, 1.00937517]), array([0.98429806, 0.01029708, 1.00369361]), array([0.97390742, 0.06051167, 1.02442851]), array([ 0.98578132, -0.01232371,  0.99503485]), array([ 1.05975363, -0.05494995,  1.00364063]), array([ 0.96180013, -0.00737875,  1.01602629]), array([1.02084583, 0.00522025, 0.99534691]), array([ 1.03194596, -0.00761317,  1.0058129 ]), array([0.96641375, 0.03423398, 1.02223922]), array([0.9961344 , 0.04007114, 0.9958282 ]), array([ 1.0568797 , -0.06495301,  1.03485568]), array([ 1.05254276, -0.04725855,  1.01230437]), array([0.99792004, 0.00226864, 1.0113125 ]), array([ 0.98954275, -0.02594918,  1.01225022]), array([0.92794233, 0.10285133, 1.01042853]), array([ 1.06899906, -0.07692377,  1.02587628]), array([0.90940013, 0.07333481, 0.96947618]), array([ 0.99439998, -0.017112  ,  1.01838181]), array([1.03056097e+00, 6.22109138e-04, 1.01024321e+00]), array([0.95156871, 0.0299475 , 1.01898753]), array([ 1.0324114 , -0.04137562,  1.0213128 ]), array([ 1.01959583, -0.02756578,  0.99937964]), array([ 1.02157384, -0.02667153,  1.01260008]), array([ 1.03404722, -0.02646067,  1.01087249])]\n"
     ]
    },
    {
     "name": "stderr",
     "output_type": "stream",
     "text": [
      "\n"
     ]
    }
   ],
   "source": [
    "continous_covariates_results = causl_py.run_simulations(\n",
    "    causl_py.generate_mixed_samples, \n",
    "    seed=SEED, \n",
    "    num_samples=NUM_SAMPLES, \n",
    "    num_iter=NUM_ITER, \n",
    "    causal_params=CAUSAL_PARAMS,\n",
    "    hyperparams_dict=hyperparams_dict,\n",
    "    causal_model_args={'ate': 0., 'const': 0., 'scale': 1}\n",
    ")"
   ]
  },
  {
   "cell_type": "code",
   "execution_count": 18,
   "id": "1e29818a-ddb4-4f56-9d11-1fb4bd752d35",
   "metadata": {},
   "outputs": [
    {
     "data": {
      "text/html": [
       "<div>\n",
       "<style scoped>\n",
       "    .dataframe tbody tr th:only-of-type {\n",
       "        vertical-align: middle;\n",
       "    }\n",
       "\n",
       "    .dataframe tbody tr th {\n",
       "        vertical-align: top;\n",
       "    }\n",
       "\n",
       "    .dataframe thead th {\n",
       "        text-align: right;\n",
       "    }\n",
       "</style>\n",
       "<table border=\"1\" class=\"dataframe\">\n",
       "  <thead>\n",
       "    <tr style=\"text-align: right;\">\n",
       "      <th></th>\n",
       "      <th>ate</th>\n",
       "      <th>const</th>\n",
       "      <th>scale</th>\n",
       "    </tr>\n",
       "  </thead>\n",
       "  <tbody>\n",
       "    <tr>\n",
       "      <th>0</th>\n",
       "      <td>1.017910</td>\n",
       "      <td>-0.022784</td>\n",
       "      <td>0.994451</td>\n",
       "    </tr>\n",
       "    <tr>\n",
       "      <th>1</th>\n",
       "      <td>0.809609</td>\n",
       "      <td>0.184418</td>\n",
       "      <td>1.009375</td>\n",
       "    </tr>\n",
       "    <tr>\n",
       "      <th>2</th>\n",
       "      <td>0.984298</td>\n",
       "      <td>0.010297</td>\n",
       "      <td>1.003694</td>\n",
       "    </tr>\n",
       "    <tr>\n",
       "      <th>3</th>\n",
       "      <td>0.973907</td>\n",
       "      <td>0.060512</td>\n",
       "      <td>1.024429</td>\n",
       "    </tr>\n",
       "    <tr>\n",
       "      <th>4</th>\n",
       "      <td>0.985781</td>\n",
       "      <td>-0.012324</td>\n",
       "      <td>0.995035</td>\n",
       "    </tr>\n",
       "    <tr>\n",
       "      <th>5</th>\n",
       "      <td>1.059754</td>\n",
       "      <td>-0.054950</td>\n",
       "      <td>1.003641</td>\n",
       "    </tr>\n",
       "    <tr>\n",
       "      <th>6</th>\n",
       "      <td>0.961800</td>\n",
       "      <td>-0.007379</td>\n",
       "      <td>1.016026</td>\n",
       "    </tr>\n",
       "    <tr>\n",
       "      <th>7</th>\n",
       "      <td>1.020846</td>\n",
       "      <td>0.005220</td>\n",
       "      <td>0.995347</td>\n",
       "    </tr>\n",
       "    <tr>\n",
       "      <th>8</th>\n",
       "      <td>1.031946</td>\n",
       "      <td>-0.007613</td>\n",
       "      <td>1.005813</td>\n",
       "    </tr>\n",
       "    <tr>\n",
       "      <th>9</th>\n",
       "      <td>0.966414</td>\n",
       "      <td>0.034234</td>\n",
       "      <td>1.022239</td>\n",
       "    </tr>\n",
       "    <tr>\n",
       "      <th>10</th>\n",
       "      <td>0.996134</td>\n",
       "      <td>0.040071</td>\n",
       "      <td>0.995828</td>\n",
       "    </tr>\n",
       "    <tr>\n",
       "      <th>11</th>\n",
       "      <td>1.056880</td>\n",
       "      <td>-0.064953</td>\n",
       "      <td>1.034856</td>\n",
       "    </tr>\n",
       "    <tr>\n",
       "      <th>12</th>\n",
       "      <td>1.052543</td>\n",
       "      <td>-0.047259</td>\n",
       "      <td>1.012304</td>\n",
       "    </tr>\n",
       "    <tr>\n",
       "      <th>13</th>\n",
       "      <td>0.997920</td>\n",
       "      <td>0.002269</td>\n",
       "      <td>1.011312</td>\n",
       "    </tr>\n",
       "    <tr>\n",
       "      <th>14</th>\n",
       "      <td>0.989543</td>\n",
       "      <td>-0.025949</td>\n",
       "      <td>1.012250</td>\n",
       "    </tr>\n",
       "    <tr>\n",
       "      <th>15</th>\n",
       "      <td>0.927942</td>\n",
       "      <td>0.102851</td>\n",
       "      <td>1.010429</td>\n",
       "    </tr>\n",
       "    <tr>\n",
       "      <th>16</th>\n",
       "      <td>1.068999</td>\n",
       "      <td>-0.076924</td>\n",
       "      <td>1.025876</td>\n",
       "    </tr>\n",
       "    <tr>\n",
       "      <th>17</th>\n",
       "      <td>0.909400</td>\n",
       "      <td>0.073335</td>\n",
       "      <td>0.969476</td>\n",
       "    </tr>\n",
       "    <tr>\n",
       "      <th>18</th>\n",
       "      <td>0.994400</td>\n",
       "      <td>-0.017112</td>\n",
       "      <td>1.018382</td>\n",
       "    </tr>\n",
       "    <tr>\n",
       "      <th>19</th>\n",
       "      <td>1.030561</td>\n",
       "      <td>0.000622</td>\n",
       "      <td>1.010243</td>\n",
       "    </tr>\n",
       "    <tr>\n",
       "      <th>20</th>\n",
       "      <td>0.951569</td>\n",
       "      <td>0.029947</td>\n",
       "      <td>1.018988</td>\n",
       "    </tr>\n",
       "    <tr>\n",
       "      <th>21</th>\n",
       "      <td>1.032411</td>\n",
       "      <td>-0.041376</td>\n",
       "      <td>1.021313</td>\n",
       "    </tr>\n",
       "    <tr>\n",
       "      <th>22</th>\n",
       "      <td>1.019596</td>\n",
       "      <td>-0.027566</td>\n",
       "      <td>0.999380</td>\n",
       "    </tr>\n",
       "    <tr>\n",
       "      <th>23</th>\n",
       "      <td>1.021574</td>\n",
       "      <td>-0.026672</td>\n",
       "      <td>1.012600</td>\n",
       "    </tr>\n",
       "    <tr>\n",
       "      <th>24</th>\n",
       "      <td>1.034047</td>\n",
       "      <td>-0.026461</td>\n",
       "      <td>1.010872</td>\n",
       "    </tr>\n",
       "  </tbody>\n",
       "</table>\n",
       "</div>"
      ],
      "text/plain": [
       "         ate     const     scale\n",
       "0   1.017910 -0.022784  0.994451\n",
       "1   0.809609  0.184418  1.009375\n",
       "2   0.984298  0.010297  1.003694\n",
       "3   0.973907  0.060512  1.024429\n",
       "4   0.985781 -0.012324  0.995035\n",
       "5   1.059754 -0.054950  1.003641\n",
       "6   0.961800 -0.007379  1.016026\n",
       "7   1.020846  0.005220  0.995347\n",
       "8   1.031946 -0.007613  1.005813\n",
       "9   0.966414  0.034234  1.022239\n",
       "10  0.996134  0.040071  0.995828\n",
       "11  1.056880 -0.064953  1.034856\n",
       "12  1.052543 -0.047259  1.012304\n",
       "13  0.997920  0.002269  1.011312\n",
       "14  0.989543 -0.025949  1.012250\n",
       "15  0.927942  0.102851  1.010429\n",
       "16  1.068999 -0.076924  1.025876\n",
       "17  0.909400  0.073335  0.969476\n",
       "18  0.994400 -0.017112  1.018382\n",
       "19  1.030561  0.000622  1.010243\n",
       "20  0.951569  0.029947  1.018988\n",
       "21  1.032411 -0.041376  1.021313\n",
       "22  1.019596 -0.027566  0.999380\n",
       "23  1.021574 -0.026672  1.012600\n",
       "24  1.034047 -0.026461  1.010872"
      ]
     },
     "execution_count": 18,
     "metadata": {},
     "output_type": "execute_result"
    }
   ],
   "source": [
    "continous_covariates_results"
   ]
  },
  {
   "cell_type": "code",
   "execution_count": 19,
   "id": "afe5e95e-facb-4f70-9504-b3563aff44d4",
   "metadata": {},
   "outputs": [
    {
     "name": "stdout",
     "output_type": "stream",
     "text": [
      "ate      0.995831\n",
      "const    0.003378\n",
      "scale    1.009366\n",
      "dtype: float64\n",
      "ate      0.056100\n",
      "const    0.057074\n",
      "scale    0.013366\n",
      "dtype: float64\n"
     ]
    }
   ],
   "source": [
    "print(continous_covariates_results.mean())\n",
    "print(continous_covariates_results.std())"
   ]
  },
  {
   "cell_type": "markdown",
   "id": "b7a1c159-5441-4ed7-8890-be515f80fde7",
   "metadata": {},
   "source": [
    "#### Outcome Regression"
   ]
  },
  {
   "cell_type": "code",
   "execution_count": 20,
   "id": "fb4daed3-c646-4d59-a219-e8131ff04332",
   "metadata": {},
   "outputs": [
    {
     "data": {
      "text/html": [
       "<div>\n",
       "<style scoped>\n",
       "    .dataframe tbody tr th:only-of-type {\n",
       "        vertical-align: middle;\n",
       "    }\n",
       "\n",
       "    .dataframe tbody tr th {\n",
       "        vertical-align: top;\n",
       "    }\n",
       "\n",
       "    .dataframe thead th {\n",
       "        text-align: right;\n",
       "    }\n",
       "</style>\n",
       "<table border=\"1\" class=\"dataframe\">\n",
       "  <thead>\n",
       "    <tr style=\"text-align: right;\">\n",
       "      <th></th>\n",
       "      <th>ate</th>\n",
       "      <th>const</th>\n",
       "    </tr>\n",
       "  </thead>\n",
       "  <tbody>\n",
       "    <tr>\n",
       "      <th>0</th>\n",
       "      <td>1.285608</td>\n",
       "      <td>-0.983819</td>\n",
       "    </tr>\n",
       "    <tr>\n",
       "      <th>1</th>\n",
       "      <td>1.214859</td>\n",
       "      <td>-0.940049</td>\n",
       "    </tr>\n",
       "    <tr>\n",
       "      <th>2</th>\n",
       "      <td>1.284259</td>\n",
       "      <td>-0.974152</td>\n",
       "    </tr>\n",
       "    <tr>\n",
       "      <th>3</th>\n",
       "      <td>1.276803</td>\n",
       "      <td>-0.985926</td>\n",
       "    </tr>\n",
       "    <tr>\n",
       "      <th>4</th>\n",
       "      <td>1.319969</td>\n",
       "      <td>-1.033329</td>\n",
       "    </tr>\n",
       "    <tr>\n",
       "      <th>5</th>\n",
       "      <td>1.312236</td>\n",
       "      <td>-1.005011</td>\n",
       "    </tr>\n",
       "    <tr>\n",
       "      <th>6</th>\n",
       "      <td>1.256428</td>\n",
       "      <td>-0.949444</td>\n",
       "    </tr>\n",
       "    <tr>\n",
       "      <th>7</th>\n",
       "      <td>1.251428</td>\n",
       "      <td>-0.928867</td>\n",
       "    </tr>\n",
       "    <tr>\n",
       "      <th>8</th>\n",
       "      <td>1.267205</td>\n",
       "      <td>-0.962743</td>\n",
       "    </tr>\n",
       "    <tr>\n",
       "      <th>9</th>\n",
       "      <td>1.303809</td>\n",
       "      <td>-0.995354</td>\n",
       "    </tr>\n",
       "    <tr>\n",
       "      <th>10</th>\n",
       "      <td>1.268294</td>\n",
       "      <td>-0.952622</td>\n",
       "    </tr>\n",
       "    <tr>\n",
       "      <th>11</th>\n",
       "      <td>1.287837</td>\n",
       "      <td>-1.002639</td>\n",
       "    </tr>\n",
       "    <tr>\n",
       "      <th>12</th>\n",
       "      <td>1.259994</td>\n",
       "      <td>-0.964306</td>\n",
       "    </tr>\n",
       "    <tr>\n",
       "      <th>13</th>\n",
       "      <td>1.282303</td>\n",
       "      <td>-0.978872</td>\n",
       "    </tr>\n",
       "    <tr>\n",
       "      <th>14</th>\n",
       "      <td>1.277179</td>\n",
       "      <td>-1.001043</td>\n",
       "    </tr>\n",
       "    <tr>\n",
       "      <th>15</th>\n",
       "      <td>1.257834</td>\n",
       "      <td>-0.960298</td>\n",
       "    </tr>\n",
       "    <tr>\n",
       "      <th>16</th>\n",
       "      <td>1.327651</td>\n",
       "      <td>-1.015319</td>\n",
       "    </tr>\n",
       "    <tr>\n",
       "      <th>17</th>\n",
       "      <td>1.317528</td>\n",
       "      <td>-1.013743</td>\n",
       "    </tr>\n",
       "    <tr>\n",
       "      <th>18</th>\n",
       "      <td>1.266978</td>\n",
       "      <td>-0.971231</td>\n",
       "    </tr>\n",
       "    <tr>\n",
       "      <th>19</th>\n",
       "      <td>1.344308</td>\n",
       "      <td>-1.024735</td>\n",
       "    </tr>\n",
       "    <tr>\n",
       "      <th>20</th>\n",
       "      <td>1.267695</td>\n",
       "      <td>-0.982540</td>\n",
       "    </tr>\n",
       "    <tr>\n",
       "      <th>21</th>\n",
       "      <td>1.280335</td>\n",
       "      <td>-0.958261</td>\n",
       "    </tr>\n",
       "    <tr>\n",
       "      <th>22</th>\n",
       "      <td>1.287448</td>\n",
       "      <td>-1.008012</td>\n",
       "    </tr>\n",
       "    <tr>\n",
       "      <th>23</th>\n",
       "      <td>1.296238</td>\n",
       "      <td>-0.983417</td>\n",
       "    </tr>\n",
       "    <tr>\n",
       "      <th>24</th>\n",
       "      <td>1.293570</td>\n",
       "      <td>-1.010937</td>\n",
       "    </tr>\n",
       "  </tbody>\n",
       "</table>\n",
       "</div>"
      ],
      "text/plain": [
       "         ate     const\n",
       "0   1.285608 -0.983819\n",
       "1   1.214859 -0.940049\n",
       "2   1.284259 -0.974152\n",
       "3   1.276803 -0.985926\n",
       "4   1.319969 -1.033329\n",
       "5   1.312236 -1.005011\n",
       "6   1.256428 -0.949444\n",
       "7   1.251428 -0.928867\n",
       "8   1.267205 -0.962743\n",
       "9   1.303809 -0.995354\n",
       "10  1.268294 -0.952622\n",
       "11  1.287837 -1.002639\n",
       "12  1.259994 -0.964306\n",
       "13  1.282303 -0.978872\n",
       "14  1.277179 -1.001043\n",
       "15  1.257834 -0.960298\n",
       "16  1.327651 -1.015319\n",
       "17  1.317528 -1.013743\n",
       "18  1.266978 -0.971231\n",
       "19  1.344308 -1.024735\n",
       "20  1.267695 -0.982540\n",
       "21  1.280335 -0.958261\n",
       "22  1.287448 -1.008012\n",
       "23  1.296238 -0.983417\n",
       "24  1.293570 -1.010937"
      ]
     },
     "execution_count": 20,
     "metadata": {},
     "output_type": "execute_result"
    }
   ],
   "source": [
    "outcome_coeffs = {'ate': [], 'const': []}\n",
    "for i in range(NUM_ITER):\n",
    "    data = causl_py.generate_mixed_samples(N=NUM_SAMPLES, causal_params=CAUSAL_PARAMS, seed=i)\n",
    "    coeff_X, coeff_const = run_outcome_regression(data)\n",
    "    outcome_coeffs['ate'].append(coeff_X)\n",
    "    outcome_coeffs['const'].append(coeff_const)\n",
    "outcome_coeffs = pd.DataFrame.from_dict(outcome_coeffs)\n",
    "outcome_coeffs"
   ]
  },
  {
   "cell_type": "code",
   "execution_count": 21,
   "id": "1f98eee7-e37c-49dd-b671-7f467f246822",
   "metadata": {},
   "outputs": [
    {
     "name": "stdout",
     "output_type": "stream",
     "text": [
      "ate      1.283512\n",
      "const   -0.983467\n",
      "dtype: float64\n",
      "ate      0.027746\n",
      "const    0.027362\n",
      "dtype: float64\n"
     ]
    }
   ],
   "source": [
    "print(outcome_coeffs.mean())\n",
    "print(outcome_coeffs.std())"
   ]
  },
  {
   "cell_type": "code",
   "execution_count": 22,
   "id": "2ce3d31b-b7ba-4efd-b736-7d48eeaf4ce8",
   "metadata": {},
   "outputs": [
    {
     "data": {
      "text/plain": [
       "<matplotlib.legend.Legend at 0x3a6b82910>"
      ]
     },
     "execution_count": 22,
     "metadata": {},
     "output_type": "execute_result"
    },
    {
     "data": {
      "image/png": "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",
      "text/plain": [
       "<Figure size 1200x600 with 1 Axes>"
      ]
     },
     "metadata": {},
     "output_type": "display_data"
    }
   ],
   "source": [
    "plt.figure(figsize=(12, 6))\n",
    "\n",
    "# Boxplot\n",
    "box = continous_covariates_results.boxplot(column=[\"ate\", \"const\", \"scale\"], grid=False)\n",
    "\n",
    "# Adding lines for the true parameters\n",
    "plt.axhline(y=TRUE_PARAMS['ate'], color='r', linestyle='--', label='True ate')\n",
    "plt.axhline(y=TRUE_PARAMS['const'], color='g', linestyle='--', label='True const')\n",
    "plt.axhline(y=TRUE_PARAMS['scale'], color='b', linestyle='--', label='True scale')\n",
    "\n",
    "# Adding title and labels\n",
    "plt.title('Box and Whisker Plot for ATE, Const, and Scale')\n",
    "plt.ylabel('Values')\n",
    "plt.ylim([0.80, 1.20])\n",
    "plt.legend()"
   ]
  },
  {
   "cell_type": "markdown",
   "id": "9e92ce2d-e11d-4d53-96df-6481da5b2401",
   "metadata": {},
   "source": [
    "### Mixed Continuous and Discrete (Small)"
   ]
  },
  {
   "cell_type": "code",
   "execution_count": 23,
   "id": "29615df2-8aaa-441d-9e7e-1f2f0c5dacdf",
   "metadata": {},
   "outputs": [
    {
     "name": "stderr",
     "output_type": "stream",
     "text": [
      "R[write to console]: Inversion method selected: using pair-copula parameterization\n",
      "\n",
      "  1%|   | 123/10000 [01:28<1:57:46,  1.40it/s, train=1.1108608595524816, val=1.199563523245474 (Max patience reached)]\n",
      "R[write to console]: Inversion method selected: using pair-copula parameterization\n",
      "\n"
     ]
    },
    {
     "name": "stdout",
     "output_type": "stream",
     "text": [
      "[array([ 0.99150189, -0.00130817,  0.91416902])]\n"
     ]
    },
    {
     "name": "stderr",
     "output_type": "stream",
     "text": [
      "  1%|  | 123/10000 [01:25<1:54:10,  1.44it/s, train=1.1051327288012027, val=1.1661079168715398 (Max patience reached)]\n",
      "R[write to console]: Inversion method selected: using pair-copula parameterization\n",
      "\n"
     ]
    },
    {
     "name": "stdout",
     "output_type": "stream",
     "text": [
      "[array([ 0.99150189, -0.00130817,  0.91416902]), array([1.03035077, 0.01051955, 0.91830051])]\n"
     ]
    },
    {
     "name": "stderr",
     "output_type": "stream",
     "text": [
      "  1%|   | 121/10000 [01:23<1:53:59,  1.44it/s, train=1.1117056524146938, val=1.161898798169518 (Max patience reached)]\n",
      "R[write to console]: Inversion method selected: using pair-copula parameterization\n",
      "\n"
     ]
    },
    {
     "name": "stdout",
     "output_type": "stream",
     "text": [
      "[array([ 0.99150189, -0.00130817,  0.91416902]), array([1.03035077, 0.01051955, 0.91830051]), array([0.91928956, 0.07502334, 0.91689761])]\n"
     ]
    },
    {
     "name": "stderr",
     "output_type": "stream",
     "text": [
      "  1%|  | 122/10000 [01:24<1:54:20,  1.44it/s, train=1.0939564643462885, val=1.1804893739218794 (Max patience reached)]\n",
      "R[write to console]: Inversion method selected: using pair-copula parameterization\n",
      "\n"
     ]
    },
    {
     "name": "stdout",
     "output_type": "stream",
     "text": [
      "[array([ 0.99150189, -0.00130817,  0.91416902]), array([1.03035077, 0.01051955, 0.91830051]), array([0.91928956, 0.07502334, 0.91689761]), array([0.96995478, 0.03267687, 0.89784913])]\n"
     ]
    },
    {
     "name": "stderr",
     "output_type": "stream",
     "text": [
      "  1%|  | 144/10000 [01:42<1:57:20,  1.40it/s, train=1.1084722362793102, val=1.1482258228164595 (Max patience reached)]\n",
      "R[write to console]: Inversion method selected: using pair-copula parameterization\n",
      "\n"
     ]
    },
    {
     "name": "stdout",
     "output_type": "stream",
     "text": [
      "[array([ 0.99150189, -0.00130817,  0.91416902]), array([1.03035077, 0.01051955, 0.91830051]), array([0.91928956, 0.07502334, 0.91689761]), array([0.96995478, 0.03267687, 0.89784913]), array([ 1.05267465, -0.0747521 ,  0.90143266])]\n"
     ]
    },
    {
     "name": "stderr",
     "output_type": "stream",
     "text": [
      "  1%|   | 130/10000 [01:30<1:54:33,  1.44it/s, train=1.088983754553423, val=1.1835039225020885 (Max patience reached)]\n",
      "R[write to console]: Inversion method selected: using pair-copula parameterization\n",
      "\n"
     ]
    },
    {
     "name": "stdout",
     "output_type": "stream",
     "text": [
      "[array([ 0.99150189, -0.00130817,  0.91416902]), array([1.03035077, 0.01051955, 0.91830051]), array([0.91928956, 0.07502334, 0.91689761]), array([0.96995478, 0.03267687, 0.89784913]), array([ 1.05267465, -0.0747521 ,  0.90143266]), array([ 1.06815525, -0.06452036,  0.90692732])]\n"
     ]
    },
    {
     "name": "stderr",
     "output_type": "stream",
     "text": [
      "  1%|  | 132/10000 [01:30<1:52:14,  1.47it/s, train=1.0839875352039652, val=1.1961805989822374 (Max patience reached)]\n",
      "R[write to console]: Inversion method selected: using pair-copula parameterization\n",
      "\n"
     ]
    },
    {
     "name": "stdout",
     "output_type": "stream",
     "text": [
      "[array([ 0.99150189, -0.00130817,  0.91416902]), array([1.03035077, 0.01051955, 0.91830051]), array([0.91928956, 0.07502334, 0.91689761]), array([0.96995478, 0.03267687, 0.89784913]), array([ 1.05267465, -0.0747521 ,  0.90143266]), array([ 1.06815525, -0.06452036,  0.90692732]), array([ 1.04525459, -0.05310587,  0.89111338])]\n"
     ]
    },
    {
     "name": "stderr",
     "output_type": "stream",
     "text": [
      "  1%|   | 122/10000 [01:22<1:51:34,  1.48it/s, train=1.096253321898327, val=1.1457089836767835 (Max patience reached)]\n",
      "R[write to console]: Inversion method selected: using pair-copula parameterization\n",
      "\n"
     ]
    },
    {
     "name": "stdout",
     "output_type": "stream",
     "text": [
      "[array([ 0.99150189, -0.00130817,  0.91416902]), array([1.03035077, 0.01051955, 0.91830051]), array([0.91928956, 0.07502334, 0.91689761]), array([0.96995478, 0.03267687, 0.89784913]), array([ 1.05267465, -0.0747521 ,  0.90143266]), array([ 1.06815525, -0.06452036,  0.90692732]), array([ 1.04525459, -0.05310587,  0.89111338]), array([0.98089216, 0.02065   , 0.90467811])]\n"
     ]
    },
    {
     "name": "stderr",
     "output_type": "stream",
     "text": [
      "  1%|   | 127/10000 [01:27<1:52:43,  1.46it/s, train=1.075432760014109, val=1.1555355905349254 (Max patience reached)]\n",
      "R[write to console]: Inversion method selected: using pair-copula parameterization\n",
      "\n"
     ]
    },
    {
     "name": "stdout",
     "output_type": "stream",
     "text": [
      "[array([ 0.99150189, -0.00130817,  0.91416902]), array([1.03035077, 0.01051955, 0.91830051]), array([0.91928956, 0.07502334, 0.91689761]), array([0.96995478, 0.03267687, 0.89784913]), array([ 1.05267465, -0.0747521 ,  0.90143266]), array([ 1.06815525, -0.06452036,  0.90692732]), array([ 1.04525459, -0.05310587,  0.89111338]), array([0.98089216, 0.02065   , 0.90467811]), array([0.93966981, 0.04644459, 0.89137673])]\n"
     ]
    },
    {
     "name": "stderr",
     "output_type": "stream",
     "text": [
      "  1%|  | 146/10000 [01:38<1:51:10,  1.48it/s, train=1.0924574329170045, val=1.1847173311442323 (Max patience reached)]\n",
      "R[write to console]: Inversion method selected: using pair-copula parameterization\n",
      "\n"
     ]
    },
    {
     "name": "stdout",
     "output_type": "stream",
     "text": [
      "[array([ 0.99150189, -0.00130817,  0.91416902]), array([1.03035077, 0.01051955, 0.91830051]), array([0.91928956, 0.07502334, 0.91689761]), array([0.96995478, 0.03267687, 0.89784913]), array([ 1.05267465, -0.0747521 ,  0.90143266]), array([ 1.06815525, -0.06452036,  0.90692732]), array([ 1.04525459, -0.05310587,  0.89111338]), array([0.98089216, 0.02065   , 0.90467811]), array([0.93966981, 0.04644459, 0.89137673]), array([ 1.06916169, -0.08586035,  0.90458019])]\n"
     ]
    },
    {
     "name": "stderr",
     "output_type": "stream",
     "text": [
      "  1%|  | 132/10000 [01:29<1:52:00,  1.47it/s, train=1.0876769808667104, val=1.2024425125786289 (Max patience reached)]\n",
      "R[write to console]: Inversion method selected: using pair-copula parameterization\n",
      "\n"
     ]
    },
    {
     "name": "stdout",
     "output_type": "stream",
     "text": [
      "[array([ 0.99150189, -0.00130817,  0.91416902]), array([1.03035077, 0.01051955, 0.91830051]), array([0.91928956, 0.07502334, 0.91689761]), array([0.96995478, 0.03267687, 0.89784913]), array([ 1.05267465, -0.0747521 ,  0.90143266]), array([ 1.06815525, -0.06452036,  0.90692732]), array([ 1.04525459, -0.05310587,  0.89111338]), array([0.98089216, 0.02065   , 0.90467811]), array([0.93966981, 0.04644459, 0.89137673]), array([ 1.06916169, -0.08586035,  0.90458019]), array([0.99649017, 0.00247811, 0.89804171])]\n"
     ]
    },
    {
     "name": "stderr",
     "output_type": "stream",
     "text": [
      "  1%|  | 133/10000 [01:31<1:53:40,  1.45it/s, train=1.0833117834252906, val=1.1666473534641202 (Max patience reached)]\n",
      "R[write to console]: Inversion method selected: using pair-copula parameterization\n",
      "\n"
     ]
    },
    {
     "name": "stdout",
     "output_type": "stream",
     "text": [
      "[array([ 0.99150189, -0.00130817,  0.91416902]), array([1.03035077, 0.01051955, 0.91830051]), array([0.91928956, 0.07502334, 0.91689761]), array([0.96995478, 0.03267687, 0.89784913]), array([ 1.05267465, -0.0747521 ,  0.90143266]), array([ 1.06815525, -0.06452036,  0.90692732]), array([ 1.04525459, -0.05310587,  0.89111338]), array([0.98089216, 0.02065   , 0.90467811]), array([0.93966981, 0.04644459, 0.89137673]), array([ 1.06916169, -0.08586035,  0.90458019]), array([0.99649017, 0.00247811, 0.89804171]), array([0.9626707 , 0.01499267, 0.90267997])]\n"
     ]
    },
    {
     "name": "stderr",
     "output_type": "stream",
     "text": [
      "  1%|   | 139/10000 [01:34<1:51:41,  1.47it/s, train=1.084502384764972, val=1.1763786974026267 (Max patience reached)]\n",
      "R[write to console]: Inversion method selected: using pair-copula parameterization\n",
      "\n"
     ]
    },
    {
     "name": "stdout",
     "output_type": "stream",
     "text": [
      "[array([ 0.99150189, -0.00130817,  0.91416902]), array([1.03035077, 0.01051955, 0.91830051]), array([0.91928956, 0.07502334, 0.91689761]), array([0.96995478, 0.03267687, 0.89784913]), array([ 1.05267465, -0.0747521 ,  0.90143266]), array([ 1.06815525, -0.06452036,  0.90692732]), array([ 1.04525459, -0.05310587,  0.89111338]), array([0.98089216, 0.02065   , 0.90467811]), array([0.93966981, 0.04644459, 0.89137673]), array([ 1.06916169, -0.08586035,  0.90458019]), array([0.99649017, 0.00247811, 0.89804171]), array([0.9626707 , 0.01499267, 0.90267997]), array([ 1.03585387, -0.02496278,  0.90993638])]\n"
     ]
    },
    {
     "name": "stderr",
     "output_type": "stream",
     "text": [
      "  1%|  | 145/10000 [01:38<1:51:11,  1.48it/s, train=1.0934716192678025, val=1.1974835959390675 (Max patience reached)]\n",
      "R[write to console]: Inversion method selected: using pair-copula parameterization\n",
      "\n"
     ]
    },
    {
     "name": "stdout",
     "output_type": "stream",
     "text": [
      "[array([ 0.99150189, -0.00130817,  0.91416902]), array([1.03035077, 0.01051955, 0.91830051]), array([0.91928956, 0.07502334, 0.91689761]), array([0.96995478, 0.03267687, 0.89784913]), array([ 1.05267465, -0.0747521 ,  0.90143266]), array([ 1.06815525, -0.06452036,  0.90692732]), array([ 1.04525459, -0.05310587,  0.89111338]), array([0.98089216, 0.02065   , 0.90467811]), array([0.93966981, 0.04644459, 0.89137673]), array([ 1.06916169, -0.08586035,  0.90458019]), array([0.99649017, 0.00247811, 0.89804171]), array([0.9626707 , 0.01499267, 0.90267997]), array([ 1.03585387, -0.02496278,  0.90993638]), array([ 1.05277542, -0.04959287,  0.89173787])]\n"
     ]
    },
    {
     "name": "stderr",
     "output_type": "stream",
     "text": [
      "  1%|   | 131/10000 [01:28<1:51:36,  1.47it/s, train=1.096388705349433, val=1.1958700231034984 (Max patience reached)]\n",
      "R[write to console]: Inversion method selected: using pair-copula parameterization\n",
      "\n"
     ]
    },
    {
     "name": "stdout",
     "output_type": "stream",
     "text": [
      "[array([ 0.99150189, -0.00130817,  0.91416902]), array([1.03035077, 0.01051955, 0.91830051]), array([0.91928956, 0.07502334, 0.91689761]), array([0.96995478, 0.03267687, 0.89784913]), array([ 1.05267465, -0.0747521 ,  0.90143266]), array([ 1.06815525, -0.06452036,  0.90692732]), array([ 1.04525459, -0.05310587,  0.89111338]), array([0.98089216, 0.02065   , 0.90467811]), array([0.93966981, 0.04644459, 0.89137673]), array([ 1.06916169, -0.08586035,  0.90458019]), array([0.99649017, 0.00247811, 0.89804171]), array([0.9626707 , 0.01499267, 0.90267997]), array([ 1.03585387, -0.02496278,  0.90993638]), array([ 1.05277542, -0.04959287,  0.89173787]), array([ 1.03029781, -0.04508966,  0.90106907])]\n"
     ]
    },
    {
     "name": "stderr",
     "output_type": "stream",
     "text": [
      "  1%|  | 127/10000 [01:26<1:51:34,  1.47it/s, train=1.0980959779867947, val=1.1646759137749556 (Max patience reached)]\n",
      "R[write to console]: Inversion method selected: using pair-copula parameterization\n",
      "\n"
     ]
    },
    {
     "name": "stdout",
     "output_type": "stream",
     "text": [
      "[array([ 0.99150189, -0.00130817,  0.91416902]), array([1.03035077, 0.01051955, 0.91830051]), array([0.91928956, 0.07502334, 0.91689761]), array([0.96995478, 0.03267687, 0.89784913]), array([ 1.05267465, -0.0747521 ,  0.90143266]), array([ 1.06815525, -0.06452036,  0.90692732]), array([ 1.04525459, -0.05310587,  0.89111338]), array([0.98089216, 0.02065   , 0.90467811]), array([0.93966981, 0.04644459, 0.89137673]), array([ 1.06916169, -0.08586035,  0.90458019]), array([0.99649017, 0.00247811, 0.89804171]), array([0.9626707 , 0.01499267, 0.90267997]), array([ 1.03585387, -0.02496278,  0.90993638]), array([ 1.05277542, -0.04959287,  0.89173787]), array([ 1.03029781, -0.04508966,  0.90106907]), array([0.96669985, 0.03876991, 0.8985196 ])]\n"
     ]
    },
    {
     "name": "stderr",
     "output_type": "stream",
     "text": [
      "  1%|  | 124/10000 [01:23<1:51:16,  1.48it/s, train=1.0883701064696694, val=1.1666675775633697 (Max patience reached)]\n",
      "R[write to console]: Inversion method selected: using pair-copula parameterization\n",
      "\n"
     ]
    },
    {
     "name": "stdout",
     "output_type": "stream",
     "text": [
      "[array([ 0.99150189, -0.00130817,  0.91416902]), array([1.03035077, 0.01051955, 0.91830051]), array([0.91928956, 0.07502334, 0.91689761]), array([0.96995478, 0.03267687, 0.89784913]), array([ 1.05267465, -0.0747521 ,  0.90143266]), array([ 1.06815525, -0.06452036,  0.90692732]), array([ 1.04525459, -0.05310587,  0.89111338]), array([0.98089216, 0.02065   , 0.90467811]), array([0.93966981, 0.04644459, 0.89137673]), array([ 1.06916169, -0.08586035,  0.90458019]), array([0.99649017, 0.00247811, 0.89804171]), array([0.9626707 , 0.01499267, 0.90267997]), array([ 1.03585387, -0.02496278,  0.90993638]), array([ 1.05277542, -0.04959287,  0.89173787]), array([ 1.03029781, -0.04508966,  0.90106907]), array([0.96669985, 0.03876991, 0.8985196 ]), array([ 1.0387527 , -0.05937152,  0.89170297])]\n"
     ]
    },
    {
     "name": "stderr",
     "output_type": "stream",
     "text": [
      "  1%|  | 120/10000 [01:23<1:54:26,  1.44it/s, train=1.0879136511270895, val=1.1878541732631855 (Max patience reached)]\n",
      "R[write to console]: Inversion method selected: using pair-copula parameterization\n",
      "\n"
     ]
    },
    {
     "name": "stdout",
     "output_type": "stream",
     "text": [
      "[array([ 0.99150189, -0.00130817,  0.91416902]), array([1.03035077, 0.01051955, 0.91830051]), array([0.91928956, 0.07502334, 0.91689761]), array([0.96995478, 0.03267687, 0.89784913]), array([ 1.05267465, -0.0747521 ,  0.90143266]), array([ 1.06815525, -0.06452036,  0.90692732]), array([ 1.04525459, -0.05310587,  0.89111338]), array([0.98089216, 0.02065   , 0.90467811]), array([0.93966981, 0.04644459, 0.89137673]), array([ 1.06916169, -0.08586035,  0.90458019]), array([0.99649017, 0.00247811, 0.89804171]), array([0.9626707 , 0.01499267, 0.90267997]), array([ 1.03585387, -0.02496278,  0.90993638]), array([ 1.05277542, -0.04959287,  0.89173787]), array([ 1.03029781, -0.04508966,  0.90106907]), array([0.96669985, 0.03876991, 0.8985196 ]), array([ 1.0387527 , -0.05937152,  0.89170297]), array([0.97096014, 0.04774473, 0.90308587])]\n"
     ]
    },
    {
     "name": "stderr",
     "output_type": "stream",
     "text": [
      "  1%|  | 141/10000 [01:37<1:53:11,  1.45it/s, train=1.0928261734730533, val=1.1870801495036594 (Max patience reached)]\n",
      "R[write to console]: Inversion method selected: using pair-copula parameterization\n",
      "\n"
     ]
    },
    {
     "name": "stdout",
     "output_type": "stream",
     "text": [
      "[array([ 0.99150189, -0.00130817,  0.91416902]), array([1.03035077, 0.01051955, 0.91830051]), array([0.91928956, 0.07502334, 0.91689761]), array([0.96995478, 0.03267687, 0.89784913]), array([ 1.05267465, -0.0747521 ,  0.90143266]), array([ 1.06815525, -0.06452036,  0.90692732]), array([ 1.04525459, -0.05310587,  0.89111338]), array([0.98089216, 0.02065   , 0.90467811]), array([0.93966981, 0.04644459, 0.89137673]), array([ 1.06916169, -0.08586035,  0.90458019]), array([0.99649017, 0.00247811, 0.89804171]), array([0.9626707 , 0.01499267, 0.90267997]), array([ 1.03585387, -0.02496278,  0.90993638]), array([ 1.05277542, -0.04959287,  0.89173787]), array([ 1.03029781, -0.04508966,  0.90106907]), array([0.96669985, 0.03876991, 0.8985196 ]), array([ 1.0387527 , -0.05937152,  0.89170297]), array([0.97096014, 0.04774473, 0.90308587]), array([1.00796413, 0.00326892, 0.89731757])]\n"
     ]
    },
    {
     "name": "stderr",
     "output_type": "stream",
     "text": [
      "  1%|   | 117/10000 [01:19<1:52:18,  1.47it/s, train=1.094290469764997, val=1.1934106477203434 (Max patience reached)]\n",
      "R[write to console]: Inversion method selected: using pair-copula parameterization\n",
      "\n"
     ]
    },
    {
     "name": "stdout",
     "output_type": "stream",
     "text": [
      "[array([ 0.99150189, -0.00130817,  0.91416902]), array([1.03035077, 0.01051955, 0.91830051]), array([0.91928956, 0.07502334, 0.91689761]), array([0.96995478, 0.03267687, 0.89784913]), array([ 1.05267465, -0.0747521 ,  0.90143266]), array([ 1.06815525, -0.06452036,  0.90692732]), array([ 1.04525459, -0.05310587,  0.89111338]), array([0.98089216, 0.02065   , 0.90467811]), array([0.93966981, 0.04644459, 0.89137673]), array([ 1.06916169, -0.08586035,  0.90458019]), array([0.99649017, 0.00247811, 0.89804171]), array([0.9626707 , 0.01499267, 0.90267997]), array([ 1.03585387, -0.02496278,  0.90993638]), array([ 1.05277542, -0.04959287,  0.89173787]), array([ 1.03029781, -0.04508966,  0.90106907]), array([0.96669985, 0.03876991, 0.8985196 ]), array([ 1.0387527 , -0.05937152,  0.89170297]), array([0.97096014, 0.04774473, 0.90308587]), array([1.00796413, 0.00326892, 0.89731757]), array([0.96659379, 0.02912987, 0.89367731])]\n"
     ]
    },
    {
     "name": "stderr",
     "output_type": "stream",
     "text": [
      "  1%|  | 131/10000 [01:30<1:53:33,  1.45it/s, train=1.0958463228965125, val=1.2017902784974277 (Max patience reached)]\n",
      "R[write to console]: Inversion method selected: using pair-copula parameterization\n",
      "\n"
     ]
    },
    {
     "name": "stdout",
     "output_type": "stream",
     "text": [
      "[array([ 0.99150189, -0.00130817,  0.91416902]), array([1.03035077, 0.01051955, 0.91830051]), array([0.91928956, 0.07502334, 0.91689761]), array([0.96995478, 0.03267687, 0.89784913]), array([ 1.05267465, -0.0747521 ,  0.90143266]), array([ 1.06815525, -0.06452036,  0.90692732]), array([ 1.04525459, -0.05310587,  0.89111338]), array([0.98089216, 0.02065   , 0.90467811]), array([0.93966981, 0.04644459, 0.89137673]), array([ 1.06916169, -0.08586035,  0.90458019]), array([0.99649017, 0.00247811, 0.89804171]), array([0.9626707 , 0.01499267, 0.90267997]), array([ 1.03585387, -0.02496278,  0.90993638]), array([ 1.05277542, -0.04959287,  0.89173787]), array([ 1.03029781, -0.04508966,  0.90106907]), array([0.96669985, 0.03876991, 0.8985196 ]), array([ 1.0387527 , -0.05937152,  0.89170297]), array([0.97096014, 0.04774473, 0.90308587]), array([1.00796413, 0.00326892, 0.89731757]), array([0.96659379, 0.02912987, 0.89367731]), array([ 1.01071935, -0.02142328,  0.89856789])]\n"
     ]
    },
    {
     "name": "stderr",
     "output_type": "stream",
     "text": [
      "  1%|  | 139/10000 [01:37<1:55:34,  1.42it/s, train=1.0964721587877047, val=1.1425854537185987 (Max patience reached)]\n",
      "R[write to console]: Inversion method selected: using pair-copula parameterization\n",
      "\n"
     ]
    },
    {
     "name": "stdout",
     "output_type": "stream",
     "text": [
      "[array([ 0.99150189, -0.00130817,  0.91416902]), array([1.03035077, 0.01051955, 0.91830051]), array([0.91928956, 0.07502334, 0.91689761]), array([0.96995478, 0.03267687, 0.89784913]), array([ 1.05267465, -0.0747521 ,  0.90143266]), array([ 1.06815525, -0.06452036,  0.90692732]), array([ 1.04525459, -0.05310587,  0.89111338]), array([0.98089216, 0.02065   , 0.90467811]), array([0.93966981, 0.04644459, 0.89137673]), array([ 1.06916169, -0.08586035,  0.90458019]), array([0.99649017, 0.00247811, 0.89804171]), array([0.9626707 , 0.01499267, 0.90267997]), array([ 1.03585387, -0.02496278,  0.90993638]), array([ 1.05277542, -0.04959287,  0.89173787]), array([ 1.03029781, -0.04508966,  0.90106907]), array([0.96669985, 0.03876991, 0.8985196 ]), array([ 1.0387527 , -0.05937152,  0.89170297]), array([0.97096014, 0.04774473, 0.90308587]), array([1.00796413, 0.00326892, 0.89731757]), array([0.96659379, 0.02912987, 0.89367731]), array([ 1.01071935, -0.02142328,  0.89856789]), array([0.96289954, 0.04089155, 0.88745833])]\n"
     ]
    },
    {
     "name": "stderr",
     "output_type": "stream",
     "text": [
      "  1%|   | 131/10000 [01:31<1:54:44,  1.43it/s, train=1.096107995782293, val=1.1882052009999433 (Max patience reached)]\n",
      "R[write to console]: Inversion method selected: using pair-copula parameterization\n",
      "\n"
     ]
    },
    {
     "name": "stdout",
     "output_type": "stream",
     "text": [
      "[array([ 0.99150189, -0.00130817,  0.91416902]), array([1.03035077, 0.01051955, 0.91830051]), array([0.91928956, 0.07502334, 0.91689761]), array([0.96995478, 0.03267687, 0.89784913]), array([ 1.05267465, -0.0747521 ,  0.90143266]), array([ 1.06815525, -0.06452036,  0.90692732]), array([ 1.04525459, -0.05310587,  0.89111338]), array([0.98089216, 0.02065   , 0.90467811]), array([0.93966981, 0.04644459, 0.89137673]), array([ 1.06916169, -0.08586035,  0.90458019]), array([0.99649017, 0.00247811, 0.89804171]), array([0.9626707 , 0.01499267, 0.90267997]), array([ 1.03585387, -0.02496278,  0.90993638]), array([ 1.05277542, -0.04959287,  0.89173787]), array([ 1.03029781, -0.04508966,  0.90106907]), array([0.96669985, 0.03876991, 0.8985196 ]), array([ 1.0387527 , -0.05937152,  0.89170297]), array([0.97096014, 0.04774473, 0.90308587]), array([1.00796413, 0.00326892, 0.89731757]), array([0.96659379, 0.02912987, 0.89367731]), array([ 1.01071935, -0.02142328,  0.89856789]), array([0.96289954, 0.04089155, 0.88745833]), array([0.97885511, 0.02864731, 0.91029352])]\n"
     ]
    },
    {
     "name": "stderr",
     "output_type": "stream",
     "text": [
      "  1%|   | 120/10000 [01:24<1:55:51,  1.42it/s, train=1.1022655826906802, val=1.164673619946647 (Max patience reached)]\n",
      "R[write to console]: Inversion method selected: using pair-copula parameterization\n",
      "\n"
     ]
    },
    {
     "name": "stdout",
     "output_type": "stream",
     "text": [
      "[array([ 0.99150189, -0.00130817,  0.91416902]), array([1.03035077, 0.01051955, 0.91830051]), array([0.91928956, 0.07502334, 0.91689761]), array([0.96995478, 0.03267687, 0.89784913]), array([ 1.05267465, -0.0747521 ,  0.90143266]), array([ 1.06815525, -0.06452036,  0.90692732]), array([ 1.04525459, -0.05310587,  0.89111338]), array([0.98089216, 0.02065   , 0.90467811]), array([0.93966981, 0.04644459, 0.89137673]), array([ 1.06916169, -0.08586035,  0.90458019]), array([0.99649017, 0.00247811, 0.89804171]), array([0.9626707 , 0.01499267, 0.90267997]), array([ 1.03585387, -0.02496278,  0.90993638]), array([ 1.05277542, -0.04959287,  0.89173787]), array([ 1.03029781, -0.04508966,  0.90106907]), array([0.96669985, 0.03876991, 0.8985196 ]), array([ 1.0387527 , -0.05937152,  0.89170297]), array([0.97096014, 0.04774473, 0.90308587]), array([1.00796413, 0.00326892, 0.89731757]), array([0.96659379, 0.02912987, 0.89367731]), array([ 1.01071935, -0.02142328,  0.89856789]), array([0.96289954, 0.04089155, 0.88745833]), array([0.97885511, 0.02864731, 0.91029352]), array([0.98074248, 0.01101752, 0.90318202])]\n"
     ]
    },
    {
     "name": "stderr",
     "output_type": "stream",
     "text": [
      "  1%|   | 114/10000 [01:20<1:56:31,  1.41it/s, train=1.111622085817792, val=1.1912461081892105 (Max patience reached)]"
     ]
    },
    {
     "name": "stdout",
     "output_type": "stream",
     "text": [
      "[array([ 0.99150189, -0.00130817,  0.91416902]), array([1.03035077, 0.01051955, 0.91830051]), array([0.91928956, 0.07502334, 0.91689761]), array([0.96995478, 0.03267687, 0.89784913]), array([ 1.05267465, -0.0747521 ,  0.90143266]), array([ 1.06815525, -0.06452036,  0.90692732]), array([ 1.04525459, -0.05310587,  0.89111338]), array([0.98089216, 0.02065   , 0.90467811]), array([0.93966981, 0.04644459, 0.89137673]), array([ 1.06916169, -0.08586035,  0.90458019]), array([0.99649017, 0.00247811, 0.89804171]), array([0.9626707 , 0.01499267, 0.90267997]), array([ 1.03585387, -0.02496278,  0.90993638]), array([ 1.05277542, -0.04959287,  0.89173787]), array([ 1.03029781, -0.04508966,  0.90106907]), array([0.96669985, 0.03876991, 0.8985196 ]), array([ 1.0387527 , -0.05937152,  0.89170297]), array([0.97096014, 0.04774473, 0.90308587]), array([1.00796413, 0.00326892, 0.89731757]), array([0.96659379, 0.02912987, 0.89367731]), array([ 1.01071935, -0.02142328,  0.89856789]), array([0.96289954, 0.04089155, 0.88745833]), array([0.97885511, 0.02864731, 0.91029352]), array([0.98074248, 0.01101752, 0.90318202]), array([0.90367562, 0.10560112, 0.92382413])]\n"
     ]
    },
    {
     "name": "stderr",
     "output_type": "stream",
     "text": [
      "\n"
     ]
    }
   ],
   "source": [
    "discrete_small_covariates_results = causl_py.run_simulations(\n",
    "    causl_py.generate_discrete_samples, \n",
    "    seed=SEED, \n",
    "    num_samples=NUM_SAMPLES, \n",
    "    num_iter=NUM_ITER, \n",
    "    causal_params=CAUSAL_PARAMS,\n",
    "    hyperparams_dict=hyperparams_dict,\n",
    "    causal_model_args={'ate': 0., 'const': 0., 'scale': 1}\n",
    ")"
   ]
  },
  {
   "cell_type": "code",
   "execution_count": 24,
   "id": "ba2d08c5-9ebd-40ec-844a-219c5eb5a079",
   "metadata": {},
   "outputs": [
    {
     "data": {
      "text/html": [
       "<div>\n",
       "<style scoped>\n",
       "    .dataframe tbody tr th:only-of-type {\n",
       "        vertical-align: middle;\n",
       "    }\n",
       "\n",
       "    .dataframe tbody tr th {\n",
       "        vertical-align: top;\n",
       "    }\n",
       "\n",
       "    .dataframe thead th {\n",
       "        text-align: right;\n",
       "    }\n",
       "</style>\n",
       "<table border=\"1\" class=\"dataframe\">\n",
       "  <thead>\n",
       "    <tr style=\"text-align: right;\">\n",
       "      <th></th>\n",
       "      <th>ate</th>\n",
       "      <th>const</th>\n",
       "      <th>scale</th>\n",
       "    </tr>\n",
       "  </thead>\n",
       "  <tbody>\n",
       "    <tr>\n",
       "      <th>0</th>\n",
       "      <td>0.991502</td>\n",
       "      <td>-0.001308</td>\n",
       "      <td>0.914169</td>\n",
       "    </tr>\n",
       "    <tr>\n",
       "      <th>1</th>\n",
       "      <td>1.030351</td>\n",
       "      <td>0.010520</td>\n",
       "      <td>0.918301</td>\n",
       "    </tr>\n",
       "    <tr>\n",
       "      <th>2</th>\n",
       "      <td>0.919290</td>\n",
       "      <td>0.075023</td>\n",
       "      <td>0.916898</td>\n",
       "    </tr>\n",
       "    <tr>\n",
       "      <th>3</th>\n",
       "      <td>0.969955</td>\n",
       "      <td>0.032677</td>\n",
       "      <td>0.897849</td>\n",
       "    </tr>\n",
       "    <tr>\n",
       "      <th>4</th>\n",
       "      <td>1.052675</td>\n",
       "      <td>-0.074752</td>\n",
       "      <td>0.901433</td>\n",
       "    </tr>\n",
       "    <tr>\n",
       "      <th>5</th>\n",
       "      <td>1.068155</td>\n",
       "      <td>-0.064520</td>\n",
       "      <td>0.906927</td>\n",
       "    </tr>\n",
       "    <tr>\n",
       "      <th>6</th>\n",
       "      <td>1.045255</td>\n",
       "      <td>-0.053106</td>\n",
       "      <td>0.891113</td>\n",
       "    </tr>\n",
       "    <tr>\n",
       "      <th>7</th>\n",
       "      <td>0.980892</td>\n",
       "      <td>0.020650</td>\n",
       "      <td>0.904678</td>\n",
       "    </tr>\n",
       "    <tr>\n",
       "      <th>8</th>\n",
       "      <td>0.939670</td>\n",
       "      <td>0.046445</td>\n",
       "      <td>0.891377</td>\n",
       "    </tr>\n",
       "    <tr>\n",
       "      <th>9</th>\n",
       "      <td>1.069162</td>\n",
       "      <td>-0.085860</td>\n",
       "      <td>0.904580</td>\n",
       "    </tr>\n",
       "    <tr>\n",
       "      <th>10</th>\n",
       "      <td>0.996490</td>\n",
       "      <td>0.002478</td>\n",
       "      <td>0.898042</td>\n",
       "    </tr>\n",
       "    <tr>\n",
       "      <th>11</th>\n",
       "      <td>0.962671</td>\n",
       "      <td>0.014993</td>\n",
       "      <td>0.902680</td>\n",
       "    </tr>\n",
       "    <tr>\n",
       "      <th>12</th>\n",
       "      <td>1.035854</td>\n",
       "      <td>-0.024963</td>\n",
       "      <td>0.909936</td>\n",
       "    </tr>\n",
       "    <tr>\n",
       "      <th>13</th>\n",
       "      <td>1.052775</td>\n",
       "      <td>-0.049593</td>\n",
       "      <td>0.891738</td>\n",
       "    </tr>\n",
       "    <tr>\n",
       "      <th>14</th>\n",
       "      <td>1.030298</td>\n",
       "      <td>-0.045090</td>\n",
       "      <td>0.901069</td>\n",
       "    </tr>\n",
       "    <tr>\n",
       "      <th>15</th>\n",
       "      <td>0.966700</td>\n",
       "      <td>0.038770</td>\n",
       "      <td>0.898520</td>\n",
       "    </tr>\n",
       "    <tr>\n",
       "      <th>16</th>\n",
       "      <td>1.038753</td>\n",
       "      <td>-0.059372</td>\n",
       "      <td>0.891703</td>\n",
       "    </tr>\n",
       "    <tr>\n",
       "      <th>17</th>\n",
       "      <td>0.970960</td>\n",
       "      <td>0.047745</td>\n",
       "      <td>0.903086</td>\n",
       "    </tr>\n",
       "    <tr>\n",
       "      <th>18</th>\n",
       "      <td>1.007964</td>\n",
       "      <td>0.003269</td>\n",
       "      <td>0.897318</td>\n",
       "    </tr>\n",
       "    <tr>\n",
       "      <th>19</th>\n",
       "      <td>0.966594</td>\n",
       "      <td>0.029130</td>\n",
       "      <td>0.893677</td>\n",
       "    </tr>\n",
       "    <tr>\n",
       "      <th>20</th>\n",
       "      <td>1.010719</td>\n",
       "      <td>-0.021423</td>\n",
       "      <td>0.898568</td>\n",
       "    </tr>\n",
       "    <tr>\n",
       "      <th>21</th>\n",
       "      <td>0.962900</td>\n",
       "      <td>0.040892</td>\n",
       "      <td>0.887458</td>\n",
       "    </tr>\n",
       "    <tr>\n",
       "      <th>22</th>\n",
       "      <td>0.978855</td>\n",
       "      <td>0.028647</td>\n",
       "      <td>0.910294</td>\n",
       "    </tr>\n",
       "    <tr>\n",
       "      <th>23</th>\n",
       "      <td>0.980742</td>\n",
       "      <td>0.011018</td>\n",
       "      <td>0.903182</td>\n",
       "    </tr>\n",
       "    <tr>\n",
       "      <th>24</th>\n",
       "      <td>0.903676</td>\n",
       "      <td>0.105601</td>\n",
       "      <td>0.923824</td>\n",
       "    </tr>\n",
       "  </tbody>\n",
       "</table>\n",
       "</div>"
      ],
      "text/plain": [
       "         ate     const     scale\n",
       "0   0.991502 -0.001308  0.914169\n",
       "1   1.030351  0.010520  0.918301\n",
       "2   0.919290  0.075023  0.916898\n",
       "3   0.969955  0.032677  0.897849\n",
       "4   1.052675 -0.074752  0.901433\n",
       "5   1.068155 -0.064520  0.906927\n",
       "6   1.045255 -0.053106  0.891113\n",
       "7   0.980892  0.020650  0.904678\n",
       "8   0.939670  0.046445  0.891377\n",
       "9   1.069162 -0.085860  0.904580\n",
       "10  0.996490  0.002478  0.898042\n",
       "11  0.962671  0.014993  0.902680\n",
       "12  1.035854 -0.024963  0.909936\n",
       "13  1.052775 -0.049593  0.891738\n",
       "14  1.030298 -0.045090  0.901069\n",
       "15  0.966700  0.038770  0.898520\n",
       "16  1.038753 -0.059372  0.891703\n",
       "17  0.970960  0.047745  0.903086\n",
       "18  1.007964  0.003269  0.897318\n",
       "19  0.966594  0.029130  0.893677\n",
       "20  1.010719 -0.021423  0.898568\n",
       "21  0.962900  0.040892  0.887458\n",
       "22  0.978855  0.028647  0.910294\n",
       "23  0.980742  0.011018  0.903182\n",
       "24  0.903676  0.105601  0.923824"
      ]
     },
     "execution_count": 24,
     "metadata": {},
     "output_type": "execute_result"
    }
   ],
   "source": [
    "discrete_small_covariates_results"
   ]
  },
  {
   "cell_type": "code",
   "execution_count": 25,
   "id": "5e25a9b3-1a2e-4acf-af87-3757337a5877",
   "metadata": {},
   "outputs": [
    {
     "name": "stdout",
     "output_type": "stream",
     "text": [
      "ate      0.997314\n",
      "const    0.001115\n",
      "scale    0.902337\n",
      "dtype: float64\n",
      "ate      0.045232\n",
      "const    0.048752\n",
      "scale    0.009322\n",
      "dtype: float64\n"
     ]
    }
   ],
   "source": [
    "print(discrete_small_covariates_results.mean())\n",
    "print(discrete_small_covariates_results.std())"
   ]
  },
  {
   "cell_type": "markdown",
   "id": "e666a6e5-a855-487f-b55a-55610648f9ae",
   "metadata": {},
   "source": [
    "#### Outcome Regression"
   ]
  },
  {
   "cell_type": "code",
   "execution_count": 26,
   "id": "3f9a4475-43bf-4bf4-8dde-3e552eb16ca2",
   "metadata": {},
   "outputs": [
    {
     "name": "stderr",
     "output_type": "stream",
     "text": [
      "R[write to console]: Inversion method selected: using pair-copula parameterization\n",
      "\n",
      "R[write to console]: Inversion method selected: using pair-copula parameterization\n",
      "\n",
      "R[write to console]: Inversion method selected: using pair-copula parameterization\n",
      "\n",
      "R[write to console]: Inversion method selected: using pair-copula parameterization\n",
      "\n",
      "R[write to console]: Inversion method selected: using pair-copula parameterization\n",
      "\n",
      "R[write to console]: Inversion method selected: using pair-copula parameterization\n",
      "\n",
      "R[write to console]: Inversion method selected: using pair-copula parameterization\n",
      "\n",
      "R[write to console]: Inversion method selected: using pair-copula parameterization\n",
      "\n",
      "R[write to console]: Inversion method selected: using pair-copula parameterization\n",
      "\n",
      "R[write to console]: Inversion method selected: using pair-copula parameterization\n",
      "\n",
      "R[write to console]: Inversion method selected: using pair-copula parameterization\n",
      "\n",
      "R[write to console]: Inversion method selected: using pair-copula parameterization\n",
      "\n",
      "R[write to console]: Inversion method selected: using pair-copula parameterization\n",
      "\n",
      "R[write to console]: Inversion method selected: using pair-copula parameterization\n",
      "\n",
      "R[write to console]: Inversion method selected: using pair-copula parameterization\n",
      "\n",
      "R[write to console]: Inversion method selected: using pair-copula parameterization\n",
      "\n",
      "R[write to console]: Inversion method selected: using pair-copula parameterization\n",
      "\n",
      "R[write to console]: Inversion method selected: using pair-copula parameterization\n",
      "\n",
      "R[write to console]: Inversion method selected: using pair-copula parameterization\n",
      "\n",
      "R[write to console]: Inversion method selected: using pair-copula parameterization\n",
      "\n",
      "R[write to console]: Inversion method selected: using pair-copula parameterization\n",
      "\n",
      "R[write to console]: Inversion method selected: using pair-copula parameterization\n",
      "\n",
      "R[write to console]: Inversion method selected: using pair-copula parameterization\n",
      "\n",
      "R[write to console]: Inversion method selected: using pair-copula parameterization\n",
      "\n",
      "R[write to console]: Inversion method selected: using pair-copula parameterization\n",
      "\n"
     ]
    },
    {
     "data": {
      "text/html": [
       "<div>\n",
       "<style scoped>\n",
       "    .dataframe tbody tr th:only-of-type {\n",
       "        vertical-align: middle;\n",
       "    }\n",
       "\n",
       "    .dataframe tbody tr th {\n",
       "        vertical-align: top;\n",
       "    }\n",
       "\n",
       "    .dataframe thead th {\n",
       "        text-align: right;\n",
       "    }\n",
       "</style>\n",
       "<table border=\"1\" class=\"dataframe\">\n",
       "  <thead>\n",
       "    <tr style=\"text-align: right;\">\n",
       "      <th></th>\n",
       "      <th>ate</th>\n",
       "      <th>const</th>\n",
       "    </tr>\n",
       "  </thead>\n",
       "  <tbody>\n",
       "    <tr>\n",
       "      <th>0</th>\n",
       "      <td>1.458255</td>\n",
       "      <td>-1.086423</td>\n",
       "    </tr>\n",
       "    <tr>\n",
       "      <th>1</th>\n",
       "      <td>1.496358</td>\n",
       "      <td>-1.097978</td>\n",
       "    </tr>\n",
       "    <tr>\n",
       "      <th>2</th>\n",
       "      <td>1.390358</td>\n",
       "      <td>-1.026144</td>\n",
       "    </tr>\n",
       "    <tr>\n",
       "      <th>3</th>\n",
       "      <td>1.470412</td>\n",
       "      <td>-1.065346</td>\n",
       "    </tr>\n",
       "    <tr>\n",
       "      <th>4</th>\n",
       "      <td>1.416936</td>\n",
       "      <td>-1.055873</td>\n",
       "    </tr>\n",
       "    <tr>\n",
       "      <th>5</th>\n",
       "      <td>1.469982</td>\n",
       "      <td>-1.116923</td>\n",
       "    </tr>\n",
       "    <tr>\n",
       "      <th>6</th>\n",
       "      <td>1.500534</td>\n",
       "      <td>-1.106064</td>\n",
       "    </tr>\n",
       "    <tr>\n",
       "      <th>7</th>\n",
       "      <td>1.430015</td>\n",
       "      <td>-1.078606</td>\n",
       "    </tr>\n",
       "    <tr>\n",
       "      <th>8</th>\n",
       "      <td>1.446517</td>\n",
       "      <td>-1.066297</td>\n",
       "    </tr>\n",
       "    <tr>\n",
       "      <th>9</th>\n",
       "      <td>1.485022</td>\n",
       "      <td>-1.101762</td>\n",
       "    </tr>\n",
       "    <tr>\n",
       "      <th>10</th>\n",
       "      <td>1.422786</td>\n",
       "      <td>-1.064737</td>\n",
       "    </tr>\n",
       "    <tr>\n",
       "      <th>11</th>\n",
       "      <td>1.450340</td>\n",
       "      <td>-1.086223</td>\n",
       "    </tr>\n",
       "    <tr>\n",
       "      <th>12</th>\n",
       "      <td>1.432159</td>\n",
       "      <td>-1.074915</td>\n",
       "    </tr>\n",
       "    <tr>\n",
       "      <th>13</th>\n",
       "      <td>1.456210</td>\n",
       "      <td>-1.078333</td>\n",
       "    </tr>\n",
       "    <tr>\n",
       "      <th>14</th>\n",
       "      <td>1.439381</td>\n",
       "      <td>-1.065367</td>\n",
       "    </tr>\n",
       "    <tr>\n",
       "      <th>15</th>\n",
       "      <td>1.398778</td>\n",
       "      <td>-1.007219</td>\n",
       "    </tr>\n",
       "    <tr>\n",
       "      <th>16</th>\n",
       "      <td>1.448826</td>\n",
       "      <td>-1.073284</td>\n",
       "    </tr>\n",
       "    <tr>\n",
       "      <th>17</th>\n",
       "      <td>1.407961</td>\n",
       "      <td>-1.039364</td>\n",
       "    </tr>\n",
       "    <tr>\n",
       "      <th>18</th>\n",
       "      <td>1.436017</td>\n",
       "      <td>-1.065188</td>\n",
       "    </tr>\n",
       "    <tr>\n",
       "      <th>19</th>\n",
       "      <td>1.427707</td>\n",
       "      <td>-1.050176</td>\n",
       "    </tr>\n",
       "    <tr>\n",
       "      <th>20</th>\n",
       "      <td>1.423226</td>\n",
       "      <td>-1.058194</td>\n",
       "    </tr>\n",
       "    <tr>\n",
       "      <th>21</th>\n",
       "      <td>1.375209</td>\n",
       "      <td>-0.991287</td>\n",
       "    </tr>\n",
       "    <tr>\n",
       "      <th>22</th>\n",
       "      <td>1.447933</td>\n",
       "      <td>-1.089345</td>\n",
       "    </tr>\n",
       "    <tr>\n",
       "      <th>23</th>\n",
       "      <td>1.445407</td>\n",
       "      <td>-1.052393</td>\n",
       "    </tr>\n",
       "    <tr>\n",
       "      <th>24</th>\n",
       "      <td>1.427093</td>\n",
       "      <td>-1.053011</td>\n",
       "    </tr>\n",
       "  </tbody>\n",
       "</table>\n",
       "</div>"
      ],
      "text/plain": [
       "         ate     const\n",
       "0   1.458255 -1.086423\n",
       "1   1.496358 -1.097978\n",
       "2   1.390358 -1.026144\n",
       "3   1.470412 -1.065346\n",
       "4   1.416936 -1.055873\n",
       "5   1.469982 -1.116923\n",
       "6   1.500534 -1.106064\n",
       "7   1.430015 -1.078606\n",
       "8   1.446517 -1.066297\n",
       "9   1.485022 -1.101762\n",
       "10  1.422786 -1.064737\n",
       "11  1.450340 -1.086223\n",
       "12  1.432159 -1.074915\n",
       "13  1.456210 -1.078333\n",
       "14  1.439381 -1.065367\n",
       "15  1.398778 -1.007219\n",
       "16  1.448826 -1.073284\n",
       "17  1.407961 -1.039364\n",
       "18  1.436017 -1.065188\n",
       "19  1.427707 -1.050176\n",
       "20  1.423226 -1.058194\n",
       "21  1.375209 -0.991287\n",
       "22  1.447933 -1.089345\n",
       "23  1.445407 -1.052393\n",
       "24  1.427093 -1.053011"
      ]
     },
     "execution_count": 26,
     "metadata": {},
     "output_type": "execute_result"
    }
   ],
   "source": [
    "outcome_coeffs = {'ate': [], 'const': []}\n",
    "for i in range(NUM_ITER):\n",
    "    data = causl_py.generate_discrete_samples(N=NUM_SAMPLES, causal_params=CAUSAL_PARAMS, seed=i)\n",
    "    coeff_X, coeff_const = run_outcome_regression(data)\n",
    "    outcome_coeffs['ate'].append(coeff_X)\n",
    "    outcome_coeffs['const'].append(coeff_const)\n",
    "outcome_coeffs = pd.DataFrame.from_dict(outcome_coeffs)\n",
    "outcome_coeffs"
   ]
  },
  {
   "cell_type": "code",
   "execution_count": 27,
   "id": "d7e55609-8f09-44d1-b3af-fd21d48b7eae",
   "metadata": {},
   "outputs": [
    {
     "name": "stdout",
     "output_type": "stream",
     "text": [
      "ate      1.440137\n",
      "const   -1.066018\n",
      "dtype: float64\n",
      "ate      0.030686\n",
      "const    0.029169\n",
      "dtype: float64\n"
     ]
    }
   ],
   "source": [
    "print(outcome_coeffs.mean())\n",
    "print(outcome_coeffs.std())"
   ]
  },
  {
   "cell_type": "code",
   "execution_count": 28,
   "id": "f0e08851-605f-4083-862c-9ba29dfc8e9d",
   "metadata": {},
   "outputs": [
    {
     "data": {
      "text/plain": [
       "<matplotlib.legend.Legend at 0x3a9921890>"
      ]
     },
     "execution_count": 28,
     "metadata": {},
     "output_type": "execute_result"
    },
    {
     "data": {
      "image/png": "iVBORw0KGgoAAAANSUhEUgAAA/IAAAIOCAYAAAAbRTbuAAAAOXRFWHRTb2Z0d2FyZQBNYXRwbG90bGliIHZlcnNpb24zLjguNCwgaHR0cHM6Ly9tYXRwbG90bGliLm9yZy8fJSN1AAAACXBIWXMAAA9hAAAPYQGoP6dpAABmk0lEQVR4nO3dd3wUdf7H8fem7SaBhBAgCQghgEAoUqWKNKUJRzk0Z0G4AzxsND01Ik1UfniAKB0UIicCnoAiKk1BqjSJiggKgkFJDCAkEExI+f7+4LKypJBAwjLwej4e8zh39jMzn5ndzPHeaTZjjBEAAAAAALAED3c3AAAAAAAACo4gDwAAAACAhRDkAQAAAACwEII8AAAAAAAWQpAHAAAAAMBCCPIAAAAAAFgIQR4AAAAAAAshyAMAAAAAYCEEeQAAAAAALIQgDwBFKCYmRjabzWUoW7as2rRpo5UrV7q7vWLVr18/Va5cOd+arl27qmTJksrIyHAZv2fPHtlsNoWFheWYZtOmTbLZbHrjjTck/bmNd+3addme2rRpozZt2hR4HQo7/+LQpk0bl++Pr6+v6tWrpylTpigrK8tZV5DtnZcZM2YoJiamwPW///67/va3v6lcuXKy2Wzq0aPHFS33SjRs2FA2m00TJ050jtuwYUOOv7O8Bin3v8uLhw0bNlxxfz/99JOeeOIJVa9eXb6+vvLz81Pt2rX1wgsv6Ndff73a1b8q+/bt05gxY3TkyBG39lFQ2Z9TQfpdvXq1OnTooPLly8tut6t8+fJq06aN/u///q/Y+hszZozzOwUA7ubl7gYA4EY0f/581axZU8YYJSQkaNq0aerWrZtWrFihbt26ubs9t2nbtq0+/vhj7dq1S82aNXOO37Bhg/z9/ZWQkKD9+/erZs2aLu9lT1tYM2bMuOqe3aFKlSpauHChJCkxMVGzZs3SsGHDFB8frwkTJlz1/GfMmKEyZcqoX79+BaofN26cli9frnnz5qlq1aoqXbr0VfdQELGxsdqzZ48k6a233tLTTz8t6UK437Ztm0ttz549VbVqVZfAf6nsv8tL1apV64r6W7lypf72t7+pTJkyeuKJJ9SgQQPZbDZ9++23mjdvnj7++GNn/+6wb98+jR07Vm3atLniH32uR7NmzdKjjz6qv/71r5o2bZpKly6to0ePauvWrXr//ff13HPPubtFACh2BHkAKAZ16tRR48aNna87deqkoKAgLVq06KYP8tKFcH5pkO/evbvWr1+v9evX5wjyZcqUUZ06dQq9vCsNaMXJGKPU1FT5+vrmWePr6+uyfTp37qyaNWtq2rRpeumll+Tt7X0tWnXau3evqlatqgcffLBI5leQbSBJb775piTpnnvu0ccff6ytW7eqRYsWCggIcNk+kmS321WqVKkc4y926d/l1Th8+LD+9re/qXr16lq/fr0CAwOd77Vr106DBw/W8uXLi2RZcDV+/Hjdeeedev/9913G9+nTx+WsFQC4kXFqPQBcAw6HQz4+PjkC2O+//67HHntMFSpUkI+Pj6pUqaIRI0YoLS1NkpSamqoGDRqoWrVqSkpKck6XkJCg0NBQtWnTRpmZmXku9/jx43rsscdUq1YtlShRQuXKlVO7du20adMml7ojR444T1+ePHmyIiIiVKJECTVv3lxffvlljvnGxMSoRo0astvtioyM1IIFCwq0HerXr6+goCCXU5mzsrK0adMmtWnTRq1bt9b69eud750/f17btm1znm5+sTNnzujRRx9VmTJlFBwcrF69eunYsWMuNbmdWj9z5kzVq1dPJUqUUMmSJVWzZk09//zz+fYdHx+vRo0a6dZbb9WPP/4oSUpOTtbTTz+tiIgI+fj4qEKFCho6dKhSUlJcprXZbHriiSc0a9YsRUZGym636+233y7Q9srm7e2tRo0a6dy5czp+/HiedampqYqOjnbp6fHHH9fp06edNZUrV9Z3332nL774wnlqeV5Ha7O/F+vWrdP333+f41T0y31/r2YbpKam6t1331WjRo302muvSZLmzZt3+Y11jUyePFkpKSmaMWOGS4jPZrPZ1KtXL5dx8+bNU7169eRwOFS6dGn17NlT33//vUtNv379VKJECR08eFBdunRRiRIlVLFiRT311FM5tmt+3+WYmBjde++9ki78gJb92RXmkopsY8eOVdOmTVW6dGkFBASoYcOGeuutt2SMcamrXLmyunbtqlWrVqlhw4by9fVVzZo1c/3cvvzyS7Vs2VIOh0Ply5dXdHS00tPTC9TPyZMnc70MR5I8PFz/aZuVlaWpU6eqfv368vX1df7Ys2LFCmfNkiVL1KFDB4WFhcnX11eRkZF67rnncvwt52XJkiVq3ry5/P39VaJECXXs2NGtZ2IAuEkYAECRmT9/vpFkvvzyS5Oenm7Onz9vjh49agYPHmw8PDzMqlWrnLV//PGHue2224y/v7+ZOHGiWbNmjRk5cqTx8vIyXbp0cdb98MMPpmTJkqZXr17GGGMyMzNNu3btTLly5cyxY8fy7Wf//v3m0UcfNYsXLzYbNmwwK1euNP379zceHh5m/fr1zrrDhw8bSaZy5cqmU6dO5oMPPjAffPCBqVu3rgkKCjKnT5/OsY7du3c3H330kXnnnXdMtWrVTMWKFU14ePhlt1H37t2Nv7+/SU9PN8YYs3v3biPJHDhwwMycOdOUK1fOWfvFF18YSWb69Ok5ll+lShXz5JNPmtWrV5s333zTBAUFmbZt27osq3Xr1qZ169bO14sWLTKSzJNPPmnWrFlj1q1bZ2bNmmUGDx6cY/47d+40xhjz7bffmooVK5rmzZub48ePG2OMSUlJMfXr1zdlypQxkydPNuvWrTOvv/66CQwMNO3atTNZWVnO+UkyFSpUMLfddpt59913zeeff2727t2b5/Zp3bq1qV27do7xDRs2NF5eXubcuXPGGGP69u3rsr2zsrJMx44djZeXlxk5cqRZs2aNmThxovH39zcNGjQwqampxhhjvvrqK1OlShXToEEDs23bNrNt2zbz1Vdf5dpLamqq2bZtm2nQoIGpUqWKsz4pKanA398r2QbGGLNw4UKXz/6OO+4wJUqUMGfOnMm1Pjw83Nxzzz25vnfp3+XFQ0ZGRr595KV69eomJCSkwPWvvPKKkWTuv/9+8/HHH5sFCxaYKlWqmMDAQPPDDz846/r27Wt8fHxMZGSkmThxolm3bp0ZNWqUsdlsZuzYsc66y32XExMTncucPn2687NLTEws9Lr269fPvPXWW2bt2rVm7dq1Zty4ccbX19elH2MufAa33HKLqVWrllmwYIFZvXq1uffee40k88UXXzjrvvvuO+Pn52dq1aplFi1aZD788EPTsWNHU6lSJSPJHD58ON9+7rrrLuPl5WVGjx5tYmNj8/0M+/TpY2w2mxkwYID58MMPzaeffmpefvll8/rrrztrxo0bZ1577TXz8ccfmw0bNphZs2aZiIiIHPuT0aNHm0v/6fzyyy8bm81m/vGPf5iVK1eaZcuWmebNmxt/f3/z3XffXW7TAsAVI8gDQBHKDgyXDna73cyYMcOldtasWUaSee+991zGT5gwwUgya9ascY5bsmSJkWSmTJliRo0aZTw8PFzeL6iMjAyTnp5u2rdvb3r27Okcnx3k69at6/KP4h07dhhJZtGiRcaYCz8ilC9f3jRs2NAlrB45csR4e3sXKMhPmTLFSDJbt241xhgzadIkExYWZowxZt++fUaSM+SNHTvWSDL79u1zTp+9jR977DGX+b766qtGkomPj3eOuzTIP/HEE6ZUqVL59ndxkF+7dq0JCAgwvXv3Nn/88YezZvz48cbDw8MZ9rO9//77RpL55JNPnOMkmcDAQPP7779fdttk91y7dm1n0Dx27Jh57rnnjCRz7733OusuDfKrVq0yksyrr77qMr/s786cOXOc42rXru2yXQra08UK8/0t7DYwxph27doZh8NhTp06ZYz583N56623cq0vSJDPbfD09CxwTxdzOBymWbNmBao9deqU8fX1zfEDR1xcnLHb7eaBBx5wjuvbt2+u27VLly6mRo0aztcF+S7/97//NZJcfrS7WpmZmSY9Pd28+OKLJjg42GU/EB4ebhwOh/n555+d4/744w9TunRp889//tM5Lioqyvj6+pqEhATnuIyMDFOzZs0CBfmDBw+aOnXqOD9DX19f0759ezNt2jRz/vx5Z93GjRuNJDNixIgCr19WVpZJT093/oj49ddfO9+7NMjHxcUZLy8v8+STT7rM48yZMyY0NNTcd999BV4uABQWp9YDQDFYsGCBdu7cqZ07d+rTTz9V37599fjjj2vatGnOms8//1z+/v7q3bu3y7TZNyD77LPPnOPuu+8+Pfroo/rXv/6ll156Sc8//7zuvvvuAvUya9YsNWzYUA6HQ15eXvL29tZnn32W45Re6cK1yJ6ens7Xt912myTp559/liQdOHBAx44d0wMPPOByqnt4eLhatGhRoH4uvk4++39bt24tSYqMjFS5cuWcp9dv2LBBISEhioyMzDGfv/zlLy6vL+01N02aNNHp06d1//3368MPP9SJEyfyrH377bfVpUsXDRgwQO+9954cDofzvZUrV6pOnTqqX7++MjIynEPHjh1zvQt6u3btFBQUlOeyLvXdd9/J29tb3t7eKl++vCZNmqQHH3xQc+fOzXOazz//XJJy3MDu3nvvlb+/v8v3qSgU5vsrFW4bHD58WOvXr1evXr1UqlQpSRfWo2TJkld1ev3Ff5fZw/bt2694fgW1bds2/fHHHzk+m4oVK6pdu3Y5tpXNZstxL43bbrvN5btdmO/y1fr888911113KTAwUJ6envL29taoUaN08uRJJSYmutTWr19flSpVcr52OByqXr26S+/r169X+/btFRIS4hzn6empqKioAvVTtWpVff311/riiy80duxY3XXXXdq5c6eeeOIJNW/eXKmpqZKkTz/9VJL0+OOP5zu/n376SQ888IBCQ0Od65e9T8ptP5lt9erVysjI0MMPP+yyH3A4HGrduvVVPQ0BAC6HIA8AxSAyMlKNGzdW48aN1alTJ82ePVsdOnTQM88847xe+eTJkwoNDc1x7Xe5cuXk5eWlkydPuoz/xz/+ofT0dHl5eWnw4MEF6mPy5Ml69NFH1bRpUy1dulRffvmldu7cqU6dOumPP/7IUR8cHOzy2m63S5KzNrun0NDQHNPmNi43devWVZkyZbR+/Xrn9fHZ/2iWpDvvvFMbNmxQWlqatm3blufd6i/Xa2769OmjefPm6eeff9Zf//pXlStXTk2bNtXatWtz1C5evFi+vr4aMGBAjs/ot99+0zfffOMM29lDyZIlZYzJEaryup43L1WrVtXOnTu1a9cu7d27V6dPn9Y777yT67XY2U6ePCkvLy+VLVvWZbzNZlNoaGiO79PVKuz3tzDbYN68eTLGqHfv3jp9+rROnz6t9PR0/eUvf9GWLVu0f//+K+r54r/L7KFRo0ZXNK9KlSrp8OHDBarN3ha5bYPy5cvn2FZ+fn4uPxxJF77f2QFVKtx3+Wrs2LFDHTp0kCTNnTtXW7Zs0c6dOzVixAhJOf/eLv27zO794rrs786lCroPkS5cC3/nnXdq1KhRWrFihY4dO6aoqCjt3r3b+WPP8ePH5enpme98z549q1atWmn79u166aWXtGHDBu3cuVPLli3Ldf0u9ttvv0mSbr/99hz7giVLlhTrjysAwF3rAeAaue2227R69Wr98MMPatKkiYKDg7V9+3YZY1zCUGJiojIyMlSmTBnnuJSUFPXp00fVq1fXb7/9pgEDBujDDz+87DLfeecdtWnTRjNnznQZf+bMmStah+x/pCckJOR4L7dxubHZbGrdurVWrVqlHTt26PTp0y5BvnXr1hozZoy2bdum1NTUK3rsXH7+/ve/6+9//7tSUlK0ceNGjR49Wl27dtUPP/yg8PBwZ93ChQs1cuRItW7dWmvWrFH9+vWd75UpU0a+vr55Hh2++LPLXufCcDgchb67enBwsDIyMnT8+HGXMG/+9wjE22+/vVDzK8jyCvr9lQq+DbKyspw3ZLv0ZnHZ5s2bp1dfffXKGi8iHTt21NSpU/Xll1/me6d86c+/m/j4+BzvHTt2LMe2KqiCfpevxuLFi+Xt7a2VK1e6/LjwwQcfXPE8g4ODr2ofkht/f39FR0dryZIl2rt3rySpbNmyyszMVEJCQp4/JH3++ec6duyYy5lBklxuEJmX7M/t/fffL7LtDQAFxRF5ALhGYmNjJckZstq3b6+zZ8/m+Adx9h3g27dv7xw3aNAgxcXFadmyZXrrrbe0YsUK552882Oz2ZxHqrN98803OZ7BXVA1atRQWFiYFi1a5HLH6p9//llbt24t8Hzatm2rlJQU/fvf/1a5cuVcTp1v3bq1Tp48qalTpzpri4O/v786d+6sESNG6Pz58/ruu+9c3i9durTWrVunyMhItW3b1uXu/V27dtWhQ4cUHByc4whv48aN3fLM7uzvyzvvvOMyfunSpUpJSXH5Pl16hPRKl1fQ729hrF69Wr/88osef/xx5+MILx5q166tBQsWKCMj46r6v1rDhg2Tv7+/HnvsMZcnSmQzxjgfP9e8eXP5+vrm+Gx++eUXff7551e8rbLl9V0uyFkql2Oz2eTl5eVyyc0ff/yh//znP1c8z7Zt2+qzzz5zHtGWpMzMTC1ZsqRA0+f2g4j052nw5cuXl3ThsY2ScvyQebHsH5gu3U/Onj37sn107NhRXl5eOnToUK77gaJ61CEA5IYj8gBQDPbu3esMGidPntSyZcu0du1a9ezZUxEREZKkhx9+WNOnT1ffvn115MgR1a1bV5s3b9Yrr7yiLl266K677pJ04Vna77zzjubPn6/atWurdu3aeuKJJ/Tss8+qZcuWatKkSZ59dO3aVePGjdPo0aPVunVrHThwQC+++KIiIiKuKAh5eHho3LhxGjBggHr27KmBAwfq9OnTGjNmTKFOi80O58uXL89xjXWdOnUUHBys5cuXq0KFCrr11lsL3WdeBg4cKF9fX7Vs2VJhYWFKSEjQ+PHjFRgYmOsR65IlS2rVqlXq1auX7r77bq1YsUJt27bV0KFDtXTpUt15550aNmyYbrvtNmVlZSkuLk5r1qzRU089paZNmxZZ3wVx9913q2PHjnr22WeVnJysli1b6ptvvtHo0aPVoEED9enTx1lbt25dLV68WEuWLFGVKlXkcDhUt27dQi2voN/fwnrrrbfk5eWl559/3hnILvbPf/5TgwcP1scff6zu3bsXat4X/11erGrVqs4f2MaMGaOxY8dq/fr1OR5deLGIiAgtXrxYUVFRql+/vp544gk1aNBAkrRv3z7n5QE9e/ZUqVKlNHLkSD3//PN6+OGHdf/99+vkyZMaO3asHA6HRo8eXaj1kAr2Xa5Tp44kac6cOSpZsqQcDociIiIUHBysDRs2qG3btho9erTGjBmT53LuueceTZ48WQ888IAeeeQRnTx5UhMnTswRfAvjhRde0IoVK9SuXTuNGjVKfn5+mj59eoEf91a7dm21b99enTt3VtWqVZWamqrt27dr0qRJCgkJUf/+/SVJrVq1Up8+ffTSSy/pt99+U9euXWW327Vnzx75+fnpySefVIsWLRQUFKRBgwZp9OjR8vb21sKFC/X1119fto/KlSvrxRdf1IgRI/TTTz+pU6dOCgoK0m+//aYdO3bI399fY8eOveLtBAD5ct999gDgxpPb3bEDAwNN/fr1zeTJk52PAMt28uRJM2jQIBMWFma8vLxMeHi4iY6OdtZ98803xtfX1/Tt29dlutTUVNOoUSNTuXJl5129c5OWlmaefvppU6FCBeNwOEzDhg3NBx98kOOO59l3rf/3v/+dYx6SzOjRo13Gvfnmm+bWW281Pj4+pnr16mbevHk55nk5oaGhRpKZNm1ajvd69OhhJJkHH3wwx3uXPh4u2/r163PcofvSu9a//fbbpm3btiYkJMT4+PiY8uXLm/vuu8988803+c4/LS3N/PWvfzUOh8N8/PHHxhhjzp49a1544QVTo0YN4+PjYwIDA03dunXNsGHDXO7GLck8/vjjBd4ueT1+7lK5be8//vjDPPvssyY8PNx4e3ubsLAw8+ijj+b4jhw5csR06NDBlCxZ0ki67OeWV0+X+/5mK+g2OH78uPHx8TE9evTIsyb7DvDdunVzGX+ld62XZObOneusfeqpp4zNZjPff//9Zfs1xphDhw6Zxx57zFSrVs3Y7Xbj6+tratWqZYYPH57j7utvvvmmue2225zfl+7du+d4RFnfvn2Nv79/juVcesf0gnyXjbnwlIiIiAjj6elpJJn58+cbY4z56KOPjCQza9asy67jvHnzTI0aNYzdbjdVqlQx48ePN2+99VaOO8zn9Rlc+ndojDFbtmwxzZo1M3a73YSGhpp//etfZs6cOQW6a/3s2bNNr169TJUqVYyfn5/x8fExVatWNYMGDTJHjx51qc3MzDSvvfaaqVOnjnO7N2/e3Hz00UfOmq1bt5rmzZsbPz8/U7ZsWTNgwADz1VdfuWwvY3J//JwxxnzwwQembdu2JiAgwNjtdhMeHm569+5t1q1bl+96AMDVsBlz0bmRAAAAN7EmTZooPDxc//3vf93dSrF65plntGjRIv344485bqwHALj+cWo9AACApOTkZH399dd6++233d1KsVu/fr1GjhxJiAcAi+KIPAAAAAAAFsJd6wEAAAAAsBC3BvmNGzeqW7duKl++vGw222WfSbps2TLdfffdKlu2rAICAtS8eXOtXr06R93SpUtVq1Yt2e121apVy/n4FwAAAAAArM6tQT4lJUX16tXTtGnTClS/ceNG3X333frkk0+0e/dutW3bVt26ddOePXucNdu2bVNUVJT69Omjr7/+Wn369NF9992n7du3F9dqAAAAAABwzVw318jbbDYtX75cPXr0KNR0tWvXVlRUlEaNGiVJioqKUnJysj799FNnTfZzPRctWlSULQMAAAAAcM1Z+q71WVlZOnPmjEqXLu0ct23bNg0bNsylrmPHjpoyZUqe80lLS1NaWprLfH///XcFBwfLZrMVed8AAAAAAFzMGKMzZ86ofPny8vDI/+R5Swf5SZMmKSUlRffdd59zXEJCgkJCQlzqQkJClJCQkOd8xo8fr7FjxxZbnwAAAAAAFMTRo0d1yy235Ftj2SC/aNEijRkzRh9++KHKlSvn8t6lR9GNMfkeWY+Ojtbw4cOdr5OSklSpUiUdPXpUAQEBRds4AAAAAACXSE5OVsWKFVWyZMnL1loyyC9ZskT9+/fXf//7X911110u74WGhuY4+p6YmJjjKP3F7Ha77HZ7jvEBAQEEeQAAAADANVOQy7st9xz5RYsWqV+/fnr33Xd1zz335Hi/efPmWrt2rcu4NWvWqEWLFteqRQAAAAAAio1bj8ifPXtWBw8edL4+fPiwYmNjVbp0aVWqVEnR0dH69ddftWDBAkkXQvzDDz+s119/Xc2aNXMeeff19VVgYKAkaciQIbrzzjs1YcIEde/eXR9++KHWrVunzZs3X/sVBAAAAACgiLn1iPyuXbvUoEEDNWjQQJI0fPhwNWjQwPkoufj4eMXFxTnrZ8+erYyMDD3++OMKCwtzDkOGDHHWtGjRQosXL9b8+fN12223KSYmRkuWLFHTpk2v7coBAAAAAFAMrpvnyF9PkpOTFRgYqKSkJK6RBwAAAHDNZWZmKj093d1toIj5+Pjk+Wi5wuRQS97sDgAAAABuRMYYJSQk6PTp0+5uBcXAw8NDERER8vHxuar5EOQBAAAA4DqRHeLLlSsnPz+/At3BHNaQlZWlY8eOKT4+XpUqVbqqz5YgDwAAAADXgczMTGeIDw4Odnc7KAZly5bVsWPHlJGRIW9v7yuej+UePwcAAAAAN6Lsa+L9/Pzc3AmKS/Yp9ZmZmVc1H4I8AAAAAFxHOJ3+xlVUny1BHgAAAAAACyHIAwAAAABgIQR5AAAAAMAVsdls+Q79+vVzd4tOR44ckc1mU2xsrLtbuWrctR4AAAAAcEXi4+Od/71kyRKNGjVKBw4ccI7z9fV1qU9PT7+qu7XjAo7IAwAAAACuSGhoqHMIDAyUzWZzvk5NTVWpUqX03nvvqU2bNnI4HHrnnXc0ZswY1a9f32U+U6ZMUeXKlV3GzZ8/X5GRkXI4HKpZs6ZmzJiRby+rVq3SHXfcoVKlSik4OFhdu3bVoUOHnO9HRERIkho0aCCbzaY2bdpc8bLcjSPyAAAAAHA9S0nJ+z1PT8nhKFith4d08RHyvGr9/QvX32U8++yzmjRpkubPny+73a45c+Zcdpq5c+dq9OjRmjZtmho0aKA9e/Zo4MCB8vf3V9++fXOdJiUlRcOHD1fdunWVkpKiUaNGqWfPnoqNjZWHh4d27NihJk2aaN26dapdu7bzUXBXsix3I8gDAAAAwPWsRIm83+vSRfr44z9flysnnTuXe23r1tKGDX++rlxZOnEiZ50xV9JlnoYOHapevXoVappx48Zp0qRJzukiIiK0b98+zZ49O89w/de//tXl9VtvvaVy5cpp3759qlOnjsqWLStJCg4OVmho6FUty90I8gAAAACAYtO4ceNC1R8/flxHjx5V//79NXDgQOf4jIwMBQYG5jndoUOHNHLkSH355Zc6ceKEsrKyJElxcXGqU6dOkS7L3QjyAAAAAHA9O3s27/c8PV1fJybmXetxyS3Sjhy54pYKw/+SU/U9PDxkLjnqn56e7vzv7AA+d+5cNW3a1KXO89L1vUi3bt1UsWJFzZ07V+XLl1dWVpbq1Kmj8+fP5znNlS7L3QjyAAAAAHA9K8w168VVW4TKli2rhIQEGWNks9kkyeWRcCEhIapQoYJ++uknPfjggwWa58mTJ/X9999r9uzZatWqlSRp8+bNLjXZ18RnZmZe1bKuBwR5AAAAAMA106ZNGx0/flyvvvqqevfurVWrVunTTz9VQECAs2bMmDEaPHiwAgIC1LlzZ6WlpWnXrl06deqUhg8fnmOeQUFBCg4O1pw5cxQWFqa4uDg999xzLjXlypWTr6+vVq1apVtuuUUOh0OBgYGFXtb1gMfPAQAAAACumcjISM2YMUPTp09XvXr1tGPHDj399NMuNQMGDNCbb76pmJgY1a1bV61bt1ZMTIzzEXKX8vDw0OLFi7V7927VqVNHw4YN07///W+XGi8vL73xxhuaPXu2ypcvr+7du1/Rsq4HNnPpxQlQcnKyAgMDlZSU5PKrEAAAAAAUl9TUVB0+fFgRERFyXPxIOdww8vuMC5NDOSIPAAAAAICFEOQBAAAAALAQgjwAAAAAABZCkAcAAAAAwEII8gAAAAAAWAhBHgAAAAAACyHIAwAAAABgIQR5AAAAAAAshCAPAAAAAICFEOQBAAAAALAQgjwAAAAA4IrYbLZ8h379+rm7xWumTZs2Gjp06DVZltc1WQoAAAAA4IYTHx/v/O8lS5Zo1KhROnDggHOcr6+vS316erq8vb2vWX83Ko7IAwAAAACuSGhoqHMIDAyUzWZzvk5NTVWpUqX03nvvqU2bNnI4HHrnnXc0ZswY1a9f32U+U6ZMUeXKlV3GzZ8/X5GRkXI4HKpZs6ZmzJiRby9ZWVmaMGGCqlWrJrvdrkqVKunll192vv/tt9+qXbt28vX1VXBwsB555BGdPXvW+X6/fv3Uo0cPTZw4UWFhYQoODtbjjz+u9PR0Z82MGTN06623yuFwKCQkRL1793ZO+8UXX+j11193no1w5MiRK9uoBcAReQAAAAC4jqWcT8nzPU8PTzm8HAWq9bB5yNfb97K1/j7+V9Bl3p599llNmjRJ8+fPl91u15w5cy47zdy5czV69GhNmzZNDRo00J49ezRw4ED5+/urb9++uU4THR2tuXPn6rXXXtMdd9yh+Ph47d+/X5J07tw5derUSc2aNdPOnTuVmJioAQMG6IknnlBMTIxzHuvXr1dYWJjWr1+vgwcPKioqSvXr19fAgQO1a9cuDR48WP/5z3/UokUL/f7779q0aZMk6fXXX9cPP/ygOnXq6MUXX5QklS1b9iq3XN4I8gAAAABwHSsxvkSe73W5tYs+fuBj5+tyE8vpXPq5XGtbh7fWhn4bnK8rv15ZJ86dyFFnRpsrbzYXQ4cOVa9evQo1zbhx4zRp0iTndBEREdq3b59mz56da5A/c+aMXn/9dU2bNs35ftWqVXXHHXdIkhYuXKg//vhDCxYskL//hR8qpk2bpm7dumnChAkKCQmRJAUFBWnatGny9PRUzZo1dc899+izzz7TwIEDFRcXJ39/f3Xt2lUlS5ZUeHi4GjRoIEkKDAyUj4+P/Pz8FBoaemUbqhA4tR4AAAAAUGwaN25cqPrjx4/r6NGj6t+/v0qUKOEcXnrpJR06dCjXab7//nulpaWpffv2eb5fr149Z4iXpJYtWyorK8vlmv7atWvL09PT+TosLEyJiYmSpLvvvlvh4eGqUqWK+vTpo4ULF+rcudx/NCluHJEHAAAAgOvY2eizeb7n6eHp8jrx6cQ8az1srsdxjww5clV9FdTF4VmSPDw8ZIzrUf+Lr0PPysqSdOH0+qZNm7rUXRyyL3bpTfUuZYyRzWbL9b2Lx196Iz6bzebsp2TJkvrqq6+0YcMGrVmzRqNGjdKYMWO0c+dOlSpVKt/lFzWCPAAAAABcxwpzzXpx1RalsmXLKiEhwSVcx8bGOt8PCQlRhQoV9NNPP+nBBx8s0DxvvfVW+fr66rPPPtOAAQNyvF+rVi29/fbbSklJcf6wsGXLFnl4eKh69eoF7t3Ly0t33XWX7rrrLo0ePVqlSpXS559/rl69esnHx0eZmZkFntfVIMgDAAAAAK6ZNm3a6Pjx43r11VfVu3dvrVq1Sp9++qkCAgKcNWPGjNHgwYMVEBCgzp07Ky0tTbt27dKpU6c0fPjwHPN0OBx69tln9cwzz8jHx0ctW7bU8ePH9d1336l///568MEHNXr0aPXt21djxozR8ePH9eSTT6pPnz7O6+MvZ+XKlfrpp5905513KigoSJ988omysrJUo0YNSVLlypW1fft2HTlyRCVKlFDp0qXl4VE8V7NzjTwAAAAA4JqJjIzUjBkzNH36dNWrV087duzQ008/7VIzYMAAvfnmm4qJiVHdunXVunVrxcTEKCIiIs/5jhw5Uk899ZRGjRqlyMhIRUVFOa9v9/Pz0+rVq/X777/r9ttvV+/evdW+fXtNmzatwH2XKlVKy5YtU7t27RQZGalZs2Zp0aJFql27tiTp6aeflqenp2rVqqWyZcsqLi7uCrZOwdjMpRcnQMnJyQoMDFRSUpLLr0IAAAAAUFxSU1N1+PBhRUREyOFwXH4CWE5+n3FhcihH5AEAAAAAsBCCPAAAAAAAFkKQBwAAAADAQgjyAAAAAABYCEEeAAAAAAALIcgDAAAAAGAhBHkAAAAAACyEIA8AAAAAgIW4Nchv3LhR3bp1U/ny5WWz2fTBBx/kWx8fH68HHnhANWrUkIeHh4YOHZqjJiYmRjabLceQmppaPCsBAAAAAMA15NYgn5KSonr16mnatGkFqk9LS1PZsmU1YsQI1atXL8+6gIAAxcfHuwwOh6Oo2gYAAAAA3ERiYmJUqlQpd7fh5OXOhXfu3FmdO3cucH3lypX1+uuvS5LmzZuXZ53NZlNoaOhV9wcAAAAAyJvNZsv3/b59+yomJubaNHMTcWuQLy5nz55VeHi4MjMzVb9+fY0bN04NGjTIsz4tLU1paWnO18nJydeiTQAAAACwtPj4eOd/L1myRKNGjdKBAwec43x9fV3q09PT5e3tfc36u1HdcDe7q1mzpmJiYrRixQotWrRIDodDLVu21I8//pjnNOPHj1dgYKBzqFix4jXsGAAAAACsKTQ01DkEBgY6z44ODQ1VamqqSpUqpffee09t2rSRw+HQO++8ozFjxqh+/fou85kyZYoqV67sMm7+/PmKjIyUw+FQzZo1NWPGjHx7ef/991W3bl35+voqODhYd911l1JSUpzvz5s3T7Vr15bdbldYWJieeOIJ53uTJ09W3bp15e/vr4oVK+qxxx7T2bNn813eRx99pEaNGsnhcKhKlSoaO3asMjIyCrbhrtINd0S+WbNmatasmfN1y5Yt1bBhQ02dOlVvvPFGrtNER0dr+PDhztfJycmEeQAAAADXhYuyaA6entLFtwPLr9bDQ7r4AHletf7+hevvcp599llNmjRJ8+fPl91u15w5cy47zdy5czV69GhNmzZNDRo00J49ezRw4ED5+/urb9++Oerj4+N1//3369VXX1XPnj115swZbdq0ScYYSdLMmTM1fPhw/d///Z86d+6spKQkbdmyxTm9h4eH3njjDVWuXFmHDx/WY489pmeeeSbPHw9Wr16thx56SG+88YZatWqlQ4cO6ZFHHpEkjR49+ko2U6HccEH+Uh4eHrr99tvzPSJvt9tlt9uvYVcAAAAAUDAlSuT9Xpcu0scf//m6XDnp3Lnca1u3ljZs+PN15crSiRM56/6XfYvM0KFD1atXr0JNM27cOE2aNMk5XUREhPbt26fZs2fnGeQzMjLUq1cvhYeHS5Lq1q3rfP+ll17SU089pSFDhjjH3X777S49ZouIiNC4ceP06KOP5hnkX375ZT333HPOXqpUqaJx48bpmWeeIcgXBWOMYmNjXT5EAAAAAMC10bhx40LVHz9+XEePHlX//v01cOBA5/iMjAwFBgbmOk29evXUvn171a1bVx07dlSHDh3Uu3dvBQUFKTExUceOHVP79u3zXOb69ev1yiuvaN++fUpOTlZGRoZSU1OVkpIi/1xOUdi9e7d27typl19+2TkuMzNTqampOnfunPz8/Aq1zoXl1iB/9uxZHTx40Pn68OHDio2NVenSpVWpUiVFR0fr119/1YIFC5w1sbGxzmmPHz+u2NhY+fj4qFatWpKksWPHqlmzZrr11luVnJysN954Q7GxsZo+ffo1XTcAAAAAKAr5Xart6en6OjEx71qPS+6QduTIFbdUKJcGYQ8PD+cp79nS09Od/52VlSXpwun1TZs2danzvHSFLxq/du1abd26VWvWrNHUqVM1YsQIbd++XWXKlMm3v59//lldunTRoEGDNG7cOJUuXVqbN29W//79Xfq6WFZWlsaOHZvrmQbX4tHnbg3yu3btUtu2bZ2vs69Tz35EQXx8vOLi4lymufju87t379a7776r8PBwHfnft/D06dN65JFHlJCQoMDAQDVo0EAbN25UkyZNin+FAAAAAKCIFeaa9eKqLUply5ZVQkKCjDHOx9dlH7CVpJCQEFWoUEE//fSTHnzwwQLP12azqWXLlmrZsqVGjRql8PBwLV++XMOHD1flypX12WefueTPbLt27VJGRoYmTZokj//92vHee+/lu6yGDRvqwIEDqlatWoH7K0puDfJt2rTJ8UvMxXJ73mB+9ZL02muv6bXXXrva1gAAAAAAxaBNmzY6fvy4Xn31VfXu3VurVq3Sp59+qoCAAGfNmDFjNHjwYAUEBKhz585KS0vTrl27dOrUKZcblWfbvn27PvvsM3Xo0EHlypXT9u3bdfz4cUVGRjrnN2jQIJUrV06dO3fWmTNntGXLFj355JOqWrWqMjIyNHXqVHXr1k1btmzRrFmz8l2HUaNGqWvXrqpYsaLuvfdeeXh46JtvvtG3336rl156qWg3WC5uuMfPAQAAAACuX5GRkZoxY4amT5+uevXqaceOHXr66addagYMGKA333xTMTExqlu3rlq3bq2YmBhFRETkOs+AgABt3LhRXbp0UfXq1fXCCy9o0qRJ6ty5s6QLZ31PmTJFM2bMUO3atdW1a1fnDdHr16+vyZMna8KECapTp44WLlyo8ePH57sOHTt21MqVK7V27VrdfvvtatasmSZPnuy80V5xs5nLHeK+CSUnJyswMFBJSUkuvwoBAAAAQHFJTU3V4cOHFRERcU2us8a1l99nXJgcyhF5AAAAAAAshCAPAAAAAICFEOQBAAAAALAQgjwAAAAAABZCkAcAAACA6wj3I79xFdVnS5AHAAAAgOuAt7e3JOncuXNu7gTF5fz585IkT0/Pq5qPV1E0AwAAAAC4Op6enipVqpQSExMlSX5+frLZbG7uCkUlKytLx48fl5+fn7y8ri6KE+QBAAAA4DoRGhoqSc4wjxuLh4eHKlWqdNU/0BDkAQAAAOA6YbPZFBYWpnLlyik9Pd3d7aCI+fj4yMPj6q9wJ8gDAAAAwHXG09Pzqq+jxo2Lm90BAAAAAGAhBHkAAAAAACyEIA8AAAAAgIUQ5AEAAAAAsBCCPAAAAAAAFkKQBwAAAADAQgjyAAAAAABYCEEeAAAAAAALIcgDAAAAAGAhBHkAAAAAACyEIA8AAAAAgIUQ5AEAAAAAsBCCPAAAAAAAFkKQBwAAAADAQgjyAAAAAABYCEEeAAAAAAALIcgDAAAAAGAhBHkAAAAAACyEIA8AAAAAgIUQ5AEAAAAAsBCCPAAAAAAAFkKQBwAAAADAQgjyAAAAAABYCEEeAAAAAAALIcgDAAAAAGAhBHkAAAAAACyEIA8AAAAAgIUQ5AEAAAAAsBCCPAAAAAAAFkKQBwAAAADAQgjyAAAAAABYCEEeAAAAAAALIcgDAAAAAGAhBHkAAAAAACzErUF+48aN6tatm8qXLy+bzaYPPvgg3/r4+Hg98MADqlGjhjw8PDR06NBc65YuXapatWrJbrerVq1aWr58edE3DwAAAACAG7g1yKekpKhevXqaNm1agerT0tJUtmxZjRgxQvXq1cu1Ztu2bYqKilKfPn309ddfq0+fPrrvvvu0ffv2omwdAAAAAAC3sBljjLubkCSbzably5erR48eBapv06aN6tevrylTpriMj4qKUnJysj799FPnuE6dOikoKEiLFi0q0LyTk5MVGBiopKQkBQQEFHQVAAAAAAC4IoXJoTfcNfLbtm1Thw4dXMZ17NhRW7dudVNHAAAAAAAUHS93N1DUEhISFBIS4jIuJCRECQkJeU6TlpamtLQ05+vk5ORi6w8AAAAAgKtxwx2Rly6cpn8xY0yOcRcbP368AgMDnUPFihWLu0UAAAAAAK7IDRfkQ0NDcxx9T0xMzHGU/mLR0dFKSkpyDkePHi3uNgEAAAAAuCI3XJBv3ry51q5d6zJuzZo1atGiRZ7T2O12BQQEuAwAAAAAAFyP3HqN/NmzZ3Xw4EHn68OHDys2NlalS5dWpUqVFB0drV9//VULFixw1sTGxjqnPX78uGJjY+Xj46NatWpJkoYMGaI777xTEyZMUPfu3fXhhx9q3bp12rx58zVdNwAAAAAAioNbHz+3YcMGtW3bNsf4vn37KiYmRv369dORI0e0YcMG53u5XeseHh6uI0eOOF+///77euGFF/TTTz+patWqevnll9WrV68C98Xj5wAAAAAA11Jhcuh18xz56wlBHgAAAABwLd3Uz5EHAAAAAOBGRpAHAAAAAMBCCPIAAAAAAFgIQR4AAAAAAAshyAMAAAAAYCEEeQAAAAAALIQgDwAAAACAhRDkAQAAAACwEII8AAAAAAAWQpAHAAAAAMBCCPIAAAAAAFgIQR4AAAAAAAshyAMAAAAAYCEEeQAAAAAALIQgDwAAAACAhRDkAQAAAACwEII8AAAAAAAWQpAHAAAAAMBCCPIAAAAAAFgIQR4AAAAAAAshyAMAAAAAYCEEeQAAAAAALIQgDwAAAACAhRDkAQAAAACwEII8AAAAAAAWQpAHAAAAAMBCCPIAAAAAAFgIQR4AAAAAAAvxcncDwPXu3Llz2r9/f7HMOzU9U7+cOqdbgvzk8PYslmVIUs2aNeXn51ds8wcAAABw7RDkgcvYv3+/GjVq5O42rsru3bvVsGFDd7cBAAAAoAgQ5IHLqFmzpnbv3l0s8z6YeEZDFsfq9b/VV7VyJYtlGdKFdQAAAABwYyDIA5fh5+dXbEezfX5Nkn3DWdWqW191KgQWyzIAAAAA3Fi42R0AAAAAABZCkAcAAAAAwEII8gAAAAAAWAhBHgAAAAAACyHIAwAAAABgIQR5AAAAAAAshCAPAAAAAICFEOQBAAAAALAQgjwAAAAAABZCkAcAAAAAwEII8gAAAAAAWAhBHgAAAAAACyHIAwAAAABgIQR5AAAAAAAshCAPAAAAAICFuDXIb9y4Ud26dVP58uVls9n0wQcfXHaaL774Qo0aNZLD4VCVKlU0a9Ysl/djYmJks9lyDKmpqcW0FgAAAAAAXDtuDfIpKSmqV6+epk2bVqD6w4cPq0uXLmrVqpX27Nmj559/XoMHD9bSpUtd6gICAhQfH+8yOByO4lgFAAAAAACuKS93Lrxz587q3LlzgetnzZqlSpUqacqUKZKkyMhI7dq1SxMnTtRf//pXZ53NZlNoaGhRtwsAAAAAgNtZ6hr5bdu2qUOHDi7jOnbsqF27dik9Pd057uzZswoPD9ctt9yirl27as+ePde6VQAAAAAAioWlgnxCQoJCQkJcxoWEhCgjI0MnTpyQJNWsWVMxMTFasWKFFi1aJIfDoZYtW+rHH3/Mc75paWlKTk52GQAAAAAAuB5ZKshLF06bv5gxxmV8s2bN9NBDD6levXpq1aqV3nvvPVWvXl1Tp07Nc57jx49XYGCgc6hYsWLxrQAAAAAAAFfBUkE+NDRUCQkJLuMSExPl5eWl4ODgXKfx8PDQ7bffnu8R+ejoaCUlJTmHo0ePFmnfAAAAAAAUFbfe7K6wmjdvro8++shl3Jo1a9S4cWN5e3vnOo0xRrGxsapbt26e87Xb7bLb7UXaKwAAAAAAxcGtR+TPnj2r2NhYxcbGSrrweLnY2FjFxcVJunCk/OGHH3bWDxo0SD///LOGDx+u77//XvPmzdNbb72lp59+2lkzduxYrV69Wj/99JNiY2PVv39/xcbGatCgQdd03QAAAAAAKA5uPSK/a9cutW3b1vl6+PDhkqS+ffsqJiZG8fHxzlAvSREREfrkk080bNgwTZ8+XeXLl9cbb7zh8ui506dP65FHHlFCQoICAwPVoEEDbdy4UU2aNLl2KwYAAAAAQDGxmey7xcEpOTlZgYGBSkpKUkBAgLvbwQ1s769J6jp1s1Y+eYfqVAh0dzsAAAAA3KQwOdRSN7sDAAAAAOBmR5AHAAAAAMBCCPIAAAAAAFgIQR4AAAAAAAshyAMAAAAAYCEEeQAAAAAALIQgDwAAAACAhRDkAQAAAACwEII8AAAAAAAW4uXuBoCicvhEilLSMtzdRqEcTDzr8r9W42/3UkQZf3e3AQAAANxUCPK4IRw+kaK2Eze4u40rNnRJrLtbuGLrn25DmAcAAACuIYI8bgjZR+KnRNVXtXIl3NxNwaWmZ+qXU3/oliBfObw93d1OoRxMPKuhS2ItdxYEAAAAYHUEedxQqpUroToVAt3dRqE0ruzuDgAAAABYCTe7AwAAAADAQgjyAAAAAABYCEEeAAAAAAALIcgDAAAAAGAhBHkAAAAAACyEIA8AAAAAgIUQ5AEAAAAAsBCCPAAAAAAAFkKQBwAAAADAQgjyAAAAAABYCEEeAAAAAAALIcgDAAAAAGAhBHkAAAAAACyEIA8AAAAAgIUQ5AEAAAAAsBCCPAAAAAAAFkKQBwAAAADAQgjyAAAAAABYSKGD/NGjR/XLL784X+/YsUNDhw7VnDlzirQxAAAAAACQU6GD/AMPPKD169dLkhISEnT33Xdrx44dev755/Xiiy8WeYMAAAAAAOBPhQ7ye/fuVZMmTSRJ7733nurUqaOtW7fq3XffVUxMTFH3BwAAAAAALlLoIJ+eni673S5JWrdunf7yl79IkmrWrKn4+Pii7Q4AAAAAALgodJCvXbu2Zs2apU2bNmnt2rXq1KmTJOnYsWMKDg4u8gYBAAAAAMCfCh3kJ0yYoNmzZ6tNmza6//77Va9ePUnSihUrnKfcAwAAAACA4uFV2AnatGmjEydOKDk5WUFBQc7xjzzyiPz8/Iq0OQAAAAAA4OqKniNvjNHu3bs1e/ZsnTlzRpLk4+NDkAcAAAAAoJgV+oj8zz//rE6dOikuLk5paWm6++67VbJkSb366qtKTU3VrFmziqNPAAAAAACgKzgiP2TIEDVu3FinTp2Sr6+vc3zPnj312WefFWlzAAAAAADAVaGPyG/evFlbtmyRj4+Py/jw8HD9+uuvRdYYAAAAAADIqdBH5LOyspSZmZlj/C+//KKSJUsWSVMAAAAAACB3hQ7yd999t6ZMmeJ8bbPZdPbsWY0ePVpdunQpyt4AAAAAAMAlCn1q/Wuvvaa2bduqVq1aSk1N1QMPPKAff/xRZcqU0aJFi4qjRwAAAAAA8D+FDvLly5dXbGysFi1apK+++kpZWVnq37+/HnzwQZeb3wEAAAAAgKJX6CAvSb6+vvrHP/6hf/zjH0XdDwAAAAAAyEehr5FfsGBBvkNhbNy4Ud26dVP58uVls9n0wQcfXHaaL774Qo0aNZLD4VCVKlVyfW790qVLVatWLdntdtWqVUvLly8vVF8AAAAAAFyvCn1EfsiQIS6v09PTde7cOfn4+MjPz08PP/xwgeeVkpKievXq6e9//7v++te/Xrb+8OHD6tKliwYOHKh33nlHW7Zs0WOPPaayZcs6p9+2bZuioqI0btw49ezZU8uXL9d9992nzZs3q2nTpoVbWQAAAAAArjOFDvKnTp3KMe7HH3/Uo48+qn/961+Fmlfnzp3VuXPnAtfPmjVLlSpVct41PzIyUrt27dLEiROdQX7KlCm6++67FR0dLUmKjo7WF198oSlTphT6Znwpx1PkmeqZY7ynj6ccpRx/1iWm5DkPDy8P+Zb2vaLacyfOyWSZXGttHjb5lfG7oto/fv9DWRlZefbhX87/impTT6cq83zORxNeSa1fGT/ZPGySpLTkNGWkZuRbmy09OU0p3nlvY9/SvvLwunAiyvmz55V+Lr1Iah2lHPL08Sx0bfq5dJ0/ez7PWnuAXV4Or0LXZqRmKC05Lc9anxI+8vbzLnRt5vlMpZ5OlST9ceKc7Cnp+uPEOaV4X1iut5+3fEr45KjNzcW1WRlZ+uP3P4qk1svhJXuAXZJksozOnThXJLWF+btnH5F7rTv3EQWtZR9xQVHsI3LDPqLwtewjrqyWfcQF7CMKX8s+4gL2EVdWe7X7iJQzeX9+OZgisnPnTlOjRo0rnl6SWb58eb41rVq1MoMHD3YZt2zZMuPl5WXOnz9vjDGmYsWKZvLkyS41kydPNpUqVcpzvqmpqSYpKck5HD161EgyUpKRTI6hS9kdLtP76WyudZIxrQP3uNSWsR3Ps7ax33cuteGeR/OsrWX/0aW2lv3HPGvDPY+61Db2+y7P2jK24y61rQP35Fnrp7MutV3K7siz9tJvWu8KW/OtPfvbn/PuW3VTvrWJ+46bb385bcKfXWn+UePzfGsPb/pzWzzdeH2+tXs/+HMbj26df+2OmD8/u1e75F+7/rU/vxPT7t2Qb+3K0X9+1+b3z387vDdsq7P2vWH5b9/5/Tc5a1eOzv9zm3bvBmft+tfy/j5IF9Y9246YvL9n0oVtmm3vB3l/f6ULn1W2w5vy/ruQjHmszp/9Ju7L++9NuvDdynb2t7z/jqUL39mL5VfLPuLCcD3tI7I9Vif/vzn2ERcG9hEXBvYRFwb2EX8O7CMuDOwjLgzsIy4M7CP+HK5+H5FkJJmkpCRzOYW+Rj4vnp6eOnbsWFHNLlcJCQkKCQlxGRcSEqKMjAydOHEi35qEhIQ85zt+/HgFBgY6h4oVKxZ98wAAAAAAFAGbMcYUZoIVK1a4vDbGKD4+XtOmTVPFihX16aefXlkjNpuWL1+uHj165FlTvXp1/f3vf3eeNi9JW7Zs0R133KH4+HiFhobKx8dHb7/9tu6//35nzcKFC9W/f3+lpuZ+ek5aWprS0v48JSg5OVkVK1bUsYPHFFAyIEc9p7vkXuvO012+i09W16mbtbzv7aoe7J9nLafEXVAUp8Tti0/WQ29u1zsDmqpW2IW/E06JK3wt+4grq71eT4nLy824j8gN+4jC17KPuLJa9hEXsI8ofC37iAvYR1xZ7dXuI5LPJKt8tfJKSkpSQEDOHHqxQl8jf2nQttlsKlu2rNq1a6dJkyYVdnaFEhoamuPIemJiory8vBQcHJxvzaVH6S9mt9tlt9tzjPcv6y//gLxDobOu3OVrrqT24j+Ioqy9+A+4KGsv3uEUZa09wO7cSV6Od4C9wNvYp4SPc6furlpvP2/n/7kVZa2Xw8v5f8ZFWevp4+ncvr7pGUrz95ZvGb9ct/nFtZfj4eVRLLU2D1ux1ErF93fPPqLwtYXZRxSmln1E4WsL83fPPqL4a9lHXMA+ovC17CMuYB9xZbXsIy64kr/7TEfePz5cqtBBPisr719Milvz5s310UcfuYxbs2aNGjduLG9vb2fN2rVrNWzYMJeaFi1aXNNeAQAAAAAoDoUO8kXp7NmzOnjwoPP14cOHFRsbq9KlS6tSpUqKjo7Wr7/+6nw+/aBBgzRt2jQNHz5cAwcO1LZt2/TWW2+53I1+yJAhuvPOOzVhwgR1795dH374odatW6fNmzdf8/UDAAAAAKCoFSjIDx8+vMAznDx5coFrd+3apbZt2+ZYTt++fRUTE6P4+HjFxcU534+IiNAnn3yiYcOGafr06SpfvrzeeOMNl2fQt2jRQosXL9YLL7ygkSNHqmrVqlqyZAnPkAcAAAAA3BAKFOT37NlToJnZbLZCLbxNmzbK7157MTExOca1bt1aX331Vb7z7d27t3r37l2oXgAAAAAAsIICBfn169cXdx8AAAAAAKAAiuw58gAAAAAAoPhd0c3udu7cqf/+97+Ki4vT+fOuz6NctmxZkTQGFJbNK1mHkw/Iw1HC3a3cFA4nn5XNK9ndbQAAAAA3nUIH+cWLF+vhhx9Whw4dtHbtWnXo0EE//vijEhIS1LNnz+LoESgQ71Lb9fyOV9zdxk3Fu1R7SV3c3QYAAABwUyl0kH/llVf02muv6fHHH1fJkiX1+uuvKyIiQv/85z8VFhZWHD0CBZJ+uqkm3fOAqpbjiPy1cCjxrAYvPOTuNgAAAICbTqGD/KFDh3TPPfdIkux2u1JSUmSz2TRs2DC1a9dOY8eOLfImgYIwGQGKCKihWsGB7m7lppCVmiSTcdzdbQAAAAA3nULf7K506dI6c+aMJKlChQrau3evJOn06dM6d+5c0XYHAAAAAABcFDjIx8bGSpJatWqltWvXSpLuu+8+DRkyRAMHDtT999+v9u3bF0uTAAAAAADgggKfWt+wYUM1aNBAPXr00P333y9Jio6Olre3tzZv3qxevXpp5MiRxdYoAAAAAAAoxBH5LVu2qGHDhpo4caKqVq2qhx56SF988YWeeeYZrVixQpMnT1ZQUFBx9goAAAAAwE2vwEG+efPmmjt3rhISEjRz5kz98ssvuuuuu1S1alW9/PLL+uWXX4qzTwAAAAAAoCu42Z2vr6/69u2rDRs26IcfftD999+v2bNnKyIiQl268DxpAAAAAACKU6GD/MWqVq2q5557TiNGjFBAQIBWr15dVH0BAAAAAIBcFPo58tm++OILzZs3T0uXLpWnp6fuu+8+9e/fvyh7AwAAAAAAlyhUkD969KhiYmIUExOjw4cPq0WLFpo6daruu+8++fv7F1ePAAAAAADgfwoc5O+++26tX79eZcuW1cMPP6x//OMfqlGjRnH2BgAAAAAALlHgIO/r66ulS5eqa9eu8vT0LM6eAAAAAABAHgoc5FesWFGcfQAAAAAAgAK4qrvWAwAAAACAa4sgDwAAAACAhRDkAQAAAACwEII8AAAAAAAWQpAHAAAAAMBCCPIAAAAAAFgIQR4AAAAAAAshyAMAAAAAYCEEeQAAAAAALIQgDwAAAACAhRDkAQAAAACwEII8AAAAAAAWQpAHAAAAAMBCvNzdAFAU/kjPlCTt/TXJzZ0UTmp6pn459YduCfKVw9vT3e0UysHEs+5uAQAAALgpEeRxQzj0v1D53LJv3dzJzcffzm4EAAAAuJb4FzhuCB1qh0qSqpYrIV8LHdk+mHhWQ5fEakpUfVUrV8Ld7RSav91LEWX83d0GAAAAcFMhyOOGUNrfR39rUsndbVyxauVKqE6FQHe3AQAAAMACuNkdAAAAAAAWQpAHAAAAAMBCCPIAAAAAAFgIQR4AAAAAAAshyAMAAAAAYCEEeQAAAAAALIQgDwAAAACAhRDkAQAAAACwEII8AAAAAAAWQpAHAAAAAMBCCPIAAAAAAFgIQR4AAAAAAAtxe5CfMWOGIiIi5HA41KhRI23atCnf+unTpysyMlK+vr6qUaOGFixY4PJ+TEyMbDZbjiE1NbU4VwMAAAAAgGvCy50LX7JkiYYOHaoZM2aoZcuWmj17tjp37qx9+/apUqVKOepnzpyp6OhozZ07V7fffrt27NihgQMHKigoSN26dXPWBQQE6MCBAy7TOhyOYl8fAAAAAACKm1uD/OTJk9W/f38NGDBAkjRlyhStXr1aM2fO1Pjx43PU/+c//9E///lPRUVFSZKqVKmiL7/8UhMmTHAJ8jabTaGhoddmJQAAAAAAuIbcdmr9+fPntXv3bnXo0MFlfIcOHbR169Zcp0lLS8txZN3X11c7duxQenq6c9zZs2cVHh6uW265RV27dtWePXvy7SUtLU3JyckuAwAAAAAA1yO3BfkTJ04oMzNTISEhLuNDQkKUkJCQ6zQdO3bUm2++qd27d8sYo127dmnevHlKT0/XiRMnJEk1a9ZUTEyMVqxYoUWLFsnhcKhly5b68ccf8+xl/PjxCgwMdA4VK1YsuhUFAAAAAKAIuf1mdzabzeW1MSbHuGwjR45U586d1axZM3l7e6t79+7q16+fJMnT01OS1KxZMz300EOqV6+eWrVqpffee0/Vq1fX1KlT8+whOjpaSUlJzuHo0aNFs3IAAAAAABQxtwX5MmXKyNPTM8fR98TExBxH6bP5+vpq3rx5OnfunI4cOaK4uDhVrlxZJUuWVJkyZXKdxsPDQ7fffnu+R+TtdrsCAgJcBgAAAAAArkduC/I+Pj5q1KiR1q5d6zJ+7dq1atGiRb7Tent765ZbbpGnp6cWL16srl27ysMj91Uxxig2NlZhYWFF1jsAAAAAAO7i1rvWDx8+XH369FHjxo3VvHlzzZkzR3FxcRo0aJCkC6e8//rrr85nxf/www/asWOHmjZtqlOnTmny5Mnau3ev3n77bec8x44dq2bNmunWW29VcnKy3njjDcXGxmr69OluWUcAAAAAAIqSW4N8VFSUTp48qRdffFHx8fGqU6eOPvnkE4WHh0uS4uPjFRcX56zPzMzUpEmTdODAAXl7e6tt27baunWrKleu7Kw5ffq0HnnkESUkJCgwMFANGjTQxo0b1aRJk2u9egAAAAAAFDmbMca4u4nrTXJysgIDA5WUlMT18ihWe39NUtepm7XyyTtUp0Kgu9sBAAAA4CaFyaFuv2s9AAAAAAAoOII8AAAAAAAWQpAHAAAAAMBCCPIAAAAAAFgIQR4AAAAAAAshyAMAAAAAYCEEeQAAAAAALIQgDwAAAACAhRDkAQAAAACwEII8AAAAAAAWQpAHAAAAAMBCCPIAAAAAAFgIQR4AAAAAAAshyAMAAAAAYCEEeQAAAAAALIQgDwAAAACAhRDkAQAAAACwEII8AAAAAAAW4uXuBgAAAADgepSZmalNmzYpPj5eYWFhatWqlTw9Pd3dFsAReQAAAAC41LJly1StWjW1bdtWDzzwgNq2batq1app2bJl7m4NIMgDAAAAwMWWLVum3r17q27dutq2bZvOnDmjbdu2qW7duurduzdhHm5nM8YYdzdxvUlOTlZgYKCSkpIUEBDg7nZwA9v7a5K6Tt2slU/eoToVAt3dDgAAwE0vMzNT1apVU926dfXBBx/Iw+PPY59ZWVnq0aOH9u7dqx9//JHT7FGkCpNDOSIPAAAAAP+zadMmHTlyRM8//7xLiJckDw8PRUdH6/Dhw9q0aZObOgQI8gAAAADgFB8fL0mqU6dOru9nj8+uA9yBIA8AAAAA/xMWFiZJ2rt3b67vZ4/PrgPcgSAPAAAAAP/TqlUrVa5cWa+88oqysrJc3svKytL48eMVERGhVq1aualDgCAPAAAAAE6enp6aNGmSVq5cqR49erjctb5Hjx5auXKlJk6cyI3u4FZe7m4AAAAAAK4nvXr10vvvv6+nnnpKLVq0cI6PiIjQ+++/r169ermxO4AgDwAAAAA59OrVS927d9emTZsUHx+vsLAwtWrViiPxuC4Q5AEAAABY2rlz57R///5imbePr788g8rLx9dPX3/9dbEsQ5Jq1qwpPz+/Yps/biwEeQAAAACWtn//fjVq1MjdbVyV3bt3q2HDhu5uAxZBkAcAAABgaTVr1tTu3buLZd4HE89oyOJYvf63+qpWrmSxLEO6sA5AQRHkAQAAAFian59fsR3N9vk1SfYNZ1Wrbn3VqRBYLMsACovHzwEAAAAAYCEEeQAAAAAALIQgDwAAAACAhRDkAQAAAACwEII8AAAAAAAWQpAHAAAAAMBCCPIAAAAAAFgIQR4AAAAAAAshyAMAAAAAYCFe7m4AAAAAwM3h8IkUpaRluLuNQjmYeNblf63G3+6liDL+7m4DRYwgDwAAAKDYHT6RorYTN7i7jSs2dEmsu1u4YuufbkOYv8EQ5AEAAAAUu+wj8VOi6qtauRJu7qbgUtMz9cupP3RLkK8c3p7ubqdQDiae1dAlsZY7CwKXR5AHAAAAcM1UK1dCdSoEuruNQmlc2d0dAK7cHuRnzJihf//734qPj1ft2rU1ZcoUtWrVKs/66dOna9q0aTpy5IgqVaqkESNG6OGHH3apWbp0qUaOHKlDhw6patWqevnll9WzZ8/iXhXcoM6dO6f9+/cXy7wPJp5RWsJB7fu2hM7/VrJYliFJNWvWlJ+fX7HNHwAAAMC149Ygv2TJEg0dOlQzZsxQy5YtNXv2bHXu3Fn79u1TpUqVctTPnDlT0dHRmjt3rm6//Xbt2LFDAwcOVFBQkLp16yZJ2rZtm6KiojRu3Dj17NlTy5cv13333afNmzeradOm13oVcQPYv3+/GjVqVKzLiHq7WGev3bt3q2HDhsW7EAAAAADXhM0YY9y18KZNm6phw4aaOXOmc1xkZKR69Oih8ePH56hv0aKFWrZsqX//+9/OcUOHDtWuXbu0efNmSVJUVJSSk5P16aefOms6deqkoKAgLVq0qEB9JScnKzAwUElJSQoICLjS1cMNojiPyF+45uqcbgnyK9ZrrjgiDwAA3G3vr0nqNvMTvfFgVVW10DXyVnYo8awGLzykjx7tYrnLGW5Ghcmhbjsif/78ee3evVvPPfecy/gOHTpo69atuU6TlpYmh8PhMs7X11c7duxQenq6vL29tW3bNg0bNsylpmPHjpoyZUqR9o+bh5+fH0ezAQAAioB3qe16fscr7m7jpuJdqr2kLu5uA0XMbUH+xIkTyszMVEhIiMv4kJAQJSQk5DpNx44d9eabb6pHjx5q2LChdu/erXnz5ik9PV0nTpxQWFiYEhISCjVP6cIPBGlpac7XycnJV7FmAAAAAHKTfrqpJt3zAEfkr5HsI/K48bj9Znc2m83ltTEmx7hsI0eOVEJCgpo1ayZjjEJCQtSvXz+9+uqr8vT887TkwsxTksaPH6+xY8dexVoAAAAAuByTEaCIgBqqFcxp3tdCVmqSTMZxd7eBYuDhrgWXKVNGnp6eOY6UJyYm5jiins3X11fz5s3TuXPndOTIEcXFxaly5coqWbKkypQpI0kKDQ0t1DwlKTo6WklJSc7h6NGjV7l2AAAAAAAUD7cdkffx8VGjRo20du1al0fDrV27Vt27d893Wm9vb91yyy2SpMWLF6tr167y8Ljwm0Tz5s21du1al+vk16xZoxYtWuQ5P7vdLrvdfjWrAwAAACAff6RnSrpw0zsruXBz4j90S5Bvsd6cuDgcTDzr7hZQTNx6av3w4cPVp08fNW7cWM2bN9ecOXMUFxenQYMGSbpwpPzXX3/VggULJEk//PCDduzYoaZNm+rUqVOaPHmy9u7dq7ff/vPZXUOGDNGdd96pCRMmqHv37vrwww+1bt06513tAQAAAFx7h/4XKp9b9q2bO7n5+NvdfkU1iphbP9GoqCidPHlSL774ouLj41WnTh198sknCg8PlyTFx8crLi7OWZ+ZmalJkybpwIED8vb2Vtu2bbV161ZVrlzZWdOiRQstXrxYL7zwgkaOHKmqVatqyZIlPEMeAAAAcKMOtUMlSVXLlZCvhY5sH0w8q6FLYjUlqr6qWfAmff52L0WU8Xd3Gyhibn2O/PWK58gDAAAAkC5cCtB16matfPIOnsWOYlWYHOq2m90BAAAAAIDCI8gDAAAAAGAhBHkAAAAAACyEIA8AAAAAgIUQ5AEAAAAAsBCCPAAAAAAAFkKQBwAAAADAQrzc3QAAAAAAXI1z585p//79xTLvg4lnlJZwUPu+LaHzv5UslmVIUs2aNeXn51ds88eNhSAPAAAAwNL279+vRo0aFesyot4u1tlr9+7datiwYfEuBDcMgjwAAAAAS6tZs6Z2795dLPNOTc/UL6fO6ZYgPzm8PYtlGdKFdQAKiiAPAAAAwNL8/Pw4mo2bCje7AwAAAADAQgjyAAAAAABYCEEeAAAAAAALIcgDAAAAAGAhBHkAAAAAACyEIA8AAAAAgIUQ5AEAAAAAsBCCPAAAAAAAFkKQBwAAAADAQgjyAAAAAABYCEEeAAAAAAALIcgDAAAAAGAhBHkAAAAAACyEIA8AAAAAgIUQ5AEAAAAAsBCCPAAAAAAAFkKQBwAAAADAQgjyAAAAAABYCEEeAAAAAAALIcgDAAAAAGAhBHkAAAAAACyEIA8AAAAAgIUQ5AEAAAAAsBCCPAAAAAAAFkKQBwAAAADAQgjyAAAAAABYCEEeAAAAAAALIcgDAAAAAGAhBHkAAAAAACyEIA8AAAAAgIUQ5AEAAAAAsBCCPAAAAAAAFkKQBwAAAADAQgjyAAAAAABYCEEeAAAAAAALIcgDAAAAAGAhbg/yM2bMUEREhBwOhxo1aqRNmzblW79w4ULVq1dPfn5+CgsL09///nedPHnS+X5MTIxsNluOITU1tbhXBQAAAACAYufWIL9kyRINHTpUI0aM0J49e9SqVSt17txZcXFxudZv3rxZDz/8sPr376/vvvtO//3vf7Vz504NGDDApS4gIEDx8fEug8PhuBarBAAAAABAsXJrkJ88ebL69++vAQMGKDIyUlOmTFHFihU1c+bMXOu//PJLVa5cWYMHD1ZERITuuOMO/fOf/9SuXbtc6mw2m0JDQ10GAAAAAABuBG4L8ufPn9fu3bvVoUMHl/EdOnTQ1q1bc52mRYsW+uWXX/TJJ5/IGKPffvtN77//vu655x6XurNnzyo8PFy33HKLunbtqj179hTbegAAAAAAcC25LcifOHFCmZmZCgkJcRkfEhKihISEXKdp0aKFFi5cqKioKPn4+Cg0NFSlSpXS1KlTnTU1a9ZUTEyMVqxYoUWLFsnhcKhly5b68ccf8+wlLS1NycnJLgMAAAAAANcjt9/szmazubw2xuQYl23fvn0aPHiwRo0apd27d2vVqlU6fPiwBg0a5Kxp1qyZHnroIdWrV0+tWrXSe++9p+rVq7uE/UuNHz9egYGBzqFixYpFs3IAAAAAABQxtwX5MmXKyNPTM8fR98TExBxH6bONHz9eLVu21L/+9S/ddttt6tixo2bMmKF58+YpPj4+12k8PDx0++2353tEPjo6WklJSc7h6NGjV75iAAAAAAAUI7cFeR8fHzVq1Ehr1651Gb927Vq1aNEi12nOnTsnDw/Xlj09PSVdOJKfG2OMYmNjFRYWlmcvdrtdAQEBLgMAAAAAANcjL3cufPjw4erTp48aN26s5s2ba86cOYqLi3OeKh8dHa1ff/1VCxYskCR169ZNAwcO1MyZM9WxY0fFx8dr6NChatKkicqXLy9JGjt2rJo1a6Zbb71VycnJeuONNxQbG6vp06e7bT0BAAAAACgqbg3yUVFROnnypF588UXFx8erTp06+uSTTxQeHi5Jio+Pd3mmfL9+/XTmzBlNmzZNTz31lEqVKqV27dppwoQJzprTp0/rkUceUUJCggIDA9WgQQNt3LhRTZo0uebrBwAAAABAUbOZvM5Jv4klJycrMDBQSUlJnGYPAAAAACh2hcmhbr9rPQAAAAAAKDiCPAAAAAAAFkKQBwAAAADAQgjyAAAAAABYCEEeAAAAAAALIcgDAAAAAGAhBHkAAAAAACyEIA8AAAAAgIUQ5AEAAAAAsBCCPAAAAAAAFkKQBwAAAADAQgjyAAAAAABYCEEeAAAAAAALIcgDAAAAAGAhBHkAAAAAACyEIA8AAAAAgIUQ5AEAAAAAsBCCPAAAAAAAFkKQBwAAAADAQgjyAAAAAABYCEEeAAAAAAALIcgDAAAAAGAhBHkAAAAAACyEIA8AAAAAgIUQ5AEAAAAAsBCCPAAAAAAAFkKQBwAAAADAQgjyAAAAAABYCEEeAAAAAAALIcgDAAAAAGAhBHkAAAAAACyEIA8AAAAAgIUQ5AEAAAAAsBCCPAAAAAAAFkKQBwAAAADAQgjyAAAAAABYCEEeAAAAAAALIcgDAAAAAGAhBHkAAAAAACyEIA8AAAAAgIUQ5AEAAAAAsBCCPAAAAAAAFkKQBwAAAADAQgjyAAAAAABYCEEeAAAAAAALIcgDAAAAAGAhBHkAAAAAACzE7UF+xowZioiIkMPhUKNGjbRp06Z86xcuXKh69erJz89PYWFh+vvf/66TJ0+61CxdulS1atWS3W5XrVq1tHz58uJcBQAAAAAArhm3BvklS5Zo6NChGjFihPbs2aNWrVqpc+fOiouLy7V+8+bNevjhh9W/f3999913+u9//6udO3dqwIABzppt27YpKipKffr00ddff60+ffrovvvu0/bt26/VagEAAAAAUGxsxhjjroU3bdpUDRs21MyZM53jIiMj1aNHD40fPz5H/cSJEzVz5kwdOnTIOW7q1Kl69dVXdfToUUlSVFSUkpOT9emnnzprOnXqpKCgIC1atKhAfSUnJyswMFBJSUkKCAi40tUDAAAAAKBACpNDva5RTzmcP39eu3fv1nPPPecyvkOHDtq6dWuu07Ro0UIjRozQJ598os6dOysxMVHvv/++7rnnHmfNtm3bNGzYMJfpOnbsqClTpuTZS1pamtLS0pyvk5KSJF3YkAAAAAAAFLfs/FmQY+1uC/InTpxQZmamQkJCXMaHhIQoISEh12latGihhQsXKioqSqmpqcrIyNBf/vIXTZ061VmTkJBQqHlK0vjx4zV27Ngc4ytWrFiYVQIAAAAA4KqcOXNGgYGB+da4Lchns9lsLq+NMTnGZdu3b58GDx6sUaNGqWPHjoqPj9e//vUvDRo0SG+99dYVzVOSoqOjNXz4cOfrrKws/f777woODs53OuBqJScnq2LFijp69CiXcQC4IbBfA3CjYb+Ga8UYozNnzqh8+fKXrXVbkC9Tpow8PT1zHClPTEzMcUQ92/jx49WyZUv961//kiTddttt8vf3V6tWrfTSSy8pLCxMoaGhhZqnJNntdtntdpdxpUqVuoK1Aq5MQEAA/8cA4IbCfg3AjYb9Gq6Fyx2Jz+a2u9b7+PioUaNGWrt2rcv4tWvXqkWLFrlOc+7cOXl4uLbs6ekp6c/rCJo3b55jnmvWrMlzngAAAAAAWIlbT60fPny4+vTpo8aNG6t58+aaM2eO4uLiNGjQIEkXTnn/9ddftWDBAklSt27dNHDgQM2cOdN5av3QoUPVpEkT5+kHQ4YM0Z133qkJEyaoe/fu+vDDD7Vu3Tpt3rzZbesJAAAAAEBRcWuQj4qK0smTJ/Xiiy8qPj5ederU0SeffKLw8HBJUnx8vMsz5fv166czZ85o2rRpeuqpp1SqVCm1a9dOEyZMcNa0aNFCixcv1gsvvKCRI0eqatWqWrJkiZo2bXrN1w+4HLvdrtGjR+e4tAMArIr9GoAbDfs1XI/c+hx5AAAAAABQOG67Rh4AAAAAABQeQR4AAAAAAAshyAMAAAAAYCEEeQAAAAC4AjExMSpVqpS728BNiCAPuMmRI0dks9kUGxvr7lYA4LrQpk0bDR061N1tAABw3SPIAwAAAABgIQR5oBitWrVKd9xxh0qVKqXg4GB17dpVhw4dkiRFRERIkho0aCCbzaY2bdo4p5s/f74iIyPlcDhUs2ZNzZgxwx3tA7gJZWVlacKECapWrZrsdrsqVaqkl19+WZL07bffql27dvL19VVwcLAeeeQRnT171jltv3791KNHD02cOFFhYWEKDg7W448/rvT0dGfNjBkzdOutt8rhcCgkJES9e/d2TvvFF1/o9ddfl81mk81m05EjR67pugO4cb3//vuqW7euc/911113KSUlRZI0b9481a5dW3a7XWFhYXriiSec002ePFl169aVv7+/KlasqMcee8xlv5ebjz76SI0aNZLD4VCVKlU0duxYZWRkFOv64ebj5e4GgBtZSkqKhg8frrp16yolJUWjRo1Sz549FRsbqx07dqhJkyZat26dateuLR8fH0nS3LlzNXr0aE2bNk0NGjTQnj17NHDgQPn7+6tv375uXiMAN7ro6GjNnTtXr732mu644w7Fx8dr//79OnfunDp16qRmzZpp586dSkxM1IABA/TEE08oJibGOf369esVFham9evX6+DBg4qKilL9+vU1cOBA7dq1S4MHD9Z//vMftWjRQr///rs2bdokSXr99df1ww8/qE6dOnrxxRclSWXLlnXHJgBwg4mPj9f999+vV199VT179tSZM2e0adMmGWM0c+ZMDR8+XP/3f/+nzp07KykpSVu2bHFO6+HhoTfeeEOVK1fW4cOH9dhjj+mZZ57J8yDL6tWr9dBDD+mNN95Qq1atdOjQIT3yyCOSpNGjR1+T9cVNwgC4ZhITE40k8+2335rDhw8bSWbPnj0uNRUrVjTvvvuuy7hx48aZ5s2bX8NOAdyMkpOTjd1uN3Pnzs3x3pw5c0xQUJA5e/asc9zHH39sPDw8TEJCgjHGmL59+5rw8HCTkZHhrLn33ntNVFSUMcaYpUuXmoCAAJOcnJzr8lu3bm2GDBlShGsEAMbs3r3bSDJHjhzJ8V758uXNiBEjCjyv9957zwQHBztfz58/3wQGBjpft2rVyrzyyisu0/znP/8xYWFhhW8cyAdH5IFidOjQIY0cOVJffvmlTpw4oaysLElSXFycatWqlaP++PHjOnr0qPr376+BAwc6x2dkZCgwMPCa9Q3g5vT9998rLS1N7du3z/W9evXqyd/f3zmuZcuWysrK0oEDBxQSEiJJql27tjw9PZ01YWFh+vbbbyVJd999t8LDw1WlShV16tRJnTp1Us+ePeXn51fMawbgZlavXj21b99edevWVceOHdWhQwf17t1b6enpOnbsWK77vGzr16/XK6+8on379ik5OVkZGRlKTU1VSkqKy/4w2+7du7Vz507nJUmSlJmZqdTUVJ07d479HYoM18gDxahbt246efKk5s6dq+3bt2v79u2SpPPnz+danx30586dq9jYWOewd+9effnll9esbwA3J19f3zzfM8bIZrPl+t7F4729vXO8l71vK1mypL766istWrRIYWFhGjVqlOrVq6fTp09fffMAkAdPT0+tXbtWn376qWrVqqWpU6eqRo0a+u233/Kd7ueff1aXLl1Up04dLV26VLt379b06dMlyeXeHxfLysrS2LFjXf4d9+233+rHH3+Uw+Eo8nXDzYsgDxSTkydP6vvvv9cLL7yg9u3bKzIyUqdOnXK+n31NfGZmpnNcSEiIKlSooJ9++knVqlVzGbJvjgcAxeXWW2+Vr6+vPvvssxzv1apVS7Gxsc6bQ0nSli1b5OHhoerVqxd4GV5eXrrrrrv06quv6ptvvtGRI0f0+eefS7qwX7x4nwgARcVms6lly5YaO3as9uzZIx8fH61du1aVK1fOdZ8nSbt27VJGRoYmTZqkZs2aqXr16jp27Fi+y2nYsKEOHDiQ499x1apVk4cH0QtFh1PrgWISFBSk4OBgzZkzR2FhYYqLi9Nzzz3nfL9cuXLy9fXVqlWrdMstt8jhcCgwMFBjxozR4MGDFRAQoM6dOystLU27du3SqVOnNHz4cDeuEYAbncPh0LPPPqtnnnlGPj4+atmypY4fP67vvvtODz74oEaPHq2+fftqzJgxOn78uJ588kn16dPHeVr95axcuVI//fST7rzzTgUFBemTTz5RVlaWatSoIUmqXLmytm/friNHjqhEiRIqXbo0//AFcNW2b9+uzz77TB06dFC5cuW0fft2HT9+XJGRkRozZowGDRqkcuXKqXPnzjpz5oy2bNmiJ598UlWrVlVGRoamTp2qbt26acuWLZo1a1a+yxo1apS6du2qihUr6t5775WHh4e++eYbffvtt3rppZeu0RrjpuDui/SBG9natWtNZGSksdvt5rbbbjMbNmwwkszy5cuNMcbMnTvXVKxY0Xh4eJjWrVs7p1u4cKGpX7++8fHxMUFBQebOO+80y5Ytc89KALipZGZmmpdeesmEh4cbb29vU6lSJeeNm7755hvTtm1b43A4TOnSpc3AgQPNmTNnnNP27dvXdO/e3WV+Q4YMce7fNm3aZFq3bm2CgoKMr6+vue2228ySJUuctQcOHDDNmjUzvr6+RpI5fPhwca8ugJvAvn37TMeOHU3ZsmWN3W431atXN1OnTnW+P2vWLFOjRg3j7e1twsLCzJNPPul8b/LkySYsLMz4+vqajh07mgULFhhJ5tSpU8aYnDe7M8aYVatWmRYtWhhfX18TEBBgmjRpYubMmXMtVhU3EZsxxrj5twQAAAAAAFBAnK8GAAAAAICFEOQBAAAAALAQgjwAAAAAABZCkAcAAAAAwEII8gAAAAAAWAhBHgAAAAAACyHIAwAAAABgIQR5AAAAAAAshCAPAAAAAICFEOQBAAAAALAQgjwAAAAAABZCkAcAAAAAwEL+H7glva1uxWfzAAAAAElFTkSuQmCC",
      "text/plain": [
       "<Figure size 1200x600 with 1 Axes>"
      ]
     },
     "metadata": {},
     "output_type": "display_data"
    }
   ],
   "source": [
    "plt.figure(figsize=(12, 6))\n",
    "\n",
    "# Boxplot\n",
    "box = discrete_small_covariates_results.boxplot(column=[\"ate\", \"const\", \"scale\"], grid=False)\n",
    "\n",
    "# Adding lines for the true parameters\n",
    "plt.axhline(y=TRUE_PARAMS['ate'], color='r', linestyle='--', label='True ate')\n",
    "plt.axhline(y=TRUE_PARAMS['const'], color='g', linestyle='--', label='True const')\n",
    "plt.axhline(y=TRUE_PARAMS['scale'], color='b', linestyle='--', label='True scale')\n",
    "\n",
    "# Adding title and labels\n",
    "plt.title('Box and Whisker Plot for ATE, Const, and Scale')\n",
    "plt.ylabel('Values')\n",
    "plt.ylim([0.80, 1.20])\n",
    "plt.legend()"
   ]
  },
  {
   "cell_type": "markdown",
   "id": "253dfdcb-2777-43c2-a323-93fa3a7a4315",
   "metadata": {},
   "source": [
    "### Mixed Continuous and Discrete (Large)"
   ]
  },
  {
   "cell_type": "code",
   "execution_count": 29,
   "id": "36562e65-1a00-46c0-a9af-dc25f38573bc",
   "metadata": {},
   "outputs": [
    {
     "name": "stderr",
     "output_type": "stream",
     "text": [
      "R[write to console]: Inversion method selected: using pair-copula parameterization\n",
      "\n",
      "  1%|  | 131/10000 [15:41<19:41:56,  7.19s/it, train=1.1953795135133856, val=1.348373944782334 (Max patience reached)]\n",
      "R[write to console]: Inversion method selected: using pair-copula parameterization\n",
      "\n"
     ]
    },
    {
     "name": "stdout",
     "output_type": "stream",
     "text": [
      "[array([ 1.05427593, -0.08736104,  0.91915739])]\n"
     ]
    },
    {
     "name": "stderr",
     "output_type": "stream",
     "text": [
      "  1%| | 122/10000 [15:16<20:36:11,  7.51s/it, train=1.1623345787683452, val=1.4229851696610099 (Max patience reached)]\n",
      "R[write to console]: Inversion method selected: using pair-copula parameterization\n",
      "\n"
     ]
    },
    {
     "name": "stdout",
     "output_type": "stream",
     "text": [
      "[array([ 1.05427593, -0.08736104,  0.91915739]), array([0.95277027, 0.07397882, 0.9421322 ])]\n"
     ]
    },
    {
     "name": "stderr",
     "output_type": "stream",
     "text": [
      "  1%|  | 122/10000 [03:51<5:11:45,  1.89s/it, train=1.1907184805163356, val=1.3809949987008963 (Max patience reached)]\n",
      "R[write to console]: Inversion method selected: using pair-copula parameterization\n",
      "\n"
     ]
    },
    {
     "name": "stdout",
     "output_type": "stream",
     "text": [
      "[array([ 1.05427593, -0.08736104,  0.91915739]), array([0.95277027, 0.07397882, 0.9421322 ]), array([ 0.99045006, -0.00182283,  0.92603161])]\n"
     ]
    },
    {
     "name": "stderr",
     "output_type": "stream",
     "text": [
      "  1%|  | 129/10000 [02:46<3:32:36,  1.29s/it, train=1.1972109171445053, val=1.3344001490347768 (Max patience reached)]\n",
      "R[write to console]: Inversion method selected: using pair-copula parameterization\n",
      "\n"
     ]
    },
    {
     "name": "stdout",
     "output_type": "stream",
     "text": [
      "[array([ 1.05427593, -0.08736104,  0.91915739]), array([0.95277027, 0.07397882, 0.9421322 ]), array([ 0.99045006, -0.00182283,  0.92603161]), array([0.97819273, 0.06038856, 0.92732969])]\n"
     ]
    },
    {
     "name": "stderr",
     "output_type": "stream",
     "text": [
      "  1%|  | 111/10000 [02:24<3:34:32,  1.30s/it, train=1.1752065508797362, val=1.3604959170030642 (Max patience reached)]\n",
      "R[write to console]: Inversion method selected: using pair-copula parameterization\n",
      "\n"
     ]
    },
    {
     "name": "stdout",
     "output_type": "stream",
     "text": [
      "[array([ 1.05427593, -0.08736104,  0.91915739]), array([0.95277027, 0.07397882, 0.9421322 ]), array([ 0.99045006, -0.00182283,  0.92603161]), array([0.97819273, 0.06038856, 0.92732969]), array([0.83736056, 0.14510923, 0.93207431])]\n"
     ]
    },
    {
     "name": "stderr",
     "output_type": "stream",
     "text": [
      "  1%|  | 132/10000 [02:51<3:33:57,  1.30s/it, train=1.2702980694131112, val=1.3597180721826045 (Max patience reached)]\n",
      "R[write to console]: Inversion method selected: using pair-copula parameterization\n",
      "\n"
     ]
    },
    {
     "name": "stdout",
     "output_type": "stream",
     "text": [
      "[array([ 1.05427593, -0.08736104,  0.91915739]), array([0.95277027, 0.07397882, 0.9421322 ]), array([ 0.99045006, -0.00182283,  0.92603161]), array([0.97819273, 0.06038856, 0.92732969]), array([0.83736056, 0.14510923, 0.93207431]), array([ 1.09241051, -0.07840146,  0.92330171])]\n"
     ]
    },
    {
     "name": "stderr",
     "output_type": "stream",
     "text": [
      "  1%|  | 122/10000 [02:34<3:28:24,  1.27s/it, train=1.1760375195911608, val=1.3978949246272863 (Max patience reached)]\n",
      "R[write to console]: Inversion method selected: using pair-copula parameterization\n",
      "\n"
     ]
    },
    {
     "name": "stdout",
     "output_type": "stream",
     "text": [
      "[array([ 1.05427593, -0.08736104,  0.91915739]), array([0.95277027, 0.07397882, 0.9421322 ]), array([ 0.99045006, -0.00182283,  0.92603161]), array([0.97819273, 0.06038856, 0.92732969]), array([0.83736056, 0.14510923, 0.93207431]), array([ 1.09241051, -0.07840146,  0.92330171]), array([ 1.01835082, -0.01678226,  0.91493742])]\n"
     ]
    },
    {
     "name": "stderr",
     "output_type": "stream",
     "text": [
      "  1%|  | 127/10000 [02:48<3:38:33,  1.33s/it, train=1.1965016332111151, val=1.3802196393948019 (Max patience reached)]\n",
      "R[write to console]: Inversion method selected: using pair-copula parameterization\n",
      "\n"
     ]
    },
    {
     "name": "stdout",
     "output_type": "stream",
     "text": [
      "[array([ 1.05427593, -0.08736104,  0.91915739]), array([0.95277027, 0.07397882, 0.9421322 ]), array([ 0.99045006, -0.00182283,  0.92603161]), array([0.97819273, 0.06038856, 0.92732969]), array([0.83736056, 0.14510923, 0.93207431]), array([ 1.09241051, -0.07840146,  0.92330171]), array([ 1.01835082, -0.01678226,  0.91493742]), array([0.93426035, 0.05761487, 0.93267894])]\n"
     ]
    },
    {
     "name": "stderr",
     "output_type": "stream",
     "text": [
      "  1%|   | 135/10000 [02:44<3:20:07,  1.22s/it, train=1.2054716792130837, val=1.356109050419122 (Max patience reached)]\n",
      "R[write to console]: Inversion method selected: using pair-copula parameterization\n",
      "\n"
     ]
    },
    {
     "name": "stdout",
     "output_type": "stream",
     "text": [
      "[array([ 1.05427593, -0.08736104,  0.91915739]), array([0.95277027, 0.07397882, 0.9421322 ]), array([ 0.99045006, -0.00182283,  0.92603161]), array([0.97819273, 0.06038856, 0.92732969]), array([0.83736056, 0.14510923, 0.93207431]), array([ 1.09241051, -0.07840146,  0.92330171]), array([ 1.01835082, -0.01678226,  0.91493742]), array([0.93426035, 0.05761487, 0.93267894]), array([ 1.07461164, -0.05107443,  0.9185772 ])]\n"
     ]
    },
    {
     "name": "stderr",
     "output_type": "stream",
     "text": [
      "  1%|  | 131/10000 [02:49<3:33:16,  1.30s/it, train=1.2120261885142767, val=1.3440638962476326 (Max patience reached)]\n",
      "R[write to console]: Inversion method selected: using pair-copula parameterization\n",
      "\n"
     ]
    },
    {
     "name": "stdout",
     "output_type": "stream",
     "text": [
      "[array([ 1.05427593, -0.08736104,  0.91915739]), array([0.95277027, 0.07397882, 0.9421322 ]), array([ 0.99045006, -0.00182283,  0.92603161]), array([0.97819273, 0.06038856, 0.92732969]), array([0.83736056, 0.14510923, 0.93207431]), array([ 1.09241051, -0.07840146,  0.92330171]), array([ 1.01835082, -0.01678226,  0.91493742]), array([0.93426035, 0.05761487, 0.93267894]), array([ 1.07461164, -0.05107443,  0.9185772 ]), array([ 1.02946112, -0.05370836,  0.93592564])]\n"
     ]
    },
    {
     "name": "stderr",
     "output_type": "stream",
     "text": [
      "  1%|  | 125/10000 [02:39<3:30:19,  1.28s/it, train=1.1771402797897388, val=1.3718655359993615 (Max patience reached)]\n",
      "R[write to console]: Inversion method selected: using pair-copula parameterization\n",
      "\n"
     ]
    },
    {
     "name": "stdout",
     "output_type": "stream",
     "text": [
      "[array([ 1.05427593, -0.08736104,  0.91915739]), array([0.95277027, 0.07397882, 0.9421322 ]), array([ 0.99045006, -0.00182283,  0.92603161]), array([0.97819273, 0.06038856, 0.92732969]), array([0.83736056, 0.14510923, 0.93207431]), array([ 1.09241051, -0.07840146,  0.92330171]), array([ 1.01835082, -0.01678226,  0.91493742]), array([0.93426035, 0.05761487, 0.93267894]), array([ 1.07461164, -0.05107443,  0.9185772 ]), array([ 1.02946112, -0.05370836,  0.93592564]), array([1.00374898, 0.0121649 , 0.93503055])]\n"
     ]
    },
    {
     "name": "stderr",
     "output_type": "stream",
     "text": [
      "  1%|  | 136/10000 [02:52<3:28:02,  1.27s/it, train=1.2022535251217716, val=1.4027160092273314 (Max patience reached)]\n",
      "R[write to console]: Inversion method selected: using pair-copula parameterization\n",
      "\n"
     ]
    },
    {
     "name": "stdout",
     "output_type": "stream",
     "text": [
      "[array([ 1.05427593, -0.08736104,  0.91915739]), array([0.95277027, 0.07397882, 0.9421322 ]), array([ 0.99045006, -0.00182283,  0.92603161]), array([0.97819273, 0.06038856, 0.92732969]), array([0.83736056, 0.14510923, 0.93207431]), array([ 1.09241051, -0.07840146,  0.92330171]), array([ 1.01835082, -0.01678226,  0.91493742]), array([0.93426035, 0.05761487, 0.93267894]), array([ 1.07461164, -0.05107443,  0.9185772 ]), array([ 1.02946112, -0.05370836,  0.93592564]), array([1.00374898, 0.0121649 , 0.93503055]), array([ 1.02471881e+00, -3.30837444e-04,  9.23359277e-01])]\n"
     ]
    },
    {
     "name": "stderr",
     "output_type": "stream",
     "text": [
      "  1%|  | 129/10000 [02:43<3:28:13,  1.27s/it, train=1.1812685666881906, val=1.3776659099647577 (Max patience reached)]\n",
      "R[write to console]: Inversion method selected: using pair-copula parameterization\n",
      "\n"
     ]
    },
    {
     "name": "stdout",
     "output_type": "stream",
     "text": [
      "[array([ 1.05427593, -0.08736104,  0.91915739]), array([0.95277027, 0.07397882, 0.9421322 ]), array([ 0.99045006, -0.00182283,  0.92603161]), array([0.97819273, 0.06038856, 0.92732969]), array([0.83736056, 0.14510923, 0.93207431]), array([ 1.09241051, -0.07840146,  0.92330171]), array([ 1.01835082, -0.01678226,  0.91493742]), array([0.93426035, 0.05761487, 0.93267894]), array([ 1.07461164, -0.05107443,  0.9185772 ]), array([ 1.02946112, -0.05370836,  0.93592564]), array([1.00374898, 0.0121649 , 0.93503055]), array([ 1.02471881e+00, -3.30837444e-04,  9.23359277e-01]), array([ 1.00617151, -0.01498136,  0.91294656])]\n"
     ]
    },
    {
     "name": "stderr",
     "output_type": "stream",
     "text": [
      "  1%|   | 115/10000 [02:25<3:28:59,  1.27s/it, train=1.2034088769311182, val=1.358637166535196 (Max patience reached)]\n",
      "R[write to console]: Inversion method selected: using pair-copula parameterization\n",
      "\n"
     ]
    },
    {
     "name": "stdout",
     "output_type": "stream",
     "text": [
      "[array([ 1.05427593, -0.08736104,  0.91915739]), array([0.95277027, 0.07397882, 0.9421322 ]), array([ 0.99045006, -0.00182283,  0.92603161]), array([0.97819273, 0.06038856, 0.92732969]), array([0.83736056, 0.14510923, 0.93207431]), array([ 1.09241051, -0.07840146,  0.92330171]), array([ 1.01835082, -0.01678226,  0.91493742]), array([0.93426035, 0.05761487, 0.93267894]), array([ 1.07461164, -0.05107443,  0.9185772 ]), array([ 1.02946112, -0.05370836,  0.93592564]), array([1.00374898, 0.0121649 , 0.93503055]), array([ 1.02471881e+00, -3.30837444e-04,  9.23359277e-01]), array([ 1.00617151, -0.01498136,  0.91294656]), array([0.93493568, 0.06965788, 0.93954881])]\n"
     ]
    },
    {
     "name": "stderr",
     "output_type": "stream",
     "text": [
      "  1%|  | 121/10000 [02:33<3:29:31,  1.27s/it, train=1.1365097957063204, val=1.3905592973246732 (Max patience reached)]\n",
      "R[write to console]: Inversion method selected: using pair-copula parameterization\n",
      "\n"
     ]
    },
    {
     "name": "stdout",
     "output_type": "stream",
     "text": [
      "[array([ 1.05427593, -0.08736104,  0.91915739]), array([0.95277027, 0.07397882, 0.9421322 ]), array([ 0.99045006, -0.00182283,  0.92603161]), array([0.97819273, 0.06038856, 0.92732969]), array([0.83736056, 0.14510923, 0.93207431]), array([ 1.09241051, -0.07840146,  0.92330171]), array([ 1.01835082, -0.01678226,  0.91493742]), array([0.93426035, 0.05761487, 0.93267894]), array([ 1.07461164, -0.05107443,  0.9185772 ]), array([ 1.02946112, -0.05370836,  0.93592564]), array([1.00374898, 0.0121649 , 0.93503055]), array([ 1.02471881e+00, -3.30837444e-04,  9.23359277e-01]), array([ 1.00617151, -0.01498136,  0.91294656]), array([0.93493568, 0.06965788, 0.93954881]), array([0.95203489, 0.09317762, 0.95006399])]\n"
     ]
    },
    {
     "name": "stderr",
     "output_type": "stream",
     "text": [
      "  2%|  | 236/10000 [04:49<3:19:41,  1.23s/it, train=1.2628791995821433, val=1.3421196070386971 (Max patience reached)]\n",
      "R[write to console]: Inversion method selected: using pair-copula parameterization\n",
      "\n"
     ]
    },
    {
     "name": "stdout",
     "output_type": "stream",
     "text": [
      "[array([ 1.05427593, -0.08736104,  0.91915739]), array([0.95277027, 0.07397882, 0.9421322 ]), array([ 0.99045006, -0.00182283,  0.92603161]), array([0.97819273, 0.06038856, 0.92732969]), array([0.83736056, 0.14510923, 0.93207431]), array([ 1.09241051, -0.07840146,  0.92330171]), array([ 1.01835082, -0.01678226,  0.91493742]), array([0.93426035, 0.05761487, 0.93267894]), array([ 1.07461164, -0.05107443,  0.9185772 ]), array([ 1.02946112, -0.05370836,  0.93592564]), array([1.00374898, 0.0121649 , 0.93503055]), array([ 1.02471881e+00, -3.30837444e-04,  9.23359277e-01]), array([ 1.00617151, -0.01498136,  0.91294656]), array([0.93493568, 0.06965788, 0.93954881]), array([0.95203489, 0.09317762, 0.95006399]), array([ 1.14333814, -0.15877488,  0.9349344 ])]\n"
     ]
    },
    {
     "name": "stderr",
     "output_type": "stream",
     "text": [
      "  1%|  | 110/10000 [02:15<3:23:05,  1.23s/it, train=1.1882380123608758, val=1.4130329023054704 (Max patience reached)]\n",
      "R[write to console]: Inversion method selected: using pair-copula parameterization\n",
      "\n"
     ]
    },
    {
     "name": "stdout",
     "output_type": "stream",
     "text": [
      "[array([ 1.05427593, -0.08736104,  0.91915739]), array([0.95277027, 0.07397882, 0.9421322 ]), array([ 0.99045006, -0.00182283,  0.92603161]), array([0.97819273, 0.06038856, 0.92732969]), array([0.83736056, 0.14510923, 0.93207431]), array([ 1.09241051, -0.07840146,  0.92330171]), array([ 1.01835082, -0.01678226,  0.91493742]), array([0.93426035, 0.05761487, 0.93267894]), array([ 1.07461164, -0.05107443,  0.9185772 ]), array([ 1.02946112, -0.05370836,  0.93592564]), array([1.00374898, 0.0121649 , 0.93503055]), array([ 1.02471881e+00, -3.30837444e-04,  9.23359277e-01]), array([ 1.00617151, -0.01498136,  0.91294656]), array([0.93493568, 0.06965788, 0.93954881]), array([0.95203489, 0.09317762, 0.95006399]), array([ 1.14333814, -0.15877488,  0.9349344 ]), array([0.80431957, 0.18860524, 0.91268947])]\n"
     ]
    },
    {
     "name": "stderr",
     "output_type": "stream",
     "text": [
      "  1%|   | 130/10000 [02:36<3:17:49,  1.20s/it, train=1.1772970278115127, val=1.381973686705267 (Max patience reached)]\n",
      "R[write to console]: Inversion method selected: using pair-copula parameterization\n",
      "\n"
     ]
    },
    {
     "name": "stdout",
     "output_type": "stream",
     "text": [
      "[array([ 1.05427593, -0.08736104,  0.91915739]), array([0.95277027, 0.07397882, 0.9421322 ]), array([ 0.99045006, -0.00182283,  0.92603161]), array([0.97819273, 0.06038856, 0.92732969]), array([0.83736056, 0.14510923, 0.93207431]), array([ 1.09241051, -0.07840146,  0.92330171]), array([ 1.01835082, -0.01678226,  0.91493742]), array([0.93426035, 0.05761487, 0.93267894]), array([ 1.07461164, -0.05107443,  0.9185772 ]), array([ 1.02946112, -0.05370836,  0.93592564]), array([1.00374898, 0.0121649 , 0.93503055]), array([ 1.02471881e+00, -3.30837444e-04,  9.23359277e-01]), array([ 1.00617151, -0.01498136,  0.91294656]), array([0.93493568, 0.06965788, 0.93954881]), array([0.95203489, 0.09317762, 0.95006399]), array([ 1.14333814, -0.15877488,  0.9349344 ]), array([0.80431957, 0.18860524, 0.91268947]), array([0.99271584, 0.00395674, 0.91491235])]\n"
     ]
    },
    {
     "name": "stderr",
     "output_type": "stream",
     "text": [
      "  2%|  | 154/10000 [03:12<3:24:43,  1.25s/it, train=1.2214525971265926, val=1.3504273596307235 (Max patience reached)]\n",
      "R[write to console]: Inversion method selected: using pair-copula parameterization\n",
      "\n"
     ]
    },
    {
     "name": "stdout",
     "output_type": "stream",
     "text": [
      "[array([ 1.05427593, -0.08736104,  0.91915739]), array([0.95277027, 0.07397882, 0.9421322 ]), array([ 0.99045006, -0.00182283,  0.92603161]), array([0.97819273, 0.06038856, 0.92732969]), array([0.83736056, 0.14510923, 0.93207431]), array([ 1.09241051, -0.07840146,  0.92330171]), array([ 1.01835082, -0.01678226,  0.91493742]), array([0.93426035, 0.05761487, 0.93267894]), array([ 1.07461164, -0.05107443,  0.9185772 ]), array([ 1.02946112, -0.05370836,  0.93592564]), array([1.00374898, 0.0121649 , 0.93503055]), array([ 1.02471881e+00, -3.30837444e-04,  9.23359277e-01]), array([ 1.00617151, -0.01498136,  0.91294656]), array([0.93493568, 0.06965788, 0.93954881]), array([0.95203489, 0.09317762, 0.95006399]), array([ 1.14333814, -0.15877488,  0.9349344 ]), array([0.80431957, 0.18860524, 0.91268947]), array([0.99271584, 0.00395674, 0.91491235]), array([0.99698656, 0.00972095, 0.93423035])]\n"
     ]
    },
    {
     "name": "stderr",
     "output_type": "stream",
     "text": [
      "  1%|  | 113/10000 [02:21<3:26:50,  1.26s/it, train=1.2298268647459445, val=1.3539354065436744 (Max patience reached)]\n",
      "R[write to console]: Inversion method selected: using pair-copula parameterization\n",
      "\n"
     ]
    },
    {
     "name": "stdout",
     "output_type": "stream",
     "text": [
      "[array([ 1.05427593, -0.08736104,  0.91915739]), array([0.95277027, 0.07397882, 0.9421322 ]), array([ 0.99045006, -0.00182283,  0.92603161]), array([0.97819273, 0.06038856, 0.92732969]), array([0.83736056, 0.14510923, 0.93207431]), array([ 1.09241051, -0.07840146,  0.92330171]), array([ 1.01835082, -0.01678226,  0.91493742]), array([0.93426035, 0.05761487, 0.93267894]), array([ 1.07461164, -0.05107443,  0.9185772 ]), array([ 1.02946112, -0.05370836,  0.93592564]), array([1.00374898, 0.0121649 , 0.93503055]), array([ 1.02471881e+00, -3.30837444e-04,  9.23359277e-01]), array([ 1.00617151, -0.01498136,  0.91294656]), array([0.93493568, 0.06965788, 0.93954881]), array([0.95203489, 0.09317762, 0.95006399]), array([ 1.14333814, -0.15877488,  0.9349344 ]), array([0.80431957, 0.18860524, 0.91268947]), array([0.99271584, 0.00395674, 0.91491235]), array([0.99698656, 0.00972095, 0.93423035]), array([0.9061847 , 0.09414188, 0.92024711])]\n"
     ]
    },
    {
     "name": "stderr",
     "output_type": "stream",
     "text": [
      "  2%|  | 154/10000 [03:10<3:23:13,  1.24s/it, train=1.2028307601799981, val=1.3785294641446815 (Max patience reached)]\n",
      "R[write to console]: Inversion method selected: using pair-copula parameterization\n",
      "\n"
     ]
    },
    {
     "name": "stdout",
     "output_type": "stream",
     "text": [
      "[array([ 1.05427593, -0.08736104,  0.91915739]), array([0.95277027, 0.07397882, 0.9421322 ]), array([ 0.99045006, -0.00182283,  0.92603161]), array([0.97819273, 0.06038856, 0.92732969]), array([0.83736056, 0.14510923, 0.93207431]), array([ 1.09241051, -0.07840146,  0.92330171]), array([ 1.01835082, -0.01678226,  0.91493742]), array([0.93426035, 0.05761487, 0.93267894]), array([ 1.07461164, -0.05107443,  0.9185772 ]), array([ 1.02946112, -0.05370836,  0.93592564]), array([1.00374898, 0.0121649 , 0.93503055]), array([ 1.02471881e+00, -3.30837444e-04,  9.23359277e-01]), array([ 1.00617151, -0.01498136,  0.91294656]), array([0.93493568, 0.06965788, 0.93954881]), array([0.95203489, 0.09317762, 0.95006399]), array([ 1.14333814, -0.15877488,  0.9349344 ]), array([0.80431957, 0.18860524, 0.91268947]), array([0.99271584, 0.00395674, 0.91491235]), array([0.99698656, 0.00972095, 0.93423035]), array([0.9061847 , 0.09414188, 0.92024711]), array([ 1.08714849, -0.05863632,  0.91856571])]\n"
     ]
    },
    {
     "name": "stderr",
     "output_type": "stream",
     "text": [
      "  1%|  | 126/10000 [02:36<3:24:10,  1.24s/it, train=1.1977389462815844, val=1.3570677950329653 (Max patience reached)]\n",
      "R[write to console]: Inversion method selected: using pair-copula parameterization\n",
      "\n"
     ]
    },
    {
     "name": "stdout",
     "output_type": "stream",
     "text": [
      "[array([ 1.05427593, -0.08736104,  0.91915739]), array([0.95277027, 0.07397882, 0.9421322 ]), array([ 0.99045006, -0.00182283,  0.92603161]), array([0.97819273, 0.06038856, 0.92732969]), array([0.83736056, 0.14510923, 0.93207431]), array([ 1.09241051, -0.07840146,  0.92330171]), array([ 1.01835082, -0.01678226,  0.91493742]), array([0.93426035, 0.05761487, 0.93267894]), array([ 1.07461164, -0.05107443,  0.9185772 ]), array([ 1.02946112, -0.05370836,  0.93592564]), array([1.00374898, 0.0121649 , 0.93503055]), array([ 1.02471881e+00, -3.30837444e-04,  9.23359277e-01]), array([ 1.00617151, -0.01498136,  0.91294656]), array([0.93493568, 0.06965788, 0.93954881]), array([0.95203489, 0.09317762, 0.95006399]), array([ 1.14333814, -0.15877488,  0.9349344 ]), array([0.80431957, 0.18860524, 0.91268947]), array([0.99271584, 0.00395674, 0.91491235]), array([0.99698656, 0.00972095, 0.93423035]), array([0.9061847 , 0.09414188, 0.92024711]), array([ 1.08714849, -0.05863632,  0.91856571]), array([ 0.98347226, -0.00645032,  0.92190503])]\n"
     ]
    },
    {
     "name": "stderr",
     "output_type": "stream",
     "text": [
      "  1%|  | 131/10000 [02:39<3:20:07,  1.22s/it, train=1.2454540364776037, val=1.3116699486901333 (Max patience reached)]\n",
      "R[write to console]: Inversion method selected: using pair-copula parameterization\n",
      "\n"
     ]
    },
    {
     "name": "stdout",
     "output_type": "stream",
     "text": [
      "[array([ 1.05427593, -0.08736104,  0.91915739]), array([0.95277027, 0.07397882, 0.9421322 ]), array([ 0.99045006, -0.00182283,  0.92603161]), array([0.97819273, 0.06038856, 0.92732969]), array([0.83736056, 0.14510923, 0.93207431]), array([ 1.09241051, -0.07840146,  0.92330171]), array([ 1.01835082, -0.01678226,  0.91493742]), array([0.93426035, 0.05761487, 0.93267894]), array([ 1.07461164, -0.05107443,  0.9185772 ]), array([ 1.02946112, -0.05370836,  0.93592564]), array([1.00374898, 0.0121649 , 0.93503055]), array([ 1.02471881e+00, -3.30837444e-04,  9.23359277e-01]), array([ 1.00617151, -0.01498136,  0.91294656]), array([0.93493568, 0.06965788, 0.93954881]), array([0.95203489, 0.09317762, 0.95006399]), array([ 1.14333814, -0.15877488,  0.9349344 ]), array([0.80431957, 0.18860524, 0.91268947]), array([0.99271584, 0.00395674, 0.91491235]), array([0.99698656, 0.00972095, 0.93423035]), array([0.9061847 , 0.09414188, 0.92024711]), array([ 1.08714849, -0.05863632,  0.91856571]), array([ 0.98347226, -0.00645032,  0.92190503]), array([0.98224333, 0.00140774, 0.93035806])]\n"
     ]
    },
    {
     "name": "stderr",
     "output_type": "stream",
     "text": [
      "  1%|   | 116/10000 [02:21<3:20:35,  1.22s/it, train=1.1988670335078917, val=1.346546297254502 (Max patience reached)]\n",
      "R[write to console]: Inversion method selected: using pair-copula parameterization\n",
      "\n"
     ]
    },
    {
     "name": "stdout",
     "output_type": "stream",
     "text": [
      "[array([ 1.05427593, -0.08736104,  0.91915739]), array([0.95277027, 0.07397882, 0.9421322 ]), array([ 0.99045006, -0.00182283,  0.92603161]), array([0.97819273, 0.06038856, 0.92732969]), array([0.83736056, 0.14510923, 0.93207431]), array([ 1.09241051, -0.07840146,  0.92330171]), array([ 1.01835082, -0.01678226,  0.91493742]), array([0.93426035, 0.05761487, 0.93267894]), array([ 1.07461164, -0.05107443,  0.9185772 ]), array([ 1.02946112, -0.05370836,  0.93592564]), array([1.00374898, 0.0121649 , 0.93503055]), array([ 1.02471881e+00, -3.30837444e-04,  9.23359277e-01]), array([ 1.00617151, -0.01498136,  0.91294656]), array([0.93493568, 0.06965788, 0.93954881]), array([0.95203489, 0.09317762, 0.95006399]), array([ 1.14333814, -0.15877488,  0.9349344 ]), array([0.80431957, 0.18860524, 0.91268947]), array([0.99271584, 0.00395674, 0.91491235]), array([0.99698656, 0.00972095, 0.93423035]), array([0.9061847 , 0.09414188, 0.92024711]), array([ 1.08714849, -0.05863632,  0.91856571]), array([ 0.98347226, -0.00645032,  0.92190503]), array([0.98224333, 0.00140774, 0.93035806]), array([0.94193911, 0.04978163, 0.92434285])]\n"
     ]
    },
    {
     "name": "stderr",
     "output_type": "stream",
     "text": [
      "  1%|   | 132/10000 [02:39<3:19:05,  1.21s/it, train=1.1637279166328796, val=1.357808042725395 (Max patience reached)]"
     ]
    },
    {
     "name": "stdout",
     "output_type": "stream",
     "text": [
      "[array([ 1.05427593, -0.08736104,  0.91915739]), array([0.95277027, 0.07397882, 0.9421322 ]), array([ 0.99045006, -0.00182283,  0.92603161]), array([0.97819273, 0.06038856, 0.92732969]), array([0.83736056, 0.14510923, 0.93207431]), array([ 1.09241051, -0.07840146,  0.92330171]), array([ 1.01835082, -0.01678226,  0.91493742]), array([0.93426035, 0.05761487, 0.93267894]), array([ 1.07461164, -0.05107443,  0.9185772 ]), array([ 1.02946112, -0.05370836,  0.93592564]), array([1.00374898, 0.0121649 , 0.93503055]), array([ 1.02471881e+00, -3.30837444e-04,  9.23359277e-01]), array([ 1.00617151, -0.01498136,  0.91294656]), array([0.93493568, 0.06965788, 0.93954881]), array([0.95203489, 0.09317762, 0.95006399]), array([ 1.14333814, -0.15877488,  0.9349344 ]), array([0.80431957, 0.18860524, 0.91268947]), array([0.99271584, 0.00395674, 0.91491235]), array([0.99698656, 0.00972095, 0.93423035]), array([0.9061847 , 0.09414188, 0.92024711]), array([ 1.08714849, -0.05863632,  0.91856571]), array([ 0.98347226, -0.00645032,  0.92190503]), array([0.98224333, 0.00140774, 0.93035806]), array([0.94193911, 0.04978163, 0.92434285]), array([0.95427292, 0.02614306, 0.92379283])]\n"
     ]
    },
    {
     "name": "stderr",
     "output_type": "stream",
     "text": [
      "\n"
     ]
    }
   ],
   "source": [
    "hyperparams_dict_large = hyperparams_dict.copy()\n",
    "# hyperparams_dict_large['learning_rate'] = 1e-3\n",
    "discrete_big_covariates_results = causl_py.run_simulations(\n",
    "    causl_py.generate_many_discrete_samples, \n",
    "    seed=SEED, \n",
    "    num_samples=NUM_SAMPLES, \n",
    "    num_iter=NUM_ITER, \n",
    "    causal_params=CAUSAL_PARAMS,\n",
    "    hyperparams_dict=hyperparams_dict_large,\n",
    "    causal_model_args={'ate': 0., 'const': 0., 'scale': 1}\n",
    ")"
   ]
  },
  {
   "cell_type": "code",
   "execution_count": 30,
   "id": "c3ae6fe1-cd77-46fe-84b5-68d8bfbbea89",
   "metadata": {},
   "outputs": [
    {
     "data": {
      "text/html": [
       "<div>\n",
       "<style scoped>\n",
       "    .dataframe tbody tr th:only-of-type {\n",
       "        vertical-align: middle;\n",
       "    }\n",
       "\n",
       "    .dataframe tbody tr th {\n",
       "        vertical-align: top;\n",
       "    }\n",
       "\n",
       "    .dataframe thead th {\n",
       "        text-align: right;\n",
       "    }\n",
       "</style>\n",
       "<table border=\"1\" class=\"dataframe\">\n",
       "  <thead>\n",
       "    <tr style=\"text-align: right;\">\n",
       "      <th></th>\n",
       "      <th>ate</th>\n",
       "      <th>const</th>\n",
       "      <th>scale</th>\n",
       "    </tr>\n",
       "  </thead>\n",
       "  <tbody>\n",
       "    <tr>\n",
       "      <th>0</th>\n",
       "      <td>1.054276</td>\n",
       "      <td>-0.087361</td>\n",
       "      <td>0.919157</td>\n",
       "    </tr>\n",
       "    <tr>\n",
       "      <th>1</th>\n",
       "      <td>0.952770</td>\n",
       "      <td>0.073979</td>\n",
       "      <td>0.942132</td>\n",
       "    </tr>\n",
       "    <tr>\n",
       "      <th>2</th>\n",
       "      <td>0.990450</td>\n",
       "      <td>-0.001823</td>\n",
       "      <td>0.926032</td>\n",
       "    </tr>\n",
       "    <tr>\n",
       "      <th>3</th>\n",
       "      <td>0.978193</td>\n",
       "      <td>0.060389</td>\n",
       "      <td>0.927330</td>\n",
       "    </tr>\n",
       "    <tr>\n",
       "      <th>4</th>\n",
       "      <td>0.837361</td>\n",
       "      <td>0.145109</td>\n",
       "      <td>0.932074</td>\n",
       "    </tr>\n",
       "    <tr>\n",
       "      <th>5</th>\n",
       "      <td>1.092411</td>\n",
       "      <td>-0.078401</td>\n",
       "      <td>0.923302</td>\n",
       "    </tr>\n",
       "    <tr>\n",
       "      <th>6</th>\n",
       "      <td>1.018351</td>\n",
       "      <td>-0.016782</td>\n",
       "      <td>0.914937</td>\n",
       "    </tr>\n",
       "    <tr>\n",
       "      <th>7</th>\n",
       "      <td>0.934260</td>\n",
       "      <td>0.057615</td>\n",
       "      <td>0.932679</td>\n",
       "    </tr>\n",
       "    <tr>\n",
       "      <th>8</th>\n",
       "      <td>1.074612</td>\n",
       "      <td>-0.051074</td>\n",
       "      <td>0.918577</td>\n",
       "    </tr>\n",
       "    <tr>\n",
       "      <th>9</th>\n",
       "      <td>1.029461</td>\n",
       "      <td>-0.053708</td>\n",
       "      <td>0.935926</td>\n",
       "    </tr>\n",
       "    <tr>\n",
       "      <th>10</th>\n",
       "      <td>1.003749</td>\n",
       "      <td>0.012165</td>\n",
       "      <td>0.935031</td>\n",
       "    </tr>\n",
       "    <tr>\n",
       "      <th>11</th>\n",
       "      <td>1.024719</td>\n",
       "      <td>-0.000331</td>\n",
       "      <td>0.923359</td>\n",
       "    </tr>\n",
       "    <tr>\n",
       "      <th>12</th>\n",
       "      <td>1.006172</td>\n",
       "      <td>-0.014981</td>\n",
       "      <td>0.912947</td>\n",
       "    </tr>\n",
       "    <tr>\n",
       "      <th>13</th>\n",
       "      <td>0.934936</td>\n",
       "      <td>0.069658</td>\n",
       "      <td>0.939549</td>\n",
       "    </tr>\n",
       "    <tr>\n",
       "      <th>14</th>\n",
       "      <td>0.952035</td>\n",
       "      <td>0.093178</td>\n",
       "      <td>0.950064</td>\n",
       "    </tr>\n",
       "    <tr>\n",
       "      <th>15</th>\n",
       "      <td>1.143338</td>\n",
       "      <td>-0.158775</td>\n",
       "      <td>0.934934</td>\n",
       "    </tr>\n",
       "    <tr>\n",
       "      <th>16</th>\n",
       "      <td>0.804320</td>\n",
       "      <td>0.188605</td>\n",
       "      <td>0.912689</td>\n",
       "    </tr>\n",
       "    <tr>\n",
       "      <th>17</th>\n",
       "      <td>0.992716</td>\n",
       "      <td>0.003957</td>\n",
       "      <td>0.914912</td>\n",
       "    </tr>\n",
       "    <tr>\n",
       "      <th>18</th>\n",
       "      <td>0.996987</td>\n",
       "      <td>0.009721</td>\n",
       "      <td>0.934230</td>\n",
       "    </tr>\n",
       "    <tr>\n",
       "      <th>19</th>\n",
       "      <td>0.906185</td>\n",
       "      <td>0.094142</td>\n",
       "      <td>0.920247</td>\n",
       "    </tr>\n",
       "    <tr>\n",
       "      <th>20</th>\n",
       "      <td>1.087148</td>\n",
       "      <td>-0.058636</td>\n",
       "      <td>0.918566</td>\n",
       "    </tr>\n",
       "    <tr>\n",
       "      <th>21</th>\n",
       "      <td>0.983472</td>\n",
       "      <td>-0.006450</td>\n",
       "      <td>0.921905</td>\n",
       "    </tr>\n",
       "    <tr>\n",
       "      <th>22</th>\n",
       "      <td>0.982243</td>\n",
       "      <td>0.001408</td>\n",
       "      <td>0.930358</td>\n",
       "    </tr>\n",
       "    <tr>\n",
       "      <th>23</th>\n",
       "      <td>0.941939</td>\n",
       "      <td>0.049782</td>\n",
       "      <td>0.924343</td>\n",
       "    </tr>\n",
       "    <tr>\n",
       "      <th>24</th>\n",
       "      <td>0.954273</td>\n",
       "      <td>0.026143</td>\n",
       "      <td>0.923793</td>\n",
       "    </tr>\n",
       "  </tbody>\n",
       "</table>\n",
       "</div>"
      ],
      "text/plain": [
       "         ate     const     scale\n",
       "0   1.054276 -0.087361  0.919157\n",
       "1   0.952770  0.073979  0.942132\n",
       "2   0.990450 -0.001823  0.926032\n",
       "3   0.978193  0.060389  0.927330\n",
       "4   0.837361  0.145109  0.932074\n",
       "5   1.092411 -0.078401  0.923302\n",
       "6   1.018351 -0.016782  0.914937\n",
       "7   0.934260  0.057615  0.932679\n",
       "8   1.074612 -0.051074  0.918577\n",
       "9   1.029461 -0.053708  0.935926\n",
       "10  1.003749  0.012165  0.935031\n",
       "11  1.024719 -0.000331  0.923359\n",
       "12  1.006172 -0.014981  0.912947\n",
       "13  0.934936  0.069658  0.939549\n",
       "14  0.952035  0.093178  0.950064\n",
       "15  1.143338 -0.158775  0.934934\n",
       "16  0.804320  0.188605  0.912689\n",
       "17  0.992716  0.003957  0.914912\n",
       "18  0.996987  0.009721  0.934230\n",
       "19  0.906185  0.094142  0.920247\n",
       "20  1.087148 -0.058636  0.918566\n",
       "21  0.983472 -0.006450  0.921905\n",
       "22  0.982243  0.001408  0.930358\n",
       "23  0.941939  0.049782  0.924343\n",
       "24  0.954273  0.026143  0.923793"
      ]
     },
     "execution_count": 30,
     "metadata": {},
     "output_type": "execute_result"
    }
   ],
   "source": [
    "discrete_big_covariates_results"
   ]
  },
  {
   "cell_type": "code",
   "execution_count": 31,
   "id": "68ec886c-429a-4159-a96a-411e9e7128c6",
   "metadata": {},
   "outputs": [
    {
     "name": "stdout",
     "output_type": "stream",
     "text": [
      "ate      0.987055\n",
      "const    0.014301\n",
      "scale    0.926763\n",
      "dtype: float64\n",
      "ate      0.075327\n",
      "const    0.075896\n",
      "scale    0.009704\n",
      "dtype: float64\n"
     ]
    }
   ],
   "source": [
    "print(discrete_big_covariates_results.mean())\n",
    "print(discrete_big_covariates_results.std())"
   ]
  },
  {
   "cell_type": "markdown",
   "id": "02c48dc5-a72f-41ea-b6c5-0832b83e1302",
   "metadata": {},
   "source": [
    "#### Outcome Regression"
   ]
  },
  {
   "cell_type": "code",
   "execution_count": 32,
   "id": "27779e38-02f2-4b8a-8508-ba5aba1794fc",
   "metadata": {},
   "outputs": [
    {
     "name": "stderr",
     "output_type": "stream",
     "text": [
      "R[write to console]: Inversion method selected: using pair-copula parameterization\n",
      "\n",
      "R[write to console]: Inversion method selected: using pair-copula parameterization\n",
      "\n",
      "R[write to console]: Inversion method selected: using pair-copula parameterization\n",
      "\n",
      "R[write to console]: Inversion method selected: using pair-copula parameterization\n",
      "\n",
      "R[write to console]: Inversion method selected: using pair-copula parameterization\n",
      "\n",
      "R[write to console]: Inversion method selected: using pair-copula parameterization\n",
      "\n",
      "R[write to console]: Inversion method selected: using pair-copula parameterization\n",
      "\n",
      "R[write to console]: Inversion method selected: using pair-copula parameterization\n",
      "\n",
      "R[write to console]: Inversion method selected: using pair-copula parameterization\n",
      "\n",
      "R[write to console]: Inversion method selected: using pair-copula parameterization\n",
      "\n",
      "R[write to console]: Inversion method selected: using pair-copula parameterization\n",
      "\n",
      "R[write to console]: Inversion method selected: using pair-copula parameterization\n",
      "\n",
      "R[write to console]: Inversion method selected: using pair-copula parameterization\n",
      "\n",
      "R[write to console]: Inversion method selected: using pair-copula parameterization\n",
      "\n",
      "R[write to console]: Inversion method selected: using pair-copula parameterization\n",
      "\n",
      "R[write to console]: Inversion method selected: using pair-copula parameterization\n",
      "\n",
      "R[write to console]: Inversion method selected: using pair-copula parameterization\n",
      "\n",
      "R[write to console]: Inversion method selected: using pair-copula parameterization\n",
      "\n",
      "R[write to console]: Inversion method selected: using pair-copula parameterization\n",
      "\n",
      "R[write to console]: Inversion method selected: using pair-copula parameterization\n",
      "\n",
      "R[write to console]: Inversion method selected: using pair-copula parameterization\n",
      "\n",
      "R[write to console]: Inversion method selected: using pair-copula parameterization\n",
      "\n",
      "R[write to console]: Inversion method selected: using pair-copula parameterization\n",
      "\n",
      "R[write to console]: Inversion method selected: using pair-copula parameterization\n",
      "\n",
      "R[write to console]: Inversion method selected: using pair-copula parameterization\n",
      "\n"
     ]
    },
    {
     "data": {
      "text/html": [
       "<div>\n",
       "<style scoped>\n",
       "    .dataframe tbody tr th:only-of-type {\n",
       "        vertical-align: middle;\n",
       "    }\n",
       "\n",
       "    .dataframe tbody tr th {\n",
       "        vertical-align: top;\n",
       "    }\n",
       "\n",
       "    .dataframe thead th {\n",
       "        text-align: right;\n",
       "    }\n",
       "</style>\n",
       "<table border=\"1\" class=\"dataframe\">\n",
       "  <thead>\n",
       "    <tr style=\"text-align: right;\">\n",
       "      <th></th>\n",
       "      <th>ate</th>\n",
       "      <th>const</th>\n",
       "    </tr>\n",
       "  </thead>\n",
       "  <tbody>\n",
       "    <tr>\n",
       "      <th>0</th>\n",
       "      <td>1.201828</td>\n",
       "      <td>-1.058444</td>\n",
       "    </tr>\n",
       "    <tr>\n",
       "      <th>1</th>\n",
       "      <td>1.127912</td>\n",
       "      <td>-1.007568</td>\n",
       "    </tr>\n",
       "    <tr>\n",
       "      <th>2</th>\n",
       "      <td>1.136132</td>\n",
       "      <td>-0.938096</td>\n",
       "    </tr>\n",
       "    <tr>\n",
       "      <th>3</th>\n",
       "      <td>1.086296</td>\n",
       "      <td>-0.891585</td>\n",
       "    </tr>\n",
       "    <tr>\n",
       "      <th>4</th>\n",
       "      <td>1.095603</td>\n",
       "      <td>-0.928102</td>\n",
       "    </tr>\n",
       "    <tr>\n",
       "      <th>5</th>\n",
       "      <td>1.132852</td>\n",
       "      <td>-0.968091</td>\n",
       "    </tr>\n",
       "    <tr>\n",
       "      <th>6</th>\n",
       "      <td>1.161188</td>\n",
       "      <td>-0.990236</td>\n",
       "    </tr>\n",
       "    <tr>\n",
       "      <th>7</th>\n",
       "      <td>1.101890</td>\n",
       "      <td>-0.947668</td>\n",
       "    </tr>\n",
       "    <tr>\n",
       "      <th>8</th>\n",
       "      <td>1.101443</td>\n",
       "      <td>-0.963804</td>\n",
       "    </tr>\n",
       "    <tr>\n",
       "      <th>9</th>\n",
       "      <td>1.102871</td>\n",
       "      <td>-0.971020</td>\n",
       "    </tr>\n",
       "    <tr>\n",
       "      <th>10</th>\n",
       "      <td>1.120675</td>\n",
       "      <td>-0.939694</td>\n",
       "    </tr>\n",
       "    <tr>\n",
       "      <th>11</th>\n",
       "      <td>1.130093</td>\n",
       "      <td>-0.989830</td>\n",
       "    </tr>\n",
       "    <tr>\n",
       "      <th>12</th>\n",
       "      <td>1.130573</td>\n",
       "      <td>-0.947102</td>\n",
       "    </tr>\n",
       "    <tr>\n",
       "      <th>13</th>\n",
       "      <td>1.147014</td>\n",
       "      <td>-1.020729</td>\n",
       "    </tr>\n",
       "    <tr>\n",
       "      <th>14</th>\n",
       "      <td>1.095171</td>\n",
       "      <td>-0.925020</td>\n",
       "    </tr>\n",
       "    <tr>\n",
       "      <th>15</th>\n",
       "      <td>1.176299</td>\n",
       "      <td>-0.997851</td>\n",
       "    </tr>\n",
       "    <tr>\n",
       "      <th>16</th>\n",
       "      <td>1.133814</td>\n",
       "      <td>-0.955717</td>\n",
       "    </tr>\n",
       "    <tr>\n",
       "      <th>17</th>\n",
       "      <td>1.128113</td>\n",
       "      <td>-0.970385</td>\n",
       "    </tr>\n",
       "    <tr>\n",
       "      <th>18</th>\n",
       "      <td>1.107277</td>\n",
       "      <td>-0.925055</td>\n",
       "    </tr>\n",
       "    <tr>\n",
       "      <th>19</th>\n",
       "      <td>1.188049</td>\n",
       "      <td>-1.012343</td>\n",
       "    </tr>\n",
       "    <tr>\n",
       "      <th>20</th>\n",
       "      <td>1.178843</td>\n",
       "      <td>-1.028121</td>\n",
       "    </tr>\n",
       "    <tr>\n",
       "      <th>21</th>\n",
       "      <td>1.144888</td>\n",
       "      <td>-1.000470</td>\n",
       "    </tr>\n",
       "    <tr>\n",
       "      <th>22</th>\n",
       "      <td>1.097402</td>\n",
       "      <td>-0.948123</td>\n",
       "    </tr>\n",
       "    <tr>\n",
       "      <th>23</th>\n",
       "      <td>1.122385</td>\n",
       "      <td>-0.919335</td>\n",
       "    </tr>\n",
       "    <tr>\n",
       "      <th>24</th>\n",
       "      <td>1.140089</td>\n",
       "      <td>-0.980789</td>\n",
       "    </tr>\n",
       "  </tbody>\n",
       "</table>\n",
       "</div>"
      ],
      "text/plain": [
       "         ate     const\n",
       "0   1.201828 -1.058444\n",
       "1   1.127912 -1.007568\n",
       "2   1.136132 -0.938096\n",
       "3   1.086296 -0.891585\n",
       "4   1.095603 -0.928102\n",
       "5   1.132852 -0.968091\n",
       "6   1.161188 -0.990236\n",
       "7   1.101890 -0.947668\n",
       "8   1.101443 -0.963804\n",
       "9   1.102871 -0.971020\n",
       "10  1.120675 -0.939694\n",
       "11  1.130093 -0.989830\n",
       "12  1.130573 -0.947102\n",
       "13  1.147014 -1.020729\n",
       "14  1.095171 -0.925020\n",
       "15  1.176299 -0.997851\n",
       "16  1.133814 -0.955717\n",
       "17  1.128113 -0.970385\n",
       "18  1.107277 -0.925055\n",
       "19  1.188049 -1.012343\n",
       "20  1.178843 -1.028121\n",
       "21  1.144888 -1.000470\n",
       "22  1.097402 -0.948123\n",
       "23  1.122385 -0.919335\n",
       "24  1.140089 -0.980789"
      ]
     },
     "execution_count": 32,
     "metadata": {},
     "output_type": "execute_result"
    }
   ],
   "source": [
    "outcome_coeffs = {'ate': [], 'const': []}\n",
    "for i in range(NUM_ITER):\n",
    "    data = causl_py.generate_many_discrete_samples(N=NUM_SAMPLES, causal_params=CAUSAL_PARAMS, seed=i)\n",
    "    coeff_X, coeff_const = run_outcome_regression(data)\n",
    "    outcome_coeffs['ate'].append(coeff_X)\n",
    "    outcome_coeffs['const'].append(coeff_const)\n",
    "outcome_coeffs = pd.DataFrame.from_dict(outcome_coeffs)\n",
    "outcome_coeffs"
   ]
  },
  {
   "cell_type": "code",
   "execution_count": 33,
   "id": "767d19d9-6213-4bb5-9c18-e2ecac4e041a",
   "metadata": {},
   "outputs": [
    {
     "name": "stdout",
     "output_type": "stream",
     "text": [
      "ate      1.131548\n",
      "const   -0.969007\n",
      "dtype: float64\n",
      "ate      0.030973\n",
      "const    0.039674\n",
      "dtype: float64\n"
     ]
    }
   ],
   "source": [
    "print(outcome_coeffs.mean())\n",
    "print(outcome_coeffs.std())"
   ]
  },
  {
   "cell_type": "code",
   "execution_count": 34,
   "id": "c47dae7e-8039-4563-9692-b76280d41d19",
   "metadata": {},
   "outputs": [
    {
     "data": {
      "text/plain": [
       "<matplotlib.legend.Legend at 0x4088193d0>"
      ]
     },
     "execution_count": 34,
     "metadata": {},
     "output_type": "execute_result"
    },
    {
     "data": {
      "image/png": "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",
      "text/plain": [
       "<Figure size 1200x600 with 1 Axes>"
      ]
     },
     "metadata": {},
     "output_type": "display_data"
    }
   ],
   "source": [
    "plt.figure(figsize=(12, 6))\n",
    "\n",
    "# Boxplot\n",
    "box = discrete_big_covariates_results.boxplot(column=[\"ate\", \"const\", \"scale\"], grid=False)\n",
    "\n",
    "# Adding lines for the true parameters\n",
    "plt.axhline(y=TRUE_PARAMS['ate'], color='r', linestyle='--', label='True ate')\n",
    "plt.axhline(y=TRUE_PARAMS['const'], color='g', linestyle='--', label='True const')\n",
    "plt.axhline(y=TRUE_PARAMS['scale'], color='b', linestyle='--', label='True scale')\n",
    "\n",
    "# Adding title and labels\n",
    "plt.title('Box and Whisker Plot for ATE, Const, and Scale')\n",
    "plt.ylabel('Values')\n",
    "plt.ylim([0.80, 1.20])\n",
    "plt.legend()"
   ]
  },
  {
   "cell_type": "markdown",
   "id": "0df62c19-ca34-4ec2-8bd3-6ab2e8415bad",
   "metadata": {},
   "source": [
    "### Mixed Continuous and Discrete (Large and Sparse)"
   ]
  },
  {
   "cell_type": "code",
   "execution_count": 35,
   "id": "1a031e67-e801-4b0e-b6af-55f109930780",
   "metadata": {},
   "outputs": [],
   "source": [
    "# discrete_sparse_covariates_results = causl_py.run_simulations(\n",
    "#     causl_py.generate_many_discrete_samples_sparse, \n",
    "#     seed=SEED, \n",
    "#     num_samples=NUM_SAMPLES, \n",
    "#     num_iter=NUM_ITER, \n",
    "#     causal_params=CAUSAL_PARAMS,\n",
    "#     hyperparams_dict=hyperparams_dict,\n",
    "#     causal_model_args={'ate': 0., 'const': 0., 'scale': 1}\n",
    "# )\n",
    "# discrete_sparse_covariates_results"
   ]
  },
  {
   "cell_type": "code",
   "execution_count": 36,
   "id": "04cc7229-2d61-4ef6-a8b7-e645985c403e",
   "metadata": {},
   "outputs": [],
   "source": [
    "# print(discrete_sparse_covariates_results.mean())\n",
    "# print(discrete_sparse_covariates_results.std())"
   ]
  },
  {
   "cell_type": "markdown",
   "id": "54dd564b-29ee-4620-85d8-71423b86f833",
   "metadata": {},
   "source": [
    "#### Outcome Regression"
   ]
  },
  {
   "cell_type": "code",
   "execution_count": 37,
   "id": "4dc3caa6-75a6-4194-a734-1dcbfefee4c2",
   "metadata": {},
   "outputs": [
    {
     "name": "stderr",
     "output_type": "stream",
     "text": [
      "R[write to console]: Inversion method selected: using pair-copula parameterization\n",
      "\n",
      "R[write to console]: Inversion method selected: using pair-copula parameterization\n",
      "\n",
      "R[write to console]: Inversion method selected: using pair-copula parameterization\n",
      "\n",
      "R[write to console]: Inversion method selected: using pair-copula parameterization\n",
      "\n",
      "R[write to console]: Inversion method selected: using pair-copula parameterization\n",
      "\n",
      "R[write to console]: Inversion method selected: using pair-copula parameterization\n",
      "\n",
      "R[write to console]: Inversion method selected: using pair-copula parameterization\n",
      "\n",
      "R[write to console]: Inversion method selected: using pair-copula parameterization\n",
      "\n",
      "R[write to console]: Inversion method selected: using pair-copula parameterization\n",
      "\n",
      "R[write to console]: Inversion method selected: using pair-copula parameterization\n",
      "\n",
      "R[write to console]: Inversion method selected: using pair-copula parameterization\n",
      "\n",
      "R[write to console]: Inversion method selected: using pair-copula parameterization\n",
      "\n",
      "R[write to console]: Inversion method selected: using pair-copula parameterization\n",
      "\n",
      "R[write to console]: Inversion method selected: using pair-copula parameterization\n",
      "\n",
      "R[write to console]: Inversion method selected: using pair-copula parameterization\n",
      "\n",
      "R[write to console]: Inversion method selected: using pair-copula parameterization\n",
      "\n",
      "R[write to console]: Inversion method selected: using pair-copula parameterization\n",
      "\n",
      "R[write to console]: Inversion method selected: using pair-copula parameterization\n",
      "\n",
      "R[write to console]: Inversion method selected: using pair-copula parameterization\n",
      "\n",
      "R[write to console]: Inversion method selected: using pair-copula parameterization\n",
      "\n",
      "R[write to console]: Inversion method selected: using pair-copula parameterization\n",
      "\n",
      "R[write to console]: Inversion method selected: using pair-copula parameterization\n",
      "\n",
      "R[write to console]: Inversion method selected: using pair-copula parameterization\n",
      "\n",
      "R[write to console]: Inversion method selected: using pair-copula parameterization\n",
      "\n",
      "R[write to console]: Inversion method selected: using pair-copula parameterization\n",
      "\n"
     ]
    },
    {
     "data": {
      "text/html": [
       "<div>\n",
       "<style scoped>\n",
       "    .dataframe tbody tr th:only-of-type {\n",
       "        vertical-align: middle;\n",
       "    }\n",
       "\n",
       "    .dataframe tbody tr th {\n",
       "        vertical-align: top;\n",
       "    }\n",
       "\n",
       "    .dataframe thead th {\n",
       "        text-align: right;\n",
       "    }\n",
       "</style>\n",
       "<table border=\"1\" class=\"dataframe\">\n",
       "  <thead>\n",
       "    <tr style=\"text-align: right;\">\n",
       "      <th></th>\n",
       "      <th>ate</th>\n",
       "      <th>const</th>\n",
       "    </tr>\n",
       "  </thead>\n",
       "  <tbody>\n",
       "    <tr>\n",
       "      <th>0</th>\n",
       "      <td>1.201828</td>\n",
       "      <td>-1.058444</td>\n",
       "    </tr>\n",
       "    <tr>\n",
       "      <th>1</th>\n",
       "      <td>1.127912</td>\n",
       "      <td>-1.007568</td>\n",
       "    </tr>\n",
       "    <tr>\n",
       "      <th>2</th>\n",
       "      <td>1.136132</td>\n",
       "      <td>-0.938096</td>\n",
       "    </tr>\n",
       "    <tr>\n",
       "      <th>3</th>\n",
       "      <td>1.086296</td>\n",
       "      <td>-0.891585</td>\n",
       "    </tr>\n",
       "    <tr>\n",
       "      <th>4</th>\n",
       "      <td>1.095603</td>\n",
       "      <td>-0.928102</td>\n",
       "    </tr>\n",
       "    <tr>\n",
       "      <th>5</th>\n",
       "      <td>1.132852</td>\n",
       "      <td>-0.968091</td>\n",
       "    </tr>\n",
       "    <tr>\n",
       "      <th>6</th>\n",
       "      <td>1.161188</td>\n",
       "      <td>-0.990236</td>\n",
       "    </tr>\n",
       "    <tr>\n",
       "      <th>7</th>\n",
       "      <td>1.101890</td>\n",
       "      <td>-0.947668</td>\n",
       "    </tr>\n",
       "    <tr>\n",
       "      <th>8</th>\n",
       "      <td>1.101443</td>\n",
       "      <td>-0.963804</td>\n",
       "    </tr>\n",
       "    <tr>\n",
       "      <th>9</th>\n",
       "      <td>1.102871</td>\n",
       "      <td>-0.971020</td>\n",
       "    </tr>\n",
       "    <tr>\n",
       "      <th>10</th>\n",
       "      <td>1.120675</td>\n",
       "      <td>-0.939694</td>\n",
       "    </tr>\n",
       "    <tr>\n",
       "      <th>11</th>\n",
       "      <td>1.130093</td>\n",
       "      <td>-0.989830</td>\n",
       "    </tr>\n",
       "    <tr>\n",
       "      <th>12</th>\n",
       "      <td>1.130573</td>\n",
       "      <td>-0.947102</td>\n",
       "    </tr>\n",
       "    <tr>\n",
       "      <th>13</th>\n",
       "      <td>1.147014</td>\n",
       "      <td>-1.020729</td>\n",
       "    </tr>\n",
       "    <tr>\n",
       "      <th>14</th>\n",
       "      <td>1.095171</td>\n",
       "      <td>-0.925020</td>\n",
       "    </tr>\n",
       "    <tr>\n",
       "      <th>15</th>\n",
       "      <td>1.176299</td>\n",
       "      <td>-0.997851</td>\n",
       "    </tr>\n",
       "    <tr>\n",
       "      <th>16</th>\n",
       "      <td>1.133814</td>\n",
       "      <td>-0.955717</td>\n",
       "    </tr>\n",
       "    <tr>\n",
       "      <th>17</th>\n",
       "      <td>1.128113</td>\n",
       "      <td>-0.970385</td>\n",
       "    </tr>\n",
       "    <tr>\n",
       "      <th>18</th>\n",
       "      <td>1.107277</td>\n",
       "      <td>-0.925055</td>\n",
       "    </tr>\n",
       "    <tr>\n",
       "      <th>19</th>\n",
       "      <td>1.188049</td>\n",
       "      <td>-1.012343</td>\n",
       "    </tr>\n",
       "    <tr>\n",
       "      <th>20</th>\n",
       "      <td>1.178843</td>\n",
       "      <td>-1.028121</td>\n",
       "    </tr>\n",
       "    <tr>\n",
       "      <th>21</th>\n",
       "      <td>1.144888</td>\n",
       "      <td>-1.000470</td>\n",
       "    </tr>\n",
       "    <tr>\n",
       "      <th>22</th>\n",
       "      <td>1.097402</td>\n",
       "      <td>-0.948123</td>\n",
       "    </tr>\n",
       "    <tr>\n",
       "      <th>23</th>\n",
       "      <td>1.122385</td>\n",
       "      <td>-0.919335</td>\n",
       "    </tr>\n",
       "    <tr>\n",
       "      <th>24</th>\n",
       "      <td>1.140089</td>\n",
       "      <td>-0.980789</td>\n",
       "    </tr>\n",
       "  </tbody>\n",
       "</table>\n",
       "</div>"
      ],
      "text/plain": [
       "         ate     const\n",
       "0   1.201828 -1.058444\n",
       "1   1.127912 -1.007568\n",
       "2   1.136132 -0.938096\n",
       "3   1.086296 -0.891585\n",
       "4   1.095603 -0.928102\n",
       "5   1.132852 -0.968091\n",
       "6   1.161188 -0.990236\n",
       "7   1.101890 -0.947668\n",
       "8   1.101443 -0.963804\n",
       "9   1.102871 -0.971020\n",
       "10  1.120675 -0.939694\n",
       "11  1.130093 -0.989830\n",
       "12  1.130573 -0.947102\n",
       "13  1.147014 -1.020729\n",
       "14  1.095171 -0.925020\n",
       "15  1.176299 -0.997851\n",
       "16  1.133814 -0.955717\n",
       "17  1.128113 -0.970385\n",
       "18  1.107277 -0.925055\n",
       "19  1.188049 -1.012343\n",
       "20  1.178843 -1.028121\n",
       "21  1.144888 -1.000470\n",
       "22  1.097402 -0.948123\n",
       "23  1.122385 -0.919335\n",
       "24  1.140089 -0.980789"
      ]
     },
     "execution_count": 37,
     "metadata": {},
     "output_type": "execute_result"
    }
   ],
   "source": [
    "outcome_coeffs = {'ate': [], 'const': []}\n",
    "for i in range(NUM_ITER):\n",
    "    data = causl_py.generate_many_discrete_samples(N=NUM_SAMPLES, causal_params=CAUSAL_PARAMS, seed=i)\n",
    "    coeff_X, coeff_const = run_outcome_regression(data)\n",
    "    outcome_coeffs['ate'].append(coeff_X)\n",
    "    outcome_coeffs['const'].append(coeff_const)\n",
    "outcome_coeffs = pd.DataFrame.from_dict(outcome_coeffs)\n",
    "outcome_coeffs"
   ]
  },
  {
   "cell_type": "code",
   "execution_count": 38,
   "id": "bc54d989-8629-4457-bc5e-3652a53514ff",
   "metadata": {},
   "outputs": [],
   "source": [
    "# plt.figure(figsize=(12, 6))\n",
    "\n",
    "# # Boxplot\n",
    "# box = discrete_sparse_covariates_results.boxplot(column=[\"ate\", \"const\", \"scale\"], grid=False)\n",
    "\n",
    "# # Adding lines for the true parameters\n",
    "# plt.axhline(y=TRUE_PARAMS['ate'], color='r', linestyle='--', label='True ate')\n",
    "# plt.axhline(y=TRUE_PARAMS['const'], color='g', linestyle='--', label='True const')\n",
    "# plt.axhline(y=TRUE_PARAMS['scale'], color='b', linestyle='--', label='True scale')\n",
    "\n",
    "# # Adding title and labels\n",
    "# plt.title('Box and Whisker Plot for ATE, Const, and Scale')\n",
    "# plt.ylabel('Values')\n",
    "# plt.ylim([0.80, 1.20])\n",
    "# plt.legend()"
   ]
  },
  {
   "cell_type": "code",
   "execution_count": null,
   "id": "71166d22-a9ca-45ec-89ad-0f67d16f1c85",
   "metadata": {},
   "outputs": [],
   "source": []
  }
 ],
 "metadata": {
  "kernelspec": {
   "display_name": "Python 3 (ipykernel)",
   "language": "python",
   "name": "python3"
  },
  "language_info": {
   "codemirror_mode": {
    "name": "ipython",
    "version": 3
   },
   "file_extension": ".py",
   "mimetype": "text/x-python",
   "name": "python",
   "nbconvert_exporter": "python",
   "pygments_lexer": "ipython3",
   "version": "3.11.8"
  }
 },
 "nbformat": 4,
 "nbformat_minor": 5
}
