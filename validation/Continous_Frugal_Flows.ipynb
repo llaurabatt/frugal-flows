{
 "cells": [
  {
   "cell_type": "markdown",
   "id": "f05dc14a-b9f6-4de9-8a36-524db299b21d",
   "metadata": {},
   "source": [
    "# Continous Frugal Flows\n",
    "\n",
    "In this notebook we demonstrate the ability for Frugal Flows to identify Marginal Causal Effects"
   ]
  },
  {
   "cell_type": "code",
   "execution_count": 1,
   "id": "1628a626-5ea2-4cf5-b80c-2c8876f38ec3",
   "metadata": {},
   "outputs": [],
   "source": [
    "import sys\n",
    "import os\n",
    "sys.path.append(\"../\") # go to parent dir\n",
    "\n",
    "import jax\n",
    "import jax.random as jr\n",
    "import jax.numpy as jnp\n",
    "import matplotlib.pyplot as plt\n",
    "import numpy as np\n",
    "import pandas as pd\n",
    "import scipy\n",
    "import numpy as np\n",
    "from scipy.stats import rankdata\n",
    "import scipy.stats as ss\n",
    "import statsmodels.api as sm\n",
    "import seaborn as sns\n",
    "from sklearn.model_selection import KFold\n",
    "from tqdm import tqdm\n",
    "\n",
    "# from data.create_sim_data import *\n",
    "import data_processing_and_simulations as dpns\n",
    "import data_processing_and_simulations.causl_sim_data_generation as causl_py\n",
    "from data_processing_and_simulations.run_all_simulations import plot_simulation_results\n",
    "from validationMethods import matchit\n",
    "from frugal_flows.causal_flows import independent_continuous_marginal_flow, get_independent_quantiles, train_frugal_flow\n",
    "from frugal_flows.bijections import UnivariateNormalCDF\n",
    "\n",
    "import rpy2.robjects as ro\n",
    "from rpy2.robjects.packages import importr\n",
    "from rpy2.robjects import pandas2ri\n",
    "from rpy2.robjects.packages import SignatureTranslatedAnonymousPackage\n",
    "from rpy2.robjects.vectors import StrVector\n",
    "\n",
    "# Activate automatic conversion of rpy2 objects to pandas objects\n",
    "pandas2ri.activate()\n",
    "base = importr('base')\n",
    "utils = importr('utils')\n",
    "\n",
    "# Import the R library causl\n",
    "try:\n",
    "    causl = importr('causl')\n",
    "except Exception as e:\n",
    "    package_names = ('causl')\n",
    "    utils.install_packages(StrVector(package_names))\n",
    "\n",
    "jax.config.update(\"jax_enable_x64\", True)\n",
    "\n",
    "hyperparams_dict = {\n",
    "    'learning_rate': 5e-3,\n",
    "    'RQS_knots': 8,\n",
    "    'flow_layers': 5,\n",
    "    'nn_width': 50,\n",
    "    'nn_depth': 4,    \n",
    "    'max_patience': 100,\n",
    "    'max_epochs': 10000\n",
    "}\n",
    "causal_hyperparams = {\n",
    "    'RQS_knots': 8,\n",
    "    'flow_layers': 5,\n",
    "    'nn_width': 50,\n",
    "    'nn_depth': 4,   \n",
    "}\n",
    "\n",
    "SEED = 0\n",
    "NUM_ITER = 25\n",
    "NUM_SAMPLES = 25000\n",
    "TRUE_PARAMS = {'ate': 1, 'const': 0, 'scale': 1}\n",
    "CAUSAL_PARAMS = [2, 5]"
   ]
  },
  {
   "cell_type": "code",
   "execution_count": 2,
   "id": "024836f0-db4c-43b1-9271-f95470484778",
   "metadata": {},
   "outputs": [],
   "source": [
    "def run_outcome_regression(data):\n",
    "    Z_cont = data.get('Z_cont', None)\n",
    "    Z_disc = data.get('Z_disc', None)\n",
    "    if Z_cont == None:\n",
    "        Z_full = Z_disc\n",
    "    elif Z_disc == None:\n",
    "        Z_full = Z_cont\n",
    "    else:\n",
    "        Z_full = jnp.hstack([Z_cont, Z_disc])\n",
    "    Z_cols = [f\"Z{i+1}\" for i in range(Z_full.shape[1])]\n",
    "    df = pd.DataFrame(jnp.hstack([data['Y'], data['X'], Z_full]), columns=['Y', 'X', *Z_cols])\n",
    "    X_vars = df[['X', *Z_cols]]\n",
    "    X_vars = sm.add_constant(X_vars)\n",
    "    Y_var = df['Y']\n",
    "    model = sm.OLS(Y_var, X_vars).fit()\n",
    "    coefficient_X = model.params['X']\n",
    "    coefficient_const = model.params['const']\n",
    "    return coefficient_X, coefficient_const"
   ]
  },
  {
   "cell_type": "code",
   "execution_count": 3,
   "id": "4f93385b-ced7-4c77-8977-f582c94e75eb",
   "metadata": {},
   "outputs": [],
   "source": [
    "def dict_to_dataframe(data):\n",
    "    # Extract the data from the dictionary\n",
    "    X = np.array(data['X']).flatten()\n",
    "    Y = np.array(data['Y']).flatten()\n",
    "    \n",
    "    # Initialize a dictionary to construct the DataFrame\n",
    "    df_dict = {'X': X, 'Y': Y}\n",
    "    \n",
    "    # Initialize the Z column index\n",
    "    z_index = 1\n",
    "    \n",
    "    # Process Z_cont\n",
    "    if 'Z_cont' in data and data['Z_cont'] is not None:\n",
    "        Z_cont = np.array(data['Z_cont'])\n",
    "        for i in range(Z_cont.shape[1]):\n",
    "            df_dict[f'Z{z_index}'] = Z_cont[:, i]\n",
    "            z_index += 1\n",
    "    \n",
    "    # Process Z_disc (assuming similar structure if it were present)\n",
    "    if 'Z_disc' in data and data['Z_disc'] is not None:\n",
    "        Z_disc = np.array(data['Z_disc'])\n",
    "        for i in range(Z_disc.shape[1]):\n",
    "            df_dict[f'Z{z_index}'] = Z_disc[:, i]\n",
    "            z_index += 1\n",
    "    \n",
    "    # Create the DataFrame\n",
    "    df = pd.DataFrame(df_dict)\n",
    "    \n",
    "    return df"
   ]
  },
  {
   "cell_type": "code",
   "execution_count": 4,
   "id": "9beb271a-c777-465a-bbf2-7a647e5fd3ca",
   "metadata": {},
   "outputs": [
    {
     "data": {
      "text/plain": [
       "(5.317079641118621, 1.010870687858447)"
      ]
     },
     "execution_count": 4,
     "metadata": {},
     "output_type": "execute_result"
    }
   ],
   "source": [
    "data = causl_py.generate_mixed_samples(10000, CAUSAL_PARAMS, 3)\n",
    "run_outcome_regression(data)"
   ]
  },
  {
   "cell_type": "markdown",
   "id": "b6136417-f7d2-4a91-ab9f-4da293e82925",
   "metadata": {},
   "source": [
    "## Checking for the Causal Effect"
   ]
  },
  {
   "cell_type": "markdown",
   "id": "d52f9ceb-2918-4e27-a9f7-8a1e90e30d41",
   "metadata": {},
   "source": [
    "### Gaussians"
   ]
  },
  {
   "cell_type": "markdown",
   "id": "cc58c1bf-6de1-47eb-b2b2-2b4afe6c373a",
   "metadata": {},
   "source": [
    "#### Frugal Flow"
   ]
  },
  {
   "cell_type": "code",
   "execution_count": 5,
   "id": "a136574c-cbba-4c24-91e1-eec5f584d48b",
   "metadata": {},
   "outputs": [],
   "source": [
    "# gaussian_covariates_results = causl_py.run_simulations(\n",
    "#     causl_py.generate_gaussian_samples, \n",
    "#     seed=SEED, \n",
    "#     num_samples=NUM_SAMPLES, \n",
    "#     num_iter=NUM_ITER, \n",
    "#     causal_params=CAUSAL_PARAMS,\n",
    "#     hyperparams_dict=hyperparams_dict,\n",
    "#     causal_model_args={'ate': 0., 'const': 1., 'scale': 1}\n",
    "# )\n",
    "# gaussian_covariates_results"
   ]
  },
  {
   "cell_type": "code",
   "execution_count": 6,
   "id": "c87ec959-d25b-4713-b24f-2a0bd860eaed",
   "metadata": {},
   "outputs": [],
   "source": [
    "# display(gaussian_covariates_results.mean())\n",
    "# display(gaussian_covariates_results.std())"
   ]
  },
  {
   "cell_type": "code",
   "execution_count": 7,
   "id": "0ad888c7-26e9-43e0-8942-2a8b2231f13c",
   "metadata": {},
   "outputs": [],
   "source": [
    "# plt.figure(figsize=(12, 6))\n",
    "\n",
    "# # Boxplot\n",
    "# box = gaussian_covariates_results.boxplot(column=[\"ate\", \"const\", \"scale\"], grid=False)\n",
    "\n",
    "# # Adding lines for the true parameters\n",
    "# plt.axhline(y=TRUE_PARAMS['ate'], color='r', linestyle='--', label='True ate')\n",
    "# plt.axhline(y=TRUE_PARAMS['const'], color='g', linestyle='--', label='True const')\n",
    "# plt.axhline(y=TRUE_PARAMS['scale'], color='b', linestyle='--', label='True scale')\n",
    "\n",
    "# # Adding title and labels\n",
    "# plt.title('Box and Whisker Plot for ATE, Const, and Scale')\n",
    "# plt.ylabel('Values')\n",
    "# plt.ylim([0.80, 1.20])\n",
    "# plt.legend()"
   ]
  },
  {
   "cell_type": "markdown",
   "id": "f1d441a3-1d98-4c9d-bd3c-ebc3f0b5c20f",
   "metadata": {},
   "source": [
    "#### Outcome Regression"
   ]
  },
  {
   "cell_type": "code",
   "execution_count": 8,
   "id": "9b28afaf-719e-4618-834a-eac0b85fbc87",
   "metadata": {},
   "outputs": [],
   "source": [
    "# gaussian_coeffs = {'ate': [], 'const': []}\n",
    "# for i in range(NUM_ITER):\n",
    "#     data = causl_py.generate_gaussian_samples(N=NUM_SAMPLES, causal_params=CAUSAL_PARAMS, seed=i)\n",
    "#     coeff_X, coeff_const = run_outcome_regression(data)\n",
    "#     gaussian_coeffs['ate'].append(coeff_X)\n",
    "#     gaussian_coeffs['const'].append(coeff_const)\n",
    "# gaussian_outcome_coeffs = pd.DataFrame.from_dict(gaussian_coeffs)\n",
    "# gaussian_outcome_coeffs"
   ]
  },
  {
   "cell_type": "code",
   "execution_count": 9,
   "id": "532559d4-63e2-45c1-8657-9326dc549354",
   "metadata": {},
   "outputs": [],
   "source": [
    "# print(gaussian_outcome_coeffs.mean())\n",
    "# print(gaussian_outcome_coeffs.std())"
   ]
  },
  {
   "cell_type": "markdown",
   "id": "ba9dcb71-a33c-4a2a-b6da-c418772a9dca",
   "metadata": {},
   "source": [
    "### Mixed Gaussian and Gamma Outcomes"
   ]
  },
  {
   "cell_type": "code",
   "execution_count": 10,
   "id": "7d95c6e9-0762-4084-8994-30d37803d0e3",
   "metadata": {},
   "outputs": [],
   "source": [
    "N_test = 20000\n",
    "Z_disc, Z_cont, X, Y = causl_py.generate_mixed_samples(N_test, CAUSAL_PARAMS, N_test).values()"
   ]
  },
  {
   "cell_type": "code",
   "execution_count": 11,
   "id": "1e1469be-3697-415b-a3e9-d04431559db8",
   "metadata": {},
   "outputs": [],
   "source": [
    "uz_samples = causl_py.generate_uz_samples(Z_cont=Z_cont, Z_disc=None, use_marginal_flow=False, seed=0, frugal_flow_hyperparams=hyperparams_dict)"
   ]
  },
  {
   "cell_type": "code",
   "execution_count": 12,
   "id": "377b7c9f-fdd8-4187-ba88-274cbf41b9c5",
   "metadata": {},
   "outputs": [
    {
     "name": "stderr",
     "output_type": "stream",
     "text": [
      "  1%| | 141/10000 [02:49<3:16:57,  1.20s/it, train=1.0968159477352808, val=1.18462144\n"
     ]
    }
   ],
   "source": [
    "frugal_flow, losses = causl_py.train_frugal_flow(\n",
    "    key=jr.PRNGKey(0),\n",
    "    y=Y,\n",
    "    u_z=uz_samples['uz_samples'],\n",
    "    # u_z = jr.uniform(jr.PRNGKey(1000), shape=(N_test, 4)),\n",
    "    condition=X,\n",
    "    **hyperparams_dict,\n",
    "    causal_model='gaussian',\n",
    "    causal_model_args={'ate': jnp.array([-7.]), 'const': 3., 'scale': 5}\n",
    ")"
   ]
  },
  {
   "cell_type": "code",
   "execution_count": 13,
   "id": "00392203-7f38-4409-a1a3-12fed649939d",
   "metadata": {},
   "outputs": [
    {
     "data": {
      "text/plain": [
       "(5.335628360813092, 0.9781561481863036)"
      ]
     },
     "execution_count": 13,
     "metadata": {},
     "output_type": "execute_result"
    }
   ],
   "source": [
    "run_outcome_regression({'X': X, 'Y': Y, 'Z_cont': Z_cont})"
   ]
  },
  {
   "cell_type": "code",
   "execution_count": 14,
   "id": "90427a47-41ef-410c-a961-5a30a7f738e2",
   "metadata": {},
   "outputs": [],
   "source": [
    "causal_margin = frugal_flow.bijection.bijections[-1].bijection.bijections[0]"
   ]
  },
  {
   "cell_type": "code",
   "execution_count": 15,
   "id": "c2647509-7b60-49ea-b7f6-71691bdfbbbd",
   "metadata": {},
   "outputs": [
    {
     "name": "stdout",
     "output_type": "stream",
     "text": [
      "4.925269243681322\n",
      "2.128963814412229\n",
      "0.9969615108043511\n"
     ]
    }
   ],
   "source": [
    "print(causal_margin.ate[0])\n",
    "print(causal_margin.const)\n",
    "print(causal_margin.scale)"
   ]
  },
  {
   "cell_type": "code",
   "execution_count": null,
   "id": "712f31d7-0696-4788-bf99-51550da17bde",
   "metadata": {},
   "outputs": [
    {
     "name": "stderr",
     "output_type": "stream",
     "text": [
      "  2%| | 166/10000 [03:47<3:44:18,  1.37s/it, train=1.0921668692433022, val=1.14565949\n"
     ]
    },
    {
     "name": "stdout",
     "output_type": "stream",
     "text": [
      "[array([4.98728548, 1.9944611 , 0.97481533])]\n"
     ]
    },
    {
     "name": "stderr",
     "output_type": "stream",
     "text": [
      "  2%| | 173/10000 [04:23<4:17:28,  1.57s/it, train=1.1085855896338737, val=1.13726486"
     ]
    }
   ],
   "source": [
    "continous_covariates_results = causl_py.run_simulations(\n",
    "    causl_py.generate_mixed_samples, \n",
    "    seed=SEED, \n",
    "    num_samples=NUM_SAMPLES, \n",
    "    num_iter=NUM_ITER, \n",
    "    causal_params=CAUSAL_PARAMS,\n",
    "    hyperparams_dict=hyperparams_dict,\n",
    "    causal_model_args={'ate': jnp.array([0.]), 'const': 0., 'scale': 1}\n",
    ")"
   ]
  },
  {
   "cell_type": "code",
   "execution_count": null,
   "id": "afa55852-a214-41b0-a37f-8892cba889de",
   "metadata": {},
   "outputs": [],
   "source": [
    "print(continous_covariates_results.mean())\n",
    "print(continous_covariates_results.std())"
   ]
  },
  {
   "cell_type": "code",
   "execution_count": null,
   "id": "f4929ebb-6373-4236-ad4f-e291f3af562d",
   "metadata": {},
   "outputs": [],
   "source": [
    "matchit_ate_list = []\n",
    "for i in tqdm(range(NUM_ITER)):\n",
    "    data = causl_py.generate_mixed_samples(20000, CAUSAL_PARAMS, i)\n",
    "    matching_results = matchit(outcome='Y', treatment='X', data=dict_to_dataframe(data))\n",
    "    matchit_ate_list.append(matching_results[0][0])\n",
    "print(np.mean(matchit_ate_list))\n",
    "print(np.std(matchit_ate_list))"
   ]
  },
  {
   "cell_type": "code",
   "execution_count": null,
   "id": "99b07a0a-a5ec-4205-af48-86cada72a236",
   "metadata": {},
   "outputs": [],
   "source": [
    "print(np.mean(matchit_ate_list))\n",
    "print(np.std(matchit_ate_list))"
   ]
  },
  {
   "cell_type": "markdown",
   "id": "b7a1c159-5441-4ed7-8890-be515f80fde7",
   "metadata": {},
   "source": [
    "#### Outcome Regression"
   ]
  },
  {
   "cell_type": "code",
   "execution_count": null,
   "id": "fb4daed3-c646-4d59-a219-e8131ff04332",
   "metadata": {},
   "outputs": [],
   "source": [
    "outcome_coeffs = {'ate': [], 'const': []}\n",
    "for i in range(NUM_ITER):\n",
    "    data = causl_py.generate_mixed_samples(N=NUM_SAMPLES, causal_params=CAUSAL_PARAMS, seed=i)\n",
    "    coeff_X, coeff_const = run_outcome_regression(data)\n",
    "    outcome_coeffs['ate'].append(coeff_X)\n",
    "    outcome_coeffs['const'].append(coeff_const)\n",
    "outcome_coeffs = pd.DataFrame.from_dict(outcome_coeffs)\n",
    "outcome_coeffs"
   ]
  },
  {
   "cell_type": "code",
   "execution_count": null,
   "id": "1f98eee7-e37c-49dd-b671-7f467f246822",
   "metadata": {},
   "outputs": [],
   "source": [
    "print(outcome_coeffs.mean())\n",
    "print(outcome_coeffs.std())"
   ]
  },
  {
   "cell_type": "code",
   "execution_count": null,
   "id": "2ce3d31b-b7ba-4efd-b736-7d48eeaf4ce8",
   "metadata": {},
   "outputs": [],
   "source": [
    "plt.figure(figsize=(12, 6))\n",
    "\n",
    "# Boxplot\n",
    "box = continous_covariates_results.boxplot(column=[\"ate\", \"const\", \"scale\"], grid=False)\n",
    "\n",
    "# Adding lines for the true parameters\n",
    "plt.axhline(y=TRUE_PARAMS['ate'], color='r', linestyle='--', label='True ate')\n",
    "plt.axhline(y=TRUE_PARAMS['const'], color='g', linestyle='--', label='True const')\n",
    "plt.axhline(y=TRUE_PARAMS['scale'], color='b', linestyle='--', label='True scale')\n",
    "\n",
    "# Adding title and labels\n",
    "plt.title('Box and Whisker Plot for ATE, Const, and Scale')\n",
    "plt.ylabel('Values')\n",
    "plt.ylim([0.80, 1.20])\n",
    "plt.legend()"
   ]
  },
  {
   "cell_type": "markdown",
   "id": "9e92ce2d-e11d-4d53-96df-6481da5b2401",
   "metadata": {},
   "source": [
    "### Mixed Continuous and Discrete (Small)"
   ]
  },
  {
   "cell_type": "code",
   "execution_count": null,
   "id": "29615df2-8aaa-441d-9e7e-1f2f0c5dacdf",
   "metadata": {},
   "outputs": [],
   "source": [
    "discrete_small_covariates_results = causl_py.run_simulations(\n",
    "    causl_py.generate_discrete_samples, \n",
    "    seed=SEED, \n",
    "    num_samples=NUM_SAMPLES, \n",
    "    num_iter=NUM_ITER, \n",
    "    causal_params=CAUSAL_PARAMS,\n",
    "    hyperparams_dict=hyperparams_dict,\n",
    "    causal_model_args={'ate': jnp.array([0.]), 'const': 0., 'scale': 1}\n",
    ")"
   ]
  },
  {
   "cell_type": "code",
   "execution_count": null,
   "id": "ba2d08c5-9ebd-40ec-844a-219c5eb5a079",
   "metadata": {},
   "outputs": [],
   "source": [
    "discrete_small_covariates_results"
   ]
  },
  {
   "cell_type": "code",
   "execution_count": null,
   "id": "5e25a9b3-1a2e-4acf-af87-3757337a5877",
   "metadata": {},
   "outputs": [],
   "source": [
    "print(discrete_small_covariates_results.mean())\n",
    "print(discrete_small_covariates_results.std())"
   ]
  },
  {
   "cell_type": "code",
   "execution_count": null,
   "id": "9d9c1384-e087-4c32-a075-ec7f66db8c65",
   "metadata": {},
   "outputs": [],
   "source": [
    "matchit_ate_list_small_discrete = []\n",
    "for i in tqdm(range(NUM_ITER)):\n",
    "    data = causl_py.generate_discrete_samples(NUM_SAMPLES, CAUSAL_PARAMS, i)\n",
    "    matching_results = matchit(outcome='Y', treatment='X', data=dict_to_dataframe(data))\n",
    "    matchit_ate_list_small_discrete.append(matching_results[0][0])\n",
    "print(np.mean(matchit_ate_list_small_discrete))\n",
    "print(np.std(matchit_ate_list_small_discrete))"
   ]
  },
  {
   "cell_type": "markdown",
   "id": "e666a6e5-a855-487f-b55a-55610648f9ae",
   "metadata": {},
   "source": [
    "#### Outcome Regression"
   ]
  },
  {
   "cell_type": "code",
   "execution_count": null,
   "id": "3f9a4475-43bf-4bf4-8dde-3e552eb16ca2",
   "metadata": {},
   "outputs": [],
   "source": [
    "outcome_coeffs = {'ate': [], 'const': []}\n",
    "for i in range(NUM_ITER):\n",
    "    data = causl_py.generate_discrete_samples(N=NUM_SAMPLES, causal_params=CAUSAL_PARAMS, seed=i)\n",
    "    coeff_X, coeff_const = run_outcome_regression(data)\n",
    "    outcome_coeffs['ate'].append(coeff_X)\n",
    "    outcome_coeffs['const'].append(coeff_const)\n",
    "outcome_coeffs = pd.DataFrame.from_dict(outcome_coeffs)\n",
    "outcome_coeffs"
   ]
  },
  {
   "cell_type": "code",
   "execution_count": null,
   "id": "d7e55609-8f09-44d1-b3af-fd21d48b7eae",
   "metadata": {},
   "outputs": [],
   "source": [
    "print(outcome_coeffs.mean())\n",
    "print(outcome_coeffs.std())"
   ]
  },
  {
   "cell_type": "code",
   "execution_count": null,
   "id": "f0e08851-605f-4083-862c-9ba29dfc8e9d",
   "metadata": {},
   "outputs": [],
   "source": [
    "plt.figure(figsize=(12, 6))\n",
    "\n",
    "# Boxplot\n",
    "box = discrete_small_covariates_results.boxplot(column=[\"ate\", \"const\", \"scale\"], grid=False)\n",
    "\n",
    "# Adding lines for the true parameters\n",
    "plt.axhline(y=TRUE_PARAMS['ate'], color='r', linestyle='--', label='True ate')\n",
    "plt.axhline(y=TRUE_PARAMS['const'], color='g', linestyle='--', label='True const')\n",
    "plt.axhline(y=TRUE_PARAMS['scale'], color='b', linestyle='--', label='True scale')\n",
    "\n",
    "# Adding title and labels\n",
    "plt.title('Box and Whisker Plot for ATE, Const, and Scale')\n",
    "plt.ylabel('Values')\n",
    "plt.ylim([0.80, 1.20])\n",
    "plt.legend()"
   ]
  },
  {
   "cell_type": "markdown",
   "id": "253dfdcb-2777-43c2-a323-93fa3a7a4315",
   "metadata": {},
   "source": [
    "### Mixed Continuous and Discrete (Large)"
   ]
  },
  {
   "cell_type": "code",
   "execution_count": null,
   "id": "36562e65-1a00-46c0-a9af-dc25f38573bc",
   "metadata": {},
   "outputs": [],
   "source": [
    "hyperparams_dict_large = hyperparams_dict.copy()\n",
    "# hyperparams_dict_large['learning_rate'] = 1e-3\n",
    "discrete_big_covariates_results = causl_py.run_simulations(\n",
    "    causl_py.generate_many_discrete_samples, \n",
    "    seed=SEED, \n",
    "    num_samples=NUM_SAMPLES, \n",
    "    num_iter=NUM_ITER, \n",
    "    causal_params=CAUSAL_PARAMS,\n",
    "    hyperparams_dict=hyperparams_dict_large,\n",
    "    causal_model_args={'ate': jnp.array([0.]), 'const': 0., 'scale': 1}\n",
    ")"
   ]
  },
  {
   "cell_type": "code",
   "execution_count": null,
   "id": "c3ae6fe1-cd77-46fe-84b5-68d8bfbbea89",
   "metadata": {},
   "outputs": [],
   "source": [
    "discrete_big_covariates_results"
   ]
  },
  {
   "cell_type": "code",
   "execution_count": null,
   "id": "68ec886c-429a-4159-a96a-411e9e7128c6",
   "metadata": {},
   "outputs": [],
   "source": [
    "print(discrete_big_covariates_results.mean())\n",
    "print(discrete_big_covariates_results.std())"
   ]
  },
  {
   "cell_type": "markdown",
   "id": "02c48dc5-a72f-41ea-b6c5-0832b83e1302",
   "metadata": {},
   "source": [
    "#### Outcome Regression"
   ]
  },
  {
   "cell_type": "code",
   "execution_count": null,
   "id": "27779e38-02f2-4b8a-8508-ba5aba1794fc",
   "metadata": {},
   "outputs": [],
   "source": [
    "outcome_coeffs = {'ate': [], 'const': []}\n",
    "for i in range(NUM_ITER):\n",
    "    data = causl_py.generate_many_discrete_samples(N=NUM_SAMPLES, causal_params=CAUSAL_PARAMS, seed=i)\n",
    "    coeff_X, coeff_const = run_outcome_regression(data)\n",
    "    outcome_coeffs['ate'].append(coeff_X)\n",
    "    outcome_coeffs['const'].append(coeff_const)\n",
    "outcome_coeffs = pd.DataFrame.from_dict(outcome_coeffs)\n",
    "outcome_coeffs"
   ]
  },
  {
   "cell_type": "code",
   "execution_count": null,
   "id": "767d19d9-6213-4bb5-9c18-e2ecac4e041a",
   "metadata": {},
   "outputs": [],
   "source": [
    "print(outcome_coeffs.mean())\n",
    "print(outcome_coeffs.std())"
   ]
  },
  {
   "cell_type": "code",
   "execution_count": null,
   "id": "c47dae7e-8039-4563-9692-b76280d41d19",
   "metadata": {},
   "outputs": [],
   "source": [
    "plt.figure(figsize=(12, 6))\n",
    "\n",
    "# Boxplot\n",
    "box = discrete_big_covariates_results.boxplot(column=[\"ate\", \"const\", \"scale\"], grid=False)\n",
    "\n",
    "# Adding lines for the true parameters\n",
    "plt.axhline(y=TRUE_PARAMS['ate'], color='r', linestyle='--', label='True ate')\n",
    "plt.axhline(y=TRUE_PARAMS['const'], color='g', linestyle='--', label='True const')\n",
    "plt.axhline(y=TRUE_PARAMS['scale'], color='b', linestyle='--', label='True scale')\n",
    "\n",
    "# Adding title and labels\n",
    "plt.title('Box and Whisker Plot for ATE, Const, and Scale')\n",
    "plt.ylabel('Values')\n",
    "plt.ylim([0.80, 1.20])\n",
    "plt.legend()"
   ]
  },
  {
   "cell_type": "code",
   "execution_count": null,
   "id": "636658fa-a649-47ab-9c29-54004c6275fb",
   "metadata": {},
   "outputs": [],
   "source": [
    "matchit_ate_list_many_discrete = []\n",
    "for i in tqdm(range(NUM_ITER)):\n",
    "    data = causl_py.generate_many_discrete_samples(NUM_SAMPLES, CAUSAL_PARAMS, i)\n",
    "    matching_results = matchit(outcome='Y', treatment='X', data=dict_to_dataframe(data))\n",
    "    matchit_ate_list_many_discrete.append(matching_results[0][0])\n",
    "print(np.mean(matchit_ate_list_many_discrete))\n",
    "print(np.std(matchit_ate_list_many_discrete))"
   ]
  },
  {
   "cell_type": "markdown",
   "id": "0df62c19-ca34-4ec2-8bd3-6ab2e8415bad",
   "metadata": {},
   "source": [
    "### Mixed Continuous and Discrete (Large and Sparse)"
   ]
  },
  {
   "cell_type": "code",
   "execution_count": null,
   "id": "1a031e67-e801-4b0e-b6af-55f109930780",
   "metadata": {},
   "outputs": [],
   "source": [
    "# discrete_sparse_covariates_results = causl_py.run_simulations(\n",
    "#     causl_py.generate_many_discrete_samples_sparse, \n",
    "#     seed=SEED, \n",
    "#     num_samples=NUM_SAMPLES, \n",
    "#     num_iter=NUM_ITER, \n",
    "#     causal_params=CAUSAL_PARAMS,\n",
    "#     hyperparams_dict=hyperparams_dict,\n",
    "#     causal_model_args={'ate': 0., 'const': 0., 'scale': 1}\n",
    "# )\n",
    "# discrete_sparse_covariates_results"
   ]
  },
  {
   "cell_type": "code",
   "execution_count": null,
   "id": "04cc7229-2d61-4ef6-a8b7-e645985c403e",
   "metadata": {},
   "outputs": [],
   "source": [
    "# print(discrete_sparse_covariates_results.mean())\n",
    "# print(discrete_sparse_covariates_results.std())"
   ]
  },
  {
   "cell_type": "markdown",
   "id": "54dd564b-29ee-4620-85d8-71423b86f833",
   "metadata": {},
   "source": [
    "#### Outcome Regression"
   ]
  },
  {
   "cell_type": "code",
   "execution_count": null,
   "id": "4dc3caa6-75a6-4194-a734-1dcbfefee4c2",
   "metadata": {},
   "outputs": [],
   "source": [
    "outcome_coeffs = {'ate': [], 'const': []}\n",
    "for i in range(NUM_ITER):\n",
    "    data = causl_py.generate_many_discrete_samples(N=NUM_SAMPLES, causal_params=CAUSAL_PARAMS, seed=i)\n",
    "    coeff_X, coeff_const = run_outcome_regression(data)\n",
    "    outcome_coeffs['ate'].append(coeff_X)\n",
    "    outcome_coeffs['const'].append(coeff_const)\n",
    "outcome_coeffs = pd.DataFrame.from_dict(outcome_coeffs)\n",
    "outcome_coeffs"
   ]
  },
  {
   "cell_type": "code",
   "execution_count": null,
   "id": "bc54d989-8629-4457-bc5e-3652a53514ff",
   "metadata": {},
   "outputs": [],
   "source": [
    "# plt.figure(figsize=(12, 6))\n",
    "\n",
    "# # Boxplot\n",
    "# box = discrete_sparse_covariates_results.boxplot(column=[\"ate\", \"const\", \"scale\"], grid=False)\n",
    "\n",
    "# # Adding lines for the true parameters\n",
    "# plt.axhline(y=TRUE_PARAMS['ate'], color='r', linestyle='--', label='True ate')\n",
    "# plt.axhline(y=TRUE_PARAMS['const'], color='g', linestyle='--', label='True const')\n",
    "# plt.axhline(y=TRUE_PARAMS['scale'], color='b', linestyle='--', label='True scale')\n",
    "\n",
    "# # Adding title and labels\n",
    "# plt.title('Box and Whisker Plot for ATE, Const, and Scale')\n",
    "# plt.ylabel('Values')\n",
    "# plt.ylim([0.80, 1.20])\n",
    "# plt.legend()"
   ]
  },
  {
   "cell_type": "code",
   "execution_count": null,
   "id": "71166d22-a9ca-45ec-89ad-0f67d16f1c85",
   "metadata": {},
   "outputs": [],
   "source": []
  }
 ],
 "metadata": {
  "kernelspec": {
   "display_name": "Python 3 (ipykernel)",
   "language": "python",
   "name": "python3"
  },
  "language_info": {
   "codemirror_mode": {
    "name": "ipython",
    "version": 3
   },
   "file_extension": ".py",
   "mimetype": "text/x-python",
   "name": "python",
   "nbconvert_exporter": "python",
   "pygments_lexer": "ipython3",
   "version": "3.11.8"
  }
 },
 "nbformat": 4,
 "nbformat_minor": 5
}
