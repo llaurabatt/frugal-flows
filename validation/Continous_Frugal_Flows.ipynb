{
 "cells": [
  {
   "cell_type": "markdown",
   "id": "f05dc14a-b9f6-4de9-8a36-524db299b21d",
   "metadata": {},
   "source": [
    "# Continous Frugal Flows\n",
    "\n",
    "In this notebook we demonstrate the ability for Frugal Flows to identify Marginal Causal Effects"
   ]
  },
  {
   "cell_type": "code",
   "execution_count": 1,
   "id": "1628a626-5ea2-4cf5-b80c-2c8876f38ec3",
   "metadata": {},
   "outputs": [],
   "source": [
    "import sys\n",
    "import os\n",
    "sys.path.append(\"../\") # go to parent dir\n",
    "\n",
    "import jax\n",
    "import jax.random as jr\n",
    "import jax.numpy as jnp\n",
    "import matplotlib.pyplot as plt\n",
    "import numpy as np\n",
    "import pandas as pd\n",
    "import scipy\n",
    "import numpy as np\n",
    "from scipy.stats import rankdata\n",
    "import scipy.stats as ss\n",
    "import statsmodels.api as sm\n",
    "import seaborn as sns\n",
    "from sklearn.model_selection import KFold\n",
    "\n",
    "# from data.create_sim_data import *\n",
    "import data.template_causl_simulations as causl_py\n",
    "from data.run_all_simulations import plot_simulation_results\n",
    "from frugal_flows.causal_flows import independent_continuous_marginal_flow, get_independent_quantiles, train_frugal_flow\n",
    "from frugal_flows.bijections import UnivariateNormalCDF\n",
    "\n",
    "import rpy2.robjects as ro\n",
    "from rpy2.robjects.packages import importr\n",
    "from rpy2.robjects import pandas2ri\n",
    "from rpy2.robjects.packages import SignatureTranslatedAnonymousPackage\n",
    "from rpy2.robjects.vectors import StrVector\n",
    "\n",
    "# Activate automatic conversion of rpy2 objects to pandas objects\n",
    "pandas2ri.activate()\n",
    "base = importr('base')\n",
    "utils = importr('utils')\n",
    "\n",
    "# Import the R library causl\n",
    "try:\n",
    "    causl = importr('causl')\n",
    "except Exception as e:\n",
    "    package_names = ('causl')\n",
    "    utils.install_packages(StrVector(package_names))\n",
    "\n",
    "jax.config.update(\"jax_enable_x64\", True)\n",
    "\n",
    "hyperparams_dict = {\n",
    "    'learning_rate': 5e-3,\n",
    "    'RQS_knots': 8,\n",
    "    'flow_layers': 5,\n",
    "    'nn_width': 50,\n",
    "    'nn_depth': 4,    \n",
    "    'max_patience': 100,\n",
    "    'max_epochs': 10000\n",
    "}\n",
    "causal_hyperparams = {\n",
    "    'RQS_knots': 8,\n",
    "    'flow_layers': 5,\n",
    "    'nn_width': 50,\n",
    "    'nn_depth': 4,   \n",
    "}\n",
    "\n",
    "SEED = 0\n",
    "NUM_ITER = 25\n",
    "NUM_SAMPLES = 25000\n",
    "TRUE_PARAMS = {'ate': 1, 'const': 0, 'scale': 1}\n",
    "CAUSAL_PARAMS = [2, 5]"
   ]
  },
  {
   "cell_type": "code",
   "execution_count": 2,
   "id": "024836f0-db4c-43b1-9271-f95470484778",
   "metadata": {},
   "outputs": [],
   "source": [
    "def run_outcome_regression(data):\n",
    "    Z_cont = data.get('Z_cont', None)\n",
    "    Z_disc = data.get('Z_disc', None)\n",
    "    if Z_cont == None:\n",
    "        Z_full = Z_disc\n",
    "    elif Z_disc == None:\n",
    "        Z_full = Z_cont\n",
    "    else:\n",
    "        Z_full = jnp.hstack([Z_cont, Z_disc])\n",
    "    Z_cols = [f\"Z{i+1}\" for i in range(Z_full.shape[1])]\n",
    "    df = pd.DataFrame(jnp.hstack([data['Y'], data['X'], Z_full]), columns=['Y', 'X', *Z_cols])\n",
    "    X_vars = df[['X', *Z_cols]]\n",
    "    X_vars = sm.add_constant(X_vars)\n",
    "    Y_var = df['Y']\n",
    "    model = sm.OLS(Y_var, X_vars).fit()\n",
    "    coefficient_X = model.params['X']\n",
    "    coefficient_const = model.params['const']\n",
    "    return coefficient_X, coefficient_const"
   ]
  },
  {
   "cell_type": "code",
   "execution_count": 3,
   "id": "9beb271a-c777-465a-bbf2-7a647e5fd3ca",
   "metadata": {},
   "outputs": [
    {
     "data": {
      "text/plain": [
       "(5.317079641118621, 1.010870687858447)"
      ]
     },
     "execution_count": 3,
     "metadata": {},
     "output_type": "execute_result"
    }
   ],
   "source": [
    "data = causl_py.generate_mixed_samples(10000, CAUSAL_PARAMS, 3)\n",
    "run_outcome_regression(data)"
   ]
  },
  {
   "cell_type": "markdown",
   "id": "b6136417-f7d2-4a91-ab9f-4da293e82925",
   "metadata": {},
   "source": [
    "## Checking for the Causal Effect"
   ]
  },
  {
   "cell_type": "markdown",
   "id": "d52f9ceb-2918-4e27-a9f7-8a1e90e30d41",
   "metadata": {},
   "source": [
    "### Gaussians"
   ]
  },
  {
   "cell_type": "markdown",
   "id": "cc58c1bf-6de1-47eb-b2b2-2b4afe6c373a",
   "metadata": {},
   "source": [
    "#### Frugal Flow"
   ]
  },
  {
   "cell_type": "code",
   "execution_count": 4,
   "id": "a136574c-cbba-4c24-91e1-eec5f584d48b",
   "metadata": {},
   "outputs": [],
   "source": [
    "# gaussian_covariates_results = causl_py.run_simulations(\n",
    "#     causl_py.generate_gaussian_samples, \n",
    "#     seed=SEED, \n",
    "#     num_samples=NUM_SAMPLES, \n",
    "#     num_iter=NUM_ITER, \n",
    "#     causal_params=CAUSAL_PARAMS,\n",
    "#     hyperparams_dict=hyperparams_dict,\n",
    "#     causal_model_args={'ate': 0., 'const': 1., 'scale': 1}\n",
    "# )\n",
    "# gaussian_covariates_results"
   ]
  },
  {
   "cell_type": "code",
   "execution_count": 5,
   "id": "c87ec959-d25b-4713-b24f-2a0bd860eaed",
   "metadata": {},
   "outputs": [],
   "source": [
    "# display(gaussian_covariates_results.mean())\n",
    "# display(gaussian_covariates_results.std())"
   ]
  },
  {
   "cell_type": "code",
   "execution_count": 6,
   "id": "0ad888c7-26e9-43e0-8942-2a8b2231f13c",
   "metadata": {},
   "outputs": [],
   "source": [
    "# plt.figure(figsize=(12, 6))\n",
    "\n",
    "# # Boxplot\n",
    "# box = gaussian_covariates_results.boxplot(column=[\"ate\", \"const\", \"scale\"], grid=False)\n",
    "\n",
    "# # Adding lines for the true parameters\n",
    "# plt.axhline(y=TRUE_PARAMS['ate'], color='r', linestyle='--', label='True ate')\n",
    "# plt.axhline(y=TRUE_PARAMS['const'], color='g', linestyle='--', label='True const')\n",
    "# plt.axhline(y=TRUE_PARAMS['scale'], color='b', linestyle='--', label='True scale')\n",
    "\n",
    "# # Adding title and labels\n",
    "# plt.title('Box and Whisker Plot for ATE, Const, and Scale')\n",
    "# plt.ylabel('Values')\n",
    "# plt.ylim([0.80, 1.20])\n",
    "# plt.legend()"
   ]
  },
  {
   "cell_type": "markdown",
   "id": "f1d441a3-1d98-4c9d-bd3c-ebc3f0b5c20f",
   "metadata": {},
   "source": [
    "#### Outcome Regression"
   ]
  },
  {
   "cell_type": "code",
   "execution_count": 7,
   "id": "9b28afaf-719e-4618-834a-eac0b85fbc87",
   "metadata": {},
   "outputs": [],
   "source": [
    "# gaussian_coeffs = {'ate': [], 'const': []}\n",
    "# for i in range(NUM_ITER):\n",
    "#     data = causl_py.generate_gaussian_samples(N=NUM_SAMPLES, causal_params=CAUSAL_PARAMS, seed=i)\n",
    "#     coeff_X, coeff_const = run_outcome_regression(data)\n",
    "#     gaussian_coeffs['ate'].append(coeff_X)\n",
    "#     gaussian_coeffs['const'].append(coeff_const)\n",
    "# gaussian_outcome_coeffs = pd.DataFrame.from_dict(gaussian_coeffs)\n",
    "# gaussian_outcome_coeffs"
   ]
  },
  {
   "cell_type": "code",
   "execution_count": 8,
   "id": "532559d4-63e2-45c1-8657-9326dc549354",
   "metadata": {},
   "outputs": [],
   "source": [
    "# print(gaussian_outcome_coeffs.mean())\n",
    "# print(gaussian_outcome_coeffs.std())"
   ]
  },
  {
   "cell_type": "markdown",
   "id": "ba9dcb71-a33c-4a2a-b6da-c418772a9dca",
   "metadata": {},
   "source": [
    "### Mixed Gaussian and Gamma Outcomes"
   ]
  },
  {
   "cell_type": "code",
   "execution_count": 9,
   "id": "7d95c6e9-0762-4084-8994-30d37803d0e3",
   "metadata": {},
   "outputs": [],
   "source": [
    "Z_disc, Z_cont, X, Y = causl_py.generate_mixed_samples(20000, CAUSAL_PARAMS, 0).values()"
   ]
  },
  {
   "cell_type": "code",
   "execution_count": 10,
   "id": "1e1469be-3697-415b-a3e9-d04431559db8",
   "metadata": {},
   "outputs": [],
   "source": [
    "uz_samples = causl_py.generate_uz_samples(Z_cont=Z_cont, use_marginal_flow=False, seed=0, frugal_flow_hyperparams=hyperparams_dict)"
   ]
  },
  {
   "cell_type": "code",
   "execution_count": 11,
   "id": "61a772b4-dbf9-48b6-b6df-6dd64b820fe4",
   "metadata": {},
   "outputs": [],
   "source": [
    "uz_disc_samples = uz_samples['uz_disc']\n",
    "uz_cont_samples = uz_samples['uz_cont']"
   ]
  },
  {
   "cell_type": "code",
   "execution_count": 12,
   "id": "377b7c9f-fdd8-4187-ba88-274cbf41b9c5",
   "metadata": {},
   "outputs": [
    {
     "name": "stderr",
     "output_type": "stream",
     "text": [
      "  2%|█                                                      | 186/10000 [03:07<2:45:01,  1.01s/it, train=1.083259270849787, val=1.1823966923574782 (Max patience reached)]\n"
     ]
    }
   ],
   "source": [
    "frugal_flow, losses = causl_py.train_frugal_flow(\n",
    "    key=jr.PRNGKey(0),\n",
    "    y=Y,\n",
    "    u_z=uz_cont_samples,\n",
    "    condition=X,\n",
    "    **hyperparams_dict,\n",
    "    causal_model='gaussian',\n",
    "    causal_model_args={'ate': jnp.array([-7.]), 'const': 3., 'scale': 5}\n",
    ")"
   ]
  },
  {
   "cell_type": "code",
   "execution_count": 13,
   "id": "90427a47-41ef-410c-a961-5a30a7f738e2",
   "metadata": {},
   "outputs": [],
   "source": [
    "causal_margin = frugal_flow.bijection.bijections[-1].bijection.bijections[0]"
   ]
  },
  {
   "cell_type": "code",
   "execution_count": 14,
   "id": "4b5d8bb9-c36d-4e38-ad7b-98df62db68cc",
   "metadata": {},
   "outputs": [
    {
     "data": {
      "text/plain": [
       "Array([4.98305914], dtype=float64)"
      ]
     },
     "execution_count": 14,
     "metadata": {},
     "output_type": "execute_result"
    }
   ],
   "source": [
    "causal_margin.ate"
   ]
  },
  {
   "cell_type": "code",
   "execution_count": 15,
   "id": "8034bb27-6674-4f8f-b022-f727c894a954",
   "metadata": {},
   "outputs": [
    {
     "data": {
      "text/plain": [
       "Array(2.01680274, dtype=float64)"
      ]
     },
     "execution_count": 15,
     "metadata": {},
     "output_type": "execute_result"
    }
   ],
   "source": [
    "causal_margin.const"
   ]
  },
  {
   "cell_type": "code",
   "execution_count": 16,
   "id": "7e1f6bc9-d2b0-4bf3-9751-863d6d22df85",
   "metadata": {},
   "outputs": [
    {
     "data": {
      "text/plain": [
       "Array(1.01194294, dtype=float64)"
      ]
     },
     "execution_count": 16,
     "metadata": {},
     "output_type": "execute_result"
    }
   ],
   "source": [
    "causal_margin.scale"
   ]
  },
  {
   "cell_type": "code",
   "execution_count": 17,
   "id": "a92adc2c-236e-4f3a-b575-5491fc244bc9",
   "metadata": {},
   "outputs": [
    {
     "ename": "AttributeError",
     "evalue": "'float' object has no attribute 'shape'",
     "output_type": "error",
     "traceback": [
      "\u001b[0;31m---------------------------------------------------------------------------\u001b[0m",
      "\u001b[0;31mAttributeError\u001b[0m                            Traceback (most recent call last)",
      "Cell \u001b[0;32mIn[17], line 1\u001b[0m\n\u001b[0;32m----> 1\u001b[0m continous_covariates_results \u001b[38;5;241m=\u001b[39m \u001b[43mcausl_py\u001b[49m\u001b[38;5;241;43m.\u001b[39;49m\u001b[43mrun_simulations\u001b[49m\u001b[43m(\u001b[49m\n\u001b[1;32m      2\u001b[0m \u001b[43m    \u001b[49m\u001b[43mcausl_py\u001b[49m\u001b[38;5;241;43m.\u001b[39;49m\u001b[43mgenerate_mixed_samples\u001b[49m\u001b[43m,\u001b[49m\u001b[43m \u001b[49m\n\u001b[1;32m      3\u001b[0m \u001b[43m    \u001b[49m\u001b[43mseed\u001b[49m\u001b[38;5;241;43m=\u001b[39;49m\u001b[43mSEED\u001b[49m\u001b[43m,\u001b[49m\u001b[43m \u001b[49m\n\u001b[1;32m      4\u001b[0m \u001b[43m    \u001b[49m\u001b[43mnum_samples\u001b[49m\u001b[38;5;241;43m=\u001b[39;49m\u001b[43mNUM_SAMPLES\u001b[49m\u001b[43m,\u001b[49m\u001b[43m \u001b[49m\n\u001b[1;32m      5\u001b[0m \u001b[43m    \u001b[49m\u001b[43mnum_iter\u001b[49m\u001b[38;5;241;43m=\u001b[39;49m\u001b[43mNUM_ITER\u001b[49m\u001b[43m,\u001b[49m\u001b[43m \u001b[49m\n\u001b[1;32m      6\u001b[0m \u001b[43m    \u001b[49m\u001b[43mcausal_params\u001b[49m\u001b[38;5;241;43m=\u001b[39;49m\u001b[43mCAUSAL_PARAMS\u001b[49m\u001b[43m,\u001b[49m\n\u001b[1;32m      7\u001b[0m \u001b[43m    \u001b[49m\u001b[43mhyperparams_dict\u001b[49m\u001b[38;5;241;43m=\u001b[39;49m\u001b[43mhyperparams_dict\u001b[49m\u001b[43m,\u001b[49m\n\u001b[1;32m      8\u001b[0m \u001b[43m    \u001b[49m\u001b[43mcausal_model_args\u001b[49m\u001b[38;5;241;43m=\u001b[39;49m\u001b[43m{\u001b[49m\u001b[38;5;124;43m'\u001b[39;49m\u001b[38;5;124;43mate\u001b[39;49m\u001b[38;5;124;43m'\u001b[39;49m\u001b[43m:\u001b[49m\u001b[43m \u001b[49m\u001b[38;5;241;43m0.\u001b[39;49m\u001b[43m,\u001b[49m\u001b[43m \u001b[49m\u001b[38;5;124;43m'\u001b[39;49m\u001b[38;5;124;43mconst\u001b[39;49m\u001b[38;5;124;43m'\u001b[39;49m\u001b[43m:\u001b[49m\u001b[43m \u001b[49m\u001b[38;5;241;43m0.\u001b[39;49m\u001b[43m,\u001b[49m\u001b[43m \u001b[49m\u001b[38;5;124;43m'\u001b[39;49m\u001b[38;5;124;43mscale\u001b[39;49m\u001b[38;5;124;43m'\u001b[39;49m\u001b[43m:\u001b[49m\u001b[43m \u001b[49m\u001b[38;5;241;43m1\u001b[39;49m\u001b[43m}\u001b[49m\n\u001b[1;32m      9\u001b[0m \u001b[43m)\u001b[49m\n",
      "File \u001b[0;32m~/Library/CloudStorage/GoogleDrive-danielmanela@gmail.com/My Drive/work/deep-copula-frugal/validation/../data/template_causl_simulations.py:181\u001b[0m, in \u001b[0;36mrun_simulations\u001b[0;34m(data_generating_function, seed, num_samples, num_iter, causal_params, hyperparams_dict, causal_model_args)\u001b[0m\n\u001b[1;32m    179\u001b[0m \u001b[38;5;28;01mfor\u001b[39;00m i \u001b[38;5;129;01min\u001b[39;00m \u001b[38;5;28mrange\u001b[39m(num_iter):\n\u001b[1;32m    180\u001b[0m     Z_disc, Z_cont, X, Y \u001b[38;5;241m=\u001b[39m data_generating_function(num_samples, seed\u001b[38;5;241m=\u001b[39mseed\u001b[38;5;241m+\u001b[39mi, causal_params\u001b[38;5;241m=\u001b[39mcausal_params)\u001b[38;5;241m.\u001b[39mvalues()\n\u001b[0;32m--> 181\u001b[0m     frugal_fit, losses \u001b[38;5;241m=\u001b[39m \u001b[43mcausl_py\u001b[49m\u001b[38;5;241;43m.\u001b[39;49m\u001b[43mfrugal_fitting\u001b[49m\u001b[43m(\u001b[49m\n\u001b[1;32m    182\u001b[0m \u001b[43m        \u001b[49m\u001b[43mX\u001b[49m\u001b[43m,\u001b[49m\u001b[43m \u001b[49m\u001b[43mY\u001b[49m\u001b[43m,\u001b[49m\u001b[43m \u001b[49m\u001b[43mZ_cont\u001b[49m\u001b[38;5;241;43m=\u001b[39;49m\u001b[43mZ_cont\u001b[49m\u001b[43m,\u001b[49m\u001b[43m \u001b[49m\u001b[43mZ_disc\u001b[49m\u001b[38;5;241;43m=\u001b[39;49m\u001b[43mZ_disc\u001b[49m\u001b[43m,\u001b[49m\u001b[43m \u001b[49m\u001b[43mseed\u001b[49m\u001b[38;5;241;43m=\u001b[39;49m\u001b[43mseed\u001b[49m\u001b[38;5;241;43m+\u001b[39;49m\u001b[43mi\u001b[49m\u001b[43m,\u001b[49m\n\u001b[1;32m    183\u001b[0m \u001b[43m        \u001b[49m\u001b[43mfrugal_flow_hyperparams\u001b[49m\u001b[38;5;241;43m=\u001b[39;49m\u001b[43mhyperparams_dict\u001b[49m\u001b[43m,\u001b[49m\n\u001b[1;32m    184\u001b[0m \u001b[43m        \u001b[49m\u001b[43mcausal_model\u001b[49m\u001b[38;5;241;43m=\u001b[39;49m\u001b[38;5;124;43m'\u001b[39;49m\u001b[38;5;124;43mgaussian\u001b[39;49m\u001b[38;5;124;43m'\u001b[39;49m\u001b[43m,\u001b[49m\n\u001b[1;32m    185\u001b[0m \u001b[43m        \u001b[49m\u001b[43mcausal_model_args\u001b[49m\u001b[38;5;241;43m=\u001b[39;49m\u001b[43mcausal_model_args\u001b[49m\u001b[43m,\u001b[49m\n\u001b[1;32m    186\u001b[0m \u001b[43m    \u001b[49m\u001b[43m)\u001b[49m\n\u001b[1;32m    187\u001b[0m     causal_margin \u001b[38;5;241m=\u001b[39m frugal_fit[\u001b[38;5;124m'\u001b[39m\u001b[38;5;124mcausal_margin\u001b[39m\u001b[38;5;124m'\u001b[39m]\n\u001b[1;32m    188\u001b[0m     results\u001b[38;5;241m.\u001b[39mappend(np\u001b[38;5;241m.\u001b[39marray([\n\u001b[1;32m    189\u001b[0m         causal_margin\u001b[38;5;241m.\u001b[39mate,\n\u001b[1;32m    190\u001b[0m         causal_margin\u001b[38;5;241m.\u001b[39mconst,\n\u001b[1;32m    191\u001b[0m         causal_margin\u001b[38;5;241m.\u001b[39mscale\n\u001b[1;32m    192\u001b[0m     ]))\n",
      "File \u001b[0;32m~/Library/CloudStorage/GoogleDrive-danielmanela@gmail.com/My Drive/work/deep-copula-frugal/validation/../data/template_causl_simulations.py:141\u001b[0m, in \u001b[0;36mfrugal_fitting\u001b[0;34m(X, Y, use_marginal_flow, Z_disc, Z_cont, seed, frugal_flow_hyperparams, causal_model, causal_model_args)\u001b[0m\n\u001b[1;32m    138\u001b[0m uz_cont_samples \u001b[38;5;241m=\u001b[39m uz_samples[\u001b[38;5;124m'\u001b[39m\u001b[38;5;124muz_cont\u001b[39m\u001b[38;5;124m'\u001b[39m]\n\u001b[1;32m    140\u001b[0m \u001b[38;5;66;03m# Learn Frugal Flow\u001b[39;00m\n\u001b[0;32m--> 141\u001b[0m frugal_flow, losses \u001b[38;5;241m=\u001b[39m \u001b[43mtrain_frugal_flow\u001b[49m\u001b[43m(\u001b[49m\n\u001b[1;32m    142\u001b[0m \u001b[43m    \u001b[49m\u001b[43mkey\u001b[49m\u001b[38;5;241;43m=\u001b[39;49m\u001b[43msubkeys\u001b[49m\u001b[43m[\u001b[49m\u001b[38;5;241;43m1\u001b[39;49m\u001b[43m]\u001b[49m\u001b[43m,\u001b[49m\n\u001b[1;32m    143\u001b[0m \u001b[43m    \u001b[49m\u001b[43my\u001b[49m\u001b[38;5;241;43m=\u001b[39;49m\u001b[43mY\u001b[49m\u001b[43m,\u001b[49m\n\u001b[1;32m    144\u001b[0m \u001b[43m    \u001b[49m\u001b[43mu_z\u001b[49m\u001b[38;5;241;43m=\u001b[39;49m\u001b[43muz_samples\u001b[49m\u001b[43m[\u001b[49m\u001b[38;5;124;43m'\u001b[39;49m\u001b[38;5;124;43muz_samples\u001b[39;49m\u001b[38;5;124;43m'\u001b[39;49m\u001b[43m]\u001b[49m\u001b[43m,\u001b[49m\n\u001b[1;32m    145\u001b[0m \u001b[43m    \u001b[49m\u001b[43mcondition\u001b[49m\u001b[38;5;241;43m=\u001b[39;49m\u001b[43mX\u001b[49m\u001b[43m,\u001b[49m\n\u001b[1;32m    146\u001b[0m \u001b[43m    \u001b[49m\u001b[38;5;241;43m*\u001b[39;49m\u001b[38;5;241;43m*\u001b[39;49m\u001b[43mfrugal_flow_hyperparams\u001b[49m\u001b[43m,\u001b[49m\n\u001b[1;32m    147\u001b[0m \u001b[43m    \u001b[49m\u001b[43mcausal_model\u001b[49m\u001b[38;5;241;43m=\u001b[39;49m\u001b[43mcausal_model\u001b[49m\u001b[43m,\u001b[49m\n\u001b[1;32m    148\u001b[0m \u001b[43m    \u001b[49m\u001b[43mcausal_model_args\u001b[49m\u001b[38;5;241;43m=\u001b[39;49m\u001b[43mcausal_model_args\u001b[49m\n\u001b[1;32m    149\u001b[0m \u001b[43m\u001b[49m\u001b[43m)\u001b[49m\n\u001b[1;32m    150\u001b[0m causal_margin \u001b[38;5;241m=\u001b[39m frugal_flow\u001b[38;5;241m.\u001b[39mbijection\u001b[38;5;241m.\u001b[39mbijections[\u001b[38;5;241m-\u001b[39m\u001b[38;5;241m1\u001b[39m]\u001b[38;5;241m.\u001b[39mbijection\u001b[38;5;241m.\u001b[39mbijections[\u001b[38;5;241m0\u001b[39m]\n\u001b[1;32m    151\u001b[0m min_loss \u001b[38;5;241m=\u001b[39m jnp\u001b[38;5;241m.\u001b[39mmin(jnp\u001b[38;5;241m.\u001b[39marray(losses[\u001b[38;5;124m'\u001b[39m\u001b[38;5;124mval\u001b[39m\u001b[38;5;124m'\u001b[39m]))\n",
      "File \u001b[0;32m~/Library/CloudStorage/GoogleDrive-danielmanela@gmail.com/My Drive/work/deep-copula-frugal/validation/../frugal_flows/causal_flows.py:534\u001b[0m, in \u001b[0;36mtrain_frugal_flow\u001b[0;34m(key, y, u_z, u_z_hetero, optimizer, RQS_knots, nn_depth, nn_width, flow_layers, show_progress, learning_rate, max_epochs, max_patience, batch_size, condition, mask_condition, stop_grad_until_active, causal_model, causal_model_args)\u001b[0m\n\u001b[1;32m    531\u001b[0m     causal_effect_idx \u001b[38;5;241m=\u001b[39m \u001b[38;5;241m0\u001b[39m\n\u001b[1;32m    533\u001b[0m \u001b[38;5;28;01mif\u001b[39;00m causal_model \u001b[38;5;241m==\u001b[39m \u001b[38;5;124m\"\u001b[39m\u001b[38;5;124mgaussian\u001b[39m\u001b[38;5;124m\"\u001b[39m:\n\u001b[0;32m--> 534\u001b[0m     frugal_flow, losses \u001b[38;5;241m=\u001b[39m \u001b[43mtrain_frugal_flow_gaussian\u001b[49m\u001b[43m(\u001b[49m\n\u001b[1;32m    535\u001b[0m \u001b[43m        \u001b[49m\u001b[43mkey\u001b[49m\u001b[38;5;241;43m=\u001b[39;49m\u001b[43mkey\u001b[49m\u001b[43m,\u001b[49m\n\u001b[1;32m    536\u001b[0m \u001b[43m        \u001b[49m\u001b[43my\u001b[49m\u001b[38;5;241;43m=\u001b[39;49m\u001b[43my\u001b[49m\u001b[43m,\u001b[49m\n\u001b[1;32m    537\u001b[0m \u001b[43m        \u001b[49m\u001b[43mu_z\u001b[49m\u001b[38;5;241;43m=\u001b[39;49m\u001b[43mu_z\u001b[49m\u001b[43m,\u001b[49m\u001b[43m  \u001b[49m\u001b[38;5;66;43;03m# impose discrete\u001b[39;49;00m\n\u001b[1;32m    538\u001b[0m \u001b[43m        \u001b[49m\u001b[43mu_z_hetero\u001b[49m\u001b[38;5;241;43m=\u001b[39;49m\u001b[43mu_z_hetero\u001b[49m\u001b[43m,\u001b[49m\n\u001b[1;32m    539\u001b[0m \u001b[43m        \u001b[49m\u001b[43moptimizer\u001b[49m\u001b[38;5;241;43m=\u001b[39;49m\u001b[43moptimizer\u001b[49m\u001b[43m,\u001b[49m\n\u001b[1;32m    540\u001b[0m \u001b[43m        \u001b[49m\u001b[43mRQS_knots\u001b[49m\u001b[38;5;241;43m=\u001b[39;49m\u001b[43mRQS_knots\u001b[49m\u001b[43m,\u001b[49m\n\u001b[1;32m    541\u001b[0m \u001b[43m        \u001b[49m\u001b[43mnn_depth\u001b[49m\u001b[38;5;241;43m=\u001b[39;49m\u001b[43mnn_depth\u001b[49m\u001b[43m,\u001b[49m\n\u001b[1;32m    542\u001b[0m \u001b[43m        \u001b[49m\u001b[43mnn_width\u001b[49m\u001b[38;5;241;43m=\u001b[39;49m\u001b[43mnn_width\u001b[49m\u001b[43m,\u001b[49m\n\u001b[1;32m    543\u001b[0m \u001b[43m        \u001b[49m\u001b[43mflow_layers\u001b[49m\u001b[38;5;241;43m=\u001b[39;49m\u001b[43mflow_layers\u001b[49m\u001b[43m,\u001b[49m\n\u001b[1;32m    544\u001b[0m \u001b[43m        \u001b[49m\u001b[43mshow_progress\u001b[49m\u001b[38;5;241;43m=\u001b[39;49m\u001b[43mshow_progress\u001b[49m\u001b[43m,\u001b[49m\n\u001b[1;32m    545\u001b[0m \u001b[43m        \u001b[49m\u001b[43mlearning_rate\u001b[49m\u001b[38;5;241;43m=\u001b[39;49m\u001b[43mlearning_rate\u001b[49m\u001b[43m,\u001b[49m\n\u001b[1;32m    546\u001b[0m \u001b[43m        \u001b[49m\u001b[43mmax_epochs\u001b[49m\u001b[38;5;241;43m=\u001b[39;49m\u001b[43mmax_epochs\u001b[49m\u001b[43m,\u001b[49m\n\u001b[1;32m    547\u001b[0m \u001b[43m        \u001b[49m\u001b[43mmax_patience\u001b[49m\u001b[38;5;241;43m=\u001b[39;49m\u001b[43mmax_patience\u001b[49m\u001b[43m,\u001b[49m\n\u001b[1;32m    548\u001b[0m \u001b[43m        \u001b[49m\u001b[43mbatch_size\u001b[49m\u001b[38;5;241;43m=\u001b[39;49m\u001b[43mbatch_size\u001b[49m\u001b[43m,\u001b[49m\n\u001b[1;32m    549\u001b[0m \u001b[43m        \u001b[49m\u001b[43mcondition\u001b[49m\u001b[38;5;241;43m=\u001b[39;49m\u001b[43mcondition\u001b[49m\u001b[43m,\u001b[49m\n\u001b[1;32m    550\u001b[0m \u001b[43m        \u001b[49m\u001b[43mmask_condition\u001b[49m\u001b[38;5;241;43m=\u001b[39;49m\u001b[43mmask_condition\u001b[49m\u001b[43m,\u001b[49m\n\u001b[1;32m    551\u001b[0m \u001b[43m        \u001b[49m\u001b[43mstop_grad_until_active\u001b[49m\u001b[38;5;241;43m=\u001b[39;49m\u001b[43mstop_grad_until_active\u001b[49m\u001b[43m,\u001b[49m\n\u001b[1;32m    552\u001b[0m \u001b[43m        \u001b[49m\u001b[43mcausal_model_args\u001b[49m\u001b[38;5;241;43m=\u001b[39;49m\u001b[43mcausal_model_args\u001b[49m\u001b[43m,\u001b[49m\n\u001b[1;32m    553\u001b[0m \u001b[43m        \u001b[49m\u001b[43mcausal_effect_idx\u001b[49m\u001b[38;5;241;43m=\u001b[39;49m\u001b[43mcausal_effect_idx\u001b[49m\u001b[43m,\u001b[49m\n\u001b[1;32m    554\u001b[0m \u001b[43m    \u001b[49m\u001b[43m)\u001b[49m\n\u001b[1;32m    556\u001b[0m \u001b[38;5;28;01melif\u001b[39;00m causal_model \u001b[38;5;241m==\u001b[39m \u001b[38;5;124m\"\u001b[39m\u001b[38;5;124mflexible_discrete_output\u001b[39m\u001b[38;5;124m\"\u001b[39m:\n\u001b[1;32m    557\u001b[0m     frugal_flow, losses \u001b[38;5;241m=\u001b[39m train_frugal_flow_flexible_discrete(\n\u001b[1;32m    558\u001b[0m         key\u001b[38;5;241m=\u001b[39mkey,\n\u001b[1;32m    559\u001b[0m         y\u001b[38;5;241m=\u001b[39my,\n\u001b[0;32m   (...)\u001b[0m\n\u001b[1;32m    574\u001b[0m         causal_model_args\u001b[38;5;241m=\u001b[39mcausal_model_args,\n\u001b[1;32m    575\u001b[0m     )\n",
      "File \u001b[0;32m~/Library/CloudStorage/GoogleDrive-danielmanela@gmail.com/My Drive/work/deep-copula-frugal/validation/../frugal_flows/causal_flows.py:423\u001b[0m, in \u001b[0;36mtrain_frugal_flow_gaussian\u001b[0;34m(key, y, u_z, u_z_hetero, optimizer, RQS_knots, nn_depth, nn_width, flow_layers, show_progress, learning_rate, max_epochs, max_patience, batch_size, condition, mask_condition, stop_grad_until_active, causal_model_args, causal_effect_idx)\u001b[0m\n\u001b[1;32m    413\u001b[0m \u001b[38;5;66;03m# list_bijections = [\u001b[39;00m\n\u001b[1;32m    414\u001b[0m \u001b[38;5;66;03m#     UnivariateNormalCDF(\u001b[39;00m\n\u001b[1;32m    415\u001b[0m \u001b[38;5;66;03m#         ate=causal_model_args[\"ate\"],\u001b[39;00m\n\u001b[0;32m   (...)\u001b[0m\n\u001b[1;32m    419\u001b[0m \u001b[38;5;66;03m#     )\u001b[39;00m\n\u001b[1;32m    420\u001b[0m \u001b[38;5;66;03m# ] + [Identity(())] * nvars\u001b[39;00m\n\u001b[1;32m    422\u001b[0m list_bijections \u001b[38;5;241m=\u001b[39m [Identity(())] \u001b[38;5;241m*\u001b[39m (nvars)\n\u001b[0;32m--> 423\u001b[0m list_bijections[causal_effect_idx] \u001b[38;5;241m=\u001b[39m \u001b[43mUnivariateNormalCDF\u001b[49m\u001b[43m(\u001b[49m\n\u001b[1;32m    424\u001b[0m \u001b[43m    \u001b[49m\u001b[43mate\u001b[49m\u001b[38;5;241;43m=\u001b[39;49m\u001b[43mcausal_model_args\u001b[49m\u001b[43m[\u001b[49m\u001b[38;5;124;43m\"\u001b[39;49m\u001b[38;5;124;43mate\u001b[39;49m\u001b[38;5;124;43m\"\u001b[39;49m\u001b[43m]\u001b[49m\u001b[43m,\u001b[49m\n\u001b[1;32m    425\u001b[0m \u001b[43m    \u001b[49m\u001b[43mscale\u001b[49m\u001b[38;5;241;43m=\u001b[39;49m\u001b[43mcausal_model_args\u001b[49m\u001b[43m[\u001b[49m\u001b[38;5;124;43m\"\u001b[39;49m\u001b[38;5;124;43mscale\u001b[39;49m\u001b[38;5;124;43m\"\u001b[39;49m\u001b[43m]\u001b[49m\u001b[43m,\u001b[49m\n\u001b[1;32m    426\u001b[0m \u001b[43m    \u001b[49m\u001b[43mconst\u001b[49m\u001b[38;5;241;43m=\u001b[39;49m\u001b[43mcausal_model_args\u001b[49m\u001b[43m[\u001b[49m\u001b[38;5;124;43m\"\u001b[39;49m\u001b[38;5;124;43mconst\u001b[39;49m\u001b[38;5;124;43m\"\u001b[39;49m\u001b[43m]\u001b[49m\u001b[43m,\u001b[49m\n\u001b[1;32m    427\u001b[0m \u001b[43m    \u001b[49m\u001b[43mcond_dim\u001b[49m\u001b[38;5;241;43m=\u001b[39;49m\u001b[43mcond_dim\u001b[49m\u001b[43m,\u001b[49m\n\u001b[1;32m    428\u001b[0m \u001b[43m\u001b[49m\u001b[43m)\u001b[49m\n\u001b[1;32m    430\u001b[0m marginal_transform \u001b[38;5;241m=\u001b[39m Stack(list_bijections)\n\u001b[1;32m    431\u001b[0m base_dist \u001b[38;5;241m=\u001b[39m Uniform(\u001b[38;5;241m-\u001b[39mjnp\u001b[38;5;241m.\u001b[39mones(nvars), jnp\u001b[38;5;241m.\u001b[39mones(nvars))\n",
      "File \u001b[0;32m~/micromamba/envs/deep-frugal/lib/python3.11/site-packages/equinox/_module.py:548\u001b[0m, in \u001b[0;36m_ModuleMeta.__call__\u001b[0;34m(cls, *args, **kwargs)\u001b[0m\n\u001b[1;32m    546\u001b[0m initable_cls \u001b[38;5;241m=\u001b[39m _make_initable(\u001b[38;5;28mcls\u001b[39m, \u001b[38;5;28mcls\u001b[39m\u001b[38;5;241m.\u001b[39m\u001b[38;5;21m__init__\u001b[39m, post_init, wraps\u001b[38;5;241m=\u001b[39m\u001b[38;5;28;01mFalse\u001b[39;00m)\n\u001b[1;32m    547\u001b[0m \u001b[38;5;66;03m# [Step 2] Instantiate the class as normal.\u001b[39;00m\n\u001b[0;32m--> 548\u001b[0m \u001b[38;5;28mself\u001b[39m \u001b[38;5;241m=\u001b[39m \u001b[38;5;28;43msuper\u001b[39;49m\u001b[43m(\u001b[49m\u001b[43m_ModuleMeta\u001b[49m\u001b[43m,\u001b[49m\u001b[43m \u001b[49m\u001b[43minitable_cls\u001b[49m\u001b[43m)\u001b[49m\u001b[38;5;241;43m.\u001b[39;49m\u001b[38;5;21;43m__call__\u001b[39;49m\u001b[43m(\u001b[49m\u001b[38;5;241;43m*\u001b[39;49m\u001b[43margs\u001b[49m\u001b[43m,\u001b[49m\u001b[43m \u001b[49m\u001b[38;5;241;43m*\u001b[39;49m\u001b[38;5;241;43m*\u001b[39;49m\u001b[43mkwargs\u001b[49m\u001b[43m)\u001b[49m\n\u001b[1;32m    549\u001b[0m \u001b[38;5;28;01massert\u001b[39;00m \u001b[38;5;129;01mnot\u001b[39;00m _is_abstract(\u001b[38;5;28mcls\u001b[39m)\n\u001b[1;32m    550\u001b[0m \u001b[38;5;66;03m# [Step 3] Check that all fields are occupied.\u001b[39;00m\n",
      "    \u001b[0;31m[... skipping hidden 2 frame]\u001b[0m\n",
      "File \u001b[0;32m~/Library/CloudStorage/GoogleDrive-danielmanela@gmail.com/My Drive/work/deep-copula-frugal/validation/../frugal_flows/bijections/univariate_normal_cdf.py:52\u001b[0m, in \u001b[0;36mUnivariateNormalCDF.__init__\u001b[0;34m(self, ate, scale, const, cond_dim)\u001b[0m\n\u001b[1;32m     49\u001b[0m \u001b[38;5;28;01melse\u001b[39;00m:\n\u001b[1;32m     50\u001b[0m     \u001b[38;5;28mself\u001b[39m\u001b[38;5;241m.\u001b[39mcond_shape \u001b[38;5;241m=\u001b[39m (cond_dim,)\n\u001b[1;32m     51\u001b[0m \u001b[38;5;28;01massert\u001b[39;00m (\n\u001b[0;32m---> 52\u001b[0m     \u001b[38;5;28mself\u001b[39m\u001b[38;5;241m.\u001b[39mcond_shape \u001b[38;5;241m==\u001b[39m \u001b[38;5;28;43mself\u001b[39;49m\u001b[38;5;241;43m.\u001b[39;49m\u001b[43mate\u001b[49m\u001b[38;5;241;43m.\u001b[39;49m\u001b[43mshape\u001b[49m\n\u001b[1;32m     53\u001b[0m ), \u001b[38;5;124m\"\u001b[39m\u001b[38;5;124mate and condition must have the same shape\u001b[39m\u001b[38;5;124m\"\u001b[39m\n",
      "\u001b[0;31mAttributeError\u001b[0m: 'float' object has no attribute 'shape'"
     ]
    }
   ],
   "source": [
    "continous_covariates_results = causl_py.run_simulations(\n",
    "    causl_py.generate_mixed_samples, \n",
    "    seed=SEED, \n",
    "    num_samples=NUM_SAMPLES, \n",
    "    num_iter=NUM_ITER, \n",
    "    causal_params=CAUSAL_PARAMS,\n",
    "    hyperparams_dict=hyperparams_dict,\n",
    "    causal_model_args={'ate': 0., 'const': 0., 'scale': 1}\n",
    ")"
   ]
  },
  {
   "cell_type": "code",
   "execution_count": null,
   "id": "1e29818a-ddb4-4f56-9d11-1fb4bd752d35",
   "metadata": {},
   "outputs": [],
   "source": [
    "continous_covariates_results"
   ]
  },
  {
   "cell_type": "code",
   "execution_count": null,
   "id": "afe5e95e-facb-4f70-9504-b3563aff44d4",
   "metadata": {},
   "outputs": [],
   "source": [
    "print(continous_covariates_results.mean())\n",
    "print(continous_covariates_results.std())"
   ]
  },
  {
   "cell_type": "markdown",
   "id": "b7a1c159-5441-4ed7-8890-be515f80fde7",
   "metadata": {},
   "source": [
    "#### Outcome Regression"
   ]
  },
  {
   "cell_type": "code",
   "execution_count": null,
   "id": "fb4daed3-c646-4d59-a219-e8131ff04332",
   "metadata": {},
   "outputs": [],
   "source": [
    "outcome_coeffs = {'ate': [], 'const': []}\n",
    "for i in range(NUM_ITER):\n",
    "    data = causl_py.generate_mixed_samples(N=NUM_SAMPLES, causal_params=CAUSAL_PARAMS, seed=i)\n",
    "    coeff_X, coeff_const = run_outcome_regression(data)\n",
    "    outcome_coeffs['ate'].append(coeff_X)\n",
    "    outcome_coeffs['const'].append(coeff_const)\n",
    "outcome_coeffs = pd.DataFrame.from_dict(outcome_coeffs)\n",
    "outcome_coeffs"
   ]
  },
  {
   "cell_type": "code",
   "execution_count": null,
   "id": "1f98eee7-e37c-49dd-b671-7f467f246822",
   "metadata": {},
   "outputs": [],
   "source": [
    "print(outcome_coeffs.mean())\n",
    "print(outcome_coeffs.std())"
   ]
  },
  {
   "cell_type": "code",
   "execution_count": null,
   "id": "2ce3d31b-b7ba-4efd-b736-7d48eeaf4ce8",
   "metadata": {},
   "outputs": [],
   "source": [
    "plt.figure(figsize=(12, 6))\n",
    "\n",
    "# Boxplot\n",
    "box = continous_covariates_results.boxplot(column=[\"ate\", \"const\", \"scale\"], grid=False)\n",
    "\n",
    "# Adding lines for the true parameters\n",
    "plt.axhline(y=TRUE_PARAMS['ate'], color='r', linestyle='--', label='True ate')\n",
    "plt.axhline(y=TRUE_PARAMS['const'], color='g', linestyle='--', label='True const')\n",
    "plt.axhline(y=TRUE_PARAMS['scale'], color='b', linestyle='--', label='True scale')\n",
    "\n",
    "# Adding title and labels\n",
    "plt.title('Box and Whisker Plot for ATE, Const, and Scale')\n",
    "plt.ylabel('Values')\n",
    "plt.ylim([0.80, 1.20])\n",
    "plt.legend()"
   ]
  },
  {
   "cell_type": "markdown",
   "id": "9e92ce2d-e11d-4d53-96df-6481da5b2401",
   "metadata": {},
   "source": [
    "### Mixed Continuous and Discrete (Small)"
   ]
  },
  {
   "cell_type": "code",
   "execution_count": null,
   "id": "29615df2-8aaa-441d-9e7e-1f2f0c5dacdf",
   "metadata": {},
   "outputs": [],
   "source": [
    "discrete_small_covariates_results = causl_py.run_simulations(\n",
    "    causl_py.generate_discrete_samples, \n",
    "    seed=SEED, \n",
    "    num_samples=NUM_SAMPLES, \n",
    "    num_iter=NUM_ITER, \n",
    "    causal_params=CAUSAL_PARAMS,\n",
    "    hyperparams_dict=hyperparams_dict,\n",
    "    causal_model_args={'ate': 0., 'const': 0., 'scale': 1}\n",
    ")"
   ]
  },
  {
   "cell_type": "code",
   "execution_count": null,
   "id": "ba2d08c5-9ebd-40ec-844a-219c5eb5a079",
   "metadata": {},
   "outputs": [],
   "source": [
    "discrete_small_covariates_results"
   ]
  },
  {
   "cell_type": "code",
   "execution_count": null,
   "id": "5e25a9b3-1a2e-4acf-af87-3757337a5877",
   "metadata": {},
   "outputs": [],
   "source": [
    "print(discrete_small_covariates_results.mean())\n",
    "print(discrete_small_covariates_results.std())"
   ]
  },
  {
   "cell_type": "markdown",
   "id": "e666a6e5-a855-487f-b55a-55610648f9ae",
   "metadata": {},
   "source": [
    "#### Outcome Regression"
   ]
  },
  {
   "cell_type": "code",
   "execution_count": null,
   "id": "3f9a4475-43bf-4bf4-8dde-3e552eb16ca2",
   "metadata": {},
   "outputs": [],
   "source": [
    "outcome_coeffs = {'ate': [], 'const': []}\n",
    "for i in range(NUM_ITER):\n",
    "    data = causl_py.generate_discrete_samples(N=NUM_SAMPLES, causal_params=CAUSAL_PARAMS, seed=i)\n",
    "    coeff_X, coeff_const = run_outcome_regression(data)\n",
    "    outcome_coeffs['ate'].append(coeff_X)\n",
    "    outcome_coeffs['const'].append(coeff_const)\n",
    "outcome_coeffs = pd.DataFrame.from_dict(outcome_coeffs)\n",
    "outcome_coeffs"
   ]
  },
  {
   "cell_type": "code",
   "execution_count": null,
   "id": "d7e55609-8f09-44d1-b3af-fd21d48b7eae",
   "metadata": {},
   "outputs": [],
   "source": [
    "print(outcome_coeffs.mean())\n",
    "print(outcome_coeffs.std())"
   ]
  },
  {
   "cell_type": "code",
   "execution_count": null,
   "id": "f0e08851-605f-4083-862c-9ba29dfc8e9d",
   "metadata": {},
   "outputs": [],
   "source": [
    "plt.figure(figsize=(12, 6))\n",
    "\n",
    "# Boxplot\n",
    "box = discrete_small_covariates_results.boxplot(column=[\"ate\", \"const\", \"scale\"], grid=False)\n",
    "\n",
    "# Adding lines for the true parameters\n",
    "plt.axhline(y=TRUE_PARAMS['ate'], color='r', linestyle='--', label='True ate')\n",
    "plt.axhline(y=TRUE_PARAMS['const'], color='g', linestyle='--', label='True const')\n",
    "plt.axhline(y=TRUE_PARAMS['scale'], color='b', linestyle='--', label='True scale')\n",
    "\n",
    "# Adding title and labels\n",
    "plt.title('Box and Whisker Plot for ATE, Const, and Scale')\n",
    "plt.ylabel('Values')\n",
    "plt.ylim([0.80, 1.20])\n",
    "plt.legend()"
   ]
  },
  {
   "cell_type": "markdown",
   "id": "253dfdcb-2777-43c2-a323-93fa3a7a4315",
   "metadata": {},
   "source": [
    "### Mixed Continuous and Discrete (Large)"
   ]
  },
  {
   "cell_type": "code",
   "execution_count": null,
   "id": "36562e65-1a00-46c0-a9af-dc25f38573bc",
   "metadata": {},
   "outputs": [],
   "source": [
    "hyperparams_dict_large = hyperparams_dict.copy()\n",
    "# hyperparams_dict_large['learning_rate'] = 1e-3\n",
    "discrete_big_covariates_results = causl_py.run_simulations(\n",
    "    causl_py.generate_many_discrete_samples, \n",
    "    seed=SEED, \n",
    "    num_samples=NUM_SAMPLES, \n",
    "    num_iter=NUM_ITER, \n",
    "    causal_params=CAUSAL_PARAMS,\n",
    "    hyperparams_dict=hyperparams_dict_large,\n",
    "    causal_model_args={'ate': 0., 'const': 0., 'scale': 1}\n",
    ")"
   ]
  },
  {
   "cell_type": "code",
   "execution_count": null,
   "id": "c3ae6fe1-cd77-46fe-84b5-68d8bfbbea89",
   "metadata": {},
   "outputs": [],
   "source": [
    "discrete_big_covariates_results"
   ]
  },
  {
   "cell_type": "code",
   "execution_count": null,
   "id": "68ec886c-429a-4159-a96a-411e9e7128c6",
   "metadata": {},
   "outputs": [],
   "source": [
    "print(discrete_big_covariates_results.mean())\n",
    "print(discrete_big_covariates_results.std())"
   ]
  },
  {
   "cell_type": "markdown",
   "id": "02c48dc5-a72f-41ea-b6c5-0832b83e1302",
   "metadata": {},
   "source": [
    "#### Outcome Regression"
   ]
  },
  {
   "cell_type": "code",
   "execution_count": null,
   "id": "27779e38-02f2-4b8a-8508-ba5aba1794fc",
   "metadata": {},
   "outputs": [],
   "source": [
    "outcome_coeffs = {'ate': [], 'const': []}\n",
    "for i in range(NUM_ITER):\n",
    "    data = causl_py.generate_many_discrete_samples(N=NUM_SAMPLES, causal_params=CAUSAL_PARAMS, seed=i)\n",
    "    coeff_X, coeff_const = run_outcome_regression(data)\n",
    "    outcome_coeffs['ate'].append(coeff_X)\n",
    "    outcome_coeffs['const'].append(coeff_const)\n",
    "outcome_coeffs = pd.DataFrame.from_dict(outcome_coeffs)\n",
    "outcome_coeffs"
   ]
  },
  {
   "cell_type": "code",
   "execution_count": null,
   "id": "767d19d9-6213-4bb5-9c18-e2ecac4e041a",
   "metadata": {},
   "outputs": [],
   "source": [
    "print(outcome_coeffs.mean())\n",
    "print(outcome_coeffs.std())"
   ]
  },
  {
   "cell_type": "code",
   "execution_count": null,
   "id": "c47dae7e-8039-4563-9692-b76280d41d19",
   "metadata": {},
   "outputs": [],
   "source": [
    "plt.figure(figsize=(12, 6))\n",
    "\n",
    "# Boxplot\n",
    "box = discrete_big_covariates_results.boxplot(column=[\"ate\", \"const\", \"scale\"], grid=False)\n",
    "\n",
    "# Adding lines for the true parameters\n",
    "plt.axhline(y=TRUE_PARAMS['ate'], color='r', linestyle='--', label='True ate')\n",
    "plt.axhline(y=TRUE_PARAMS['const'], color='g', linestyle='--', label='True const')\n",
    "plt.axhline(y=TRUE_PARAMS['scale'], color='b', linestyle='--', label='True scale')\n",
    "\n",
    "# Adding title and labels\n",
    "plt.title('Box and Whisker Plot for ATE, Const, and Scale')\n",
    "plt.ylabel('Values')\n",
    "plt.ylim([0.80, 1.20])\n",
    "plt.legend()"
   ]
  },
  {
   "cell_type": "markdown",
   "id": "0df62c19-ca34-4ec2-8bd3-6ab2e8415bad",
   "metadata": {},
   "source": [
    "### Mixed Continuous and Discrete (Large and Sparse)"
   ]
  },
  {
   "cell_type": "code",
   "execution_count": null,
   "id": "1a031e67-e801-4b0e-b6af-55f109930780",
   "metadata": {},
   "outputs": [],
   "source": [
    "# discrete_sparse_covariates_results = causl_py.run_simulations(\n",
    "#     causl_py.generate_many_discrete_samples_sparse, \n",
    "#     seed=SEED, \n",
    "#     num_samples=NUM_SAMPLES, \n",
    "#     num_iter=NUM_ITER, \n",
    "#     causal_params=CAUSAL_PARAMS,\n",
    "#     hyperparams_dict=hyperparams_dict,\n",
    "#     causal_model_args={'ate': 0., 'const': 0., 'scale': 1}\n",
    "# )\n",
    "# discrete_sparse_covariates_results"
   ]
  },
  {
   "cell_type": "code",
   "execution_count": null,
   "id": "04cc7229-2d61-4ef6-a8b7-e645985c403e",
   "metadata": {},
   "outputs": [],
   "source": [
    "# print(discrete_sparse_covariates_results.mean())\n",
    "# print(discrete_sparse_covariates_results.std())"
   ]
  },
  {
   "cell_type": "markdown",
   "id": "54dd564b-29ee-4620-85d8-71423b86f833",
   "metadata": {},
   "source": [
    "#### Outcome Regression"
   ]
  },
  {
   "cell_type": "code",
   "execution_count": null,
   "id": "4dc3caa6-75a6-4194-a734-1dcbfefee4c2",
   "metadata": {},
   "outputs": [],
   "source": [
    "outcome_coeffs = {'ate': [], 'const': []}\n",
    "for i in range(NUM_ITER):\n",
    "    data = causl_py.generate_many_discrete_samples(N=NUM_SAMPLES, causal_params=CAUSAL_PARAMS, seed=i)\n",
    "    coeff_X, coeff_const = run_outcome_regression(data)\n",
    "    outcome_coeffs['ate'].append(coeff_X)\n",
    "    outcome_coeffs['const'].append(coeff_const)\n",
    "outcome_coeffs = pd.DataFrame.from_dict(outcome_coeffs)\n",
    "outcome_coeffs"
   ]
  },
  {
   "cell_type": "code",
   "execution_count": null,
   "id": "bc54d989-8629-4457-bc5e-3652a53514ff",
   "metadata": {},
   "outputs": [],
   "source": [
    "# plt.figure(figsize=(12, 6))\n",
    "\n",
    "# # Boxplot\n",
    "# box = discrete_sparse_covariates_results.boxplot(column=[\"ate\", \"const\", \"scale\"], grid=False)\n",
    "\n",
    "# # Adding lines for the true parameters\n",
    "# plt.axhline(y=TRUE_PARAMS['ate'], color='r', linestyle='--', label='True ate')\n",
    "# plt.axhline(y=TRUE_PARAMS['const'], color='g', linestyle='--', label='True const')\n",
    "# plt.axhline(y=TRUE_PARAMS['scale'], color='b', linestyle='--', label='True scale')\n",
    "\n",
    "# # Adding title and labels\n",
    "# plt.title('Box and Whisker Plot for ATE, Const, and Scale')\n",
    "# plt.ylabel('Values')\n",
    "# plt.ylim([0.80, 1.20])\n",
    "# plt.legend()"
   ]
  },
  {
   "cell_type": "code",
   "execution_count": null,
   "id": "71166d22-a9ca-45ec-89ad-0f67d16f1c85",
   "metadata": {},
   "outputs": [],
   "source": []
  }
 ],
 "metadata": {
  "kernelspec": {
   "display_name": "Python 3 (ipykernel)",
   "language": "python",
   "name": "python3"
  },
  "language_info": {
   "codemirror_mode": {
    "name": "ipython",
    "version": 3
   },
   "file_extension": ".py",
   "mimetype": "text/x-python",
   "name": "python",
   "nbconvert_exporter": "python",
   "pygments_lexer": "ipython3",
   "version": "3.11.8"
  }
 },
 "nbformat": 4,
 "nbformat_minor": 5
}
