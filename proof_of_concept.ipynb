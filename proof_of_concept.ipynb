{
 "cells": [
  {
   "cell_type": "code",
   "execution_count": 1,
   "id": "5f7f84bc-95b6-4940-8e9e-39e71a296b85",
   "metadata": {},
   "outputs": [],
   "source": [
    "import jax\n",
    "import jax.random as jr\n",
    "import jax.numpy as jnp\n",
    "import pandas as pd\n",
    "import matplotlib.pyplot as plt\n",
    "from frugal_flows.causal_flows import get_independent_quantiles, train_frugal_flow\n",
    "\n",
    "from frugal_flows.bijections import UnivariateNormalCDF"
   ]
  },
  {
   "cell_type": "code",
   "execution_count": 2,
   "id": "6ac4dfa2-1af8-41b8-a082-c749fe8a85bd",
   "metadata": {},
   "outputs": [],
   "source": [
    "jax.config.update(\"jax_enable_x64\", True)"
   ]
  },
  {
   "cell_type": "code",
   "execution_count": 21,
   "id": "c69e8007-3930-450c-908a-849dd9f4eaf4",
   "metadata": {},
   "outputs": [],
   "source": [
    "data_path = '/Users/llaurabat/Dropbox/Oxford/deep_copula_frugal/deep-copula-frugal/data/'\n",
    "\n",
    "df = pd.read_csv(data_path + 'data_xdyc.csv')\n",
    "cols = [i for i in df.columns if i not in ['Z1', 'Z2']]\n",
    "df = df[cols].copy()"
   ]
  },
  {
   "cell_type": "code",
   "execution_count": 22,
   "id": "b8501b13-4bde-471a-b256-6488b5c447a9",
   "metadata": {},
   "outputs": [
    {
     "data": {
      "text/html": [
       "<div>\n",
       "<style scoped>\n",
       "    .dataframe tbody tr th:only-of-type {\n",
       "        vertical-align: middle;\n",
       "    }\n",
       "\n",
       "    .dataframe tbody tr th {\n",
       "        vertical-align: top;\n",
       "    }\n",
       "\n",
       "    .dataframe thead th {\n",
       "        text-align: right;\n",
       "    }\n",
       "</style>\n",
       "<table border=\"1\" class=\"dataframe\">\n",
       "  <thead>\n",
       "    <tr style=\"text-align: right;\">\n",
       "      <th></th>\n",
       "      <th>Y</th>\n",
       "      <th>Z3</th>\n",
       "      <th>Z4</th>\n",
       "    </tr>\n",
       "    <tr>\n",
       "      <th>X</th>\n",
       "      <th></th>\n",
       "      <th></th>\n",
       "      <th></th>\n",
       "    </tr>\n",
       "  </thead>\n",
       "  <tbody>\n",
       "    <tr>\n",
       "      <th>0.0</th>\n",
       "      <td>0.370500</td>\n",
       "      <td>-0.727174</td>\n",
       "      <td>0.071282</td>\n",
       "    </tr>\n",
       "    <tr>\n",
       "      <th>1.0</th>\n",
       "      <td>0.068882</td>\n",
       "      <td>0.122008</td>\n",
       "      <td>-0.094613</td>\n",
       "    </tr>\n",
       "  </tbody>\n",
       "</table>\n",
       "</div>"
      ],
      "text/plain": [
       "            Y        Z3        Z4\n",
       "X                                \n",
       "0.0  0.370500 -0.727174  0.071282\n",
       "1.0  0.068882  0.122008 -0.094613"
      ]
     },
     "execution_count": 22,
     "metadata": {},
     "output_type": "execute_result"
    }
   ],
   "source": [
    "df.groupby('X').mean()"
   ]
  },
  {
   "cell_type": "code",
   "execution_count": 23,
   "id": "20bb22a6-a046-4c78-b4d2-77fdbbd03f86",
   "metadata": {},
   "outputs": [
    {
     "data": {
      "text/html": [
       "<div>\n",
       "<style scoped>\n",
       "    .dataframe tbody tr th:only-of-type {\n",
       "        vertical-align: middle;\n",
       "    }\n",
       "\n",
       "    .dataframe tbody tr th {\n",
       "        vertical-align: top;\n",
       "    }\n",
       "\n",
       "    .dataframe thead th {\n",
       "        text-align: right;\n",
       "    }\n",
       "</style>\n",
       "<table border=\"1\" class=\"dataframe\">\n",
       "  <thead>\n",
       "    <tr style=\"text-align: right;\">\n",
       "      <th></th>\n",
       "      <th>Z3</th>\n",
       "      <th>Z4</th>\n",
       "    </tr>\n",
       "  </thead>\n",
       "  <tbody>\n",
       "    <tr>\n",
       "      <th>Z3</th>\n",
       "      <td>1.000000</td>\n",
       "      <td>0.801955</td>\n",
       "    </tr>\n",
       "    <tr>\n",
       "      <th>Z4</th>\n",
       "      <td>0.801955</td>\n",
       "      <td>1.000000</td>\n",
       "    </tr>\n",
       "  </tbody>\n",
       "</table>\n",
       "</div>"
      ],
      "text/plain": [
       "          Z3        Z4\n",
       "Z3  1.000000  0.801955\n",
       "Z4  0.801955  1.000000"
      ]
     },
     "execution_count": 23,
     "metadata": {},
     "output_type": "execute_result"
    }
   ],
   "source": [
    "df.loc[df['X']==0, ['Z3', 'Z4']].corr()"
   ]
  },
  {
   "cell_type": "code",
   "execution_count": 24,
   "id": "2f70eb80-ff4c-4e8a-89a7-a5fb6d426de4",
   "metadata": {},
   "outputs": [
    {
     "data": {
      "text/html": [
       "<div>\n",
       "<style scoped>\n",
       "    .dataframe tbody tr th:only-of-type {\n",
       "        vertical-align: middle;\n",
       "    }\n",
       "\n",
       "    .dataframe tbody tr th {\n",
       "        vertical-align: top;\n",
       "    }\n",
       "\n",
       "    .dataframe thead th {\n",
       "        text-align: right;\n",
       "    }\n",
       "</style>\n",
       "<table border=\"1\" class=\"dataframe\">\n",
       "  <thead>\n",
       "    <tr style=\"text-align: right;\">\n",
       "      <th></th>\n",
       "      <th>Z3</th>\n",
       "      <th>Z4</th>\n",
       "    </tr>\n",
       "  </thead>\n",
       "  <tbody>\n",
       "    <tr>\n",
       "      <th>Z3</th>\n",
       "      <td>1.000000</td>\n",
       "      <td>0.770474</td>\n",
       "    </tr>\n",
       "    <tr>\n",
       "      <th>Z4</th>\n",
       "      <td>0.770474</td>\n",
       "      <td>1.000000</td>\n",
       "    </tr>\n",
       "  </tbody>\n",
       "</table>\n",
       "</div>"
      ],
      "text/plain": [
       "          Z3        Z4\n",
       "Z3  1.000000  0.770474\n",
       "Z4  0.770474  1.000000"
      ]
     },
     "execution_count": 24,
     "metadata": {},
     "output_type": "execute_result"
    }
   ],
   "source": [
    "df.loc[df['X']==1, ['Z3', 'Z4']].corr()"
   ]
  },
  {
   "cell_type": "code",
   "execution_count": 25,
   "id": "99f57971-644c-414e-ae91-5ded178fc749",
   "metadata": {},
   "outputs": [
    {
     "data": {
      "text/html": [
       "<div>\n",
       "<style scoped>\n",
       "    .dataframe tbody tr th:only-of-type {\n",
       "        vertical-align: middle;\n",
       "    }\n",
       "\n",
       "    .dataframe tbody tr th {\n",
       "        vertical-align: top;\n",
       "    }\n",
       "\n",
       "    .dataframe thead th {\n",
       "        text-align: right;\n",
       "    }\n",
       "</style>\n",
       "<table border=\"1\" class=\"dataframe\">\n",
       "  <thead>\n",
       "    <tr style=\"text-align: right;\">\n",
       "      <th></th>\n",
       "      <th>Y</th>\n",
       "      <th>Z3</th>\n",
       "      <th>Z4</th>\n",
       "    </tr>\n",
       "    <tr>\n",
       "      <th>X</th>\n",
       "      <th></th>\n",
       "      <th></th>\n",
       "      <th></th>\n",
       "    </tr>\n",
       "  </thead>\n",
       "  <tbody>\n",
       "    <tr>\n",
       "      <th>0.0</th>\n",
       "      <td>1.079367</td>\n",
       "      <td>0.938478</td>\n",
       "      <td>1.019502</td>\n",
       "    </tr>\n",
       "    <tr>\n",
       "      <th>1.0</th>\n",
       "      <td>1.135010</td>\n",
       "      <td>1.026536</td>\n",
       "      <td>1.040143</td>\n",
       "    </tr>\n",
       "  </tbody>\n",
       "</table>\n",
       "</div>"
      ],
      "text/plain": [
       "            Y        Z3        Z4\n",
       "X                                \n",
       "0.0  1.079367  0.938478  1.019502\n",
       "1.0  1.135010  1.026536  1.040143"
      ]
     },
     "execution_count": 25,
     "metadata": {},
     "output_type": "execute_result"
    }
   ],
   "source": [
    "df.groupby('X').std()"
   ]
  },
  {
   "cell_type": "code",
   "execution_count": 26,
   "id": "eff06893-2fcc-448d-b661-8315b45a63b0",
   "metadata": {},
   "outputs": [],
   "source": [
    "vmapped_normal_cdf = jax.vmap(UnivariateNormalCDF(ate=0., const=0., scale=1.).transform)"
   ]
  },
  {
   "cell_type": "code",
   "execution_count": 27,
   "id": "a212b969-cd2a-4ad1-aca3-f9c7e7e20a85",
   "metadata": {},
   "outputs": [],
   "source": [
    "u_z3 = vmapped_normal_cdf(df['Z3'].values)\n",
    "u_z4 = vmapped_normal_cdf(df['Z4'].values)"
   ]
  },
  {
   "cell_type": "code",
   "execution_count": 28,
   "id": "822203ff-2c2b-41e8-a156-26139974cc5a",
   "metadata": {},
   "outputs": [
    {
     "data": {
      "text/plain": [
       "(1000, 2)"
      ]
     },
     "execution_count": 28,
     "metadata": {},
     "output_type": "execute_result"
    }
   ],
   "source": [
    "jnp.vstack([u_z3, u_z4]).T.shape"
   ]
  },
  {
   "cell_type": "code",
   "execution_count": 29,
   "id": "a6513c90-db1d-4a39-880e-f7f9f52fd929",
   "metadata": {},
   "outputs": [
    {
     "data": {
      "image/png": "[encoded data removed]",
      "text/plain": [
       "<Figure size 640x480 with 1 Axes>"
      ]
     },
     "metadata": {},
     "output_type": "display_data"
    }
   ],
   "source": [
    "plt.hist(u_z4);"
   ]
  },
  {
   "cell_type": "code",
   "execution_count": 30,
   "id": "4969ae19-e122-4b42-9f59-cb46c0145bbc",
   "metadata": {},
   "outputs": [
    {
     "name": "stderr",
     "output_type": "stream",
     "text": [
      " 34%|███████████████████▉                                      | 24/70 [00:05<00:10,  4.18it/s, train=2.8825890385695385, val=3.149861806349252 (Max patience reached)]\n"
     ]
    }
   ],
   "source": [
    "res = get_independent_quantiles(key = jr.PRNGKey(78),\n",
    "                                z_cont=jnp.array(df[['Z3', 'Z4']].values),\n",
    "                                learning_rate=1e-3,\n",
    "                                max_epochs = 70,\n",
    "                                max_patience=10,\n",
    "                                return_z_cont_flow = True,\n",
    "                             )"
   ]
  },
  {
   "cell_type": "code",
   "execution_count": 31,
   "id": "7f66389f-73d3-4b0a-a5a9-074dd7979a40",
   "metadata": {},
   "outputs": [
    {
     "data": {
      "image/png": "[encoded data removed]",
      "text/plain": [
       "<Figure size 640x480 with 1 Axes>"
      ]
     },
     "metadata": {},
     "output_type": "display_data"
    }
   ],
   "source": [
    "plt.hist(res['u_z_cont'][:,1]);"
   ]
  },
  {
   "cell_type": "code",
   "execution_count": 32,
   "id": "d7ea6914-796a-45da-829c-8f6a2ae7728b",
   "metadata": {},
   "outputs": [
    {
     "data": {
      "text/plain": [
       "Array([-3.41933910e-01, -2.94930173e-01,  7.58104635e-01,  5.55621351e-01,\n",
       "        1.13509265e+00, -3.82535462e-01, -5.92392725e-01,  7.43922173e-01,\n",
       "        8.36544312e-01,  2.32177349e-01, -1.00615034e+00,  1.16218038e+00,\n",
       "        4.42906169e-01, -1.56186211e-01, -1.10737972e+00,  1.21664187e+00,\n",
       "       -1.49412466e+00, -8.91364170e-01, -7.71570898e-01, -1.37572906e-01,\n",
       "        1.99105883e+00,  1.81887852e+00, -4.23753223e-01, -8.26243691e-01,\n",
       "       -1.04645356e+00,  1.28740611e+00, -1.14520029e+00, -8.01495083e-01,\n",
       "        1.86019210e+00, -5.25570643e-01,  2.15231463e+00,  9.30652962e-01,\n",
       "        4.41138548e-01,  2.54784920e-01, -2.24606669e+00,  4.98915547e-01,\n",
       "       -5.48957879e-01, -2.54445743e+00, -1.25901119e-01, -7.83924059e-01,\n",
       "       -5.87054617e-01, -7.92392753e-02,  1.18652591e+00,  4.29691543e-01,\n",
       "        8.81342938e-01, -3.33700529e-02, -5.68309534e-01,  7.66220404e-01,\n",
       "        1.54384876e+00, -3.02563683e+00,  9.02494708e-02,  5.79873354e-01,\n",
       "        2.18985800e+00, -2.57238803e-01,  1.59499966e+00, -8.19901659e-01,\n",
       "       -1.64914321e+00, -1.10306373e+00,  1.28881514e+00, -1.79791558e+00,\n",
       "        3.18860397e-01,  1.09876568e+00, -1.35099329e+00, -1.95932777e-01,\n",
       "       -1.37934289e+00, -1.10782488e-01,  1.41343799e+00,  1.65261275e+00,\n",
       "        5.04871837e-01, -1.04329736e+00,  8.72968637e-01, -7.82028924e-01,\n",
       "       -1.63139418e+00,  2.11764669e+00, -4.49063706e-01,  5.47381812e-01,\n",
       "       -1.82944855e-01, -5.12654267e-01, -1.08787185e+00, -3.01464713e-01,\n",
       "       -4.58214780e-01, -5.26967922e-01, -4.37321747e-01,  6.64313145e-01,\n",
       "        1.93518809e+00,  5.64131966e-01, -1.65376264e+00,  2.46264995e-01,\n",
       "       -9.57432091e-01, -1.23946353e+00,  2.10922641e-01, -1.94095090e-01,\n",
       "        1.26713245e+00,  9.13416849e-01, -1.40579080e+00, -1.24434266e+00,\n",
       "        4.14102304e-01,  4.71823412e-01, -1.53939641e+00,  7.75782568e-01,\n",
       "       -1.09483318e+00, -8.96707900e-01,  1.00893574e+00,  9.82256564e-01,\n",
       "       -4.35372635e-01,  9.55340843e-01,  1.49144562e+00,  1.31335638e+00,\n",
       "        7.17007973e-01,  6.46942522e-01, -1.60131895e-01,  1.20686862e+00,\n",
       "       -3.18636707e-03, -2.15287198e-01,  5.59761382e-01,  7.66862928e-01,\n",
       "        1.22124667e+00, -5.61704238e-01,  1.96387960e+00,  1.28479572e+00,\n",
       "       -1.55712406e+00, -8.92996379e-01, -7.65391516e-02, -1.86640556e-01,\n",
       "        4.00555292e-01, -3.82614145e-01, -2.36514841e+00, -9.50901297e-01,\n",
       "        1.77407984e+00, -2.47416849e+00, -8.62582945e-01, -1.31390739e+00,\n",
       "        5.58060986e-02,  8.26317379e-01,  5.27288584e-02,  1.14343621e+00,\n",
       "       -8.09691468e-01, -2.82443673e-01,  3.64677411e-01, -1.61755437e+00,\n",
       "       -3.87920557e-01,  7.81791672e-01,  5.53126168e-01,  1.23746482e+00,\n",
       "        1.06530341e+00, -1.09677601e+00,  2.14882045e+00,  1.76084838e+00,\n",
       "        1.83115862e+00, -1.02713975e-01,  1.34107866e+00,  4.06894340e-01,\n",
       "       -1.31454891e+00, -6.73774587e-01, -8.56802671e-01, -9.74158360e-01,\n",
       "       -3.01740748e-01, -1.93790271e+00, -2.12181817e-01, -1.10736043e+00,\n",
       "       -1.63019914e+00,  1.55489037e+00, -1.92019859e-01,  3.16831491e-01,\n",
       "       -1.66668011e-01, -6.82600286e-01,  4.44274100e-01,  1.04324645e+00,\n",
       "        7.46486829e-01, -8.39606861e-01, -1.51341120e+00,  2.00817944e+00,\n",
       "       -2.04689301e+00, -1.42541521e-02, -4.25919522e-02,  2.79581584e+00,\n",
       "        4.16217530e-01,  3.14067525e-01, -1.64414287e+00, -1.55797233e+00,\n",
       "        1.34989933e+00,  1.70007962e+00,  2.33678340e+00, -6.72818534e-01,\n",
       "        8.19327494e-02, -2.44041550e-01,  1.93002473e+00,  7.87371647e-01,\n",
       "        1.83841917e-01, -4.19183630e-01, -5.88842177e-01,  1.66449697e+00,\n",
       "       -7.18589263e-01,  4.89107269e-01,  1.63029599e-01, -8.87973703e-01,\n",
       "        1.29658006e+00,  1.33713201e+00, -2.81562996e-01,  1.02264183e+00,\n",
       "       -7.76925971e-01,  2.04669794e+00,  2.47574339e-01,  1.50988202e+00,\n",
       "        9.57071530e-01, -1.31216021e+00,  8.46634937e-01, -8.43157873e-01,\n",
       "        1.12286702e+00, -1.41848088e+00,  6.22764944e-01, -3.67610124e-01,\n",
       "        3.44773270e-02, -1.85688112e+00,  7.84997110e-02,  1.51572473e+00,\n",
       "       -1.46397404e+00, -7.00680320e-02,  1.22072848e-01, -7.85922883e-01,\n",
       "       -7.89626230e-01,  2.23932909e+00, -2.51825742e-01,  1.51936760e-02,\n",
       "        3.73946986e-01,  1.88572221e+00,  1.74350336e-01, -5.16286133e-01,\n",
       "       -1.21786634e-02, -3.64699613e-01, -5.07966871e-01, -9.04291072e-01,\n",
       "        4.02665256e-01, -1.93991584e-03,  9.92530554e-01, -8.22870799e-01,\n",
       "       -2.69474682e-01, -1.87717104e+00,  1.45078565e-01,  1.96396755e+00,\n",
       "       -3.20884758e-01,  1.39609284e+00, -1.40721124e+00, -1.49398076e-01,\n",
       "       -9.20475223e-01, -4.12314424e+00,  2.23258493e+00,  5.76514102e-01,\n",
       "        7.14598837e-01,  1.35555031e+00,  1.50270644e-01,  5.18293791e-01,\n",
       "       -7.20762656e-01, -1.01311656e+00,  8.85642180e-01,  1.11373539e+00,\n",
       "        1.55687851e-01, -2.44980157e-01, -3.98364952e-01, -1.09909781e+00,\n",
       "        7.92112311e-02,  6.83928101e-01,  3.68502283e-01, -1.51380164e-01,\n",
       "        1.11205379e+00, -2.32803847e-01,  2.77148573e+00, -7.21496061e-01,\n",
       "        1.86511752e+00, -2.04697810e-01,  1.55459321e+00, -6.71014902e-01,\n",
       "       -3.84617684e-01, -7.92582945e-01,  3.06542737e-01, -1.04274986e-01,\n",
       "       -2.66107112e-01,  6.23613623e-01, -6.33505310e-01, -2.35658283e-01,\n",
       "        8.18986469e-01,  1.29245910e+00,  1.29246063e+00, -2.89475904e-01,\n",
       "        6.10503089e-01, -1.39005362e+00,  9.99868883e-01,  3.49002656e-01,\n",
       "       -3.34419454e-01, -1.52959486e+00, -1.08317714e+00,  1.10924833e+00,\n",
       "        1.91794961e-01, -1.12067101e+00, -8.04621903e-01, -5.83420246e-01,\n",
       "       -6.07212765e-01, -6.73721261e-01,  7.52181753e-01,  1.21051522e-01,\n",
       "       -6.79439970e-02, -1.90336685e+00, -1.39829346e-01,  2.40839495e+00,\n",
       "        6.96862021e-01,  1.03434068e+00,  2.49270614e-01, -1.06109694e+00,\n",
       "        3.35982533e+00,  8.33103244e-01, -6.04532781e-01,  1.40407570e+00,\n",
       "       -6.77070188e-01,  3.37065709e-01, -3.80704497e-02, -2.74175496e-01,\n",
       "        5.36365234e-01, -6.85034673e-01,  9.62900361e-01,  1.18122117e+00,\n",
       "        1.85741472e+00, -5.69740209e-01, -7.67894721e-01, -1.09164746e+00,\n",
       "       -1.00589921e+00, -7.85252140e-01,  1.17368076e+00,  7.81104382e-01,\n",
       "       -6.63849506e-01, -5.90966083e-01, -8.82606970e-02,  7.30544936e-01,\n",
       "       -1.83883078e+00,  9.22445187e-01, -1.13055615e+00, -3.67795101e-01,\n",
       "        1.81882033e+00, -1.46734971e+00, -1.67292620e+00, -4.01116104e-01,\n",
       "        1.22488078e-01, -5.57693760e-01,  6.53879894e-01,  2.60346325e+00,\n",
       "        4.83218936e-01, -5.61170523e-01, -3.75696122e-01, -4.52110268e-01,\n",
       "       -5.65321406e-01,  2.52983463e+00,  1.12266148e+00,  7.31649454e-01,\n",
       "       -2.13424844e+00,  3.22847757e-01,  8.31465397e-01,  2.54762309e-01,\n",
       "       -1.44872793e+00, -5.77522549e-03,  1.22046073e+00,  4.01173509e-01,\n",
       "        1.33950274e+00,  1.27872599e+00, -1.99009549e+00,  9.95568005e-01,\n",
       "       -1.16824548e-01, -1.25585898e+00, -7.08549699e-02, -1.75920131e+00,\n",
       "       -1.60366063e+00,  7.82007439e-01,  1.11528211e+00,  6.42380863e-01,\n",
       "       -1.52420568e+00, -1.25857024e+00,  1.28373826e+00,  3.51842191e-01,\n",
       "        3.01453923e+00,  1.02158141e+00, -7.89152563e-01, -8.61467063e-01,\n",
       "       -1.71393205e-01,  1.71274540e+00,  6.60311777e-01,  1.12665838e+00,\n",
       "        5.60787342e-01,  1.45258616e+00,  4.55453431e-01,  1.58887048e+00,\n",
       "       -6.13757807e-01,  8.35458532e-01,  1.83431427e+00,  1.50117555e+00,\n",
       "        8.26708886e-01,  1.03986990e-01,  7.12046689e-02,  3.22301154e-01,\n",
       "       -1.29105954e+00,  7.20273120e-01,  9.87044855e-01, -6.73081291e-01,\n",
       "        1.01351014e+00, -2.55301065e-01, -1.41665309e-01,  6.55745464e-02,\n",
       "        5.24851984e-01, -6.94824449e-01, -1.41579248e+00,  1.11856086e+00,\n",
       "        9.55519763e-01,  5.55476865e-01, -8.65514969e-01, -3.28313882e-01,\n",
       "       -1.62969233e+00, -1.15379638e+00, -1.79413126e-01,  4.33532824e-01,\n",
       "        6.72668028e-01, -1.70180651e-02, -5.45104890e-01,  8.73335581e-01,\n",
       "        2.37861199e+00, -1.65085370e+00,  6.92608322e-01, -1.71364566e-01,\n",
       "        2.66481715e+00,  8.81074020e-02, -6.88767035e-01, -1.68482999e+00,\n",
       "        4.15507316e-01,  2.88240652e+00,  3.05522647e-01,  1.07149333e+00,\n",
       "        5.78967046e-01, -3.25229541e-01,  2.45312143e+00, -1.60710353e-01,\n",
       "       -4.56561772e-01, -1.17275804e+00, -8.54941490e-02,  1.54717788e-01,\n",
       "        1.05004274e+00, -9.41421872e-02,  4.14076727e-01,  4.99671409e-01,\n",
       "       -2.87739099e-01, -1.94448982e+00,  1.60497009e-01, -4.63819500e-01,\n",
       "       -1.18814934e-01, -2.65934879e-01, -1.48845024e+00,  1.04556738e+00,\n",
       "        1.14966118e+00,  8.19439347e-01, -1.01322905e+00, -5.69081736e-01,\n",
       "        1.56981183e+00,  2.01211555e+00,  1.06663631e+00,  7.80961896e-01,\n",
       "       -2.41710697e-01,  1.30749079e+00, -2.66846842e-01,  4.60867654e-01,\n",
       "        1.69203208e+00, -1.34167699e-02, -1.03519177e+00, -6.57734070e-01,\n",
       "       -1.17592165e+00,  1.40556971e-01, -8.04191577e-01, -2.00072438e+00,\n",
       "       -1.15363483e+00,  2.44763894e-01,  1.85890944e+00,  7.86398134e-01,\n",
       "        6.87886613e-01, -3.69758911e-01,  1.03453206e+00,  3.91888479e-01,\n",
       "        5.80359774e-01, -1.44351841e+00,  2.72018786e-01,  1.57271644e+00,\n",
       "        6.71914281e-01, -1.61375721e+00,  2.16493826e+00, -2.42131251e+00,\n",
       "       -5.07569896e-01,  7.21113130e-01,  4.69436971e-01,  2.72919956e+00,\n",
       "        1.07033744e+00,  3.62949864e-01, -1.41773147e+00, -1.08016021e+00,\n",
       "        6.40429877e-01,  8.86288790e-01, -4.79669203e-01,  3.07719779e+00,\n",
       "       -7.50034711e-01,  2.33166236e-01,  3.68867220e-01, -1.01161768e-01,\n",
       "       -6.56643467e-02,  3.00238094e-01,  9.17960245e-01,  8.27105505e-01,\n",
       "       -2.88633604e-01,  1.81498606e+00,  1.63801336e+00,  1.39451933e+00,\n",
       "       -9.89946556e-01,  2.35481693e-01, -1.35514408e-01,  1.18320401e+00,\n",
       "        1.02688946e+00, -7.84120839e-01,  1.82311568e+00,  1.48683813e+00,\n",
       "       -9.47359546e-01, -1.59414509e+00, -9.10129425e-01, -6.60835424e-01,\n",
       "       -2.07831706e+00, -1.33305364e+00,  1.41898028e+00, -2.25532699e-01,\n",
       "       -1.84080952e+00, -2.70779746e-01, -2.30165040e+00, -2.26997734e+00,\n",
       "       -1.05563390e+00, -3.16656926e-01, -5.75632750e-01, -6.96697012e-01,\n",
       "        1.45758945e+00,  6.68943146e-01, -2.69107593e-01,  2.28944322e+00,\n",
       "        7.38061369e-01, -9.89824767e-01,  2.28062297e+00,  2.68719508e+00,\n",
       "       -1.38050457e+00, -2.14558243e+00,  2.88197276e+00,  1.07834347e+00,\n",
       "       -1.99625703e-01, -6.78831750e-01, -1.77518018e+00, -1.15021688e+00,\n",
       "       -1.57487941e-01, -6.78680070e-01,  3.10220439e-01,  1.23932733e-01,\n",
       "       -9.50614377e-01, -1.14926535e+00,  1.71536875e-01, -7.70188980e-01,\n",
       "       -3.78097003e-01,  2.64158962e-01,  1.17829198e-01, -1.60151150e-01,\n",
       "        1.87867028e+00,  4.18570594e-01, -2.75147986e-01,  7.61436458e-02,\n",
       "        5.82283187e-01,  1.54048451e+00,  1.81511093e+00, -4.54393957e-01,\n",
       "        3.72764722e-01,  8.58666200e-01,  2.25902380e-02,  3.96033669e-01,\n",
       "        1.90330045e-01, -1.28069571e-01,  3.01180463e-01, -7.76654793e-01,\n",
       "        4.15054066e-01, -4.26655011e-01,  1.11281923e+00,  1.83917195e+00,\n",
       "        3.90435663e-01, -1.26567094e-01, -9.07961878e-01,  2.66184038e-01,\n",
       "       -3.74602080e-01, -1.57269238e+00, -2.01272465e+00, -6.66208987e-01,\n",
       "        4.15549802e-01,  1.04204343e+00, -2.48183094e-01,  8.21163601e-03,\n",
       "        1.90912902e+00,  6.19864518e-01, -1.20862978e+00,  1.01428738e+00,\n",
       "        5.41221622e-01,  3.32366591e-01,  9.89147494e-01, -1.37831388e+00,\n",
       "       -7.62935065e-01,  1.38374587e+00,  1.78753547e+00, -1.03173878e+00,\n",
       "        6.04957386e-01,  4.05255319e-01, -2.00522539e-01,  1.40775284e+00,\n",
       "       -1.65107087e+00, -5.44037043e-01,  2.50650957e+00,  4.29334875e-01,\n",
       "        4.14981978e-01,  7.09242814e-02,  1.21234395e+00,  3.11395213e-01,\n",
       "       -1.84631668e+00, -1.74887820e+00, -2.09397874e+00,  1.55721799e-01,\n",
       "        1.45236793e+00,  3.18679269e-01,  2.66494673e-01, -5.74372513e-01,\n",
       "        4.71868657e-02,  2.58844559e+00,  3.49978444e-01, -1.73918789e-01,\n",
       "        1.54617406e+00,  9.83846185e-01, -2.32813855e-01, -7.14415813e-01,\n",
       "       -6.18628628e-02,  5.74260361e-01,  1.37101842e+00,  1.06804011e+00,\n",
       "       -1.17799083e-01,  1.48020754e+00, -4.29079532e-01, -8.32541060e-01,\n",
       "       -7.72161845e-01, -3.71662527e-02,  7.19576277e-01, -4.54189411e-01,\n",
       "       -4.76184969e-02,  7.38532704e-01, -9.13669551e-02,  2.54464817e-01,\n",
       "        7.57836899e-01, -1.06967144e+00,  5.29608967e-01,  2.42253362e+00,\n",
       "        2.05296869e-01,  2.58272303e+00,  4.74150622e-01, -9.16128501e-01,\n",
       "        2.52688559e+00,  1.48048498e-01,  6.22255387e-02,  1.76482518e+00,\n",
       "        2.84783145e-01,  1.19473632e-01,  6.42606839e-01,  1.14862623e+00,\n",
       "       -4.12036353e-01, -9.72692411e-01,  1.25336761e-01,  8.07159121e-02,\n",
       "        1.91454894e+00,  2.99715705e-01,  1.59153721e+00,  2.71780778e-01,\n",
       "       -1.26139188e+00, -7.05915953e-01,  7.71905531e-01,  3.66231819e-01,\n",
       "        1.48406903e-01,  4.19504916e-01,  1.02547079e-02, -1.44514991e+00,\n",
       "       -6.53828323e-01,  6.79595723e-01,  5.66566394e-01,  1.13726014e+00,\n",
       "        3.90669473e-01, -7.70628484e-01, -1.69396035e+00, -1.00950400e+00,\n",
       "        1.96575341e+00, -1.89168469e+00,  2.41508990e-01,  1.10119728e+00,\n",
       "       -2.67632025e-01,  1.15863507e+00,  4.66439244e-01, -2.79050603e-01,\n",
       "        1.09366709e+00,  9.50795048e-02, -1.59837543e+00, -1.50710036e+00,\n",
       "       -1.03956300e+00, -6.24384833e-01, -1.71189672e+00, -2.44928002e+00,\n",
       "        5.32490106e-01,  5.53708635e-02,  8.50885634e-01,  2.51527206e-01,\n",
       "        1.95754840e+00, -4.69611207e-01,  2.69802643e+00, -4.40221489e-01,\n",
       "       -3.72658812e-01, -1.26187667e+00,  2.12548607e+00, -2.11164537e+00,\n",
       "        9.06255168e-01,  4.41620101e-01,  1.27576558e+00,  1.49921279e+00,\n",
       "       -8.44305771e-01, -2.07443598e+00, -8.99872111e-01, -1.06069983e+00,\n",
       "       -9.58592156e-02, -1.07251744e+00,  2.61206432e-01, -1.79911485e-01,\n",
       "       -8.28850910e-01, -1.15941079e+00, -4.08254857e-01,  1.72953283e-02,\n",
       "        1.77893427e+00, -3.30445577e-02, -6.81121432e-01,  1.44636196e+00,\n",
       "       -5.12540022e-01, -1.99269231e+00, -8.64253885e-01,  3.42359146e-01,\n",
       "       -1.33853796e+00, -3.43144145e-02,  2.99637753e+00, -1.32555872e+00,\n",
       "        1.75426865e+00, -2.91061478e-01, -8.19791079e-01,  9.53462632e-01,\n",
       "       -5.75380829e-01, -7.15724943e-01,  1.20007934e+00,  8.61324003e-01,\n",
       "        1.34056412e-02,  5.65245829e-02, -6.55243862e-01, -6.25556225e-02,\n",
       "        1.48379219e+00,  8.53783836e-02,  1.56360434e+00, -8.21119347e-01,\n",
       "       -1.68346072e-01,  3.20781893e+00, -4.26902917e-01, -5.63621228e-01,\n",
       "        2.28849167e+00,  8.42111842e-01, -1.52266808e+00,  9.21709245e-01,\n",
       "       -2.81146597e+00,  6.83983307e-01,  1.14647203e+00,  9.86437819e-01,\n",
       "        9.44669929e-01, -1.52514383e-01, -1.29005812e+00,  1.86827613e-01,\n",
       "        4.60826796e-02,  1.22298909e+00,  5.02371556e-01,  2.70430923e-01,\n",
       "        6.05396525e-01,  4.93327230e-01,  1.30092086e+00, -2.30512977e-01,\n",
       "        8.80550762e-01,  1.17765452e-01,  8.86777396e-01, -5.82197362e-02,\n",
       "        1.09643266e+00, -1.17942223e+00, -7.04141833e-02, -7.07014187e-01,\n",
       "        2.29520306e+00, -1.51189313e-01,  1.30255840e+00, -3.39044254e-01,\n",
       "       -3.40061539e-01, -1.76762269e+00, -1.16012148e+00,  8.04237648e-01,\n",
       "        2.09243765e-01,  1.38630467e+00,  6.20252249e-01, -1.37338182e+00,\n",
       "       -5.23106267e-01,  2.55800326e-01, -9.45960638e-01,  7.31690213e-01,\n",
       "        2.60599416e-02, -1.05731524e+00,  7.78001650e-01, -9.07902755e-01,\n",
       "        1.73599424e+00, -1.75406752e+00,  1.23250649e+00,  1.15784154e+00,\n",
       "        5.02224862e-01, -2.26588181e+00,  4.13117734e-01, -1.87506906e+00,\n",
       "       -1.23016527e+00,  7.59459893e-01, -1.14856232e+00,  6.13895054e-02,\n",
       "        7.28981868e-01,  5.60308852e-01,  1.94443998e-01,  1.07314624e+00,\n",
       "        2.17457018e-01,  3.27638188e+00,  6.42665031e-01,  1.74909004e+00,\n",
       "       -3.09498062e-03,  5.20462082e-01, -1.33176975e-01,  5.11709634e-01,\n",
       "        3.22559330e-01,  1.12043664e+00, -3.61878573e-01, -1.93738476e+00,\n",
       "        1.80230754e-01, -1.31621006e+00,  1.46230274e+00,  2.24522698e+00,\n",
       "       -2.99085783e+00, -9.72103302e-01,  1.34273243e+00,  8.84967901e-01,\n",
       "       -7.82731816e-01, -7.27974659e-01, -7.68231642e-01,  1.78814476e+00,\n",
       "        1.71543490e+00,  1.01873454e+00,  1.10067357e+00, -2.30645702e+00,\n",
       "       -1.63464925e-01,  7.04610173e-01,  2.49483924e-01, -7.45754729e-01,\n",
       "       -8.91661026e-01, -1.01018478e+00, -1.32739298e+00,  2.67870508e+00,\n",
       "        4.34935482e-01, -7.09689589e-01,  2.02573958e+00, -1.08388910e-01,\n",
       "       -1.02970308e-01, -1.63388613e+00, -3.20280710e-01, -2.20266082e-01,\n",
       "        8.50342166e-01,  2.44266395e+00,  1.21442548e+00,  1.86349791e+00,\n",
       "        9.72881391e-01,  1.01166945e+00, -1.44679778e+00,  2.20350332e-01,\n",
       "       -1.23416664e-01, -1.80214917e+00, -3.20830168e-01, -6.91871077e-01,\n",
       "        3.40459447e+00,  1.70511155e+00, -9.43421057e-01, -9.04092763e-01,\n",
       "        7.82962857e-01,  2.85183885e-01, -1.18097551e+00,  5.32854473e-01,\n",
       "        1.71828909e+00,  1.43631679e+00, -1.85689752e+00,  9.97343975e-01,\n",
       "        3.82969813e-01, -1.29079712e-01,  2.13975498e+00, -6.85253139e-01,\n",
       "        2.48404829e-02,  1.38372651e+00,  6.06865456e-01, -3.13071857e-01,\n",
       "       -2.20363279e-01, -5.16491660e-01, -7.20187240e-01, -4.73941414e-01,\n",
       "       -1.25499819e+00,  1.30685365e+00, -1.18607189e-01,  1.86766269e+00,\n",
       "        1.19399585e+00,  2.61533728e+00,  1.18725571e+00,  2.61573861e-01,\n",
       "        1.77840054e-01,  5.98014928e-01, -1.43284322e+00,  2.42399319e+00,\n",
       "        8.47180694e-01,  1.82092212e+00, -2.34064475e-01,  3.14676016e-01,\n",
       "       -4.85907189e-01, -9.04644927e-01, -1.71758615e+00, -1.05903829e+00,\n",
       "        1.93760274e+00, -6.19852051e-01,  1.70448968e+00,  6.92344775e-02,\n",
       "       -3.30434503e-01,  1.39629746e+00,  3.50668665e-01, -7.56199216e-01,\n",
       "       -1.35753059e-01, -3.62442110e-01,  9.42543551e-01, -8.87976313e-03,\n",
       "        1.09337078e+00, -1.98158600e-02, -3.47202021e-01,  1.33478105e+00,\n",
       "       -2.03664760e-02,  4.72943237e-01, -1.69266576e+00,  1.34557194e+00,\n",
       "        4.57175986e-01, -6.37873372e-01,  7.30921339e-01,  1.66307351e-01,\n",
       "       -4.20771861e-01,  7.38083223e-01,  3.79052646e-01,  1.12404183e+00,\n",
       "       -2.44383760e+00,  2.01583784e+00, -3.47244795e-01,  1.64704218e-01,\n",
       "        1.46851675e+00,  1.42896005e+00, -2.19932969e+00, -3.17939113e-01,\n",
       "        1.81437012e+00,  8.66323932e-01, -2.10075320e+00, -6.73280446e-01,\n",
       "       -1.22619104e+00, -4.75050651e-01,  1.00084349e+00,  4.82656562e-01,\n",
       "        7.39967137e-01, -1.14525903e+00, -6.52849319e-01, -3.77014491e-01,\n",
       "       -3.73585371e-01, -6.59253425e-01,  6.62085109e-01,  3.13113775e-01,\n",
       "       -5.11102248e-01,  8.15120484e-01, -1.38146349e-01,  1.69814813e+00,\n",
       "       -3.08751018e-02, -6.36053870e-01,  1.96717392e-01, -1.17086791e+00,\n",
       "        1.00931352e+00,  7.91174558e-01,  7.91556112e-01, -6.79544534e-01,\n",
       "       -1.10094314e+00,  1.87496305e-01, -1.66683392e+00,  7.26105371e-01],      dtype=float64)"
      ]
     },
     "execution_count": 32,
     "metadata": {},
     "output_type": "execute_result"
    }
   ],
   "source": [
    "jnp.array(df['Y'].values)"
   ]
  },
  {
   "cell_type": "code",
   "execution_count": 33,
   "id": "a09b41e4-427c-40d2-bc52-1f0b40586210",
   "metadata": {},
   "outputs": [
    {
     "name": "stderr",
     "output_type": "stream",
     "text": [
      " 47%|█████████████████████████▋                             | 233/500 [00:17<00:19, 13.40it/s, train=0.9225846715830746, val=1.3387526625421464 (Max patience reached)]\n"
     ]
    }
   ],
   "source": [
    "frugal_flow, losses =  train_frugal_flow(key=jr.PRNGKey(90),\n",
    "                y=jnp.array(df['Y'].values)[:,None],\n",
    "                u_z=jnp.vstack([u_z3, u_z4]).T,\n",
    "                RQS_knots=8,\n",
    "                show_progress=True,\n",
    "                learning_rate=1e-2,\n",
    "                max_epochs=500,\n",
    "                max_patience=30,\n",
    "                batch_size=100,\n",
    "                condition=jnp.array(df['X'].values)[:,None],\n",
    "             )"
   ]
  },
  {
   "cell_type": "code",
   "execution_count": 34,
   "id": "fe591745-95ac-4786-ab8b-e7e15eb5c189",
   "metadata": {},
   "outputs": [],
   "source": [
    "k1, k2 = jr.split(jr.PRNGKey(970), 2)\n",
    "frugal_flow_samples_0 = frugal_flow.sample(k1, condition=jnp.zeros((1000,1))) #\n",
    "frugal_flow_samples_1 = frugal_flow.sample(k2, condition=jnp.ones((1000,1))) #"
   ]
  },
  {
   "cell_type": "code",
   "execution_count": 35,
   "id": "ae4b8d7c-6452-4d8f-8a2c-047ec80e104b",
   "metadata": {},
   "outputs": [
    {
     "data": {
      "text/plain": [
       "(1000, 3)"
      ]
     },
     "execution_count": 35,
     "metadata": {},
     "output_type": "execute_result"
    }
   ],
   "source": [
    "frugal_flow_samples_0.shape"
   ]
  },
  {
   "cell_type": "code",
   "execution_count": 39,
   "id": "68e339f3-a6d5-488c-9f9f-19a80b90143d",
   "metadata": {},
   "outputs": [
    {
     "data": {
      "image/png": "[encoded data removed]",
      "text/plain": [
       "<Figure size 640x480 with 1 Axes>"
      ]
     },
     "metadata": {},
     "output_type": "display_data"
    }
   ],
   "source": [
    "plt.scatter(*frugal_flow_samples_0[:,1:].T, label=\"zero\", s=3)\n",
    "plt.scatter(*frugal_flow_samples_1[:,1:].T, label=\"one\", s=2)\n",
    "plt.xlabel('u_z1')\n",
    "plt.ylabel('u_z2')\n",
    "plt.legend()\n",
    "plt.show()"
   ]
  },
  {
   "cell_type": "code",
   "execution_count": 43,
   "id": "43e7d129-6d49-49c0-8325-b1e02485c21d",
   "metadata": {},
   "outputs": [],
   "source": [
    "flow_fake_condition = jnp.zeros((1000,1))\n",
    "n_samples = 1000\n",
    "flow_dim = 3\n",
    "key = jr.PRNGKey(7)\n",
    "\n",
    "uni_standard = jr.uniform(key, shape=(n_samples, flow_dim))\n",
    "uni_minus1_plus1 = jax.vmap(frugal_flow.bijection.bijections[0].tree.transform)(uni_standard)\n",
    "\n",
    "corruni_minus1_plus1 = jax.vmap(frugal_flow.bijection.bijections[1].transform)(uni_minus1_plus1, flow_fake_condition)\n",
    "corruni_standard = jax.vmap(frugal_flow.bijection.bijections[2].tree.transform)(corruni_minus1_plus1, flow_fake_condition)\n",
    "us = corruni_standard"
   ]
  },
  {
   "cell_type": "code",
   "execution_count": 42,
   "id": "1afb8ef6-8137-4c27-86a1-252252ef54ed",
   "metadata": {},
   "outputs": [
    {
     "data": {
      "image/png": "[encoded data removed]",
      "text/plain": [
       "<Figure size 640x480 with 1 Axes>"
      ]
     },
     "metadata": {},
     "output_type": "display_data"
    }
   ],
   "source": [
    "plt.hist(u_y);"
   ]
  },
  {
   "cell_type": "code",
   "execution_count": 47,
   "id": "f0dbdbae-b1f8-4f31-a6c1-5987caa74a08",
   "metadata": {},
   "outputs": [
    {
     "data": {
      "text/plain": [
       "Array([[0.08361634, 0.00743443, 0.00407311],\n",
       "       [0.00743443, 0.0906976 , 0.0620112 ],\n",
       "       [0.00407311, 0.0620112 , 0.08807252]], dtype=float64)"
      ]
     },
     "execution_count": 47,
     "metadata": {},
     "output_type": "execute_result"
    }
   ],
   "source": [
    "jnp.cov(us.T)"
   ]
  },
  {
   "cell_type": "code",
   "execution_count": null,
   "id": "3dfdd1c0-784d-4af4-9e84-07da5a553e7f",
   "metadata": {},
   "outputs": [],
   "source": [
    "plt.scatter(*frugal_flow_samples_0[:,1:].T, label=\"zero\", s=3)\n",
    "plt.scatter(*frugal_flow_samples_1[:,1:].T, label=\"one\", s=2)\n",
    "plt.xlabel('u_z1')\n",
    "plt.ylabel('u_z2')\n",
    "plt.legend()\n",
    "plt.show()"
   ]
  },
  {
   "cell_type": "code",
   "execution_count": 37,
   "id": "ffbdb9e7-2950-4091-8a2b-02c5b734ea9c",
   "metadata": {},
   "outputs": [
    {
     "data": {
      "text/plain": [
       "Array(-0.09629526, dtype=float64)"
      ]
     },
     "execution_count": 37,
     "metadata": {},
     "output_type": "execute_result"
    }
   ],
   "source": [
    "frugal_flow.bijection.bijections[-1].bijection.bijections[0].ate"
   ]
  },
  {
   "cell_type": "code",
   "execution_count": 38,
   "id": "15283cbe-ff05-4de1-b3d9-7171d550defb",
   "metadata": {},
   "outputs": [
    {
     "data": {
      "text/plain": [
       "Array(0.19348669, dtype=float64)"
      ]
     },
     "execution_count": 38,
     "metadata": {},
     "output_type": "execute_result"
    }
   ],
   "source": [
    "frugal_flow.bijection.bijections[-1].bijection.bijections[0].const"
   ]
  },
  {
   "cell_type": "code",
   "execution_count": null,
   "id": "9506a528-02b3-417d-96b3-6cf67b9f0771",
   "metadata": {},
   "outputs": [],
   "source": []
  }
 ],
 "metadata": {
  "kernelspec": {
   "display_name": "Python 3 (ipykernel)",
   "language": "python",
   "name": "python3"
  },
  "language_info": {
   "codemirror_mode": {
    "name": "ipython",
    "version": 3
   },
   "file_extension": ".py",
   "mimetype": "text/x-python",
   "name": "python",
   "nbconvert_exporter": "python",
   "pygments_lexer": "ipython3",
   "version": "3.11.9"
  }
 },
 "nbformat": 4,
 "nbformat_minor": 5
}
