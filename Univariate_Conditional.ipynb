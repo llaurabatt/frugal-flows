{
 "cells": [
  {
   "cell_type": "code",
   "execution_count": 8,
   "id": "202c4ccc-742f-4bed-835a-7061ac47afbe",
   "metadata": {},
   "outputs": [],
   "source": [
    "import jax\n",
    "import jax.numpy as jnp\n",
    "import jax.random as jr\n",
    "import matplotlib.pyplot as plt\n",
    "\n",
    "\n",
    "import flowjax\n",
    "from flowjax.bijections import Affine, Chain, Invert, RationalQuadraticSpline, Tanh\n",
    "from flowjax.bijections.utils import Identity, Reshape\n",
    "from flowjax.distributions import Normal, Transformed, Uniform, AbstractTransformed, AbstractDistribution, _StandardUniform, AbstractBijection\n",
    "from flowjax.flows import masked_autoregressive_flow, coupling_flow\n",
    "from flowjax.train import fit_to_data\n",
    "from flowjax._custom_types import ArrayLike\n",
    "from flowjax.wrappers import NonTrainable, Where\n",
    "from typing import ClassVar\n",
    "import equinox as eqx\n",
    "from flowjax.masks import rank_based_mask\n",
    "from collections.abc import Callable\n",
    "import jax.nn as jnn\n",
    "\n",
    "from flowjax.distributions import Transformed, Uniform, _StandardUniform\n",
    "from flowjax.flows import masked_autoregressive_flow\n",
    "from flowjax.train import fit_to_data\n",
    "from flowjax.bijections.utils import Identity\n",
    "from flowjax.wrappers import NonTrainable\n",
    "from flowjax.bijections import (\n",
    "    Affine,\n",
    "    Invert,\n",
    "    MaskedAutoregressive,\n",
    "    RationalQuadraticSpline,\n",
    "    Stack,\n",
    "    Tanh,\n",
    "    Identity\n",
    ")\n",
    "\n",
    "seed = 1"
   ]
  },
  {
   "cell_type": "code",
   "execution_count": 9,
   "id": "ce94e92b",
   "metadata": {},
   "outputs": [],
   "source": [
    "import flowjax\n",
    "import jax\n",
    "import jax.numpy as jnp\n",
    "from jax import random\n",
    "from frugal_flows.bijections import UnivariateNormalCDF\n",
    "\n",
    "# Set the random seed\n",
    "key = random.PRNGKey(0)\n",
    "\n",
    "# Generate N Bernoulli samples\n",
    "N = 1000\n",
    "p = 0.5\n",
    "x = jr.bernoulli(key, p=0., shape=(N, 1))\n",
    "# x = random.normal(key, shape=(N,1))\n",
    "# Calculate y conditional on x\n",
    "mean = 2 * x\n",
    "mean = 2\n",
    "std_dev = 1\n",
    "y = random.normal(key, shape=(N,1)) * std_dev + mean"
   ]
  },
  {
   "cell_type": "code",
   "execution_count": 12,
   "id": "77158403",
   "metadata": {},
   "outputs": [
    {
     "name": "stderr",
     "output_type": "stream",
     "text": [
      "  6%|█▊                             | 42/700 [00:00<00:04, 132.78it/s, train=1.3922344, val=1.429175 (Max patience reached)]\n"
     ]
    }
   ],
   "source": [
    "nvars = 1\n",
    "key, subkey = jr.split(jr.PRNGKey(seed))\n",
    "\n",
    "base_dist = flowjax.distributions._StandardUniform((1,))\n",
    "\n",
    "# base_dist = Uniform(-jnp.zeros(nvars), jnp.ones(nvars))\n",
    "marginal_transform = Stack([UnivariateNormalCDF(\n",
    "    ate=5., \n",
    "    const=3., \n",
    "    scale=3., \n",
    "    # cond_dim=1\n",
    ")])\n",
    "flow = Transformed(base_dist, Invert(marginal_transform))\n",
    "\n",
    "key, subkey = jr.split(key)\n",
    "\n",
    "# Train \n",
    "flow, losses = fit_to_data(\n",
    "    key=subkey,\n",
    "    dist=flow,\n",
    "    x=y,\n",
    "    # condition=x,\n",
    "    learning_rate=1e-2,\n",
    "    max_patience=20,\n",
    "    max_epochs=700,\n",
    ")"
   ]
  },
  {
   "cell_type": "code",
   "execution_count": 13,
   "id": "c9f2d080-dc69-4c07-9df7-e0a72b214163",
   "metadata": {},
   "outputs": [
    {
     "data": {
      "text/plain": [
       "<matplotlib.legend.Legend at 0x281311c10>"
      ]
     },
     "execution_count": 13,
     "metadata": {},
     "output_type": "execute_result"
    },
    {
     "data": {
      "image/png": "[encoded data removed]",
      "text/plain": [
       "<Figure size 640x480 with 1 Axes>"
      ]
     },
     "metadata": {},
     "output_type": "display_data"
    }
   ],
   "source": [
    "# plt.hist(*flow.sample(key, (1000, ), condition=jnp.zeros(1)).T, label=\"flow\", alpha=0.3)\n",
    "plt.hist(*flow.sample(key, (1000, ), condition=jnp.zeros(1)).T,label=\"flow\", alpha=0.3)\n",
    "\n",
    "# plt.hist(*flow.sample(key, (1000, ), condition=jnp.zeros(1)).T, label=\"flow\", alpha=0.3)\n",
    "plt.hist(*y[:1000].T, label=\"target\", alpha=0.3)\n",
    "plt.legend()"
   ]
  },
  {
   "cell_type": "code",
   "execution_count": 14,
   "id": "e9193aa1-56ca-4b64-b67d-568913f2f7fd",
   "metadata": {},
   "outputs": [
    {
     "name": "stdout",
     "output_type": "stream",
     "text": [
      "0\n",
      "1.9952294\n",
      "0.9925515\n"
     ]
    }
   ],
   "source": [
    "print(flow.bijection.bijection.bijections[0].ate)\n",
    "print(flow.bijection.bijection.bijections[0].const)\n",
    "print(flow.bijection.bijection.bijections[0].scale)"
   ]
  },
  {
   "cell_type": "code",
   "execution_count": null,
   "id": "d1b1fb29-3067-4e33-acbe-05dc3efc1423",
   "metadata": {},
   "outputs": [],
   "source": []
  }
 ],
 "metadata": {
  "kernelspec": {
   "display_name": "Python 3 (ipykernel)",
   "language": "python",
   "name": "python3"
  },
  "language_info": {
   "codemirror_mode": {
    "name": "ipython",
    "version": 3
   },
   "file_extension": ".py",
   "mimetype": "text/x-python",
   "name": "python",
   "nbconvert_exporter": "python",
   "pygments_lexer": "ipython3",
   "version": "3.11.8"
  }
 },
 "nbformat": 4,
 "nbformat_minor": 5
}
