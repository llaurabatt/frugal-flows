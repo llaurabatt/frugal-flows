{
 "cells": [
  {
   "cell_type": "code",
   "execution_count": 1,
   "id": "202c4ccc-742f-4bed-835a-7061ac47afbe",
   "metadata": {},
   "outputs": [],
   "source": [
    "import jax\n",
    "import jax.numpy as jnp\n",
    "import jax.random as jr \n",
    "\n",
    "import flowjax\n",
    "from flowjax.bijections import (\n",
    "    Affine,\n",
    "    Invert,\n",
    "    MaskedAutoregressive,\n",
    "    RationalQuadraticSpline,\n",
    "    Stack,\n",
    "    Tanh,\n",
    "    Identity\n",
    ")\n",
    "from flowjax.bijections.utils import Identity\n",
    "from flowjax.distributions import Normal, Transformed, Uniform, _StandardUniform\n",
    "from flowjax.flows import masked_autoregressive_flow\n",
    "from flowjax.train import fit_to_data\n",
    "from flowjax.wrappers import NonTrainable\n",
    "from flowjax.utils import arraylike_to_array\n",
    "from frugal_flows.bijections import UnivariateNormalCDF\n",
    "\n",
    "import matplotlib.pyplot as plt\n",
    "import equinox as eqx\n",
    "from collections.abc import Callable\n",
    "import jax.nn as jnn\n",
    "from typing import ClassVar\n",
    "\n",
    "seed = 5"
   ]
  },
  {
   "cell_type": "code",
   "execution_count": 2,
   "id": "ce94e92b",
   "metadata": {},
   "outputs": [],
   "source": [
    "# Set the random seed\n",
    "key = jr.PRNGKey(seed)\n",
    "\n",
    "# Generate N Bernoulli samples\n",
    "N = 10000\n",
    "p = 0.5\n",
    "x = jr.bernoulli(key, p=p, shape=(N, 1)).astype(int)\n",
    "\n",
    "# Calculate y conditional on x\n",
    "mean = 5 * x  + 2\n",
    "std_dev = 1\n",
    "noise = jr.normal(jr.PRNGKey(seed+1), shape=(N,1))\n",
    "\n",
    "# Generate Gaussian variables with specified mean and standard deviation\n",
    "y = std_dev * noise + mean"
   ]
  },
  {
   "cell_type": "code",
   "execution_count": 15,
   "id": "e2ceb49c",
   "metadata": {},
   "outputs": [],
   "source": [
    "ate=5.\n",
    "const=3.\n",
    "scale=3.\n",
    "bij = Stack([UnivariateNormalCDF(\n",
    "    ate=ate, \n",
    "    const=const, \n",
    "    scale=scale, \n",
    "    cond_dim=1\n",
    ")])"
   ]
  },
  {
   "cell_type": "code",
   "execution_count": 16,
   "id": "c39f6ffc",
   "metadata": {},
   "outputs": [
    {
     "data": {
      "text/plain": [
       "Stack(\n",
       "  shape=(1,),\n",
       "  cond_shape=(1,),\n",
       "  bijections=[\n",
       "    UnivariateNormalCDF(\n",
       "      shape=(),\n",
       "      cond_shape=(1,),\n",
       "      ate=f32[],\n",
       "      scale=f32[],\n",
       "      const=f32[]\n",
       "    )\n",
       "  ],\n",
       "  axis=0\n",
       ")"
      ]
     },
     "execution_count": 16,
     "metadata": {},
     "output_type": "execute_result"
    }
   ],
   "source": [
    "bij"
   ]
  },
  {
   "cell_type": "code",
   "execution_count": 17,
   "id": "9c55748d",
   "metadata": {},
   "outputs": [
    {
     "ename": "IndexError",
     "evalue": "Too many indices for array: 1 non-None/Ellipsis indices for dim 0.",
     "output_type": "error",
     "traceback": [
      "\u001b[0;31m---------------------------------------------------------------------------\u001b[0m",
      "\u001b[0;31mIndexError\u001b[0m                                Traceback (most recent call last)",
      "Cell \u001b[0;32mIn[17], line 1\u001b[0m\n\u001b[0;32m----> 1\u001b[0m \u001b[43mbij\u001b[49m\u001b[38;5;241;43m.\u001b[39;49m\u001b[43mtransform\u001b[49m\u001b[43m(\u001b[49m\u001b[43my\u001b[49m\u001b[43m[\u001b[49m\u001b[38;5;241;43m0\u001b[39;49m\u001b[43m]\u001b[49m\u001b[43m,\u001b[49m\u001b[43m \u001b[49m\u001b[43mx\u001b[49m\u001b[43m[\u001b[49m\u001b[38;5;241;43m0\u001b[39;49m\u001b[43m]\u001b[49m\u001b[43m)\u001b[49m\n",
      "    \u001b[0;31m[... skipping hidden 1 frame]\u001b[0m\n",
      "File \u001b[0;32m~/Library/CloudStorage/GoogleDrive-danielmanela@gmail.com/My Drive/work/deep-copula-frugal/flowjax/flowjax/bijections/bijection.py:52\u001b[0m, in \u001b[0;36m_unwrap_check_and_cast.<locals>.wrapper\u001b[0;34m(bijection, x, condition)\u001b[0m\n\u001b[1;32m     47\u001b[0m         \u001b[38;5;28;01mraise\u001b[39;00m \u001b[38;5;167;01mValueError\u001b[39;00m(\n\u001b[1;32m     48\u001b[0m             \u001b[38;5;124mf\u001b[39m\u001b[38;5;124m\"\u001b[39m\u001b[38;5;124mExpected input shape \u001b[39m\u001b[38;5;132;01m{\u001b[39;00mbijection\u001b[38;5;241m.\u001b[39mshape\u001b[38;5;132;01m}\u001b[39;00m\u001b[38;5;124m; got \u001b[39m\u001b[38;5;132;01m{\u001b[39;00mx\u001b[38;5;241m.\u001b[39mshape\u001b[38;5;132;01m}\u001b[39;00m\u001b[38;5;124m\"\u001b[39m\n\u001b[1;32m     49\u001b[0m         )\n\u001b[1;32m     50\u001b[0m     \u001b[38;5;28;01mreturn\u001b[39;00m x\n\u001b[0;32m---> 52\u001b[0m \u001b[38;5;28;01mreturn\u001b[39;00m \u001b[43mmethod\u001b[49m\u001b[43m(\u001b[49m\n\u001b[1;32m     53\u001b[0m \u001b[43m    \u001b[49m\u001b[43mflowjax\u001b[49m\u001b[38;5;241;43m.\u001b[39;49m\u001b[43mwrappers\u001b[49m\u001b[38;5;241;43m.\u001b[39;49m\u001b[43munwrap\u001b[49m\u001b[43m(\u001b[49m\u001b[43mbijection\u001b[49m\u001b[43m)\u001b[49m\u001b[43m,\u001b[49m\u001b[43m \u001b[49m\u001b[43m_check_x\u001b[49m\u001b[43m(\u001b[49m\u001b[43mx\u001b[49m\u001b[43m)\u001b[49m\u001b[43m,\u001b[49m\u001b[43m \u001b[49m\u001b[43m_check_condition\u001b[49m\u001b[43m(\u001b[49m\u001b[43mcondition\u001b[49m\u001b[43m)\u001b[49m\n\u001b[1;32m     54\u001b[0m \u001b[43m\u001b[49m\u001b[43m)\u001b[49m\n",
      "File \u001b[0;32m~/Library/CloudStorage/GoogleDrive-danielmanela@gmail.com/My Drive/work/deep-copula-frugal/flowjax/flowjax/bijections/concatenate.py:118\u001b[0m, in \u001b[0;36mStack.transform\u001b[0;34m(self, x, condition)\u001b[0m\n\u001b[1;32m    116\u001b[0m \u001b[38;5;28;01mdef\u001b[39;00m \u001b[38;5;21mtransform\u001b[39m(\u001b[38;5;28mself\u001b[39m, x, condition\u001b[38;5;241m=\u001b[39m\u001b[38;5;28;01mNone\u001b[39;00m):\n\u001b[1;32m    117\u001b[0m     x_parts \u001b[38;5;241m=\u001b[39m \u001b[38;5;28mself\u001b[39m\u001b[38;5;241m.\u001b[39m_split_and_squeeze(x)\n\u001b[0;32m--> 118\u001b[0m     y_parts \u001b[38;5;241m=\u001b[39m \u001b[43m[\u001b[49m\n\u001b[1;32m    119\u001b[0m \u001b[43m        \u001b[49m\u001b[43mb\u001b[49m\u001b[38;5;241;43m.\u001b[39;49m\u001b[43mtransform\u001b[49m\u001b[43m(\u001b[49m\u001b[43mx\u001b[49m\u001b[43m,\u001b[49m\u001b[43m \u001b[49m\u001b[43mcondition\u001b[49m\u001b[43m)\u001b[49m\n\u001b[1;32m    120\u001b[0m \u001b[43m        \u001b[49m\u001b[38;5;28;43;01mfor\u001b[39;49;00m\u001b[43m \u001b[49m\u001b[43m(\u001b[49m\u001b[43mb\u001b[49m\u001b[43m,\u001b[49m\u001b[43m \u001b[49m\u001b[43mx\u001b[49m\u001b[43m)\u001b[49m\u001b[43m \u001b[49m\u001b[38;5;129;43;01min\u001b[39;49;00m\u001b[43m \u001b[49m\u001b[38;5;28;43mzip\u001b[39;49m\u001b[43m(\u001b[49m\u001b[38;5;28;43mself\u001b[39;49m\u001b[38;5;241;43m.\u001b[39;49m\u001b[43mbijections\u001b[49m\u001b[43m,\u001b[49m\u001b[43m \u001b[49m\u001b[43mx_parts\u001b[49m\u001b[43m,\u001b[49m\u001b[43m \u001b[49m\u001b[43mstrict\u001b[49m\u001b[38;5;241;43m=\u001b[39;49m\u001b[38;5;28;43;01mTrue\u001b[39;49;00m\u001b[43m)\u001b[49m\n\u001b[1;32m    121\u001b[0m \u001b[43m    \u001b[49m\u001b[43m]\u001b[49m\n\u001b[1;32m    122\u001b[0m     \u001b[38;5;28;01mreturn\u001b[39;00m jnp\u001b[38;5;241m.\u001b[39mstack(y_parts, \u001b[38;5;28mself\u001b[39m\u001b[38;5;241m.\u001b[39maxis)\n",
      "File \u001b[0;32m~/Library/CloudStorage/GoogleDrive-danielmanela@gmail.com/My Drive/work/deep-copula-frugal/flowjax/flowjax/bijections/concatenate.py:119\u001b[0m, in \u001b[0;36m<listcomp>\u001b[0;34m(.0)\u001b[0m\n\u001b[1;32m    116\u001b[0m \u001b[38;5;28;01mdef\u001b[39;00m \u001b[38;5;21mtransform\u001b[39m(\u001b[38;5;28mself\u001b[39m, x, condition\u001b[38;5;241m=\u001b[39m\u001b[38;5;28;01mNone\u001b[39;00m):\n\u001b[1;32m    117\u001b[0m     x_parts \u001b[38;5;241m=\u001b[39m \u001b[38;5;28mself\u001b[39m\u001b[38;5;241m.\u001b[39m_split_and_squeeze(x)\n\u001b[1;32m    118\u001b[0m     y_parts \u001b[38;5;241m=\u001b[39m [\n\u001b[0;32m--> 119\u001b[0m         \u001b[43mb\u001b[49m\u001b[38;5;241;43m.\u001b[39;49m\u001b[43mtransform\u001b[49m\u001b[43m(\u001b[49m\u001b[43mx\u001b[49m\u001b[43m,\u001b[49m\u001b[43m \u001b[49m\u001b[43mcondition\u001b[49m\u001b[43m)\u001b[49m\n\u001b[1;32m    120\u001b[0m         \u001b[38;5;28;01mfor\u001b[39;00m (b, x) \u001b[38;5;129;01min\u001b[39;00m \u001b[38;5;28mzip\u001b[39m(\u001b[38;5;28mself\u001b[39m\u001b[38;5;241m.\u001b[39mbijections, x_parts, strict\u001b[38;5;241m=\u001b[39m\u001b[38;5;28;01mTrue\u001b[39;00m)\n\u001b[1;32m    121\u001b[0m     ]\n\u001b[1;32m    122\u001b[0m     \u001b[38;5;28;01mreturn\u001b[39;00m jnp\u001b[38;5;241m.\u001b[39mstack(y_parts, \u001b[38;5;28mself\u001b[39m\u001b[38;5;241m.\u001b[39maxis)\n",
      "    \u001b[0;31m[... skipping hidden 1 frame]\u001b[0m\n",
      "File \u001b[0;32m~/Library/CloudStorage/GoogleDrive-danielmanela@gmail.com/My Drive/work/deep-copula-frugal/flowjax/flowjax/bijections/bijection.py:52\u001b[0m, in \u001b[0;36m_unwrap_check_and_cast.<locals>.wrapper\u001b[0;34m(bijection, x, condition)\u001b[0m\n\u001b[1;32m     47\u001b[0m         \u001b[38;5;28;01mraise\u001b[39;00m \u001b[38;5;167;01mValueError\u001b[39;00m(\n\u001b[1;32m     48\u001b[0m             \u001b[38;5;124mf\u001b[39m\u001b[38;5;124m\"\u001b[39m\u001b[38;5;124mExpected input shape \u001b[39m\u001b[38;5;132;01m{\u001b[39;00mbijection\u001b[38;5;241m.\u001b[39mshape\u001b[38;5;132;01m}\u001b[39;00m\u001b[38;5;124m; got \u001b[39m\u001b[38;5;132;01m{\u001b[39;00mx\u001b[38;5;241m.\u001b[39mshape\u001b[38;5;132;01m}\u001b[39;00m\u001b[38;5;124m\"\u001b[39m\n\u001b[1;32m     49\u001b[0m         )\n\u001b[1;32m     50\u001b[0m     \u001b[38;5;28;01mreturn\u001b[39;00m x\n\u001b[0;32m---> 52\u001b[0m \u001b[38;5;28;01mreturn\u001b[39;00m \u001b[43mmethod\u001b[49m\u001b[43m(\u001b[49m\n\u001b[1;32m     53\u001b[0m \u001b[43m    \u001b[49m\u001b[43mflowjax\u001b[49m\u001b[38;5;241;43m.\u001b[39;49m\u001b[43mwrappers\u001b[49m\u001b[38;5;241;43m.\u001b[39;49m\u001b[43munwrap\u001b[49m\u001b[43m(\u001b[49m\u001b[43mbijection\u001b[49m\u001b[43m)\u001b[49m\u001b[43m,\u001b[49m\u001b[43m \u001b[49m\u001b[43m_check_x\u001b[49m\u001b[43m(\u001b[49m\u001b[43mx\u001b[49m\u001b[43m)\u001b[49m\u001b[43m,\u001b[49m\u001b[43m \u001b[49m\u001b[43m_check_condition\u001b[49m\u001b[43m(\u001b[49m\u001b[43mcondition\u001b[49m\u001b[43m)\u001b[49m\n\u001b[1;32m     54\u001b[0m \u001b[43m\u001b[49m\u001b[43m)\u001b[49m\n",
      "File \u001b[0;32m~/Library/CloudStorage/GoogleDrive-danielmanela@gmail.com/My Drive/work/deep-copula-frugal/frugal_flows/bijections/univariate_normal_cdf.py:56\u001b[0m, in \u001b[0;36mUnivariateNormalCDF.transform\u001b[0;34m(self, x, condition)\u001b[0m\n\u001b[1;32m     54\u001b[0m \u001b[38;5;28;01melse\u001b[39;00m:\n\u001b[1;32m     55\u001b[0m     location \u001b[38;5;241m=\u001b[39m \u001b[38;5;28mself\u001b[39m\u001b[38;5;241m.\u001b[39mate \u001b[38;5;241m*\u001b[39m condition[\u001b[38;5;241m0\u001b[39m] \u001b[38;5;241m+\u001b[39m \u001b[38;5;28mself\u001b[39m\u001b[38;5;241m.\u001b[39mconst\n\u001b[0;32m---> 56\u001b[0m \u001b[38;5;28;01mreturn\u001b[39;00m jax\u001b[38;5;241m.\u001b[39mscipy\u001b[38;5;241m.\u001b[39mstats\u001b[38;5;241m.\u001b[39mnorm\u001b[38;5;241m.\u001b[39mcdf(\u001b[43mx\u001b[49m\u001b[43m[\u001b[49m\u001b[38;5;241;43m0\u001b[39;49m\u001b[43m]\u001b[49m, loc\u001b[38;5;241m=\u001b[39mlocation, scale\u001b[38;5;241m=\u001b[39m\u001b[38;5;28mself\u001b[39m\u001b[38;5;241m.\u001b[39mscale)\n",
      "File \u001b[0;32m~/micromamba/envs/deep-frugal/lib/python3.11/site-packages/jax/_src/array.py:348\u001b[0m, in \u001b[0;36mArrayImpl.__getitem__\u001b[0;34m(self, idx)\u001b[0m\n\u001b[1;32m    345\u001b[0m     \u001b[38;5;28;01melse\u001b[39;00m:\n\u001b[1;32m    346\u001b[0m       \u001b[38;5;28;01mreturn\u001b[39;00m out\n\u001b[0;32m--> 348\u001b[0m \u001b[38;5;28;01mreturn\u001b[39;00m \u001b[43mlax_numpy\u001b[49m\u001b[38;5;241;43m.\u001b[39;49m\u001b[43m_rewriting_take\u001b[49m\u001b[43m(\u001b[49m\u001b[38;5;28;43mself\u001b[39;49m\u001b[43m,\u001b[49m\u001b[43m \u001b[49m\u001b[43midx\u001b[49m\u001b[43m)\u001b[49m\n",
      "File \u001b[0;32m~/micromamba/envs/deep-frugal/lib/python3.11/site-packages/jax/_src/numpy/lax_numpy.py:4604\u001b[0m, in \u001b[0;36m_rewriting_take\u001b[0;34m(arr, idx, indices_are_sorted, unique_indices, mode, fill_value)\u001b[0m\n\u001b[1;32m   4601\u001b[0m       \u001b[38;5;28;01mreturn\u001b[39;00m lax\u001b[38;5;241m.\u001b[39mdynamic_index_in_dim(arr, idx, keepdims\u001b[38;5;241m=\u001b[39m\u001b[38;5;28;01mFalse\u001b[39;00m)\n\u001b[1;32m   4603\u001b[0m treedef, static_idx, dynamic_idx \u001b[38;5;241m=\u001b[39m _split_index_for_jit(idx, arr\u001b[38;5;241m.\u001b[39mshape)\n\u001b[0;32m-> 4604\u001b[0m \u001b[38;5;28;01mreturn\u001b[39;00m \u001b[43m_gather\u001b[49m\u001b[43m(\u001b[49m\u001b[43marr\u001b[49m\u001b[43m,\u001b[49m\u001b[43m \u001b[49m\u001b[43mtreedef\u001b[49m\u001b[43m,\u001b[49m\u001b[43m \u001b[49m\u001b[43mstatic_idx\u001b[49m\u001b[43m,\u001b[49m\u001b[43m \u001b[49m\u001b[43mdynamic_idx\u001b[49m\u001b[43m,\u001b[49m\u001b[43m \u001b[49m\u001b[43mindices_are_sorted\u001b[49m\u001b[43m,\u001b[49m\n\u001b[1;32m   4605\u001b[0m \u001b[43m               \u001b[49m\u001b[43munique_indices\u001b[49m\u001b[43m,\u001b[49m\u001b[43m \u001b[49m\u001b[43mmode\u001b[49m\u001b[43m,\u001b[49m\u001b[43m \u001b[49m\u001b[43mfill_value\u001b[49m\u001b[43m)\u001b[49m\n",
      "File \u001b[0;32m~/micromamba/envs/deep-frugal/lib/python3.11/site-packages/jax/_src/numpy/lax_numpy.py:4613\u001b[0m, in \u001b[0;36m_gather\u001b[0;34m(arr, treedef, static_idx, dynamic_idx, indices_are_sorted, unique_indices, mode, fill_value)\u001b[0m\n\u001b[1;32m   4610\u001b[0m \u001b[38;5;28;01mdef\u001b[39;00m \u001b[38;5;21m_gather\u001b[39m(arr, treedef, static_idx, dynamic_idx, indices_are_sorted,\n\u001b[1;32m   4611\u001b[0m             unique_indices, mode, fill_value):\n\u001b[1;32m   4612\u001b[0m   idx \u001b[38;5;241m=\u001b[39m _merge_static_and_dynamic_indices(treedef, static_idx, dynamic_idx)\n\u001b[0;32m-> 4613\u001b[0m   indexer \u001b[38;5;241m=\u001b[39m \u001b[43m_index_to_gather\u001b[49m\u001b[43m(\u001b[49m\u001b[43mshape\u001b[49m\u001b[43m(\u001b[49m\u001b[43marr\u001b[49m\u001b[43m)\u001b[49m\u001b[43m,\u001b[49m\u001b[43m \u001b[49m\u001b[43midx\u001b[49m\u001b[43m)\u001b[49m  \u001b[38;5;66;03m# shared with _scatter_update\u001b[39;00m\n\u001b[1;32m   4614\u001b[0m   y \u001b[38;5;241m=\u001b[39m arr\n\u001b[1;32m   4616\u001b[0m   \u001b[38;5;28;01mif\u001b[39;00m fill_value \u001b[38;5;129;01mis\u001b[39;00m \u001b[38;5;129;01mnot\u001b[39;00m \u001b[38;5;28;01mNone\u001b[39;00m:\n",
      "File \u001b[0;32m~/micromamba/envs/deep-frugal/lib/python3.11/site-packages/jax/_src/numpy/lax_numpy.py:4721\u001b[0m, in \u001b[0;36m_index_to_gather\u001b[0;34m(x_shape, idx, normalize_indices)\u001b[0m\n\u001b[1;32m   4718\u001b[0m \u001b[38;5;28;01mdef\u001b[39;00m \u001b[38;5;21m_index_to_gather\u001b[39m(x_shape: Sequence[\u001b[38;5;28mint\u001b[39m], idx: Sequence[Any],\n\u001b[1;32m   4719\u001b[0m                      normalize_indices: \u001b[38;5;28mbool\u001b[39m \u001b[38;5;241m=\u001b[39m \u001b[38;5;28;01mTrue\u001b[39;00m) \u001b[38;5;241m-\u001b[39m\u001b[38;5;241m>\u001b[39m _Indexer:\n\u001b[1;32m   4720\u001b[0m   \u001b[38;5;66;03m# Remove ellipses and add trailing slice(None)s.\u001b[39;00m\n\u001b[0;32m-> 4721\u001b[0m   idx \u001b[38;5;241m=\u001b[39m \u001b[43m_canonicalize_tuple_index\u001b[49m\u001b[43m(\u001b[49m\u001b[38;5;28;43mlen\u001b[39;49m\u001b[43m(\u001b[49m\u001b[43mx_shape\u001b[49m\u001b[43m)\u001b[49m\u001b[43m,\u001b[49m\u001b[43m \u001b[49m\u001b[43midx\u001b[49m\u001b[43m)\u001b[49m\n\u001b[1;32m   4723\u001b[0m   \u001b[38;5;66;03m# Check for scalar boolean indexing: this requires inserting extra dimensions\u001b[39;00m\n\u001b[1;32m   4724\u001b[0m   \u001b[38;5;66;03m# before performing the rest of the logic.\u001b[39;00m\n\u001b[1;32m   4725\u001b[0m   scalar_bool_dims: Sequence[\u001b[38;5;28mint\u001b[39m] \u001b[38;5;241m=\u001b[39m [n \u001b[38;5;28;01mfor\u001b[39;00m n, i \u001b[38;5;129;01min\u001b[39;00m \u001b[38;5;28menumerate\u001b[39m(idx) \u001b[38;5;28;01mif\u001b[39;00m \u001b[38;5;28misinstance\u001b[39m(i, \u001b[38;5;28mbool\u001b[39m)]\n",
      "File \u001b[0;32m~/micromamba/envs/deep-frugal/lib/python3.11/site-packages/jax/_src/numpy/lax_numpy.py:5041\u001b[0m, in \u001b[0;36m_canonicalize_tuple_index\u001b[0;34m(arr_ndim, idx, array_name)\u001b[0m\n\u001b[1;32m   5039\u001b[0m num_dimensions_consumed \u001b[38;5;241m=\u001b[39m \u001b[38;5;28msum\u001b[39m(\u001b[38;5;129;01mnot\u001b[39;00m (e \u001b[38;5;129;01mis\u001b[39;00m \u001b[38;5;28;01mNone\u001b[39;00m \u001b[38;5;129;01mor\u001b[39;00m e \u001b[38;5;129;01mis\u001b[39;00m \u001b[38;5;28mEllipsis\u001b[39m \u001b[38;5;129;01mor\u001b[39;00m \u001b[38;5;28misinstance\u001b[39m(e, \u001b[38;5;28mbool\u001b[39m)) \u001b[38;5;28;01mfor\u001b[39;00m e \u001b[38;5;129;01min\u001b[39;00m idx)\n\u001b[1;32m   5040\u001b[0m \u001b[38;5;28;01mif\u001b[39;00m num_dimensions_consumed \u001b[38;5;241m>\u001b[39m arr_ndim:\n\u001b[0;32m-> 5041\u001b[0m   \u001b[38;5;28;01mraise\u001b[39;00m \u001b[38;5;167;01mIndexError\u001b[39;00m(\n\u001b[1;32m   5042\u001b[0m       \u001b[38;5;124mf\u001b[39m\u001b[38;5;124m\"\u001b[39m\u001b[38;5;124mToo many indices for \u001b[39m\u001b[38;5;132;01m{\u001b[39;00marray_name\u001b[38;5;132;01m}\u001b[39;00m\u001b[38;5;124m: \u001b[39m\u001b[38;5;132;01m{\u001b[39;00mnum_dimensions_consumed\u001b[38;5;132;01m}\u001b[39;00m\u001b[38;5;124m \u001b[39m\u001b[38;5;124m\"\u001b[39m\n\u001b[1;32m   5043\u001b[0m       \u001b[38;5;124mf\u001b[39m\u001b[38;5;124m\"\u001b[39m\u001b[38;5;124mnon-None/Ellipsis indices for dim \u001b[39m\u001b[38;5;132;01m{\u001b[39;00marr_ndim\u001b[38;5;132;01m}\u001b[39;00m\u001b[38;5;124m.\u001b[39m\u001b[38;5;124m\"\u001b[39m)\n\u001b[1;32m   5044\u001b[0m ellipses \u001b[38;5;241m=\u001b[39m (i \u001b[38;5;28;01mfor\u001b[39;00m i, elt \u001b[38;5;129;01min\u001b[39;00m \u001b[38;5;28menumerate\u001b[39m(idx) \u001b[38;5;28;01mif\u001b[39;00m elt \u001b[38;5;129;01mis\u001b[39;00m \u001b[38;5;28mEllipsis\u001b[39m)\n\u001b[1;32m   5045\u001b[0m ellipsis_index \u001b[38;5;241m=\u001b[39m \u001b[38;5;28mnext\u001b[39m(ellipses, \u001b[38;5;28;01mNone\u001b[39;00m)\n",
      "\u001b[0;31mIndexError\u001b[0m: Too many indices for array: 1 non-None/Ellipsis indices for dim 0."
     ]
    }
   ],
   "source": [
    "bij.transform(y[0], x[0])"
   ]
  },
  {
   "cell_type": "code",
   "execution_count": 26,
   "id": "aa11da11",
   "metadata": {},
   "outputs": [
    {
     "ename": "NameError",
     "evalue": "name 'self' is not defined",
     "output_type": "error",
     "traceback": [
      "\u001b[0;31m---------------------------------------------------------------------------\u001b[0m",
      "\u001b[0;31mNameError\u001b[0m                                 Traceback (most recent call last)",
      "Cell \u001b[0;32mIn[26], line 1\u001b[0m\n\u001b[0;32m----> 1\u001b[0m x_parts \u001b[38;5;241m=\u001b[39m \u001b[38;5;28;43mself\u001b[39;49m\u001b[38;5;241m.\u001b[39m_split_and_squeeze(x)\n\u001b[1;32m      2\u001b[0m y_parts \u001b[38;5;241m=\u001b[39m [\n\u001b[1;32m      3\u001b[0m     b\u001b[38;5;241m.\u001b[39mtransform(x, condition)\n\u001b[1;32m      4\u001b[0m     \u001b[38;5;28;01mfor\u001b[39;00m (b, x) \u001b[38;5;129;01min\u001b[39;00m \u001b[38;5;28mzip\u001b[39m(\u001b[38;5;28mself\u001b[39m\u001b[38;5;241m.\u001b[39mbijections, x_parts, strict\u001b[38;5;241m=\u001b[39m\u001b[38;5;28;01mTrue\u001b[39;00m)\n\u001b[1;32m      5\u001b[0m ]\n",
      "\u001b[0;31mNameError\u001b[0m: name 'self' is not defined"
     ]
    }
   ],
   "source": [
    "y_parts = bij._split_and_squeeze(y)\n",
    "x_parts = [\n",
    "    bij.transform(y, x)\n",
    "    for (b, y) in zip(bij.bijections, y_parts, strict=True)\n",
    "]"
   ]
  },
  {
   "cell_type": "code",
   "execution_count": 21,
   "id": "54a61875",
   "metadata": {},
   "outputs": [
    {
     "data": {
      "text/plain": [
       "Array(0.2531423, dtype=float32)"
      ]
     },
     "execution_count": 21,
     "metadata": {},
     "output_type": "execute_result"
    }
   ],
   "source": [
    "ate, scale, const = jnp.broadcast_arrays(\n",
    "    *(arraylike_to_array(a, dtype=float) for a in (ate, scale, const)),\n",
    ")\n",
    "location = ate * x[0][0] + const\n",
    "jax.scipy.stats.norm.cdf(y[0][0], loc=location, scale=scale)"
   ]
  },
  {
   "cell_type": "code",
   "execution_count": 8,
   "id": "01cac4d6",
   "metadata": {},
   "outputs": [
    {
     "name": "stdout",
     "output_type": "stream",
     "text": [
      "0.5\n",
      "3.0\n"
     ]
    }
   ],
   "source": [
    "xsing = jnp.array(8)\n",
    "cond = jnp.array(1)\n",
    "ate = jnp.array(5)\n",
    "const = jnp.array(3)\n",
    "loc = ate * xsing + const\n",
    "scale = jnp.array(1)\n",
    "print(jax.scipy.stats.norm.cdf(xsing, ate * cond + const, scale))\n",
    "print(jax.scipy.special.ndtri(jnp.array(0.5))* scale + const)"
   ]
  },
  {
   "cell_type": "code",
   "execution_count": 9,
   "id": "7590af73",
   "metadata": {},
   "outputs": [
    {
     "data": {
      "text/plain": [
       "Array(43, dtype=int32, weak_type=True)"
      ]
     },
     "execution_count": 9,
     "metadata": {},
     "output_type": "execute_result"
    }
   ],
   "source": [
    "ate * xsing + consti"
   ]
  },
  {
   "cell_type": "code",
   "execution_count": 52,
   "id": "71c48412",
   "metadata": {},
   "outputs": [
    {
     "data": {
      "text/plain": [
       "Array([43], dtype=int32)"
      ]
     },
     "execution_count": 52,
     "metadata": {},
     "output_type": "execute_result"
    }
   ],
   "source": [
    "loc.flatten()"
   ]
  },
  {
   "cell_type": "code",
   "execution_count": 54,
   "id": "21177b3c",
   "metadata": {},
   "outputs": [
    {
     "data": {
      "text/plain": [
       "(1,)"
      ]
     },
     "execution_count": 54,
     "metadata": {},
     "output_type": "execute_result"
    }
   ],
   "source": [
    "jax.scipy.stats.norm.logpdf(jnp.array(8), loc=2, scale=1).shape"
   ]
  },
  {
   "cell_type": "code",
   "execution_count": 14,
   "id": "77158403",
   "metadata": {},
   "outputs": [
    {
     "name": "stderr",
     "output_type": "stream",
     "text": [
      "  0%|          | 0/700 [00:00<?, ?it/s]\n"
     ]
    },
    {
     "ename": "ValueError",
     "evalue": "output shape (1,) does not match core dimensions () on vectorized function with excluded=frozenset() and signature='(1),(1)->()'",
     "output_type": "error",
     "traceback": [
      "\u001b[0;31m---------------------------------------------------------------------------\u001b[0m",
      "\u001b[0;31mValueError\u001b[0m                                Traceback (most recent call last)",
      "Cell \u001b[0;32mIn[14], line 18\u001b[0m\n\u001b[1;32m     15\u001b[0m key, subkey \u001b[38;5;241m=\u001b[39m jr\u001b[38;5;241m.\u001b[39msplit(key)\n\u001b[1;32m     17\u001b[0m \u001b[38;5;66;03m# Train \u001b[39;00m\n\u001b[0;32m---> 18\u001b[0m flow, losses \u001b[38;5;241m=\u001b[39m \u001b[43mfit_to_data\u001b[49m\u001b[43m(\u001b[49m\n\u001b[1;32m     19\u001b[0m \u001b[43m    \u001b[49m\u001b[43mkey\u001b[49m\u001b[38;5;241;43m=\u001b[39;49m\u001b[43msubkey\u001b[49m\u001b[43m,\u001b[49m\n\u001b[1;32m     20\u001b[0m \u001b[43m    \u001b[49m\u001b[43mdist\u001b[49m\u001b[38;5;241;43m=\u001b[39;49m\u001b[43mflow\u001b[49m\u001b[43m,\u001b[49m\n\u001b[1;32m     21\u001b[0m \u001b[43m    \u001b[49m\u001b[43mx\u001b[49m\u001b[38;5;241;43m=\u001b[39;49m\u001b[43my\u001b[49m\u001b[43m,\u001b[49m\n\u001b[1;32m     22\u001b[0m \u001b[43m    \u001b[49m\u001b[43mcondition\u001b[49m\u001b[38;5;241;43m=\u001b[39;49m\u001b[43mx\u001b[49m\u001b[43m,\u001b[49m\n\u001b[1;32m     23\u001b[0m \u001b[43m    \u001b[49m\u001b[43mlearning_rate\u001b[49m\u001b[38;5;241;43m=\u001b[39;49m\u001b[38;5;241;43m1e-2\u001b[39;49m\u001b[43m,\u001b[49m\n\u001b[1;32m     24\u001b[0m \u001b[43m    \u001b[49m\u001b[43mmax_patience\u001b[49m\u001b[38;5;241;43m=\u001b[39;49m\u001b[38;5;241;43m20\u001b[39;49m\u001b[43m,\u001b[49m\n\u001b[1;32m     25\u001b[0m \u001b[43m    \u001b[49m\u001b[43mmax_epochs\u001b[49m\u001b[38;5;241;43m=\u001b[39;49m\u001b[38;5;241;43m700\u001b[39;49m\u001b[43m,\u001b[49m\n\u001b[1;32m     26\u001b[0m \u001b[43m)\u001b[49m\n",
      "File \u001b[0;32m~/Library/CloudStorage/GoogleDrive-danielmanela@gmail.com/My Drive/work/deep-copula-frugal/flowjax/flowjax/train/data_fit.py:106\u001b[0m, in \u001b[0;36mfit_to_data\u001b[0;34m(key, dist, x, condition, loss_fn, max_epochs, max_patience, batch_size, val_prop, learning_rate, optimizer, return_best, show_progress)\u001b[0m\n\u001b[1;32m    104\u001b[0m batch_losses \u001b[38;5;241m=\u001b[39m []\n\u001b[1;32m    105\u001b[0m \u001b[38;5;28;01mfor\u001b[39;00m batch \u001b[38;5;129;01min\u001b[39;00m \u001b[38;5;28mzip\u001b[39m(\u001b[38;5;241m*\u001b[39mget_batches(train_data, batch_size), strict\u001b[38;5;241m=\u001b[39m\u001b[38;5;28;01mTrue\u001b[39;00m):\n\u001b[0;32m--> 106\u001b[0m     params, opt_state, loss_i \u001b[38;5;241m=\u001b[39m \u001b[43mstep\u001b[49m\u001b[43m(\u001b[49m\n\u001b[1;32m    107\u001b[0m \u001b[43m        \u001b[49m\u001b[43mparams\u001b[49m\u001b[43m,\u001b[49m\n\u001b[1;32m    108\u001b[0m \u001b[43m        \u001b[49m\u001b[43mstatic\u001b[49m\u001b[43m,\u001b[49m\n\u001b[1;32m    109\u001b[0m \u001b[43m        \u001b[49m\u001b[38;5;241;43m*\u001b[39;49m\u001b[43mbatch\u001b[49m\u001b[43m,\u001b[49m\n\u001b[1;32m    110\u001b[0m \u001b[43m        \u001b[49m\u001b[43moptimizer\u001b[49m\u001b[38;5;241;43m=\u001b[39;49m\u001b[43moptimizer\u001b[49m\u001b[43m,\u001b[49m\n\u001b[1;32m    111\u001b[0m \u001b[43m        \u001b[49m\u001b[43mopt_state\u001b[49m\u001b[38;5;241;43m=\u001b[39;49m\u001b[43mopt_state\u001b[49m\u001b[43m,\u001b[49m\n\u001b[1;32m    112\u001b[0m \u001b[43m        \u001b[49m\u001b[43mloss_fn\u001b[49m\u001b[38;5;241;43m=\u001b[39;49m\u001b[43mloss_fn\u001b[49m\u001b[43m,\u001b[49m\n\u001b[1;32m    113\u001b[0m \u001b[43m    \u001b[49m\u001b[43m)\u001b[49m\n\u001b[1;32m    114\u001b[0m     batch_losses\u001b[38;5;241m.\u001b[39mappend(loss_i)\n\u001b[1;32m    115\u001b[0m losses[\u001b[38;5;124m\"\u001b[39m\u001b[38;5;124mtrain\u001b[39m\u001b[38;5;124m\"\u001b[39m]\u001b[38;5;241m.\u001b[39mappend(\u001b[38;5;28msum\u001b[39m(batch_losses) \u001b[38;5;241m/\u001b[39m \u001b[38;5;28mlen\u001b[39m(batch_losses))\n",
      "    \u001b[0;31m[... skipping hidden 15 frame]\u001b[0m\n",
      "File \u001b[0;32m~/Library/CloudStorage/GoogleDrive-danielmanela@gmail.com/My Drive/work/deep-copula-frugal/flowjax/flowjax/train/train_utils.py:39\u001b[0m, in \u001b[0;36mstep\u001b[0;34m(params, static, optimizer, opt_state, loss_fn, *args)\u001b[0m\n\u001b[1;32m     16\u001b[0m \u001b[38;5;129m@eqx\u001b[39m\u001b[38;5;241m.\u001b[39mfilter_jit\n\u001b[1;32m     17\u001b[0m \u001b[38;5;28;01mdef\u001b[39;00m \u001b[38;5;21mstep\u001b[39m(\n\u001b[1;32m     18\u001b[0m     params: PyTree,\n\u001b[0;32m   (...)\u001b[0m\n\u001b[1;32m     23\u001b[0m     loss_fn: Callable,\n\u001b[1;32m     24\u001b[0m ):\n\u001b[1;32m     25\u001b[0m \u001b[38;5;250m    \u001b[39m\u001b[38;5;124;03m\"\"\"Carry out a training step.\u001b[39;00m\n\u001b[1;32m     26\u001b[0m \n\u001b[1;32m     27\u001b[0m \u001b[38;5;124;03m    Args:\u001b[39;00m\n\u001b[0;32m   (...)\u001b[0m\n\u001b[1;32m     37\u001b[0m \u001b[38;5;124;03m        tuple: (params, opt_state, loss_val)\u001b[39;00m\n\u001b[1;32m     38\u001b[0m \u001b[38;5;124;03m    \"\"\"\u001b[39;00m\n\u001b[0;32m---> 39\u001b[0m     loss_val, grads \u001b[38;5;241m=\u001b[39m \u001b[43meqx\u001b[49m\u001b[38;5;241;43m.\u001b[39;49m\u001b[43mfilter_value_and_grad\u001b[49m\u001b[43m(\u001b[49m\u001b[43mloss_fn\u001b[49m\u001b[43m)\u001b[49m\u001b[43m(\u001b[49m\u001b[43mparams\u001b[49m\u001b[43m,\u001b[49m\u001b[43m \u001b[49m\u001b[43mstatic\u001b[49m\u001b[43m,\u001b[49m\u001b[43m \u001b[49m\u001b[38;5;241;43m*\u001b[39;49m\u001b[43margs\u001b[49m\u001b[43m)\u001b[49m\n\u001b[1;32m     40\u001b[0m     updates, opt_state \u001b[38;5;241m=\u001b[39m optimizer\u001b[38;5;241m.\u001b[39mupdate(grads, opt_state, params\u001b[38;5;241m=\u001b[39mparams)\n\u001b[1;32m     41\u001b[0m     params \u001b[38;5;241m=\u001b[39m eqx\u001b[38;5;241m.\u001b[39mapply_updates(params, updates)\n",
      "    \u001b[0;31m[... skipping hidden 26 frame]\u001b[0m\n",
      "File \u001b[0;32m~/Library/CloudStorage/GoogleDrive-danielmanela@gmail.com/My Drive/work/deep-copula-frugal/flowjax/flowjax/train/losses.py:38\u001b[0m, in \u001b[0;36mMaximumLikelihoodLoss.__call__\u001b[0;34m(self, params, static, x, condition)\u001b[0m\n\u001b[1;32m     36\u001b[0m \u001b[38;5;250m\u001b[39m\u001b[38;5;124;03m\"\"\"Compute the loss.\"\"\"\u001b[39;00m\n\u001b[1;32m     37\u001b[0m dist \u001b[38;5;241m=\u001b[39m unwrap(eqx\u001b[38;5;241m.\u001b[39mcombine(params, static))\n\u001b[0;32m---> 38\u001b[0m \u001b[38;5;28;01mreturn\u001b[39;00m \u001b[38;5;241m-\u001b[39m\u001b[43mdist\u001b[49m\u001b[38;5;241;43m.\u001b[39;49m\u001b[43mlog_prob\u001b[49m\u001b[43m(\u001b[49m\u001b[43mx\u001b[49m\u001b[43m,\u001b[49m\u001b[43m \u001b[49m\u001b[43mcondition\u001b[49m\u001b[43m)\u001b[49m\u001b[38;5;241m.\u001b[39mmean()\n",
      "    \u001b[0;31m[... skipping hidden 1 frame]\u001b[0m\n",
      "File \u001b[0;32m~/Library/CloudStorage/GoogleDrive-danielmanela@gmail.com/My Drive/work/deep-copula-frugal/flowjax/flowjax/distributions.py:93\u001b[0m, in \u001b[0;36mAbstractDistribution.log_prob\u001b[0;34m(self, x, condition)\u001b[0m\n\u001b[1;32m     91\u001b[0m \u001b[38;5;28;01mif\u001b[39;00m \u001b[38;5;28mself\u001b[39m\u001b[38;5;241m.\u001b[39mcond_shape \u001b[38;5;129;01mis\u001b[39;00m \u001b[38;5;129;01mnot\u001b[39;00m \u001b[38;5;28;01mNone\u001b[39;00m:\n\u001b[1;32m     92\u001b[0m     condition \u001b[38;5;241m=\u001b[39m arraylike_to_array(condition, err_name\u001b[38;5;241m=\u001b[39m\u001b[38;5;124m\"\u001b[39m\u001b[38;5;124mcondition\u001b[39m\u001b[38;5;124m\"\u001b[39m)\n\u001b[0;32m---> 93\u001b[0m lps \u001b[38;5;241m=\u001b[39m \u001b[38;5;28;43mself\u001b[39;49m\u001b[38;5;241;43m.\u001b[39;49m\u001b[43m_vectorize\u001b[49m\u001b[43m(\u001b[49m\u001b[38;5;28;43mself\u001b[39;49m\u001b[38;5;241;43m.\u001b[39;49m\u001b[43m_log_prob\u001b[49m\u001b[43m)\u001b[49m\u001b[43m(\u001b[49m\u001b[43mx\u001b[49m\u001b[43m,\u001b[49m\u001b[43m \u001b[49m\u001b[43mcondition\u001b[49m\u001b[43m)\u001b[49m\n\u001b[1;32m     94\u001b[0m \u001b[38;5;28;01mreturn\u001b[39;00m jnp\u001b[38;5;241m.\u001b[39mwhere(jnp\u001b[38;5;241m.\u001b[39misnan(lps), \u001b[38;5;241m-\u001b[39mjnp\u001b[38;5;241m.\u001b[39minf, lps)\n",
      "File \u001b[0;32m~/micromamba/envs/deep-frugal/lib/python3.11/site-packages/jax/_src/numpy/vectorize.py:321\u001b[0m, in \u001b[0;36mvectorize.<locals>.wrapped\u001b[0;34m(*args, **kwargs)\u001b[0m\n\u001b[1;32m    319\u001b[0m   \u001b[38;5;28;01melse\u001b[39;00m:\n\u001b[1;32m    320\u001b[0m     vectorized_func \u001b[38;5;241m=\u001b[39m api\u001b[38;5;241m.\u001b[39mvmap(vectorized_func, in_axes)\n\u001b[0;32m--> 321\u001b[0m result \u001b[38;5;241m=\u001b[39m \u001b[43mvectorized_func\u001b[49m\u001b[43m(\u001b[49m\u001b[38;5;241;43m*\u001b[39;49m\u001b[43msqueezed_args\u001b[49m\u001b[43m)\u001b[49m\n\u001b[1;32m    323\u001b[0m \u001b[38;5;28;01mif\u001b[39;00m \u001b[38;5;129;01mnot\u001b[39;00m dims_to_expand:\n\u001b[1;32m    324\u001b[0m   \u001b[38;5;28;01mreturn\u001b[39;00m result\n",
      "    \u001b[0;31m[... skipping hidden 3 frame]\u001b[0m\n",
      "File \u001b[0;32m~/micromamba/envs/deep-frugal/lib/python3.11/site-packages/jax/_src/numpy/vectorize.py:156\u001b[0m, in \u001b[0;36m_check_output_dims.<locals>.wrapped\u001b[0;34m(*args)\u001b[0m\n\u001b[1;32m    154\u001b[0m sizes \u001b[38;5;241m=\u001b[39m \u001b[38;5;28mdict\u001b[39m(dim_sizes)\n\u001b[1;32m    155\u001b[0m \u001b[38;5;28;01mfor\u001b[39;00m shape, core_dims \u001b[38;5;129;01min\u001b[39;00m \u001b[38;5;28mzip\u001b[39m(out_shapes, output_core_dims):\n\u001b[0;32m--> 156\u001b[0m   \u001b[43m_update_dim_sizes\u001b[49m\u001b[43m(\u001b[49m\u001b[43msizes\u001b[49m\u001b[43m,\u001b[49m\u001b[43m \u001b[49m\u001b[43mshape\u001b[49m\u001b[43m,\u001b[49m\u001b[43m \u001b[49m\u001b[43mcore_dims\u001b[49m\u001b[43m,\u001b[49m\u001b[43m \u001b[49m\u001b[43merror_context\u001b[49m\u001b[43m,\u001b[49m\n\u001b[1;32m    157\u001b[0m \u001b[43m                    \u001b[49m\u001b[43mis_input\u001b[49m\u001b[38;5;241;43m=\u001b[39;49m\u001b[38;5;28;43;01mFalse\u001b[39;49;00m\u001b[43m)\u001b[49m\n\u001b[1;32m    159\u001b[0m \u001b[38;5;28;01mreturn\u001b[39;00m out\n",
      "File \u001b[0;32m~/micromamba/envs/deep-frugal/lib/python3.11/site-packages/jax/_src/numpy/vectorize.py:84\u001b[0m, in \u001b[0;36m_update_dim_sizes\u001b[0;34m(dim_sizes, shape, core_dims, error_context, is_input)\u001b[0m\n\u001b[1;32m     82\u001b[0m \u001b[38;5;28;01melse\u001b[39;00m:\n\u001b[1;32m     83\u001b[0m   \u001b[38;5;28;01mif\u001b[39;00m \u001b[38;5;28mlen\u001b[39m(shape) \u001b[38;5;241m!=\u001b[39m num_core_dims:\n\u001b[0;32m---> 84\u001b[0m     \u001b[38;5;28;01mraise\u001b[39;00m \u001b[38;5;167;01mValueError\u001b[39;00m(\n\u001b[1;32m     85\u001b[0m         \u001b[38;5;124m'\u001b[39m\u001b[38;5;124moutput shape \u001b[39m\u001b[38;5;132;01m%r\u001b[39;00m\u001b[38;5;124m does not match core dimensions \u001b[39m\u001b[38;5;132;01m%r\u001b[39;00m\u001b[38;5;124m \u001b[39m\u001b[38;5;132;01m%s\u001b[39;00m\u001b[38;5;124m'\u001b[39m\n\u001b[1;32m     86\u001b[0m         \u001b[38;5;241m%\u001b[39m (shape, core_dims, error_context))\n\u001b[1;32m     88\u001b[0m core_shape \u001b[38;5;241m=\u001b[39m shape[\u001b[38;5;241m-\u001b[39mnum_core_dims:] \u001b[38;5;28;01mif\u001b[39;00m core_dims \u001b[38;5;28;01melse\u001b[39;00m ()\n\u001b[1;32m     89\u001b[0m \u001b[38;5;28;01mfor\u001b[39;00m dim, size \u001b[38;5;129;01min\u001b[39;00m \u001b[38;5;28mzip\u001b[39m(core_dims, core_shape):\n",
      "\u001b[0;31mValueError\u001b[0m: output shape (1,) does not match core dimensions () on vectorized function with excluded=frozenset() and signature='(1),(1)->()'"
     ]
    }
   ],
   "source": [
    "nvars = 1\n",
    "key, subkey = jr.split(jr.PRNGKey(seed))\n",
    "\n",
    "base_dist = flowjax.distributions._StandardUniform((1,))\n",
    "\n",
    "# base_dist = Uniform(-jnp.zeros(nvars), jnp.ones(nvars))\n",
    "marginal_transform = Stack([UnivariateNormalCDF(\n",
    "    ate=5., \n",
    "    const=3., \n",
    "    scale=3., \n",
    "    cond_dim=1\n",
    ")])\n",
    "flow = Transformed(base_dist, Invert(marginal_transform))\n",
    "\n",
    "key, subkey = jr.split(key)\n",
    "\n",
    "# Train \n",
    "flow, losses = fit_to_data(\n",
    "    key=subkey,\n",
    "    dist=flow,\n",
    "    x=y,\n",
    "    condition=x,\n",
    "    learning_rate=1e-2,\n",
    "    max_patience=20,\n",
    "    max_epochs=700,\n",
    ")"
   ]
  },
  {
   "cell_type": "code",
   "execution_count": 19,
   "id": "f383576e",
   "metadata": {},
   "outputs": [],
   "source": [
    "nvars = 1\n",
    "key, subkey = jr.split(jr.PRNGKey(seed))\n",
    "\n",
    "base_dist = flowjax.distributions._StandardUniform((1,))\n",
    "\n",
    "# base_dist = Uniform(-jnp.zeros(nvars), jnp.ones(nvars))\n",
    "marginal_transform = Stack([UnivariateNormalCDF(\n",
    "    ate=5., \n",
    "    const=3., \n",
    "    scale=3., \n",
    "    cond_dim=1\n",
    ")])\n",
    "flow = Transformed(base_dist, Invert(marginal_transform))\n",
    "\n",
    "condition = arraylike_to_array(x, err_name='condition')\n",
    "x = arraylike_to_array(y, err_name='x')"
   ]
  },
  {
   "cell_type": "code",
   "execution_count": 57,
   "id": "1b7d92ff",
   "metadata": {},
   "outputs": [],
   "source": [
    "ate, scale, const = jnp.broadcast_arrays(\n",
    "    *(arraylike_to_array(a, dtype=float) for a in (2, 3, 4)),\n",
    ")\n",
    "shape = scale.shape # (1,)\n",
    "# cond_shape = (cond_dim, )"
   ]
  },
  {
   "cell_type": "code",
   "execution_count": 64,
   "id": "c839c140",
   "metadata": {},
   "outputs": [
    {
     "data": {
      "text/plain": [
       "Array(-3.4098296, dtype=float32)"
      ]
     },
     "execution_count": 64,
     "metadata": {},
     "output_type": "execute_result"
    }
   ],
   "source": [
    "location = ate * x[0] + const\n",
    "jax.scipy.stats.norm.logpdf(y[0][0], loc=location[0], scale=scale)"
   ]
  },
  {
   "cell_type": "code",
   "execution_count": null,
   "id": "202a29b1",
   "metadata": {},
   "outputs": [],
   "source": []
  },
  {
   "cell_type": "code",
   "execution_count": 21,
   "id": "66b7ee5b",
   "metadata": {},
   "outputs": [
    {
     "data": {
      "text/plain": [
       "<function flowjax.distributions.AbstractTransformed._log_prob(x, condition=None)>"
      ]
     },
     "execution_count": 21,
     "metadata": {},
     "output_type": "execute_result"
    }
   ],
   "source": [
    "flow._vectorize(flow._log_prob)#(x, condition)"
   ]
  },
  {
   "cell_type": "code",
   "execution_count": 41,
   "id": "97c797d6",
   "metadata": {},
   "outputs": [
    {
     "name": "stdout",
     "output_type": "stream",
     "text": [
      "[(1,), (1,)]\n",
      "[()]\n"
     ]
    }
   ],
   "source": [
    "maybe_cond = [] if flow.cond_shape is None else [flow.cond_shape]\n",
    "in_shapes = {\n",
    "    \"_sample_and_log_prob\": [(2,)] + maybe_cond,\n",
    "    \"_sample\": [(2,)] + maybe_cond,\n",
    "    \"_log_prob\": [flow.shape] + maybe_cond,\n",
    "}\n",
    "out_shapes = {\n",
    "    \"_sample_and_log_prob\": [flow.shape, ()],\n",
    "    \"_sample\": [flow.shape],\n",
    "    \"_log_prob\": [()],\n",
    "}\n",
    "method = '_log_prob'\n",
    "in_shapes_lp = in_shapes[method]\n",
    "out_shapes_lp = out_shapes[method]\n",
    "print(in_shapes_lp)\n",
    "print(out_shapes_lp)"
   ]
  },
  {
   "cell_type": "code",
   "execution_count": 35,
   "id": "2464f365",
   "metadata": {},
   "outputs": [
    {
     "name": "stdout",
     "output_type": "stream",
     "text": [
      "_sample_and_log_prob,_sample,_log_prob->_sample_and_log_prob,_sample,_log_prob\n"
     ]
    },
    {
     "data": {
      "text/plain": [
       "<function flowjax.distributions.AbstractTransformed._log_prob(x, condition=None)>"
      ]
     },
     "execution_count": 35,
     "metadata": {},
     "output_type": "execute_result"
    }
   ],
   "source": [
    "from functools import wraps\n",
    "import inspect\n",
    "\n",
    "from flowjax.utils import _get_ufunc_signature, arraylike_to_array, merge_cond_shapes\n",
    "\n",
    "sig = _get_ufunc_signature(in_shapes, out_shapes)\n",
    "print(sig)\n",
    "def _check_shapes(method):\n",
    "    # Wraps unvectorised method with shape checking\n",
    "    @wraps(method)\n",
    "    def _wrapper(*args, **kwargs):\n",
    "        bound = inspect.signature(method).bind(*args, **kwargs)\n",
    "        for in_shape, (name, arg) in zip(\n",
    "            in_shapes,\n",
    "            bound.arguments.items(),\n",
    "            strict=False,\n",
    "        ):\n",
    "            if arg.shape != in_shape:\n",
    "                raise ValueError(\n",
    "                    f\"Expected trailing dimensions matching {in_shape} for \"\n",
    "                    f\"{name}; got {arg.shape}.\",\n",
    "                )\n",
    "        return method(*args, **kwargs)\n",
    "\n",
    "    return _wrapper\n",
    "ex = frozenset()\n",
    "_check_shapes(flow._log_prob)"
   ]
  },
  {
   "cell_type": "code",
   "execution_count": 39,
   "id": "084764b8",
   "metadata": {},
   "outputs": [
    {
     "data": {
      "text/plain": [
       "'_sample_and_log_prob,_sample,_log_prob->_sample_and_log_prob,_sample,_log_prob'"
      ]
     },
     "execution_count": 39,
     "metadata": {},
     "output_type": "execute_result"
    }
   ],
   "source": [
    "sig"
   ]
  },
  {
   "cell_type": "code",
   "execution_count": 37,
   "id": "e2e6cee5",
   "metadata": {},
   "outputs": [
    {
     "ename": "ValueError",
     "evalue": "not a valid gufunc signature: _sample_and_log_prob,_sample,_log_prob->_sample_and_log_prob,_sample,_log_prob",
     "output_type": "error",
     "traceback": [
      "\u001b[0;31m---------------------------------------------------------------------------\u001b[0m",
      "\u001b[0;31mValueError\u001b[0m                                Traceback (most recent call last)",
      "Cell \u001b[0;32mIn[37], line 1\u001b[0m\n\u001b[0;32m----> 1\u001b[0m \u001b[43mjnp\u001b[49m\u001b[38;5;241;43m.\u001b[39;49m\u001b[43mvectorize\u001b[49m\u001b[43m(\u001b[49m\u001b[43m_check_shapes\u001b[49m\u001b[43m(\u001b[49m\u001b[43mflow\u001b[49m\u001b[38;5;241;43m.\u001b[39;49m\u001b[43m_log_prob\u001b[49m\u001b[43m)\u001b[49m\u001b[43m,\u001b[49m\u001b[43m \u001b[49m\u001b[43msignature\u001b[49m\u001b[38;5;241;43m=\u001b[39;49m\u001b[43msig\u001b[49m\u001b[43m,\u001b[49m\u001b[43m \u001b[49m\u001b[43mexcluded\u001b[49m\u001b[38;5;241;43m=\u001b[39;49m\u001b[43mex\u001b[49m\u001b[43m)\u001b[49m\u001b[43m(\u001b[49m\u001b[43mx\u001b[49m\u001b[38;5;241;43m=\u001b[39;49m\u001b[43my\u001b[49m\u001b[43m,\u001b[49m\u001b[43m \u001b[49m\u001b[43mcondition\u001b[49m\u001b[38;5;241;43m=\u001b[39;49m\u001b[43mx\u001b[49m\u001b[43m)\u001b[49m\n",
      "File \u001b[0;32m~/micromamba/envs/deep-frugal/lib/python3.11/site-packages/jax/_src/numpy/vectorize.py:272\u001b[0m, in \u001b[0;36mvectorize.<locals>.wrapped\u001b[0;34m(*args, **kwargs)\u001b[0m\n\u001b[1;32m    269\u001b[0m excluded_func, args, kwargs \u001b[38;5;241m=\u001b[39m _apply_excluded(pyfunc, excluded, args, kwargs)\n\u001b[1;32m    271\u001b[0m \u001b[38;5;28;01mif\u001b[39;00m signature \u001b[38;5;129;01mis\u001b[39;00m \u001b[38;5;129;01mnot\u001b[39;00m \u001b[38;5;28;01mNone\u001b[39;00m:\n\u001b[0;32m--> 272\u001b[0m   input_core_dims, output_core_dims \u001b[38;5;241m=\u001b[39m \u001b[43m_parse_gufunc_signature\u001b[49m\u001b[43m(\u001b[49m\u001b[43msignature\u001b[49m\u001b[43m)\u001b[49m\n\u001b[1;32m    273\u001b[0m \u001b[38;5;28;01melse\u001b[39;00m:\n\u001b[1;32m    274\u001b[0m   input_core_dims \u001b[38;5;241m=\u001b[39m [()] \u001b[38;5;241m*\u001b[39m \u001b[38;5;28mlen\u001b[39m(args)\n",
      "File \u001b[0;32m~/micromamba/envs/deep-frugal/lib/python3.11/site-packages/jax/_src/numpy/vectorize.py:52\u001b[0m, in \u001b[0;36m_parse_gufunc_signature\u001b[0;34m(signature)\u001b[0m\n\u001b[1;32m     42\u001b[0m \u001b[38;5;250m\u001b[39m\u001b[38;5;124;03m\"\"\"Parse string signatures for a generalized universal function.\u001b[39;00m\n\u001b[1;32m     43\u001b[0m \n\u001b[1;32m     44\u001b[0m \u001b[38;5;124;03mArgs:\u001b[39;00m\n\u001b[0;32m   (...)\u001b[0m\n\u001b[1;32m     49\u001b[0m \u001b[38;5;124;03m  Input and output core dimensions parsed from the signature.\u001b[39;00m\n\u001b[1;32m     50\u001b[0m \u001b[38;5;124;03m\"\"\"\u001b[39;00m\n\u001b[1;32m     51\u001b[0m \u001b[38;5;28;01mif\u001b[39;00m \u001b[38;5;129;01mnot\u001b[39;00m re\u001b[38;5;241m.\u001b[39mmatch(_SIGNATURE, signature):\n\u001b[0;32m---> 52\u001b[0m   \u001b[38;5;28;01mraise\u001b[39;00m \u001b[38;5;167;01mValueError\u001b[39;00m(\n\u001b[1;32m     53\u001b[0m       \u001b[38;5;124mf\u001b[39m\u001b[38;5;124m'\u001b[39m\u001b[38;5;124mnot a valid gufunc signature: \u001b[39m\u001b[38;5;132;01m{\u001b[39;00msignature\u001b[38;5;132;01m}\u001b[39;00m\u001b[38;5;124m'\u001b[39m)\n\u001b[1;32m     54\u001b[0m args, retvals \u001b[38;5;241m=\u001b[39m ([\u001b[38;5;28mtuple\u001b[39m(re\u001b[38;5;241m.\u001b[39mfindall(_DIMENSION_NAME, arg))\n\u001b[1;32m     55\u001b[0m                  \u001b[38;5;28;01mfor\u001b[39;00m arg \u001b[38;5;129;01min\u001b[39;00m re\u001b[38;5;241m.\u001b[39mfindall(_ARGUMENT, arg_list)]\n\u001b[1;32m     56\u001b[0m                  \u001b[38;5;28;01mfor\u001b[39;00m arg_list \u001b[38;5;129;01min\u001b[39;00m signature\u001b[38;5;241m.\u001b[39msplit(\u001b[38;5;124m'\u001b[39m\u001b[38;5;124m->\u001b[39m\u001b[38;5;124m'\u001b[39m))\n\u001b[1;32m     57\u001b[0m \u001b[38;5;28;01mreturn\u001b[39;00m args, retvals\n",
      "\u001b[0;31mValueError\u001b[0m: not a valid gufunc signature: _sample_and_log_prob,_sample,_log_prob->_sample_and_log_prob,_sample,_log_prob"
     ]
    }
   ],
   "source": [
    "jnp.vectorize(_check_shapes(flow._log_prob), signature=sig, excluded=ex)(x=y, condition=x)"
   ]
  },
  {
   "cell_type": "code",
   "execution_count": 11,
   "id": "a19dc9d6",
   "metadata": {},
   "outputs": [
    {
     "name": "stdout",
     "output_type": "stream",
     "text": [
      "[5.] [1.] [3.]\n"
     ]
    }
   ],
   "source": [
    "ate, scale, const = jnp.broadcast_arrays(\n",
    "    *(arraylike_to_array(a, dtype=float) for a in (ate, scale, const)),\n",
    ")\n",
    "print(ate, scale, const)"
   ]
  },
  {
   "cell_type": "code",
   "execution_count": 13,
   "id": "c9f2d080-dc69-4c07-9df7-e0a72b214163",
   "metadata": {},
   "outputs": [
    {
     "data": {
      "text/plain": [
       "<matplotlib.legend.Legend at 0x16625d6d0>"
      ]
     },
     "execution_count": 13,
     "metadata": {},
     "output_type": "execute_result"
    },
    {
     "data": {
      "image/png": "[encoded data removed]",
      "text/plain": [
       "<Figure size 640x480 with 1 Axes>"
      ]
     },
     "metadata": {},
     "output_type": "display_data"
    }
   ],
   "source": [
    "# plt.hist(*flow.sample(key, (1000, ), condition=jnp.zeros(1)).T, label=\"flow\", alpha=0.3)\n",
    "plt.hist(*flow.sample(key, (1000, ), condition=jnp.zeros(1)).T,label=\"flow\", alpha=0.3)\n",
    "\n",
    "# plt.hist(*flow.sample(key, (1000, ), condition=jnp.zeros(1)).T, label=\"flow\", alpha=0.3)\n",
    "plt.hist(*y.T, label=\"target\", alpha=0.3)\n",
    "plt.legend()"
   ]
  },
  {
   "cell_type": "code",
   "execution_count": null,
   "id": "e9193aa1-56ca-4b64-b67d-568913f2f7fd",
   "metadata": {},
   "outputs": [],
   "source": [
    "print(flow.bijection.bijection.bijections[0].ate)\n",
    "print(flow.bijection.bijection.bijections[0].const)\n",
    "print(flow.bijection.bijection.bijections[0].scale)"
   ]
  },
  {
   "cell_type": "code",
   "execution_count": null,
   "id": "d1b1fb29-3067-4e33-acbe-05dc3efc1423",
   "metadata": {},
   "outputs": [],
   "source": []
  }
 ],
 "metadata": {
  "kernelspec": {
   "display_name": "Python 3 (ipykernel)",
   "language": "python",
   "name": "python3"
  },
  "language_info": {
   "codemirror_mode": {
    "name": "ipython",
    "version": 3
   },
   "file_extension": ".py",
   "mimetype": "text/x-python",
   "name": "python",
   "nbconvert_exporter": "python",
   "pygments_lexer": "ipython3",
   "version": "3.11.8"
  }
 },
 "nbformat": 4,
 "nbformat_minor": 5
}
