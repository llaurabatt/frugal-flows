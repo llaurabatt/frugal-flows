{
 "cells": [
  {
   "cell_type": "code",
   "execution_count": 1,
   "id": "32508011-8b8e-4a06-a273-695631df8b88",
   "metadata": {},
   "outputs": [],
   "source": [
    "from jaxtyping import ArrayLike\n",
    "from flowjax.bijections.bijection import AbstractBijection\n",
    "from flowjax.distributions import AbstractDistribution\n",
    "import inspect\n",
    "import jax.random as jr\n",
    "import jax.numpy as jnp\n",
    "import jax\n",
    "import matplotlib.pyplot as plt\n",
    "import warnings\n",
    "\n",
    "from frugal_flows.causal_flows import (\n",
    "    train_frugal_flow,\n",
    ")\n",
    "\n",
    "from frugal_flows.bijections import UnivariateNormalCDF, LocCond\n",
    "\n",
    "from frugal_flows.sample_outcome import sample_outcome\n",
    "\n",
    "jax.config.update(\"jax_enable_x64\", True)"
   ]
  },
  {
   "cell_type": "code",
   "execution_count": 2,
   "id": "fea40f34-81f9-4c10-93f1-9b18c65ca906",
   "metadata": {},
   "outputs": [],
   "source": [
    "keys = jr.split(jr.PRNGKey(8), 50)"
   ]
  },
  {
   "cell_type": "code",
   "execution_count": 3,
   "id": "996cfb77-3bac-45b8-a114-61ade8e2586a",
   "metadata": {},
   "outputs": [],
   "source": [
    "\n",
    "N = 10000\n",
    "\n",
    "z = jr.multivariate_normal(keys[0], jnp.array([0.,0.]), jnp.array([[1., 0],[0, 1.]]), shape=(N,))\n",
    "\n",
    "\n",
    "x = jnp.expand_dims(jnp.hstack([jnp.ones(int(N/2))*0, jnp.ones(int(N/2))*1]),axis=1)\n",
    "y = jax.random.normal(keys[2], shape=(N,1)) + x + jnp.expand_dims(z.sum(1), axis=1)\n",
    "\n",
    "u_z = jax.scipy.stats.norm.cdf(z, loc=0, scale=1)"
   ]
  },
  {
   "cell_type": "code",
   "execution_count": 20,
   "id": "5726b49c-61e5-4afb-9d44-1c74d3d5c61b",
   "metadata": {},
   "outputs": [
    {
     "name": "stderr",
     "output_type": "stream",
     "text": [
      " 29%|██████████████████████▊                                                       | 146/500 [01:31<03:41,  1.60it/s, train=1.4345362236445558, val=1.4825072776609831 (Max patience reached)]\n"
     ]
    }
   ],
   "source": [
    "frugal_flow, losses = train_frugal_flow(\n",
    "    key = jr.PRNGKey(9),\n",
    "    y=y,\n",
    "    u_z=u_z,  # impose discrete\n",
    "    RQS_knots= 8,\n",
    "    nn_depth= 1,\n",
    "    nn_width= 50,\n",
    "    flow_layers= 5,\n",
    "    learning_rate= 5e-2,\n",
    "    max_epochs= 500,\n",
    "    max_patience = 50,\n",
    "    batch_size = 1000,\n",
    "    condition=x,\n",
    "    mask_condition=True,\n",
    "    causal_model = 'location_translation',\n",
    "    causal_model_args={'RQS_knots':8, 'flow_layers':5, 'nn_width':50, 'nn_depth':2, 'ate':5.},\n",
    ")"
   ]
  },
  {
   "cell_type": "code",
   "execution_count": 21,
   "id": "3f66d3a1-eb9d-49f0-a773-6d84afea3d92",
   "metadata": {},
   "outputs": [
    {
     "data": {
      "text/plain": [
       "Array(1.03780964, dtype=float64)"
      ]
     },
     "execution_count": 21,
     "metadata": {},
     "output_type": "execute_result"
    }
   ],
   "source": [
    "frugal_flow.bijection[-1].bijections[0].ate"
   ]
  },
  {
   "cell_type": "code",
   "execution_count": 5,
   "id": "3a8ec17d-ef78-47bf-9887-c9b1db92fd56",
   "metadata": {},
   "outputs": [],
   "source": [
    "def logistic_outcome(u_y: ArrayLike, \n",
    "                           ate: float, \n",
    "                           causal_condition: ArrayLike, \n",
    "                           const: float):\n",
    "    def get_y(u_y, ate, x, const):\n",
    "        p = jax.nn.sigmoid(ate*x + const)\n",
    "        return (u_y>=p).astype(int)\n",
    "    return jax.vmap(get_y, in_axes=(0, None, 0, None))(u_y, ate, causal_condition, const)"
   ]
  },
  {
   "cell_type": "code",
   "execution_count": 6,
   "id": "fd2794aa-ef53-4b6b-8da0-cb42dbb21228",
   "metadata": {},
   "outputs": [],
   "source": [
    "def causal_cdf_outcome(u_y: ArrayLike,\n",
    "                       causal_cdf: AbstractBijection,\n",
    "                       frugal_flow: AbstractDistribution,\n",
    "                       causal_condition: ArrayLike,\n",
    "                       **treatment_kwargs: dict,\n",
    "    \n",
    "    ):\n",
    "                       \n",
    "\n",
    "    causal_cdf_init_params = [i for i in inspect.signature(causal_cdf.__init__).parameters.keys() if ((i != 'self') and (i != 'cond_dim'))]\n",
    "    for param in causal_cdf_init_params:\n",
    "        if param not in treatment_kwargs.keys():\n",
    "            treatment_kwargs[param] = None\n",
    "\n",
    "    for k,v in treatment_kwargs.items():\n",
    "        if k != 'cond_dim':\n",
    "            if v is None:\n",
    "                try:\n",
    "                    treatment_kwargs[k] = getattr(frugal_flow.bijection.bijections[-1].bijection.bijections[0], k)\n",
    "                except:\n",
    "                    pass\n",
    "\n",
    "    causal_cdf_simulate = causal_cdf(**treatment_kwargs)\n",
    "    samples = jax.vmap(causal_cdf_simulate.inverse)(u_y, causal_condition)\n",
    "    return samples, causal_cdf_simulate"
   ]
  },
  {
   "cell_type": "code",
   "execution_count": 7,
   "id": "c38c8139-8869-45b9-a6e6-42d0321481ce",
   "metadata": {},
   "outputs": [],
   "source": [
    "def location_translation_outcome(u_y: ArrayLike,\n",
    "                       frugal_flow: AbstractDistribution,\n",
    "                       causal_condition: ArrayLike,\n",
    "                       flow_condition: ArrayLike,\n",
    "                       **treatment_kwargs: dict,\n",
    "    \n",
    "    ):\n",
    "\n",
    "    causal_minus1_plus1 = jax.vmap(frugal_flow.bijection.bijections[3].bijections[0].transform)(u_y[:,None], flow_condition)\n",
    "    causal_reals = jax.vmap(frugal_flow.bijection.bijections[4].bijections[0].transform)(causal_minus1_plus1.flatten(), flow_condition)\n",
    "        \n",
    "    loc_cond_cdf_simulate = LocCond(**treatment_kwargs)\n",
    "    samples = jax.vmap(loc_cond_cdf_simulate.transform)(causal_reals, causal_condition)\n",
    "    return samples\n"
   ]
  },
  {
   "cell_type": "code",
   "execution_count": 8,
   "id": "b7a6cb06-d7cd-4386-909e-12ccfedfee86",
   "metadata": {},
   "outputs": [],
   "source": [
    "def sample_outcome(frugal_flow: AbstractDistribution,\n",
    "            affine_to_standard:bool,\n",
    "             key: jr.PRNGKey,\n",
    "            n_samples: float,\n",
    "            causal_model: str,\n",
    "            causal_condition: ArrayLike|None = None,\n",
    "            causal_cdf: AbstractBijection|None = UnivariateNormalCDF,       \n",
    "            **treatment_kwargs: dict):\n",
    "\n",
    "    valid_causal_models = ['logistic_regression', 'causal_cdf', 'location_translation']\n",
    "    flow_dim = frugal_flow.shape[0]\n",
    "\n",
    "    if frugal_flow.cond_shape is None:\n",
    "        flow_fake_condition = None\n",
    "    else:    \n",
    "       flow_fake_condition = jnp.ones((n_samples,frugal_flow.cond_shape[0]))\n",
    "    \n",
    "    uni_standard = jr.uniform(key, shape=(n_samples, flow_dim))\n",
    "    uni_minus1_plus1 = jax.vmap(frugal_flow.bijection.bijections[0].tree.transform)(uni_standard)\n",
    "\n",
    "    corruni_minus1_plus1 = jax.vmap(frugal_flow.bijection.bijections[1].transform)(uni_minus1_plus1, flow_fake_condition)\n",
    "    corruni = jax.vmap(frugal_flow.bijection.bijections[2].tree.transform)(corruni_minus1_plus1, flow_fake_condition)\n",
    "    corruni_y = corruni[:,0]\n",
    "    if affine_to_standard:\n",
    "        if ((corruni_y.min()>=0.)&(corruni_y.max()<=1.)):\n",
    "            warnings.warn(f\"You have activated affine_to_standard but transformed variable was already between 0 and 1\")\n",
    "        corruni_standard = (corruni_y/2)+0.5\n",
    "    else:\n",
    "        corruni_standard = corruni_y\n",
    "\n",
    "    if causal_model == 'logistic_regression':\n",
    "        outcome_samples = logistic_outcome(u_y=corruni_standard, causal_condition=causal_condition, **treatment_kwargs)\n",
    "\n",
    "    elif causal_model == 'causal_cdf':\n",
    "        outcome_samples, _ = causal_cdf_outcome(u_y=corruni_standard, \n",
    "                                             causal_condition=causal_condition, \n",
    "                                             frugal_flow=frugal_flow,\n",
    "                                             causal_cdf=causal_cdf,\n",
    "                                             **treatment_kwargs)\n",
    "        \n",
    "    elif causal_model == 'location_translation':\n",
    "        outcome_samples = location_translation_outcome(u_y=corruni_standard, \n",
    "                                           causal_condition=causal_condition, \n",
    "                                           flow_condition=flow_fake_condition,\n",
    "                                           frugal_flow=frugal_flow,\n",
    "                                           **treatment_kwargs)\n",
    "    else:\n",
    "        raise ValueError(f\"Invalid choice. Please choose from: {valid_causal_models}\")\n",
    "\n",
    "    return outcome_samples\n",
    "        \n"
   ]
  },
  {
   "cell_type": "code",
   "execution_count": 9,
   "id": "16bc1d59-e60d-4213-a7e9-57a9b5827b8d",
   "metadata": {},
   "outputs": [],
   "source": [
    "key= jr.PRNGKey(9),\n",
    "n_samples=1000\n",
    "causal_cdf=UnivariateNormalCDF, \n",
    "causal_condition= jnp.hstack([jnp.ones(int(n_samples/2))*0, jnp.ones(int(n_samples/2))*1]).astype(int)"
   ]
  },
  {
   "cell_type": "code",
   "execution_count": 10,
   "id": "442f8a9a-abbe-47a9-b32c-e756c1177e2c",
   "metadata": {},
   "outputs": [
    {
     "data": {
      "image/png": "[encoded data removed]",
      "text/plain": [
       "<Figure size 640x480 with 1 Axes>"
      ]
     },
     "metadata": {},
     "output_type": "display_data"
    }
   ],
   "source": [
    "treatment_kwargs={'ate':5} #, 'const':0., 'scale':1.}\n",
    "my_outcome = sample_outcome(frugal_flow=frugal_flow,\n",
    "             key=keys[9],\n",
    "            n_samples=n_samples,\n",
    "            causal_model='location_translation',\n",
    "            causal_condition=causal_condition, \n",
    "            affine_to_standard=False,\n",
    "            **treatment_kwargs)\n",
    "\n",
    "plt.hist(my_outcome);"
   ]
  },
  {
   "cell_type": "code",
   "execution_count": 11,
   "id": "2104be5b-7c67-43ca-a43f-831a026f3504",
   "metadata": {},
   "outputs": [
    {
     "data": {
      "image/png": "[encoded data removed]",
      "text/plain": [
       "<Figure size 640x480 with 1 Axes>"
      ]
     },
     "metadata": {},
     "output_type": "display_data"
    }
   ],
   "source": [
    "treatment_kwargs={'ate':5, 'const':0., 'scale':1.}\n",
    "my_outcome  = sample_outcome(frugal_flow=frugal_flow,\n",
    "             key=keys[9],\n",
    "            n_samples=n_samples,\n",
    "            causal_model='causal_cdf',\n",
    "            causal_cdf=UnivariateNormalCDF,\n",
    "            causal_condition=causal_condition,  \n",
    "            affine_to_standard=True,\n",
    "            **treatment_kwargs)\n",
    "\n",
    "plt.hist(my_outcome);"
   ]
  },
  {
   "cell_type": "code",
   "execution_count": 12,
   "id": "0630f5fc-b470-44a9-8b4f-bfb1713ea9d7",
   "metadata": {},
   "outputs": [
    {
     "data": {
      "image/png": "[encoded data removed]",
      "text/plain": [
       "<Figure size 640x480 with 1 Axes>"
      ]
     },
     "metadata": {},
     "output_type": "display_data"
    }
   ],
   "source": [
    "treatment_kwargs={'ate':5, 'const':0.}\n",
    "my_outcome = sample_outcome(frugal_flow=frugal_flow,\n",
    "             key=keys[9],\n",
    "            n_samples=n_samples,\n",
    "            causal_model='logistic_regression',\n",
    "            causal_cdf=UnivariateNormalCDF,\n",
    "            causal_condition=causal_condition,  \n",
    "            affine_to_standard=True,\n",
    "            **treatment_kwargs)\n",
    "\n",
    "plt.hist(my_outcome);"
   ]
  }
 ],
 "metadata": {
  "kernelspec": {
   "display_name": "Python 3 (ipykernel)",
   "language": "python",
   "name": "python3"
  },
  "language_info": {
   "codemirror_mode": {
    "name": "ipython",
    "version": 3
   },
   "file_extension": ".py",
   "mimetype": "text/x-python",
   "name": "python",
   "nbconvert_exporter": "python",
   "pygments_lexer": "ipython3",
   "version": "3.11.9"
  }
 },
 "nbformat": 4,
 "nbformat_minor": 5
}
