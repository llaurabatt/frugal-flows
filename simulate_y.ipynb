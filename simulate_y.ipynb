{
 "cells": [
  {
   "cell_type": "code",
   "execution_count": 1,
   "id": "3a1495b5",
   "metadata": {},
   "outputs": [],
   "source": [
    "from jaxtyping import ArrayLike\n",
    "from flowjax.bijections.bijection import AbstractBijection\n",
    "from flowjax.distributions import AbstractDistribution\n",
    "import inspect\n",
    "import jax.random as jr\n",
    "import jax.numpy as jnp\n",
    "import jax\n",
    "import matplotlib.pyplot as plt\n",
    "import warnings\n",
    "\n",
    "from frugal_flows.causal_flows import (\n",
    "    train_frugal_flow,\n",
    ")\n",
    "\n",
    "from flowjax.bijections import (\n",
    "    Affine,\n",
    "    Invert,\n",
    "    Tanh,\n",
    ")\n",
    "\n",
    "from flowjax.distributions import Transformed, Uniform, _StandardUniform\n",
    "\n",
    "from frugal_flows.bijections import UnivariateNormalCDF, LocCond, MaskedAutoregressiveFirstUniform\n",
    "from flowjax.bijections.utils import Identity\n",
    "\n",
    "from frugal_flows.sample_outcome import sample_outcome\n",
    "\n",
    "jax.config.update(\"jax_enable_x64\", True)"
   ]
  },
  {
   "cell_type": "code",
   "execution_count": 4,
   "id": "3da38876",
   "metadata": {},
   "outputs": [],
   "source": [
    "keys = jr.split(jr.PRNGKey(8), 50)"
   ]
  },
  {
   "cell_type": "code",
   "execution_count": 5,
   "id": "df69e287",
   "metadata": {},
   "outputs": [],
   "source": [
    "\n",
    "N = 10000\n",
    "\n",
    "z = jr.multivariate_normal(keys[0], jnp.array([0.,0.]), jnp.array([[1., 0],[0, 1.]]), shape=(N,))\n",
    "\n",
    "\n",
    "x = jnp.expand_dims(jnp.hstack([jnp.ones(int(N/2))*0, jnp.ones(int(N/2))*1]),axis=1)\n",
    "y = jax.random.normal(keys[2], shape=(N,1)) + x + jnp.expand_dims(z.sum(1), axis=1)\n",
    "\n",
    "u_z = jax.scipy.stats.norm.cdf(z, loc=0, scale=1)"
   ]
  },
  {
   "cell_type": "code",
   "execution_count": 7,
   "id": "85819b75",
   "metadata": {},
   "outputs": [
    {
     "name": "stderr",
     "output_type": "stream",
     "text": [
      " 29%|███▊         | 146/500 [01:31<03:41,  1.60it/s, train=1.4345362236445558, val=1.4825072776609831 (Max patience reached)]\n"
     ]
    }
   ],
   "source": [
    "frugal_flow, losses = train_frugal_flow(\n",
    "    key = jr.PRNGKey(9),\n",
    "    y=y,\n",
    "    u_z=u_z,  # impose discrete\n",
    "    RQS_knots= 8,\n",
    "    nn_depth= 1,\n",
    "    nn_width= 50,\n",
    "    flow_layers= 5,\n",
    "    learning_rate= 5e-2,\n",
    "    max_epochs= 500,\n",
    "    max_patience = 50,\n",
    "    batch_size = 1000,\n",
    "    condition=x,\n",
    "    mask_condition=True,\n",
    "    causal_model = 'location_translation',\n",
    "    causal_model_args={'RQS_knots':8, 'flow_layers':5, 'nn_width':50, 'nn_depth':2, 'ate':5.},\n",
    ")"
   ]
  },
  {
   "cell_type": "code",
   "execution_count": 21,
   "id": "824caa38",
   "metadata": {},
   "outputs": [
    {
     "data": {
      "text/plain": [
       "Array(1.03780964, dtype=float64)"
      ]
     },
     "execution_count": 21,
     "metadata": {},
     "output_type": "execute_result"
    }
   ],
   "source": [
    "frugal_flow.bijection[-1].bijections[0].ate"
   ]
  },
  {
   "cell_type": "code",
   "execution_count": null,
   "id": "6884bc7b-266e-4f66-a2b0-c6b243c7bbb2",
   "metadata": {},
   "outputs": [],
   "source": []
  },
  {
   "cell_type": "code",
   "execution_count": 28,
   "id": "23c73fed-4fb0-4c7c-9efe-dc8f64c69f7a",
   "metadata": {},
   "outputs": [],
   "source": [
    "assert(isinstance(frugal_flow.bijection.bijections[4].bijections[0].bijection, Tanh))"
   ]
  },
  {
   "cell_type": "code",
   "execution_count": 26,
   "id": "234f3421-3c00-4631-9d85-dc4e45a40d36",
   "metadata": {},
   "outputs": [
    {
     "data": {
      "text/plain": [
       "Tanh(shape=())"
      ]
     },
     "execution_count": 26,
     "metadata": {},
     "output_type": "execute_result"
    }
   ],
   "source": [
    "frugal_flow.bijection.bijections[4].bijections[0].bijection"
   ]
  },
  {
   "cell_type": "code",
   "execution_count": 52,
   "id": "b821430b-9854-44c8-bbcd-c2857f8322db",
   "metadata": {},
   "outputs": [],
   "source": [
    "# def sample_outcome(\n",
    "#     key: jr.PRNGKey,\n",
    "#     n_samples: float,\n",
    "#     causal_model: str,\n",
    "#     causal_condition: ArrayLike | None = None,\n",
    "#     frugal_flow: AbstractDistribution|None = None,\n",
    "#     causal_cdf: AbstractBijection | None = UnivariateNormalCDF,\n",
    "#     u_yx: ArrayLike | None = None,\n",
    "#     **treatment_kwargs: dict,\n",
    "# ):\n",
    "\n",
    "#     valid_causal_models = [\"logistic_regression\", \"causal_cdf\", \"location_translation\"]\n",
    "\n",
    "#     if ((u_yx is None)&(frugal_flow is None)):\n",
    "#         raise ValueError ('Either a frugal flow object or u_yx is required')\n",
    "\n",
    "#     if ((u_yx is not None)&(frugal_flow is not None)):\n",
    "#         raise ValueError ('Only one between frugal flow object and u_yx can be provided')\n",
    "    \n",
    "#     if ((causal_model == 'location_translation')&(frugal_flow is None)):\n",
    "#         raise ValueError ('A frugal flow object is required for simulating outcome with location_translation model')\n",
    "\n",
    "#     if frugal_flow is not None:    \n",
    "#         flow_dim = frugal_flow.shape[0]\n",
    "    \n",
    "#         if frugal_flow.cond_shape is None:\n",
    "#             flow_fake_condition = None\n",
    "#         else:\n",
    "#             flow_fake_condition = jnp.ones((n_samples, frugal_flow.cond_shape[0]))\n",
    "    \n",
    "#         # verify flow has a compatible structure \n",
    "        \n",
    "#         assert isinstance(frugal_flow.base_dist, _StandardUniform)\n",
    "#         assert isinstance(frugal_flow.bijection.bijections[0].tree, Affine)\n",
    "#         assert isinstance(frugal_flow.bijection.bijections[1].bijection.bijection.bijections[0], MaskedAutoregressiveFirstUniform)\n",
    "        \n",
    "#         maf_dim = frugal_flow.bijection.bijections[1].bijection.bijection.bijections[0].shape[0]\n",
    "#         spline_n_params =  int(frugal_flow.bijection.bijections[1].bijection.bijection.bijections[0].masked_autoregressive_mlp.layers[-1].out_features/maf_dim)\n",
    "#         assert(frugal_flow.bijection.bijections[1].bijection.bijection.bijections[0].transformer_constructor(jnp.ones((spline_n_params))).interval==1)\n",
    "#         try:\n",
    "#             assert(isinstance(frugal_flow.bijection.bijections[2].tree.bijections[0], Identity))\n",
    "#         except:\n",
    "#             assert((isinstance(frugal_flow.bijection.bijections[2].tree, Invert))&(isinstance(frugal_flow.bijection.bijections[2].tree.bijection, Affine)))\n",
    "    \n",
    "#         # obtain u_y samples from flow \n",
    "#         uni_standard = jr.uniform(key, shape=(n_samples, flow_dim))\n",
    "#         uni_minus1_plus1 = jax.vmap(frugal_flow.bijection.bijections[0].tree.transform)(\n",
    "#             uni_standard\n",
    "#         )\n",
    "    \n",
    "#         corruni_minus1_plus1 = jax.vmap(frugal_flow.bijection.bijections[1].transform)(\n",
    "#             uni_minus1_plus1, flow_fake_condition\n",
    "#         )\n",
    "#         corruni = jax.vmap(frugal_flow.bijection.bijections[2].tree.transform)(\n",
    "#             corruni_minus1_plus1, flow_fake_condition\n",
    "#         )\n",
    "#         corruni_y = corruni[:, 0]\n",
    "            \n",
    "#         try:\n",
    "#             assert(isinstance(frugal_flow.bijection.bijections[2].tree.bijections[0], Identity))\n",
    "#             corruni_standard = corruni_y\n",
    "#         except:\n",
    "#             assert((isinstance(frugal_flow.bijection.bijections[2].tree, Invert))&(isinstance(frugal_flow.bijection.bijections[2].tree.bijection, Affine)))\n",
    "#             corruni_standard = (corruni_y / 2) + 0.5\n",
    "\n",
    "#     elif u_yx is not None:\n",
    "#         assert len(u_yx) == n_samples\n",
    "#         if (u_yx.min() < 0.0) | (u_yx.max() > 1.0):\n",
    "#             raise ValueError (\"u_yx input must be between 0. and 1.\")\n",
    "#         corruni_standard = u_yx\n",
    "\n",
    "    \n",
    "#     if causal_model == \"logistic_regression\":\n",
    "#         outcome_samples = logistic_outcome(\n",
    "#             u_y=corruni_standard, causal_condition=causal_condition, **treatment_kwargs,\n",
    "#         )\n",
    "\n",
    "#     elif causal_model == \"causal_cdf\":\n",
    "#         outcome_samples, _ = causal_cdf_outcome(\n",
    "#             u_y=corruni_standard,\n",
    "#             causal_condition=causal_condition,\n",
    "#             causal_cdf=causal_cdf,\n",
    "#             **treatment_kwargs,\n",
    "#         )\n",
    "\n",
    "#     elif causal_model == \"location_translation\":\n",
    "#         try:\n",
    "#             assert(isinstance(frugal_flow.bijection.bijections[4].bijections[0].bijection, Tanh))\n",
    "#         except:\n",
    "#             raise ValueError (\"location_translation causal_model requires a location_translation pretrained frugal_flow\")\n",
    "        \n",
    "#         outcome_samples = location_translation_outcome(\n",
    "#             u_y=corruni_standard,\n",
    "#             causal_condition=causal_condition,\n",
    "#             flow_condition=flow_fake_condition,\n",
    "#             frugal_flow=frugal_flow,\n",
    "#             **treatment_kwargs,\n",
    "#         )\n",
    "#     else:\n",
    "#         raise ValueError(f\"Invalid causal_model choice. Please choose from: {valid_causal_models}\")\n",
    "\n",
    "#     return outcome_samples\n",
    "\n",
    "\n",
    "# def logistic_outcome(\n",
    "#     u_y: ArrayLike, ate: float, causal_condition: ArrayLike, const: float\n",
    "# ):\n",
    "#     def get_y(u_y, ate, x, const):\n",
    "#         p = jax.nn.sigmoid(ate * x + const)\n",
    "#         return (u_y >= (1-p)).astype(int)\n",
    "\n",
    "#     return jax.vmap(get_y, in_axes=(0, None, 0, None))(\n",
    "#         u_y, ate, causal_condition, const\n",
    "#     )\n",
    "\n",
    "\n",
    "# def causal_cdf_outcome(\n",
    "#     u_y: ArrayLike,\n",
    "#     causal_cdf: AbstractBijection,\n",
    "#     causal_condition: ArrayLike,\n",
    "#     **treatment_kwargs: dict,\n",
    "# ):\n",
    "#     causal_cdf_init_params = [\n",
    "#         i\n",
    "#         for i in inspect.signature(causal_cdf.__init__).parameters.keys()\n",
    "#         if ((i != \"self\") and (i != \"cond_dim\"))\n",
    "#     ]\n",
    "#     for param in causal_cdf_init_params:\n",
    "#         if param not in treatment_kwargs.keys():\n",
    "#             treatment_kwargs[param] = None\n",
    "#             warnings.warn(\n",
    "#                 f\"The parameter {param} has not been provided and is therefore set to None.\"\n",
    "#             )\n",
    "\n",
    "#     causal_cdf_simulate = causal_cdf(**treatment_kwargs)\n",
    "#     samples = jax.vmap(causal_cdf_simulate.inverse)(u_y, causal_condition)\n",
    "#     return samples, causal_cdf_simulate\n",
    "\n",
    "\n",
    "# def location_translation_outcome(\n",
    "#     u_y: ArrayLike,\n",
    "#     frugal_flow: AbstractDistribution,\n",
    "#     causal_condition: ArrayLike,\n",
    "#     flow_condition: ArrayLike,\n",
    "#     **treatment_kwargs: dict,\n",
    "# ):\n",
    "#     causal_minus1_plus1 = jax.vmap(\n",
    "#         frugal_flow.bijection.bijections[3].bijections[0].transform\n",
    "#     )(u_y[:, None], flow_condition)\n",
    "#     causal_reals = jax.vmap(\n",
    "#         frugal_flow.bijection.bijections[4].bijections[0].transform\n",
    "#     )(causal_minus1_plus1.flatten(), flow_condition)\n",
    "\n",
    "#     loc_cond_cdf_simulate = LocCond(**treatment_kwargs)\n",
    "#     samples = jax.vmap(loc_cond_cdf_simulate.transform)(causal_reals, causal_condition)\n",
    "#     return samples\n"
   ]
  },
  {
   "cell_type": "code",
   "execution_count": 8,
   "id": "6497fba5",
   "metadata": {},
   "outputs": [],
   "source": [
    "key= jr.PRNGKey(9),\n",
    "n_samples=1000\n",
    "causal_cdf=UnivariateNormalCDF, \n",
    "causal_condition= jnp.hstack([jnp.ones(int(n_samples/2))*0, jnp.ones(int(n_samples/2))*1]).astype(int)"
   ]
  },
  {
   "cell_type": "code",
   "execution_count": 9,
   "id": "84c33836",
   "metadata": {},
   "outputs": [
    {
     "data": {
      "image/png": "[encoded data removed]",
      "text/plain": [
       "<Figure size 640x480 with 1 Axes>"
      ]
     },
     "metadata": {},
     "output_type": "display_data"
    }
   ],
   "source": [
    "treatment_kwargs={'ate':5} #, 'const':0., 'scale':1.}\n",
    "my_outcome = sample_outcome(\n",
    "            frugal_flow=frugal_flow,\n",
    "             key=keys[9],\n",
    "            n_samples=n_samples,\n",
    "            # u_yx=jr.uniform(keys[2],(n_samples,)),\n",
    "            causal_model='location_translation',\n",
    "            causal_condition=causal_condition[:,None], \n",
    "            **treatment_kwargs)\n",
    "\n",
    "plt.hist(my_outcome);"
   ]
  },
  {
   "cell_type": "code",
   "execution_count": 10,
   "id": "cd50088f",
   "metadata": {},
   "outputs": [
    {
     "data": {
      "image/png": "[encoded data removed]",
      "text/plain": [
       "<Figure size 640x480 with 1 Axes>"
      ]
     },
     "metadata": {},
     "output_type": "display_data"
    }
   ],
   "source": [
    "treatment_kwargs={'ate':5, 'const':0., 'scale':1.}\n",
    "my_outcome  = sample_outcome(\n",
    "            # frugal_flow=frugal_flow,\n",
    "            u_yx=jr.uniform(keys[2],(n_samples,)),    \n",
    "             key=keys[9],\n",
    "            n_samples=n_samples,\n",
    "            causal_model='causal_cdf',\n",
    "            causal_cdf=UnivariateNormalCDF,\n",
    "            causal_condition=causal_condition,  \n",
    "            **treatment_kwargs)\n",
    "\n",
    "plt.hist(my_outcome);"
   ]
  },
  {
   "cell_type": "code",
   "execution_count": 11,
   "id": "2738d159",
   "metadata": {},
   "outputs": [
    {
     "data": {
      "image/png": "[encoded data removed]",
      "text/plain": [
       "<Figure size 640x480 with 1 Axes>"
      ]
     },
     "metadata": {},
     "output_type": "display_data"
    }
   ],
   "source": [
    "treatment_kwargs={'ate':5, 'const':0.}\n",
    "my_outcome = sample_outcome(\n",
    "            # frugal_flow=frugal_flow,\n",
    "            u_yx=jr.uniform(keys[2],(n_samples,)),    \n",
    "             key=keys[9],\n",
    "            n_samples=n_samples,\n",
    "            causal_model='logistic_regression',\n",
    "            causal_cdf=UnivariateNormalCDF,\n",
    "            causal_condition=causal_condition,  \n",
    "            **treatment_kwargs)\n",
    "\n",
    "plt.hist(my_outcome);"
   ]
  },
  {
   "cell_type": "code",
   "execution_count": null,
   "id": "f7897ec0-fa35-4412-b971-9ec80056248d",
   "metadata": {},
   "outputs": [],
   "source": []
  }
 ],
 "metadata": {
  "kernelspec": {
   "display_name": "Python 3 (ipykernel)",
   "language": "python",
   "name": "python3"
  },
  "language_info": {
   "codemirror_mode": {
    "name": "ipython",
    "version": 3
   },
   "file_extension": ".py",
   "mimetype": "text/x-python",
   "name": "python",
   "nbconvert_exporter": "python",
   "pygments_lexer": "ipython3",
   "version": "3.11.9"
  },
  "toc": {
   "base_numbering": 1,
   "nav_menu": {},
   "number_sections": true,
   "sideBar": true,
   "skip_h1_title": false,
   "title_cell": "Table of Contents",
   "title_sidebar": "Contents",
   "toc_cell": false,
   "toc_position": {},
   "toc_section_display": true,
   "toc_window_display": false
  }
 },
 "nbformat": 4,
 "nbformat_minor": 5
}
