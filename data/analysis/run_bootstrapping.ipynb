{
 "cells": [
  {
   "cell_type": "code",
   "execution_count": 1,
   "id": "afea5d2c-7688-4a64-9257-0dad0bcadac7",
   "metadata": {},
   "outputs": [],
   "source": [
    "# import rpy2.robjects.packages as rpackages\n",
    "# from rpy2.robjects.vectors import StrVector\n",
    "\n",
    "# utils = rpackages.importr('utils')\n",
    "# utils.chooseCRANmirror(ind=1) # select the first mirror in the list\n",
    "# packnames = ('dbarts', 'grf', \"MatchIt\")\n",
    "\n",
    "# names_to_install = [x for x in packnames if not rpackages.isinstalled(x)]\n",
    "# if len(names_to_install) > 0:\n",
    "#     utils.install_packages(StrVector(names_to_install))"
   ]
  },
  {
   "cell_type": "code",
   "execution_count": 2,
   "id": "f2117bd9-fd0d-473e-947e-a12770944313",
   "metadata": {},
   "outputs": [],
   "source": [
    "import numpy as np\n",
    "import pandas as pd\n",
    "\n",
    "from rpy2.robjects.packages import importr\n",
    "\n",
    "import validationMethods"
   ]
  },
  {
   "cell_type": "markdown",
   "id": "d75b3212",
   "metadata": {},
   "source": [
    "## Using the sim data (ATE = -1)"
   ]
  },
  {
   "cell_type": "code",
   "execution_count": 3,
   "id": "087f0439-c709-453d-aa56-8e636848ec96",
   "metadata": {},
   "outputs": [
    {
     "data": {
      "text/html": [
       "<div>\n",
       "<style scoped>\n",
       "    .dataframe tbody tr th:only-of-type {\n",
       "        vertical-align: middle;\n",
       "    }\n",
       "\n",
       "    .dataframe tbody tr th {\n",
       "        vertical-align: top;\n",
       "    }\n",
       "\n",
       "    .dataframe thead th {\n",
       "        text-align: right;\n",
       "    }\n",
       "</style>\n",
       "<table border=\"1\" class=\"dataframe\">\n",
       "  <thead>\n",
       "    <tr style=\"text-align: right;\">\n",
       "      <th></th>\n",
       "      <th>Y</th>\n",
       "      <th>X</th>\n",
       "      <th>Z1</th>\n",
       "      <th>Z2</th>\n",
       "      <th>Z3</th>\n",
       "      <th>Z4</th>\n",
       "    </tr>\n",
       "  </thead>\n",
       "  <tbody>\n",
       "    <tr>\n",
       "      <th>0</th>\n",
       "      <td>1.596993</td>\n",
       "      <td>1.0</td>\n",
       "      <td>0.0</td>\n",
       "      <td>5.0</td>\n",
       "      <td>5.283806</td>\n",
       "      <td>-1.924519</td>\n",
       "    </tr>\n",
       "    <tr>\n",
       "      <th>1</th>\n",
       "      <td>0.021979</td>\n",
       "      <td>1.0</td>\n",
       "      <td>1.0</td>\n",
       "      <td>7.0</td>\n",
       "      <td>3.334693</td>\n",
       "      <td>-2.062749</td>\n",
       "    </tr>\n",
       "    <tr>\n",
       "      <th>2</th>\n",
       "      <td>-0.160412</td>\n",
       "      <td>1.0</td>\n",
       "      <td>1.0</td>\n",
       "      <td>5.0</td>\n",
       "      <td>3.249584</td>\n",
       "      <td>-0.105862</td>\n",
       "    </tr>\n",
       "    <tr>\n",
       "      <th>3</th>\n",
       "      <td>-0.544710</td>\n",
       "      <td>1.0</td>\n",
       "      <td>0.0</td>\n",
       "      <td>3.0</td>\n",
       "      <td>1.449811</td>\n",
       "      <td>-2.015598</td>\n",
       "    </tr>\n",
       "    <tr>\n",
       "      <th>4</th>\n",
       "      <td>1.374190</td>\n",
       "      <td>0.0</td>\n",
       "      <td>0.0</td>\n",
       "      <td>3.0</td>\n",
       "      <td>3.066210</td>\n",
       "      <td>-3.303400</td>\n",
       "    </tr>\n",
       "  </tbody>\n",
       "</table>\n",
       "</div>"
      ],
      "text/plain": [
       "          Y    X   Z1   Z2        Z3        Z4\n",
       "0  1.596993  1.0  0.0  5.0  5.283806 -1.924519\n",
       "1  0.021979  1.0  1.0  7.0  3.334693 -2.062749\n",
       "2 -0.160412  1.0  1.0  5.0  3.249584 -0.105862\n",
       "3 -0.544710  1.0  0.0  3.0  1.449811 -2.015598\n",
       "4  1.374190  0.0  0.0  3.0  3.066210 -3.303400"
      ]
     },
     "execution_count": 3,
     "metadata": {},
     "output_type": "execute_result"
    }
   ],
   "source": [
    "data = pd.read_csv(\"../data_xdyc.csv\")\n",
    "outcome, treatment = ('Y', 'X')\n",
    "data.head()"
   ]
  },
  {
   "cell_type": "markdown",
   "id": "61f7f758",
   "metadata": {},
   "source": [
    "### Running Multiple Algos to estimate ATE"
   ]
  },
  {
   "cell_type": "code",
   "execution_count": 5,
   "id": "b4be5926-7727-4910-8fe2-a6187627ba51",
   "metadata": {},
   "outputs": [
    {
     "name": "stderr",
     "output_type": "stream",
     "text": [
      "                                                                                                                                                                                                                   \r"
     ]
    },
    {
     "ename": "NameError",
     "evalue": "name 'non_bootstrap_results_df' is not defined",
     "output_type": "error",
     "traceback": [
      "\u001b[0;31m---------------------------------------------------------------------------\u001b[0m",
      "\u001b[0;31mNameError\u001b[0m                                 Traceback (most recent call last)",
      "Cell \u001b[0;32mIn[5], line 1\u001b[0m\n\u001b[0;32m----> 1\u001b[0m df \u001b[38;5;241m=\u001b[39m \u001b[43mvalidationMethods\u001b[49m\u001b[38;5;241;43m.\u001b[39;49m\u001b[43mrun_model_fits\u001b[49m\u001b[43m(\u001b[49m\u001b[38;5;124;43m'\u001b[39;49m\u001b[38;5;124;43mY\u001b[39;49m\u001b[38;5;124;43m'\u001b[39;49m\u001b[43m,\u001b[49m\u001b[43m \u001b[49m\u001b[38;5;124;43m'\u001b[39;49m\u001b[38;5;124;43mX\u001b[39;49m\u001b[38;5;124;43m'\u001b[39;49m\u001b[43m,\u001b[49m\u001b[43m \u001b[49m\u001b[43mdata\u001b[49m\u001b[43m,\u001b[49m\u001b[43m \u001b[49m\u001b[43mrepeats\u001b[49m\u001b[38;5;241;43m=\u001b[39;49m\u001b[38;5;241;43m10\u001b[39;49m\u001b[43m,\u001b[49m\u001b[43m \u001b[49m\u001b[43msample_frac\u001b[49m\u001b[43m \u001b[49m\u001b[38;5;241;43m=\u001b[39;49m\u001b[43m \u001b[49m\u001b[38;5;241;43m0.7\u001b[39;49m\u001b[43m,\u001b[49m\u001b[43m \u001b[49m\u001b[43mreplace\u001b[49m\u001b[38;5;241;43m=\u001b[39;49m\u001b[38;5;28;43;01mFalse\u001b[39;49;00m\u001b[43m)\u001b[49m\n",
      "File \u001b[0;32m~/Library/CloudStorage/GoogleDrive-danielmanela@gmail.com/My Drive/work/deep-copula-frugal/data/analysis/validationMethods.py:492\u001b[0m, in \u001b[0;36mrun_model_fits\u001b[0;34m(outcome, treatment, data, repeats, sample_frac, replace)\u001b[0m\n\u001b[1;32m    488\u001b[0m     bootstrap_results\u001b[38;5;241m.\u001b[39mappend(ate_)\n\u001b[1;32m    489\u001b[0m bootstrap_results_df \u001b[38;5;241m=\u001b[39m pd\u001b[38;5;241m.\u001b[39mconcat(bootstrap_results, axis\u001b[38;5;241m=\u001b[39m\u001b[38;5;241m0\u001b[39m)\n\u001b[1;32m    490\u001b[0m \u001b[38;5;28;01mreturn\u001b[39;00m {\n\u001b[1;32m    491\u001b[0m     \u001b[38;5;124m'\u001b[39m\u001b[38;5;124mbootstrap_results\u001b[39m\u001b[38;5;124m'\u001b[39m: bootstrap_results_df,\n\u001b[0;32m--> 492\u001b[0m     \u001b[38;5;124m'\u001b[39m\u001b[38;5;124mnonbootstrap_results\u001b[39m\u001b[38;5;124m'\u001b[39m: \u001b[43mnon_bootstrap_results_df\u001b[49m\n\u001b[1;32m    493\u001b[0m }\n",
      "\u001b[0;31mNameError\u001b[0m: name 'non_bootstrap_results_df' is not defined"
     ]
    }
   ],
   "source": [
    "df = validationMethods.run_model_fits('Y', 'X', data, repeats=10, sample_frac = 0.7, replace=False)"
   ]
  },
  {
   "cell_type": "code",
   "execution_count": null,
   "id": "f40c6dd0-fac3-4a8f-adc1-34e754cd6083",
   "metadata": {},
   "outputs": [],
   "source": []
  }
 ],
 "metadata": {
  "kernelspec": {
   "display_name": "Python 3 (ipykernel)",
   "language": "python",
   "name": "python3"
  },
  "language_info": {
   "codemirror_mode": {
    "name": "ipython",
    "version": 3
   },
   "file_extension": ".py",
   "mimetype": "text/x-python",
   "name": "python",
   "nbconvert_exporter": "python",
   "pygments_lexer": "ipython3",
   "version": "3.11.8"
  }
 },
 "nbformat": 4,
 "nbformat_minor": 5
}
