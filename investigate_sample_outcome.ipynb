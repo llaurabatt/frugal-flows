{
 "cells": [
  {
   "cell_type": "code",
   "execution_count": 71,
   "id": "43832e66-2082-4987-bc4f-c5855d7b802d",
   "metadata": {},
   "outputs": [],
   "source": [
    "import equinox as eqx\n",
    "import inspect\n",
    "import jax\n",
    "import jax.numpy as jnp\n",
    "import jax.random as jr\n",
    "import matplotlib.pyplot as plt\n",
    "\n",
    "\n",
    "\n",
    "from frugal_flows.basic_flows import (masked_independent_flow, \n",
    "                                        masked_autoregressive_flow_first_uniform, \n",
    "                                        masked_autoregressive_flow_masked_cond)\n",
    "from frugal_flows.bijections import UnivariateNormalCDF,  MaskedAutoregressiveFirstUniform, MaskedAutoregressiveHeterogeneous\n",
    "from frugal_flows.causal_flows import (train_frugal_flow, \n",
    "                                        train_frugal_flow_flexible_continuous,\n",
    "                                        train_copula_flow, \n",
    "                                        get_independent_quantiles, \n",
    "                                        univariate_discrete_cdf,\n",
    "                                        independent_continuous_marginal_flow)\n",
    "from frugal_flows.train_quantile_propensity_score import train_quantile_propensity_score\n",
    "from frugal_flows.sample_outcome import sample_outcome\n",
    "\n",
    "import flowjax\n",
    "from flowjax.distributions import Transformed, Uniform, _StandardUniform\n",
    "from flowjax.flows import masked_autoregressive_flow\n",
    "from flowjax.train import fit_to_data\n",
    "from flowjax.bijections.utils import Identity\n",
    "from flowjax.wrappers import NonTrainable\n",
    "from flowjax.bijections import (\n",
    "    Affine,\n",
    "    Invert,\n",
    "    MaskedAutoregressive,\n",
    "    RationalQuadraticSpline,\n",
    "    Stack,\n",
    "    Tanh,\n",
    ")\n",
    "import pandas as pd\n",
    "\n",
    "SEED = 0\n",
    "\n",
    "jax.config.update(\"jax_enable_x64\", True)"
   ]
  },
  {
   "cell_type": "code",
   "execution_count": 11,
   "id": "3f2e8cdc-ded0-4824-a37d-f52d70d09b65",
   "metadata": {},
   "outputs": [
    {
     "data": {
      "text/plain": [
       "(10000, 1)"
      ]
     },
     "execution_count": 11,
     "metadata": {},
     "output_type": "execute_result"
    }
   ],
   "source": [
    "z.shape"
   ]
  },
  {
   "cell_type": "code",
   "execution_count": 21,
   "id": "6fa8cbe7-1650-4ce6-bb08-dbfdfc2b084d",
   "metadata": {},
   "outputs": [],
   "source": [
    "keys = jr.split(jr.PRNGKey(SEED+6), 50)\n",
    "\n",
    "N = 10000\n",
    "\n",
    "z_0 = jr.multivariate_normal(keys[0], jnp.array([0.,0.]), jnp.array([[1., 0],[0, 1.]]), shape=(int(N/2),))\n",
    "\n",
    "z_1 = jr.multivariate_normal(keys[1], jnp.array([0.,0.]), jnp.array([[1., 0.8],[0.8, 1.]]), shape=(int(N/2),))\n",
    "z = jnp.vstack([z_0, z_1])[:,0, None]\n",
    "\n",
    "x = jnp.expand_dims(jnp.hstack([jnp.ones(int(N/2))*0, jnp.ones(int(N/2))*1]),axis=1)\n",
    "y = jax.random.normal(keys[2], shape=(N,1)) + z + x"
   ]
  },
  {
   "cell_type": "code",
   "execution_count": 22,
   "id": "3ca9b513-1dda-490c-be45-ee9a6f104242",
   "metadata": {},
   "outputs": [
    {
     "name": "stderr",
     "output_type": "stream",
     "text": [
      " 44%|███████▉          | 31/70 [00:12<00:15,  2.46it/s, train=1.4229430018522695, val=1.394829829254591 (Max patience reached)]\n"
     ]
    }
   ],
   "source": [
    "res = get_independent_quantiles(key = jr.PRNGKey(3),\n",
    "                                z_cont=z,\n",
    "                                max_epochs = 70,\n",
    "                                max_patience=10,\n",
    "                                return_z_cont_flow = True,\n",
    "                             )"
   ]
  },
  {
   "cell_type": "code",
   "execution_count": 23,
   "id": "8c66175c-4a61-4da5-8f71-1d1816d5c650",
   "metadata": {},
   "outputs": [
    {
     "name": "stderr",
     "output_type": "stream",
     "text": [
      "100%|████████████████████████████████████████| 100/100 [00:31<00:00,  3.21it/s, train=2.164269438281622, val=2.173489176635183]\n"
     ]
    }
   ],
   "source": [
    "frugal_flow, losses = train_frugal_flow(\n",
    "    key=jr.PRNGKey(1),\n",
    "    y=y,\n",
    "    u_z=res['u_z_cont'],\n",
    "    condition=x,\n",
    "    causal_model='gaussian',\n",
    "    causal_model_args={'ate': jnp.array([-7.]), 'const': 3., 'scale': 5},\n",
    ")"
   ]
  },
  {
   "cell_type": "code",
   "execution_count": 20,
   "id": "90df2b4f-b633-4588-a956-921587756814",
   "metadata": {},
   "outputs": [
    {
     "data": {
      "text/plain": [
       "(10000, 10000, 1)"
      ]
     },
     "execution_count": 20,
     "metadata": {},
     "output_type": "execute_result"
    }
   ],
   "source": [
    "y.shape"
   ]
  },
  {
   "cell_type": "code",
   "execution_count": 33,
   "id": "aa1040be-e454-4af2-8425-a59d871b4a7d",
   "metadata": {},
   "outputs": [
    {
     "data": {
      "text/plain": [
       "True"
      ]
     },
     "execution_count": 33,
     "metadata": {},
     "output_type": "execute_result"
    }
   ],
   "source": [
    "isinstance(frugal_flow.bijection.bijections[1].bijection.bijection,MaskedAutoregressiveHeterogeneous)\n"
   ]
  },
  {
   "cell_type": "code",
   "execution_count": 56,
   "id": "3a44f736-6e3b-4647-97f8-ae3065cdabe5",
   "metadata": {},
   "outputs": [
    {
     "data": {
      "text/plain": [
       "10000"
      ]
     },
     "execution_count": 56,
     "metadata": {},
     "output_type": "execute_result"
    }
   ],
   "source": [
    "x[:,0].shape[0]"
   ]
  },
  {
   "cell_type": "code",
   "execution_count": null,
   "id": "5f66247c-8307-4d79-b9e5-6a83c11016ca",
   "metadata": {},
   "outputs": [],
   "source": []
  },
  {
   "cell_type": "code",
   "execution_count": 79,
   "id": "9571a52c-24fe-4403-a1d3-25e764cc37ad",
   "metadata": {},
   "outputs": [
    {
     "name": "stderr",
     "output_type": "stream",
     "text": [
      "/var/folders/sb/zl12mh7176z5glzdfjdtwwkw0000gn/T/ipykernel_2562/2390843622.py:164: UserWarning: causal_effect_idx_in_flow has not been provided and is therefore set to the default of 0. This assumes no heterogeneous effects were modelled in frugal flow training.\n",
      "  warnings.warn(\n"
     ]
    },
    {
     "data": {
      "text/plain": [
       "(10000,)"
      ]
     },
     "execution_count": 79,
     "metadata": {},
     "output_type": "execute_result"
    }
   ],
   "source": [
    "y_samples = sample_outcome(\n",
    "    key = jr.PRNGKey(8),\n",
    "    n_samples=10000,\n",
    "    causal_model='causal_cdf',\n",
    "    causal_condition=x,\n",
    "    frugal_flow=frugal_flow,\n",
    "    **{'ate': jnp.array([2.]), 'const': -1., 'scale': 5.},\n",
    ")\n",
    "\n",
    "y_samples.shape"
   ]
  },
  {
   "cell_type": "code",
   "execution_count": 88,
   "id": "466a1596-7c93-4fb7-867f-f7be06b08b50",
   "metadata": {},
   "outputs": [
    {
     "name": "stderr",
     "output_type": "stream",
     "text": [
      "/var/folders/sb/zl12mh7176z5glzdfjdtwwkw0000gn/T/ipykernel_2562/3593327766.py:164: UserWarning: causal_effect_idx_in_flow has not been provided and is therefore set to the default of 0. This assumes no heterogeneous effects were modelled in frugal flow training.\n",
      "  warnings.warn(\n"
     ]
    },
    {
     "data": {
      "text/plain": [
       "(10000,)"
      ]
     },
     "execution_count": 88,
     "metadata": {},
     "output_type": "execute_result"
    }
   ],
   "source": [
    "y_samples = sample_outcome(\n",
    "    key = jr.PRNGKey(8),\n",
    "    n_samples=10000,\n",
    "    causal_model='logistic_regression',\n",
    "    causal_condition=x,\n",
    "    frugal_flow=frugal_flow,\n",
    "    **{'ate': jnp.array([2.]), 'const': -1.},\n",
    ")\n",
    "\n",
    "y_samples.shape"
   ]
  },
  {
   "cell_type": "code",
   "execution_count": 85,
   "id": "de6d0fed-1388-42f9-ac7c-48631871d77e",
   "metadata": {},
   "outputs": [],
   "source": [
    "def get_y(u_y, ate, x, const):\n",
    "    p = jax.nn.sigmoid(ate * x + const)\n",
    "    return (u_y >= (1 - p)).astype(int).squeeze()"
   ]
  },
  {
   "cell_type": "code",
   "execution_count": 86,
   "id": "d4a3c28c-16bb-48f5-a559-078c758fc782",
   "metadata": {},
   "outputs": [
    {
     "data": {
      "text/plain": [
       "Array(1, dtype=int64)"
      ]
     },
     "execution_count": 86,
     "metadata": {},
     "output_type": "execute_result"
    }
   ],
   "source": [
    "get_y(u_y=y[0], ate=5., x=x[0], const=-1)"
   ]
  },
  {
   "cell_type": "code",
   "execution_count": 89,
   "id": "a7778b53-44b2-4896-ae5a-3d6bd515c43c",
   "metadata": {},
   "outputs": [],
   "source": [
    "import inspect\n",
    "import warnings\n",
    "\n",
    "import jax\n",
    "import jax.numpy as jnp\n",
    "import jax.random as jr\n",
    "from flowjax.bijections import (\n",
    "    Affine,\n",
    "    Invert,\n",
    "    Tanh,\n",
    ")\n",
    "from flowjax.bijections.bijection import AbstractBijection\n",
    "from flowjax.bijections.utils import Identity\n",
    "from flowjax.distributions import AbstractDistribution, _StandardUniform\n",
    "from jaxtyping import ArrayLike\n",
    "\n",
    "from frugal_flows.bijections import (\n",
    "    LocCond,\n",
    "    MaskedAutoregressiveHeterogeneous,\n",
    "    MaskedAutoregressiveFirstUniform,\n",
    "    UnivariateNormalCDF,\n",
    ")\n",
    "\n",
    "\n",
    "def sample_outcome(\n",
    "    key: jr.PRNGKey,\n",
    "    n_samples: float,\n",
    "    causal_model: str,\n",
    "    causal_condition: ArrayLike | None = None,\n",
    "    frugal_flow: AbstractDistribution | None = None,\n",
    "    causal_effect_idx_in_flow: int | None = None,\n",
    "    causal_cdf: AbstractBijection | None = UnivariateNormalCDF,\n",
    "    u_yx: ArrayLike | None = None,\n",
    "    **treatment_kwargs: dict,\n",
    "):\n",
    "    \"\"\"\n",
    "    Samples outcomes from a given causal model using frugal flows.\n",
    "\n",
    "    Args:\n",
    "        key: The PRNGKey for random number generation.\n",
    "        n_samples: The number of outcome samples to generate.\n",
    "        causal_model: The causal model to use for outcome generation. Must be one of [\"logistic_regression\", \"causal_cdf\", \"location_translation\"].\n",
    "        causal_condition: The causal condition to use for outcome generation. Default is None.\n",
    "        frugal_flow: The frugal flow object to use for outcome generation. Default is None. For causal model \"location_translation\", a frugal flow object is always required, and if u_yx is also provided, the u_yx quantiles will be used to sample from the flow object. For other causal models, either a frugal flow object or u_yx is required.\n",
    "        causal_cdf: The causal CDF object to use for outcome generation. Default is UnivariateNormalCDF.\n",
    "        u_yx: The input samples for the causal model. Default is None, in which case a frugal flow object is always required.\n",
    "        **treatment_kwargs: Additional keyword arguments for the treatment model.\n",
    "\n",
    "    Returns:\n",
    "        outcome_samples: The generated outcome samples.\n",
    "\n",
    "    Raises:\n",
    "        ValueError: If the input arguments are invalid or missing.\n",
    "\n",
    "    \"\"\"\n",
    "\n",
    "    valid_causal_models = [\"logistic_regression\", \"causal_cdf\", \"location_translation\"]\n",
    "\n",
    "    if (u_yx is None) & (frugal_flow is None):\n",
    "        raise ValueError(\"Either a frugal flow object or u_yx is required\")\n",
    "\n",
    "    if (\n",
    "        (u_yx is not None)\n",
    "        & (frugal_flow is not None)\n",
    "        & (causal_model != \"location_translation\")\n",
    "    ):\n",
    "        raise ValueError(\n",
    "            f\"Only one between frugal flow object and u_yx can be provided for {causal_model} model\"\n",
    "        )\n",
    "\n",
    "    if (\n",
    "        (u_yx is not None)\n",
    "        & (frugal_flow is not None)\n",
    "        & (causal_model == \"location_translation\")\n",
    "    ):\n",
    "        # produce a flow_fake_condition even if u_yx is provided as it will be used to sample from the flow object\n",
    "        flow_dim = frugal_flow.shape[0]\n",
    "        if frugal_flow.cond_shape is None:\n",
    "            flow_fake_condition = None\n",
    "        else:\n",
    "            flow_fake_condition = jnp.ones((n_samples, frugal_flow.cond_shape[0]))\n",
    "\n",
    "        warnings.warn(\n",
    "            f\"Since both frugal flow object and u_yx are provided to {causal_model} model, u_yx quantiles will be used to sample from the flow object. If you want to fully sample from the flow object, please provide only the frugal flow object.\"\n",
    "        )\n",
    "\n",
    "    if (causal_model == \"location_translation\") & (frugal_flow is None):\n",
    "        raise ValueError(\n",
    "            f\"A frugal flow object is required for simulating outcome with {causal_model} model\"\n",
    "        )\n",
    "    if u_yx is not None:\n",
    "        assert len(u_yx) == n_samples\n",
    "        if (u_yx.min() < 0.0) | (u_yx.max() > 1.0):\n",
    "            raise ValueError(\"u_yx input must be between 0. and 1.\")\n",
    "        if causal_model == \"location_translation\":\n",
    "            # This model expects the input to be in (-1,1)\n",
    "            corruni_standard = (u_yx * 2) - 1\n",
    "        else:\n",
    "            # This model expects the input to be in (0,1)\n",
    "            corruni_standard = u_yx\n",
    "\n",
    "    elif frugal_flow is not None:\n",
    "        flow_dim = frugal_flow.shape[0]\n",
    "\n",
    "        if frugal_flow.cond_shape is None:\n",
    "            flow_fake_condition = None\n",
    "        else:\n",
    "            flow_fake_condition = jnp.ones((n_samples, frugal_flow.cond_shape[0]))\n",
    "\n",
    "        # verify flow has a compatible structure\n",
    "\n",
    "        assert isinstance(frugal_flow.base_dist, _StandardUniform)\n",
    "        assert isinstance(frugal_flow.bijection.bijections[0].tree, Affine)\n",
    "        assert (isinstance(\n",
    "            frugal_flow.bijection.bijections[1].bijection.bijection,\n",
    "            MaskedAutoregressiveFirstUniform,\n",
    "        ))|(isinstance(\n",
    "            frugal_flow.bijection.bijections[1].bijection.bijection,\n",
    "            MaskedAutoregressiveHeterogeneous,\n",
    "        ))\n",
    "\n",
    "        maf_dim = (\n",
    "            frugal_flow.bijection.bijections[1]\n",
    "            .bijection.bijection\n",
    "            .shape[0]\n",
    "        )\n",
    "        spline_n_params = int(\n",
    "            frugal_flow.bijection.bijections[1]\n",
    "            .bijection.bijection\n",
    "            .masked_autoregressive_mlp.layers[-1]\n",
    "            .out_features\n",
    "            / maf_dim\n",
    "        )\n",
    "        assert (\n",
    "            frugal_flow.bijection.bijections[1]\n",
    "            .bijection.bijection\n",
    "            .transformer_constructor(jnp.ones((spline_n_params)))\n",
    "            .interval\n",
    "            == 1\n",
    "        )\n",
    "        try:\n",
    "            assert isinstance(\n",
    "                frugal_flow.bijection.bijections[2].tree.bijections[0], Identity\n",
    "            )\n",
    "        except Exception:\n",
    "            assert (isinstance(frugal_flow.bijection.bijections[2].tree, Invert)) & (\n",
    "                isinstance(frugal_flow.bijection.bijections[2].tree.bijection, Affine)\n",
    "            )\n",
    "\n",
    "        # obtain u_y samples from flow\n",
    "        uni_standard = jr.uniform(key, shape=(n_samples, flow_dim))\n",
    "        uni_minus1_plus1 = jax.vmap(frugal_flow.bijection.bijections[0].tree.transform)(\n",
    "            uni_standard\n",
    "        )\n",
    "\n",
    "        corruni_minus1_plus1 = jax.vmap(frugal_flow.bijection.bijections[1].transform)(\n",
    "            uni_minus1_plus1, flow_fake_condition\n",
    "        )\n",
    "        corruni = jax.vmap(frugal_flow.bijection.bijections[2].tree.transform)(\n",
    "            corruni_minus1_plus1, flow_fake_condition\n",
    "        )\n",
    "\n",
    "        if causal_effect_idx_in_flow is None:\n",
    "            warnings.warn(\n",
    "                \"causal_effect_idx_in_flow has not been provided and is therefore set to the default of 0. This assumes no heterogeneous effects were modelled in frugal flow training.\"\n",
    "            )\n",
    "            causal_effect_idx_in_flow = 0\n",
    "        corruni_y = corruni[:, causal_effect_idx_in_flow]\n",
    "\n",
    "        try:\n",
    "            # in this case the flow expects the input to be in (-1,1)\n",
    "            assert isinstance(\n",
    "                frugal_flow.bijection.bijections[2].tree.bijections[0], Identity\n",
    "            )\n",
    "            corruni_standard = corruni_y\n",
    "        except Exception:\n",
    "            # in this case the flow expects the input to be in (0,1)\n",
    "            assert (isinstance(frugal_flow.bijection.bijections[2].tree, Invert)) & (\n",
    "                isinstance(frugal_flow.bijection.bijections[2].tree.bijection, Affine)\n",
    "            )\n",
    "            corruni_standard = (corruni_y / 2) + 0.5\n",
    "\n",
    "    if causal_model == \"logistic_regression\":\n",
    "        outcome_samples = logistic_outcome(\n",
    "            u_y=corruni_standard,\n",
    "            causal_condition=causal_condition,\n",
    "            **treatment_kwargs,\n",
    "        )\n",
    "\n",
    "    elif causal_model == \"causal_cdf\":\n",
    "        outcome_samples, _ = causal_cdf_outcome(\n",
    "            u_y=corruni_standard,\n",
    "            causal_condition=causal_condition,\n",
    "            causal_cdf=causal_cdf,\n",
    "            **treatment_kwargs,\n",
    "        )\n",
    "\n",
    "    elif causal_model == \"location_translation\":\n",
    "        try:\n",
    "            assert isinstance(\n",
    "                frugal_flow.bijection.bijections[4].bijections[0].bijection, Tanh\n",
    "            )\n",
    "        except Exception:\n",
    "            raise ValueError(\n",
    "                f\"{causal_model} causal_model requires a 'location_translation' pretrained frugal_flow\"\n",
    "            )\n",
    "\n",
    "        outcome_samples = location_translation_outcome(\n",
    "            u_y=corruni_standard,\n",
    "            causal_condition=causal_condition,\n",
    "            flow_condition=flow_fake_condition,\n",
    "            frugal_flow=frugal_flow,\n",
    "            **treatment_kwargs,\n",
    "        )\n",
    "    else:\n",
    "        raise ValueError(\n",
    "            f\"Invalid causal_model choice. Please choose from: {valid_causal_models}\"\n",
    "        )\n",
    "\n",
    "    return outcome_samples\n",
    "\n",
    "\n",
    "def logistic_outcome(\n",
    "    u_y: ArrayLike, ate: float, causal_condition: ArrayLike, const: float\n",
    "):\n",
    "    \"\"\"\n",
    "    Computes the logistic outcome based on the given inputs.\n",
    "\n",
    "    Args:\n",
    "        u_y: The input quantiles, of shape (n_samples,)\n",
    "        ate: The average treatment effect. Float.\n",
    "        causal_condition: The (univariate) causal condition. It is an Array with shape (n_samples, 1) or (n_samples,).\n",
    "        const: The constant term. Float.\n",
    "\n",
    "    Returns:\n",
    "        The computed logistic outcome.\n",
    "\n",
    "    \"\"\"\n",
    "\n",
    "    def get_y(u_y, ate, x, const):\n",
    "        p = jax.nn.sigmoid(ate * x + const)\n",
    "        return (u_y >= (1 - p)).astype(int).squeeze()\n",
    "\n",
    "    return jax.vmap(get_y, in_axes=(0, None, 0, None))(\n",
    "        u_y, ate, causal_condition, const\n",
    "    )\n",
    "\n",
    "\n",
    "def causal_cdf_outcome(\n",
    "    u_y: ArrayLike,\n",
    "    causal_cdf: AbstractBijection,\n",
    "    causal_condition: ArrayLike,\n",
    "    **treatment_kwargs: dict,\n",
    "):\n",
    "    if causal_condition is not None:\n",
    "        if causal_condition.ndim == 1:\n",
    "            # Reshape one-dimensional array to two dimensions with second dim as 1\n",
    "            causal_condition = causal_condition.reshape(-1, 1)\n",
    "\n",
    "    if \"cond_dim\" not in treatment_kwargs.keys():\n",
    "        treatment_kwargs[\"cond_dim\"] = causal_condition.shape[1]\n",
    "\n",
    "\n",
    "    causal_cdf_init_params = [\n",
    "        i\n",
    "        for i in inspect.signature(causal_cdf.__init__).parameters.keys()\n",
    "        if ((i != \"self\") and (i != \"cond_dim\"))\n",
    "    ]\n",
    "    for param in causal_cdf_init_params:\n",
    "        if param not in treatment_kwargs.keys():\n",
    "            treatment_kwargs[param] = None\n",
    "            warnings.warn(\n",
    "                f\"The parameter {param} has not been provided and is therefore set to None.\"\n",
    "            )\n",
    "\n",
    "    causal_cdf_simulate = causal_cdf(**treatment_kwargs)\n",
    "    samples = jax.vmap(causal_cdf_simulate.inverse)(u_y, causal_condition)\n",
    "    return samples, causal_cdf_simulate\n",
    "\n",
    "\n",
    "def location_translation_outcome(\n",
    "    u_y: ArrayLike,\n",
    "    frugal_flow: AbstractDistribution,\n",
    "    causal_condition: ArrayLike,\n",
    "    flow_condition: ArrayLike,\n",
    "    **treatment_kwargs: dict,\n",
    "):\n",
    "    \"\"\"\n",
    "    Compute the outcome samples for the location_translation causal model.\n",
    "\n",
    "    Args:\n",
    "        u_y (ArrayLike): The input quantiles, of shape (n_samples,)\n",
    "        frugal_flow (AbstractDistribution): The frugal flow object.\n",
    "        causal_condition (ArrayLike): The causal condition.\n",
    "        flow_condition (ArrayLike): The flow condition.\n",
    "        **treatment_kwargs (dict): Additional keyword arguments for the treatment model.\n",
    "\n",
    "    Returns:\n",
    "        ArrayLike: The generated outcome samples.\n",
    "\n",
    "    \"\"\"\n",
    "\n",
    "    causal_minus1_plus1 = jax.vmap(\n",
    "        frugal_flow.bijection.bijections[3].bijections[0].transform\n",
    "    )(u_y[:, None], flow_condition)\n",
    "    causal_reals = jax.vmap(\n",
    "        frugal_flow.bijection.bijections[4].bijections[0].transform\n",
    "    )(causal_minus1_plus1.flatten(), flow_condition)\n",
    "\n",
    "    loc_cond_cdf_simulate = LocCond(**treatment_kwargs)\n",
    "    samples = jax.vmap(loc_cond_cdf_simulate.transform)(causal_reals, causal_condition)\n",
    "    return samples\n"
   ]
  },
  {
   "cell_type": "code",
   "execution_count": null,
   "id": "8251548c-7d9d-403d-9e80-bc320b3cf1b6",
   "metadata": {},
   "outputs": [],
   "source": []
  }
 ],
 "metadata": {
  "kernelspec": {
   "display_name": "Python 3 (ipykernel)",
   "language": "python",
   "name": "python3"
  },
  "language_info": {
   "codemirror_mode": {
    "name": "ipython",
    "version": 3
   },
   "file_extension": ".py",
   "mimetype": "text/x-python",
   "name": "python",
   "nbconvert_exporter": "python",
   "pygments_lexer": "ipython3",
   "version": "3.11.9"
  }
 },
 "nbformat": 4,
 "nbformat_minor": 5
}
