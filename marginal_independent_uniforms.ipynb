{
 "cells": [
  {
   "cell_type": "code",
   "execution_count": 1,
   "id": "01a03cd2-86b3-4559-b079-ca65d04ab873",
   "metadata": {},
   "outputs": [],
   "source": [
    "\n",
    "from frugal_flows.causal_flows import (train_frugal_flow, \n",
    "                                        train_copula_flow, \n",
    "                                        get_independent_quantiles, \n",
    "                                        univariate_discrete_cdf,\n",
    "                                        independent_continuous_marginal_flow)\n",
    "\n",
    "from frugal_flows.sample_marginals import from_quantiles_to_marginal_discr, from_quantiles_to_marginal_cont\n",
    "\n",
    "from flowjax.distributions import AbstractDistribution #Transformed, Uniform, _StandardUniform\n",
    "\n",
    "\n",
    "import equinox as eqx\n",
    "import jax\n",
    "import jax.numpy as jnp\n",
    "import jax.random as jr\n",
    "import numpy as np\n",
    "import optax\n",
    "from flowjax.bijections import (\n",
    "    Affine,\n",
    "    Concatenate,\n",
    "    Invert,\n",
    "    RationalQuadraticSpline,\n",
    "    Stack,\n",
    "    Tanh,\n",
    ")\n",
    "from flowjax.bijections.utils import Identity\n",
    "from flowjax.distributions import Transformed, Uniform, _StandardUniform\n",
    "from flowjax.flows import masked_autoregressive_flow\n",
    "from flowjax.train import fit_to_data\n",
    "from flowjax.utils import get_ravelled_pytree_constructor\n",
    "from flowjax.wrappers import NonTrainable\n",
    "from jaxtyping import ArrayLike\n",
    "from jax import Array\n",
    "from functools import partial\n",
    "\n",
    "SEED = 0\n",
    "\n",
    "jax.config.update(\"jax_enable_x64\", True)"
   ]
  },
  {
   "cell_type": "code",
   "execution_count": 2,
   "id": "f2a16e59-11f3-4f9c-b0d0-7dd170538844",
   "metadata": {},
   "outputs": [],
   "source": [
    "# DEPENDENT Zs\n",
    "n_samples = 5000\n",
    "key, subkey = jr.split(jr.PRNGKey(SEED))\n",
    "# continuous z\n",
    "z = jr.multivariate_normal(key, jnp.array([0.,0.,0.]), jnp.array([[1., 0.8, 0.8],[0.8, 1.,0.8], [0.8, 0.8, 1.0]]), shape=(n_samples,))"
   ]
  },
  {
   "cell_type": "code",
   "execution_count": 3,
   "id": "86b6efad-248c-4c4f-877d-1dfe4e65f61b",
   "metadata": {},
   "outputs": [],
   "source": [
    "z_cont = z[:,:2]"
   ]
  },
  {
   "cell_type": "code",
   "execution_count": 4,
   "id": "e96fab1c-aa7a-4cf2-bc04-5586c9fef13a",
   "metadata": {},
   "outputs": [],
   "source": [
    "u_z_discr = jax.scipy.stats.norm.cdf(z[:,2])"
   ]
  },
  {
   "cell_type": "code",
   "execution_count": 5,
   "id": "4d30c874-9554-4330-a3c8-974d7258b8f7",
   "metadata": {},
   "outputs": [],
   "source": [
    "z_discr_cdf = jnp.array([0.2, 0.6, 1.])"
   ]
  },
  {
   "cell_type": "code",
   "execution_count": 6,
   "id": "f1c5eeab-1874-4e94-a122-300f8a1337a0",
   "metadata": {},
   "outputs": [],
   "source": [
    "z_discr = jnp.digitize(u_z_discr, jnp.hstack([jnp.array(0.), z_discr_cdf]))-1"
   ]
  },
  {
   "cell_type": "markdown",
   "id": "6620a884-dd08-438b-b2a5-d67afb2c57c1",
   "metadata": {},
   "source": [
    "# Continuous case"
   ]
  },
  {
   "cell_type": "code",
   "execution_count": 7,
   "id": "c1c37658-ee9b-4bb7-ae18-56205b27d2d9",
   "metadata": {},
   "outputs": [],
   "source": [
    "# RQS_knots = 8\n",
    "# flow_layers = 8\n",
    "# nn_width= 50\n",
    "# nn_depth = 1\n",
    "# show_progress= True\n",
    "# learning_rate = 5e-4\n",
    "# max_epochs = 100\n",
    "# max_patience = 5\n",
    "# batch_size= 100\n",
    "# val_prop = 0.1"
   ]
  },
  {
   "cell_type": "code",
   "execution_count": 8,
   "id": "72c498e1-4a88-471d-8d25-2517861741d4",
   "metadata": {},
   "outputs": [
    {
     "name": "stderr",
     "output_type": "stream",
     "text": [
      " 21%|██▏       | 15/70 [00:08<00:29,  1.85it/s, train=1.4276604064603735, val=1.4458930514853645 (Max patience reached)]\n",
      " 79%|████████▋  | 55/70 [00:13<00:03,  4.18it/s, train=1.412444449580597, val=1.4502334410804223 (Max patience reached)]\n"
     ]
    }
   ],
   "source": [
    "res = get_independent_quantiles(key = jr.PRNGKey(3),\n",
    "                                z_discr=jnp.vstack([z_discr,z_discr]).T, #jnp.expand_dims(z_discr,axis=1), #impose discrete\n",
    "                                z_cont=z_cont,\n",
    "                                max_epochs = 70,\n",
    "                                max_patience=10,\n",
    "                                return_z_cont_flow = True,\n",
    "                             )"
   ]
  },
  {
   "cell_type": "code",
   "execution_count": 9,
   "id": "bd6a5ce4-b58a-41d2-a444-b7a47c124dae",
   "metadata": {},
   "outputs": [],
   "source": [
    "u_z = jr.uniform(jr.PRNGKey(8), (100,2))"
   ]
  },
  {
   "cell_type": "code",
   "execution_count": 10,
   "id": "a737f1f5-c54f-4ce2-a597-e32fe184458a",
   "metadata": {},
   "outputs": [],
   "source": [
    "marginal_samples_cont = from_quantiles_to_marginal_cont(key= jr.PRNGKey(8),\n",
    "                                    flow=res['z_cont_flows'],\n",
    "                                    u_z=u_z,\n",
    "                                   n_samples=100)"
   ]
  },
  {
   "cell_type": "code",
   "execution_count": 11,
   "id": "878df12e-ded5-4647-97bd-2abdd5c0da09",
   "metadata": {},
   "outputs": [
    {
     "data": {
      "text/plain": [
       "(100, 2)"
      ]
     },
     "execution_count": 11,
     "metadata": {},
     "output_type": "execute_result"
    }
   ],
   "source": [
    "marginal_samples_cont.shape"
   ]
  },
  {
   "cell_type": "code",
   "execution_count": 12,
   "id": "186b6285-b4e7-41f1-be00-603be2234cab",
   "metadata": {},
   "outputs": [],
   "source": [
    "marginal_samples_discr = from_quantiles_to_marginal_discr(key=key,\n",
    "                                    mappings=res['z_discr_rank_mapping'],\n",
    "                                    nvars=res['u_z_discr'].shape[1],\n",
    "                                    empirical_cdfs=res['z_discr_empirical_cdf_long'],\n",
    "                                    u_z=u_z,\n",
    "                                   n_samples=200)"
   ]
  },
  {
   "cell_type": "code",
   "execution_count": 13,
   "id": "bfe6af25-353b-4ca7-b84a-6870b2a2457c",
   "metadata": {},
   "outputs": [
    {
     "data": {
      "text/plain": [
       "(100, 2)"
      ]
     },
     "execution_count": 13,
     "metadata": {},
     "output_type": "execute_result"
    }
   ],
   "source": [
    "marginal_samples_discr.shape"
   ]
  }
 ],
 "metadata": {
  "kernelspec": {
   "display_name": "Python 3 (ipykernel)",
   "language": "python",
   "name": "python3"
  },
  "language_info": {
   "codemirror_mode": {
    "name": "ipython",
    "version": 3
   },
   "file_extension": ".py",
   "mimetype": "text/x-python",
   "name": "python",
   "nbconvert_exporter": "python",
   "pygments_lexer": "ipython3",
   "version": "3.11.9"
  }
 },
 "nbformat": 4,
 "nbformat_minor": 5
}
